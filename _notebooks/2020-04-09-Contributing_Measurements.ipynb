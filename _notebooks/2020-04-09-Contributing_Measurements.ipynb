{
 "cells": [
  {
   "cell_type": "markdown",
   "metadata": {},
   "source": [
    "# Contributing Measurements\n",
    "> Steps on how to add new measurements\n",
    "\n",
    "- toc: true \n",
    "- badges: true\n",
    "- comments: true\n",
    "- categories: [Contributing]\n",
    "- image: images/contributing.png"
   ]
  },
  {
   "cell_type": "markdown",
   "metadata": {},
   "source": [
    "# Add Measurements\n",
    "> Steps on how to add new measurements"
   ]
  },
  {
   "cell_type": "markdown",
   "metadata": {},
   "source": [
    "1. Create a csv file with the following columns: `NN_Topology,HWType,Precision,Op mode,batch/thread/stream,lat-comp,fps-system,fps-comp,tp-system,tp-comp,top1 [%],top5 [%],BasePWR [W],IdlePWR [W],FullPwr [W],GOPS,PruningFactor,level`.\n",
    "\n",
    "2. Rename the csv file with the name of the measured machine learning task, e.g. `imagenet.csv`.\n",
    "\n",
    "3. Enter your data in this new `.csv` file, leaving columns blank if data is not available.\n",
    "\n",
    "4. Log into your GitHub account and open https://github.com/RCL-lab/QutibenchWeb webpage.\n",
    "\n",
    "5. Under 'Issues' tab click on 'New Issue'. Fill up the form and attach your csv file. \n",
    "\n",
    "6. If you would like to add an image, attach it along with you csv file.\n",
    "\n",
    "7. Submit the issue.\n",
    "\n",
    "8. The csv file data will be processed and deployed to this website after a brief while.\n",
    "\n",
    "9. Thank you for taking the time and contributing. "
   ]
  },
  {
   "cell_type": "markdown",
   "metadata": {},
   "source": [
    "#hide\n",
    "1. Copy the file `data/data_template.csv` file and rename it with the name of your machine learning benchmark, e.g. `data/imagenet.csv`.\n",
    "\n",
    "2. Enter your data in this new `.csv` file, leaving columns blank if data is not available\n",
    "\n",
    "3. Copy `2020-01-01-Jupyter_benchmark_template.ipynb` and rename it in the format `yyyy-mm-dd-benchmark_name.ipynb` e.g. `2020-01-01-imagenet.ipynb`.\n",
    "\n",
    "4. Using jupyter Notebook/Lab, open the new notebook. Update the metadata in the first cell, (categories, title, subtitle) as well as the `csv_path` variable to point to your new data. If you would like to add an image, include it in the `images/` folder of the repo and include a link in the metadata under the `image` field.\n",
    "\n",
    "5. Run all cells of the notebook (there's a shortcut for this) and ensure that all plots are displaying as they should.\n",
    "\n",
    "6. Commit your new work in `git`, and push/open a pull request in the repository. Once changes are merged they will go live on the website within a few minutes.\""
   ]
  },
  {
   "cell_type": "code",
   "execution_count": null,
   "metadata": {},
   "outputs": [],
   "source": []
  }
 ],
 "metadata": {
  "kernelspec": {
   "display_name": "Python 3",
   "language": "python",
   "name": "python3"
  },
  "language_info": {
   "codemirror_mode": {
    "name": "ipython",
    "version": 3
   },
   "file_extension": ".py",
   "mimetype": "text/x-python",
   "name": "python",
   "nbconvert_exporter": "python",
   "pygments_lexer": "ipython3",
   "version": "3.8.3"
  },
  "widgets": {
   "application/vnd.jupyter.widget-state+json": {
    "state": {},
    "version_major": 2,
    "version_minor": 0
   }
  }
 },
 "nbformat": 4,
 "nbformat_minor": 4
}
