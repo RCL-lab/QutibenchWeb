{
 "cells": [
  {
   "cell_type": "markdown",
   "metadata": {},
   "source": [
    "# MNIST Performance\n",
    "> Performance data for the MNIST benchmark\n",
    "\n",
    "- toc: true \n",
    "- badges: true\n",
    "- comments: true\n",
    "- categories: [l3, performance, MNIST]\n",
    "- image: images/mnist.png"
   ]
  },
  {
   "cell_type": "code",
   "execution_count": 1,
   "metadata": {},
   "outputs": [],
   "source": [
    "csv_path = \"./data/cleaned_csv/backup.csv\""
   ]
  },
  {
   "cell_type": "code",
   "execution_count": null,
   "metadata": {},
   "outputs": [],
   "source": []
  },
  {
   "cell_type": "markdown",
   "metadata": {},
   "source": [
    "# Theoretical Analysis for MNIST"
   ]
  },
  {
   "cell_type": "markdown",
   "metadata": {
    "collapsed": "true"
   },
   "source": [
    "### Rooflines"
   ]
  },
  {
   "cell_type": "code",
   "execution_count": 8,
   "metadata": {},
   "outputs": [
    {
     "data": {
      "text/html": [
       "\n",
       "<div id=\"altair-viz-fd8ef4b06f714cbcb62a30fe14539e9c\"></div>\n",
       "<script type=\"text/javascript\">\n",
       "  (function(spec, embedOpt){\n",
       "    const outputDiv = document.getElementById(\"altair-viz-fd8ef4b06f714cbcb62a30fe14539e9c\");\n",
       "    const paths = {\n",
       "      \"vega\": \"https://cdn.jsdelivr.net/npm//vega@5?noext\",\n",
       "      \"vega-lib\": \"https://cdn.jsdelivr.net/npm//vega-lib?noext\",\n",
       "      \"vega-lite\": \"https://cdn.jsdelivr.net/npm//vega-lite@4.0.2?noext\",\n",
       "      \"vega-embed\": \"https://cdn.jsdelivr.net/npm//vega-embed@6?noext\",\n",
       "    };\n",
       "\n",
       "    function loadScript(lib) {\n",
       "      return new Promise(function(resolve, reject) {\n",
       "        var s = document.createElement('script');\n",
       "        s.src = paths[lib];\n",
       "        s.async = true;\n",
       "        s.onload = () => resolve(paths[lib]);\n",
       "        s.onerror = () => reject(`Error loading script: ${paths[lib]}`);\n",
       "        document.getElementsByTagName(\"head\")[0].appendChild(s);\n",
       "      });\n",
       "    }\n",
       "\n",
       "    function showError(err) {\n",
       "      outputDiv.innerHTML = `<div class=\"error\" style=\"color:red;\">${err}</div>`;\n",
       "      throw err;\n",
       "    }\n",
       "\n",
       "    function displayChart(vegaEmbed) {\n",
       "      vegaEmbed(outputDiv, spec, embedOpt)\n",
       "        .catch(err => showError(`Javascript Error: ${err.message}<br>This usually means there's a typo in your chart specification. See the javascript console for the full traceback.`));\n",
       "    }\n",
       "\n",
       "    if(typeof define === \"function\" && define.amd) {\n",
       "      requirejs.config({paths});\n",
       "      require([\"vega-embed\"], displayChart, err => showError(`Error loading script: ${err.message}`));\n",
       "    } else if (typeof vegaEmbed === \"function\") {\n",
       "      displayChart(vegaEmbed);\n",
       "    } else {\n",
       "      loadScript(\"vega\")\n",
       "        .then(() => loadScript(\"vega-lite\"))\n",
       "        .then(() => loadScript(\"vega-embed\"))\n",
       "        .catch(showError)\n",
       "        .then(() => displayChart(vegaEmbed));\n",
       "    }\n",
       "  })({\"config\": {\"view\": {\"continuousWidth\": 400, \"continuousHeight\": 300}}, \"layer\": [{\"layer\": [{\"data\": {\"name\": \"data-c029efffd9f8d6118615672032008af1\"}, \"mark\": {\"type\": \"line\", \"clip\": true}, \"encoding\": {\"color\": {\"condition\": {\"type\": \"nominal\", \"field\": \"Name\", \"selection\": \"MNIST MLP\"}, \"value\": \"lightgray\"}, \"x\": {\"type\": \"quantitative\", \"field\": \"arith_intens\", \"scale\": {\"domain\": [0.1, 160000], \"type\": \"log\"}, \"title\": \"ARITHMETIC INTENSITY (OPS/BYTE)\"}, \"y\": {\"type\": \"quantitative\", \"field\": \"performance\", \"scale\": {\"domain\": [0.2, 40], \"type\": \"log\"}, \"title\": \"PERFORMANCE (TOPS/S)\"}}, \"height\": 500, \"selection\": {\"MNIST MLP\": {\"type\": \"single\", \"fields\": [\"Hide\"], \"bind\": {\"input\": \"checkbox\"}}}, \"title\": \"Comparing Hardware Platforms Rooflines and Neural Networks Arithmetic Intensity\", \"width\": 700}, {\"data\": {\"name\": \"data-9118c837affc83f99762b72e52c7e347\"}, \"mark\": {\"type\": \"line\", \"clip\": true}, \"encoding\": {\"color\": {\"condition\": {\"type\": \"nominal\", \"field\": \"Name\", \"selection\": \"FPGAs Ultra96 DPU ZCU\"}, \"value\": \"lightgray\"}, \"x\": {\"type\": \"quantitative\", \"field\": \"arith_intens\", \"scale\": {\"domain\": [0.1, 160000], \"type\": \"log\"}, \"title\": \"ARITHMETIC INTENSITY (OPS/BYTE)\"}, \"y\": {\"type\": \"quantitative\", \"field\": \"performance\", \"scale\": {\"domain\": [0.2, 40], \"type\": \"log\"}, \"title\": \"PERFORMANCE (TOPS/S)\"}}, \"height\": 500, \"selection\": {\"FPGAs Ultra96 DPU ZCU\": {\"type\": \"single\", \"fields\": [\"Hide\"], \"bind\": {\"input\": \"checkbox\"}}}, \"title\": \"Comparing Hardware Platforms Rooflines and Neural Networks Arithmetic Intensity\", \"width\": 700}, {\"data\": {\"name\": \"data-bb124781430565257d56155f96d0b843\"}, \"mark\": {\"type\": \"line\", \"clip\": true}, \"encoding\": {\"color\": {\"condition\": {\"type\": \"nominal\", \"field\": \"Name\", \"selection\": \"HNVIDIA TX2 maxn,maxp,maxq\"}, \"value\": \"lightgray\"}, \"x\": {\"type\": \"quantitative\", \"field\": \"arith_intens\", \"scale\": {\"domain\": [0.1, 160000], \"type\": \"log\"}, \"title\": \"ARITHMETIC INTENSITY (OPS/BYTE)\"}, \"y\": {\"type\": \"quantitative\", \"field\": \"performance\", \"scale\": {\"domain\": [0.2, 40], \"type\": \"log\"}, \"title\": \"PERFORMANCE (TOPS/S)\"}}, \"height\": 500, \"selection\": {\"HNVIDIA TX2 maxn,maxp,maxq\": {\"type\": \"single\", \"fields\": [\"Hide\"], \"bind\": {\"input\": \"checkbox\"}}}, \"title\": \"Comparing Hardware Platforms Rooflines and Neural Networks Arithmetic Intensity\", \"width\": 700}, {\"data\": {\"name\": \"data-9a1ce48a3484680f845156782ba6ab5e\"}, \"mark\": {\"type\": \"line\", \"clip\": true}, \"encoding\": {\"color\": {\"condition\": {\"type\": \"nominal\", \"field\": \"Name\", \"selection\": \"GOOGLE TPU,fast,slow\"}, \"value\": \"lightgray\"}, \"x\": {\"type\": \"quantitative\", \"field\": \"arith_intens\", \"scale\": {\"domain\": [0.1, 160000], \"type\": \"log\"}, \"title\": \"ARITHMETIC INTENSITY (OPS/BYTE)\"}, \"y\": {\"type\": \"quantitative\", \"field\": \"performance\", \"scale\": {\"domain\": [0.2, 40], \"type\": \"log\"}, \"title\": \"PERFORMANCE (TOPS/S)\"}}, \"height\": 500, \"selection\": {\"GOOGLE TPU,fast,slow\": {\"type\": \"single\", \"fields\": [\"Hide\"], \"bind\": {\"input\": \"checkbox\"}}}, \"title\": \"Comparing Hardware Platforms Rooflines and Neural Networks Arithmetic Intensity\", \"width\": 700}, {\"data\": {\"name\": \"data-b9a4e6b9702b6d97b53c00d35908a722\"}, \"mark\": {\"type\": \"line\", \"clip\": true}, \"encoding\": {\"color\": {\"condition\": {\"type\": \"nominal\", \"field\": \"Name\", \"selection\": \"INTEL NCS\"}, \"value\": \"lightgray\"}, \"x\": {\"type\": \"quantitative\", \"field\": \"arith_intens\", \"scale\": {\"domain\": [0.1, 160000], \"type\": \"log\"}, \"title\": \"ARITHMETIC INTENSITY (OPS/BYTE)\"}, \"y\": {\"type\": \"quantitative\", \"field\": \"performance\", \"scale\": {\"domain\": [0.2, 40], \"type\": \"log\"}, \"title\": \"PERFORMANCE (TOPS/S)\"}}, \"height\": 500, \"selection\": {\"INTEL NCS\": {\"type\": \"single\", \"fields\": [\"Hide\"], \"bind\": {\"input\": \"checkbox\"}}}, \"title\": \"Comparing Hardware Platforms Rooflines and Neural Networks Arithmetic Intensity\", \"width\": 700}]}, {\"mark\": {\"type\": \"point\", \"clip\": true}, \"encoding\": {\"opacity\": {\"value\": 0}, \"x\": {\"type\": \"quantitative\", \"field\": \"arith_intens\"}, \"y\": {\"type\": \"quantitative\", \"field\": \"performance\"}}, \"selection\": {\"selector007\": {\"type\": \"single\", \"nearest\": true, \"on\": \"mouseover\", \"fields\": [\"arith_intens\"]}}}, {\"mark\": {\"type\": \"text\", \"align\": \"left\", \"clip\": true, \"dx\": 3, \"dy\": -3}, \"encoding\": {\"color\": {\"type\": \"nominal\", \"field\": \"Name\", \"legend\": {\"columns\": 2}}, \"text\": {\"condition\": {\"type\": \"nominal\", \"field\": \"Name\", \"selection\": \"selector007\"}, \"value\": \" \"}, \"x\": {\"type\": \"quantitative\", \"field\": \"arith_intens\"}, \"y\": {\"type\": \"quantitative\", \"field\": \"performance\"}}, \"selection\": {\"selector006\": {\"type\": \"interval\", \"bind\": \"scales\", \"encodings\": [\"x\", \"y\"]}}}], \"data\": {\"name\": \"data-80c58ae94794ed7fda68bcec41c4a34b\"}, \"height\": 500, \"width\": 700, \"$schema\": \"https://vega.github.io/schema/vega-lite/v4.0.2.json\", \"datasets\": {\"data-80c58ae94794ed7fda68bcec41c4a34b\": [{\"Name\": \"Ultra96 DPU INT8\", \"arith_intens\": 1.0, \"performance\": 0.00426}, {\"Name\": \"Ultra96 DPU INT8\", \"arith_intens\": 226.1, \"performance\": 0.96}, {\"Name\": \"Ultra96 DPU INT8\", \"arith_intens\": 160000.0, \"performance\": 0.96}, {\"Name\": \"ZCU104 INT8\", \"arith_intens\": 1.0, \"performance\": 0.0192}, {\"Name\": \"ZCU104 INT8\", \"arith_intens\": 240.1, \"performance\": 4.6}, {\"Name\": \"ZCU104 INT8\", \"arith_intens\": 160000.0, \"performance\": 4.6}, {\"Name\": \"ZCU102 INT8\", \"arith_intens\": 1.0, \"performance\": 0.0192}, {\"Name\": \"ZCU102 INT8\", \"arith_intens\": 350.1, \"performance\": 6.71}, {\"Name\": \"ZCU102 INT8\", \"arith_intens\": 160000.0, \"performance\": 6.71}, {\"Name\": \"ZCU104 FINN INT2\", \"arith_intens\": 1.0, \"performance\": 0.0192}, {\"Name\": \"ZCU104 FINN INT2\", \"arith_intens\": 1599.1, \"performance\": 30.7}, {\"Name\": \"ZCU104 FINN INT2\", \"arith_intens\": 160000.0, \"performance\": 30.7}, {\"Name\": \"ZCU104 FINN INT4\", \"arith_intens\": 1.0, \"performance\": 0.0192}, {\"Name\": \"ZCU104 FINN INT4\", \"arith_intens\": 459.1, \"performance\": 8.8}, {\"Name\": \"ZCU104 FINN INT4\", \"arith_intens\": 160000.0, \"performance\": 8.8}, {\"Name\": \"ZCU104 FINN INT8\", \"arith_intens\": 1.0, \"performance\": 0.0192}, {\"Name\": \"ZCU104 FINN INT8\", \"arith_intens\": 183.1, \"performance\": 3.5}, {\"Name\": \"ZCU104 FINN INT8\", \"arith_intens\": 160000.0, \"performance\": 3.5}, {\"Name\": \"ZCU104 FINN FP16\", \"arith_intens\": 1.0, \"performance\": 0.0192}, {\"Name\": \"ZCU104 FINN FP16\", \"arith_intens\": 91.1, \"performance\": 1.73}, {\"Name\": \"ZCU104 FINN FP16\", \"arith_intens\": 160000.0, \"performance\": 1.73}, {\"Name\": \"ZCU104 BISMO INT2\", \"arith_intens\": 1.0, \"performance\": 0.0192}, {\"Name\": \"ZCU104 BISMO INT2\", \"arith_intens\": 128.1, \"performance\": 2.45}, {\"Name\": \"ZCU104 BISMO INT2\", \"arith_intens\": 160000.0, \"performance\": 2.45}, {\"Name\": \"ZCU104 BISMO INT4\", \"arith_intens\": 1.0, \"performance\": 0.0192}, {\"Name\": \"ZCU104 BISMO INT4\", \"arith_intens\": 32.1, \"performance\": 0.61}, {\"Name\": \"ZCU104 BISMO INT4\", \"arith_intens\": 160000.0, \"performance\": 0.61}, {\"Name\": \"TX2 maxn FP16\", \"arith_intens\": 1.0, \"performance\": 0.0597}, {\"Name\": \"TX2 maxn FP16\", \"arith_intens\": 23.1, \"performance\": 1.33}, {\"Name\": \"TX2 maxn FP16\", \"arith_intens\": 160000.0, \"performance\": 1.33}, {\"Name\": \"TX2 maxn FP32\", \"arith_intens\": 1.0, \"performance\": 0.0597}, {\"Name\": \"TX2 maxn FP32\", \"arith_intens\": 12.1, \"performance\": 0.67}, {\"Name\": \"TX2 maxn FP32\", \"arith_intens\": 160000.0, \"performance\": 0.67}, {\"Name\": \"TX2 maxp FP16\", \"arith_intens\": 1.0, \"performance\": 0.0597}, {\"Name\": \"TX2 maxp FP16\", \"arith_intens\": 20.1, \"performance\": 1.15}, {\"Name\": \"TX2 maxp FP16\", \"arith_intens\": 160000.0, \"performance\": 1.15}, {\"Name\": \"TX2 maxp FP32\", \"arith_intens\": 1.0, \"performance\": 0.0597}, {\"Name\": \"TX2 maxp FP32\", \"arith_intens\": 10.1, \"performance\": 0.57}, {\"Name\": \"TX2 maxp FP32\", \"arith_intens\": 160000.0, \"performance\": 0.57}, {\"Name\": \"TX2 maxq FP16\", \"arith_intens\": 1.0, \"performance\": 0.0597}, {\"Name\": \"TX2 maxq FP16\", \"arith_intens\": 15.1, \"performance\": 0.87}, {\"Name\": \"TX2 maxq FP16\", \"arith_intens\": 160000.0, \"performance\": 0.87}, {\"Name\": \"TX2 maxq FP32\", \"arith_intens\": 1.0, \"performance\": 0.0597}, {\"Name\": \"TX2 maxq FP32\", \"arith_intens\": 8.1, \"performance\": 0.44}, {\"Name\": \"TX2 maxq FP32\", \"arith_intens\": 160000.0, \"performance\": 0.44}, {\"Name\": \"TPU fast INT8\", \"arith_intens\": 1.0, \"performance\": 0.0256}, {\"Name\": \"TPU fast INT8\", \"arith_intens\": 157.1, \"performance\": 4.0}, {\"Name\": \"TPU fast INT8\", \"arith_intens\": 160000.0, \"performance\": 4.0}, {\"Name\": \"TPU slow INT8\", \"arith_intens\": 1.0, \"performance\": 0.0256}, {\"Name\": \"TPU slow INT8\", \"arith_intens\": 79.1, \"performance\": 2.0}, {\"Name\": \"TPU slow INT8\", \"arith_intens\": 160000.0, \"performance\": 2.0}, {\"Name\": \"NCS INT8\", \"arith_intens\": 1.0, \"performance\": 0.0128}, {\"Name\": \"NCS INT8\", \"arith_intens\": 79.1, \"performance\": 1.0}, {\"Name\": \"NCS INT8\", \"arith_intens\": 160000.0, \"performance\": 1.0}, {\"Name\": \"NCS FP16\", \"arith_intens\": 1.0, \"performance\": 0.0128}, {\"Name\": \"NCS FP16\", \"arith_intens\": 39.1, \"performance\": 0.5}, {\"Name\": \"NCS FP16\", \"arith_intens\": 160000.0, \"performance\": 0.5}, {\"Name\": \"MobileNet V1\", \"arith_intens\": 23878.0, \"performance\": 100.0}, {\"Name\": \"AlexNet\", \"arith_intens\": 2995.0, \"performance\": 100.0}, {\"Name\": \"GoogLeNet V1\", \"arith_intens\": 29988.0, \"performance\": 100.0}, {\"Name\": \"ResNet-18\", \"arith_intens\": 39950.0, \"performance\": 100.0}, {\"Name\": \"ResNet-34\", \"arith_intens\": 43169.0, \"performance\": 100.0}, {\"Name\": \"VGG16_BN\", \"arith_intens\": 7183.0, \"performance\": 100.0}, {\"Name\": \"ResNet-101\", \"arith_intens\": 22671.0, \"performance\": 100.0}, {\"Name\": \"ResNet-34-SSD\", \"arith_intens\": 51070.0, \"performance\": 100.0}, {\"Name\": \"ResNet-50\", \"arith_intens\": 41475.0, \"performance\": 100.0}, {\"Name\": \"ResNet-152\", \"arith_intens\": 24587.0, \"performance\": 100.0}, {\"Name\": \"MaskRCNN\", \"arith_intens\": 145921.0, \"performance\": 100.0}, {\"Name\": \"GNMT\", \"arith_intens\": 6086.0, \"performance\": 100.0}, {\"Name\": \"ResNet-50\", \"arith_intens\": 82560.0, \"performance\": 100.0}, {\"Name\": \"MaskRCNN\", \"arith_intens\": 145921.0, \"performance\": 100.0}, {\"Name\": \"MobileNet V2\", \"arith_intens\": 12464.0, \"performance\": 100.0}, {\"Name\": \"GNMT\", \"arith_intens\": 9009.0, \"performance\": 100.0}, {\"Name\": \"MLP\", \"arith_intens\": 2.0, \"performance\": 100.0}, {\"Name\": \"CNV\", \"arith_intens\": 76.0, \"performance\": 100.0}, {\"Name\": \"CNV-50%\", \"arith_intens\": 77.0, \"performance\": 100.0}, {\"Name\": \"CNV-25%\", \"arith_intens\": 78.0, \"performance\": 100.0}, {\"Name\": \"CNV-12.5%\", \"arith_intens\": 83.0, \"performance\": 100.0}, {\"Name\": \"MLP-50%\", \"arith_intens\": 2.0, \"performance\": 100.0}, {\"Name\": \"MLP-25%\", \"arith_intens\": 2.0, \"performance\": 100.0}, {\"Name\": \"MobileNet V1\", \"arith_intens\": 23878.0, \"performance\": 25.0}, {\"Name\": \"AlexNet\", \"arith_intens\": 2995.0, \"performance\": 25.0}, {\"Name\": \"GoogLeNet V1\", \"arith_intens\": 29988.0, \"performance\": 25.0}, {\"Name\": \"ResNet-18\", \"arith_intens\": 39950.0, \"performance\": 25.0}, {\"Name\": \"ResNet-34\", \"arith_intens\": 43169.0, \"performance\": 25.0}, {\"Name\": \"VGG16_BN\", \"arith_intens\": 7183.0, \"performance\": 25.0}, {\"Name\": \"ResNet-101\", \"arith_intens\": 22671.0, \"performance\": 25.0}, {\"Name\": \"ResNet-34-SSD\", \"arith_intens\": 51070.0, \"performance\": 25.0}, {\"Name\": \"ResNet-50\", \"arith_intens\": 41475.0, \"performance\": 25.0}, {\"Name\": \"ResNet-152\", \"arith_intens\": 24587.0, \"performance\": 25.0}, {\"Name\": \"MaskRCNN\", \"arith_intens\": 145921.0, \"performance\": 25.0}, {\"Name\": \"GNMT\", \"arith_intens\": 6086.0, \"performance\": 25.0}, {\"Name\": \"ResNet-50\", \"arith_intens\": 82560.0, \"performance\": 25.0}, {\"Name\": \"MaskRCNN\", \"arith_intens\": 145921.0, \"performance\": 25.0}, {\"Name\": \"MobileNet V2\", \"arith_intens\": 12464.0, \"performance\": 25.0}, {\"Name\": \"GNMT\", \"arith_intens\": 9009.0, \"performance\": 25.0}, {\"Name\": \"MLP\", \"arith_intens\": 2.0, \"performance\": 25.0}, {\"Name\": \"CNV\", \"arith_intens\": 76.0, \"performance\": 25.0}, {\"Name\": \"CNV-50%\", \"arith_intens\": 77.0, \"performance\": 25.0}, {\"Name\": \"CNV-25%\", \"arith_intens\": 78.0, \"performance\": 25.0}, {\"Name\": \"CNV-12.5%\", \"arith_intens\": 83.0, \"performance\": 25.0}, {\"Name\": \"MLP-50%\", \"arith_intens\": 2.0, \"performance\": 25.0}, {\"Name\": \"MLP-25%\", \"arith_intens\": 2.0, \"performance\": 25.0}, {\"Name\": \"MobileNet V1\", \"arith_intens\": 23878.0, \"performance\": 75.0}, {\"Name\": \"AlexNet\", \"arith_intens\": 2995.0, \"performance\": 75.0}, {\"Name\": \"GoogLeNet V1\", \"arith_intens\": 29988.0, \"performance\": 75.0}, {\"Name\": \"ResNet-18\", \"arith_intens\": 39950.0, \"performance\": 75.0}, {\"Name\": \"ResNet-34\", \"arith_intens\": 43169.0, \"performance\": 75.0}, {\"Name\": \"VGG16_BN\", \"arith_intens\": 7183.0, \"performance\": 75.0}, {\"Name\": \"ResNet-101\", \"arith_intens\": 22671.0, \"performance\": 75.0}, {\"Name\": \"ResNet-34-SSD\", \"arith_intens\": 51070.0, \"performance\": 75.0}, {\"Name\": \"ResNet-50\", \"arith_intens\": 41475.0, \"performance\": 75.0}, {\"Name\": \"ResNet-152\", \"arith_intens\": 24587.0, \"performance\": 75.0}, {\"Name\": \"MaskRCNN\", \"arith_intens\": 145921.0, \"performance\": 75.0}, {\"Name\": \"GNMT\", \"arith_intens\": 6086.0, \"performance\": 75.0}, {\"Name\": \"ResNet-50\", \"arith_intens\": 82560.0, \"performance\": 75.0}, {\"Name\": \"MaskRCNN\", \"arith_intens\": 145921.0, \"performance\": 75.0}, {\"Name\": \"MobileNet V2\", \"arith_intens\": 12464.0, \"performance\": 75.0}, {\"Name\": \"GNMT\", \"arith_intens\": 9009.0, \"performance\": 75.0}, {\"Name\": \"MLP\", \"arith_intens\": 2.0, \"performance\": 75.0}, {\"Name\": \"CNV\", \"arith_intens\": 76.0, \"performance\": 75.0}, {\"Name\": \"CNV-50%\", \"arith_intens\": 77.0, \"performance\": 75.0}, {\"Name\": \"CNV-25%\", \"arith_intens\": 78.0, \"performance\": 75.0}, {\"Name\": \"CNV-12.5%\", \"arith_intens\": 83.0, \"performance\": 75.0}, {\"Name\": \"MLP-50%\", \"arith_intens\": 2.0, \"performance\": 75.0}, {\"Name\": \"MLP-25%\", \"arith_intens\": 2.0, \"performance\": 75.0}, {\"Name\": \"MobileNet V1\", \"arith_intens\": 23878.0, \"performance\": 1e-06}, {\"Name\": \"AlexNet\", \"arith_intens\": 2995.0, \"performance\": 1e-06}, {\"Name\": \"GoogLeNet V1\", \"arith_intens\": 29988.0, \"performance\": 1e-06}, {\"Name\": \"ResNet-18\", \"arith_intens\": 39950.0, \"performance\": 1e-06}, {\"Name\": \"ResNet-34\", \"arith_intens\": 43169.0, \"performance\": 1e-06}, {\"Name\": \"VGG16_BN\", \"arith_intens\": 7183.0, \"performance\": 1e-06}, {\"Name\": \"ResNet-101\", \"arith_intens\": 22671.0, \"performance\": 1e-06}, {\"Name\": \"ResNet-34-SSD\", \"arith_intens\": 51070.0, \"performance\": 1e-06}, {\"Name\": \"ResNet-50\", \"arith_intens\": 41475.0, \"performance\": 1e-06}, {\"Name\": \"ResNet-152\", \"arith_intens\": 24587.0, \"performance\": 1e-06}, {\"Name\": \"MaskRCNN\", \"arith_intens\": 145921.0, \"performance\": 1e-06}, {\"Name\": \"GNMT\", \"arith_intens\": 6086.0, \"performance\": 1e-06}, {\"Name\": \"ResNet-50\", \"arith_intens\": 82560.0, \"performance\": 1e-06}, {\"Name\": \"MaskRCNN\", \"arith_intens\": 145921.0, \"performance\": 1e-06}, {\"Name\": \"MobileNet V2\", \"arith_intens\": 12464.0, \"performance\": 1e-06}, {\"Name\": \"GNMT\", \"arith_intens\": 9009.0, \"performance\": 1e-06}, {\"Name\": \"MLP\", \"arith_intens\": 2.0, \"performance\": 1e-06}, {\"Name\": \"CNV\", \"arith_intens\": 76.0, \"performance\": 1e-06}, {\"Name\": \"CNV-50%\", \"arith_intens\": 77.0, \"performance\": 1e-06}, {\"Name\": \"CNV-25%\", \"arith_intens\": 78.0, \"performance\": 1e-06}, {\"Name\": \"CNV-12.5%\", \"arith_intens\": 83.0, \"performance\": 1e-06}, {\"Name\": \"MLP-50%\", \"arith_intens\": 2.0, \"performance\": 1e-06}, {\"Name\": \"MLP-25%\", \"arith_intens\": 2.0, \"performance\": 1e-06}], \"data-c029efffd9f8d6118615672032008af1\": [{\"Name\": \"MLP\", \"arith_intens\": 2.0, \"performance\": 100.0}, {\"Name\": \"MLP-50%\", \"arith_intens\": 2.0, \"performance\": 100.0}, {\"Name\": \"MLP-25%\", \"arith_intens\": 2.0, \"performance\": 100.0}, {\"Name\": \"MLP\", \"arith_intens\": 2.0, \"performance\": 25.0}, {\"Name\": \"MLP-50%\", \"arith_intens\": 2.0, \"performance\": 25.0}, {\"Name\": \"MLP-25%\", \"arith_intens\": 2.0, \"performance\": 25.0}, {\"Name\": \"MLP\", \"arith_intens\": 2.0, \"performance\": 75.0}, {\"Name\": \"MLP-50%\", \"arith_intens\": 2.0, \"performance\": 75.0}, {\"Name\": \"MLP-25%\", \"arith_intens\": 2.0, \"performance\": 75.0}, {\"Name\": \"MLP\", \"arith_intens\": 2.0, \"performance\": 1e-06}, {\"Name\": \"MLP-50%\", \"arith_intens\": 2.0, \"performance\": 1e-06}, {\"Name\": \"MLP-25%\", \"arith_intens\": 2.0, \"performance\": 1e-06}], \"data-9118c837affc83f99762b72e52c7e347\": [{\"Name\": \"Ultra96 DPU INT8\", \"arith_intens\": 1.0, \"performance\": 0.00426}, {\"Name\": \"Ultra96 DPU INT8\", \"arith_intens\": 226.1, \"performance\": 0.96}, {\"Name\": \"Ultra96 DPU INT8\", \"arith_intens\": 160000.0, \"performance\": 0.96}, {\"Name\": \"ZCU104 INT8\", \"arith_intens\": 1.0, \"performance\": 0.0192}, {\"Name\": \"ZCU104 INT8\", \"arith_intens\": 240.1, \"performance\": 4.6}, {\"Name\": \"ZCU104 INT8\", \"arith_intens\": 160000.0, \"performance\": 4.6}, {\"Name\": \"ZCU102 INT8\", \"arith_intens\": 1.0, \"performance\": 0.0192}, {\"Name\": \"ZCU102 INT8\", \"arith_intens\": 350.1, \"performance\": 6.71}, {\"Name\": \"ZCU102 INT8\", \"arith_intens\": 160000.0, \"performance\": 6.71}, {\"Name\": \"ZCU104 FINN INT2\", \"arith_intens\": 1.0, \"performance\": 0.0192}, {\"Name\": \"ZCU104 FINN INT2\", \"arith_intens\": 1599.1, \"performance\": 30.7}, {\"Name\": \"ZCU104 FINN INT2\", \"arith_intens\": 160000.0, \"performance\": 30.7}, {\"Name\": \"ZCU104 FINN INT4\", \"arith_intens\": 1.0, \"performance\": 0.0192}, {\"Name\": \"ZCU104 FINN INT4\", \"arith_intens\": 459.1, \"performance\": 8.8}, {\"Name\": \"ZCU104 FINN INT4\", \"arith_intens\": 160000.0, \"performance\": 8.8}, {\"Name\": \"ZCU104 FINN INT8\", \"arith_intens\": 1.0, \"performance\": 0.0192}, {\"Name\": \"ZCU104 FINN INT8\", \"arith_intens\": 183.1, \"performance\": 3.5}, {\"Name\": \"ZCU104 FINN INT8\", \"arith_intens\": 160000.0, \"performance\": 3.5}, {\"Name\": \"ZCU104 FINN FP16\", \"arith_intens\": 1.0, \"performance\": 0.0192}, {\"Name\": \"ZCU104 FINN FP16\", \"arith_intens\": 91.1, \"performance\": 1.73}, {\"Name\": \"ZCU104 FINN FP16\", \"arith_intens\": 160000.0, \"performance\": 1.73}, {\"Name\": \"ZCU104 BISMO INT2\", \"arith_intens\": 1.0, \"performance\": 0.0192}, {\"Name\": \"ZCU104 BISMO INT2\", \"arith_intens\": 128.1, \"performance\": 2.45}, {\"Name\": \"ZCU104 BISMO INT2\", \"arith_intens\": 160000.0, \"performance\": 2.45}, {\"Name\": \"ZCU104 BISMO INT4\", \"arith_intens\": 1.0, \"performance\": 0.0192}, {\"Name\": \"ZCU104 BISMO INT4\", \"arith_intens\": 32.1, \"performance\": 0.61}, {\"Name\": \"ZCU104 BISMO INT4\", \"arith_intens\": 160000.0, \"performance\": 0.61}], \"data-bb124781430565257d56155f96d0b843\": [{\"Name\": \"TX2 maxn FP16\", \"arith_intens\": 1.0, \"performance\": 0.0597}, {\"Name\": \"TX2 maxn FP16\", \"arith_intens\": 23.1, \"performance\": 1.33}, {\"Name\": \"TX2 maxn FP16\", \"arith_intens\": 160000.0, \"performance\": 1.33}, {\"Name\": \"TX2 maxn FP32\", \"arith_intens\": 1.0, \"performance\": 0.0597}, {\"Name\": \"TX2 maxn FP32\", \"arith_intens\": 12.1, \"performance\": 0.67}, {\"Name\": \"TX2 maxn FP32\", \"arith_intens\": 160000.0, \"performance\": 0.67}, {\"Name\": \"TX2 maxp FP16\", \"arith_intens\": 1.0, \"performance\": 0.0597}, {\"Name\": \"TX2 maxp FP16\", \"arith_intens\": 20.1, \"performance\": 1.15}, {\"Name\": \"TX2 maxp FP16\", \"arith_intens\": 160000.0, \"performance\": 1.15}, {\"Name\": \"TX2 maxp FP32\", \"arith_intens\": 1.0, \"performance\": 0.0597}, {\"Name\": \"TX2 maxp FP32\", \"arith_intens\": 10.1, \"performance\": 0.57}, {\"Name\": \"TX2 maxp FP32\", \"arith_intens\": 160000.0, \"performance\": 0.57}, {\"Name\": \"TX2 maxq FP16\", \"arith_intens\": 1.0, \"performance\": 0.0597}, {\"Name\": \"TX2 maxq FP16\", \"arith_intens\": 15.1, \"performance\": 0.87}, {\"Name\": \"TX2 maxq FP16\", \"arith_intens\": 160000.0, \"performance\": 0.87}, {\"Name\": \"TX2 maxq FP32\", \"arith_intens\": 1.0, \"performance\": 0.0597}, {\"Name\": \"TX2 maxq FP32\", \"arith_intens\": 8.1, \"performance\": 0.44}, {\"Name\": \"TX2 maxq FP32\", \"arith_intens\": 160000.0, \"performance\": 0.44}], \"data-9a1ce48a3484680f845156782ba6ab5e\": [{\"Name\": \"TPU fast INT8\", \"arith_intens\": 1.0, \"performance\": 0.0256}, {\"Name\": \"TPU fast INT8\", \"arith_intens\": 157.1, \"performance\": 4.0}, {\"Name\": \"TPU fast INT8\", \"arith_intens\": 160000.0, \"performance\": 4.0}, {\"Name\": \"TPU slow INT8\", \"arith_intens\": 1.0, \"performance\": 0.0256}, {\"Name\": \"TPU slow INT8\", \"arith_intens\": 79.1, \"performance\": 2.0}, {\"Name\": \"TPU slow INT8\", \"arith_intens\": 160000.0, \"performance\": 2.0}], \"data-b9a4e6b9702b6d97b53c00d35908a722\": [{\"Name\": \"NCS INT8\", \"arith_intens\": 1.0, \"performance\": 0.0128}, {\"Name\": \"NCS INT8\", \"arith_intens\": 79.1, \"performance\": 1.0}, {\"Name\": \"NCS INT8\", \"arith_intens\": 160000.0, \"performance\": 1.0}, {\"Name\": \"NCS FP16\", \"arith_intens\": 1.0, \"performance\": 0.0128}, {\"Name\": \"NCS FP16\", \"arith_intens\": 39.1, \"performance\": 0.5}, {\"Name\": \"NCS FP16\", \"arith_intens\": 160000.0, \"performance\": 0.5}]}}, {\"mode\": \"vega-lite\"});\n",
       "</script>"
      ],
      "text/plain": [
       "alt.LayerChart(...)"
      ]
     },
     "execution_count": 8,
     "metadata": {},
     "output_type": "execute_result"
    }
   ],
   "source": [
    "#hide_input\n",
    "%run scripts/altair_plots.py  #run the heatmaps script\n",
    "#load dataset and plot it\n",
    "rooflines(pd.read_csv(\"data/processed_csv/rooflines_hardware_neural_networks.csv\"), 'mnist')"
   ]
  },
  {
   "cell_type": "markdown",
   "metadata": {},
   "source": [
    "# Experimental Results"
   ]
  },
  {
   "cell_type": "code",
   "execution_count": 3,
   "metadata": {},
   "outputs": [],
   "source": [
    "#hide\n",
    "import pandas as pd\n",
    "import numpy as np\n",
    "import altair as alt\n",
    "\n",
    "W = 600\n",
    "H = 480"
   ]
  },
  {
   "cell_type": "code",
   "execution_count": 4,
   "metadata": {},
   "outputs": [],
   "source": [
    "#hide\n",
    "#%writefile scripts/utils.py\n",
    "def norm_by_group(df, column, group_col):\n",
    "    \"\"\" Normalizes pandas series by group \"\"\"\n",
    "    df[\"norm-\"+column] = df.groupby(group_col)[column].apply(lambda x: (x / x.max()))\n",
    "    return df\n",
    "\n",
    "def select_color(sel, column):\n",
    "    \"\"\" Easy way to set colors based on selection for altair plots\n",
    "    \"\"\"\n",
    "    return alt.condition(sel, \n",
    "                      alt.Color(column),\n",
    "                      alt.value('lightgray'))\n",
    "\n",
    "def get_pareto_df(df, groupcol, xcol, ycol):\n",
    "    pareto_line_df = df.groupby(groupcol)[xcol].max().to_frame(\"x\")\n",
    "    pareto_line_df['y'] = df.groupby(groupcol)[ycol].agg(lambda x: x.value_counts().index[0])\n",
    "    pareto_line_df.sort_values('y', ascending=False, inplace=True)\n",
    "    pareto_line_df['x'] = pareto_line_df.x.cummax()\n",
    "    pareto_line_df.drop_duplicates('x', keep='first', inplace=True)\n",
    "    pareto_line_df['group'] = pareto_line_df.index\n",
    "    return pareto_line_df\n",
    "\n",
    "def label_point(x, y, val, ax, rot=0):\n",
    "    \"\"\" from https://stackoverflow.com/questions/46027653/adding-labels-in-x-y-scatter-plot-with-seaborn\"\"\"\n",
    "    a = pd.concat({'x': x, 'y': y, 'val': val}, axis=1)\n",
    "    for i, point in a.iterrows():\n",
    "        ax.text(point['x']+.02, point['y'], str(point['val']), rotation=rot)"
   ]
  },
  {
   "cell_type": "code",
   "execution_count": 5,
   "metadata": {},
   "outputs": [
    {
     "ename": "TypeError",
     "evalue": "sequence item 2: expected str instance, float found",
     "output_type": "error",
     "traceback": [
      "\u001b[1;31m---------------------------------------------------------------------------\u001b[0m",
      "\u001b[1;31mTypeError\u001b[0m                                 Traceback (most recent call last)",
      "\u001b[1;32m<ipython-input-5-f27583047c4a>\u001b[0m in \u001b[0;36m<module>\u001b[1;34m\u001b[0m\n\u001b[0;32m      3\u001b[0m \u001b[0mis_maxp\u001b[0m \u001b[1;33m=\u001b[0m \u001b[1;32mlambda\u001b[0m \u001b[0mrow\u001b[0m\u001b[1;33m:\u001b[0m \u001b[0mrow\u001b[0m\u001b[1;33m.\u001b[0m\u001b[0mHWType\u001b[0m \u001b[1;33m!=\u001b[0m \u001b[1;34m\"GPU\"\u001b[0m \u001b[1;32mor\u001b[0m \u001b[0mrow\u001b[0m\u001b[1;33m[\u001b[0m\u001b[1;34m\"Op mode\"\u001b[0m\u001b[1;33m]\u001b[0m\u001b[1;33m.\u001b[0m\u001b[0msplit\u001b[0m\u001b[1;33m(\u001b[0m\u001b[1;34m\",\"\u001b[0m\u001b[1;33m)\u001b[0m\u001b[1;33m[\u001b[0m\u001b[1;36m0\u001b[0m\u001b[1;33m]\u001b[0m \u001b[1;33m==\u001b[0m \u001b[1;34m\"maxp\"\u001b[0m\u001b[1;33m\u001b[0m\u001b[1;33m\u001b[0m\u001b[0m\n\u001b[0;32m      4\u001b[0m \u001b[0mmaxp_df\u001b[0m \u001b[1;33m=\u001b[0m \u001b[0mmaster_df\u001b[0m\u001b[1;33m[\u001b[0m\u001b[0mmaster_df\u001b[0m\u001b[1;33m.\u001b[0m\u001b[0mapply\u001b[0m\u001b[1;33m(\u001b[0m\u001b[0mis_maxp\u001b[0m\u001b[1;33m,\u001b[0m \u001b[0maxis\u001b[0m\u001b[1;33m=\u001b[0m\u001b[1;36m1\u001b[0m\u001b[1;33m)\u001b[0m\u001b[1;33m]\u001b[0m\u001b[1;33m\u001b[0m\u001b[1;33m\u001b[0m\u001b[0m\n\u001b[1;32m----> 5\u001b[1;33m \u001b[0mmaxp_df\u001b[0m\u001b[1;33m[\u001b[0m\u001b[1;34m\"hw_quant_prun\"\u001b[0m\u001b[1;33m]\u001b[0m \u001b[1;33m=\u001b[0m \u001b[0mmaxp_df\u001b[0m\u001b[1;33m.\u001b[0m\u001b[0mapply\u001b[0m\u001b[1;33m(\u001b[0m\u001b[1;32mlambda\u001b[0m \u001b[0mr\u001b[0m\u001b[1;33m:\u001b[0m \u001b[1;34m\"_\"\u001b[0m\u001b[1;33m.\u001b[0m\u001b[0mjoin\u001b[0m\u001b[1;33m(\u001b[0m\u001b[1;33m[\u001b[0m\u001b[0mr\u001b[0m\u001b[1;33m.\u001b[0m\u001b[0mHWType\u001b[0m\u001b[1;33m,\u001b[0m \u001b[0mr\u001b[0m\u001b[1;33m.\u001b[0m\u001b[0mPrecision\u001b[0m\u001b[1;33m,\u001b[0m \u001b[0mr\u001b[0m\u001b[1;33m.\u001b[0m\u001b[0mPruningFactor\u001b[0m\u001b[1;33m]\u001b[0m\u001b[1;33m)\u001b[0m\u001b[1;33m,\u001b[0m \u001b[0maxis\u001b[0m\u001b[1;33m=\u001b[0m\u001b[1;36m1\u001b[0m\u001b[1;33m)\u001b[0m\u001b[1;33m\u001b[0m\u001b[1;33m\u001b[0m\u001b[0m\n\u001b[0m\u001b[0;32m      6\u001b[0m \u001b[0mmlp_df\u001b[0m \u001b[1;33m=\u001b[0m \u001b[0mmaxp_df\u001b[0m\u001b[1;33m[\u001b[0m\u001b[1;33m(\u001b[0m\u001b[0mmaxp_df\u001b[0m\u001b[1;33m[\u001b[0m\u001b[1;34m\"NN_Topology\"\u001b[0m\u001b[1;33m]\u001b[0m \u001b[1;33m==\u001b[0m \u001b[1;34m\"MLP\"\u001b[0m\u001b[1;33m)\u001b[0m \u001b[1;33m&\u001b[0m \u001b[0mmaxp_df\u001b[0m\u001b[1;33m[\u001b[0m\u001b[1;34m'lat-comp'\u001b[0m\u001b[1;33m]\u001b[0m\u001b[1;33m.\u001b[0m\u001b[0mnotna\u001b[0m\u001b[1;33m(\u001b[0m\u001b[1;33m)\u001b[0m\u001b[1;33m]\u001b[0m\u001b[1;33m\u001b[0m\u001b[1;33m\u001b[0m\u001b[0m\n\u001b[0;32m      7\u001b[0m \u001b[0mmlp_df\u001b[0m\u001b[1;33m[\u001b[0m\u001b[1;34m\"hw_quant_prun\"\u001b[0m\u001b[1;33m]\u001b[0m \u001b[1;33m=\u001b[0m \u001b[0mmlp_df\u001b[0m\u001b[1;33m.\u001b[0m\u001b[0mapply\u001b[0m\u001b[1;33m(\u001b[0m\u001b[1;32mlambda\u001b[0m \u001b[0mr\u001b[0m\u001b[1;33m:\u001b[0m \u001b[1;34m\"_\"\u001b[0m\u001b[1;33m.\u001b[0m\u001b[0mjoin\u001b[0m\u001b[1;33m(\u001b[0m\u001b[1;33m[\u001b[0m\u001b[0mr\u001b[0m\u001b[1;33m.\u001b[0m\u001b[0mHWType\u001b[0m\u001b[1;33m,\u001b[0m \u001b[0mr\u001b[0m\u001b[1;33m.\u001b[0m\u001b[0mPrecision\u001b[0m\u001b[1;33m,\u001b[0m \u001b[0mr\u001b[0m\u001b[1;33m.\u001b[0m\u001b[0mPruningFactor\u001b[0m\u001b[1;33m]\u001b[0m\u001b[1;33m)\u001b[0m\u001b[1;33m,\u001b[0m \u001b[0maxis\u001b[0m\u001b[1;33m=\u001b[0m\u001b[1;36m1\u001b[0m\u001b[1;33m)\u001b[0m\u001b[1;33m\u001b[0m\u001b[1;33m\u001b[0m\u001b[0m\n",
      "\u001b[1;32m~\\AppData\\Local\\Continuum\\anaconda3\\lib\\site-packages\\pandas\\core\\frame.py\u001b[0m in \u001b[0;36mapply\u001b[1;34m(self, func, axis, raw, result_type, args, **kwds)\u001b[0m\n\u001b[0;32m   6876\u001b[0m             \u001b[0mkwds\u001b[0m\u001b[1;33m=\u001b[0m\u001b[0mkwds\u001b[0m\u001b[1;33m,\u001b[0m\u001b[1;33m\u001b[0m\u001b[1;33m\u001b[0m\u001b[0m\n\u001b[0;32m   6877\u001b[0m         )\n\u001b[1;32m-> 6878\u001b[1;33m         \u001b[1;32mreturn\u001b[0m \u001b[0mop\u001b[0m\u001b[1;33m.\u001b[0m\u001b[0mget_result\u001b[0m\u001b[1;33m(\u001b[0m\u001b[1;33m)\u001b[0m\u001b[1;33m\u001b[0m\u001b[1;33m\u001b[0m\u001b[0m\n\u001b[0m\u001b[0;32m   6879\u001b[0m \u001b[1;33m\u001b[0m\u001b[0m\n\u001b[0;32m   6880\u001b[0m     \u001b[1;32mdef\u001b[0m \u001b[0mapplymap\u001b[0m\u001b[1;33m(\u001b[0m\u001b[0mself\u001b[0m\u001b[1;33m,\u001b[0m \u001b[0mfunc\u001b[0m\u001b[1;33m)\u001b[0m \u001b[1;33m->\u001b[0m \u001b[1;34m\"DataFrame\"\u001b[0m\u001b[1;33m:\u001b[0m\u001b[1;33m\u001b[0m\u001b[1;33m\u001b[0m\u001b[0m\n",
      "\u001b[1;32m~\\AppData\\Local\\Continuum\\anaconda3\\lib\\site-packages\\pandas\\core\\apply.py\u001b[0m in \u001b[0;36mget_result\u001b[1;34m(self)\u001b[0m\n\u001b[0;32m    184\u001b[0m             \u001b[1;32mreturn\u001b[0m \u001b[0mself\u001b[0m\u001b[1;33m.\u001b[0m\u001b[0mapply_raw\u001b[0m\u001b[1;33m(\u001b[0m\u001b[1;33m)\u001b[0m\u001b[1;33m\u001b[0m\u001b[1;33m\u001b[0m\u001b[0m\n\u001b[0;32m    185\u001b[0m \u001b[1;33m\u001b[0m\u001b[0m\n\u001b[1;32m--> 186\u001b[1;33m         \u001b[1;32mreturn\u001b[0m \u001b[0mself\u001b[0m\u001b[1;33m.\u001b[0m\u001b[0mapply_standard\u001b[0m\u001b[1;33m(\u001b[0m\u001b[1;33m)\u001b[0m\u001b[1;33m\u001b[0m\u001b[1;33m\u001b[0m\u001b[0m\n\u001b[0m\u001b[0;32m    187\u001b[0m \u001b[1;33m\u001b[0m\u001b[0m\n\u001b[0;32m    188\u001b[0m     \u001b[1;32mdef\u001b[0m \u001b[0mapply_empty_result\u001b[0m\u001b[1;33m(\u001b[0m\u001b[0mself\u001b[0m\u001b[1;33m)\u001b[0m\u001b[1;33m:\u001b[0m\u001b[1;33m\u001b[0m\u001b[1;33m\u001b[0m\u001b[0m\n",
      "\u001b[1;32m~\\AppData\\Local\\Continuum\\anaconda3\\lib\\site-packages\\pandas\\core\\apply.py\u001b[0m in \u001b[0;36mapply_standard\u001b[1;34m(self)\u001b[0m\n\u001b[0;32m    294\u001b[0m             \u001b[1;32mtry\u001b[0m\u001b[1;33m:\u001b[0m\u001b[1;33m\u001b[0m\u001b[1;33m\u001b[0m\u001b[0m\n\u001b[0;32m    295\u001b[0m                 result = libreduction.compute_reduction(\n\u001b[1;32m--> 296\u001b[1;33m                     \u001b[0mvalues\u001b[0m\u001b[1;33m,\u001b[0m \u001b[0mself\u001b[0m\u001b[1;33m.\u001b[0m\u001b[0mf\u001b[0m\u001b[1;33m,\u001b[0m \u001b[0maxis\u001b[0m\u001b[1;33m=\u001b[0m\u001b[0mself\u001b[0m\u001b[1;33m.\u001b[0m\u001b[0maxis\u001b[0m\u001b[1;33m,\u001b[0m \u001b[0mdummy\u001b[0m\u001b[1;33m=\u001b[0m\u001b[0mdummy\u001b[0m\u001b[1;33m,\u001b[0m \u001b[0mlabels\u001b[0m\u001b[1;33m=\u001b[0m\u001b[0mlabels\u001b[0m\u001b[1;33m\u001b[0m\u001b[1;33m\u001b[0m\u001b[0m\n\u001b[0m\u001b[0;32m    297\u001b[0m                 )\n\u001b[0;32m    298\u001b[0m             \u001b[1;32mexcept\u001b[0m \u001b[0mValueError\u001b[0m \u001b[1;32mas\u001b[0m \u001b[0merr\u001b[0m\u001b[1;33m:\u001b[0m\u001b[1;33m\u001b[0m\u001b[1;33m\u001b[0m\u001b[0m\n",
      "\u001b[1;32mpandas\\_libs\\reduction.pyx\u001b[0m in \u001b[0;36mpandas._libs.reduction.compute_reduction\u001b[1;34m()\u001b[0m\n",
      "\u001b[1;32mpandas\\_libs\\reduction.pyx\u001b[0m in \u001b[0;36mpandas._libs.reduction.Reducer.get_result\u001b[1;34m()\u001b[0m\n",
      "\u001b[1;32m<ipython-input-5-f27583047c4a>\u001b[0m in \u001b[0;36m<lambda>\u001b[1;34m(r)\u001b[0m\n\u001b[0;32m      3\u001b[0m \u001b[0mis_maxp\u001b[0m \u001b[1;33m=\u001b[0m \u001b[1;32mlambda\u001b[0m \u001b[0mrow\u001b[0m\u001b[1;33m:\u001b[0m \u001b[0mrow\u001b[0m\u001b[1;33m.\u001b[0m\u001b[0mHWType\u001b[0m \u001b[1;33m!=\u001b[0m \u001b[1;34m\"GPU\"\u001b[0m \u001b[1;32mor\u001b[0m \u001b[0mrow\u001b[0m\u001b[1;33m[\u001b[0m\u001b[1;34m\"Op mode\"\u001b[0m\u001b[1;33m]\u001b[0m\u001b[1;33m.\u001b[0m\u001b[0msplit\u001b[0m\u001b[1;33m(\u001b[0m\u001b[1;34m\",\"\u001b[0m\u001b[1;33m)\u001b[0m\u001b[1;33m[\u001b[0m\u001b[1;36m0\u001b[0m\u001b[1;33m]\u001b[0m \u001b[1;33m==\u001b[0m \u001b[1;34m\"maxp\"\u001b[0m\u001b[1;33m\u001b[0m\u001b[1;33m\u001b[0m\u001b[0m\n\u001b[0;32m      4\u001b[0m \u001b[0mmaxp_df\u001b[0m \u001b[1;33m=\u001b[0m \u001b[0mmaster_df\u001b[0m\u001b[1;33m[\u001b[0m\u001b[0mmaster_df\u001b[0m\u001b[1;33m.\u001b[0m\u001b[0mapply\u001b[0m\u001b[1;33m(\u001b[0m\u001b[0mis_maxp\u001b[0m\u001b[1;33m,\u001b[0m \u001b[0maxis\u001b[0m\u001b[1;33m=\u001b[0m\u001b[1;36m1\u001b[0m\u001b[1;33m)\u001b[0m\u001b[1;33m]\u001b[0m\u001b[1;33m\u001b[0m\u001b[1;33m\u001b[0m\u001b[0m\n\u001b[1;32m----> 5\u001b[1;33m \u001b[0mmaxp_df\u001b[0m\u001b[1;33m[\u001b[0m\u001b[1;34m\"hw_quant_prun\"\u001b[0m\u001b[1;33m]\u001b[0m \u001b[1;33m=\u001b[0m \u001b[0mmaxp_df\u001b[0m\u001b[1;33m.\u001b[0m\u001b[0mapply\u001b[0m\u001b[1;33m(\u001b[0m\u001b[1;32mlambda\u001b[0m \u001b[0mr\u001b[0m\u001b[1;33m:\u001b[0m \u001b[1;34m\"_\"\u001b[0m\u001b[1;33m.\u001b[0m\u001b[0mjoin\u001b[0m\u001b[1;33m(\u001b[0m\u001b[1;33m[\u001b[0m\u001b[0mr\u001b[0m\u001b[1;33m.\u001b[0m\u001b[0mHWType\u001b[0m\u001b[1;33m,\u001b[0m \u001b[0mr\u001b[0m\u001b[1;33m.\u001b[0m\u001b[0mPrecision\u001b[0m\u001b[1;33m,\u001b[0m \u001b[0mr\u001b[0m\u001b[1;33m.\u001b[0m\u001b[0mPruningFactor\u001b[0m\u001b[1;33m]\u001b[0m\u001b[1;33m)\u001b[0m\u001b[1;33m,\u001b[0m \u001b[0maxis\u001b[0m\u001b[1;33m=\u001b[0m\u001b[1;36m1\u001b[0m\u001b[1;33m)\u001b[0m\u001b[1;33m\u001b[0m\u001b[1;33m\u001b[0m\u001b[0m\n\u001b[0m\u001b[0;32m      6\u001b[0m \u001b[0mmlp_df\u001b[0m \u001b[1;33m=\u001b[0m \u001b[0mmaxp_df\u001b[0m\u001b[1;33m[\u001b[0m\u001b[1;33m(\u001b[0m\u001b[0mmaxp_df\u001b[0m\u001b[1;33m[\u001b[0m\u001b[1;34m\"NN_Topology\"\u001b[0m\u001b[1;33m]\u001b[0m \u001b[1;33m==\u001b[0m \u001b[1;34m\"MLP\"\u001b[0m\u001b[1;33m)\u001b[0m \u001b[1;33m&\u001b[0m \u001b[0mmaxp_df\u001b[0m\u001b[1;33m[\u001b[0m\u001b[1;34m'lat-comp'\u001b[0m\u001b[1;33m]\u001b[0m\u001b[1;33m.\u001b[0m\u001b[0mnotna\u001b[0m\u001b[1;33m(\u001b[0m\u001b[1;33m)\u001b[0m\u001b[1;33m]\u001b[0m\u001b[1;33m\u001b[0m\u001b[1;33m\u001b[0m\u001b[0m\n\u001b[0;32m      7\u001b[0m \u001b[0mmlp_df\u001b[0m\u001b[1;33m[\u001b[0m\u001b[1;34m\"hw_quant_prun\"\u001b[0m\u001b[1;33m]\u001b[0m \u001b[1;33m=\u001b[0m \u001b[0mmlp_df\u001b[0m\u001b[1;33m.\u001b[0m\u001b[0mapply\u001b[0m\u001b[1;33m(\u001b[0m\u001b[1;32mlambda\u001b[0m \u001b[0mr\u001b[0m\u001b[1;33m:\u001b[0m \u001b[1;34m\"_\"\u001b[0m\u001b[1;33m.\u001b[0m\u001b[0mjoin\u001b[0m\u001b[1;33m(\u001b[0m\u001b[1;33m[\u001b[0m\u001b[0mr\u001b[0m\u001b[1;33m.\u001b[0m\u001b[0mHWType\u001b[0m\u001b[1;33m,\u001b[0m \u001b[0mr\u001b[0m\u001b[1;33m.\u001b[0m\u001b[0mPrecision\u001b[0m\u001b[1;33m,\u001b[0m \u001b[0mr\u001b[0m\u001b[1;33m.\u001b[0m\u001b[0mPruningFactor\u001b[0m\u001b[1;33m]\u001b[0m\u001b[1;33m)\u001b[0m\u001b[1;33m,\u001b[0m \u001b[0maxis\u001b[0m\u001b[1;33m=\u001b[0m\u001b[1;36m1\u001b[0m\u001b[1;33m)\u001b[0m\u001b[1;33m\u001b[0m\u001b[1;33m\u001b[0m\u001b[0m\n",
      "\u001b[1;31mTypeError\u001b[0m: sequence item 2: expected str instance, float found"
     ]
    }
   ],
   "source": [
    "#hide\n",
    "master_df = pd.read_csv(csv_path)\n",
    "is_maxp = lambda row: row.HWType != \"GPU\" or row[\"Op mode\"].split(\",\")[0] == \"maxp\"\n",
    "maxp_df = master_df[master_df.apply(is_maxp, axis=1)]\n",
    "maxp_df[\"hw_quant_prun\"] = maxp_df.apply(lambda r: \"_\".join([r.HWType, r.Precision, r.PruningFactor]), axis=1)\n",
    "mlp_df = maxp_df[(maxp_df[\"NN_Topology\"] == \"MLP\") & maxp_df['lat-comp'].notna()]\n",
    "mlp_df[\"hw_quant_prun\"] = mlp_df.apply(lambda r: \"_\".join([r.HWType, r.Precision, r.PruningFactor]), axis=1)\n",
    "mlp_df[\"PruningFactor\"] = mlp_df[\"PruningFactor\"].str.strip(\"%\").astype(float)\n",
    "norm_by_group(mlp_df, \"lat-comp\", \"NN_Topology\");\n",
    "mlp_df[\"quant_model\"] = mlp_df.Precision + '_' + mlp_df.HWType\n",
    "\n",
    "mnist_df    = maxp_df[(maxp_df.NN_Topology == 'MLP') & maxp_df[\"top1 [%]\"].notna()]\n",
    "mnist_df.rename(columns={\"top1 [%]\": \"top1\"}, inplace=True)"
   ]
  },
  {
   "cell_type": "markdown",
   "metadata": {},
   "source": [
    "## Table Statistics"
   ]
  },
  {
   "cell_type": "code",
   "execution_count": null,
   "metadata": {},
   "outputs": [],
   "source": [
    "#hide_input\n",
    "mnist_df.describe()"
   ]
  },
  {
   "cell_type": "code",
   "execution_count": null,
   "metadata": {},
   "outputs": [],
   "source": [
    "#hide\n",
    "figa_df = mlp_df[(mlp_df[\"HWType\"].isin([\"NCS\", \"ZCU104-Bismo\", \"A53-gemmlowp\"]))]\n",
    "figb_df = mlp_df[(mlp_df[\"HWType\"].isin([\"GPU\", \"ZCU104-FINN\", \"A53-gemmlowp\"]))]\n",
    "\n"
   ]
  },
  {
   "cell_type": "markdown",
   "metadata": {},
   "source": [
    "### Overview of Experimental Data"
   ]
  },
  {
   "cell_type": "code",
   "execution_count": null,
   "metadata": {},
   "outputs": [],
   "source": [
    "#hide_input\n",
    "%run scripts/altair_plots.py  #get table with the experiments overview\n",
    "tableOverviewExperiments(['data/overview_experiments_mnist.csv'])"
   ]
  },
  {
   "cell_type": "markdown",
   "metadata": {},
   "source": [
    "## Line Plot"
   ]
  },
  {
   "cell_type": "code",
   "execution_count": null,
   "metadata": {},
   "outputs": [],
   "source": [
    "#hide_input\n",
    "fig25s = []\n",
    "fig25_dfs = [figa_df, figb_df]\n",
    "for df in fig25_dfs:\n",
    "    sel = alt.selection_multi(fields=[\"hw_quant_prun\"], bind=\"legend\")\n",
    "    fig25_dot = alt.Chart(df).mark_point().encode(\n",
    "        x='lat-comp',\n",
    "        y=alt.Y('fps-comp', scale=alt.Scale(type=\"log\")),\n",
    "        color=select_color(sel, 'hw_quant_prun:N'),\n",
    "        tooltip=['fps-comp', 'lat-comp', 'HWType', 'batch/thread/stream'],\n",
    "    )\n",
    "    fig25_line = alt.Chart(df).mark_line().encode(\n",
    "        x='lat-comp',\n",
    "        y='fps-comp',\n",
    "        color=select_color(sel, 'hw_quant_prun:N'),\n",
    "        tooltip=['fps-comp', 'lat-comp', 'HWType', 'batch/thread/stream'],\n",
    "    )\n",
    "\n",
    "    fig = (fig25_dot+fig25_line).properties(\n",
    "        title=\"Latency versus Performance for Pruned and Quantized MLP Variants\",\n",
    "        width=W/len(fig25_dfs),\n",
    "        height=H,\n",
    "    ).add_selection(sel).interactive()\n",
    "    \n",
    "    fig25s.append(fig)\n",
    "    \n",
    "alt.hconcat(*fig25s)"
   ]
  },
  {
   "cell_type": "markdown",
   "metadata": {},
   "source": [
    "## Boxplots"
   ]
  },
  {
   "cell_type": "code",
   "execution_count": null,
   "metadata": {},
   "outputs": [],
   "source": [
    "#hide_input\n",
    "box1 = alt.Chart(mlp_df).mark_boxplot().encode(\n",
    "    x='PruningFactor:O',\n",
    "    y=alt.Y(\"lat-comp\", scale=alt.Scale(type=\"log\")),\n",
    "    color='PruningFactor:O',\n",
    ").facet(column=\"quant_model\").properties(\n",
    "    title=\"Latency by Hardware/Framework and Pruning for MLP\"\n",
    ").interactive()\n",
    "box1"
   ]
  },
  {
   "cell_type": "code",
   "execution_count": null,
   "metadata": {},
   "outputs": [],
   "source": [
    "#hide_input\n",
    "box1 = alt.Chart(mlp_df).mark_boxplot().encode(\n",
    "    x='PruningFactor:O',\n",
    "    y=alt.Y(\"fps-comp\", scale=alt.Scale(type=\"log\")),\n",
    "    color='PruningFactor:O',\n",
    ").facet(column=\"quant_model\").properties(\n",
    "    title=\"Throughput by Hardware/Framework and Pruning for MLP\",\n",
    ").interactive()\n",
    "box1"
   ]
  },
  {
   "cell_type": "markdown",
   "metadata": {},
   "source": [
    "## Pareto"
   ]
  },
  {
   "cell_type": "code",
   "execution_count": null,
   "metadata": {
    "slideshow": {
     "slide_type": "slide"
    }
   },
   "outputs": [],
   "source": [
    "#hide_input\n",
    "mnist_pareto = get_pareto_df(mnist_df, 'hw_quant_prun', 'fps-comp', 'top1')\n",
    "\n",
    "mnist_lines = alt.Chart(mnist_df).mark_line(point=True).encode(\n",
    "    x=\"fps-comp\",\n",
    "    y=alt.Y(\"top1:Q\", scale=alt.Scale(zero=False)),\n",
    "    color=alt.Color(\"hw_quant_prun\", legend=alt.Legend(columns=1)),\n",
    "    tooltip=[\"HWType\", \"Precision\", \"PruningFactor\", \"batch/thread/stream\", \"top1\", \"fps-comp\"],\n",
    ")\n",
    "mnist_pareto_plot = alt.Chart(mnist_pareto).mark_line().encode(\n",
    "    x=\"x\",\n",
    "    y=alt.Y(\"y\", scale=alt.Scale(zero=False)),\n",
    ")\n",
    "(mnist_lines+mnist_pareto_plot).interactive().properties(\n",
    "    width=W,\n",
    "    height=H,\n",
    "    title=\"MNIST Cassification Design Space: Accuracy versus Performance\"\n",
    ")"
   ]
  },
  {
   "cell_type": "markdown",
   "metadata": {},
   "source": [
    "# Performance Prediction for MNIST"
   ]
  },
  {
   "cell_type": "code",
   "execution_count": 6,
   "metadata": {},
   "outputs": [
    {
     "data": {
      "text/html": [
       "\n",
       "<div id=\"altair-viz-330b21d096c14904885927c227c7d4cc\"></div>\n",
       "<script type=\"text/javascript\">\n",
       "  (function(spec, embedOpt){\n",
       "    const outputDiv = document.getElementById(\"altair-viz-330b21d096c14904885927c227c7d4cc\");\n",
       "    const paths = {\n",
       "      \"vega\": \"https://cdn.jsdelivr.net/npm//vega@5?noext\",\n",
       "      \"vega-lib\": \"https://cdn.jsdelivr.net/npm//vega-lib?noext\",\n",
       "      \"vega-lite\": \"https://cdn.jsdelivr.net/npm//vega-lite@4.0.2?noext\",\n",
       "      \"vega-embed\": \"https://cdn.jsdelivr.net/npm//vega-embed@6?noext\",\n",
       "    };\n",
       "\n",
       "    function loadScript(lib) {\n",
       "      return new Promise(function(resolve, reject) {\n",
       "        var s = document.createElement('script');\n",
       "        s.src = paths[lib];\n",
       "        s.async = true;\n",
       "        s.onload = () => resolve(paths[lib]);\n",
       "        s.onerror = () => reject(`Error loading script: ${paths[lib]}`);\n",
       "        document.getElementsByTagName(\"head\")[0].appendChild(s);\n",
       "      });\n",
       "    }\n",
       "\n",
       "    function showError(err) {\n",
       "      outputDiv.innerHTML = `<div class=\"error\" style=\"color:red;\">${err}</div>`;\n",
       "      throw err;\n",
       "    }\n",
       "\n",
       "    function displayChart(vegaEmbed) {\n",
       "      vegaEmbed(outputDiv, spec, embedOpt)\n",
       "        .catch(err => showError(`Javascript Error: ${err.message}<br>This usually means there's a typo in your chart specification. See the javascript console for the full traceback.`));\n",
       "    }\n",
       "\n",
       "    if(typeof define === \"function\" && define.amd) {\n",
       "      requirejs.config({paths});\n",
       "      require([\"vega-embed\"], displayChart, err => showError(`Error loading script: ${err.message}`));\n",
       "    } else if (typeof vegaEmbed === \"function\") {\n",
       "      displayChart(vegaEmbed);\n",
       "    } else {\n",
       "      loadScript(\"vega\")\n",
       "        .then(() => loadScript(\"vega-lite\"))\n",
       "        .then(() => loadScript(\"vega-embed\"))\n",
       "        .catch(showError)\n",
       "        .then(() => displayChart(vegaEmbed));\n",
       "    }\n",
       "  })({\"config\": {\"view\": {\"continuousWidth\": 400, \"continuousHeight\": 300}}, \"layer\": [{\"mark\": {\"type\": \"rect\", \"invalid\": null, \"stroke\": \"black\", \"strokeWidth\": 1}, \"encoding\": {\"color\": {\"type\": \"quantitative\", \"condition\": {\"value\": \"red\", \"selection\": \"selector003\"}, \"field\": \"values\", \"scale\": {\"scheme\": \"lightmulti\", \"type\": \"log\"}, \"title\": \"Input/second\"}, \"tooltip\": [{\"type\": \"quantitative\", \"field\": \"values\", \"title\": \"Input/sec\"}, {\"type\": \"nominal\", \"field\": \"x\", \"title\": \"Model\"}, {\"type\": \"nominal\", \"field\": \"y\", \"title\": \"Hardware Platform\"}], \"x\": {\"type\": \"ordinal\", \"field\": \"x\", \"title\": \"Models\"}, \"y\": {\"type\": \"ordinal\", \"field\": \"y\", \"title\": \"Hardware Platfroms\"}}, \"height\": 350, \"selection\": {\"selector003\": {\"type\": \"single\", \"on\": \"mouseover\", \"nearest\": true}}, \"title\": \"Performance predictions for MNIST\", \"width\": 700}, {\"mark\": {\"type\": \"text\", \"color\": \"white\"}, \"encoding\": {\"color\": {\"condition\": {\"value\": \"black\", \"test\": \"(datum.values > 1)\"}, \"value\": \"white\"}, \"text\": {\"type\": \"quantitative\", \"field\": \"values\", \"format\": \".0f\"}, \"tooltip\": [{\"type\": \"quantitative\", \"field\": \"values\", \"format\": \".0f\", \"title\": \"Input/sec\"}, {\"type\": \"nominal\", \"field\": \"x\", \"title\": \"Model\"}, {\"type\": \"nominal\", \"field\": \"y\", \"title\": \"Hardware Platform\"}], \"x\": {\"type\": \"ordinal\", \"field\": \"x\", \"title\": \"Models\"}, \"y\": {\"type\": \"ordinal\", \"field\": \"y\", \"title\": \"Hardware Platfroms\"}}}], \"data\": {\"name\": \"data-7b99d5246d1643da0b68a10ff8135a6a\"}, \"$schema\": \"https://vega.github.io/schema/vega-lite/v4.0.2.json\", \"datasets\": {\"data-7b99d5246d1643da0b68a10ff8135a6a\": [{\"x\": \"MLP 100%-INT2\", \"y\": \"Ultra96-INT8\", \"values\": null}, {\"x\": \"MLP 100%-INT4\", \"y\": \"Ultra96-INT8\", \"values\": null}, {\"x\": \"MLP 100%-FP16\", \"y\": \"Ultra96-INT8\", \"values\": null}, {\"x\": \"MLP 100%-FP32\", \"y\": \"Ultra96-INT8\", \"values\": null}, {\"x\": \"MLP 50%-INT2\", \"y\": \"Ultra96-INT8\", \"values\": null}, {\"x\": \"MLP 50%-INT4\", \"y\": \"Ultra96-INT8\", \"values\": null}, {\"x\": \"MLP 50%-FP16\", \"y\": \"Ultra96-INT8\", \"values\": null}, {\"x\": \"MLP 50%-FP32\", \"y\": \"Ultra96-INT8\", \"values\": null}, {\"x\": \"MLP 25%-INT2\", \"y\": \"Ultra96-INT8\", \"values\": null}, {\"x\": \"MLP 25%-INT4\", \"y\": \"Ultra96-INT8\", \"values\": null}, {\"x\": \"MLP 25%-FP16\", \"y\": \"Ultra96-INT8\", \"values\": null}, {\"x\": \"MLP 25%-FP32\", \"y\": \"Ultra96-INT8\", \"values\": null}, {\"x\": \"MLP 12.5%-INT2\", \"y\": \"Ultra96-INT8\", \"values\": null}, {\"x\": \"MLP 12.5%-INT4\", \"y\": \"Ultra96-INT8\", \"values\": null}, {\"x\": \"MLP 12.5%-FP16\", \"y\": \"Ultra96-INT8\", \"values\": null}, {\"x\": \"MLP 12.5%-FP32\", \"y\": \"Ultra96-INT8\", \"values\": null}, {\"x\": \"MLP 100%-INT2\", \"y\": \"ZCU104-DPU-INT8\", \"values\": null}, {\"x\": \"MLP 100%-INT4\", \"y\": \"ZCU104-DPU-INT8\", \"values\": null}, {\"x\": \"MLP 100%-FP16\", \"y\": \"ZCU104-DPU-INT8\", \"values\": null}, {\"x\": \"MLP 100%-FP32\", \"y\": \"ZCU104-DPU-INT8\", \"values\": null}, {\"x\": \"MLP 50%-INT2\", \"y\": \"ZCU104-DPU-INT8\", \"values\": null}, {\"x\": \"MLP 50%-INT4\", \"y\": \"ZCU104-DPU-INT8\", \"values\": null}, {\"x\": \"MLP 50%-FP16\", \"y\": \"ZCU104-DPU-INT8\", \"values\": null}, {\"x\": \"MLP 50%-FP32\", \"y\": \"ZCU104-DPU-INT8\", \"values\": null}, {\"x\": \"MLP 25%-INT2\", \"y\": \"ZCU104-DPU-INT8\", \"values\": null}, {\"x\": \"MLP 25%-INT4\", \"y\": \"ZCU104-DPU-INT8\", \"values\": null}, {\"x\": \"MLP 25%-FP16\", \"y\": \"ZCU104-DPU-INT8\", \"values\": null}, {\"x\": \"MLP 25%-FP32\", \"y\": \"ZCU104-DPU-INT8\", \"values\": null}, {\"x\": \"MLP 12.5%-INT2\", \"y\": \"ZCU104-DPU-INT8\", \"values\": null}, {\"x\": \"MLP 12.5%-INT4\", \"y\": \"ZCU104-DPU-INT8\", \"values\": null}, {\"x\": \"MLP 12.5%-FP16\", \"y\": \"ZCU104-DPU-INT8\", \"values\": null}, {\"x\": \"MLP 12.5%-FP32\", \"y\": \"ZCU104-DPU-INT8\", \"values\": null}, {\"x\": \"MLP 100%-INT2\", \"y\": \"ZCU102-DPU-INT8\", \"values\": null}, {\"x\": \"MLP 100%-INT4\", \"y\": \"ZCU102-DPU-INT8\", \"values\": null}, {\"x\": \"MLP 100%-FP16\", \"y\": \"ZCU102-DPU-INT8\", \"values\": null}, {\"x\": \"MLP 100%-FP32\", \"y\": \"ZCU102-DPU-INT8\", \"values\": null}, {\"x\": \"MLP 50%-INT2\", \"y\": \"ZCU102-DPU-INT8\", \"values\": null}, {\"x\": \"MLP 50%-INT4\", \"y\": \"ZCU102-DPU-INT8\", \"values\": null}, {\"x\": \"MLP 50%-FP16\", \"y\": \"ZCU102-DPU-INT8\", \"values\": null}, {\"x\": \"MLP 50%-FP32\", \"y\": \"ZCU102-DPU-INT8\", \"values\": null}, {\"x\": \"MLP 25%-INT2\", \"y\": \"ZCU102-DPU-INT8\", \"values\": null}, {\"x\": \"MLP 25%-INT4\", \"y\": \"ZCU102-DPU-INT8\", \"values\": null}, {\"x\": \"MLP 25%-FP16\", \"y\": \"ZCU102-DPU-INT8\", \"values\": null}, {\"x\": \"MLP 25%-FP32\", \"y\": \"ZCU102-DPU-INT8\", \"values\": null}, {\"x\": \"MLP 12.5%-INT2\", \"y\": \"ZCU102-DPU-INT8\", \"values\": null}, {\"x\": \"MLP 12.5%-INT4\", \"y\": \"ZCU102-DPU-INT8\", \"values\": null}, {\"x\": \"MLP 12.5%-FP16\", \"y\": \"ZCU102-DPU-INT8\", \"values\": null}, {\"x\": \"MLP 12.5%-FP32\", \"y\": \"ZCU102-DPU-INT8\", \"values\": null}, {\"x\": \"MLP 100%-INT2\", \"y\": \"ZCU104-FINN-INT2\", \"values\": 7680.0}, {\"x\": \"MLP 100%-INT4\", \"y\": \"ZCU104-FINN-INT2\", \"values\": 3840.0}, {\"x\": \"MLP 100%-FP16\", \"y\": \"ZCU104-FINN-INT2\", \"values\": null}, {\"x\": \"MLP 100%-FP32\", \"y\": \"ZCU104-FINN-INT2\", \"values\": null}, {\"x\": \"MLP 50%-INT2\", \"y\": \"ZCU104-FINN-INT2\", \"values\": 25600.0}, {\"x\": \"MLP 50%-INT4\", \"y\": \"ZCU104-FINN-INT2\", \"values\": 12800.0}, {\"x\": \"MLP 50%-FP16\", \"y\": \"ZCU104-FINN-INT2\", \"values\": null}, {\"x\": \"MLP 50%-FP32\", \"y\": \"ZCU104-FINN-INT2\", \"values\": null}, {\"x\": \"MLP 25%-INT2\", \"y\": \"ZCU104-FINN-INT2\", \"values\": 76800.0}, {\"x\": \"MLP 25%-INT4\", \"y\": \"ZCU104-FINN-INT2\", \"values\": 38400.0}, {\"x\": \"MLP 25%-FP16\", \"y\": \"ZCU104-FINN-INT2\", \"values\": null}, {\"x\": \"MLP 25%-FP32\", \"y\": \"ZCU104-FINN-INT2\", \"values\": null}, {\"x\": \"MLP 12.5%-INT2\", \"y\": \"ZCU104-FINN-INT2\", \"values\": 229709.0}, {\"x\": \"MLP 12.5%-INT4\", \"y\": \"ZCU104-FINN-INT2\", \"values\": 114855.0}, {\"x\": \"MLP 12.5%-FP16\", \"y\": \"ZCU104-FINN-INT2\", \"values\": null}, {\"x\": \"MLP 12.5%-FP32\", \"y\": \"ZCU104-FINN-INT2\", \"values\": null}, {\"x\": \"MLP 100%-INT2\", \"y\": \"ZCU104-FINN-INT4\", \"values\": 7680.0}, {\"x\": \"MLP 100%-INT4\", \"y\": \"ZCU104-FINN-INT4\", \"values\": 3840.0}, {\"x\": \"MLP 100%-FP16\", \"y\": \"ZCU104-FINN-INT4\", \"values\": null}, {\"x\": \"MLP 100%-FP32\", \"y\": \"ZCU104-FINN-INT4\", \"values\": null}, {\"x\": \"MLP 50%-INT2\", \"y\": \"ZCU104-FINN-INT4\", \"values\": 25600.0}, {\"x\": \"MLP 50%-INT4\", \"y\": \"ZCU104-FINN-INT4\", \"values\": 12800.0}, {\"x\": \"MLP 50%-FP16\", \"y\": \"ZCU104-FINN-INT4\", \"values\": null}, {\"x\": \"MLP 50%-FP32\", \"y\": \"ZCU104-FINN-INT4\", \"values\": null}, {\"x\": \"MLP 25%-INT2\", \"y\": \"ZCU104-FINN-INT4\", \"values\": 76800.0}, {\"x\": \"MLP 25%-INT4\", \"y\": \"ZCU104-FINN-INT4\", \"values\": 38400.0}, {\"x\": \"MLP 25%-FP16\", \"y\": \"ZCU104-FINN-INT4\", \"values\": null}, {\"x\": \"MLP 25%-FP32\", \"y\": \"ZCU104-FINN-INT4\", \"values\": null}, {\"x\": \"MLP 12.5%-INT2\", \"y\": \"ZCU104-FINN-INT4\", \"values\": 229709.0}, {\"x\": \"MLP 12.5%-INT4\", \"y\": \"ZCU104-FINN-INT4\", \"values\": 114855.0}, {\"x\": \"MLP 12.5%-FP16\", \"y\": \"ZCU104-FINN-INT4\", \"values\": null}, {\"x\": \"MLP 12.5%-FP32\", \"y\": \"ZCU104-FINN-INT4\", \"values\": null}, {\"x\": \"MLP 100%-INT2\", \"y\": \"ZCU104-BISMO-INT2\", \"values\": 7680.0}, {\"x\": \"MLP 100%-INT4\", \"y\": \"ZCU104-BISMO-INT2\", \"values\": 3840.0}, {\"x\": \"MLP 100%-FP16\", \"y\": \"ZCU104-BISMO-INT2\", \"values\": null}, {\"x\": \"MLP 100%-FP32\", \"y\": \"ZCU104-BISMO-INT2\", \"values\": null}, {\"x\": \"MLP 50%-INT2\", \"y\": \"ZCU104-BISMO-INT2\", \"values\": 25600.0}, {\"x\": \"MLP 50%-INT4\", \"y\": \"ZCU104-BISMO-INT2\", \"values\": 12800.0}, {\"x\": \"MLP 50%-FP16\", \"y\": \"ZCU104-BISMO-INT2\", \"values\": null}, {\"x\": \"MLP 50%-FP32\", \"y\": \"ZCU104-BISMO-INT2\", \"values\": null}, {\"x\": \"MLP 25%-INT2\", \"y\": \"ZCU104-BISMO-INT2\", \"values\": 76800.0}, {\"x\": \"MLP 25%-INT4\", \"y\": \"ZCU104-BISMO-INT2\", \"values\": 38400.0}, {\"x\": \"MLP 25%-FP16\", \"y\": \"ZCU104-BISMO-INT2\", \"values\": null}, {\"x\": \"MLP 25%-FP32\", \"y\": \"ZCU104-BISMO-INT2\", \"values\": null}, {\"x\": \"MLP 12.5%-INT2\", \"y\": \"ZCU104-BISMO-INT2\", \"values\": 229709.0}, {\"x\": \"MLP 12.5%-INT4\", \"y\": \"ZCU104-BISMO-INT2\", \"values\": 114855.0}, {\"x\": \"MLP 12.5%-FP16\", \"y\": \"ZCU104-BISMO-INT2\", \"values\": null}, {\"x\": \"MLP 12.5%-FP32\", \"y\": \"ZCU104-BISMO-INT2\", \"values\": null}, {\"x\": \"MLP 100%-INT2\", \"y\": \"ZCU104-BISMO-INT4\", \"values\": 7680.0}, {\"x\": \"MLP 100%-INT4\", \"y\": \"ZCU104-BISMO-INT4\", \"values\": 3840.0}, {\"x\": \"MLP 100%-FP16\", \"y\": \"ZCU104-BISMO-INT4\", \"values\": null}, {\"x\": \"MLP 100%-FP32\", \"y\": \"ZCU104-BISMO-INT4\", \"values\": null}, {\"x\": \"MLP 50%-INT2\", \"y\": \"ZCU104-BISMO-INT4\", \"values\": 25600.0}, {\"x\": \"MLP 50%-INT4\", \"y\": \"ZCU104-BISMO-INT4\", \"values\": 12800.0}, {\"x\": \"MLP 50%-FP16\", \"y\": \"ZCU104-BISMO-INT4\", \"values\": null}, {\"x\": \"MLP 50%-FP32\", \"y\": \"ZCU104-BISMO-INT4\", \"values\": null}, {\"x\": \"MLP 25%-INT2\", \"y\": \"ZCU104-BISMO-INT4\", \"values\": 76800.0}, {\"x\": \"MLP 25%-INT4\", \"y\": \"ZCU104-BISMO-INT4\", \"values\": 38400.0}, {\"x\": \"MLP 25%-FP16\", \"y\": \"ZCU104-BISMO-INT4\", \"values\": null}, {\"x\": \"MLP 25%-FP32\", \"y\": \"ZCU104-BISMO-INT4\", \"values\": null}, {\"x\": \"MLP 12.5%-INT2\", \"y\": \"ZCU104-BISMO-INT4\", \"values\": 229709.0}, {\"x\": \"MLP 12.5%-INT4\", \"y\": \"ZCU104-BISMO-INT4\", \"values\": 114855.0}, {\"x\": \"MLP 12.5%-FP16\", \"y\": \"ZCU104-BISMO-INT4\", \"values\": null}, {\"x\": \"MLP 12.5%-FP32\", \"y\": \"ZCU104-BISMO-INT4\", \"values\": null}, {\"x\": \"MLP 100%-INT2\", \"y\": \"TX2-maxn-FP16\", \"values\": null}, {\"x\": \"MLP 100%-INT4\", \"y\": \"TX2-maxn-FP16\", \"values\": null}, {\"x\": \"MLP 100%-FP16\", \"y\": \"TX2-maxn-FP16\", \"values\": 2985.0}, {\"x\": \"MLP 100%-FP32\", \"y\": \"TX2-maxn-FP16\", \"values\": null}, {\"x\": \"MLP 50%-INT2\", \"y\": \"TX2-maxn-FP16\", \"values\": null}, {\"x\": \"MLP 50%-INT4\", \"y\": \"TX2-maxn-FP16\", \"values\": null}, {\"x\": \"MLP 50%-FP16\", \"y\": \"TX2-maxn-FP16\", \"values\": 9950.0}, {\"x\": \"MLP 50%-FP32\", \"y\": \"TX2-maxn-FP16\", \"values\": null}, {\"x\": \"MLP 25%-INT2\", \"y\": \"TX2-maxn-FP16\", \"values\": null}, {\"x\": \"MLP 25%-INT4\", \"y\": \"TX2-maxn-FP16\", \"values\": null}, {\"x\": \"MLP 25%-FP16\", \"y\": \"TX2-maxn-FP16\", \"values\": 29850.0}, {\"x\": \"MLP 25%-FP32\", \"y\": \"TX2-maxn-FP16\", \"values\": null}, {\"x\": \"MLP 12.5%-INT2\", \"y\": \"TX2-maxn-FP16\", \"values\": null}, {\"x\": \"MLP 12.5%-INT4\", \"y\": \"TX2-maxn-FP16\", \"values\": null}, {\"x\": \"MLP 12.5%-FP16\", \"y\": \"TX2-maxn-FP16\", \"values\": 89281.0}, {\"x\": \"MLP 12.5%-FP32\", \"y\": \"TX2-maxn-FP16\", \"values\": null}, {\"x\": \"MLP 100%-INT2\", \"y\": \"TX2-maxn-FP32\", \"values\": null}, {\"x\": \"MLP 100%-INT4\", \"y\": \"TX2-maxn-FP32\", \"values\": null}, {\"x\": \"MLP 100%-FP16\", \"y\": \"TX2-maxn-FP32\", \"values\": null}, {\"x\": \"MLP 100%-FP32\", \"y\": \"TX2-maxn-FP32\", \"values\": 1492.0}, {\"x\": \"MLP 50%-INT2\", \"y\": \"TX2-maxn-FP32\", \"values\": null}, {\"x\": \"MLP 50%-INT4\", \"y\": \"TX2-maxn-FP32\", \"values\": null}, {\"x\": \"MLP 50%-FP16\", \"y\": \"TX2-maxn-FP32\", \"values\": null}, {\"x\": \"MLP 50%-FP32\", \"y\": \"TX2-maxn-FP32\", \"values\": 4975.0}, {\"x\": \"MLP 25%-INT2\", \"y\": \"TX2-maxn-FP32\", \"values\": null}, {\"x\": \"MLP 25%-INT4\", \"y\": \"TX2-maxn-FP32\", \"values\": null}, {\"x\": \"MLP 25%-FP16\", \"y\": \"TX2-maxn-FP32\", \"values\": null}, {\"x\": \"MLP 25%-FP32\", \"y\": \"TX2-maxn-FP32\", \"values\": 14925.0}, {\"x\": \"MLP 12.5%-INT2\", \"y\": \"TX2-maxn-FP32\", \"values\": null}, {\"x\": \"MLP 12.5%-INT4\", \"y\": \"TX2-maxn-FP32\", \"values\": null}, {\"x\": \"MLP 12.5%-FP16\", \"y\": \"TX2-maxn-FP32\", \"values\": null}, {\"x\": \"MLP 12.5%-FP32\", \"y\": \"TX2-maxn-FP32\", \"values\": 44641.0}, {\"x\": \"MLP 100%-INT2\", \"y\": \"TX2-maxp-FP16\", \"values\": null}, {\"x\": \"MLP 100%-INT4\", \"y\": \"TX2-maxp-FP16\", \"values\": null}, {\"x\": \"MLP 100%-FP16\", \"y\": \"TX2-maxp-FP16\", \"values\": 2985.0}, {\"x\": \"MLP 100%-FP32\", \"y\": \"TX2-maxp-FP16\", \"values\": null}, {\"x\": \"MLP 50%-INT2\", \"y\": \"TX2-maxp-FP16\", \"values\": null}, {\"x\": \"MLP 50%-INT4\", \"y\": \"TX2-maxp-FP16\", \"values\": null}, {\"x\": \"MLP 50%-FP16\", \"y\": \"TX2-maxp-FP16\", \"values\": 9950.0}, {\"x\": \"MLP 50%-FP32\", \"y\": \"TX2-maxp-FP16\", \"values\": null}, {\"x\": \"MLP 25%-INT2\", \"y\": \"TX2-maxp-FP16\", \"values\": null}, {\"x\": \"MLP 25%-INT4\", \"y\": \"TX2-maxp-FP16\", \"values\": null}, {\"x\": \"MLP 25%-FP16\", \"y\": \"TX2-maxp-FP16\", \"values\": 29850.0}, {\"x\": \"MLP 25%-FP32\", \"y\": \"TX2-maxp-FP16\", \"values\": null}, {\"x\": \"MLP 12.5%-INT2\", \"y\": \"TX2-maxp-FP16\", \"values\": null}, {\"x\": \"MLP 12.5%-INT4\", \"y\": \"TX2-maxp-FP16\", \"values\": null}, {\"x\": \"MLP 12.5%-FP16\", \"y\": \"TX2-maxp-FP16\", \"values\": 89281.0}, {\"x\": \"MLP 12.5%-FP32\", \"y\": \"TX2-maxp-FP16\", \"values\": null}, {\"x\": \"MLP 100%-INT2\", \"y\": \"TX2-maxp-FP32\", \"values\": null}, {\"x\": \"MLP 100%-INT4\", \"y\": \"TX2-maxp-FP32\", \"values\": null}, {\"x\": \"MLP 100%-FP16\", \"y\": \"TX2-maxp-FP32\", \"values\": null}, {\"x\": \"MLP 100%-FP32\", \"y\": \"TX2-maxp-FP32\", \"values\": 1492.0}, {\"x\": \"MLP 50%-INT2\", \"y\": \"TX2-maxp-FP32\", \"values\": null}, {\"x\": \"MLP 50%-INT4\", \"y\": \"TX2-maxp-FP32\", \"values\": null}, {\"x\": \"MLP 50%-FP16\", \"y\": \"TX2-maxp-FP32\", \"values\": null}, {\"x\": \"MLP 50%-FP32\", \"y\": \"TX2-maxp-FP32\", \"values\": 4975.0}, {\"x\": \"MLP 25%-INT2\", \"y\": \"TX2-maxp-FP32\", \"values\": null}, {\"x\": \"MLP 25%-INT4\", \"y\": \"TX2-maxp-FP32\", \"values\": null}, {\"x\": \"MLP 25%-FP16\", \"y\": \"TX2-maxp-FP32\", \"values\": null}, {\"x\": \"MLP 25%-FP32\", \"y\": \"TX2-maxp-FP32\", \"values\": 14925.0}, {\"x\": \"MLP 12.5%-INT2\", \"y\": \"TX2-maxp-FP32\", \"values\": null}, {\"x\": \"MLP 12.5%-INT4\", \"y\": \"TX2-maxp-FP32\", \"values\": null}, {\"x\": \"MLP 12.5%-FP16\", \"y\": \"TX2-maxp-FP32\", \"values\": null}, {\"x\": \"MLP 12.5%-FP32\", \"y\": \"TX2-maxp-FP32\", \"values\": 44641.0}, {\"x\": \"MLP 100%-INT2\", \"y\": \"TX2-maxq-FP16\", \"values\": null}, {\"x\": \"MLP 100%-INT4\", \"y\": \"TX2-maxq-FP16\", \"values\": null}, {\"x\": \"MLP 100%-FP16\", \"y\": \"TX2-maxq-FP16\", \"values\": 2985.0}, {\"x\": \"MLP 100%-FP32\", \"y\": \"TX2-maxq-FP16\", \"values\": null}, {\"x\": \"MLP 50%-INT2\", \"y\": \"TX2-maxq-FP16\", \"values\": null}, {\"x\": \"MLP 50%-INT4\", \"y\": \"TX2-maxq-FP16\", \"values\": null}, {\"x\": \"MLP 50%-FP16\", \"y\": \"TX2-maxq-FP16\", \"values\": 9950.0}, {\"x\": \"MLP 50%-FP32\", \"y\": \"TX2-maxq-FP16\", \"values\": null}, {\"x\": \"MLP 25%-INT2\", \"y\": \"TX2-maxq-FP16\", \"values\": null}, {\"x\": \"MLP 25%-INT4\", \"y\": \"TX2-maxq-FP16\", \"values\": null}, {\"x\": \"MLP 25%-FP16\", \"y\": \"TX2-maxq-FP16\", \"values\": 29850.0}, {\"x\": \"MLP 25%-FP32\", \"y\": \"TX2-maxq-FP16\", \"values\": null}, {\"x\": \"MLP 12.5%-INT2\", \"y\": \"TX2-maxq-FP16\", \"values\": null}, {\"x\": \"MLP 12.5%-INT4\", \"y\": \"TX2-maxq-FP16\", \"values\": null}, {\"x\": \"MLP 12.5%-FP16\", \"y\": \"TX2-maxq-FP16\", \"values\": 89281.0}, {\"x\": \"MLP 12.5%-FP32\", \"y\": \"TX2-maxq-FP16\", \"values\": null}, {\"x\": \"MLP 100%-INT2\", \"y\": \"TX2-maxq-FP32\", \"values\": null}, {\"x\": \"MLP 100%-INT4\", \"y\": \"TX2-maxq-FP32\", \"values\": null}, {\"x\": \"MLP 100%-FP16\", \"y\": \"TX2-maxq-FP32\", \"values\": null}, {\"x\": \"MLP 100%-FP32\", \"y\": \"TX2-maxq-FP32\", \"values\": 1492.0}, {\"x\": \"MLP 50%-INT2\", \"y\": \"TX2-maxq-FP32\", \"values\": null}, {\"x\": \"MLP 50%-INT4\", \"y\": \"TX2-maxq-FP32\", \"values\": null}, {\"x\": \"MLP 50%-FP16\", \"y\": \"TX2-maxq-FP32\", \"values\": null}, {\"x\": \"MLP 50%-FP32\", \"y\": \"TX2-maxq-FP32\", \"values\": 4975.0}, {\"x\": \"MLP 25%-INT2\", \"y\": \"TX2-maxq-FP32\", \"values\": null}, {\"x\": \"MLP 25%-INT4\", \"y\": \"TX2-maxq-FP32\", \"values\": null}, {\"x\": \"MLP 25%-FP16\", \"y\": \"TX2-maxq-FP32\", \"values\": null}, {\"x\": \"MLP 25%-FP32\", \"y\": \"TX2-maxq-FP32\", \"values\": 14925.0}, {\"x\": \"MLP 12.5%-INT2\", \"y\": \"TX2-maxq-FP32\", \"values\": null}, {\"x\": \"MLP 12.5%-INT4\", \"y\": \"TX2-maxq-FP32\", \"values\": null}, {\"x\": \"MLP 12.5%-FP16\", \"y\": \"TX2-maxq-FP32\", \"values\": null}, {\"x\": \"MLP 12.5%-FP32\", \"y\": \"TX2-maxq-FP32\", \"values\": 44641.0}, {\"x\": \"MLP 100%-INT2\", \"y\": \"TPU-fast-INT8\", \"values\": null}, {\"x\": \"MLP 100%-INT4\", \"y\": \"TPU-fast-INT8\", \"values\": null}, {\"x\": \"MLP 100%-FP16\", \"y\": \"TPU-fast-INT8\", \"values\": null}, {\"x\": \"MLP 100%-FP32\", \"y\": \"TPU-fast-INT8\", \"values\": null}, {\"x\": \"MLP 50%-INT2\", \"y\": \"TPU-fast-INT8\", \"values\": null}, {\"x\": \"MLP 50%-INT4\", \"y\": \"TPU-fast-INT8\", \"values\": null}, {\"x\": \"MLP 50%-FP16\", \"y\": \"TPU-fast-INT8\", \"values\": null}, {\"x\": \"MLP 50%-FP32\", \"y\": \"TPU-fast-INT8\", \"values\": null}, {\"x\": \"MLP 25%-INT2\", \"y\": \"TPU-fast-INT8\", \"values\": null}, {\"x\": \"MLP 25%-INT4\", \"y\": \"TPU-fast-INT8\", \"values\": null}, {\"x\": \"MLP 25%-FP16\", \"y\": \"TPU-fast-INT8\", \"values\": null}, {\"x\": \"MLP 25%-FP32\", \"y\": \"TPU-fast-INT8\", \"values\": null}, {\"x\": \"MLP 12.5%-INT2\", \"y\": \"TPU-fast-INT8\", \"values\": null}, {\"x\": \"MLP 12.5%-INT4\", \"y\": \"TPU-fast-INT8\", \"values\": null}, {\"x\": \"MLP 12.5%-FP16\", \"y\": \"TPU-fast-INT8\", \"values\": null}, {\"x\": \"MLP 12.5%-FP32\", \"y\": \"TPU-fast-INT8\", \"values\": null}, {\"x\": \"MLP 100%-INT2\", \"y\": \"TPU-slow-INT8\", \"values\": null}, {\"x\": \"MLP 100%-INT4\", \"y\": \"TPU-slow-INT8\", \"values\": null}, {\"x\": \"MLP 100%-FP16\", \"y\": \"TPU-slow-INT8\", \"values\": null}, {\"x\": \"MLP 100%-FP32\", \"y\": \"TPU-slow-INT8\", \"values\": null}, {\"x\": \"MLP 50%-INT2\", \"y\": \"TPU-slow-INT8\", \"values\": null}, {\"x\": \"MLP 50%-INT4\", \"y\": \"TPU-slow-INT8\", \"values\": null}, {\"x\": \"MLP 50%-FP16\", \"y\": \"TPU-slow-INT8\", \"values\": null}, {\"x\": \"MLP 50%-FP32\", \"y\": \"TPU-slow-INT8\", \"values\": null}, {\"x\": \"MLP 25%-INT2\", \"y\": \"TPU-slow-INT8\", \"values\": null}, {\"x\": \"MLP 25%-INT4\", \"y\": \"TPU-slow-INT8\", \"values\": null}, {\"x\": \"MLP 25%-FP16\", \"y\": \"TPU-slow-INT8\", \"values\": null}, {\"x\": \"MLP 25%-FP32\", \"y\": \"TPU-slow-INT8\", \"values\": null}, {\"x\": \"MLP 12.5%-INT2\", \"y\": \"TPU-slow-INT8\", \"values\": null}, {\"x\": \"MLP 12.5%-INT4\", \"y\": \"TPU-slow-INT8\", \"values\": null}, {\"x\": \"MLP 12.5%-FP16\", \"y\": \"TPU-slow-INT8\", \"values\": null}, {\"x\": \"MLP 12.5%-FP32\", \"y\": \"TPU-slow-INT8\", \"values\": null}, {\"x\": \"MLP 100%-INT2\", \"y\": \"NCS-INT8\", \"values\": null}, {\"x\": \"MLP 100%-INT4\", \"y\": \"NCS-INT8\", \"values\": null}, {\"x\": \"MLP 100%-FP16\", \"y\": \"NCS-INT8\", \"values\": null}, {\"x\": \"MLP 100%-FP32\", \"y\": \"NCS-INT8\", \"values\": null}, {\"x\": \"MLP 50%-INT2\", \"y\": \"NCS-INT8\", \"values\": null}, {\"x\": \"MLP 50%-INT4\", \"y\": \"NCS-INT8\", \"values\": null}, {\"x\": \"MLP 50%-FP16\", \"y\": \"NCS-INT8\", \"values\": null}, {\"x\": \"MLP 50%-FP32\", \"y\": \"NCS-INT8\", \"values\": null}, {\"x\": \"MLP 25%-INT2\", \"y\": \"NCS-INT8\", \"values\": null}, {\"x\": \"MLP 25%-INT4\", \"y\": \"NCS-INT8\", \"values\": null}, {\"x\": \"MLP 25%-FP16\", \"y\": \"NCS-INT8\", \"values\": null}, {\"x\": \"MLP 25%-FP32\", \"y\": \"NCS-INT8\", \"values\": null}, {\"x\": \"MLP 12.5%-INT2\", \"y\": \"NCS-INT8\", \"values\": null}, {\"x\": \"MLP 12.5%-INT4\", \"y\": \"NCS-INT8\", \"values\": null}, {\"x\": \"MLP 12.5%-FP16\", \"y\": \"NCS-INT8\", \"values\": null}, {\"x\": \"MLP 12.5%-FP32\", \"y\": \"NCS-INT8\", \"values\": null}, {\"x\": \"MLP 100%-INT2\", \"y\": \"NCS-FP16\", \"values\": null}, {\"x\": \"MLP 100%-INT4\", \"y\": \"NCS-FP16\", \"values\": null}, {\"x\": \"MLP 100%-FP16\", \"y\": \"NCS-FP16\", \"values\": 640.0}, {\"x\": \"MLP 100%-FP32\", \"y\": \"NCS-FP16\", \"values\": null}, {\"x\": \"MLP 50%-INT2\", \"y\": \"NCS-FP16\", \"values\": null}, {\"x\": \"MLP 50%-INT4\", \"y\": \"NCS-FP16\", \"values\": null}, {\"x\": \"MLP 50%-FP16\", \"y\": \"NCS-FP16\", \"values\": 2133.0}, {\"x\": \"MLP 50%-FP32\", \"y\": \"NCS-FP16\", \"values\": null}, {\"x\": \"MLP 25%-INT2\", \"y\": \"NCS-FP16\", \"values\": null}, {\"x\": \"MLP 25%-INT4\", \"y\": \"NCS-FP16\", \"values\": null}, {\"x\": \"MLP 25%-FP16\", \"y\": \"NCS-FP16\", \"values\": 6400.0}, {\"x\": \"MLP 25%-FP32\", \"y\": \"NCS-FP16\", \"values\": null}, {\"x\": \"MLP 12.5%-INT2\", \"y\": \"NCS-FP16\", \"values\": null}, {\"x\": \"MLP 12.5%-INT4\", \"y\": \"NCS-FP16\", \"values\": null}, {\"x\": \"MLP 12.5%-FP16\", \"y\": \"NCS-FP16\", \"values\": 19142.0}, {\"x\": \"MLP 12.5%-FP32\", \"y\": \"NCS-FP16\", \"values\": null}, {\"x\": \"MLP 100%-INT2\", \"y\": \"U96-Quadcore A53-INT8\", \"values\": 1704.0}, {\"x\": \"MLP 100%-INT4\", \"y\": \"U96-Quadcore A53-INT8\", \"values\": 852.0}, {\"x\": \"MLP 100%-FP16\", \"y\": \"U96-Quadcore A53-INT8\", \"values\": 213.0}, {\"x\": \"MLP 100%-FP32\", \"y\": \"U96-Quadcore A53-INT8\", \"values\": 106.0}, {\"x\": \"MLP 50%-INT2\", \"y\": \"U96-Quadcore A53-INT8\", \"values\": 5680.0}, {\"x\": \"MLP 50%-INT4\", \"y\": \"U96-Quadcore A53-INT8\", \"values\": 2840.0}, {\"x\": \"MLP 50%-FP16\", \"y\": \"U96-Quadcore A53-INT8\", \"values\": null}, {\"x\": \"MLP 50%-FP32\", \"y\": \"U96-Quadcore A53-INT8\", \"values\": null}, {\"x\": \"MLP 25%-INT2\", \"y\": \"U96-Quadcore A53-INT8\", \"values\": 17040.0}, {\"x\": \"MLP 25%-INT4\", \"y\": \"U96-Quadcore A53-INT8\", \"values\": 8520.0}, {\"x\": \"MLP 25%-FP16\", \"y\": \"U96-Quadcore A53-INT8\", \"values\": null}, {\"x\": \"MLP 25%-FP32\", \"y\": \"U96-Quadcore A53-INT8\", \"values\": null}, {\"x\": \"MLP 12.5%-INT2\", \"y\": \"U96-Quadcore A53-INT8\", \"values\": 50967.0}, {\"x\": \"MLP 12.5%-INT4\", \"y\": \"U96-Quadcore A53-INT8\", \"values\": 25483.0}, {\"x\": \"MLP 12.5%-FP16\", \"y\": \"U96-Quadcore A53-INT8\", \"values\": 6371.0}, {\"x\": \"MLP 12.5%-FP32\", \"y\": \"U96-Quadcore A53-INT8\", \"values\": 3185.0}]}}, {\"mode\": \"vega-lite\"});\n",
       "</script>"
      ],
      "text/plain": [
       "alt.LayerChart(...)"
      ]
     },
     "execution_count": 6,
     "metadata": {},
     "output_type": "execute_result"
    }
   ],
   "source": [
    "#hide_input\n",
    "%run scripts/altair_plots.py  #run the heatmaps script\n",
    "#load mnist dataset and plot it\n",
    "heatmap(pd.read_csv(\"data/processed_csv/performance_prediction_mnist.csv\"), 'red', 'Performance predictions for MNIST')"
   ]
  },
  {
   "cell_type": "code",
   "execution_count": null,
   "metadata": {},
   "outputs": [],
   "source": []
  },
  {
   "cell_type": "code",
   "execution_count": null,
   "metadata": {},
   "outputs": [],
   "source": []
  },
  {
   "cell_type": "code",
   "execution_count": null,
   "metadata": {},
   "outputs": [],
   "source": []
  }
 ],
 "metadata": {
  "kernelspec": {
   "display_name": "Python 3",
   "language": "python",
   "name": "python3"
  },
  "language_info": {
   "codemirror_mode": {
    "name": "ipython",
    "version": 3
   },
   "file_extension": ".py",
   "mimetype": "text/x-python",
   "name": "python",
   "nbconvert_exporter": "python",
   "pygments_lexer": "ipython3",
   "version": "3.7.4"
  },
  "widgets": {
   "application/vnd.jupyter.widget-state+json": {
    "state": {},
    "version_major": 2,
    "version_minor": 0
   }
  }
 },
 "nbformat": 4,
 "nbformat_minor": 4
}
