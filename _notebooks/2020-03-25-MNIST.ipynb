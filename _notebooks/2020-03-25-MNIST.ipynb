{
 "cells": [
  {
   "cell_type": "markdown",
   "metadata": {},
   "source": [
    "# MNIST Performance\n",
    "> Performance data for the MNIST benchmark\n",
    "\n",
    "- toc: true \n",
    "- badges: true\n",
    "- comments: true\n",
    "- categories: [l3, performance, MNIST]\n",
    "- image: images/mnist.png"
   ]
  },
  {
   "cell_type": "code",
   "execution_count": null,
   "metadata": {},
   "outputs": [],
   "source": [
    "csv_path = \"./data/cleaned_csv/backup.csv\""
   ]
  },
  {
   "cell_type": "markdown",
   "metadata": {
    "collapsed": "true"
   },
   "source": [
    "## Rooflines"
   ]
  },
  {
   "cell_type": "markdown",
   "metadata": {},
   "source": [
    "## L3 Performance"
   ]
  },
  {
   "cell_type": "code",
   "execution_count": 1,
   "metadata": {},
   "outputs": [],
   "source": [
    "#hide\n",
    "import pandas as pd\n",
    "import numpy as np\n",
    "import altair as alt\n",
    "\n",
    "W = 600\n",
    "H = 480"
   ]
  },
  {
   "cell_type": "code",
   "execution_count": null,
   "metadata": {},
   "outputs": [],
   "source": [
    "#hide\n",
    "#%writefile scripts/utils.py\n",
    "def norm_by_group(df, column, group_col):\n",
    "    \"\"\" Normalizes pandas series by group \"\"\"\n",
    "    df[\"norm-\"+column] = df.groupby(group_col)[column].apply(lambda x: (x / x.max()))\n",
    "    return df\n",
    "\n",
    "def select_color(sel, column):\n",
    "    \"\"\" Easy way to set colors based on selection for altair plots\n",
    "    \"\"\"\n",
    "    return alt.condition(sel, \n",
    "                      alt.Color(column),\n",
    "                      alt.value('lightgray'))\n",
    "\n",
    "def get_pareto_df(df, groupcol, xcol, ycol):\n",
    "    pareto_line_df = df.groupby(groupcol)[xcol].max().to_frame(\"x\")\n",
    "    pareto_line_df['y'] = df.groupby(groupcol)[ycol].agg(lambda x: x.value_counts().index[0])\n",
    "    pareto_line_df.sort_values('y', ascending=False, inplace=True)\n",
    "    pareto_line_df['x'] = pareto_line_df.x.cummax()\n",
    "    pareto_line_df.drop_duplicates('x', keep='first', inplace=True)\n",
    "    pareto_line_df['group'] = pareto_line_df.index\n",
    "    return pareto_line_df\n",
    "\n",
    "def label_point(x, y, val, ax, rot=0):\n",
    "    \"\"\" from https://stackoverflow.com/questions/46027653/adding-labels-in-x-y-scatter-plot-with-seaborn\"\"\"\n",
    "    a = pd.concat({'x': x, 'y': y, 'val': val}, axis=1)\n",
    "    for i, point in a.iterrows():\n",
    "        ax.text(point['x']+.02, point['y'], str(point['val']), rotation=rot)"
   ]
  },
  {
   "cell_type": "code",
   "execution_count": null,
   "metadata": {},
   "outputs": [],
   "source": [
    "#hide\n",
    "master_df = pd.read_csv(csv_path)\n",
    "is_maxp = lambda row: row.HWType != \"GPU\" or row[\"Op mode\"].split(\",\")[0] == \"maxp\"\n",
    "maxp_df = master_df[master_df.apply(is_maxp, axis=1)]\n",
    "maxp_df[\"hw_quant_prun\"] = maxp_df.apply(lambda r: \"_\".join([r.HWType, r.Precision, r.PruningFactor]), axis=1)\n",
    "mlp_df = maxp_df[(maxp_df[\"NN_Topology\"] == \"MLP\") & maxp_df['lat-comp'].notna()]\n",
    "mlp_df[\"hw_quant_prun\"] = mlp_df.apply(lambda r: \"_\".join([r.HWType, r.Precision, r.PruningFactor]), axis=1)\n",
    "mlp_df[\"PruningFactor\"] = mlp_df[\"PruningFactor\"].str.strip(\"%\").astype(float)\n",
    "norm_by_group(mlp_df, \"lat-comp\", \"NN_Topology\");\n",
    "mlp_df[\"quant_model\"] = mlp_df.Precision + '_' + mlp_df.HWType\n",
    "\n",
    "mnist_df    = maxp_df[(maxp_df.NN_Topology == 'MLP') & maxp_df[\"top1 [%]\"].notna()]\n",
    "mnist_df.rename(columns={\"top1 [%]\": \"top1\"}, inplace=True)"
   ]
  },
  {
   "cell_type": "markdown",
   "metadata": {},
   "source": [
    "## Table Statistics"
   ]
  },
  {
   "cell_type": "code",
   "execution_count": null,
   "metadata": {},
   "outputs": [],
   "source": [
    "#hide_input\n",
    "mnist_df.describe()"
   ]
  },
  {
   "cell_type": "code",
   "execution_count": null,
   "metadata": {},
   "outputs": [],
   "source": [
    "#hide\n",
    "figa_df = mlp_df[(mlp_df[\"HWType\"].isin([\"NCS\", \"ZCU104-Bismo\", \"A53-gemmlowp\"]))]\n",
    "figb_df = mlp_df[(mlp_df[\"HWType\"].isin([\"GPU\", \"ZCU104-FINN\", \"A53-gemmlowp\"]))]\n",
    "\n"
   ]
  },
  {
   "cell_type": "markdown",
   "metadata": {},
   "source": [
    "## Line Plot"
   ]
  },
  {
   "cell_type": "code",
   "execution_count": null,
   "metadata": {},
   "outputs": [],
   "source": [
    "#hide_input\n",
    "fig25s = []\n",
    "fig25_dfs = [figa_df, figb_df]\n",
    "for df in fig25_dfs:\n",
    "    sel = alt.selection_multi(fields=[\"hw_quant_prun\"], bind=\"legend\")\n",
    "    fig25_dot = alt.Chart(df).mark_point().encode(\n",
    "        x='lat-comp',\n",
    "        y=alt.Y('fps-comp', scale=alt.Scale(type=\"log\")),\n",
    "        color=select_color(sel, 'hw_quant_prun:N'),\n",
    "        tooltip=['fps-comp', 'lat-comp', 'HWType', 'batch/thread/stream'],\n",
    "    )\n",
    "    fig25_line = alt.Chart(df).mark_line().encode(\n",
    "        x='lat-comp',\n",
    "        y='fps-comp',\n",
    "        color=select_color(sel, 'hw_quant_prun:N'),\n",
    "        tooltip=['fps-comp', 'lat-comp', 'HWType', 'batch/thread/stream'],\n",
    "    )\n",
    "\n",
    "    fig = (fig25_dot+fig25_line).properties(\n",
    "        title=\"Latency versus Performance for Pruned and Quantized MLP Variants\",\n",
    "        width=W/len(fig25_dfs),\n",
    "        height=H,\n",
    "    ).add_selection(sel).interactive()\n",
    "    \n",
    "    fig25s.append(fig)\n",
    "    \n",
    "alt.hconcat(*fig25s)"
   ]
  },
  {
   "cell_type": "markdown",
   "metadata": {},
   "source": [
    "## Boxplots"
   ]
  },
  {
   "cell_type": "code",
   "execution_count": null,
   "metadata": {},
   "outputs": [],
   "source": [
    "#hide_input\n",
    "box1 = alt.Chart(mlp_df).mark_boxplot().encode(\n",
    "    x='PruningFactor:O',\n",
    "    y=alt.Y(\"lat-comp\", scale=alt.Scale(type=\"log\")),\n",
    "    color='PruningFactor:O',\n",
    ").facet(column=\"quant_model\").properties(\n",
    "    title=\"Latency by Hardware/Framework and Pruning for MLP\"\n",
    ").interactive()\n",
    "box1"
   ]
  },
  {
   "cell_type": "code",
   "execution_count": null,
   "metadata": {},
   "outputs": [],
   "source": [
    "#hide_input\n",
    "box1 = alt.Chart(mlp_df).mark_boxplot().encode(\n",
    "    x='PruningFactor:O',\n",
    "    y=alt.Y(\"fps-comp\", scale=alt.Scale(type=\"log\")),\n",
    "    color='PruningFactor:O',\n",
    ").facet(column=\"quant_model\").properties(\n",
    "    title=\"Throughput by Hardware/Framework and Pruning for MLP\",\n",
    ").interactive()\n",
    "box1"
   ]
  },
  {
   "cell_type": "markdown",
   "metadata": {},
   "source": [
    "## Pareto"
   ]
  },
  {
   "cell_type": "code",
   "execution_count": null,
   "metadata": {
    "slideshow": {
     "slide_type": "slide"
    }
   },
   "outputs": [],
   "source": [
    "#hide_input\n",
    "mnist_pareto = get_pareto_df(mnist_df, 'hw_quant_prun', 'fps-comp', 'top1')\n",
    "\n",
    "mnist_lines = alt.Chart(mnist_df).mark_line(point=True).encode(\n",
    "    x=\"fps-comp\",\n",
    "    y=alt.Y(\"top1:Q\", scale=alt.Scale(zero=False)),\n",
    "    color=alt.Color(\"hw_quant_prun\", legend=alt.Legend(columns=1)),\n",
    "    tooltip=[\"HWType\", \"Precision\", \"PruningFactor\", \"batch/thread/stream\", \"top1\", \"fps-comp\"],\n",
    ")\n",
    "mnist_pareto_plot = alt.Chart(mnist_pareto).mark_line().encode(\n",
    "    x=\"x\",\n",
    "    y=alt.Y(\"y\", scale=alt.Scale(zero=False)),\n",
    ")\n",
    "(mnist_lines+mnist_pareto_plot).interactive().properties(\n",
    "    width=W,\n",
    "    height=H,\n",
    "    title=\"MNIST Cassification Design Space: Accuracy versus Performance\"\n",
    ")"
   ]
  },
  {
   "cell_type": "markdown",
   "metadata": {},
   "source": [
    "# Performance Predictions for MNIST"
   ]
  },
  {
   "cell_type": "code",
   "execution_count": 3,
   "metadata": {},
   "outputs": [
    {
     "data": {
      "text/html": [
       "\n",
       "<div id=\"altair-viz-96f7f5c9b57649659a42f4ecbc61c45d\"></div>\n",
       "<script type=\"text/javascript\">\n",
       "  (function(spec, embedOpt){\n",
       "    const outputDiv = document.getElementById(\"altair-viz-96f7f5c9b57649659a42f4ecbc61c45d\");\n",
       "    const paths = {\n",
       "      \"vega\": \"https://cdn.jsdelivr.net/npm//vega@5?noext\",\n",
       "      \"vega-lib\": \"https://cdn.jsdelivr.net/npm//vega-lib?noext\",\n",
       "      \"vega-lite\": \"https://cdn.jsdelivr.net/npm//vega-lite@4.0.2?noext\",\n",
       "      \"vega-embed\": \"https://cdn.jsdelivr.net/npm//vega-embed@6?noext\",\n",
       "    };\n",
       "\n",
       "    function loadScript(lib) {\n",
       "      return new Promise(function(resolve, reject) {\n",
       "        var s = document.createElement('script');\n",
       "        s.src = paths[lib];\n",
       "        s.async = true;\n",
       "        s.onload = () => resolve(paths[lib]);\n",
       "        s.onerror = () => reject(`Error loading script: ${paths[lib]}`);\n",
       "        document.getElementsByTagName(\"head\")[0].appendChild(s);\n",
       "      });\n",
       "    }\n",
       "\n",
       "    function showError(err) {\n",
       "      outputDiv.innerHTML = `<div class=\"error\" style=\"color:red;\">${err}</div>`;\n",
       "      throw err;\n",
       "    }\n",
       "\n",
       "    function displayChart(vegaEmbed) {\n",
       "      vegaEmbed(outputDiv, spec, embedOpt)\n",
       "        .catch(err => showError(`Javascript Error: ${err.message}<br>This usually means there's a typo in your chart specification. See the javascript console for the full traceback.`));\n",
       "    }\n",
       "\n",
       "    if(typeof define === \"function\" && define.amd) {\n",
       "      requirejs.config({paths});\n",
       "      require([\"vega-embed\"], displayChart, err => showError(`Error loading script: ${err.message}`));\n",
       "    } else if (typeof vegaEmbed === \"function\") {\n",
       "      displayChart(vegaEmbed);\n",
       "    } else {\n",
       "      loadScript(\"vega\")\n",
       "        .then(() => loadScript(\"vega-lite\"))\n",
       "        .then(() => loadScript(\"vega-embed\"))\n",
       "        .catch(showError)\n",
       "        .then(() => displayChart(vegaEmbed));\n",
       "    }\n",
       "  })({\"config\": {\"view\": {\"continuousWidth\": 400, \"continuousHeight\": 300}}, \"layer\": [{\"mark\": {\"type\": \"rect\", \"invalid\": null, \"stroke\": \"black\", \"strokeWidth\": 1}, \"encoding\": {\"color\": {\"type\": \"quantitative\", \"condition\": {\"value\": \"red\", \"selection\": \"selector001\"}, \"field\": \"values\", \"scale\": {\"scheme\": \"lightmulti\", \"type\": \"log\"}, \"title\": \"Input/second\"}, \"tooltip\": [{\"type\": \"quantitative\", \"field\": \"values\", \"title\": \"Input/sec\"}, {\"type\": \"nominal\", \"field\": \"x\", \"title\": \"Model\"}, {\"type\": \"nominal\", \"field\": \"y\", \"title\": \"Hardware Platform\"}], \"x\": {\"type\": \"ordinal\", \"field\": \"x\", \"title\": \"Models\"}, \"y\": {\"type\": \"ordinal\", \"field\": \"y\", \"title\": \"Hardware Platfroms\"}}, \"height\": 350, \"selection\": {\"selector001\": {\"type\": \"single\", \"on\": \"mouseover\", \"nearest\": true}}, \"title\": \"Performance predictions for CIFAR 10\", \"width\": 700}, {\"mark\": {\"type\": \"text\", \"color\": \"white\"}, \"encoding\": {\"color\": {\"condition\": {\"value\": \"black\", \"test\": \"(datum.values > 1)\"}, \"value\": \"white\"}, \"text\": {\"type\": \"quantitative\", \"field\": \"values\", \"format\": \".0f\"}, \"tooltip\": [{\"type\": \"quantitative\", \"field\": \"values\", \"format\": \".0f\", \"title\": \"Input/sec\"}, {\"type\": \"nominal\", \"field\": \"x\", \"title\": \"Model\"}, {\"type\": \"nominal\", \"field\": \"y\", \"title\": \"Hardware Platform\"}], \"x\": {\"type\": \"ordinal\", \"field\": \"x\", \"title\": \"Models\"}, \"y\": {\"type\": \"ordinal\", \"field\": \"y\", \"title\": \"Hardware Platfroms\"}}}], \"data\": {\"name\": \"data-7b99d5246d1643da0b68a10ff8135a6a\"}, \"$schema\": \"https://vega.github.io/schema/vega-lite/v4.0.2.json\", \"datasets\": {\"data-7b99d5246d1643da0b68a10ff8135a6a\": [{\"x\": \"MLP 100%-INT2\", \"y\": \"Ultra96-INT8\", \"values\": null}, {\"x\": \"MLP 100%-INT4\", \"y\": \"Ultra96-INT8\", \"values\": null}, {\"x\": \"MLP 100%-FP16\", \"y\": \"Ultra96-INT8\", \"values\": null}, {\"x\": \"MLP 100%-FP32\", \"y\": \"Ultra96-INT8\", \"values\": null}, {\"x\": \"MLP 50%-INT2\", \"y\": \"Ultra96-INT8\", \"values\": null}, {\"x\": \"MLP 50%-INT4\", \"y\": \"Ultra96-INT8\", \"values\": null}, {\"x\": \"MLP 50%-FP16\", \"y\": \"Ultra96-INT8\", \"values\": null}, {\"x\": \"MLP 50%-FP32\", \"y\": \"Ultra96-INT8\", \"values\": null}, {\"x\": \"MLP 25%-INT2\", \"y\": \"Ultra96-INT8\", \"values\": null}, {\"x\": \"MLP 25%-INT4\", \"y\": \"Ultra96-INT8\", \"values\": null}, {\"x\": \"MLP 25%-FP16\", \"y\": \"Ultra96-INT8\", \"values\": null}, {\"x\": \"MLP 25%-FP32\", \"y\": \"Ultra96-INT8\", \"values\": null}, {\"x\": \"MLP 12.5%-INT2\", \"y\": \"Ultra96-INT8\", \"values\": null}, {\"x\": \"MLP 12.5%-INT4\", \"y\": \"Ultra96-INT8\", \"values\": null}, {\"x\": \"MLP 12.5%-FP16\", \"y\": \"Ultra96-INT8\", \"values\": null}, {\"x\": \"MLP 12.5%-FP32\", \"y\": \"Ultra96-INT8\", \"values\": null}, {\"x\": \"MLP 100%-INT2\", \"y\": \"ZCU104-DPU-INT8\", \"values\": null}, {\"x\": \"MLP 100%-INT4\", \"y\": \"ZCU104-DPU-INT8\", \"values\": null}, {\"x\": \"MLP 100%-FP16\", \"y\": \"ZCU104-DPU-INT8\", \"values\": null}, {\"x\": \"MLP 100%-FP32\", \"y\": \"ZCU104-DPU-INT8\", \"values\": null}, {\"x\": \"MLP 50%-INT2\", \"y\": \"ZCU104-DPU-INT8\", \"values\": null}, {\"x\": \"MLP 50%-INT4\", \"y\": \"ZCU104-DPU-INT8\", \"values\": null}, {\"x\": \"MLP 50%-FP16\", \"y\": \"ZCU104-DPU-INT8\", \"values\": null}, {\"x\": \"MLP 50%-FP32\", \"y\": \"ZCU104-DPU-INT8\", \"values\": null}, {\"x\": \"MLP 25%-INT2\", \"y\": \"ZCU104-DPU-INT8\", \"values\": null}, {\"x\": \"MLP 25%-INT4\", \"y\": \"ZCU104-DPU-INT8\", \"values\": null}, {\"x\": \"MLP 25%-FP16\", \"y\": \"ZCU104-DPU-INT8\", \"values\": null}, {\"x\": \"MLP 25%-FP32\", \"y\": \"ZCU104-DPU-INT8\", \"values\": null}, {\"x\": \"MLP 12.5%-INT2\", \"y\": \"ZCU104-DPU-INT8\", \"values\": null}, {\"x\": \"MLP 12.5%-INT4\", \"y\": \"ZCU104-DPU-INT8\", \"values\": null}, {\"x\": \"MLP 12.5%-FP16\", \"y\": \"ZCU104-DPU-INT8\", \"values\": null}, {\"x\": \"MLP 12.5%-FP32\", \"y\": \"ZCU104-DPU-INT8\", \"values\": null}, {\"x\": \"MLP 100%-INT2\", \"y\": \"ZCU102-DPU-INT8\", \"values\": null}, {\"x\": \"MLP 100%-INT4\", \"y\": \"ZCU102-DPU-INT8\", \"values\": null}, {\"x\": \"MLP 100%-FP16\", \"y\": \"ZCU102-DPU-INT8\", \"values\": null}, {\"x\": \"MLP 100%-FP32\", \"y\": \"ZCU102-DPU-INT8\", \"values\": null}, {\"x\": \"MLP 50%-INT2\", \"y\": \"ZCU102-DPU-INT8\", \"values\": null}, {\"x\": \"MLP 50%-INT4\", \"y\": \"ZCU102-DPU-INT8\", \"values\": null}, {\"x\": \"MLP 50%-FP16\", \"y\": \"ZCU102-DPU-INT8\", \"values\": null}, {\"x\": \"MLP 50%-FP32\", \"y\": \"ZCU102-DPU-INT8\", \"values\": null}, {\"x\": \"MLP 25%-INT2\", \"y\": \"ZCU102-DPU-INT8\", \"values\": null}, {\"x\": \"MLP 25%-INT4\", \"y\": \"ZCU102-DPU-INT8\", \"values\": null}, {\"x\": \"MLP 25%-FP16\", \"y\": \"ZCU102-DPU-INT8\", \"values\": null}, {\"x\": \"MLP 25%-FP32\", \"y\": \"ZCU102-DPU-INT8\", \"values\": null}, {\"x\": \"MLP 12.5%-INT2\", \"y\": \"ZCU102-DPU-INT8\", \"values\": null}, {\"x\": \"MLP 12.5%-INT4\", \"y\": \"ZCU102-DPU-INT8\", \"values\": null}, {\"x\": \"MLP 12.5%-FP16\", \"y\": \"ZCU102-DPU-INT8\", \"values\": null}, {\"x\": \"MLP 12.5%-FP32\", \"y\": \"ZCU102-DPU-INT8\", \"values\": null}, {\"x\": \"MLP 100%-INT2\", \"y\": \"ZCU104-FINN-INT2\", \"values\": 7680.0}, {\"x\": \"MLP 100%-INT4\", \"y\": \"ZCU104-FINN-INT2\", \"values\": 3840.0}, {\"x\": \"MLP 100%-FP16\", \"y\": \"ZCU104-FINN-INT2\", \"values\": null}, {\"x\": \"MLP 100%-FP32\", \"y\": \"ZCU104-FINN-INT2\", \"values\": null}, {\"x\": \"MLP 50%-INT2\", \"y\": \"ZCU104-FINN-INT2\", \"values\": 25600.0}, {\"x\": \"MLP 50%-INT4\", \"y\": \"ZCU104-FINN-INT2\", \"values\": 12800.0}, {\"x\": \"MLP 50%-FP16\", \"y\": \"ZCU104-FINN-INT2\", \"values\": null}, {\"x\": \"MLP 50%-FP32\", \"y\": \"ZCU104-FINN-INT2\", \"values\": null}, {\"x\": \"MLP 25%-INT2\", \"y\": \"ZCU104-FINN-INT2\", \"values\": 76800.0}, {\"x\": \"MLP 25%-INT4\", \"y\": \"ZCU104-FINN-INT2\", \"values\": 38400.0}, {\"x\": \"MLP 25%-FP16\", \"y\": \"ZCU104-FINN-INT2\", \"values\": null}, {\"x\": \"MLP 25%-FP32\", \"y\": \"ZCU104-FINN-INT2\", \"values\": null}, {\"x\": \"MLP 12.5%-INT2\", \"y\": \"ZCU104-FINN-INT2\", \"values\": 229709.0}, {\"x\": \"MLP 12.5%-INT4\", \"y\": \"ZCU104-FINN-INT2\", \"values\": 114855.0}, {\"x\": \"MLP 12.5%-FP16\", \"y\": \"ZCU104-FINN-INT2\", \"values\": null}, {\"x\": \"MLP 12.5%-FP32\", \"y\": \"ZCU104-FINN-INT2\", \"values\": null}, {\"x\": \"MLP 100%-INT2\", \"y\": \"ZCU104-FINN-INT4\", \"values\": 7680.0}, {\"x\": \"MLP 100%-INT4\", \"y\": \"ZCU104-FINN-INT4\", \"values\": 3840.0}, {\"x\": \"MLP 100%-FP16\", \"y\": \"ZCU104-FINN-INT4\", \"values\": null}, {\"x\": \"MLP 100%-FP32\", \"y\": \"ZCU104-FINN-INT4\", \"values\": null}, {\"x\": \"MLP 50%-INT2\", \"y\": \"ZCU104-FINN-INT4\", \"values\": 25600.0}, {\"x\": \"MLP 50%-INT4\", \"y\": \"ZCU104-FINN-INT4\", \"values\": 12800.0}, {\"x\": \"MLP 50%-FP16\", \"y\": \"ZCU104-FINN-INT4\", \"values\": null}, {\"x\": \"MLP 50%-FP32\", \"y\": \"ZCU104-FINN-INT4\", \"values\": null}, {\"x\": \"MLP 25%-INT2\", \"y\": \"ZCU104-FINN-INT4\", \"values\": 76800.0}, {\"x\": \"MLP 25%-INT4\", \"y\": \"ZCU104-FINN-INT4\", \"values\": 38400.0}, {\"x\": \"MLP 25%-FP16\", \"y\": \"ZCU104-FINN-INT4\", \"values\": null}, {\"x\": \"MLP 25%-FP32\", \"y\": \"ZCU104-FINN-INT4\", \"values\": null}, {\"x\": \"MLP 12.5%-INT2\", \"y\": \"ZCU104-FINN-INT4\", \"values\": 229709.0}, {\"x\": \"MLP 12.5%-INT4\", \"y\": \"ZCU104-FINN-INT4\", \"values\": 114855.0}, {\"x\": \"MLP 12.5%-FP16\", \"y\": \"ZCU104-FINN-INT4\", \"values\": null}, {\"x\": \"MLP 12.5%-FP32\", \"y\": \"ZCU104-FINN-INT4\", \"values\": null}, {\"x\": \"MLP 100%-INT2\", \"y\": \"ZCU104-BISMO-INT2\", \"values\": 7680.0}, {\"x\": \"MLP 100%-INT4\", \"y\": \"ZCU104-BISMO-INT2\", \"values\": 3840.0}, {\"x\": \"MLP 100%-FP16\", \"y\": \"ZCU104-BISMO-INT2\", \"values\": null}, {\"x\": \"MLP 100%-FP32\", \"y\": \"ZCU104-BISMO-INT2\", \"values\": null}, {\"x\": \"MLP 50%-INT2\", \"y\": \"ZCU104-BISMO-INT2\", \"values\": 25600.0}, {\"x\": \"MLP 50%-INT4\", \"y\": \"ZCU104-BISMO-INT2\", \"values\": 12800.0}, {\"x\": \"MLP 50%-FP16\", \"y\": \"ZCU104-BISMO-INT2\", \"values\": null}, {\"x\": \"MLP 50%-FP32\", \"y\": \"ZCU104-BISMO-INT2\", \"values\": null}, {\"x\": \"MLP 25%-INT2\", \"y\": \"ZCU104-BISMO-INT2\", \"values\": 76800.0}, {\"x\": \"MLP 25%-INT4\", \"y\": \"ZCU104-BISMO-INT2\", \"values\": 38400.0}, {\"x\": \"MLP 25%-FP16\", \"y\": \"ZCU104-BISMO-INT2\", \"values\": null}, {\"x\": \"MLP 25%-FP32\", \"y\": \"ZCU104-BISMO-INT2\", \"values\": null}, {\"x\": \"MLP 12.5%-INT2\", \"y\": \"ZCU104-BISMO-INT2\", \"values\": 229709.0}, {\"x\": \"MLP 12.5%-INT4\", \"y\": \"ZCU104-BISMO-INT2\", \"values\": 114855.0}, {\"x\": \"MLP 12.5%-FP16\", \"y\": \"ZCU104-BISMO-INT2\", \"values\": null}, {\"x\": \"MLP 12.5%-FP32\", \"y\": \"ZCU104-BISMO-INT2\", \"values\": null}, {\"x\": \"MLP 100%-INT2\", \"y\": \"ZCU104-BISMO-INT4\", \"values\": 7680.0}, {\"x\": \"MLP 100%-INT4\", \"y\": \"ZCU104-BISMO-INT4\", \"values\": 3840.0}, {\"x\": \"MLP 100%-FP16\", \"y\": \"ZCU104-BISMO-INT4\", \"values\": null}, {\"x\": \"MLP 100%-FP32\", \"y\": \"ZCU104-BISMO-INT4\", \"values\": null}, {\"x\": \"MLP 50%-INT2\", \"y\": \"ZCU104-BISMO-INT4\", \"values\": 25600.0}, {\"x\": \"MLP 50%-INT4\", \"y\": \"ZCU104-BISMO-INT4\", \"values\": 12800.0}, {\"x\": \"MLP 50%-FP16\", \"y\": \"ZCU104-BISMO-INT4\", \"values\": null}, {\"x\": \"MLP 50%-FP32\", \"y\": \"ZCU104-BISMO-INT4\", \"values\": null}, {\"x\": \"MLP 25%-INT2\", \"y\": \"ZCU104-BISMO-INT4\", \"values\": 76800.0}, {\"x\": \"MLP 25%-INT4\", \"y\": \"ZCU104-BISMO-INT4\", \"values\": 38400.0}, {\"x\": \"MLP 25%-FP16\", \"y\": \"ZCU104-BISMO-INT4\", \"values\": null}, {\"x\": \"MLP 25%-FP32\", \"y\": \"ZCU104-BISMO-INT4\", \"values\": null}, {\"x\": \"MLP 12.5%-INT2\", \"y\": \"ZCU104-BISMO-INT4\", \"values\": 229709.0}, {\"x\": \"MLP 12.5%-INT4\", \"y\": \"ZCU104-BISMO-INT4\", \"values\": 114855.0}, {\"x\": \"MLP 12.5%-FP16\", \"y\": \"ZCU104-BISMO-INT4\", \"values\": null}, {\"x\": \"MLP 12.5%-FP32\", \"y\": \"ZCU104-BISMO-INT4\", \"values\": null}, {\"x\": \"MLP 100%-INT2\", \"y\": \"TX2-maxn-FP16\", \"values\": null}, {\"x\": \"MLP 100%-INT4\", \"y\": \"TX2-maxn-FP16\", \"values\": null}, {\"x\": \"MLP 100%-FP16\", \"y\": \"TX2-maxn-FP16\", \"values\": 2985.0}, {\"x\": \"MLP 100%-FP32\", \"y\": \"TX2-maxn-FP16\", \"values\": null}, {\"x\": \"MLP 50%-INT2\", \"y\": \"TX2-maxn-FP16\", \"values\": null}, {\"x\": \"MLP 50%-INT4\", \"y\": \"TX2-maxn-FP16\", \"values\": null}, {\"x\": \"MLP 50%-FP16\", \"y\": \"TX2-maxn-FP16\", \"values\": 9950.0}, {\"x\": \"MLP 50%-FP32\", \"y\": \"TX2-maxn-FP16\", \"values\": null}, {\"x\": \"MLP 25%-INT2\", \"y\": \"TX2-maxn-FP16\", \"values\": null}, {\"x\": \"MLP 25%-INT4\", \"y\": \"TX2-maxn-FP16\", \"values\": null}, {\"x\": \"MLP 25%-FP16\", \"y\": \"TX2-maxn-FP16\", \"values\": 29850.0}, {\"x\": \"MLP 25%-FP32\", \"y\": \"TX2-maxn-FP16\", \"values\": null}, {\"x\": \"MLP 12.5%-INT2\", \"y\": \"TX2-maxn-FP16\", \"values\": null}, {\"x\": \"MLP 12.5%-INT4\", \"y\": \"TX2-maxn-FP16\", \"values\": null}, {\"x\": \"MLP 12.5%-FP16\", \"y\": \"TX2-maxn-FP16\", \"values\": 89281.0}, {\"x\": \"MLP 12.5%-FP32\", \"y\": \"TX2-maxn-FP16\", \"values\": null}, {\"x\": \"MLP 100%-INT2\", \"y\": \"TX2-maxn-FP32\", \"values\": null}, {\"x\": \"MLP 100%-INT4\", \"y\": \"TX2-maxn-FP32\", \"values\": null}, {\"x\": \"MLP 100%-FP16\", \"y\": \"TX2-maxn-FP32\", \"values\": null}, {\"x\": \"MLP 100%-FP32\", \"y\": \"TX2-maxn-FP32\", \"values\": 1492.0}, {\"x\": \"MLP 50%-INT2\", \"y\": \"TX2-maxn-FP32\", \"values\": null}, {\"x\": \"MLP 50%-INT4\", \"y\": \"TX2-maxn-FP32\", \"values\": null}, {\"x\": \"MLP 50%-FP16\", \"y\": \"TX2-maxn-FP32\", \"values\": null}, {\"x\": \"MLP 50%-FP32\", \"y\": \"TX2-maxn-FP32\", \"values\": 4975.0}, {\"x\": \"MLP 25%-INT2\", \"y\": \"TX2-maxn-FP32\", \"values\": null}, {\"x\": \"MLP 25%-INT4\", \"y\": \"TX2-maxn-FP32\", \"values\": null}, {\"x\": \"MLP 25%-FP16\", \"y\": \"TX2-maxn-FP32\", \"values\": null}, {\"x\": \"MLP 25%-FP32\", \"y\": \"TX2-maxn-FP32\", \"values\": 14925.0}, {\"x\": \"MLP 12.5%-INT2\", \"y\": \"TX2-maxn-FP32\", \"values\": null}, {\"x\": \"MLP 12.5%-INT4\", \"y\": \"TX2-maxn-FP32\", \"values\": null}, {\"x\": \"MLP 12.5%-FP16\", \"y\": \"TX2-maxn-FP32\", \"values\": null}, {\"x\": \"MLP 12.5%-FP32\", \"y\": \"TX2-maxn-FP32\", \"values\": 44641.0}, {\"x\": \"MLP 100%-INT2\", \"y\": \"TX2-maxp-FP16\", \"values\": null}, {\"x\": \"MLP 100%-INT4\", \"y\": \"TX2-maxp-FP16\", \"values\": null}, {\"x\": \"MLP 100%-FP16\", \"y\": \"TX2-maxp-FP16\", \"values\": 2985.0}, {\"x\": \"MLP 100%-FP32\", \"y\": \"TX2-maxp-FP16\", \"values\": null}, {\"x\": \"MLP 50%-INT2\", \"y\": \"TX2-maxp-FP16\", \"values\": null}, {\"x\": \"MLP 50%-INT4\", \"y\": \"TX2-maxp-FP16\", \"values\": null}, {\"x\": \"MLP 50%-FP16\", \"y\": \"TX2-maxp-FP16\", \"values\": 9950.0}, {\"x\": \"MLP 50%-FP32\", \"y\": \"TX2-maxp-FP16\", \"values\": null}, {\"x\": \"MLP 25%-INT2\", \"y\": \"TX2-maxp-FP16\", \"values\": null}, {\"x\": \"MLP 25%-INT4\", \"y\": \"TX2-maxp-FP16\", \"values\": null}, {\"x\": \"MLP 25%-FP16\", \"y\": \"TX2-maxp-FP16\", \"values\": 29850.0}, {\"x\": \"MLP 25%-FP32\", \"y\": \"TX2-maxp-FP16\", \"values\": null}, {\"x\": \"MLP 12.5%-INT2\", \"y\": \"TX2-maxp-FP16\", \"values\": null}, {\"x\": \"MLP 12.5%-INT4\", \"y\": \"TX2-maxp-FP16\", \"values\": null}, {\"x\": \"MLP 12.5%-FP16\", \"y\": \"TX2-maxp-FP16\", \"values\": 89281.0}, {\"x\": \"MLP 12.5%-FP32\", \"y\": \"TX2-maxp-FP16\", \"values\": null}, {\"x\": \"MLP 100%-INT2\", \"y\": \"TX2-maxp-FP32\", \"values\": null}, {\"x\": \"MLP 100%-INT4\", \"y\": \"TX2-maxp-FP32\", \"values\": null}, {\"x\": \"MLP 100%-FP16\", \"y\": \"TX2-maxp-FP32\", \"values\": null}, {\"x\": \"MLP 100%-FP32\", \"y\": \"TX2-maxp-FP32\", \"values\": 1492.0}, {\"x\": \"MLP 50%-INT2\", \"y\": \"TX2-maxp-FP32\", \"values\": null}, {\"x\": \"MLP 50%-INT4\", \"y\": \"TX2-maxp-FP32\", \"values\": null}, {\"x\": \"MLP 50%-FP16\", \"y\": \"TX2-maxp-FP32\", \"values\": null}, {\"x\": \"MLP 50%-FP32\", \"y\": \"TX2-maxp-FP32\", \"values\": 4975.0}, {\"x\": \"MLP 25%-INT2\", \"y\": \"TX2-maxp-FP32\", \"values\": null}, {\"x\": \"MLP 25%-INT4\", \"y\": \"TX2-maxp-FP32\", \"values\": null}, {\"x\": \"MLP 25%-FP16\", \"y\": \"TX2-maxp-FP32\", \"values\": null}, {\"x\": \"MLP 25%-FP32\", \"y\": \"TX2-maxp-FP32\", \"values\": 14925.0}, {\"x\": \"MLP 12.5%-INT2\", \"y\": \"TX2-maxp-FP32\", \"values\": null}, {\"x\": \"MLP 12.5%-INT4\", \"y\": \"TX2-maxp-FP32\", \"values\": null}, {\"x\": \"MLP 12.5%-FP16\", \"y\": \"TX2-maxp-FP32\", \"values\": null}, {\"x\": \"MLP 12.5%-FP32\", \"y\": \"TX2-maxp-FP32\", \"values\": 44641.0}, {\"x\": \"MLP 100%-INT2\", \"y\": \"TX2-maxq-FP16\", \"values\": null}, {\"x\": \"MLP 100%-INT4\", \"y\": \"TX2-maxq-FP16\", \"values\": null}, {\"x\": \"MLP 100%-FP16\", \"y\": \"TX2-maxq-FP16\", \"values\": 2985.0}, {\"x\": \"MLP 100%-FP32\", \"y\": \"TX2-maxq-FP16\", \"values\": null}, {\"x\": \"MLP 50%-INT2\", \"y\": \"TX2-maxq-FP16\", \"values\": null}, {\"x\": \"MLP 50%-INT4\", \"y\": \"TX2-maxq-FP16\", \"values\": null}, {\"x\": \"MLP 50%-FP16\", \"y\": \"TX2-maxq-FP16\", \"values\": 9950.0}, {\"x\": \"MLP 50%-FP32\", \"y\": \"TX2-maxq-FP16\", \"values\": null}, {\"x\": \"MLP 25%-INT2\", \"y\": \"TX2-maxq-FP16\", \"values\": null}, {\"x\": \"MLP 25%-INT4\", \"y\": \"TX2-maxq-FP16\", \"values\": null}, {\"x\": \"MLP 25%-FP16\", \"y\": \"TX2-maxq-FP16\", \"values\": 29850.0}, {\"x\": \"MLP 25%-FP32\", \"y\": \"TX2-maxq-FP16\", \"values\": null}, {\"x\": \"MLP 12.5%-INT2\", \"y\": \"TX2-maxq-FP16\", \"values\": null}, {\"x\": \"MLP 12.5%-INT4\", \"y\": \"TX2-maxq-FP16\", \"values\": null}, {\"x\": \"MLP 12.5%-FP16\", \"y\": \"TX2-maxq-FP16\", \"values\": 89281.0}, {\"x\": \"MLP 12.5%-FP32\", \"y\": \"TX2-maxq-FP16\", \"values\": null}, {\"x\": \"MLP 100%-INT2\", \"y\": \"TX2-maxq-FP32\", \"values\": null}, {\"x\": \"MLP 100%-INT4\", \"y\": \"TX2-maxq-FP32\", \"values\": null}, {\"x\": \"MLP 100%-FP16\", \"y\": \"TX2-maxq-FP32\", \"values\": null}, {\"x\": \"MLP 100%-FP32\", \"y\": \"TX2-maxq-FP32\", \"values\": 1492.0}, {\"x\": \"MLP 50%-INT2\", \"y\": \"TX2-maxq-FP32\", \"values\": null}, {\"x\": \"MLP 50%-INT4\", \"y\": \"TX2-maxq-FP32\", \"values\": null}, {\"x\": \"MLP 50%-FP16\", \"y\": \"TX2-maxq-FP32\", \"values\": null}, {\"x\": \"MLP 50%-FP32\", \"y\": \"TX2-maxq-FP32\", \"values\": 4975.0}, {\"x\": \"MLP 25%-INT2\", \"y\": \"TX2-maxq-FP32\", \"values\": null}, {\"x\": \"MLP 25%-INT4\", \"y\": \"TX2-maxq-FP32\", \"values\": null}, {\"x\": \"MLP 25%-FP16\", \"y\": \"TX2-maxq-FP32\", \"values\": null}, {\"x\": \"MLP 25%-FP32\", \"y\": \"TX2-maxq-FP32\", \"values\": 14925.0}, {\"x\": \"MLP 12.5%-INT2\", \"y\": \"TX2-maxq-FP32\", \"values\": null}, {\"x\": \"MLP 12.5%-INT4\", \"y\": \"TX2-maxq-FP32\", \"values\": null}, {\"x\": \"MLP 12.5%-FP16\", \"y\": \"TX2-maxq-FP32\", \"values\": null}, {\"x\": \"MLP 12.5%-FP32\", \"y\": \"TX2-maxq-FP32\", \"values\": 44641.0}, {\"x\": \"MLP 100%-INT2\", \"y\": \"TPU-fast-INT8\", \"values\": null}, {\"x\": \"MLP 100%-INT4\", \"y\": \"TPU-fast-INT8\", \"values\": null}, {\"x\": \"MLP 100%-FP16\", \"y\": \"TPU-fast-INT8\", \"values\": null}, {\"x\": \"MLP 100%-FP32\", \"y\": \"TPU-fast-INT8\", \"values\": null}, {\"x\": \"MLP 50%-INT2\", \"y\": \"TPU-fast-INT8\", \"values\": null}, {\"x\": \"MLP 50%-INT4\", \"y\": \"TPU-fast-INT8\", \"values\": null}, {\"x\": \"MLP 50%-FP16\", \"y\": \"TPU-fast-INT8\", \"values\": null}, {\"x\": \"MLP 50%-FP32\", \"y\": \"TPU-fast-INT8\", \"values\": null}, {\"x\": \"MLP 25%-INT2\", \"y\": \"TPU-fast-INT8\", \"values\": null}, {\"x\": \"MLP 25%-INT4\", \"y\": \"TPU-fast-INT8\", \"values\": null}, {\"x\": \"MLP 25%-FP16\", \"y\": \"TPU-fast-INT8\", \"values\": null}, {\"x\": \"MLP 25%-FP32\", \"y\": \"TPU-fast-INT8\", \"values\": null}, {\"x\": \"MLP 12.5%-INT2\", \"y\": \"TPU-fast-INT8\", \"values\": null}, {\"x\": \"MLP 12.5%-INT4\", \"y\": \"TPU-fast-INT8\", \"values\": null}, {\"x\": \"MLP 12.5%-FP16\", \"y\": \"TPU-fast-INT8\", \"values\": null}, {\"x\": \"MLP 12.5%-FP32\", \"y\": \"TPU-fast-INT8\", \"values\": null}, {\"x\": \"MLP 100%-INT2\", \"y\": \"TPU-slow-INT8\", \"values\": null}, {\"x\": \"MLP 100%-INT4\", \"y\": \"TPU-slow-INT8\", \"values\": null}, {\"x\": \"MLP 100%-FP16\", \"y\": \"TPU-slow-INT8\", \"values\": null}, {\"x\": \"MLP 100%-FP32\", \"y\": \"TPU-slow-INT8\", \"values\": null}, {\"x\": \"MLP 50%-INT2\", \"y\": \"TPU-slow-INT8\", \"values\": null}, {\"x\": \"MLP 50%-INT4\", \"y\": \"TPU-slow-INT8\", \"values\": null}, {\"x\": \"MLP 50%-FP16\", \"y\": \"TPU-slow-INT8\", \"values\": null}, {\"x\": \"MLP 50%-FP32\", \"y\": \"TPU-slow-INT8\", \"values\": null}, {\"x\": \"MLP 25%-INT2\", \"y\": \"TPU-slow-INT8\", \"values\": null}, {\"x\": \"MLP 25%-INT4\", \"y\": \"TPU-slow-INT8\", \"values\": null}, {\"x\": \"MLP 25%-FP16\", \"y\": \"TPU-slow-INT8\", \"values\": null}, {\"x\": \"MLP 25%-FP32\", \"y\": \"TPU-slow-INT8\", \"values\": null}, {\"x\": \"MLP 12.5%-INT2\", \"y\": \"TPU-slow-INT8\", \"values\": null}, {\"x\": \"MLP 12.5%-INT4\", \"y\": \"TPU-slow-INT8\", \"values\": null}, {\"x\": \"MLP 12.5%-FP16\", \"y\": \"TPU-slow-INT8\", \"values\": null}, {\"x\": \"MLP 12.5%-FP32\", \"y\": \"TPU-slow-INT8\", \"values\": null}, {\"x\": \"MLP 100%-INT2\", \"y\": \"NCS-INT8\", \"values\": null}, {\"x\": \"MLP 100%-INT4\", \"y\": \"NCS-INT8\", \"values\": null}, {\"x\": \"MLP 100%-FP16\", \"y\": \"NCS-INT8\", \"values\": null}, {\"x\": \"MLP 100%-FP32\", \"y\": \"NCS-INT8\", \"values\": null}, {\"x\": \"MLP 50%-INT2\", \"y\": \"NCS-INT8\", \"values\": null}, {\"x\": \"MLP 50%-INT4\", \"y\": \"NCS-INT8\", \"values\": null}, {\"x\": \"MLP 50%-FP16\", \"y\": \"NCS-INT8\", \"values\": null}, {\"x\": \"MLP 50%-FP32\", \"y\": \"NCS-INT8\", \"values\": null}, {\"x\": \"MLP 25%-INT2\", \"y\": \"NCS-INT8\", \"values\": null}, {\"x\": \"MLP 25%-INT4\", \"y\": \"NCS-INT8\", \"values\": null}, {\"x\": \"MLP 25%-FP16\", \"y\": \"NCS-INT8\", \"values\": null}, {\"x\": \"MLP 25%-FP32\", \"y\": \"NCS-INT8\", \"values\": null}, {\"x\": \"MLP 12.5%-INT2\", \"y\": \"NCS-INT8\", \"values\": null}, {\"x\": \"MLP 12.5%-INT4\", \"y\": \"NCS-INT8\", \"values\": null}, {\"x\": \"MLP 12.5%-FP16\", \"y\": \"NCS-INT8\", \"values\": null}, {\"x\": \"MLP 12.5%-FP32\", \"y\": \"NCS-INT8\", \"values\": null}, {\"x\": \"MLP 100%-INT2\", \"y\": \"NCS-FP16\", \"values\": null}, {\"x\": \"MLP 100%-INT4\", \"y\": \"NCS-FP16\", \"values\": null}, {\"x\": \"MLP 100%-FP16\", \"y\": \"NCS-FP16\", \"values\": 640.0}, {\"x\": \"MLP 100%-FP32\", \"y\": \"NCS-FP16\", \"values\": null}, {\"x\": \"MLP 50%-INT2\", \"y\": \"NCS-FP16\", \"values\": null}, {\"x\": \"MLP 50%-INT4\", \"y\": \"NCS-FP16\", \"values\": null}, {\"x\": \"MLP 50%-FP16\", \"y\": \"NCS-FP16\", \"values\": 2133.0}, {\"x\": \"MLP 50%-FP32\", \"y\": \"NCS-FP16\", \"values\": null}, {\"x\": \"MLP 25%-INT2\", \"y\": \"NCS-FP16\", \"values\": null}, {\"x\": \"MLP 25%-INT4\", \"y\": \"NCS-FP16\", \"values\": null}, {\"x\": \"MLP 25%-FP16\", \"y\": \"NCS-FP16\", \"values\": 6400.0}, {\"x\": \"MLP 25%-FP32\", \"y\": \"NCS-FP16\", \"values\": null}, {\"x\": \"MLP 12.5%-INT2\", \"y\": \"NCS-FP16\", \"values\": null}, {\"x\": \"MLP 12.5%-INT4\", \"y\": \"NCS-FP16\", \"values\": null}, {\"x\": \"MLP 12.5%-FP16\", \"y\": \"NCS-FP16\", \"values\": 19142.0}, {\"x\": \"MLP 12.5%-FP32\", \"y\": \"NCS-FP16\", \"values\": null}, {\"x\": \"MLP 100%-INT2\", \"y\": \"U96-Quadcore A53-INT8\", \"values\": 1704.0}, {\"x\": \"MLP 100%-INT4\", \"y\": \"U96-Quadcore A53-INT8\", \"values\": 852.0}, {\"x\": \"MLP 100%-FP16\", \"y\": \"U96-Quadcore A53-INT8\", \"values\": 213.0}, {\"x\": \"MLP 100%-FP32\", \"y\": \"U96-Quadcore A53-INT8\", \"values\": 106.0}, {\"x\": \"MLP 50%-INT2\", \"y\": \"U96-Quadcore A53-INT8\", \"values\": 5680.0}, {\"x\": \"MLP 50%-INT4\", \"y\": \"U96-Quadcore A53-INT8\", \"values\": 2840.0}, {\"x\": \"MLP 50%-FP16\", \"y\": \"U96-Quadcore A53-INT8\", \"values\": null}, {\"x\": \"MLP 50%-FP32\", \"y\": \"U96-Quadcore A53-INT8\", \"values\": null}, {\"x\": \"MLP 25%-INT2\", \"y\": \"U96-Quadcore A53-INT8\", \"values\": 17040.0}, {\"x\": \"MLP 25%-INT4\", \"y\": \"U96-Quadcore A53-INT8\", \"values\": 8520.0}, {\"x\": \"MLP 25%-FP16\", \"y\": \"U96-Quadcore A53-INT8\", \"values\": null}, {\"x\": \"MLP 25%-FP32\", \"y\": \"U96-Quadcore A53-INT8\", \"values\": null}, {\"x\": \"MLP 12.5%-INT2\", \"y\": \"U96-Quadcore A53-INT8\", \"values\": 50967.0}, {\"x\": \"MLP 12.5%-INT4\", \"y\": \"U96-Quadcore A53-INT8\", \"values\": 25483.0}, {\"x\": \"MLP 12.5%-FP16\", \"y\": \"U96-Quadcore A53-INT8\", \"values\": 6371.0}, {\"x\": \"MLP 12.5%-FP32\", \"y\": \"U96-Quadcore A53-INT8\", \"values\": 3185.0}]}}, {\"mode\": \"vega-lite\"});\n",
       "</script>"
      ],
      "text/plain": [
       "alt.LayerChart(...)"
      ]
     },
     "execution_count": 3,
     "metadata": {},
     "output_type": "execute_result"
    }
   ],
   "source": [
    "#hide_input\n",
    "%run scripts/heatmaps.py  #run the heatmaps script\n",
    "#load mnist dataset and plot it\n",
    "heatmap(pd.read_csv(\"data/processed_csv/mnist_heatmap.csv\"), 'red')"
   ]
  },
  {
   "cell_type": "code",
   "execution_count": null,
   "metadata": {},
   "outputs": [],
   "source": []
  },
  {
   "cell_type": "code",
   "execution_count": null,
   "metadata": {},
   "outputs": [],
   "source": []
  },
  {
   "cell_type": "code",
   "execution_count": null,
   "metadata": {},
   "outputs": [],
   "source": []
  }
 ],
 "metadata": {
  "kernelspec": {
   "display_name": "Python 3",
   "language": "python",
   "name": "python3"
  },
  "language_info": {
   "codemirror_mode": {
    "name": "ipython",
    "version": 3
   },
   "file_extension": ".py",
   "mimetype": "text/x-python",
   "name": "python",
   "nbconvert_exporter": "python",
   "pygments_lexer": "ipython3",
   "version": "3.7.4"
  },
  "widgets": {
   "application/vnd.jupyter.widget-state+json": {
    "state": {},
    "version_major": 2,
    "version_minor": 0
   }
  }
 },
 "nbformat": 4,
 "nbformat_minor": 4
}
