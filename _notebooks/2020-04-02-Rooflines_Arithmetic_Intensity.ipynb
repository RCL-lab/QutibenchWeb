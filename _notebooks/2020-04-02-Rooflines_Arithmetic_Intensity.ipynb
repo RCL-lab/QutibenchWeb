{
 "cells": [
  {
   "cell_type": "markdown",
   "metadata": {},
   "source": [
    "# Rooflines \n",
    "> Plotting rooflines with Altair\n",
    "\n",
    "- toc: true \n",
    "- badges: true\n",
    "- comments: true\n",
    "- categories: [jupyter]"
   ]
  },
  {
   "cell_type": "code",
   "execution_count": null,
   "metadata": {},
   "outputs": [],
   "source": [
    "#hide\n",
    "import numpy as np\n",
    "import pandas as pd\n",
    "\n",
    "import altair as alt\n",
    "import csv"
   ]
  },
  {
   "cell_type": "code",
   "execution_count": null,
   "metadata": {
    "jupyter": {
     "source_hidden": true
    }
   },
   "outputs": [],
   "source": [
    "#hide\n",
    "## Just some needed functions\n",
    "#Function to read from a csv file and return a numpy 2D array\n",
    "def read_from_csv(filename):  \n",
    "    array= []\n",
    "    with open(filename, newline='', encoding='utf-8') as f:\n",
    "        reader = csv.reader(f)\n",
    "        for row in reader:\n",
    "            array.append(row)\n",
    "    array = np.asarray(array)\n",
    "    return array"
   ]
  },
  {
   "cell_type": "code",
   "execution_count": null,
   "metadata": {
    "jupyter": {
     "source_hidden": true
    }
   },
   "outputs": [],
   "source": [
    "#hide\n",
    "## Just some needed functions\n",
    "def load_and_display(filenames):\n",
    "    dataframes=[]\n",
    "    for filename in filenames:\n",
    "        table = read_from_csv(filename)  # To read from a csv file into a 2D numpy array\n",
    "        dataframe = pd.DataFrame(data=table[2:,:], columns=[table[0,0:], table[1,0:]])  #To transform to dataframe the first and second row will be header\n",
    "        dataframe.loc[dataframe.duplicated(dataframe.columns[0]) , dataframe.columns[0]] = ''  #To remove duplicates from first column\n",
    "        dataframes.append(dataframe)     #To save all dataframes in here\n",
    "    return dataframes"
   ]
  },
  {
   "cell_type": "markdown",
   "metadata": {},
   "source": [
    "# Overview of the experiments done"
   ]
  },
  {
   "cell_type": "code",
   "execution_count": null,
   "metadata": {
    "jupyter": {
     "source_hidden": true
    }
   },
   "outputs": [],
   "source": [
    "#hide_input\n",
    "filenames = ['Data/imagenet.csv', 'Data/mnist.csv', 'Data/cifar10.csv']\n",
    "dataframes = load_and_display(filenames)\n",
    "for i in range(len(dataframes)):    \n",
    "    display(HTML(dataframes[i].to_html(index=False)))"
   ]
  },
  {
   "cell_type": "markdown",
   "metadata": {},
   "source": [
    "# Rooflines for all hardware platforms with Neural Networks arithmetic Intensity"
   ]
  },
  {
   "cell_type": "code",
   "execution_count": 1,
   "metadata": {
    "scrolled": false
   },
   "outputs": [
    {
     "data": {
      "text/html": [
       "\n",
       "<div id=\"altair-viz-50a6dec4e5aa4ad3ac0ca209b8248984\"></div>\n",
       "<script type=\"text/javascript\">\n",
       "  (function(spec, embedOpt){\n",
       "    const outputDiv = document.getElementById(\"altair-viz-50a6dec4e5aa4ad3ac0ca209b8248984\");\n",
       "    const paths = {\n",
       "      \"vega\": \"https://cdn.jsdelivr.net/npm//vega@5?noext\",\n",
       "      \"vega-lib\": \"https://cdn.jsdelivr.net/npm//vega-lib?noext\",\n",
       "      \"vega-lite\": \"https://cdn.jsdelivr.net/npm//vega-lite@4.0.2?noext\",\n",
       "      \"vega-embed\": \"https://cdn.jsdelivr.net/npm//vega-embed@6?noext\",\n",
       "    };\n",
       "\n",
       "    function loadScript(lib) {\n",
       "      return new Promise(function(resolve, reject) {\n",
       "        var s = document.createElement('script');\n",
       "        s.src = paths[lib];\n",
       "        s.async = true;\n",
       "        s.onload = () => resolve(paths[lib]);\n",
       "        s.onerror = () => reject(`Error loading script: ${paths[lib]}`);\n",
       "        document.getElementsByTagName(\"head\")[0].appendChild(s);\n",
       "      });\n",
       "    }\n",
       "\n",
       "    function showError(err) {\n",
       "      outputDiv.innerHTML = `<div class=\"error\" style=\"color:red;\">${err}</div>`;\n",
       "      throw err;\n",
       "    }\n",
       "\n",
       "    function displayChart(vegaEmbed) {\n",
       "      vegaEmbed(outputDiv, spec, embedOpt)\n",
       "        .catch(err => showError(`Javascript Error: ${err.message}<br>This usually means there's a typo in your chart specification. See the javascript console for the full traceback.`));\n",
       "    }\n",
       "\n",
       "    if(typeof define === \"function\" && define.amd) {\n",
       "      requirejs.config({paths});\n",
       "      require([\"vega-embed\"], displayChart, err => showError(`Error loading script: ${err.message}`));\n",
       "    } else if (typeof vegaEmbed === \"function\") {\n",
       "      displayChart(vegaEmbed);\n",
       "    } else {\n",
       "      loadScript(\"vega\")\n",
       "        .then(() => loadScript(\"vega-lite\"))\n",
       "        .then(() => loadScript(\"vega-embed\"))\n",
       "        .catch(showError)\n",
       "        .then(() => displayChart(vegaEmbed));\n",
       "    }\n",
       "  })({\"config\": {\"view\": {\"continuousWidth\": 400, \"continuousHeight\": 300}}, \"layer\": [{\"layer\": [{\"data\": {\"name\": \"data-9118c837affc83f99762b72e52c7e347\"}, \"mark\": {\"type\": \"line\", \"clip\": true}, \"encoding\": {\"color\": {\"condition\": {\"type\": \"nominal\", \"field\": \"Name\", \"selection\": \"FPGAs Ultra96 DPU ZCU\"}, \"value\": \"lightgray\"}, \"x\": {\"type\": \"quantitative\", \"field\": \"arith_intens\", \"scale\": {\"domain\": [0.1, 160000], \"type\": \"log\"}, \"title\": \"ARITHMETIC INTENSITY (OPS/BYTE)\"}, \"y\": {\"type\": \"quantitative\", \"field\": \"performance\", \"scale\": {\"domain\": [0.2, 40], \"type\": \"log\"}, \"title\": \"PERFORMANCE (TOPS/S)\"}}, \"height\": 500, \"selection\": {\"FPGAs Ultra96 DPU ZCU\": {\"type\": \"single\", \"fields\": [\"Hide\"], \"bind\": {\"input\": \"checkbox\"}}}, \"title\": \"Comparing Hardware Platforms Rooflines and Neural Networks Arithmetic Intensity with checkboxes\", \"width\": 700}, {\"data\": {\"name\": \"data-bb124781430565257d56155f96d0b843\"}, \"mark\": {\"type\": \"line\", \"clip\": true}, \"encoding\": {\"color\": {\"condition\": {\"type\": \"nominal\", \"field\": \"Name\", \"selection\": \"HNVIDIA TX2 maxn,maxp,maxq\"}, \"value\": \"lightgray\"}, \"x\": {\"type\": \"quantitative\", \"field\": \"arith_intens\", \"scale\": {\"domain\": [0.1, 160000], \"type\": \"log\"}, \"title\": \"ARITHMETIC INTENSITY (OPS/BYTE)\"}, \"y\": {\"type\": \"quantitative\", \"field\": \"performance\", \"scale\": {\"domain\": [0.2, 40], \"type\": \"log\"}, \"title\": \"PERFORMANCE (TOPS/S)\"}}, \"height\": 500, \"selection\": {\"HNVIDIA TX2 maxn,maxp,maxq\": {\"type\": \"single\", \"fields\": [\"Hide\"], \"bind\": {\"input\": \"checkbox\"}}}, \"title\": \"Comparing Hardware Platforms Rooflines and Neural Networks Arithmetic Intensity with checkboxes\", \"width\": 700}, {\"data\": {\"name\": \"data-9a1ce48a3484680f845156782ba6ab5e\"}, \"mark\": {\"type\": \"line\", \"clip\": true}, \"encoding\": {\"color\": {\"condition\": {\"type\": \"nominal\", \"field\": \"Name\", \"selection\": \"GOOGLE TPU,fast,slow\"}, \"value\": \"lightgray\"}, \"x\": {\"type\": \"quantitative\", \"field\": \"arith_intens\", \"scale\": {\"domain\": [0.1, 160000], \"type\": \"log\"}, \"title\": \"ARITHMETIC INTENSITY (OPS/BYTE)\"}, \"y\": {\"type\": \"quantitative\", \"field\": \"performance\", \"scale\": {\"domain\": [0.2, 40], \"type\": \"log\"}, \"title\": \"PERFORMANCE (TOPS/S)\"}}, \"height\": 500, \"selection\": {\"GOOGLE TPU,fast,slow\": {\"type\": \"single\", \"fields\": [\"Hide\"], \"bind\": {\"input\": \"checkbox\"}}}, \"title\": \"Comparing Hardware Platforms Rooflines and Neural Networks Arithmetic Intensity with checkboxes\", \"width\": 700}, {\"data\": {\"name\": \"data-b9a4e6b9702b6d97b53c00d35908a722\"}, \"mark\": {\"type\": \"line\", \"clip\": true}, \"encoding\": {\"color\": {\"condition\": {\"type\": \"nominal\", \"field\": \"Name\", \"selection\": \"INTEL NCS\"}, \"value\": \"lightgray\"}, \"x\": {\"type\": \"quantitative\", \"field\": \"arith_intens\", \"scale\": {\"domain\": [0.1, 160000], \"type\": \"log\"}, \"title\": \"ARITHMETIC INTENSITY (OPS/BYTE)\"}, \"y\": {\"type\": \"quantitative\", \"field\": \"performance\", \"scale\": {\"domain\": [0.2, 40], \"type\": \"log\"}, \"title\": \"PERFORMANCE (TOPS/S)\"}}, \"height\": 500, \"selection\": {\"INTEL NCS\": {\"type\": \"single\", \"fields\": [\"Hide\"], \"bind\": {\"input\": \"checkbox\"}}}, \"title\": \"Comparing Hardware Platforms Rooflines and Neural Networks Arithmetic Intensity with checkboxes\", \"width\": 700}, {\"data\": {\"name\": \"data-c41343075fa2d80b351abdb87d71d42e\"}, \"mark\": {\"type\": \"line\", \"clip\": true}, \"encoding\": {\"color\": {\"condition\": {\"type\": \"nominal\", \"field\": \"Name\", \"selection\": \"IMAGENET ResNet GoogLeNet MobileNet VGG AlexNet\"}, \"value\": \"lightgray\"}, \"x\": {\"type\": \"quantitative\", \"field\": \"arith_intens\", \"scale\": {\"domain\": [0.1, 160000], \"type\": \"log\"}, \"title\": \"ARITHMETIC INTENSITY (OPS/BYTE)\"}, \"y\": {\"type\": \"quantitative\", \"field\": \"performance\", \"scale\": {\"domain\": [0.2, 40], \"type\": \"log\"}, \"title\": \"PERFORMANCE (TOPS/S)\"}}, \"height\": 500, \"selection\": {\"IMAGENET ResNet GoogLeNet MobileNet VGG AlexNet\": {\"type\": \"single\", \"fields\": [\"Hide\"], \"bind\": {\"input\": \"checkbox\"}}}, \"title\": \"Comparing Hardware Platforms Rooflines and Neural Networks Arithmetic Intensity with checkboxes\", \"width\": 700}, {\"data\": {\"name\": \"data-c029efffd9f8d6118615672032008af1\"}, \"mark\": {\"type\": \"line\", \"clip\": true}, \"encoding\": {\"color\": {\"condition\": {\"type\": \"nominal\", \"field\": \"Name\", \"selection\": \"MNIST MLP\"}, \"value\": \"lightgray\"}, \"x\": {\"type\": \"quantitative\", \"field\": \"arith_intens\", \"scale\": {\"domain\": [0.1, 160000], \"type\": \"log\"}, \"title\": \"ARITHMETIC INTENSITY (OPS/BYTE)\"}, \"y\": {\"type\": \"quantitative\", \"field\": \"performance\", \"scale\": {\"domain\": [0.2, 40], \"type\": \"log\"}, \"title\": \"PERFORMANCE (TOPS/S)\"}}, \"height\": 500, \"selection\": {\"MNIST MLP\": {\"type\": \"single\", \"fields\": [\"Hide\"], \"bind\": {\"input\": \"checkbox\"}}}, \"title\": \"Comparing Hardware Platforms Rooflines and Neural Networks Arithmetic Intensity with checkboxes\", \"width\": 700}, {\"data\": {\"name\": \"data-60aa8a80b92e1167041b9a8b1fb99d0b\"}, \"mark\": {\"type\": \"line\", \"clip\": true}, \"encoding\": {\"color\": {\"condition\": {\"type\": \"nominal\", \"field\": \"Name\", \"selection\": \"CIFAR10 CNV\"}, \"value\": \"lightgray\"}, \"x\": {\"type\": \"quantitative\", \"field\": \"arith_intens\", \"scale\": {\"domain\": [0.1, 160000], \"type\": \"log\"}, \"title\": \"ARITHMETIC INTENSITY (OPS/BYTE)\"}, \"y\": {\"type\": \"quantitative\", \"field\": \"performance\", \"scale\": {\"domain\": [0.2, 40], \"type\": \"log\"}, \"title\": \"PERFORMANCE (TOPS/S)\"}}, \"height\": 500, \"selection\": {\"CIFAR10 CNV\": {\"type\": \"single\", \"fields\": [\"Hide\"], \"bind\": {\"input\": \"checkbox\"}}}, \"title\": \"Comparing Hardware Platforms Rooflines and Neural Networks Arithmetic Intensity with checkboxes\", \"width\": 700}, {\"data\": {\"name\": \"data-cf1ffa995d42b9d0c31f7b5e7ba5278b\"}, \"mark\": {\"type\": \"line\", \"clip\": true}, \"encoding\": {\"color\": {\"condition\": {\"type\": \"nominal\", \"field\": \"Name\", \"selection\": \"MASKRCNN\"}, \"value\": \"lightgray\"}, \"x\": {\"type\": \"quantitative\", \"field\": \"arith_intens\", \"scale\": {\"domain\": [0.1, 160000], \"type\": \"log\"}, \"title\": \"ARITHMETIC INTENSITY (OPS/BYTE)\"}, \"y\": {\"type\": \"quantitative\", \"field\": \"performance\", \"scale\": {\"domain\": [0.2, 40], \"type\": \"log\"}, \"title\": \"PERFORMANCE (TOPS/S)\"}}, \"height\": 500, \"selection\": {\"MASKRCNN\": {\"type\": \"single\", \"fields\": [\"Hide\"], \"bind\": {\"input\": \"checkbox\"}}}, \"title\": \"Comparing Hardware Platforms Rooflines and Neural Networks Arithmetic Intensity with checkboxes\", \"width\": 700}, {\"data\": {\"name\": \"data-f6440b28c7b00f6e5932d1f634b100b0\"}, \"mark\": {\"type\": \"line\", \"clip\": true}, \"encoding\": {\"color\": {\"condition\": {\"type\": \"nominal\", \"field\": \"Name\", \"selection\": \"GNMT\"}, \"value\": \"lightgray\"}, \"x\": {\"type\": \"quantitative\", \"field\": \"arith_intens\", \"scale\": {\"domain\": [0.1, 160000], \"type\": \"log\"}, \"title\": \"ARITHMETIC INTENSITY (OPS/BYTE)\"}, \"y\": {\"type\": \"quantitative\", \"field\": \"performance\", \"scale\": {\"domain\": [0.2, 40], \"type\": \"log\"}, \"title\": \"PERFORMANCE (TOPS/S)\"}}, \"height\": 500, \"selection\": {\"GNMT\": {\"type\": \"single\", \"fields\": [\"Hide\"], \"bind\": {\"input\": \"checkbox\"}}}, \"title\": \"Comparing Hardware Platforms Rooflines and Neural Networks Arithmetic Intensity with checkboxes\", \"width\": 700}]}, {\"mark\": {\"type\": \"point\", \"clip\": true}, \"encoding\": {\"opacity\": {\"value\": 0}, \"x\": {\"type\": \"quantitative\", \"field\": \"arith_intens\"}, \"y\": {\"type\": \"quantitative\", \"field\": \"performance\"}}, \"selection\": {\"selector002\": {\"type\": \"single\", \"nearest\": true, \"on\": \"mouseover\", \"fields\": [\"arith_intens\"]}}}, {\"mark\": {\"type\": \"text\", \"align\": \"left\", \"clip\": true, \"dx\": 3, \"dy\": -3}, \"encoding\": {\"color\": {\"type\": \"nominal\", \"field\": \"Name\", \"legend\": {\"columns\": 2}}, \"text\": {\"condition\": {\"type\": \"nominal\", \"field\": \"Name\", \"selection\": \"selector002\"}, \"value\": \" \"}, \"x\": {\"type\": \"quantitative\", \"field\": \"arith_intens\"}, \"y\": {\"type\": \"quantitative\", \"field\": \"performance\"}}, \"selection\": {\"selector001\": {\"type\": \"interval\", \"bind\": \"scales\", \"encodings\": [\"x\", \"y\"]}}}], \"data\": {\"name\": \"data-80c58ae94794ed7fda68bcec41c4a34b\"}, \"height\": 500, \"width\": 700, \"$schema\": \"https://vega.github.io/schema/vega-lite/v4.0.2.json\", \"datasets\": {\"data-80c58ae94794ed7fda68bcec41c4a34b\": [{\"Name\": \"Ultra96 DPU INT8\", \"arith_intens\": 1.0, \"performance\": 0.00426}, {\"Name\": \"Ultra96 DPU INT8\", \"arith_intens\": 226.1, \"performance\": 0.96}, {\"Name\": \"Ultra96 DPU INT8\", \"arith_intens\": 160000.0, \"performance\": 0.96}, {\"Name\": \"ZCU104 INT8\", \"arith_intens\": 1.0, \"performance\": 0.0192}, {\"Name\": \"ZCU104 INT8\", \"arith_intens\": 240.1, \"performance\": 4.6}, {\"Name\": \"ZCU104 INT8\", \"arith_intens\": 160000.0, \"performance\": 4.6}, {\"Name\": \"ZCU102 INT8\", \"arith_intens\": 1.0, \"performance\": 0.0192}, {\"Name\": \"ZCU102 INT8\", \"arith_intens\": 350.1, \"performance\": 6.71}, {\"Name\": \"ZCU102 INT8\", \"arith_intens\": 160000.0, \"performance\": 6.71}, {\"Name\": \"ZCU104 FINN INT2\", \"arith_intens\": 1.0, \"performance\": 0.0192}, {\"Name\": \"ZCU104 FINN INT2\", \"arith_intens\": 1599.1, \"performance\": 30.7}, {\"Name\": \"ZCU104 FINN INT2\", \"arith_intens\": 160000.0, \"performance\": 30.7}, {\"Name\": \"ZCU104 FINN INT4\", \"arith_intens\": 1.0, \"performance\": 0.0192}, {\"Name\": \"ZCU104 FINN INT4\", \"arith_intens\": 459.1, \"performance\": 8.8}, {\"Name\": \"ZCU104 FINN INT4\", \"arith_intens\": 160000.0, \"performance\": 8.8}, {\"Name\": \"ZCU104 FINN INT8\", \"arith_intens\": 1.0, \"performance\": 0.0192}, {\"Name\": \"ZCU104 FINN INT8\", \"arith_intens\": 183.1, \"performance\": 3.5}, {\"Name\": \"ZCU104 FINN INT8\", \"arith_intens\": 160000.0, \"performance\": 3.5}, {\"Name\": \"ZCU104 FINN FP16\", \"arith_intens\": 1.0, \"performance\": 0.0192}, {\"Name\": \"ZCU104 FINN FP16\", \"arith_intens\": 91.1, \"performance\": 1.73}, {\"Name\": \"ZCU104 FINN FP16\", \"arith_intens\": 160000.0, \"performance\": 1.73}, {\"Name\": \"ZCU104 BISMO INT2\", \"arith_intens\": 1.0, \"performance\": 0.0192}, {\"Name\": \"ZCU104 BISMO INT2\", \"arith_intens\": 128.1, \"performance\": 2.45}, {\"Name\": \"ZCU104 BISMO INT2\", \"arith_intens\": 160000.0, \"performance\": 2.45}, {\"Name\": \"ZCU104 BISMO INT4\", \"arith_intens\": 1.0, \"performance\": 0.0192}, {\"Name\": \"ZCU104 BISMO INT4\", \"arith_intens\": 32.1, \"performance\": 0.61}, {\"Name\": \"ZCU104 BISMO INT4\", \"arith_intens\": 160000.0, \"performance\": 0.61}, {\"Name\": \"TX2 maxn FP16\", \"arith_intens\": 1.0, \"performance\": 0.0597}, {\"Name\": \"TX2 maxn FP16\", \"arith_intens\": 23.1, \"performance\": 1.33}, {\"Name\": \"TX2 maxn FP16\", \"arith_intens\": 160000.0, \"performance\": 1.33}, {\"Name\": \"TX2 maxn FP32\", \"arith_intens\": 1.0, \"performance\": 0.0597}, {\"Name\": \"TX2 maxn FP32\", \"arith_intens\": 12.1, \"performance\": 0.67}, {\"Name\": \"TX2 maxn FP32\", \"arith_intens\": 160000.0, \"performance\": 0.67}, {\"Name\": \"TX2 maxp FP16\", \"arith_intens\": 1.0, \"performance\": 0.0597}, {\"Name\": \"TX2 maxp FP16\", \"arith_intens\": 20.1, \"performance\": 1.15}, {\"Name\": \"TX2 maxp FP16\", \"arith_intens\": 160000.0, \"performance\": 1.15}, {\"Name\": \"TX2 maxp FP32\", \"arith_intens\": 1.0, \"performance\": 0.0597}, {\"Name\": \"TX2 maxp FP32\", \"arith_intens\": 10.1, \"performance\": 0.57}, {\"Name\": \"TX2 maxp FP32\", \"arith_intens\": 160000.0, \"performance\": 0.57}, {\"Name\": \"TX2 maxq FP16\", \"arith_intens\": 1.0, \"performance\": 0.0597}, {\"Name\": \"TX2 maxq FP16\", \"arith_intens\": 15.1, \"performance\": 0.87}, {\"Name\": \"TX2 maxq FP16\", \"arith_intens\": 160000.0, \"performance\": 0.87}, {\"Name\": \"TX2 maxq FP32\", \"arith_intens\": 1.0, \"performance\": 0.0597}, {\"Name\": \"TX2 maxq FP32\", \"arith_intens\": 8.1, \"performance\": 0.44}, {\"Name\": \"TX2 maxq FP32\", \"arith_intens\": 160000.0, \"performance\": 0.44}, {\"Name\": \"TPU fast INT8\", \"arith_intens\": 1.0, \"performance\": 0.0256}, {\"Name\": \"TPU fast INT8\", \"arith_intens\": 157.1, \"performance\": 4.0}, {\"Name\": \"TPU fast INT8\", \"arith_intens\": 160000.0, \"performance\": 4.0}, {\"Name\": \"TPU slow INT8\", \"arith_intens\": 1.0, \"performance\": 0.0256}, {\"Name\": \"TPU slow INT8\", \"arith_intens\": 79.1, \"performance\": 2.0}, {\"Name\": \"TPU slow INT8\", \"arith_intens\": 160000.0, \"performance\": 2.0}, {\"Name\": \"NCS INT8\", \"arith_intens\": 1.0, \"performance\": 0.0128}, {\"Name\": \"NCS INT8\", \"arith_intens\": 79.1, \"performance\": 1.0}, {\"Name\": \"NCS INT8\", \"arith_intens\": 160000.0, \"performance\": 1.0}, {\"Name\": \"NCS FP16\", \"arith_intens\": 1.0, \"performance\": 0.0128}, {\"Name\": \"NCS FP16\", \"arith_intens\": 39.1, \"performance\": 0.5}, {\"Name\": \"NCS FP16\", \"arith_intens\": 160000.0, \"performance\": 0.5}, {\"Name\": \"MobileNet V1\", \"arith_intens\": 23878.0, \"performance\": 100.0}, {\"Name\": \"AlexNet\", \"arith_intens\": 2995.0, \"performance\": 100.0}, {\"Name\": \"GoogLeNet V1\", \"arith_intens\": 29988.0, \"performance\": 100.0}, {\"Name\": \"ResNet-18\", \"arith_intens\": 39950.0, \"performance\": 100.0}, {\"Name\": \"ResNet-34\", \"arith_intens\": 43169.0, \"performance\": 100.0}, {\"Name\": \"VGG16_BN\", \"arith_intens\": 7183.0, \"performance\": 100.0}, {\"Name\": \"ResNet-101\", \"arith_intens\": 22671.0, \"performance\": 100.0}, {\"Name\": \"ResNet-34-SSD\", \"arith_intens\": 51070.0, \"performance\": 100.0}, {\"Name\": \"ResNet-50\", \"arith_intens\": 41475.0, \"performance\": 100.0}, {\"Name\": \"ResNet-152\", \"arith_intens\": 24587.0, \"performance\": 100.0}, {\"Name\": \"MaskRCNN\", \"arith_intens\": 145921.0, \"performance\": 100.0}, {\"Name\": \"GNMT\", \"arith_intens\": 6086.0, \"performance\": 100.0}, {\"Name\": \"ResNet-50\", \"arith_intens\": 82560.0, \"performance\": 100.0}, {\"Name\": \"MaskRCNN\", \"arith_intens\": 145921.0, \"performance\": 100.0}, {\"Name\": \"MobileNet V2\", \"arith_intens\": 12464.0, \"performance\": 100.0}, {\"Name\": \"GNMT\", \"arith_intens\": 9009.0, \"performance\": 100.0}, {\"Name\": \"MLP\", \"arith_intens\": 2.0, \"performance\": 100.0}, {\"Name\": \"CNV\", \"arith_intens\": 76.0, \"performance\": 100.0}, {\"Name\": \"CNV-50%\", \"arith_intens\": 77.0, \"performance\": 100.0}, {\"Name\": \"CNV-25%\", \"arith_intens\": 78.0, \"performance\": 100.0}, {\"Name\": \"CNV-12.5%\", \"arith_intens\": 83.0, \"performance\": 100.0}, {\"Name\": \"MLP-50%\", \"arith_intens\": 2.0, \"performance\": 100.0}, {\"Name\": \"MLP-25%\", \"arith_intens\": 2.0, \"performance\": 100.0}, {\"Name\": \"MobileNet V1\", \"arith_intens\": 23878.0, \"performance\": 25.0}, {\"Name\": \"AlexNet\", \"arith_intens\": 2995.0, \"performance\": 25.0}, {\"Name\": \"GoogLeNet V1\", \"arith_intens\": 29988.0, \"performance\": 25.0}, {\"Name\": \"ResNet-18\", \"arith_intens\": 39950.0, \"performance\": 25.0}, {\"Name\": \"ResNet-34\", \"arith_intens\": 43169.0, \"performance\": 25.0}, {\"Name\": \"VGG16_BN\", \"arith_intens\": 7183.0, \"performance\": 25.0}, {\"Name\": \"ResNet-101\", \"arith_intens\": 22671.0, \"performance\": 25.0}, {\"Name\": \"ResNet-34-SSD\", \"arith_intens\": 51070.0, \"performance\": 25.0}, {\"Name\": \"ResNet-50\", \"arith_intens\": 41475.0, \"performance\": 25.0}, {\"Name\": \"ResNet-152\", \"arith_intens\": 24587.0, \"performance\": 25.0}, {\"Name\": \"MaskRCNN\", \"arith_intens\": 145921.0, \"performance\": 25.0}, {\"Name\": \"GNMT\", \"arith_intens\": 6086.0, \"performance\": 25.0}, {\"Name\": \"ResNet-50\", \"arith_intens\": 82560.0, \"performance\": 25.0}, {\"Name\": \"MaskRCNN\", \"arith_intens\": 145921.0, \"performance\": 25.0}, {\"Name\": \"MobileNet V2\", \"arith_intens\": 12464.0, \"performance\": 25.0}, {\"Name\": \"GNMT\", \"arith_intens\": 9009.0, \"performance\": 25.0}, {\"Name\": \"MLP\", \"arith_intens\": 2.0, \"performance\": 25.0}, {\"Name\": \"CNV\", \"arith_intens\": 76.0, \"performance\": 25.0}, {\"Name\": \"CNV-50%\", \"arith_intens\": 77.0, \"performance\": 25.0}, {\"Name\": \"CNV-25%\", \"arith_intens\": 78.0, \"performance\": 25.0}, {\"Name\": \"CNV-12.5%\", \"arith_intens\": 83.0, \"performance\": 25.0}, {\"Name\": \"MLP-50%\", \"arith_intens\": 2.0, \"performance\": 25.0}, {\"Name\": \"MLP-25%\", \"arith_intens\": 2.0, \"performance\": 25.0}, {\"Name\": \"MobileNet V1\", \"arith_intens\": 23878.0, \"performance\": 75.0}, {\"Name\": \"AlexNet\", \"arith_intens\": 2995.0, \"performance\": 75.0}, {\"Name\": \"GoogLeNet V1\", \"arith_intens\": 29988.0, \"performance\": 75.0}, {\"Name\": \"ResNet-18\", \"arith_intens\": 39950.0, \"performance\": 75.0}, {\"Name\": \"ResNet-34\", \"arith_intens\": 43169.0, \"performance\": 75.0}, {\"Name\": \"VGG16_BN\", \"arith_intens\": 7183.0, \"performance\": 75.0}, {\"Name\": \"ResNet-101\", \"arith_intens\": 22671.0, \"performance\": 75.0}, {\"Name\": \"ResNet-34-SSD\", \"arith_intens\": 51070.0, \"performance\": 75.0}, {\"Name\": \"ResNet-50\", \"arith_intens\": 41475.0, \"performance\": 75.0}, {\"Name\": \"ResNet-152\", \"arith_intens\": 24587.0, \"performance\": 75.0}, {\"Name\": \"MaskRCNN\", \"arith_intens\": 145921.0, \"performance\": 75.0}, {\"Name\": \"GNMT\", \"arith_intens\": 6086.0, \"performance\": 75.0}, {\"Name\": \"ResNet-50\", \"arith_intens\": 82560.0, \"performance\": 75.0}, {\"Name\": \"MaskRCNN\", \"arith_intens\": 145921.0, \"performance\": 75.0}, {\"Name\": \"MobileNet V2\", \"arith_intens\": 12464.0, \"performance\": 75.0}, {\"Name\": \"GNMT\", \"arith_intens\": 9009.0, \"performance\": 75.0}, {\"Name\": \"MLP\", \"arith_intens\": 2.0, \"performance\": 75.0}, {\"Name\": \"CNV\", \"arith_intens\": 76.0, \"performance\": 75.0}, {\"Name\": \"CNV-50%\", \"arith_intens\": 77.0, \"performance\": 75.0}, {\"Name\": \"CNV-25%\", \"arith_intens\": 78.0, \"performance\": 75.0}, {\"Name\": \"CNV-12.5%\", \"arith_intens\": 83.0, \"performance\": 75.0}, {\"Name\": \"MLP-50%\", \"arith_intens\": 2.0, \"performance\": 75.0}, {\"Name\": \"MLP-25%\", \"arith_intens\": 2.0, \"performance\": 75.0}, {\"Name\": \"MobileNet V1\", \"arith_intens\": 23878.0, \"performance\": 1e-06}, {\"Name\": \"AlexNet\", \"arith_intens\": 2995.0, \"performance\": 1e-06}, {\"Name\": \"GoogLeNet V1\", \"arith_intens\": 29988.0, \"performance\": 1e-06}, {\"Name\": \"ResNet-18\", \"arith_intens\": 39950.0, \"performance\": 1e-06}, {\"Name\": \"ResNet-34\", \"arith_intens\": 43169.0, \"performance\": 1e-06}, {\"Name\": \"VGG16_BN\", \"arith_intens\": 7183.0, \"performance\": 1e-06}, {\"Name\": \"ResNet-101\", \"arith_intens\": 22671.0, \"performance\": 1e-06}, {\"Name\": \"ResNet-34-SSD\", \"arith_intens\": 51070.0, \"performance\": 1e-06}, {\"Name\": \"ResNet-50\", \"arith_intens\": 41475.0, \"performance\": 1e-06}, {\"Name\": \"ResNet-152\", \"arith_intens\": 24587.0, \"performance\": 1e-06}, {\"Name\": \"MaskRCNN\", \"arith_intens\": 145921.0, \"performance\": 1e-06}, {\"Name\": \"GNMT\", \"arith_intens\": 6086.0, \"performance\": 1e-06}, {\"Name\": \"ResNet-50\", \"arith_intens\": 82560.0, \"performance\": 1e-06}, {\"Name\": \"MaskRCNN\", \"arith_intens\": 145921.0, \"performance\": 1e-06}, {\"Name\": \"MobileNet V2\", \"arith_intens\": 12464.0, \"performance\": 1e-06}, {\"Name\": \"GNMT\", \"arith_intens\": 9009.0, \"performance\": 1e-06}, {\"Name\": \"MLP\", \"arith_intens\": 2.0, \"performance\": 1e-06}, {\"Name\": \"CNV\", \"arith_intens\": 76.0, \"performance\": 1e-06}, {\"Name\": \"CNV-50%\", \"arith_intens\": 77.0, \"performance\": 1e-06}, {\"Name\": \"CNV-25%\", \"arith_intens\": 78.0, \"performance\": 1e-06}, {\"Name\": \"CNV-12.5%\", \"arith_intens\": 83.0, \"performance\": 1e-06}, {\"Name\": \"MLP-50%\", \"arith_intens\": 2.0, \"performance\": 1e-06}, {\"Name\": \"MLP-25%\", \"arith_intens\": 2.0, \"performance\": 1e-06}], \"data-9118c837affc83f99762b72e52c7e347\": [{\"Name\": \"Ultra96 DPU INT8\", \"arith_intens\": 1.0, \"performance\": 0.00426}, {\"Name\": \"Ultra96 DPU INT8\", \"arith_intens\": 226.1, \"performance\": 0.96}, {\"Name\": \"Ultra96 DPU INT8\", \"arith_intens\": 160000.0, \"performance\": 0.96}, {\"Name\": \"ZCU104 INT8\", \"arith_intens\": 1.0, \"performance\": 0.0192}, {\"Name\": \"ZCU104 INT8\", \"arith_intens\": 240.1, \"performance\": 4.6}, {\"Name\": \"ZCU104 INT8\", \"arith_intens\": 160000.0, \"performance\": 4.6}, {\"Name\": \"ZCU102 INT8\", \"arith_intens\": 1.0, \"performance\": 0.0192}, {\"Name\": \"ZCU102 INT8\", \"arith_intens\": 350.1, \"performance\": 6.71}, {\"Name\": \"ZCU102 INT8\", \"arith_intens\": 160000.0, \"performance\": 6.71}, {\"Name\": \"ZCU104 FINN INT2\", \"arith_intens\": 1.0, \"performance\": 0.0192}, {\"Name\": \"ZCU104 FINN INT2\", \"arith_intens\": 1599.1, \"performance\": 30.7}, {\"Name\": \"ZCU104 FINN INT2\", \"arith_intens\": 160000.0, \"performance\": 30.7}, {\"Name\": \"ZCU104 FINN INT4\", \"arith_intens\": 1.0, \"performance\": 0.0192}, {\"Name\": \"ZCU104 FINN INT4\", \"arith_intens\": 459.1, \"performance\": 8.8}, {\"Name\": \"ZCU104 FINN INT4\", \"arith_intens\": 160000.0, \"performance\": 8.8}, {\"Name\": \"ZCU104 FINN INT8\", \"arith_intens\": 1.0, \"performance\": 0.0192}, {\"Name\": \"ZCU104 FINN INT8\", \"arith_intens\": 183.1, \"performance\": 3.5}, {\"Name\": \"ZCU104 FINN INT8\", \"arith_intens\": 160000.0, \"performance\": 3.5}, {\"Name\": \"ZCU104 FINN FP16\", \"arith_intens\": 1.0, \"performance\": 0.0192}, {\"Name\": \"ZCU104 FINN FP16\", \"arith_intens\": 91.1, \"performance\": 1.73}, {\"Name\": \"ZCU104 FINN FP16\", \"arith_intens\": 160000.0, \"performance\": 1.73}, {\"Name\": \"ZCU104 BISMO INT2\", \"arith_intens\": 1.0, \"performance\": 0.0192}, {\"Name\": \"ZCU104 BISMO INT2\", \"arith_intens\": 128.1, \"performance\": 2.45}, {\"Name\": \"ZCU104 BISMO INT2\", \"arith_intens\": 160000.0, \"performance\": 2.45}, {\"Name\": \"ZCU104 BISMO INT4\", \"arith_intens\": 1.0, \"performance\": 0.0192}, {\"Name\": \"ZCU104 BISMO INT4\", \"arith_intens\": 32.1, \"performance\": 0.61}, {\"Name\": \"ZCU104 BISMO INT4\", \"arith_intens\": 160000.0, \"performance\": 0.61}], \"data-bb124781430565257d56155f96d0b843\": [{\"Name\": \"TX2 maxn FP16\", \"arith_intens\": 1.0, \"performance\": 0.0597}, {\"Name\": \"TX2 maxn FP16\", \"arith_intens\": 23.1, \"performance\": 1.33}, {\"Name\": \"TX2 maxn FP16\", \"arith_intens\": 160000.0, \"performance\": 1.33}, {\"Name\": \"TX2 maxn FP32\", \"arith_intens\": 1.0, \"performance\": 0.0597}, {\"Name\": \"TX2 maxn FP32\", \"arith_intens\": 12.1, \"performance\": 0.67}, {\"Name\": \"TX2 maxn FP32\", \"arith_intens\": 160000.0, \"performance\": 0.67}, {\"Name\": \"TX2 maxp FP16\", \"arith_intens\": 1.0, \"performance\": 0.0597}, {\"Name\": \"TX2 maxp FP16\", \"arith_intens\": 20.1, \"performance\": 1.15}, {\"Name\": \"TX2 maxp FP16\", \"arith_intens\": 160000.0, \"performance\": 1.15}, {\"Name\": \"TX2 maxp FP32\", \"arith_intens\": 1.0, \"performance\": 0.0597}, {\"Name\": \"TX2 maxp FP32\", \"arith_intens\": 10.1, \"performance\": 0.57}, {\"Name\": \"TX2 maxp FP32\", \"arith_intens\": 160000.0, \"performance\": 0.57}, {\"Name\": \"TX2 maxq FP16\", \"arith_intens\": 1.0, \"performance\": 0.0597}, {\"Name\": \"TX2 maxq FP16\", \"arith_intens\": 15.1, \"performance\": 0.87}, {\"Name\": \"TX2 maxq FP16\", \"arith_intens\": 160000.0, \"performance\": 0.87}, {\"Name\": \"TX2 maxq FP32\", \"arith_intens\": 1.0, \"performance\": 0.0597}, {\"Name\": \"TX2 maxq FP32\", \"arith_intens\": 8.1, \"performance\": 0.44}, {\"Name\": \"TX2 maxq FP32\", \"arith_intens\": 160000.0, \"performance\": 0.44}], \"data-9a1ce48a3484680f845156782ba6ab5e\": [{\"Name\": \"TPU fast INT8\", \"arith_intens\": 1.0, \"performance\": 0.0256}, {\"Name\": \"TPU fast INT8\", \"arith_intens\": 157.1, \"performance\": 4.0}, {\"Name\": \"TPU fast INT8\", \"arith_intens\": 160000.0, \"performance\": 4.0}, {\"Name\": \"TPU slow INT8\", \"arith_intens\": 1.0, \"performance\": 0.0256}, {\"Name\": \"TPU slow INT8\", \"arith_intens\": 79.1, \"performance\": 2.0}, {\"Name\": \"TPU slow INT8\", \"arith_intens\": 160000.0, \"performance\": 2.0}], \"data-b9a4e6b9702b6d97b53c00d35908a722\": [{\"Name\": \"NCS INT8\", \"arith_intens\": 1.0, \"performance\": 0.0128}, {\"Name\": \"NCS INT8\", \"arith_intens\": 79.1, \"performance\": 1.0}, {\"Name\": \"NCS INT8\", \"arith_intens\": 160000.0, \"performance\": 1.0}, {\"Name\": \"NCS FP16\", \"arith_intens\": 1.0, \"performance\": 0.0128}, {\"Name\": \"NCS FP16\", \"arith_intens\": 39.1, \"performance\": 0.5}, {\"Name\": \"NCS FP16\", \"arith_intens\": 160000.0, \"performance\": 0.5}], \"data-c41343075fa2d80b351abdb87d71d42e\": [{\"Name\": \"MobileNet V1\", \"arith_intens\": 23878.0, \"performance\": 100.0}, {\"Name\": \"AlexNet\", \"arith_intens\": 2995.0, \"performance\": 100.0}, {\"Name\": \"GoogLeNet V1\", \"arith_intens\": 29988.0, \"performance\": 100.0}, {\"Name\": \"ResNet-18\", \"arith_intens\": 39950.0, \"performance\": 100.0}, {\"Name\": \"ResNet-34\", \"arith_intens\": 43169.0, \"performance\": 100.0}, {\"Name\": \"VGG16_BN\", \"arith_intens\": 7183.0, \"performance\": 100.0}, {\"Name\": \"ResNet-101\", \"arith_intens\": 22671.0, \"performance\": 100.0}, {\"Name\": \"ResNet-34-SSD\", \"arith_intens\": 51070.0, \"performance\": 100.0}, {\"Name\": \"ResNet-50\", \"arith_intens\": 41475.0, \"performance\": 100.0}, {\"Name\": \"ResNet-152\", \"arith_intens\": 24587.0, \"performance\": 100.0}, {\"Name\": \"ResNet-50\", \"arith_intens\": 82560.0, \"performance\": 100.0}, {\"Name\": \"MobileNet V2\", \"arith_intens\": 12464.0, \"performance\": 100.0}, {\"Name\": \"MobileNet V1\", \"arith_intens\": 23878.0, \"performance\": 25.0}, {\"Name\": \"AlexNet\", \"arith_intens\": 2995.0, \"performance\": 25.0}, {\"Name\": \"GoogLeNet V1\", \"arith_intens\": 29988.0, \"performance\": 25.0}, {\"Name\": \"ResNet-18\", \"arith_intens\": 39950.0, \"performance\": 25.0}, {\"Name\": \"ResNet-34\", \"arith_intens\": 43169.0, \"performance\": 25.0}, {\"Name\": \"VGG16_BN\", \"arith_intens\": 7183.0, \"performance\": 25.0}, {\"Name\": \"ResNet-101\", \"arith_intens\": 22671.0, \"performance\": 25.0}, {\"Name\": \"ResNet-34-SSD\", \"arith_intens\": 51070.0, \"performance\": 25.0}, {\"Name\": \"ResNet-50\", \"arith_intens\": 41475.0, \"performance\": 25.0}, {\"Name\": \"ResNet-152\", \"arith_intens\": 24587.0, \"performance\": 25.0}, {\"Name\": \"ResNet-50\", \"arith_intens\": 82560.0, \"performance\": 25.0}, {\"Name\": \"MobileNet V2\", \"arith_intens\": 12464.0, \"performance\": 25.0}, {\"Name\": \"MobileNet V1\", \"arith_intens\": 23878.0, \"performance\": 75.0}, {\"Name\": \"AlexNet\", \"arith_intens\": 2995.0, \"performance\": 75.0}, {\"Name\": \"GoogLeNet V1\", \"arith_intens\": 29988.0, \"performance\": 75.0}, {\"Name\": \"ResNet-18\", \"arith_intens\": 39950.0, \"performance\": 75.0}, {\"Name\": \"ResNet-34\", \"arith_intens\": 43169.0, \"performance\": 75.0}, {\"Name\": \"VGG16_BN\", \"arith_intens\": 7183.0, \"performance\": 75.0}, {\"Name\": \"ResNet-101\", \"arith_intens\": 22671.0, \"performance\": 75.0}, {\"Name\": \"ResNet-34-SSD\", \"arith_intens\": 51070.0, \"performance\": 75.0}, {\"Name\": \"ResNet-50\", \"arith_intens\": 41475.0, \"performance\": 75.0}, {\"Name\": \"ResNet-152\", \"arith_intens\": 24587.0, \"performance\": 75.0}, {\"Name\": \"ResNet-50\", \"arith_intens\": 82560.0, \"performance\": 75.0}, {\"Name\": \"MobileNet V2\", \"arith_intens\": 12464.0, \"performance\": 75.0}, {\"Name\": \"MobileNet V1\", \"arith_intens\": 23878.0, \"performance\": 1e-06}, {\"Name\": \"AlexNet\", \"arith_intens\": 2995.0, \"performance\": 1e-06}, {\"Name\": \"GoogLeNet V1\", \"arith_intens\": 29988.0, \"performance\": 1e-06}, {\"Name\": \"ResNet-18\", \"arith_intens\": 39950.0, \"performance\": 1e-06}, {\"Name\": \"ResNet-34\", \"arith_intens\": 43169.0, \"performance\": 1e-06}, {\"Name\": \"VGG16_BN\", \"arith_intens\": 7183.0, \"performance\": 1e-06}, {\"Name\": \"ResNet-101\", \"arith_intens\": 22671.0, \"performance\": 1e-06}, {\"Name\": \"ResNet-34-SSD\", \"arith_intens\": 51070.0, \"performance\": 1e-06}, {\"Name\": \"ResNet-50\", \"arith_intens\": 41475.0, \"performance\": 1e-06}, {\"Name\": \"ResNet-152\", \"arith_intens\": 24587.0, \"performance\": 1e-06}, {\"Name\": \"ResNet-50\", \"arith_intens\": 82560.0, \"performance\": 1e-06}, {\"Name\": \"MobileNet V2\", \"arith_intens\": 12464.0, \"performance\": 1e-06}], \"data-c029efffd9f8d6118615672032008af1\": [{\"Name\": \"MLP\", \"arith_intens\": 2.0, \"performance\": 100.0}, {\"Name\": \"MLP-50%\", \"arith_intens\": 2.0, \"performance\": 100.0}, {\"Name\": \"MLP-25%\", \"arith_intens\": 2.0, \"performance\": 100.0}, {\"Name\": \"MLP\", \"arith_intens\": 2.0, \"performance\": 25.0}, {\"Name\": \"MLP-50%\", \"arith_intens\": 2.0, \"performance\": 25.0}, {\"Name\": \"MLP-25%\", \"arith_intens\": 2.0, \"performance\": 25.0}, {\"Name\": \"MLP\", \"arith_intens\": 2.0, \"performance\": 75.0}, {\"Name\": \"MLP-50%\", \"arith_intens\": 2.0, \"performance\": 75.0}, {\"Name\": \"MLP-25%\", \"arith_intens\": 2.0, \"performance\": 75.0}, {\"Name\": \"MLP\", \"arith_intens\": 2.0, \"performance\": 1e-06}, {\"Name\": \"MLP-50%\", \"arith_intens\": 2.0, \"performance\": 1e-06}, {\"Name\": \"MLP-25%\", \"arith_intens\": 2.0, \"performance\": 1e-06}], \"data-60aa8a80b92e1167041b9a8b1fb99d0b\": [{\"Name\": \"CNV\", \"arith_intens\": 76.0, \"performance\": 100.0}, {\"Name\": \"CNV-50%\", \"arith_intens\": 77.0, \"performance\": 100.0}, {\"Name\": \"CNV-25%\", \"arith_intens\": 78.0, \"performance\": 100.0}, {\"Name\": \"CNV-12.5%\", \"arith_intens\": 83.0, \"performance\": 100.0}, {\"Name\": \"CNV\", \"arith_intens\": 76.0, \"performance\": 25.0}, {\"Name\": \"CNV-50%\", \"arith_intens\": 77.0, \"performance\": 25.0}, {\"Name\": \"CNV-25%\", \"arith_intens\": 78.0, \"performance\": 25.0}, {\"Name\": \"CNV-12.5%\", \"arith_intens\": 83.0, \"performance\": 25.0}, {\"Name\": \"CNV\", \"arith_intens\": 76.0, \"performance\": 75.0}, {\"Name\": \"CNV-50%\", \"arith_intens\": 77.0, \"performance\": 75.0}, {\"Name\": \"CNV-25%\", \"arith_intens\": 78.0, \"performance\": 75.0}, {\"Name\": \"CNV-12.5%\", \"arith_intens\": 83.0, \"performance\": 75.0}, {\"Name\": \"CNV\", \"arith_intens\": 76.0, \"performance\": 1e-06}, {\"Name\": \"CNV-50%\", \"arith_intens\": 77.0, \"performance\": 1e-06}, {\"Name\": \"CNV-25%\", \"arith_intens\": 78.0, \"performance\": 1e-06}, {\"Name\": \"CNV-12.5%\", \"arith_intens\": 83.0, \"performance\": 1e-06}], \"data-cf1ffa995d42b9d0c31f7b5e7ba5278b\": [{\"Name\": \"MaskRCNN\", \"arith_intens\": 145921.0, \"performance\": 100.0}, {\"Name\": \"MaskRCNN\", \"arith_intens\": 145921.0, \"performance\": 100.0}, {\"Name\": \"MaskRCNN\", \"arith_intens\": 145921.0, \"performance\": 25.0}, {\"Name\": \"MaskRCNN\", \"arith_intens\": 145921.0, \"performance\": 25.0}, {\"Name\": \"MaskRCNN\", \"arith_intens\": 145921.0, \"performance\": 75.0}, {\"Name\": \"MaskRCNN\", \"arith_intens\": 145921.0, \"performance\": 75.0}, {\"Name\": \"MaskRCNN\", \"arith_intens\": 145921.0, \"performance\": 1e-06}, {\"Name\": \"MaskRCNN\", \"arith_intens\": 145921.0, \"performance\": 1e-06}], \"data-f6440b28c7b00f6e5932d1f634b100b0\": [{\"Name\": \"GNMT\", \"arith_intens\": 6086.0, \"performance\": 100.0}, {\"Name\": \"GNMT\", \"arith_intens\": 9009.0, \"performance\": 100.0}, {\"Name\": \"GNMT\", \"arith_intens\": 6086.0, \"performance\": 25.0}, {\"Name\": \"GNMT\", \"arith_intens\": 9009.0, \"performance\": 25.0}, {\"Name\": \"GNMT\", \"arith_intens\": 6086.0, \"performance\": 75.0}, {\"Name\": \"GNMT\", \"arith_intens\": 9009.0, \"performance\": 75.0}, {\"Name\": \"GNMT\", \"arith_intens\": 6086.0, \"performance\": 1e-06}, {\"Name\": \"GNMT\", \"arith_intens\": 9009.0, \"performance\": 1e-06}]}}, {\"mode\": \"vega-lite\"});\n",
       "</script>"
      ],
      "text/plain": [
       "alt.LayerChart(...)"
      ]
     },
     "execution_count": 1,
     "metadata": {},
     "output_type": "execute_result"
    }
   ],
   "source": [
    "#hide_input\n",
    "%run scripts/altair_plots.py  #run the heatmaps script\n",
    "#load dataset and plot it\n",
    "rooflines(pd.read_csv(\"data/processed_csv/rooflines_hardware_neural_networks.csv\"))"
   ]
  },
  {
   "cell_type": "markdown",
   "metadata": {},
   "source": [
    "# Performance Predictions for IMAGENET, MNIST and CIFAR"
   ]
  },
  {
   "cell_type": "code",
   "execution_count": null,
   "metadata": {},
   "outputs": [],
   "source": [
    "#hide_input\n",
    "%run scripts/altair_plots.py  #run the heatmaps script\n",
    "#load dataset and plot it\n",
    "heatmap(pd.read_csv(\"data/processed_csv/performance_prediction_imagenet_mnist_cifar10.csv\"), \n",
    "        'red', \n",
    "        'Performance Predictions for IMAGENET, MNIST and CIFAR10')"
   ]
  },
  {
   "cell_type": "code",
   "execution_count": null,
   "metadata": {},
   "outputs": [],
   "source": []
  },
  {
   "cell_type": "code",
   "execution_count": null,
   "metadata": {},
   "outputs": [],
   "source": []
  }
 ],
 "metadata": {
  "kernelspec": {
   "display_name": "Python 3",
   "language": "python",
   "name": "python3"
  },
  "language_info": {
   "codemirror_mode": {
    "name": "ipython",
    "version": 3
   },
   "file_extension": ".py",
   "mimetype": "text/x-python",
   "name": "python",
   "nbconvert_exporter": "python",
   "pygments_lexer": "ipython3",
   "version": "3.7.4"
  }
 },
 "nbformat": 4,
 "nbformat_minor": 4
}
