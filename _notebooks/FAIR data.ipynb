{
 "cells": [
  {
   "cell_type": "markdown",
   "metadata": {},
   "source": [
    "# FAIR and Open Data\n",
    "> FAIR and Open Data\n",
    "\n",
    "- toc: true \n",
    "- badges: true\n",
    "- comments: true\n",
    "- categories: [FAIR_data]\n",
    "- image: images/fair.png"
   ]
  },
  {
   "cell_type": "markdown",
   "metadata": {},
   "source": [
    "# Data Revolution, Open and FAIR Data\n",
    "The idea behind the **data revolution**, and the concept of **Open Data** is that data, in particular when relating to science and governments, should be freely available to everyone to use and republish as they wish, without restrictions from copyright, patents or other mechanisms of control, with the aim of facilitating knowledge discovery and improving research transparency.\n",
    "\n",
    "**FAIR** refers to a set of guiding principles for scientific data management and stewardship.  It is an acronym and stands for findability, accessibility, interoperability, and reusability. \n",
    "As such, the intention is to make scientific data easier to find, more accessible and improving interoperability and reuse.\n",
    "\n",
    "In particular, this is aimed to enable direct access from computational systems with minimal human intervention.\n",
    "It is essential in this context of benchmarks for machine learning, where a large, multi-dimensional and complex amount of data is produced and collected.\n",
    "\n",
    "Open and FAIR data are key to turning scientific data into valuable resources, that will eventually bring new insights and create true benefit to the entire academic community.\n",
    "\n",
    "At the basis of implementing these principles is making data open and freely available, providing associated meta-data with each data point, and a trusted and persistent repository with a unique and persistent identifier.\n",
    "In order to deliver on this, the following was implemented:\n",
    "- All measurements are available through an open source repository and accessible through a web portal.\n",
    "- Data can be downloaded as CSV files and from there easily integrated, postprocessed and analysed by third party software.\n",
    "- All measurements are tagged with metadata which makes it unique.\n",
    "- We created data-level and project-level documentation through the [Dublin Core Generator](http://nsteffel.github.io/dublin_core_generator/generator_nq.html) which can be found on the links below.\n",
    "- We have created a unique persistent identifier (DOI) with ResearchGate for the repository: **DOI: 10.13140/RG.2.2.35785.57448**\n",
    "- License terms are clear and defined through a license file."
   ]
  },
  {
   "cell_type": "markdown",
   "metadata": {},
   "source": [
    "Download experimental data here: [here](https://github.com/RCL-lab/QutibenchWeb/blob/master/_notebooks/data/FAIR_data/experimental_data.csv)"
   ]
  },
  {
   "cell_type": "markdown",
   "metadata": {},
   "source": [
    "Download data-level documentation data here: [here](https://github.com/RCL-lab/QutibenchWeb/blob/master/_notebooks/data/FAIR_data/Data-level_documentation_for_quantitive_data.txt)"
   ]
  },
  {
   "cell_type": "markdown",
   "metadata": {},
   "source": [
    "Download metadata for this project here: [here](https://github.com/RCL-lab/QutibenchWeb/blob/master/_notebooks/data/FAIR_data/metadata.xml)"
   ]
  },
  {
   "cell_type": "markdown",
   "metadata": {},
   "source": [
    "Download project level documentation here: [here](https://github.com/RCL-lab/QutibenchWeb/blob/master/_notebooks/data/FAIR_data/project_level_documentation.txt)"
   ]
  },
  {
   "cell_type": "code",
   "execution_count": null,
   "metadata": {},
   "outputs": [],
   "source": []
  }
 ],
 "metadata": {
  "kernelspec": {
   "display_name": "Python 3",
   "language": "python",
   "name": "python3"
  },
  "language_info": {
   "codemirror_mode": {
    "name": "ipython",
    "version": 3
   },
   "file_extension": ".py",
   "mimetype": "text/x-python",
   "name": "python",
   "nbconvert_exporter": "python",
   "pygments_lexer": "ipython3",
   "version": "3.7.4"
  }
 },
 "nbformat": 4,
 "nbformat_minor": 4
}
