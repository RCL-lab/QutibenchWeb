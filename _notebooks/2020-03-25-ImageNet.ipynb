{
 "cells": [
  {
   "cell_type": "markdown",
   "metadata": {},
   "source": [
    "# ImageNet Performance\n",
    "> Performance data for the ImageNet benchmark\n",
    "\n",
    "- toc: true \n",
    "- badges: true\n",
    "- comments: true\n",
    "- categories: [l3, performance, ImageNet]\n",
    "- image: images/imagenet_logo.png"
   ]
  },
  {
   "cell_type": "code",
   "execution_count": null,
   "metadata": {},
   "outputs": [],
   "source": [
    "csv_path = \"./data/cleaned_csv/backup.csv\""
   ]
  },
  {
   "cell_type": "markdown",
   "metadata": {},
   "source": [
    "## Roofline"
   ]
  },
  {
   "cell_type": "markdown",
   "metadata": {},
   "source": [
    "## L3 Performance"
   ]
  },
  {
   "cell_type": "code",
   "execution_count": 1,
   "metadata": {},
   "outputs": [],
   "source": [
    "#hide\n",
    "import pandas as pd\n",
    "import numpy as np\n",
    "import altair as alt\n",
    "\n",
    "W = 600\n",
    "H = 480"
   ]
  },
  {
   "cell_type": "code",
   "execution_count": null,
   "metadata": {},
   "outputs": [],
   "source": [
    "#hide\n",
    "#%writefile scripts/utils.py\n",
    "def norm_by_group(df, column, group_col):\n",
    "    \"\"\" Normalizes pandas series by group \"\"\"\n",
    "    df[\"norm-\"+column] = df.groupby(group_col)[column].apply(lambda x: (x / x.max()))\n",
    "    return df\n",
    "\n",
    "def select_color(sel, column):\n",
    "    \"\"\" Easy way to set colors based on selection for altair plots\n",
    "    \"\"\"\n",
    "    return alt.condition(sel, \n",
    "                      alt.Color(column),\n",
    "                      alt.value('lightgray'))\n",
    "\n",
    "def get_pareto_df(df, groupcol, xcol, ycol):\n",
    "    pareto_line_df = df.groupby(groupcol)[xcol].max().to_frame(\"x\")\n",
    "    pareto_line_df['y'] = df.groupby(groupcol)[ycol].agg(lambda x: x.value_counts().index[0])\n",
    "    pareto_line_df.sort_values('y', ascending=False, inplace=True)\n",
    "    pareto_line_df['x'] = pareto_line_df.x.cummax()\n",
    "    pareto_line_df.drop_duplicates('x', keep='first', inplace=True)\n",
    "    pareto_line_df['group'] = pareto_line_df.index\n",
    "    return pareto_line_df\n",
    "\n",
    "def label_point(x, y, val, ax, rot=0):\n",
    "    \"\"\" from https://stackoverflow.com/questions/46027653/adding-labels-in-x-y-scatter-plot-with-seaborn\"\"\"\n",
    "    a = pd.concat({'x': x, 'y': y, 'val': val}, axis=1)\n",
    "    for i, point in a.iterrows():\n",
    "        ax.text(point['x']+.02, point['y'], str(point['val']), rotation=rot)"
   ]
  },
  {
   "cell_type": "code",
   "execution_count": null,
   "metadata": {},
   "outputs": [],
   "source": [
    "#hide\n",
    "master_df = pd.read_csv(csv_path)\n",
    "is_maxp = lambda row: row.HWType != \"TX2\" or row[\"Op mode\"].split(\",\")[0] == \"maxp\"\n",
    "maxp_df = master_df[master_df.apply(is_maxp, axis=1)]\n",
    "imagenet_df = maxp_df[maxp_df.NN_Topology.isin(['GNv1','RN50','MNv1']) & maxp_df[\"top1 [%]\"].notna() & maxp_df['lat-comp'].notna()]\n",
    "bad_precisions = [\"FP\"+str(i) for i in range(17,24)]\n",
    "imagenet_df.Precision = imagenet_df.Precision.apply(lambda x: 'FP16' if x in bad_precisions else x)\n",
    "imagenet_df[\"hw_quant_prun_net\"] = imagenet_df.apply(lambda r: \"_\".join([r.HWType, r.Precision, r.PruningFactor, r.NN_Topology]), axis=1)\n",
    "imagenet_df[\"PruningFactor\"] = imagenet_df[\"PruningFactor\"].str.strip(\"%\").astype(float)\n",
    "norm_by_group(imagenet_df, \"lat-comp\", \"NN_Topology\");\n",
    "imagenet_df[\"quant_model\"] = imagenet_df.Precision + '_' + imagenet_df.HWType\n",
    "imagenet_df.rename(columns={\"top1 [%]\": \"top1\"}, inplace=True)\n",
    "imagenet_df[\"hw_precision_net_prun\"] = imagenet_df.apply(lambda r: \"_\".join([r.HWType, r.Precision, r.NN_Topology, str(r.PruningFactor)]), axis=1)"
   ]
  },
  {
   "cell_type": "markdown",
   "metadata": {},
   "source": [
    "## Table Statistics"
   ]
  },
  {
   "cell_type": "code",
   "execution_count": null,
   "metadata": {},
   "outputs": [],
   "source": [
    "#hide_input\n",
    "imagenet_df.describe()"
   ]
  },
  {
   "cell_type": "markdown",
   "metadata": {},
   "source": [
    "## Line Plot"
   ]
  },
  {
   "cell_type": "code",
   "execution_count": null,
   "metadata": {},
   "outputs": [],
   "source": [
    "#hide_input\n",
    "\n",
    "sel = alt.selection_multi(fields=[\"hw_quant_prun_net\"], bind=\"legend\")\n",
    "fig25_dot = alt.Chart(imagenet_df).mark_point().encode(\n",
    "    x='lat-comp',\n",
    "    y=alt.Y('fps-comp', scale=alt.Scale(type=\"log\")),\n",
    "    color=select_color(sel, 'hw_quant_prun_net:N'),\n",
    "    tooltip=['Op mode', 'fps-comp', 'lat-comp', 'HWType', 'batch/thread/stream'],\n",
    ")\n",
    "fig25_line = alt.Chart(imagenet_df).mark_line().encode(\n",
    "    x='lat-comp',\n",
    "    y='fps-comp',\n",
    "    color=select_color(sel, 'hw_quant_prun_net:N'),\n",
    "    tooltip=['Op mode', 'fps-comp', 'lat-comp', 'HWType', 'batch/thread/stream'],\n",
    ")\n",
    "\n",
    "fig = (fig25_dot+fig25_line).properties(\n",
    "    title=\"Latency versus Performance for Pruned and Quantized Imagenet Classifier Variants\",\n",
    "    width=W,\n",
    "    height=H,\n",
    ").add_selection(sel).interactive()\n",
    "\n",
    "fig"
   ]
  },
  {
   "cell_type": "markdown",
   "metadata": {},
   "source": [
    "## Boxplots"
   ]
  },
  {
   "cell_type": "code",
   "execution_count": null,
   "metadata": {},
   "outputs": [],
   "source": [
    "#hide_input\n",
    "box1 = alt.Chart(imagenet_df).mark_boxplot().encode(\n",
    "    x='PruningFactor:O',\n",
    "    y=alt.Y(\"lat-comp\", scale=alt.Scale(type=\"log\")),\n",
    "    color='PruningFactor:O',\n",
    ").facet(column=\"quant_model\").properties(\n",
    "    title=\"Latency by Hardware/Framework and Pruning for imagenet\"\n",
    ").interactive()\n",
    "box1"
   ]
  },
  {
   "cell_type": "code",
   "execution_count": null,
   "metadata": {},
   "outputs": [],
   "source": [
    "#hide_input\n",
    "box1 = alt.Chart(imagenet_df).mark_boxplot().encode(\n",
    "    x='PruningFactor:O',\n",
    "    y=alt.Y(\"fps-comp\", scale=alt.Scale(type=\"log\")),\n",
    "    color='PruningFactor:O',\n",
    ").facet(column=\"quant_model\").properties(\n",
    "    title=\"Throughput by Hardware/Framework and Pruning for imagenet\",\n",
    ").interactive()\n",
    "box1"
   ]
  },
  {
   "cell_type": "markdown",
   "metadata": {},
   "source": [
    "## Pareto"
   ]
  },
  {
   "cell_type": "code",
   "execution_count": null,
   "metadata": {
    "slideshow": {
     "slide_type": "slide"
    }
   },
   "outputs": [],
   "source": [
    "#hide_input\n",
    "imagenet_pareto = get_pareto_df(imagenet_df, 'hw_precision_net_prun', 'fps-comp', 'top1')\n",
    "imagenet_lines = alt.Chart(imagenet_df).mark_line(point=True).encode(\n",
    "    x=\"fps-comp\",\n",
    "    y=alt.Y(\"top1:Q\", scale=alt.Scale(zero=False)),\n",
    "    color=alt.Color(\"hw_precision_net_prun\", legend=alt.Legend(columns=1)),\n",
    "    tooltip=[\"HWType\", \"Precision\", \"PruningFactor\", \"batch/thread/stream\", \"top1\", \"fps-comp\"],\n",
    ")\n",
    "imagenet_pareto_plot = alt.Chart(imagenet_pareto).mark_line().encode(\n",
    "    x=\"x\",\n",
    "    y=alt.Y(\"y\", scale=alt.Scale(zero=False)),\n",
    ")\n",
    "(imagenet_lines+imagenet_pareto_plot).interactive().properties(\n",
    "    width=W,\n",
    "    height=H,\n",
    "    title=\"ImageNet Cassification Design Space: Accuracy versus Performance\"\n",
    ")"
   ]
  },
  {
   "cell_type": "markdown",
   "metadata": {},
   "source": [
    "# Performance Predictions for Imagenet"
   ]
  },
  {
   "cell_type": "code",
   "execution_count": 2,
   "metadata": {
    "jupyter": {
     "outputs_hidden": true
    }
   },
   "outputs": [
    {
     "data": {
      "text/html": [
       "\n",
       "<div id=\"altair-viz-d6a031a866dc4636bfea4add87818b67\"></div>\n",
       "<script type=\"text/javascript\">\n",
       "  (function(spec, embedOpt){\n",
       "    const outputDiv = document.getElementById(\"altair-viz-d6a031a866dc4636bfea4add87818b67\");\n",
       "    const paths = {\n",
       "      \"vega\": \"https://cdn.jsdelivr.net/npm//vega@5?noext\",\n",
       "      \"vega-lib\": \"https://cdn.jsdelivr.net/npm//vega-lib?noext\",\n",
       "      \"vega-lite\": \"https://cdn.jsdelivr.net/npm//vega-lite@4.0.2?noext\",\n",
       "      \"vega-embed\": \"https://cdn.jsdelivr.net/npm//vega-embed@6?noext\",\n",
       "    };\n",
       "\n",
       "    function loadScript(lib) {\n",
       "      return new Promise(function(resolve, reject) {\n",
       "        var s = document.createElement('script');\n",
       "        s.src = paths[lib];\n",
       "        s.async = true;\n",
       "        s.onload = () => resolve(paths[lib]);\n",
       "        s.onerror = () => reject(`Error loading script: ${paths[lib]}`);\n",
       "        document.getElementsByTagName(\"head\")[0].appendChild(s);\n",
       "      });\n",
       "    }\n",
       "\n",
       "    function showError(err) {\n",
       "      outputDiv.innerHTML = `<div class=\"error\" style=\"color:red;\">${err}</div>`;\n",
       "      throw err;\n",
       "    }\n",
       "\n",
       "    function displayChart(vegaEmbed) {\n",
       "      vegaEmbed(outputDiv, spec, embedOpt)\n",
       "        .catch(err => showError(`Javascript Error: ${err.message}<br>This usually means there's a typo in your chart specification. See the javascript console for the full traceback.`));\n",
       "    }\n",
       "\n",
       "    if(typeof define === \"function\" && define.amd) {\n",
       "      requirejs.config({paths});\n",
       "      require([\"vega-embed\"], displayChart, err => showError(`Error loading script: ${err.message}`));\n",
       "    } else if (typeof vegaEmbed === \"function\") {\n",
       "      displayChart(vegaEmbed);\n",
       "    } else {\n",
       "      loadScript(\"vega\")\n",
       "        .then(() => loadScript(\"vega-lite\"))\n",
       "        .then(() => loadScript(\"vega-embed\"))\n",
       "        .catch(showError)\n",
       "        .then(() => displayChart(vegaEmbed));\n",
       "    }\n",
       "  })({\"config\": {\"view\": {\"continuousWidth\": 400, \"continuousHeight\": 300}}, \"layer\": [{\"mark\": {\"type\": \"rect\", \"invalid\": null, \"stroke\": \"black\", \"strokeWidth\": 1}, \"encoding\": {\"color\": {\"type\": \"quantitative\", \"condition\": {\"value\": \"lightgrey\", \"selection\": \"selector001\"}, \"field\": \"values\", \"scale\": {\"scheme\": \"lightmulti\", \"type\": \"log\"}, \"title\": \"Input/second\"}, \"tooltip\": [{\"type\": \"quantitative\", \"field\": \"values\", \"title\": \"Input/sec\"}, {\"type\": \"nominal\", \"field\": \"x\", \"title\": \"Model\"}, {\"type\": \"nominal\", \"field\": \"y\", \"title\": \"Hardware Platform\"}], \"x\": {\"type\": \"ordinal\", \"field\": \"x\", \"title\": \"Models\"}, \"y\": {\"type\": \"ordinal\", \"field\": \"y\", \"title\": \"Hardware Platfroms\"}}, \"height\": 350, \"selection\": {\"selector001\": {\"type\": \"single\", \"on\": \"mouseover\", \"nearest\": true}}, \"title\": \"Performance predictions for Imagenet\", \"width\": 700}, {\"mark\": {\"type\": \"text\", \"color\": \"white\"}, \"encoding\": {\"color\": {\"condition\": {\"value\": \"black\", \"test\": \"(datum.values > 1)\"}, \"value\": \"white\"}, \"text\": {\"type\": \"quantitative\", \"field\": \"values\", \"format\": \".0f\"}, \"tooltip\": [{\"type\": \"quantitative\", \"field\": \"values\", \"format\": \".0f\", \"title\": \"Input/sec\"}, {\"type\": \"nominal\", \"field\": \"x\", \"title\": \"Model\"}, {\"type\": \"nominal\", \"field\": \"y\", \"title\": \"Hardware Platform\"}], \"x\": {\"type\": \"ordinal\", \"field\": \"x\", \"title\": \"Models\"}, \"y\": {\"type\": \"ordinal\", \"field\": \"y\", \"title\": \"Hardware Platfroms\"}}}], \"data\": {\"name\": \"data-b1932dbefd6e224f13b62aadcf91077f\"}, \"$schema\": \"https://vega.github.io/schema/vega-lite/v4.0.2.json\", \"datasets\": {\"data-b1932dbefd6e224f13b62aadcf91077f\": [{\"x\": \"GoogleNetv1-INT8\", \"y\": \"Ultra96-INT8\", \"values\": 307.0}, {\"x\": \"GoogleNetv1-FP16\", \"y\": \"Ultra96-INT8\", \"values\": null}, {\"x\": \"GoogleNetv1-FP32\", \"y\": \"Ultra96-INT8\", \"values\": null}, {\"x\": \"MobileNetv1-INT8\", \"y\": \"Ultra96-INT8\", \"values\": 842.0}, {\"x\": \"ResNet50 100%-INT8\", \"y\": \"Ultra96-INT8\", \"values\": 124.0}, {\"x\": \"ResNet50 100%-FP16\", \"y\": \"Ultra96-INT8\", \"values\": null}, {\"x\": \"ResNet50 100%-FP32\", \"y\": \"Ultra96-INT8\", \"values\": null}, {\"x\": \"ResNet50 80%-INT8\", \"y\": \"Ultra96-INT8\", \"values\": 147.0}, {\"x\": \"ResNet50 50%-INT8\", \"y\": \"Ultra96-INT8\", \"values\": 256.0}, {\"x\": \"ResNet50 30%-INT8\", \"y\": \"Ultra96-INT8\", \"values\": 392.0}, {\"x\": \"EfficientNet S-INT8\", \"y\": \"Ultra96-INT8\", \"values\": 204.0}, {\"x\": \"EfficientNet M-INT8\", \"y\": \"Ultra96-INT8\", \"values\": 130.0}, {\"x\": \"EfficientNet L-INT8\", \"y\": \"Ultra96-INT8\", \"values\": 50.0}, {\"x\": \"GoogleNetv1-INT8\", \"y\": \"ZCU104-DPU-INT8\", \"values\": 1470.0}, {\"x\": \"GoogleNetv1-FP16\", \"y\": \"ZCU104-DPU-INT8\", \"values\": null}, {\"x\": \"GoogleNetv1-FP32\", \"y\": \"ZCU104-DPU-INT8\", \"values\": null}, {\"x\": \"MobileNetv1-INT8\", \"y\": \"ZCU104-DPU-INT8\", \"values\": 4035.0}, {\"x\": \"ResNet50 100%-INT8\", \"y\": \"ZCU104-DPU-INT8\", \"values\": 596.0}, {\"x\": \"ResNet50 100%-FP16\", \"y\": \"ZCU104-DPU-INT8\", \"values\": null}, {\"x\": \"ResNet50 100%-FP32\", \"y\": \"ZCU104-DPU-INT8\", \"values\": null}, {\"x\": \"ResNet50 80%-INT8\", \"y\": \"ZCU104-DPU-INT8\", \"values\": 703.0}, {\"x\": \"ResNet50 50%-INT8\", \"y\": \"ZCU104-DPU-INT8\", \"values\": 1216.0}, {\"x\": \"ResNet50 30%-INT8\", \"y\": \"ZCU104-DPU-INT8\", \"values\": 1878.0}, {\"x\": \"EfficientNet S-INT8\", \"y\": \"ZCU104-DPU-INT8\", \"values\": 979.0}, {\"x\": \"EfficientNet M-INT8\", \"y\": \"ZCU104-DPU-INT8\", \"values\": 622.0}, {\"x\": \"EfficientNet L-INT8\", \"y\": \"ZCU104-DPU-INT8\", \"values\": 237.0}, {\"x\": \"GoogleNetv1-INT8\", \"y\": \"ZCU102-DPU-INT8\", \"values\": 2144.0}, {\"x\": \"GoogleNetv1-FP16\", \"y\": \"ZCU102-DPU-INT8\", \"values\": null}, {\"x\": \"GoogleNetv1-FP32\", \"y\": \"ZCU102-DPU-INT8\", \"values\": null}, {\"x\": \"MobileNetv1-INT8\", \"y\": \"ZCU102-DPU-INT8\", \"values\": 4528.0}, {\"x\": \"ResNet50 100%-INT8\", \"y\": \"ZCU102-DPU-INT8\", \"values\": 753.0}, {\"x\": \"ResNet50 100%-FP16\", \"y\": \"ZCU102-DPU-INT8\", \"values\": null}, {\"x\": \"ResNet50 100%-FP32\", \"y\": \"ZCU102-DPU-INT8\", \"values\": null}, {\"x\": \"ResNet50 80%-INT8\", \"y\": \"ZCU102-DPU-INT8\", \"values\": 798.0}, {\"x\": \"ResNet50 50%-INT8\", \"y\": \"ZCU102-DPU-INT8\", \"values\": 1216.0}, {\"x\": \"ResNet50 30%-INT8\", \"y\": \"ZCU102-DPU-INT8\", \"values\": 1901.0}, {\"x\": \"EfficientNet S-INT8\", \"y\": \"ZCU102-DPU-INT8\", \"values\": 1428.0}, {\"x\": \"EfficientNet M-INT8\", \"y\": \"ZCU102-DPU-INT8\", \"values\": 907.0}, {\"x\": \"EfficientNet L-INT8\", \"y\": \"ZCU102-DPU-INT8\", \"values\": 346.0}, {\"x\": \"GoogleNetv1-INT8\", \"y\": \"ZCU104-FINN-INT2\", \"values\": null}, {\"x\": \"GoogleNetv1-FP16\", \"y\": \"ZCU104-FINN-INT2\", \"values\": null}, {\"x\": \"GoogleNetv1-FP32\", \"y\": \"ZCU104-FINN-INT2\", \"values\": null}, {\"x\": \"MobileNetv1-INT8\", \"y\": \"ZCU104-FINN-INT2\", \"values\": null}, {\"x\": \"ResNet50 100%-INT8\", \"y\": \"ZCU104-FINN-INT2\", \"values\": null}, {\"x\": \"ResNet50 100%-FP16\", \"y\": \"ZCU104-FINN-INT2\", \"values\": null}, {\"x\": \"ResNet50 100%-FP32\", \"y\": \"ZCU104-FINN-INT2\", \"values\": null}, {\"x\": \"ResNet50 80%-INT8\", \"y\": \"ZCU104-FINN-INT2\", \"values\": null}, {\"x\": \"ResNet50 50%-INT8\", \"y\": \"ZCU104-FINN-INT2\", \"values\": null}, {\"x\": \"ResNet50 30%-INT8\", \"y\": \"ZCU104-FINN-INT2\", \"values\": null}, {\"x\": \"EfficientNet S-INT8\", \"y\": \"ZCU104-FINN-INT2\", \"values\": null}, {\"x\": \"EfficientNet M-INT8\", \"y\": \"ZCU104-FINN-INT2\", \"values\": null}, {\"x\": \"EfficientNet L-INT8\", \"y\": \"ZCU104-FINN-INT2\", \"values\": null}, {\"x\": \"GoogleNetv1-INT8\", \"y\": \"ZCU104-FINN-INT4\", \"values\": null}, {\"x\": \"GoogleNetv1-FP16\", \"y\": \"ZCU104-FINN-INT4\", \"values\": null}, {\"x\": \"GoogleNetv1-FP32\", \"y\": \"ZCU104-FINN-INT4\", \"values\": null}, {\"x\": \"MobileNetv1-INT8\", \"y\": \"ZCU104-FINN-INT4\", \"values\": null}, {\"x\": \"ResNet50 100%-INT8\", \"y\": \"ZCU104-FINN-INT4\", \"values\": null}, {\"x\": \"ResNet50 100%-FP16\", \"y\": \"ZCU104-FINN-INT4\", \"values\": null}, {\"x\": \"ResNet50 100%-FP32\", \"y\": \"ZCU104-FINN-INT4\", \"values\": null}, {\"x\": \"ResNet50 80%-INT8\", \"y\": \"ZCU104-FINN-INT4\", \"values\": null}, {\"x\": \"ResNet50 50%-INT8\", \"y\": \"ZCU104-FINN-INT4\", \"values\": null}, {\"x\": \"ResNet50 30%-INT8\", \"y\": \"ZCU104-FINN-INT4\", \"values\": null}, {\"x\": \"EfficientNet S-INT8\", \"y\": \"ZCU104-FINN-INT4\", \"values\": null}, {\"x\": \"EfficientNet M-INT8\", \"y\": \"ZCU104-FINN-INT4\", \"values\": null}, {\"x\": \"EfficientNet L-INT8\", \"y\": \"ZCU104-FINN-INT4\", \"values\": null}, {\"x\": \"GoogleNetv1-INT8\", \"y\": \"ZCU104-BISMO-INT2\", \"values\": null}, {\"x\": \"GoogleNetv1-FP16\", \"y\": \"ZCU104-BISMO-INT2\", \"values\": null}, {\"x\": \"GoogleNetv1-FP32\", \"y\": \"ZCU104-BISMO-INT2\", \"values\": null}, {\"x\": \"MobileNetv1-INT8\", \"y\": \"ZCU104-BISMO-INT2\", \"values\": null}, {\"x\": \"ResNet50 100%-INT8\", \"y\": \"ZCU104-BISMO-INT2\", \"values\": null}, {\"x\": \"ResNet50 100%-FP16\", \"y\": \"ZCU104-BISMO-INT2\", \"values\": null}, {\"x\": \"ResNet50 100%-FP32\", \"y\": \"ZCU104-BISMO-INT2\", \"values\": null}, {\"x\": \"ResNet50 80%-INT8\", \"y\": \"ZCU104-BISMO-INT2\", \"values\": null}, {\"x\": \"ResNet50 50%-INT8\", \"y\": \"ZCU104-BISMO-INT2\", \"values\": null}, {\"x\": \"ResNet50 30%-INT8\", \"y\": \"ZCU104-BISMO-INT2\", \"values\": null}, {\"x\": \"EfficientNet S-INT8\", \"y\": \"ZCU104-BISMO-INT2\", \"values\": null}, {\"x\": \"EfficientNet M-INT8\", \"y\": \"ZCU104-BISMO-INT2\", \"values\": null}, {\"x\": \"EfficientNet L-INT8\", \"y\": \"ZCU104-BISMO-INT2\", \"values\": null}, {\"x\": \"GoogleNetv1-INT8\", \"y\": \"ZCU104-BISMO-INT4\", \"values\": null}, {\"x\": \"GoogleNetv1-FP16\", \"y\": \"ZCU104-BISMO-INT4\", \"values\": null}, {\"x\": \"GoogleNetv1-FP32\", \"y\": \"ZCU104-BISMO-INT4\", \"values\": null}, {\"x\": \"MobileNetv1-INT8\", \"y\": \"ZCU104-BISMO-INT4\", \"values\": null}, {\"x\": \"ResNet50 100%-INT8\", \"y\": \"ZCU104-BISMO-INT4\", \"values\": null}, {\"x\": \"ResNet50 100%-FP16\", \"y\": \"ZCU104-BISMO-INT4\", \"values\": null}, {\"x\": \"ResNet50 100%-FP32\", \"y\": \"ZCU104-BISMO-INT4\", \"values\": null}, {\"x\": \"ResNet50 80%-INT8\", \"y\": \"ZCU104-BISMO-INT4\", \"values\": null}, {\"x\": \"ResNet50 50%-INT8\", \"y\": \"ZCU104-BISMO-INT4\", \"values\": null}, {\"x\": \"ResNet50 30%-INT8\", \"y\": \"ZCU104-BISMO-INT4\", \"values\": null}, {\"x\": \"EfficientNet S-INT8\", \"y\": \"ZCU104-BISMO-INT4\", \"values\": null}, {\"x\": \"EfficientNet M-INT8\", \"y\": \"ZCU104-BISMO-INT4\", \"values\": null}, {\"x\": \"EfficientNet L-INT8\", \"y\": \"ZCU104-BISMO-INT4\", \"values\": null}, {\"x\": \"GoogleNetv1-INT8\", \"y\": \"TX2-maxn-FP16\", \"values\": null}, {\"x\": \"GoogleNetv1-FP16\", \"y\": \"TX2-maxn-FP16\", \"values\": 425.0}, {\"x\": \"GoogleNetv1-FP32\", \"y\": \"TX2-maxn-FP16\", \"values\": null}, {\"x\": \"MobileNetv1-INT8\", \"y\": \"TX2-maxn-FP16\", \"values\": null}, {\"x\": \"ResNet50 100%-INT8\", \"y\": \"TX2-maxn-FP16\", \"values\": null}, {\"x\": \"ResNet50 100%-FP16\", \"y\": \"TX2-maxn-FP16\", \"values\": 172.0}, {\"x\": \"ResNet50 100%-FP32\", \"y\": \"TX2-maxn-FP16\", \"values\": null}, {\"x\": \"ResNet50 80%-INT8\", \"y\": \"TX2-maxn-FP16\", \"values\": null}, {\"x\": \"ResNet50 50%-INT8\", \"y\": \"TX2-maxn-FP16\", \"values\": null}, {\"x\": \"ResNet50 30%-INT8\", \"y\": \"TX2-maxn-FP16\", \"values\": null}, {\"x\": \"EfficientNet S-INT8\", \"y\": \"TX2-maxn-FP16\", \"values\": null}, {\"x\": \"EfficientNet M-INT8\", \"y\": \"TX2-maxn-FP16\", \"values\": null}, {\"x\": \"EfficientNet L-INT8\", \"y\": \"TX2-maxn-FP16\", \"values\": null}, {\"x\": \"GoogleNetv1-INT8\", \"y\": \"TX2-maxn-FP32\", \"values\": null}, {\"x\": \"GoogleNetv1-FP16\", \"y\": \"TX2-maxn-FP32\", \"values\": null}, {\"x\": \"GoogleNetv1-FP32\", \"y\": \"TX2-maxn-FP32\", \"values\": 214.0}, {\"x\": \"MobileNetv1-INT8\", \"y\": \"TX2-maxn-FP32\", \"values\": null}, {\"x\": \"ResNet50 100%-INT8\", \"y\": \"TX2-maxn-FP32\", \"values\": null}, {\"x\": \"ResNet50 100%-FP16\", \"y\": \"TX2-maxn-FP32\", \"values\": null}, {\"x\": \"ResNet50 100%-FP32\", \"y\": \"TX2-maxn-FP32\", \"values\": 87.0}, {\"x\": \"ResNet50 80%-INT8\", \"y\": \"TX2-maxn-FP32\", \"values\": null}, {\"x\": \"ResNet50 50%-INT8\", \"y\": \"TX2-maxn-FP32\", \"values\": null}, {\"x\": \"ResNet50 30%-INT8\", \"y\": \"TX2-maxn-FP32\", \"values\": null}, {\"x\": \"EfficientNet S-INT8\", \"y\": \"TX2-maxn-FP32\", \"values\": null}, {\"x\": \"EfficientNet M-INT8\", \"y\": \"TX2-maxn-FP32\", \"values\": null}, {\"x\": \"EfficientNet L-INT8\", \"y\": \"TX2-maxn-FP32\", \"values\": null}, {\"x\": \"GoogleNetv1-INT8\", \"y\": \"TX2-maxp-FP16\", \"values\": null}, {\"x\": \"GoogleNetv1-FP16\", \"y\": \"TX2-maxp-FP16\", \"values\": 367.0}, {\"x\": \"GoogleNetv1-FP32\", \"y\": \"TX2-maxp-FP16\", \"values\": null}, {\"x\": \"MobileNetv1-INT8\", \"y\": \"TX2-maxp-FP16\", \"values\": null}, {\"x\": \"ResNet50 100%-INT8\", \"y\": \"TX2-maxp-FP16\", \"values\": null}, {\"x\": \"ResNet50 100%-FP16\", \"y\": \"TX2-maxp-FP16\", \"values\": 149.0}, {\"x\": \"ResNet50 100%-FP32\", \"y\": \"TX2-maxp-FP16\", \"values\": null}, {\"x\": \"ResNet50 80%-INT8\", \"y\": \"TX2-maxp-FP16\", \"values\": null}, {\"x\": \"ResNet50 50%-INT8\", \"y\": \"TX2-maxp-FP16\", \"values\": null}, {\"x\": \"ResNet50 30%-INT8\", \"y\": \"TX2-maxp-FP16\", \"values\": null}, {\"x\": \"EfficientNet S-INT8\", \"y\": \"TX2-maxp-FP16\", \"values\": null}, {\"x\": \"EfficientNet M-INT8\", \"y\": \"TX2-maxp-FP16\", \"values\": null}, {\"x\": \"EfficientNet L-INT8\", \"y\": \"TX2-maxp-FP16\", \"values\": null}, {\"x\": \"GoogleNetv1-INT8\", \"y\": \"TX2-maxp-FP32\", \"values\": null}, {\"x\": \"GoogleNetv1-FP16\", \"y\": \"TX2-maxp-FP32\", \"values\": null}, {\"x\": \"GoogleNetv1-FP32\", \"y\": \"TX2-maxp-FP32\", \"values\": 182.0}, {\"x\": \"MobileNetv1-INT8\", \"y\": \"TX2-maxp-FP32\", \"values\": null}, {\"x\": \"ResNet50 100%-INT8\", \"y\": \"TX2-maxp-FP32\", \"values\": null}, {\"x\": \"ResNet50 100%-FP16\", \"y\": \"TX2-maxp-FP32\", \"values\": null}, {\"x\": \"ResNet50 100%-FP32\", \"y\": \"TX2-maxp-FP32\", \"values\": 74.0}, {\"x\": \"ResNet50 80%-INT8\", \"y\": \"TX2-maxp-FP32\", \"values\": null}, {\"x\": \"ResNet50 50%-INT8\", \"y\": \"TX2-maxp-FP32\", \"values\": null}, {\"x\": \"ResNet50 30%-INT8\", \"y\": \"TX2-maxp-FP32\", \"values\": null}, {\"x\": \"EfficientNet S-INT8\", \"y\": \"TX2-maxp-FP32\", \"values\": null}, {\"x\": \"EfficientNet M-INT8\", \"y\": \"TX2-maxp-FP32\", \"values\": null}, {\"x\": \"EfficientNet L-INT8\", \"y\": \"TX2-maxp-FP32\", \"values\": null}, {\"x\": \"GoogleNetv1-INT8\", \"y\": \"TX2-maxq-FP16\", \"values\": null}, {\"x\": \"GoogleNetv1-FP16\", \"y\": \"TX2-maxq-FP16\", \"values\": 278.0}, {\"x\": \"GoogleNetv1-FP32\", \"y\": \"TX2-maxq-FP16\", \"values\": null}, {\"x\": \"MobileNetv1-INT8\", \"y\": \"TX2-maxq-FP16\", \"values\": null}, {\"x\": \"ResNet50 100%-INT8\", \"y\": \"TX2-maxq-FP16\", \"values\": null}, {\"x\": \"ResNet50 100%-FP16\", \"y\": \"TX2-maxq-FP16\", \"values\": 113.0}, {\"x\": \"ResNet50 100%-FP32\", \"y\": \"TX2-maxq-FP16\", \"values\": null}, {\"x\": \"ResNet50 80%-INT8\", \"y\": \"TX2-maxq-FP16\", \"values\": null}, {\"x\": \"ResNet50 50%-INT8\", \"y\": \"TX2-maxq-FP16\", \"values\": null}, {\"x\": \"ResNet50 30%-INT8\", \"y\": \"TX2-maxq-FP16\", \"values\": null}, {\"x\": \"EfficientNet S-INT8\", \"y\": \"TX2-maxq-FP16\", \"values\": null}, {\"x\": \"EfficientNet M-INT8\", \"y\": \"TX2-maxq-FP16\", \"values\": null}, {\"x\": \"EfficientNet L-INT8\", \"y\": \"TX2-maxq-FP16\", \"values\": null}, {\"x\": \"GoogleNetv1-INT8\", \"y\": \"TX2-maxq-FP32\", \"values\": null}, {\"x\": \"GoogleNetv1-FP16\", \"y\": \"TX2-maxq-FP32\", \"values\": null}, {\"x\": \"GoogleNetv1-FP32\", \"y\": \"TX2-maxq-FP32\", \"values\": 141.0}, {\"x\": \"MobileNetv1-INT8\", \"y\": \"TX2-maxq-FP32\", \"values\": null}, {\"x\": \"ResNet50 100%-INT8\", \"y\": \"TX2-maxq-FP32\", \"values\": null}, {\"x\": \"ResNet50 100%-FP16\", \"y\": \"TX2-maxq-FP32\", \"values\": null}, {\"x\": \"ResNet50 100%-FP32\", \"y\": \"TX2-maxq-FP32\", \"values\": 57.0}, {\"x\": \"ResNet50 80%-INT8\", \"y\": \"TX2-maxq-FP32\", \"values\": null}, {\"x\": \"ResNet50 50%-INT8\", \"y\": \"TX2-maxq-FP32\", \"values\": null}, {\"x\": \"ResNet50 30%-INT8\", \"y\": \"TX2-maxq-FP32\", \"values\": null}, {\"x\": \"EfficientNet S-INT8\", \"y\": \"TX2-maxq-FP32\", \"values\": null}, {\"x\": \"EfficientNet M-INT8\", \"y\": \"TX2-maxq-FP32\", \"values\": null}, {\"x\": \"EfficientNet L-INT8\", \"y\": \"TX2-maxq-FP32\", \"values\": null}, {\"x\": \"GoogleNetv1-INT8\", \"y\": \"TPU-fast-INT8\", \"values\": 1278.0}, {\"x\": \"GoogleNetv1-FP16\", \"y\": \"TPU-fast-INT8\", \"values\": null}, {\"x\": \"GoogleNetv1-FP32\", \"y\": \"TPU-fast-INT8\", \"values\": null}, {\"x\": \"MobileNetv1-INT8\", \"y\": \"TPU-fast-INT8\", \"values\": 3509.0}, {\"x\": \"ResNet50 100%-INT8\", \"y\": \"TPU-fast-INT8\", \"values\": 518.0}, {\"x\": \"ResNet50 100%-FP16\", \"y\": \"TPU-fast-INT8\", \"values\": null}, {\"x\": \"ResNet50 100%-FP32\", \"y\": \"TPU-fast-INT8\", \"values\": null}, {\"x\": \"ResNet50 80%-INT8\", \"y\": \"TPU-fast-INT8\", \"values\": 612.0}, {\"x\": \"ResNet50 50%-INT8\", \"y\": \"TPU-fast-INT8\", \"values\": 1067.0}, {\"x\": \"ResNet50 30%-INT8\", \"y\": \"TPU-fast-INT8\", \"values\": 1633.0}, {\"x\": \"EfficientNet S-INT8\", \"y\": \"TPU-fast-INT8\", \"values\": 851.0}, {\"x\": \"EfficientNet M-INT8\", \"y\": \"TPU-fast-INT8\", \"values\": 541.0}, {\"x\": \"EfficientNet L-INT8\", \"y\": \"TPU-fast-INT8\", \"values\": 206.0}, {\"x\": \"GoogleNetv1-INT8\", \"y\": \"TPU-slow-INT8\", \"values\": 639.0}, {\"x\": \"GoogleNetv1-FP16\", \"y\": \"TPU-slow-INT8\", \"values\": null}, {\"x\": \"GoogleNetv1-FP32\", \"y\": \"TPU-slow-INT8\", \"values\": null}, {\"x\": \"MobileNetv1-INT8\", \"y\": \"TPU-slow-INT8\", \"values\": 1754.0}, {\"x\": \"ResNet50 100%-INT8\", \"y\": \"TPU-slow-INT8\", \"values\": 259.0}, {\"x\": \"ResNet50 100%-FP16\", \"y\": \"TPU-slow-INT8\", \"values\": null}, {\"x\": \"ResNet50 100%-FP32\", \"y\": \"TPU-slow-INT8\", \"values\": null}, {\"x\": \"ResNet50 80%-INT8\", \"y\": \"TPU-slow-INT8\", \"values\": 306.0}, {\"x\": \"ResNet50 50%-INT8\", \"y\": \"TPU-slow-INT8\", \"values\": 533.0}, {\"x\": \"ResNet50 30%-INT8\", \"y\": \"TPU-slow-INT8\", \"values\": 816.0}, {\"x\": \"EfficientNet S-INT8\", \"y\": \"TPU-slow-INT8\", \"values\": 426.0}, {\"x\": \"EfficientNet M-INT8\", \"y\": \"TPU-slow-INT8\", \"values\": 270.0}, {\"x\": \"EfficientNet L-INT8\", \"y\": \"TPU-slow-INT8\", \"values\": 103.0}, {\"x\": \"GoogleNetv1-INT8\", \"y\": \"NCS-INT8\", \"values\": 319.0}, {\"x\": \"GoogleNetv1-FP16\", \"y\": \"NCS-INT8\", \"values\": null}, {\"x\": \"GoogleNetv1-FP32\", \"y\": \"NCS-INT8\", \"values\": null}, {\"x\": \"MobileNetv1-INT8\", \"y\": \"NCS-INT8\", \"values\": 877.0}, {\"x\": \"ResNet50 100%-INT8\", \"y\": \"NCS-INT8\", \"values\": 130.0}, {\"x\": \"ResNet50 100%-FP16\", \"y\": \"NCS-INT8\", \"values\": null}, {\"x\": \"ResNet50 100%-FP32\", \"y\": \"NCS-INT8\", \"values\": null}, {\"x\": \"ResNet50 80%-INT8\", \"y\": \"NCS-INT8\", \"values\": 153.0}, {\"x\": \"ResNet50 50%-INT8\", \"y\": \"NCS-INT8\", \"values\": 267.0}, {\"x\": \"ResNet50 30%-INT8\", \"y\": \"NCS-INT8\", \"values\": 408.0}, {\"x\": \"EfficientNet S-INT8\", \"y\": \"NCS-INT8\", \"values\": 213.0}, {\"x\": \"EfficientNet M-INT8\", \"y\": \"NCS-INT8\", \"values\": 135.0}, {\"x\": \"EfficientNet L-INT8\", \"y\": \"NCS-INT8\", \"values\": 52.0}, {\"x\": \"GoogleNetv1-INT8\", \"y\": \"NCS-FP16\", \"values\": null}, {\"x\": \"GoogleNetv1-FP16\", \"y\": \"NCS-FP16\", \"values\": 160.0}, {\"x\": \"GoogleNetv1-FP32\", \"y\": \"NCS-FP16\", \"values\": null}, {\"x\": \"MobileNetv1-INT8\", \"y\": \"NCS-FP16\", \"values\": null}, {\"x\": \"ResNet50 100%-INT8\", \"y\": \"NCS-FP16\", \"values\": null}, {\"x\": \"ResNet50 100%-FP16\", \"y\": \"NCS-FP16\", \"values\": 65.0}, {\"x\": \"ResNet50 100%-FP32\", \"y\": \"NCS-FP16\", \"values\": null}, {\"x\": \"ResNet50 80%-INT8\", \"y\": \"NCS-FP16\", \"values\": null}, {\"x\": \"ResNet50 50%-INT8\", \"y\": \"NCS-FP16\", \"values\": null}, {\"x\": \"ResNet50 30%-INT8\", \"y\": \"NCS-FP16\", \"values\": null}, {\"x\": \"EfficientNet S-INT8\", \"y\": \"NCS-FP16\", \"values\": null}, {\"x\": \"EfficientNet M-INT8\", \"y\": \"NCS-FP16\", \"values\": null}, {\"x\": \"EfficientNet L-INT8\", \"y\": \"NCS-FP16\", \"values\": null}, {\"x\": \"GoogleNetv1-INT8\", \"y\": \"U96-Quadcore A53-INT8\", \"values\": 61.0}, {\"x\": \"GoogleNetv1-FP16\", \"y\": \"U96-Quadcore A53-INT8\", \"values\": 61.0}, {\"x\": \"GoogleNetv1-FP32\", \"y\": \"U96-Quadcore A53-INT8\", \"values\": 61.0}, {\"x\": \"MobileNetv1-INT8\", \"y\": \"U96-Quadcore A53-INT8\", \"values\": 168.0}, {\"x\": \"ResNet50 100%-INT8\", \"y\": \"U96-Quadcore A53-INT8\", \"values\": 25.0}, {\"x\": \"ResNet50 100%-FP16\", \"y\": \"U96-Quadcore A53-INT8\", \"values\": 25.0}, {\"x\": \"ResNet50 100%-FP32\", \"y\": \"U96-Quadcore A53-INT8\", \"values\": 25.0}, {\"x\": \"ResNet50 80%-INT8\", \"y\": \"U96-Quadcore A53-INT8\", \"values\": 29.0}, {\"x\": \"ResNet50 50%-INT8\", \"y\": \"U96-Quadcore A53-INT8\", \"values\": 51.0}, {\"x\": \"ResNet50 30%-INT8\", \"y\": \"U96-Quadcore A53-INT8\", \"values\": 78.0}, {\"x\": \"EfficientNet S-INT8\", \"y\": \"U96-Quadcore A53-INT8\", \"values\": 41.0}, {\"x\": \"EfficientNet M-INT8\", \"y\": \"U96-Quadcore A53-INT8\", \"values\": 26.0}, {\"x\": \"EfficientNet L-INT8\", \"y\": \"U96-Quadcore A53-INT8\", \"values\": 10.0}]}}, {\"mode\": \"vega-lite\"});\n",
       "</script>"
      ],
      "text/plain": [
       "alt.LayerChart(...)"
      ]
     },
     "execution_count": 2,
     "metadata": {},
     "output_type": "execute_result"
    }
   ],
   "source": [
    "#hide_input\n",
    "%run scripts/heatmaps.py  #run the heatmaps script\n",
    "#load cifar10 dataset and plot it\n",
    "heatmap(pd.read_csv(\"data/processed_csv/performance_prediction_imagenet.csv\"), 'lightgrey','Performance predictions for Imagenet')"
   ]
  },
  {
   "cell_type": "code",
   "execution_count": null,
   "metadata": {},
   "outputs": [],
   "source": []
  }
 ],
 "metadata": {
  "kernelspec": {
   "display_name": "Python 3",
   "language": "python",
   "name": "python3"
  },
  "language_info": {
   "codemirror_mode": {
    "name": "ipython",
    "version": 3
   },
   "file_extension": ".py",
   "mimetype": "text/x-python",
   "name": "python",
   "nbconvert_exporter": "python",
   "pygments_lexer": "ipython3",
   "version": "3.7.4"
  },
  "widgets": {
   "application/vnd.jupyter.widget-state+json": {
    "state": {},
    "version_major": 2,
    "version_minor": 0
   }
  }
 },
 "nbformat": 4,
 "nbformat_minor": 4
}
