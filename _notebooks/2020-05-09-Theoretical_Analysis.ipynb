{
 "cells": [
  {
   "cell_type": "markdown",
   "metadata": {},
   "source": [
    "# Theoretical Analysis\n",
    "> Theoretical Analysis (level 0) for all CNN topologies and hardware platforms\n",
    "\n",
    "- toc: true \n",
    "- badges: true\n",
    "- comments: true\n",
    "- categories: [Rooflines,MNIST,ImageNet,CIFAR-10]\n",
    "- image: images/roofline.png"
   ]
  },
  {
   "cell_type": "code",
   "execution_count": 3,
   "metadata": {},
   "outputs": [],
   "source": [
    "#hide\n",
    "import numpy as np\n",
    "import pandas as pd\n",
    "import random\n",
    "import re\n",
    "\n",
    "pd.options.display.max_rows = 10000 # this will set limit of columns to 500\n",
    "pd.options.display.float_format = '{:20,.4f}'.format\n",
    "import altair as alt\n",
    "W = 600\n",
    "H = 480"
   ]
  },
  {
   "cell_type": "code",
   "execution_count": 4,
   "metadata": {},
   "outputs": [],
   "source": [
    "#hide\n",
    "#notes\n",
    "#rn50_df = df[df.apply(lambda row: row['net_prun_datatype'].split('_')[0] == 'MobileNetv1|ResNet50', axis=1)]\n",
    "#rn50_df['net_prun_datatype'] = rn50_df['net_prun_datatype'].str.split('_').str[0] #comment this when I want to hide the topology\n",
    "#rn50_df['hardw'] = rn50_df['hardw'].str.replace(\"_INT8|_FP16|_FP32\", \"\")"
   ]
  },
  {
   "cell_type": "markdown",
   "metadata": {},
   "source": [
    "# Introduction"
   ]
  },
  {
   "cell_type": "markdown",
   "metadata": {},
   "source": [
    "This page presents a Theoretical Analysis of both hardware platforms as well as CNN topologies.\n",
    "In order to get a general overview of all CNNs and Hardware Platforms included in our experiments, we present the following 3 tables. "
   ]
  },
  {
   "cell_type": "markdown",
   "metadata": {},
   "source": [
    "# Tables"
   ]
  },
  {
   "cell_type": "markdown",
   "metadata": {},
   "source": [
    "### CNNs and Their Accuracy Over All Pruning and Quantization Variants"
   ]
  },
  {
   "cell_type": "markdown",
   "metadata": {},
   "source": [
    "Table below provides a complete overview of all CNNs that were included in the experimentation and their corresponding accuracy over all Pruning and Quantization Variants."
   ]
  },
  {
   "cell_type": "code",
   "execution_count": 5,
   "metadata": {
    "scrolled": false
   },
   "outputs": [
    {
     "data": {
      "text/html": [
       "<table border=\"1\" class=\"dataframe\">\n",
       "  <thead>\n",
       "    <tr>\n",
       "      <th></th>\n",
       "      <th>INT2</th>\n",
       "      <th>INT4</th>\n",
       "      <th>INT8</th>\n",
       "      <th>FP16</th>\n",
       "      <th>FP32</th>\n",
       "    </tr>\n",
       "    <tr>\n",
       "      <th></th>\n",
       "      <th>top1 (top5) [%]</th>\n",
       "      <th>top1 (top5) [%]</th>\n",
       "      <th>top1 (top5) [%]</th>\n",
       "      <th>top1 (top5) [%]</th>\n",
       "      <th>top1 (top5) [%]</th>\n",
       "    </tr>\n",
       "  </thead>\n",
       "  <tbody>\n",
       "    <tr>\n",
       "      <td>GoogLeNetv1 100</td>\n",
       "      <td>nm</td>\n",
       "      <td>nm</td>\n",
       "      <td>69.24 (88.45)</td>\n",
       "      <td>66.93 (87.83)</td>\n",
       "      <td>66.96 (87.84)</td>\n",
       "    </tr>\n",
       "    <tr>\n",
       "      <td>MobileNetv1 100</td>\n",
       "      <td>nm</td>\n",
       "      <td>nm</td>\n",
       "      <td>69.57 (87.71)</td>\n",
       "      <td>nm</td>\n",
       "      <td>nm</td>\n",
       "    </tr>\n",
       "    <tr>\n",
       "      <td>EfficientNet-S 100</td>\n",
       "      <td>nm</td>\n",
       "      <td>nm</td>\n",
       "      <td>77</td>\n",
       "      <td>nm</td>\n",
       "      <td>nm</td>\n",
       "    </tr>\n",
       "    <tr>\n",
       "      <td>EfficientNet-M 100</td>\n",
       "      <td>nm</td>\n",
       "      <td>nm</td>\n",
       "      <td>78.6</td>\n",
       "      <td>nm</td>\n",
       "      <td>nm</td>\n",
       "    </tr>\n",
       "    <tr>\n",
       "      <td>EfficientNet-L 100</td>\n",
       "      <td>nm</td>\n",
       "      <td>nm</td>\n",
       "      <td>80.2</td>\n",
       "      <td>nm</td>\n",
       "      <td>nm</td>\n",
       "    </tr>\n",
       "    <tr>\n",
       "      <td>ResNet-50 100</td>\n",
       "      <td>nm</td>\n",
       "      <td>nm</td>\n",
       "      <td>73.29 (91.26)</td>\n",
       "      <td>75.14 (92.12)</td>\n",
       "      <td>75.15 (92.11)</td>\n",
       "    </tr>\n",
       "    <tr>\n",
       "      <td>ResNet-50 80</td>\n",
       "      <td>nm</td>\n",
       "      <td>nm</td>\n",
       "      <td>73.30 (91.40)</td>\n",
       "      <td>nm</td>\n",
       "      <td>nm</td>\n",
       "    </tr>\n",
       "    <tr>\n",
       "      <td>ResNet-50 50</td>\n",
       "      <td>nm</td>\n",
       "      <td>nm</td>\n",
       "      <td>69.49 (91.00)</td>\n",
       "      <td>nm</td>\n",
       "      <td>nm</td>\n",
       "    </tr>\n",
       "    <tr>\n",
       "      <td>ResNet-50 30</td>\n",
       "      <td>nm</td>\n",
       "      <td>nm</td>\n",
       "      <td>68.83 ( 90.16)</td>\n",
       "      <td>nm</td>\n",
       "      <td>nm</td>\n",
       "    </tr>\n",
       "    <tr>\n",
       "      <td>CNV 100</td>\n",
       "      <td>86.86</td>\n",
       "      <td>87.4</td>\n",
       "      <td>nm</td>\n",
       "      <td>87.02</td>\n",
       "      <td>87.06</td>\n",
       "    </tr>\n",
       "    <tr>\n",
       "      <td>CNV 50</td>\n",
       "      <td>84.29</td>\n",
       "      <td>84.88</td>\n",
       "      <td>nm</td>\n",
       "      <td>85.55</td>\n",
       "      <td>85.6</td>\n",
       "    </tr>\n",
       "    <tr>\n",
       "      <td>CNV 25</td>\n",
       "      <td>79.89</td>\n",
       "      <td>81.09</td>\n",
       "      <td>nm</td>\n",
       "      <td>83.28</td>\n",
       "      <td>83.25</td>\n",
       "    </tr>\n",
       "    <tr>\n",
       "      <td>CNV 12.5</td>\n",
       "      <td>73.64</td>\n",
       "      <td>75.85</td>\n",
       "      <td>nm</td>\n",
       "      <td>77.82</td>\n",
       "      <td>77.84</td>\n",
       "    </tr>\n",
       "    <tr>\n",
       "      <td>MLP 100</td>\n",
       "      <td>98.75</td>\n",
       "      <td>98.77</td>\n",
       "      <td>nm</td>\n",
       "      <td>97.3</td>\n",
       "      <td>97.31</td>\n",
       "    </tr>\n",
       "    <tr>\n",
       "      <td>MLP 50</td>\n",
       "      <td>98.49</td>\n",
       "      <td>98.62</td>\n",
       "      <td>nm</td>\n",
       "      <td>97.45</td>\n",
       "      <td>97.46</td>\n",
       "    </tr>\n",
       "    <tr>\n",
       "      <td>MLP 25</td>\n",
       "      <td>98.04</td>\n",
       "      <td>98.29</td>\n",
       "      <td>nm</td>\n",
       "      <td>97.49</td>\n",
       "      <td>97.44</td>\n",
       "    </tr>\n",
       "    <tr>\n",
       "      <td>MLP 12.5</td>\n",
       "      <td>96.85</td>\n",
       "      <td>97.54</td>\n",
       "      <td>nm</td>\n",
       "      <td>97.95</td>\n",
       "      <td>97.15</td>\n",
       "    </tr>\n",
       "  </tbody>\n",
       "</table>"
      ],
      "text/plain": [
       "<IPython.core.display.HTML object>"
      ]
     },
     "metadata": {},
     "output_type": "display_data"
    }
   ],
   "source": [
    "#hide_input\n",
    "%run scripts/script_tables.py  #run the tables script\n",
    "tableOverviewExperiments(['data/cnn_topologies_accuracy.csv'])"
   ]
  },
  {
   "cell_type": "markdown",
   "metadata": {},
   "source": [
    "### CNNs and Their Compute and Memory Requirements"
   ]
  },
  {
   "cell_type": "markdown",
   "metadata": {},
   "source": [
    "Next table shows Compute and Memory Requirements for all CNNs in number of operations ([GOPs]), Model Size ([ME]) and Operational Intensity ([OI]) in operations per byte read or written from memory."
   ]
  },
  {
   "cell_type": "code",
   "execution_count": 6,
   "metadata": {
    "scrolled": false
   },
   "outputs": [
    {
     "data": {
      "text/html": [
       "<table border=\"1\" class=\"dataframe\">\n",
       "  <thead>\n",
       "    <tr>\n",
       "      <th></th>\n",
       "      <th>Total OPs</th>\n",
       "      <th>Total Model Size</th>\n",
       "      <th>OI (INT2)</th>\n",
       "      <th>OI (INT4)</th>\n",
       "      <th>OI (INT8)</th>\n",
       "      <th>OI (FP16)</th>\n",
       "      <th>OI (FP32)</th>\n",
       "    </tr>\n",
       "    <tr>\n",
       "      <th></th>\n",
       "      <th>GOPs</th>\n",
       "      <th>[ME]</th>\n",
       "      <th>[Ops/Byte]</th>\n",
       "      <th>[Ops/Byte]</th>\n",
       "      <th>[Ops/Byte]</th>\n",
       "      <th>[Ops/Byte]</th>\n",
       "      <th>[Ops/Byte]</th>\n",
       "    </tr>\n",
       "  </thead>\n",
       "  <tbody>\n",
       "    <tr>\n",
       "      <td>GoogLeNetv1 100%</td>\n",
       "      <td>3.1</td>\n",
       "      <td>6</td>\n",
       "      <td>2093.97</td>\n",
       "      <td>1046.99</td>\n",
       "      <td>523.49</td>\n",
       "      <td>261.75</td>\n",
       "      <td>130.87</td>\n",
       "    </tr>\n",
       "    <tr>\n",
       "      <td>MobileNetv1 100%</td>\n",
       "      <td>1.1</td>\n",
       "      <td>4.2</td>\n",
       "      <td>1075.47</td>\n",
       "      <td>537.74</td>\n",
       "      <td>268.87</td>\n",
       "      <td>134.43</td>\n",
       "      <td>67.22</td>\n",
       "    </tr>\n",
       "    <tr>\n",
       "      <td>ResNet-50 100%</td>\n",
       "      <td>7.7</td>\n",
       "      <td>25.5</td>\n",
       "      <td>1210.84</td>\n",
       "      <td>605.42</td>\n",
       "      <td>302.71</td>\n",
       "      <td>151.36</td>\n",
       "      <td>75.68</td>\n",
       "    </tr>\n",
       "    <tr>\n",
       "      <td>ResNet-50 80%</td>\n",
       "      <td>6.5</td>\n",
       "      <td>23.7</td>\n",
       "      <td>1086.59</td>\n",
       "      <td>543.3</td>\n",
       "      <td>271.65</td>\n",
       "      <td>135.82</td>\n",
       "      <td>67.91</td>\n",
       "    </tr>\n",
       "    <tr>\n",
       "      <td>ResNet-50 50%</td>\n",
       "      <td>3.8</td>\n",
       "      <td>15.8</td>\n",
       "      <td>949.85</td>\n",
       "      <td>474.93</td>\n",
       "      <td>237.46</td>\n",
       "      <td>118.73</td>\n",
       "      <td>59.37</td>\n",
       "    </tr>\n",
       "    <tr>\n",
       "      <td>ResNet-50 30%</td>\n",
       "      <td>2.5</td>\n",
       "      <td>10.1</td>\n",
       "      <td>970.16</td>\n",
       "      <td>485.08</td>\n",
       "      <td>242.54</td>\n",
       "      <td>121.27</td>\n",
       "      <td>60.64</td>\n",
       "    </tr>\n",
       "    <tr>\n",
       "      <td>EfficientNet-S 100%</td>\n",
       "      <td>4.7</td>\n",
       "      <td>5.4</td>\n",
       "      <td>3481.48</td>\n",
       "      <td>1740.74</td>\n",
       "      <td>870.37</td>\n",
       "      <td>435.18</td>\n",
       "      <td>217.59</td>\n",
       "    </tr>\n",
       "    <tr>\n",
       "      <td>EfficientNet-M 100%</td>\n",
       "      <td>7.4</td>\n",
       "      <td>6.9</td>\n",
       "      <td>4289.86</td>\n",
       "      <td>2144.93</td>\n",
       "      <td>1072.46</td>\n",
       "      <td>536.23</td>\n",
       "      <td>268.12</td>\n",
       "    </tr>\n",
       "    <tr>\n",
       "      <td>EfficientNet-L 100%</td>\n",
       "      <td>19.4</td>\n",
       "      <td>10.6</td>\n",
       "      <td>7313.21</td>\n",
       "      <td>3656.6</td>\n",
       "      <td>1828.3</td>\n",
       "      <td>914.15</td>\n",
       "      <td>457.08</td>\n",
       "    </tr>\n",
       "    <tr>\n",
       "      <td>CNV 100%</td>\n",
       "      <td>0.47</td>\n",
       "      <td>6.16</td>\n",
       "      <td>304.95</td>\n",
       "      <td>152.48</td>\n",
       "      <td>76.24</td>\n",
       "      <td>38.12</td>\n",
       "      <td>19.06</td>\n",
       "    </tr>\n",
       "    <tr>\n",
       "      <td>CNV 50%</td>\n",
       "      <td>0.12</td>\n",
       "      <td>1.54</td>\n",
       "      <td>308.32</td>\n",
       "      <td>154.16</td>\n",
       "      <td>77.08</td>\n",
       "      <td>38.54</td>\n",
       "      <td>19.27</td>\n",
       "    </tr>\n",
       "    <tr>\n",
       "      <td>CNV 25%</td>\n",
       "      <td>0.03</td>\n",
       "      <td>0.39</td>\n",
       "      <td>315.01</td>\n",
       "      <td>157.51</td>\n",
       "      <td>78.75</td>\n",
       "      <td>39.38</td>\n",
       "      <td>19.69</td>\n",
       "    </tr>\n",
       "    <tr>\n",
       "      <td>CNV 12.5%</td>\n",
       "      <td>0.01</td>\n",
       "      <td>0.1</td>\n",
       "      <td>332.61</td>\n",
       "      <td>166.3</td>\n",
       "      <td>83.15</td>\n",
       "      <td>41.58</td>\n",
       "      <td>20.79</td>\n",
       "    </tr>\n",
       "    <tr>\n",
       "      <td>MLP 100%</td>\n",
       "      <td>0.02</td>\n",
       "      <td>10.01</td>\n",
       "      <td>8</td>\n",
       "      <td>4</td>\n",
       "      <td>2</td>\n",
       "      <td>1</td>\n",
       "      <td>0.5</td>\n",
       "    </tr>\n",
       "    <tr>\n",
       "      <td>MLP 50%</td>\n",
       "      <td>0.00582</td>\n",
       "      <td>2.91</td>\n",
       "      <td>8</td>\n",
       "      <td>4</td>\n",
       "      <td>2</td>\n",
       "      <td>1</td>\n",
       "      <td>0.5</td>\n",
       "    </tr>\n",
       "    <tr>\n",
       "      <td>MLP 25%</td>\n",
       "      <td>0.0019</td>\n",
       "      <td>0.93</td>\n",
       "      <td>8</td>\n",
       "      <td>4</td>\n",
       "      <td>2</td>\n",
       "      <td>1</td>\n",
       "      <td>0.5</td>\n",
       "    </tr>\n",
       "    <tr>\n",
       "      <td>MLP 12.5%</td>\n",
       "      <td>0.0007</td>\n",
       "      <td>0.33</td>\n",
       "      <td>8</td>\n",
       "      <td>4</td>\n",
       "      <td>2</td>\n",
       "      <td>1</td>\n",
       "      <td>0.5</td>\n",
       "    </tr>\n",
       "  </tbody>\n",
       "</table>"
      ],
      "text/plain": [
       "<IPython.core.display.HTML object>"
      ]
     },
     "metadata": {},
     "output_type": "display_data"
    }
   ],
   "source": [
    "#hide_input\n",
    "#%run scripts/script_tables.py  #run the tables script if it hasn't been run\n",
    "tableOverviewExperiments(['data/cnn_topologies_compute_memory_requirements.csv'])"
   ]
  },
  {
   "cell_type": "markdown",
   "metadata": {},
   "source": [
    "We created bar charts to better illustrate compute and memory requirements for all CNNs from the previous table in an interactive and easy way. "
   ]
  },
  {
   "cell_type": "code",
   "execution_count": 7,
   "metadata": {
    "scrolled": false
   },
   "outputs": [
    {
     "data": {
      "text/html": [
       "\n",
       "<div id=\"altair-viz-1a5ef135061748c7aaecceae5de968bc\"></div>\n",
       "<script type=\"text/javascript\">\n",
       "  (function(spec, embedOpt){\n",
       "    let outputDiv = document.currentScript.previousElementSibling;\n",
       "    if (outputDiv.id !== \"altair-viz-1a5ef135061748c7aaecceae5de968bc\") {\n",
       "      outputDiv = document.getElementById(\"altair-viz-1a5ef135061748c7aaecceae5de968bc\");\n",
       "    }\n",
       "    const paths = {\n",
       "      \"vega\": \"https://cdn.jsdelivr.net/npm//vega@5?noext\",\n",
       "      \"vega-lib\": \"https://cdn.jsdelivr.net/npm//vega-lib?noext\",\n",
       "      \"vega-lite\": \"https://cdn.jsdelivr.net/npm//vega-lite@4.8.1?noext\",\n",
       "      \"vega-embed\": \"https://cdn.jsdelivr.net/npm//vega-embed@6?noext\",\n",
       "    };\n",
       "\n",
       "    function loadScript(lib) {\n",
       "      return new Promise(function(resolve, reject) {\n",
       "        var s = document.createElement('script');\n",
       "        s.src = paths[lib];\n",
       "        s.async = true;\n",
       "        s.onload = () => resolve(paths[lib]);\n",
       "        s.onerror = () => reject(`Error loading script: ${paths[lib]}`);\n",
       "        document.getElementsByTagName(\"head\")[0].appendChild(s);\n",
       "      });\n",
       "    }\n",
       "\n",
       "    function showError(err) {\n",
       "      outputDiv.innerHTML = `<div class=\"error\" style=\"color:red;\">${err}</div>`;\n",
       "      throw err;\n",
       "    }\n",
       "\n",
       "    function displayChart(vegaEmbed) {\n",
       "      vegaEmbed(outputDiv, spec, embedOpt)\n",
       "        .catch(err => showError(`Javascript Error: ${err.message}<br>This usually means there's a typo in your chart specification. See the javascript console for the full traceback.`));\n",
       "    }\n",
       "\n",
       "    if(typeof define === \"function\" && define.amd) {\n",
       "      requirejs.config({paths});\n",
       "      require([\"vega-embed\"], displayChart, err => showError(`Error loading script: ${err.message}`));\n",
       "    } else if (typeof vegaEmbed === \"function\") {\n",
       "      displayChart(vegaEmbed);\n",
       "    } else {\n",
       "      loadScript(\"vega\")\n",
       "        .then(() => loadScript(\"vega-lite\"))\n",
       "        .then(() => loadScript(\"vega-embed\"))\n",
       "        .catch(showError)\n",
       "        .then(() => displayChart(vegaEmbed));\n",
       "    }\n",
       "  })({\"config\": {\"view\": {\"continuousWidth\": 400, \"continuousHeight\": 300}}, \"hconcat\": [{\"layer\": [{\"mark\": \"bar\", \"encoding\": {\"color\": {\"type\": \"nominal\", \"field\": \"network\"}, \"x\": {\"type\": \"nominal\", \"field\": \" \", \"title\": \"All convolutional neural networks\"}, \"y\": {\"type\": \"quantitative\", \"field\": \"Total OPs\", \"scale\": {\"type\": \"symlog\"}, \"title\": \"Number of Operations [GOPs]\"}}, \"selection\": {\"selector001\": {\"type\": \"interval\", \"bind\": \"scales\", \"encodings\": [\"x\", \"y\"]}}}, {\"mark\": {\"type\": \"text\", \"dy\": -5}, \"encoding\": {\"color\": {\"type\": \"nominal\", \"field\": \"network\"}, \"text\": {\"type\": \"quantitative\", \"field\": \"Total OPs\"}, \"x\": {\"type\": \"nominal\", \"field\": \" \", \"title\": \"All convolutional neural networks\"}, \"y\": {\"type\": \"quantitative\", \"field\": \"Total OPs\", \"scale\": {\"type\": \"symlog\"}, \"title\": \"Number of Operations [GOPs]\"}}}], \"height\": 350, \"title\": \"Compute and Memory Requirements for All CNNs in Number of Operations\", \"width\": 350}, {\"layer\": [{\"mark\": \"bar\", \"encoding\": {\"color\": {\"type\": \"nominal\", \"field\": \"network\"}, \"x\": {\"type\": \"nominal\", \"field\": \" \", \"title\": \"All convolutional neural networks\"}, \"y\": {\"type\": \"quantitative\", \"field\": \"Total Model Size\", \"scale\": {\"type\": \"symlog\"}, \"title\": \"Total Model Size in Millions of Elements [ME]\"}}, \"selection\": {\"selector002\": {\"type\": \"interval\", \"bind\": \"scales\", \"encodings\": [\"x\", \"y\"]}}}, {\"mark\": {\"type\": \"text\", \"dy\": -5}, \"encoding\": {\"color\": {\"type\": \"nominal\", \"field\": \"network\"}, \"text\": {\"type\": \"quantitative\", \"field\": \"Total Model Size\"}, \"x\": {\"type\": \"nominal\", \"field\": \" \", \"title\": \"All convolutional neural networks\"}, \"y\": {\"type\": \"quantitative\", \"field\": \"Total Model Size\", \"scale\": {\"type\": \"symlog\"}, \"title\": \"Total Model Size in Millions of Elements [ME]\"}}}], \"height\": 350, \"title\": \"Compute and Memory Requirements for All CNNs in Model Size\", \"width\": 350}], \"data\": {\"name\": \"data-3d515f21b69eaca0e957522f789d21c6\"}, \"$schema\": \"https://vega.github.io/schema/vega-lite/v4.8.1.json\", \"datasets\": {\"data-3d515f21b69eaca0e957522f789d21c6\": [{\" \": \"GoogLeNetv1 100%\", \"Total OPs\": \"3.1\", \"Total Model Size\": \"6\", \"OI (INT2)\": \"2093.97\", \"OI (INT4)\": \"1046.99\", \"OI (INT8)\": \"523.49\", \"OI (FP16)\": \"261.75\", \"OI (FP32)\": \"130.87\", \"network\": \"GoogLeNetv1\"}, {\" \": \"MobileNetv1 100%\", \"Total OPs\": \"1.1\", \"Total Model Size\": \"4.2\", \"OI (INT2)\": \"1075.47\", \"OI (INT4)\": \"537.74\", \"OI (INT8)\": \"268.87\", \"OI (FP16)\": \"134.43\", \"OI (FP32)\": \"67.22\", \"network\": \"MobileNetv1\"}, {\" \": \"ResNet-50 100%\", \"Total OPs\": \"7.7\", \"Total Model Size\": \"25.5\", \"OI (INT2)\": \"1210.84\", \"OI (INT4)\": \"605.42\", \"OI (INT8)\": \"302.71\", \"OI (FP16)\": \"151.36\", \"OI (FP32)\": \"75.68\", \"network\": \"ResNet-50\"}, {\" \": \"ResNet-50 80%\", \"Total OPs\": \"6.5\", \"Total Model Size\": \"23.7\", \"OI (INT2)\": \"1086.59\", \"OI (INT4)\": \"543.3\", \"OI (INT8)\": \"271.65\", \"OI (FP16)\": \"135.82\", \"OI (FP32)\": \"67.91\", \"network\": \"ResNet-50\"}, {\" \": \"ResNet-50 50%\", \"Total OPs\": \"3.8\", \"Total Model Size\": \"15.8\", \"OI (INT2)\": \"949.85\", \"OI (INT4)\": \"474.93\", \"OI (INT8)\": \"237.46\", \"OI (FP16)\": \"118.73\", \"OI (FP32)\": \"59.37\", \"network\": \"ResNet-50\"}, {\" \": \"ResNet-50 30%\", \"Total OPs\": \"2.5\", \"Total Model Size\": \"10.1\", \"OI (INT2)\": \"970.16\", \"OI (INT4)\": \"485.08\", \"OI (INT8)\": \"242.54\", \"OI (FP16)\": \"121.27\", \"OI (FP32)\": \"60.64\", \"network\": \"ResNet-50\"}, {\" \": \"EfficientNet-S 100%\", \"Total OPs\": \"4.7\", \"Total Model Size\": \"5.4\", \"OI (INT2)\": \"3481.48\", \"OI (INT4)\": \"1740.74\", \"OI (INT8)\": \"870.37\", \"OI (FP16)\": \"435.18\", \"OI (FP32)\": \"217.59\", \"network\": \"EfficientNet-S\"}, {\" \": \"EfficientNet-M 100%\", \"Total OPs\": \"7.4\", \"Total Model Size\": \"6.9\", \"OI (INT2)\": \"4289.86\", \"OI (INT4)\": \"2144.93\", \"OI (INT8)\": \"1072.46\", \"OI (FP16)\": \"536.23\", \"OI (FP32)\": \"268.12\", \"network\": \"EfficientNet-M\"}, {\" \": \"EfficientNet-L 100%\", \"Total OPs\": \"19.4\", \"Total Model Size\": \"10.6\", \"OI (INT2)\": \"7313.21\", \"OI (INT4)\": \"3656.6\", \"OI (INT8)\": \"1828.3\", \"OI (FP16)\": \"914.15\", \"OI (FP32)\": \"457.08\", \"network\": \"EfficientNet-L\"}, {\" \": \"CNV 100%\", \"Total OPs\": \"0.47\", \"Total Model Size\": \"6.16\", \"OI (INT2)\": \"304.95\", \"OI (INT4)\": \"152.48\", \"OI (INT8)\": \"76.24\", \"OI (FP16)\": \"38.12\", \"OI (FP32)\": \"19.06\", \"network\": \"CNV\"}, {\" \": \"CNV 50%\", \"Total OPs\": \"0.12\", \"Total Model Size\": \"1.54\", \"OI (INT2)\": \"308.32\", \"OI (INT4)\": \"154.16\", \"OI (INT8)\": \"77.08\", \"OI (FP16)\": \"38.54\", \"OI (FP32)\": \"19.27\", \"network\": \"CNV\"}, {\" \": \"CNV 25%\", \"Total OPs\": \"0.03\", \"Total Model Size\": \"0.39\", \"OI (INT2)\": \"315.01\", \"OI (INT4)\": \"157.51\", \"OI (INT8)\": \"78.75\", \"OI (FP16)\": \"39.38\", \"OI (FP32)\": \"19.69\", \"network\": \"CNV\"}, {\" \": \"CNV 12.5%\", \"Total OPs\": \"0.01\", \"Total Model Size\": \"0.1\", \"OI (INT2)\": \"332.61\", \"OI (INT4)\": \"166.3\", \"OI (INT8)\": \"83.15\", \"OI (FP16)\": \"41.58\", \"OI (FP32)\": \"20.79\", \"network\": \"CNV\"}, {\" \": \"MLP 100%\", \"Total OPs\": \"0.02\", \"Total Model Size\": \"10.01\", \"OI (INT2)\": \"8\", \"OI (INT4)\": \"4\", \"OI (INT8)\": \"2\", \"OI (FP16)\": \"1\", \"OI (FP32)\": \"0.5\", \"network\": \"MLP\"}, {\" \": \"MLP 50%\", \"Total OPs\": \"0.00582\", \"Total Model Size\": \"2.91\", \"OI (INT2)\": \"8\", \"OI (INT4)\": \"4\", \"OI (INT8)\": \"2\", \"OI (FP16)\": \"1\", \"OI (FP32)\": \"0.5\", \"network\": \"MLP\"}, {\" \": \"MLP 25%\", \"Total OPs\": \"0.0019\", \"Total Model Size\": \"0.93\", \"OI (INT2)\": \"8\", \"OI (INT4)\": \"4\", \"OI (INT8)\": \"2\", \"OI (FP16)\": \"1\", \"OI (FP32)\": \"0.5\", \"network\": \"MLP\"}, {\" \": \"MLP 12.5%\", \"Total OPs\": \"0.0007\", \"Total Model Size\": \"0.33\", \"OI (INT2)\": \"8\", \"OI (INT4)\": \"4\", \"OI (INT8)\": \"2\", \"OI (FP16)\": \"1\", \"OI (FP32)\": \"0.5\", \"network\": \"MLP\"}]}}, {\"mode\": \"vega-lite\"});\n",
       "</script>"
      ],
      "text/plain": [
       "alt.HConcatChart(...)"
      ]
     },
     "execution_count": 7,
     "metadata": {},
     "output_type": "execute_result"
    }
   ],
   "source": [
    "#hide_input\n",
    "%run scripts/altair_plots # sun the script which has the function to create the bar charts - if it hasn't been run yet\n",
    "get_compute_memory_cnn_chart(csv_file= 'data/cnn_topologies_compute_memory_requirements.csv') "
   ]
  },
  {
   "cell_type": "markdown",
   "metadata": {},
   "source": [
    "## Hardware Platforms"
   ]
  },
  {
   "cell_type": "markdown",
   "metadata": {},
   "source": [
    "Table below summarizes all included hardware platforms, each with its corresponding peak performance for diferent datatypes (INTx, FPx), its Memory Bandwidth, Memory capacity as well as Thermal Design Power."
   ]
  },
  {
   "cell_type": "code",
   "execution_count": 8,
   "metadata": {},
   "outputs": [
    {
     "data": {
      "text/html": [
       "<table border=\"1\" class=\"dataframe\">\n",
       "  <thead>\n",
       "    <tr>\n",
       "      <th>Hardware Platforms</th>\n",
       "      <th>INT2</th>\n",
       "      <th>INT4</th>\n",
       "      <th>INT8</th>\n",
       "      <th>FP16</th>\n",
       "      <th>FP32</th>\n",
       "      <th>Memory Bandwidth</th>\n",
       "      <th>Memory Capacity</th>\n",
       "      <th>Power</th>\n",
       "    </tr>\n",
       "    <tr>\n",
       "      <th></th>\n",
       "      <th>[TOP/sec]</th>\n",
       "      <th>[TOP/sec]</th>\n",
       "      <th>[TOP/sec]</th>\n",
       "      <th>[TOP/sec]</th>\n",
       "      <th>[TOP/sec]</th>\n",
       "      <th>[GBps]</th>\n",
       "      <th>[GB]</th>\n",
       "      <th>[Watt]</th>\n",
       "    </tr>\n",
       "  </thead>\n",
       "  <tbody>\n",
       "    <tr>\n",
       "      <td>Ultra96-DPU</td>\n",
       "      <td>na</td>\n",
       "      <td>na</td>\n",
       "      <td>0.96</td>\n",
       "      <td>na</td>\n",
       "      <td>na</td>\n",
       "      <td>4.26</td>\n",
       "      <td>2</td>\n",
       "      <td>na</td>\n",
       "    </tr>\n",
       "    <tr>\n",
       "      <td>ZCU104-DPU</td>\n",
       "      <td>na</td>\n",
       "      <td>na</td>\n",
       "      <td>4.6</td>\n",
       "      <td>na</td>\n",
       "      <td>na</td>\n",
       "      <td>19.2</td>\n",
       "      <td>4</td>\n",
       "      <td>na</td>\n",
       "    </tr>\n",
       "    <tr>\n",
       "      <td>ZCU102-DPU</td>\n",
       "      <td>na</td>\n",
       "      <td>na</td>\n",
       "      <td>6.71</td>\n",
       "      <td>na</td>\n",
       "      <td>na</td>\n",
       "      <td>19.2</td>\n",
       "      <td>4</td>\n",
       "      <td>na</td>\n",
       "    </tr>\n",
       "    <tr>\n",
       "      <td>ZCU104-FINN</td>\n",
       "      <td>30.7</td>\n",
       "      <td>8.8</td>\n",
       "      <td>na</td>\n",
       "      <td>na</td>\n",
       "      <td>na</td>\n",
       "      <td>19.2</td>\n",
       "      <td>4</td>\n",
       "      <td>na</td>\n",
       "    </tr>\n",
       "    <tr>\n",
       "      <td>ZCU104-BISMO</td>\n",
       "      <td>30.7</td>\n",
       "      <td>8.8</td>\n",
       "      <td>na</td>\n",
       "      <td>na</td>\n",
       "      <td>na</td>\n",
       "      <td>19.2</td>\n",
       "      <td>4</td>\n",
       "      <td>na</td>\n",
       "    </tr>\n",
       "    <tr>\n",
       "      <td>TX2 - maxn</td>\n",
       "      <td>na</td>\n",
       "      <td>na</td>\n",
       "      <td>na</td>\n",
       "      <td>1.33</td>\n",
       "      <td>0.67</td>\n",
       "      <td>59.7</td>\n",
       "      <td>8</td>\n",
       "      <td>15</td>\n",
       "    </tr>\n",
       "    <tr>\n",
       "      <td>TX2 - maxp</td>\n",
       "      <td>na</td>\n",
       "      <td>na</td>\n",
       "      <td>na</td>\n",
       "      <td>1.15</td>\n",
       "      <td>0.57</td>\n",
       "      <td>59.7</td>\n",
       "      <td>8</td>\n",
       "      <td>15</td>\n",
       "    </tr>\n",
       "    <tr>\n",
       "      <td>TX2 - maxq</td>\n",
       "      <td>na</td>\n",
       "      <td>na</td>\n",
       "      <td>na</td>\n",
       "      <td>0.87</td>\n",
       "      <td>0.44</td>\n",
       "      <td>59.7</td>\n",
       "      <td>8</td>\n",
       "      <td>15</td>\n",
       "    </tr>\n",
       "    <tr>\n",
       "      <td>EdgeTPU-fast</td>\n",
       "      <td>na</td>\n",
       "      <td>na</td>\n",
       "      <td>4</td>\n",
       "      <td>na</td>\n",
       "      <td>na</td>\n",
       "      <td>25.6</td>\n",
       "      <td>1</td>\n",
       "      <td>2</td>\n",
       "    </tr>\n",
       "    <tr>\n",
       "      <td>EdgeTPU-slow</td>\n",
       "      <td>na</td>\n",
       "      <td>na</td>\n",
       "      <td>2</td>\n",
       "      <td>na</td>\n",
       "      <td>na</td>\n",
       "      <td>25.6</td>\n",
       "      <td>1</td>\n",
       "      <td>2</td>\n",
       "    </tr>\n",
       "    <tr>\n",
       "      <td>NCS (MyriadX)</td>\n",
       "      <td>na</td>\n",
       "      <td>na</td>\n",
       "      <td>1</td>\n",
       "      <td>0.5</td>\n",
       "      <td>na</td>\n",
       "      <td>12.8</td>\n",
       "      <td>2</td>\n",
       "      <td>1</td>\n",
       "    </tr>\n",
       "    <tr>\n",
       "      <td>U96-Quadcore A53-INT8</td>\n",
       "      <td>0.192</td>\n",
       "      <td>0.192</td>\n",
       "      <td>0.192</td>\n",
       "      <td>na</td>\n",
       "      <td>na</td>\n",
       "      <td>4.26</td>\n",
       "      <td>2</td>\n",
       "      <td>na</td>\n",
       "    </tr>\n",
       "  </tbody>\n",
       "</table>"
      ],
      "text/plain": [
       "<IPython.core.display.HTML object>"
      ]
     },
     "metadata": {},
     "output_type": "display_data"
    }
   ],
   "source": [
    "#hide_input\n",
    "%run scripts/altair_plots.py  #run the heatmaps script\n",
    "tableOverviewExperiments(['data/hardware_platforms.csv'])"
   ]
  },
  {
   "cell_type": "markdown",
   "metadata": {},
   "source": [
    "To better illustrate Hardware Platforms' Peak Performance and Memory Bandwidth, an interactive Bar chart can be found below.\n",
    "Please note, only performance for natively supported datatypes are shown."
   ]
  },
  {
   "cell_type": "code",
   "execution_count": 9,
   "metadata": {},
   "outputs": [
    {
     "data": {
      "text/html": [
       "\n",
       "<div id=\"altair-viz-2d9b495aa7554c2d882534b0f6076691\"></div>\n",
       "<script type=\"text/javascript\">\n",
       "  (function(spec, embedOpt){\n",
       "    let outputDiv = document.currentScript.previousElementSibling;\n",
       "    if (outputDiv.id !== \"altair-viz-2d9b495aa7554c2d882534b0f6076691\") {\n",
       "      outputDiv = document.getElementById(\"altair-viz-2d9b495aa7554c2d882534b0f6076691\");\n",
       "    }\n",
       "    const paths = {\n",
       "      \"vega\": \"https://cdn.jsdelivr.net/npm//vega@5?noext\",\n",
       "      \"vega-lib\": \"https://cdn.jsdelivr.net/npm//vega-lib?noext\",\n",
       "      \"vega-lite\": \"https://cdn.jsdelivr.net/npm//vega-lite@4.8.1?noext\",\n",
       "      \"vega-embed\": \"https://cdn.jsdelivr.net/npm//vega-embed@6?noext\",\n",
       "    };\n",
       "\n",
       "    function loadScript(lib) {\n",
       "      return new Promise(function(resolve, reject) {\n",
       "        var s = document.createElement('script');\n",
       "        s.src = paths[lib];\n",
       "        s.async = true;\n",
       "        s.onload = () => resolve(paths[lib]);\n",
       "        s.onerror = () => reject(`Error loading script: ${paths[lib]}`);\n",
       "        document.getElementsByTagName(\"head\")[0].appendChild(s);\n",
       "      });\n",
       "    }\n",
       "\n",
       "    function showError(err) {\n",
       "      outputDiv.innerHTML = `<div class=\"error\" style=\"color:red;\">${err}</div>`;\n",
       "      throw err;\n",
       "    }\n",
       "\n",
       "    function displayChart(vegaEmbed) {\n",
       "      vegaEmbed(outputDiv, spec, embedOpt)\n",
       "        .catch(err => showError(`Javascript Error: ${err.message}<br>This usually means there's a typo in your chart specification. See the javascript console for the full traceback.`));\n",
       "    }\n",
       "\n",
       "    if(typeof define === \"function\" && define.amd) {\n",
       "      requirejs.config({paths});\n",
       "      require([\"vega-embed\"], displayChart, err => showError(`Error loading script: ${err.message}`));\n",
       "    } else if (typeof vegaEmbed === \"function\") {\n",
       "      displayChart(vegaEmbed);\n",
       "    } else {\n",
       "      loadScript(\"vega\")\n",
       "        .then(() => loadScript(\"vega-lite\"))\n",
       "        .then(() => loadScript(\"vega-embed\"))\n",
       "        .catch(showError)\n",
       "        .then(() => displayChart(vegaEmbed));\n",
       "    }\n",
       "  })({\"config\": {\"view\": {\"continuousWidth\": 400, \"continuousHeight\": 300}}, \"data\": {\"name\": \"data-0f9a818b651188e9e3622c711b0977a1\"}, \"facet\": {\"type\": \"nominal\", \"field\": \"Hardware Platforms\", \"title\": \"Hardware Platforms\"}, \"spec\": {\"layer\": [{\"mark\": \"bar\", \"encoding\": {\"color\": {\"type\": \"nominal\", \"field\": \"Datatypes and MB\"}, \"x\": {\"type\": \"ordinal\", \"field\": \"Datatypes and MB\", \"title\": \"\"}, \"y\": {\"type\": \"quantitative\", \"field\": \"value\", \"scale\": {\"type\": \"log\"}, \"title\": \"Peak Performance [TOP/sec] and MB [GBps]\"}}}, {\"mark\": {\"type\": \"text\", \"dy\": -5}, \"encoding\": {\"color\": {\"type\": \"nominal\", \"field\": \"Datatypes and MB\"}, \"text\": {\"type\": \"quantitative\", \"field\": \"value\"}, \"x\": {\"type\": \"ordinal\", \"field\": \"Datatypes and MB\", \"title\": \"\"}, \"y\": {\"type\": \"quantitative\", \"field\": \"value\", \"scale\": {\"type\": \"log\"}, \"title\": \"Peak Performance [TOP/sec] and MB [GBps]\"}}}]}, \"columns\": 5, \"title\": \"Peak Performance and Memory Bandwidth for All Hardware Platforms\", \"$schema\": \"https://vega.github.io/schema/vega-lite/v4.8.1.json\", \"datasets\": {\"data-0f9a818b651188e9e3622c711b0977a1\": [{\"Hardware Platforms\": \"Ultra96-DPU\", \"Datatypes and MB\": \"INT2\", \"value\": \"na\"}, {\"Hardware Platforms\": \"ZCU104-DPU\", \"Datatypes and MB\": \"INT2\", \"value\": \"na\"}, {\"Hardware Platforms\": \"ZCU102-DPU\", \"Datatypes and MB\": \"INT2\", \"value\": \"na\"}, {\"Hardware Platforms\": \"ZCU104-FINN\", \"Datatypes and MB\": \"INT2\", \"value\": \"30.7\"}, {\"Hardware Platforms\": \"ZCU104-BISMO\", \"Datatypes and MB\": \"INT2\", \"value\": \"30.7\"}, {\"Hardware Platforms\": \"TX2 - maxn\", \"Datatypes and MB\": \"INT2\", \"value\": \"na\"}, {\"Hardware Platforms\": \"TX2 - maxp\", \"Datatypes and MB\": \"INT2\", \"value\": \"na\"}, {\"Hardware Platforms\": \"TX2 - maxq\", \"Datatypes and MB\": \"INT2\", \"value\": \"na\"}, {\"Hardware Platforms\": \"EdgeTPU-fast\", \"Datatypes and MB\": \"INT2\", \"value\": \"na\"}, {\"Hardware Platforms\": \"EdgeTPU-slow\", \"Datatypes and MB\": \"INT2\", \"value\": \"na\"}, {\"Hardware Platforms\": \"NCS (MyriadX)\", \"Datatypes and MB\": \"INT2\", \"value\": \"na\"}, {\"Hardware Platforms\": \"U96-Quadcore A53-INT8\", \"Datatypes and MB\": \"INT2\", \"value\": \"0.192\"}, {\"Hardware Platforms\": \"Ultra96-DPU\", \"Datatypes and MB\": \"INT4\", \"value\": \"na\"}, {\"Hardware Platforms\": \"ZCU104-DPU\", \"Datatypes and MB\": \"INT4\", \"value\": \"na\"}, {\"Hardware Platforms\": \"ZCU102-DPU\", \"Datatypes and MB\": \"INT4\", \"value\": \"na\"}, {\"Hardware Platforms\": \"ZCU104-FINN\", \"Datatypes and MB\": \"INT4\", \"value\": \"8.8\"}, {\"Hardware Platforms\": \"ZCU104-BISMO\", \"Datatypes and MB\": \"INT4\", \"value\": \"8.8\"}, {\"Hardware Platforms\": \"TX2 - maxn\", \"Datatypes and MB\": \"INT4\", \"value\": \"na\"}, {\"Hardware Platforms\": \"TX2 - maxp\", \"Datatypes and MB\": \"INT4\", \"value\": \"na\"}, {\"Hardware Platforms\": \"TX2 - maxq\", \"Datatypes and MB\": \"INT4\", \"value\": \"na\"}, {\"Hardware Platforms\": \"EdgeTPU-fast\", \"Datatypes and MB\": \"INT4\", \"value\": \"na\"}, {\"Hardware Platforms\": \"EdgeTPU-slow\", \"Datatypes and MB\": \"INT4\", \"value\": \"na\"}, {\"Hardware Platforms\": \"NCS (MyriadX)\", \"Datatypes and MB\": \"INT4\", \"value\": \"na\"}, {\"Hardware Platforms\": \"U96-Quadcore A53-INT8\", \"Datatypes and MB\": \"INT4\", \"value\": \"0.192\"}, {\"Hardware Platforms\": \"Ultra96-DPU\", \"Datatypes and MB\": \"INT8\", \"value\": \"0.96\"}, {\"Hardware Platforms\": \"ZCU104-DPU\", \"Datatypes and MB\": \"INT8\", \"value\": \"4.6\"}, {\"Hardware Platforms\": \"ZCU102-DPU\", \"Datatypes and MB\": \"INT8\", \"value\": \"6.71\"}, {\"Hardware Platforms\": \"ZCU104-FINN\", \"Datatypes and MB\": \"INT8\", \"value\": \"na\"}, {\"Hardware Platforms\": \"ZCU104-BISMO\", \"Datatypes and MB\": \"INT8\", \"value\": \"na\"}, {\"Hardware Platforms\": \"TX2 - maxn\", \"Datatypes and MB\": \"INT8\", \"value\": \"na\"}, {\"Hardware Platforms\": \"TX2 - maxp\", \"Datatypes and MB\": \"INT8\", \"value\": \"na\"}, {\"Hardware Platforms\": \"TX2 - maxq\", \"Datatypes and MB\": \"INT8\", \"value\": \"na\"}, {\"Hardware Platforms\": \"EdgeTPU-fast\", \"Datatypes and MB\": \"INT8\", \"value\": \"4\"}, {\"Hardware Platforms\": \"EdgeTPU-slow\", \"Datatypes and MB\": \"INT8\", \"value\": \"2\"}, {\"Hardware Platforms\": \"NCS (MyriadX)\", \"Datatypes and MB\": \"INT8\", \"value\": \"1\"}, {\"Hardware Platforms\": \"U96-Quadcore A53-INT8\", \"Datatypes and MB\": \"INT8\", \"value\": \"0.192\"}, {\"Hardware Platforms\": \"Ultra96-DPU\", \"Datatypes and MB\": \"FP16\", \"value\": \"na\"}, {\"Hardware Platforms\": \"ZCU104-DPU\", \"Datatypes and MB\": \"FP16\", \"value\": \"na\"}, {\"Hardware Platforms\": \"ZCU102-DPU\", \"Datatypes and MB\": \"FP16\", \"value\": \"na\"}, {\"Hardware Platforms\": \"ZCU104-FINN\", \"Datatypes and MB\": \"FP16\", \"value\": \"na\"}, {\"Hardware Platforms\": \"ZCU104-BISMO\", \"Datatypes and MB\": \"FP16\", \"value\": \"na\"}, {\"Hardware Platforms\": \"TX2 - maxn\", \"Datatypes and MB\": \"FP16\", \"value\": \"1.33\"}, {\"Hardware Platforms\": \"TX2 - maxp\", \"Datatypes and MB\": \"FP16\", \"value\": \"1.15\"}, {\"Hardware Platforms\": \"TX2 - maxq\", \"Datatypes and MB\": \"FP16\", \"value\": \"0.87\"}, {\"Hardware Platforms\": \"EdgeTPU-fast\", \"Datatypes and MB\": \"FP16\", \"value\": \"na\"}, {\"Hardware Platforms\": \"EdgeTPU-slow\", \"Datatypes and MB\": \"FP16\", \"value\": \"na\"}, {\"Hardware Platforms\": \"NCS (MyriadX)\", \"Datatypes and MB\": \"FP16\", \"value\": \"0.5\"}, {\"Hardware Platforms\": \"U96-Quadcore A53-INT8\", \"Datatypes and MB\": \"FP16\", \"value\": \"na\"}, {\"Hardware Platforms\": \"Ultra96-DPU\", \"Datatypes and MB\": \"FP32\", \"value\": \"na\"}, {\"Hardware Platforms\": \"ZCU104-DPU\", \"Datatypes and MB\": \"FP32\", \"value\": \"na\"}, {\"Hardware Platforms\": \"ZCU102-DPU\", \"Datatypes and MB\": \"FP32\", \"value\": \"na\"}, {\"Hardware Platforms\": \"ZCU104-FINN\", \"Datatypes and MB\": \"FP32\", \"value\": \"na\"}, {\"Hardware Platforms\": \"ZCU104-BISMO\", \"Datatypes and MB\": \"FP32\", \"value\": \"na\"}, {\"Hardware Platforms\": \"TX2 - maxn\", \"Datatypes and MB\": \"FP32\", \"value\": \"0.67\"}, {\"Hardware Platforms\": \"TX2 - maxp\", \"Datatypes and MB\": \"FP32\", \"value\": \"0.57\"}, {\"Hardware Platforms\": \"TX2 - maxq\", \"Datatypes and MB\": \"FP32\", \"value\": \"0.44\"}, {\"Hardware Platforms\": \"EdgeTPU-fast\", \"Datatypes and MB\": \"FP32\", \"value\": \"na\"}, {\"Hardware Platforms\": \"EdgeTPU-slow\", \"Datatypes and MB\": \"FP32\", \"value\": \"na\"}, {\"Hardware Platforms\": \"NCS (MyriadX)\", \"Datatypes and MB\": \"FP32\", \"value\": \"na\"}, {\"Hardware Platforms\": \"U96-Quadcore A53-INT8\", \"Datatypes and MB\": \"FP32\", \"value\": \"na\"}, {\"Hardware Platforms\": \"Ultra96-DPU\", \"Datatypes and MB\": \"Memory Bandwidth\", \"value\": \"4.26\"}, {\"Hardware Platforms\": \"ZCU104-DPU\", \"Datatypes and MB\": \"Memory Bandwidth\", \"value\": \"19.2\"}, {\"Hardware Platforms\": \"ZCU102-DPU\", \"Datatypes and MB\": \"Memory Bandwidth\", \"value\": \"19.2\"}, {\"Hardware Platforms\": \"ZCU104-FINN\", \"Datatypes and MB\": \"Memory Bandwidth\", \"value\": \"19.2\"}, {\"Hardware Platforms\": \"ZCU104-BISMO\", \"Datatypes and MB\": \"Memory Bandwidth\", \"value\": \"19.2\"}, {\"Hardware Platforms\": \"TX2 - maxn\", \"Datatypes and MB\": \"Memory Bandwidth\", \"value\": \"59.7\"}, {\"Hardware Platforms\": \"TX2 - maxp\", \"Datatypes and MB\": \"Memory Bandwidth\", \"value\": \"59.7\"}, {\"Hardware Platforms\": \"TX2 - maxq\", \"Datatypes and MB\": \"Memory Bandwidth\", \"value\": \"59.7\"}, {\"Hardware Platforms\": \"EdgeTPU-fast\", \"Datatypes and MB\": \"Memory Bandwidth\", \"value\": \"25.6\"}, {\"Hardware Platforms\": \"EdgeTPU-slow\", \"Datatypes and MB\": \"Memory Bandwidth\", \"value\": \"25.6\"}, {\"Hardware Platforms\": \"NCS (MyriadX)\", \"Datatypes and MB\": \"Memory Bandwidth\", \"value\": \"12.8\"}, {\"Hardware Platforms\": \"U96-Quadcore A53-INT8\", \"Datatypes and MB\": \"Memory Bandwidth\", \"value\": \"4.26\"}]}}, {\"mode\": \"vega-lite\"});\n",
       "</script>"
      ],
      "text/plain": [
       "alt.FacetChart(...)"
      ]
     },
     "execution_count": 9,
     "metadata": {},
     "output_type": "execute_result"
    }
   ],
   "source": [
    "#hide_input\n",
    "%run scripts/altair_plots.py # run the script if it hasn't been run before\n",
    "get_peak_perf_bar_chart('data/hardware_platforms.csv')"
   ]
  },
  {
   "cell_type": "markdown",
   "metadata": {},
   "source": [
    "## Overview of Theoretical Evaluation"
   ]
  },
  {
   "cell_type": "markdown",
   "metadata": {},
   "source": [
    "link to: https://rcl-lab.github.io/Qutibench_Web/mnist/imagenet/cifar-10/2020/04/30/Overview_of_experiments.html"
   ]
  },
  {
   "cell_type": "markdown",
   "metadata": {},
   "source": [
    "# Rooflines for All Hardware Platforms and CNNs"
   ]
  },
  {
   "cell_type": "markdown",
   "metadata": {},
   "source": [
    "Combining application requirements with hardware platform characteristics can be leveraged for performance predictions using UCB’s roofline models. Using assumptions for where weights, activation tensors, and state of a neural network are stored, combined with the size of the datatypes used, allow us to derive the arithmetic intensity of a neural network during inference. Combined with the roofline for a given hardware platform, we can provide insight as to whether a neural network will be memory or compute bound and guidance for what is theoretically possible in regards to its throughput."
   ]
  },
  {
   "cell_type": "code",
   "execution_count": 10,
   "metadata": {
    "scrolled": false
   },
   "outputs": [
    {
     "data": {
      "text/html": [
       "\n",
       "<div id=\"altair-viz-20f3161761f84c1a91b0461579acc4c8\"></div>\n",
       "<script type=\"text/javascript\">\n",
       "  (function(spec, embedOpt){\n",
       "    let outputDiv = document.currentScript.previousElementSibling;\n",
       "    if (outputDiv.id !== \"altair-viz-20f3161761f84c1a91b0461579acc4c8\") {\n",
       "      outputDiv = document.getElementById(\"altair-viz-20f3161761f84c1a91b0461579acc4c8\");\n",
       "    }\n",
       "    const paths = {\n",
       "      \"vega\": \"https://cdn.jsdelivr.net/npm//vega@5?noext\",\n",
       "      \"vega-lib\": \"https://cdn.jsdelivr.net/npm//vega-lib?noext\",\n",
       "      \"vega-lite\": \"https://cdn.jsdelivr.net/npm//vega-lite@4.8.1?noext\",\n",
       "      \"vega-embed\": \"https://cdn.jsdelivr.net/npm//vega-embed@6?noext\",\n",
       "    };\n",
       "\n",
       "    function loadScript(lib) {\n",
       "      return new Promise(function(resolve, reject) {\n",
       "        var s = document.createElement('script');\n",
       "        s.src = paths[lib];\n",
       "        s.async = true;\n",
       "        s.onload = () => resolve(paths[lib]);\n",
       "        s.onerror = () => reject(`Error loading script: ${paths[lib]}`);\n",
       "        document.getElementsByTagName(\"head\")[0].appendChild(s);\n",
       "      });\n",
       "    }\n",
       "\n",
       "    function showError(err) {\n",
       "      outputDiv.innerHTML = `<div class=\"error\" style=\"color:red;\">${err}</div>`;\n",
       "      throw err;\n",
       "    }\n",
       "\n",
       "    function displayChart(vegaEmbed) {\n",
       "      vegaEmbed(outputDiv, spec, embedOpt)\n",
       "        .catch(err => showError(`Javascript Error: ${err.message}<br>This usually means there's a typo in your chart specification. See the javascript console for the full traceback.`));\n",
       "    }\n",
       "\n",
       "    if(typeof define === \"function\" && define.amd) {\n",
       "      requirejs.config({paths});\n",
       "      require([\"vega-embed\"], displayChart, err => showError(`Error loading script: ${err.message}`));\n",
       "    } else if (typeof vegaEmbed === \"function\") {\n",
       "      displayChart(vegaEmbed);\n",
       "    } else {\n",
       "      loadScript(\"vega\")\n",
       "        .then(() => loadScript(\"vega-lite\"))\n",
       "        .then(() => loadScript(\"vega-embed\"))\n",
       "        .catch(showError)\n",
       "        .then(() => displayChart(vegaEmbed));\n",
       "    }\n",
       "  })({\"config\": {\"view\": {\"continuousWidth\": 400, \"continuousHeight\": 300}}, \"layer\": [{\"layer\": [{\"data\": {\"name\": \"data-2cc4cd3382f02abe6bd26f5e1c5988f9\"}, \"mark\": {\"type\": \"line\", \"clip\": true}, \"encoding\": {\"color\": {\"condition\": {\"type\": \"nominal\", \"field\": \"Name\", \"selection\": \"INT2\"}, \"value\": \"lightgray\"}, \"order\": {\"type\": \"quantitative\", \"field\": \"arith_intens\"}, \"x\": {\"type\": \"quantitative\", \"field\": \"arith_intens\", \"scale\": {\"domain\": [0.1, 160000], \"type\": \"log\"}, \"title\": \"ARITHMETIC INTENSITY (OPS/BYTE)\"}, \"y\": {\"type\": \"quantitative\", \"field\": \"performance\", \"scale\": {\"domain\": [0.2, 40], \"type\": \"log\"}, \"title\": \"PERFORMANCE (TOPS/S)\"}}, \"height\": 500, \"selection\": {\"INT2\": {\"type\": \"single\", \"fields\": [\"Hide\"], \"bind\": {\"input\": \"checkbox\"}}}, \"title\": \"Comparing Hardware Platforms Rooflines and Neural Networks Arithmetic Intensity\", \"width\": 700}, {\"data\": {\"name\": \"data-b586e7d76b707c0dd2e27212f4e3807a\"}, \"mark\": {\"type\": \"line\", \"clip\": true}, \"encoding\": {\"color\": {\"condition\": {\"type\": \"nominal\", \"field\": \"Name\", \"selection\": \"INT4\"}, \"value\": \"lightgray\"}, \"order\": {\"type\": \"quantitative\", \"field\": \"arith_intens\"}, \"x\": {\"type\": \"quantitative\", \"field\": \"arith_intens\", \"scale\": {\"domain\": [0.1, 160000], \"type\": \"log\"}, \"title\": \"ARITHMETIC INTENSITY (OPS/BYTE)\"}, \"y\": {\"type\": \"quantitative\", \"field\": \"performance\", \"scale\": {\"domain\": [0.2, 40], \"type\": \"log\"}, \"title\": \"PERFORMANCE (TOPS/S)\"}}, \"height\": 500, \"selection\": {\"INT4\": {\"type\": \"single\", \"fields\": [\"Hide\"], \"bind\": {\"input\": \"checkbox\"}}}, \"title\": \"Comparing Hardware Platforms Rooflines and Neural Networks Arithmetic Intensity\", \"width\": 700}, {\"data\": {\"name\": \"data-6887972a2442b866ac20686974a9226b\"}, \"mark\": {\"type\": \"line\", \"clip\": true}, \"encoding\": {\"color\": {\"condition\": {\"type\": \"nominal\", \"field\": \"Name\", \"selection\": \"INT8\"}, \"value\": \"lightgray\"}, \"order\": {\"type\": \"quantitative\", \"field\": \"arith_intens\"}, \"x\": {\"type\": \"quantitative\", \"field\": \"arith_intens\", \"scale\": {\"domain\": [0.1, 160000], \"type\": \"log\"}, \"title\": \"ARITHMETIC INTENSITY (OPS/BYTE)\"}, \"y\": {\"type\": \"quantitative\", \"field\": \"performance\", \"scale\": {\"domain\": [0.2, 40], \"type\": \"log\"}, \"title\": \"PERFORMANCE (TOPS/S)\"}}, \"height\": 500, \"selection\": {\"INT8\": {\"type\": \"single\", \"fields\": [\"Hide\"], \"bind\": {\"input\": \"checkbox\"}}}, \"title\": \"Comparing Hardware Platforms Rooflines and Neural Networks Arithmetic Intensity\", \"width\": 700}, {\"data\": {\"name\": \"data-443b558055de8f59ad7eb3fc52a03227\"}, \"mark\": {\"type\": \"line\", \"clip\": true}, \"encoding\": {\"color\": {\"condition\": {\"type\": \"nominal\", \"field\": \"Name\", \"selection\": \"FP16\"}, \"value\": \"lightgray\"}, \"order\": {\"type\": \"quantitative\", \"field\": \"arith_intens\"}, \"x\": {\"type\": \"quantitative\", \"field\": \"arith_intens\", \"scale\": {\"domain\": [0.1, 160000], \"type\": \"log\"}, \"title\": \"ARITHMETIC INTENSITY (OPS/BYTE)\"}, \"y\": {\"type\": \"quantitative\", \"field\": \"performance\", \"scale\": {\"domain\": [0.2, 40], \"type\": \"log\"}, \"title\": \"PERFORMANCE (TOPS/S)\"}}, \"height\": 500, \"selection\": {\"FP16\": {\"type\": \"single\", \"fields\": [\"Hide\"], \"bind\": {\"input\": \"checkbox\"}}}, \"title\": \"Comparing Hardware Platforms Rooflines and Neural Networks Arithmetic Intensity\", \"width\": 700}, {\"data\": {\"name\": \"data-418374172fbb8cf21bf0f98b22dda29b\"}, \"mark\": {\"type\": \"line\", \"clip\": true}, \"encoding\": {\"color\": {\"condition\": {\"type\": \"nominal\", \"field\": \"Name\", \"selection\": \"FP32\"}, \"value\": \"lightgray\"}, \"order\": {\"type\": \"quantitative\", \"field\": \"arith_intens\"}, \"x\": {\"type\": \"quantitative\", \"field\": \"arith_intens\", \"scale\": {\"domain\": [0.1, 160000], \"type\": \"log\"}, \"title\": \"ARITHMETIC INTENSITY (OPS/BYTE)\"}, \"y\": {\"type\": \"quantitative\", \"field\": \"performance\", \"scale\": {\"domain\": [0.2, 40], \"type\": \"log\"}, \"title\": \"PERFORMANCE (TOPS/S)\"}}, \"height\": 500, \"selection\": {\"FP32\": {\"type\": \"single\", \"fields\": [\"Hide\"], \"bind\": {\"input\": \"checkbox\"}}}, \"title\": \"Comparing Hardware Platforms Rooflines and Neural Networks Arithmetic Intensity\", \"width\": 700}, {\"data\": {\"name\": \"data-5552f4bc2ea0b8077236233d9362be7f\"}, \"mark\": {\"type\": \"line\", \"clip\": true}, \"encoding\": {\"color\": {\"condition\": {\"type\": \"nominal\", \"field\": \"Name\", \"selection\": \"FPGAs  Ultra96  DPU  ZCU  \"}, \"value\": \"lightgray\"}, \"order\": {\"type\": \"quantitative\", \"field\": \"arith_intens\"}, \"x\": {\"type\": \"quantitative\", \"field\": \"arith_intens\", \"scale\": {\"domain\": [0.1, 160000], \"type\": \"log\"}, \"title\": \"ARITHMETIC INTENSITY (OPS/BYTE)\"}, \"y\": {\"type\": \"quantitative\", \"field\": \"performance\", \"scale\": {\"domain\": [0.2, 40], \"type\": \"log\"}, \"title\": \"PERFORMANCE (TOPS/S)\"}}, \"height\": 500, \"selection\": {\"FPGAs  Ultra96  DPU  ZCU  \": {\"type\": \"single\", \"fields\": [\"Hide\"], \"bind\": {\"input\": \"checkbox\"}}}, \"title\": \"Comparing Hardware Platforms Rooflines and Neural Networks Arithmetic Intensity\", \"width\": 700}, {\"data\": {\"name\": \"data-59f79b70ac26650ee16fb33e419a4cdd\"}, \"mark\": {\"type\": \"line\", \"clip\": true}, \"encoding\": {\"color\": {\"condition\": {\"type\": \"nominal\", \"field\": \"Name\", \"selection\": \"INVIDIA  TX2  maxn, maxp, maxq  \"}, \"value\": \"lightgray\"}, \"order\": {\"type\": \"quantitative\", \"field\": \"arith_intens\"}, \"x\": {\"type\": \"quantitative\", \"field\": \"arith_intens\", \"scale\": {\"domain\": [0.1, 160000], \"type\": \"log\"}, \"title\": \"ARITHMETIC INTENSITY (OPS/BYTE)\"}, \"y\": {\"type\": \"quantitative\", \"field\": \"performance\", \"scale\": {\"domain\": [0.2, 40], \"type\": \"log\"}, \"title\": \"PERFORMANCE (TOPS/S)\"}}, \"height\": 500, \"selection\": {\"INVIDIA  TX2  maxn, maxp, maxq  \": {\"type\": \"single\", \"fields\": [\"Hide\"], \"bind\": {\"input\": \"checkbox\"}}}, \"title\": \"Comparing Hardware Platforms Rooflines and Neural Networks Arithmetic Intensity\", \"width\": 700}, {\"data\": {\"name\": \"data-92df3446d2c065332553eb9ffb7dae17\"}, \"mark\": {\"type\": \"line\", \"clip\": true}, \"encoding\": {\"color\": {\"condition\": {\"type\": \"nominal\", \"field\": \"Name\", \"selection\": \"GOOGLE  EdgeTPU, fast, slow  \"}, \"value\": \"lightgray\"}, \"order\": {\"type\": \"quantitative\", \"field\": \"arith_intens\"}, \"x\": {\"type\": \"quantitative\", \"field\": \"arith_intens\", \"scale\": {\"domain\": [0.1, 160000], \"type\": \"log\"}, \"title\": \"ARITHMETIC INTENSITY (OPS/BYTE)\"}, \"y\": {\"type\": \"quantitative\", \"field\": \"performance\", \"scale\": {\"domain\": [0.2, 40], \"type\": \"log\"}, \"title\": \"PERFORMANCE (TOPS/S)\"}}, \"height\": 500, \"selection\": {\"GOOGLE  EdgeTPU, fast, slow  \": {\"type\": \"single\", \"fields\": [\"Hide\"], \"bind\": {\"input\": \"checkbox\"}}}, \"title\": \"Comparing Hardware Platforms Rooflines and Neural Networks Arithmetic Intensity\", \"width\": 700}, {\"data\": {\"name\": \"data-3745a47dbf1f6c5f2af65983be61a8e2\"}, \"mark\": {\"type\": \"line\", \"clip\": true}, \"encoding\": {\"color\": {\"condition\": {\"type\": \"nominal\", \"field\": \"Name\", \"selection\": \"INTEL  NCS  \"}, \"value\": \"lightgray\"}, \"order\": {\"type\": \"quantitative\", \"field\": \"arith_intens\"}, \"x\": {\"type\": \"quantitative\", \"field\": \"arith_intens\", \"scale\": {\"domain\": [0.1, 160000], \"type\": \"log\"}, \"title\": \"ARITHMETIC INTENSITY (OPS/BYTE)\"}, \"y\": {\"type\": \"quantitative\", \"field\": \"performance\", \"scale\": {\"domain\": [0.2, 40], \"type\": \"log\"}, \"title\": \"PERFORMANCE (TOPS/S)\"}}, \"height\": 500, \"selection\": {\"INTEL  NCS  \": {\"type\": \"single\", \"fields\": [\"Hide\"], \"bind\": {\"input\": \"checkbox\"}}}, \"title\": \"Comparing Hardware Platforms Rooflines and Neural Networks Arithmetic Intensity\", \"width\": 700}]}, {\"mark\": {\"type\": \"point\", \"clip\": true}, \"encoding\": {\"opacity\": {\"value\": 0}, \"x\": {\"type\": \"quantitative\", \"field\": \"arith_intens\"}, \"y\": {\"type\": \"quantitative\", \"field\": \"performance\"}}, \"selection\": {\"selector004\": {\"type\": \"single\", \"nearest\": true, \"on\": \"mouseover\", \"fields\": [\"arith_intens\"]}}}, {\"mark\": {\"type\": \"text\", \"align\": \"left\", \"clip\": true, \"dx\": 3, \"dy\": -3}, \"encoding\": {\"color\": {\"type\": \"nominal\", \"field\": \"Name\", \"legend\": {\"columns\": 2}}, \"text\": {\"condition\": {\"type\": \"nominal\", \"field\": \"Name\", \"selection\": \"selector004\"}, \"value\": \" \"}, \"x\": {\"type\": \"quantitative\", \"field\": \"arith_intens\"}, \"y\": {\"type\": \"quantitative\", \"field\": \"performance\"}}, \"selection\": {\"selector003\": {\"type\": \"interval\", \"bind\": \"scales\", \"encodings\": [\"x\", \"y\"]}}}], \"data\": {\"name\": \"data-7ee4fbe0a171add3b146cf18f694449f\"}, \"height\": 500, \"width\": 700, \"$schema\": \"https://vega.github.io/schema/vega-lite/v4.8.1.json\", \"datasets\": {\"data-7ee4fbe0a171add3b146cf18f694449f\": [{\"Name\": \"GoogLeNetv1 100% INT2\", \"arith_intens\": \"2093.97\", \"performance\": 30.0}, {\"Name\": \"MobileNetv1 100% INT2\", \"arith_intens\": \"1075.47\", \"performance\": 30.0}, {\"Name\": \"ResNet-50 100% INT2\", \"arith_intens\": \"1210.84\", \"performance\": 30.0}, {\"Name\": \"ResNet-50 80% INT2\", \"arith_intens\": \"1086.59\", \"performance\": 30.0}, {\"Name\": \"ResNet-50 50% INT2\", \"arith_intens\": \"949.85\", \"performance\": 30.0}, {\"Name\": \"ResNet-50 30% INT2\", \"arith_intens\": \"970.16\", \"performance\": 30.0}, {\"Name\": \"EfficientNet-S 100% INT2\", \"arith_intens\": \"3481.48\", \"performance\": 30.0}, {\"Name\": \"EfficientNet-M 100% INT2\", \"arith_intens\": \"4289.86\", \"performance\": 30.0}, {\"Name\": \"EfficientNet-L 100% INT2\", \"arith_intens\": \"7313.21\", \"performance\": 30.0}, {\"Name\": \"CNV 100% INT2\", \"arith_intens\": \"304.95\", \"performance\": 30.0}, {\"Name\": \"CNV 50% INT2\", \"arith_intens\": \"308.32\", \"performance\": 30.0}, {\"Name\": \"CNV 25% INT2\", \"arith_intens\": \"315.01\", \"performance\": 30.0}, {\"Name\": \"CNV 12.5% INT2\", \"arith_intens\": \"332.61\", \"performance\": 30.0}, {\"Name\": \"MLP* INT2\", \"arith_intens\": \"8\", \"performance\": 30.0}, {\"Name\": \"GoogLeNetv1 100% INT4\", \"arith_intens\": \"1046.99\", \"performance\": 30.0}, {\"Name\": \"MobileNetv1 100% INT4\", \"arith_intens\": \"537.74\", \"performance\": 30.0}, {\"Name\": \"ResNet-50 100% INT4\", \"arith_intens\": \"605.42\", \"performance\": 30.0}, {\"Name\": \"ResNet-50 80% INT4\", \"arith_intens\": \"543.3\", \"performance\": 30.0}, {\"Name\": \"ResNet-50 50% INT4\", \"arith_intens\": \"474.93\", \"performance\": 30.0}, {\"Name\": \"ResNet-50 30% INT4\", \"arith_intens\": \"485.08\", \"performance\": 30.0}, {\"Name\": \"EfficientNet-S 100% INT4\", \"arith_intens\": \"1740.74\", \"performance\": 30.0}, {\"Name\": \"EfficientNet-M 100% INT4\", \"arith_intens\": \"2144.93\", \"performance\": 30.0}, {\"Name\": \"EfficientNet-L 100% INT4\", \"arith_intens\": \"3656.6\", \"performance\": 30.0}, {\"Name\": \"CNV 100% INT4\", \"arith_intens\": \"152.48\", \"performance\": 30.0}, {\"Name\": \"CNV 50% INT4\", \"arith_intens\": \"154.16\", \"performance\": 30.0}, {\"Name\": \"CNV 25% INT4\", \"arith_intens\": \"157.51\", \"performance\": 30.0}, {\"Name\": \"CNV 12.5% INT4\", \"arith_intens\": \"166.3\", \"performance\": 30.0}, {\"Name\": \"MLP* INT4\", \"arith_intens\": \"4\", \"performance\": 30.0}, {\"Name\": \"GoogLeNetv1 100% INT8\", \"arith_intens\": \"523.49\", \"performance\": 30.0}, {\"Name\": \"MobileNetv1 100% INT8\", \"arith_intens\": \"268.87\", \"performance\": 30.0}, {\"Name\": \"ResNet-50 100% INT8\", \"arith_intens\": \"302.71\", \"performance\": 30.0}, {\"Name\": \"ResNet-50 80% INT8\", \"arith_intens\": \"271.65\", \"performance\": 30.0}, {\"Name\": \"ResNet-50 50% INT8\", \"arith_intens\": \"237.46\", \"performance\": 30.0}, {\"Name\": \"ResNet-50 30% INT8\", \"arith_intens\": \"242.54\", \"performance\": 30.0}, {\"Name\": \"EfficientNet-S 100% INT8\", \"arith_intens\": \"870.37\", \"performance\": 30.0}, {\"Name\": \"EfficientNet-M 100% INT8\", \"arith_intens\": \"1072.46\", \"performance\": 30.0}, {\"Name\": \"EfficientNet-L 100% INT8\", \"arith_intens\": \"1828.3\", \"performance\": 30.0}, {\"Name\": \"CNV 100% INT8\", \"arith_intens\": \"76.24\", \"performance\": 30.0}, {\"Name\": \"CNV 50% INT8\", \"arith_intens\": \"77.08\", \"performance\": 30.0}, {\"Name\": \"CNV 25% INT8\", \"arith_intens\": \"78.75\", \"performance\": 30.0}, {\"Name\": \"CNV 12.5% INT8\", \"arith_intens\": \"83.15\", \"performance\": 30.0}, {\"Name\": \"MLP* INT8\", \"arith_intens\": \"2\", \"performance\": 30.0}, {\"Name\": \"GoogLeNetv1 100% FP16\", \"arith_intens\": \"261.75\", \"performance\": 30.0}, {\"Name\": \"MobileNetv1 100% FP16\", \"arith_intens\": \"134.43\", \"performance\": 30.0}, {\"Name\": \"ResNet-50 100% FP16\", \"arith_intens\": \"151.36\", \"performance\": 30.0}, {\"Name\": \"ResNet-50 80% FP16\", \"arith_intens\": \"135.82\", \"performance\": 30.0}, {\"Name\": \"ResNet-50 50% FP16\", \"arith_intens\": \"118.73\", \"performance\": 30.0}, {\"Name\": \"ResNet-50 30% FP16\", \"arith_intens\": \"121.27\", \"performance\": 30.0}, {\"Name\": \"EfficientNet-S 100% FP16\", \"arith_intens\": \"435.18\", \"performance\": 30.0}, {\"Name\": \"EfficientNet-M 100% FP16\", \"arith_intens\": \"536.23\", \"performance\": 30.0}, {\"Name\": \"EfficientNet-L 100% FP16\", \"arith_intens\": \"914.15\", \"performance\": 30.0}, {\"Name\": \"CNV 100% FP16\", \"arith_intens\": \"38.12\", \"performance\": 30.0}, {\"Name\": \"CNV 50% FP16\", \"arith_intens\": \"38.54\", \"performance\": 30.0}, {\"Name\": \"CNV 25% FP16\", \"arith_intens\": \"39.38\", \"performance\": 30.0}, {\"Name\": \"CNV 12.5% FP16\", \"arith_intens\": \"41.58\", \"performance\": 30.0}, {\"Name\": \"MLP* FP16\", \"arith_intens\": \"1\", \"performance\": 30.0}, {\"Name\": \"GoogLeNetv1 100% FP32\", \"arith_intens\": \"130.87\", \"performance\": 30.0}, {\"Name\": \"MobileNetv1 100% FP32\", \"arith_intens\": \"67.22\", \"performance\": 30.0}, {\"Name\": \"ResNet-50 100% FP32\", \"arith_intens\": \"75.68\", \"performance\": 30.0}, {\"Name\": \"ResNet-50 80% FP32\", \"arith_intens\": \"67.91\", \"performance\": 30.0}, {\"Name\": \"ResNet-50 50% FP32\", \"arith_intens\": \"59.37\", \"performance\": 30.0}, {\"Name\": \"ResNet-50 30% FP32\", \"arith_intens\": \"60.64\", \"performance\": 30.0}, {\"Name\": \"EfficientNet-S 100% FP32\", \"arith_intens\": \"217.59\", \"performance\": 30.0}, {\"Name\": \"EfficientNet-M 100% FP32\", \"arith_intens\": \"268.12\", \"performance\": 30.0}, {\"Name\": \"EfficientNet-L 100% FP32\", \"arith_intens\": \"457.08\", \"performance\": 30.0}, {\"Name\": \"CNV 100% FP32\", \"arith_intens\": \"19.06\", \"performance\": 30.0}, {\"Name\": \"CNV 50% FP32\", \"arith_intens\": \"19.27\", \"performance\": 30.0}, {\"Name\": \"CNV 25% FP32\", \"arith_intens\": \"19.69\", \"performance\": 30.0}, {\"Name\": \"CNV 12.5% FP32\", \"arith_intens\": \"20.79\", \"performance\": 30.0}, {\"Name\": \"MLP* FP32\", \"arith_intens\": \"0.5\", \"performance\": 30.0}, {\"Name\": \"GoogLeNetv1 100% INT2\", \"arith_intens\": \"2093.97\", \"performance\": 1.0}, {\"Name\": \"MobileNetv1 100% INT2\", \"arith_intens\": \"1075.47\", \"performance\": 1.0}, {\"Name\": \"ResNet-50 100% INT2\", \"arith_intens\": \"1210.84\", \"performance\": 1.0}, {\"Name\": \"ResNet-50 80% INT2\", \"arith_intens\": \"1086.59\", \"performance\": 1.0}, {\"Name\": \"ResNet-50 50% INT2\", \"arith_intens\": \"949.85\", \"performance\": 1.0}, {\"Name\": \"ResNet-50 30% INT2\", \"arith_intens\": \"970.16\", \"performance\": 1.0}, {\"Name\": \"EfficientNet-S 100% INT2\", \"arith_intens\": \"3481.48\", \"performance\": 1.0}, {\"Name\": \"EfficientNet-M 100% INT2\", \"arith_intens\": \"4289.86\", \"performance\": 1.0}, {\"Name\": \"EfficientNet-L 100% INT2\", \"arith_intens\": \"7313.21\", \"performance\": 1.0}, {\"Name\": \"CNV 100% INT2\", \"arith_intens\": \"304.95\", \"performance\": 1.0}, {\"Name\": \"CNV 50% INT2\", \"arith_intens\": \"308.32\", \"performance\": 1.0}, {\"Name\": \"CNV 25% INT2\", \"arith_intens\": \"315.01\", \"performance\": 1.0}, {\"Name\": \"CNV 12.5% INT2\", \"arith_intens\": \"332.61\", \"performance\": 1.0}, {\"Name\": \"MLP* INT2\", \"arith_intens\": \"8\", \"performance\": 1.0}, {\"Name\": \"GoogLeNetv1 100% INT4\", \"arith_intens\": \"1046.99\", \"performance\": 1.0}, {\"Name\": \"MobileNetv1 100% INT4\", \"arith_intens\": \"537.74\", \"performance\": 1.0}, {\"Name\": \"ResNet-50 100% INT4\", \"arith_intens\": \"605.42\", \"performance\": 1.0}, {\"Name\": \"ResNet-50 80% INT4\", \"arith_intens\": \"543.3\", \"performance\": 1.0}, {\"Name\": \"ResNet-50 50% INT4\", \"arith_intens\": \"474.93\", \"performance\": 1.0}, {\"Name\": \"ResNet-50 30% INT4\", \"arith_intens\": \"485.08\", \"performance\": 1.0}, {\"Name\": \"EfficientNet-S 100% INT4\", \"arith_intens\": \"1740.74\", \"performance\": 1.0}, {\"Name\": \"EfficientNet-M 100% INT4\", \"arith_intens\": \"2144.93\", \"performance\": 1.0}, {\"Name\": \"EfficientNet-L 100% INT4\", \"arith_intens\": \"3656.6\", \"performance\": 1.0}, {\"Name\": \"CNV 100% INT4\", \"arith_intens\": \"152.48\", \"performance\": 1.0}, {\"Name\": \"CNV 50% INT4\", \"arith_intens\": \"154.16\", \"performance\": 1.0}, {\"Name\": \"CNV 25% INT4\", \"arith_intens\": \"157.51\", \"performance\": 1.0}, {\"Name\": \"CNV 12.5% INT4\", \"arith_intens\": \"166.3\", \"performance\": 1.0}, {\"Name\": \"MLP* INT4\", \"arith_intens\": \"4\", \"performance\": 1.0}, {\"Name\": \"GoogLeNetv1 100% INT8\", \"arith_intens\": \"523.49\", \"performance\": 1.0}, {\"Name\": \"MobileNetv1 100% INT8\", \"arith_intens\": \"268.87\", \"performance\": 1.0}, {\"Name\": \"ResNet-50 100% INT8\", \"arith_intens\": \"302.71\", \"performance\": 1.0}, {\"Name\": \"ResNet-50 80% INT8\", \"arith_intens\": \"271.65\", \"performance\": 1.0}, {\"Name\": \"ResNet-50 50% INT8\", \"arith_intens\": \"237.46\", \"performance\": 1.0}, {\"Name\": \"ResNet-50 30% INT8\", \"arith_intens\": \"242.54\", \"performance\": 1.0}, {\"Name\": \"EfficientNet-S 100% INT8\", \"arith_intens\": \"870.37\", \"performance\": 1.0}, {\"Name\": \"EfficientNet-M 100% INT8\", \"arith_intens\": \"1072.46\", \"performance\": 1.0}, {\"Name\": \"EfficientNet-L 100% INT8\", \"arith_intens\": \"1828.3\", \"performance\": 1.0}, {\"Name\": \"CNV 100% INT8\", \"arith_intens\": \"76.24\", \"performance\": 1.0}, {\"Name\": \"CNV 50% INT8\", \"arith_intens\": \"77.08\", \"performance\": 1.0}, {\"Name\": \"CNV 25% INT8\", \"arith_intens\": \"78.75\", \"performance\": 1.0}, {\"Name\": \"CNV 12.5% INT8\", \"arith_intens\": \"83.15\", \"performance\": 1.0}, {\"Name\": \"MLP* INT8\", \"arith_intens\": \"2\", \"performance\": 1.0}, {\"Name\": \"GoogLeNetv1 100% FP16\", \"arith_intens\": \"261.75\", \"performance\": 1.0}, {\"Name\": \"MobileNetv1 100% FP16\", \"arith_intens\": \"134.43\", \"performance\": 1.0}, {\"Name\": \"ResNet-50 100% FP16\", \"arith_intens\": \"151.36\", \"performance\": 1.0}, {\"Name\": \"ResNet-50 80% FP16\", \"arith_intens\": \"135.82\", \"performance\": 1.0}, {\"Name\": \"ResNet-50 50% FP16\", \"arith_intens\": \"118.73\", \"performance\": 1.0}, {\"Name\": \"ResNet-50 30% FP16\", \"arith_intens\": \"121.27\", \"performance\": 1.0}, {\"Name\": \"EfficientNet-S 100% FP16\", \"arith_intens\": \"435.18\", \"performance\": 1.0}, {\"Name\": \"EfficientNet-M 100% FP16\", \"arith_intens\": \"536.23\", \"performance\": 1.0}, {\"Name\": \"EfficientNet-L 100% FP16\", \"arith_intens\": \"914.15\", \"performance\": 1.0}, {\"Name\": \"CNV 100% FP16\", \"arith_intens\": \"38.12\", \"performance\": 1.0}, {\"Name\": \"CNV 50% FP16\", \"arith_intens\": \"38.54\", \"performance\": 1.0}, {\"Name\": \"CNV 25% FP16\", \"arith_intens\": \"39.38\", \"performance\": 1.0}, {\"Name\": \"CNV 12.5% FP16\", \"arith_intens\": \"41.58\", \"performance\": 1.0}, {\"Name\": \"MLP* FP16\", \"arith_intens\": \"1\", \"performance\": 1.0}, {\"Name\": \"GoogLeNetv1 100% FP32\", \"arith_intens\": \"130.87\", \"performance\": 1.0}, {\"Name\": \"MobileNetv1 100% FP32\", \"arith_intens\": \"67.22\", \"performance\": 1.0}, {\"Name\": \"ResNet-50 100% FP32\", \"arith_intens\": \"75.68\", \"performance\": 1.0}, {\"Name\": \"ResNet-50 80% FP32\", \"arith_intens\": \"67.91\", \"performance\": 1.0}, {\"Name\": \"ResNet-50 50% FP32\", \"arith_intens\": \"59.37\", \"performance\": 1.0}, {\"Name\": \"ResNet-50 30% FP32\", \"arith_intens\": \"60.64\", \"performance\": 1.0}, {\"Name\": \"EfficientNet-S 100% FP32\", \"arith_intens\": \"217.59\", \"performance\": 1.0}, {\"Name\": \"EfficientNet-M 100% FP32\", \"arith_intens\": \"268.12\", \"performance\": 1.0}, {\"Name\": \"EfficientNet-L 100% FP32\", \"arith_intens\": \"457.08\", \"performance\": 1.0}, {\"Name\": \"CNV 100% FP32\", \"arith_intens\": \"19.06\", \"performance\": 1.0}, {\"Name\": \"CNV 50% FP32\", \"arith_intens\": \"19.27\", \"performance\": 1.0}, {\"Name\": \"CNV 25% FP32\", \"arith_intens\": \"19.69\", \"performance\": 1.0}, {\"Name\": \"CNV 12.5% FP32\", \"arith_intens\": \"20.79\", \"performance\": 1.0}, {\"Name\": \"MLP* FP32\", \"arith_intens\": \"0.5\", \"performance\": 1.0}, {\"Name\": \"GoogLeNetv1 100% INT2\", \"arith_intens\": \"2093.97\", \"performance\": 10.0}, {\"Name\": \"MobileNetv1 100% INT2\", \"arith_intens\": \"1075.47\", \"performance\": 10.0}, {\"Name\": \"ResNet-50 100% INT2\", \"arith_intens\": \"1210.84\", \"performance\": 10.0}, {\"Name\": \"ResNet-50 80% INT2\", \"arith_intens\": \"1086.59\", \"performance\": 10.0}, {\"Name\": \"ResNet-50 50% INT2\", \"arith_intens\": \"949.85\", \"performance\": 10.0}, {\"Name\": \"ResNet-50 30% INT2\", \"arith_intens\": \"970.16\", \"performance\": 10.0}, {\"Name\": \"EfficientNet-S 100% INT2\", \"arith_intens\": \"3481.48\", \"performance\": 10.0}, {\"Name\": \"EfficientNet-M 100% INT2\", \"arith_intens\": \"4289.86\", \"performance\": 10.0}, {\"Name\": \"EfficientNet-L 100% INT2\", \"arith_intens\": \"7313.21\", \"performance\": 10.0}, {\"Name\": \"CNV 100% INT2\", \"arith_intens\": \"304.95\", \"performance\": 10.0}, {\"Name\": \"CNV 50% INT2\", \"arith_intens\": \"308.32\", \"performance\": 10.0}, {\"Name\": \"CNV 25% INT2\", \"arith_intens\": \"315.01\", \"performance\": 10.0}, {\"Name\": \"CNV 12.5% INT2\", \"arith_intens\": \"332.61\", \"performance\": 10.0}, {\"Name\": \"MLP* INT2\", \"arith_intens\": \"8\", \"performance\": 10.0}, {\"Name\": \"GoogLeNetv1 100% INT4\", \"arith_intens\": \"1046.99\", \"performance\": 10.0}, {\"Name\": \"MobileNetv1 100% INT4\", \"arith_intens\": \"537.74\", \"performance\": 10.0}, {\"Name\": \"ResNet-50 100% INT4\", \"arith_intens\": \"605.42\", \"performance\": 10.0}, {\"Name\": \"ResNet-50 80% INT4\", \"arith_intens\": \"543.3\", \"performance\": 10.0}, {\"Name\": \"ResNet-50 50% INT4\", \"arith_intens\": \"474.93\", \"performance\": 10.0}, {\"Name\": \"ResNet-50 30% INT4\", \"arith_intens\": \"485.08\", \"performance\": 10.0}, {\"Name\": \"EfficientNet-S 100% INT4\", \"arith_intens\": \"1740.74\", \"performance\": 10.0}, {\"Name\": \"EfficientNet-M 100% INT4\", \"arith_intens\": \"2144.93\", \"performance\": 10.0}, {\"Name\": \"EfficientNet-L 100% INT4\", \"arith_intens\": \"3656.6\", \"performance\": 10.0}, {\"Name\": \"CNV 100% INT4\", \"arith_intens\": \"152.48\", \"performance\": 10.0}, {\"Name\": \"CNV 50% INT4\", \"arith_intens\": \"154.16\", \"performance\": 10.0}, {\"Name\": \"CNV 25% INT4\", \"arith_intens\": \"157.51\", \"performance\": 10.0}, {\"Name\": \"CNV 12.5% INT4\", \"arith_intens\": \"166.3\", \"performance\": 10.0}, {\"Name\": \"MLP* INT4\", \"arith_intens\": \"4\", \"performance\": 10.0}, {\"Name\": \"GoogLeNetv1 100% INT8\", \"arith_intens\": \"523.49\", \"performance\": 10.0}, {\"Name\": \"MobileNetv1 100% INT8\", \"arith_intens\": \"268.87\", \"performance\": 10.0}, {\"Name\": \"ResNet-50 100% INT8\", \"arith_intens\": \"302.71\", \"performance\": 10.0}, {\"Name\": \"ResNet-50 80% INT8\", \"arith_intens\": \"271.65\", \"performance\": 10.0}, {\"Name\": \"ResNet-50 50% INT8\", \"arith_intens\": \"237.46\", \"performance\": 10.0}, {\"Name\": \"ResNet-50 30% INT8\", \"arith_intens\": \"242.54\", \"performance\": 10.0}, {\"Name\": \"EfficientNet-S 100% INT8\", \"arith_intens\": \"870.37\", \"performance\": 10.0}, {\"Name\": \"EfficientNet-M 100% INT8\", \"arith_intens\": \"1072.46\", \"performance\": 10.0}, {\"Name\": \"EfficientNet-L 100% INT8\", \"arith_intens\": \"1828.3\", \"performance\": 10.0}, {\"Name\": \"CNV 100% INT8\", \"arith_intens\": \"76.24\", \"performance\": 10.0}, {\"Name\": \"CNV 50% INT8\", \"arith_intens\": \"77.08\", \"performance\": 10.0}, {\"Name\": \"CNV 25% INT8\", \"arith_intens\": \"78.75\", \"performance\": 10.0}, {\"Name\": \"CNV 12.5% INT8\", \"arith_intens\": \"83.15\", \"performance\": 10.0}, {\"Name\": \"MLP* INT8\", \"arith_intens\": \"2\", \"performance\": 10.0}, {\"Name\": \"GoogLeNetv1 100% FP16\", \"arith_intens\": \"261.75\", \"performance\": 10.0}, {\"Name\": \"MobileNetv1 100% FP16\", \"arith_intens\": \"134.43\", \"performance\": 10.0}, {\"Name\": \"ResNet-50 100% FP16\", \"arith_intens\": \"151.36\", \"performance\": 10.0}, {\"Name\": \"ResNet-50 80% FP16\", \"arith_intens\": \"135.82\", \"performance\": 10.0}, {\"Name\": \"ResNet-50 50% FP16\", \"arith_intens\": \"118.73\", \"performance\": 10.0}, {\"Name\": \"ResNet-50 30% FP16\", \"arith_intens\": \"121.27\", \"performance\": 10.0}, {\"Name\": \"EfficientNet-S 100% FP16\", \"arith_intens\": \"435.18\", \"performance\": 10.0}, {\"Name\": \"EfficientNet-M 100% FP16\", \"arith_intens\": \"536.23\", \"performance\": 10.0}, {\"Name\": \"EfficientNet-L 100% FP16\", \"arith_intens\": \"914.15\", \"performance\": 10.0}, {\"Name\": \"CNV 100% FP16\", \"arith_intens\": \"38.12\", \"performance\": 10.0}, {\"Name\": \"CNV 50% FP16\", \"arith_intens\": \"38.54\", \"performance\": 10.0}, {\"Name\": \"CNV 25% FP16\", \"arith_intens\": \"39.38\", \"performance\": 10.0}, {\"Name\": \"CNV 12.5% FP16\", \"arith_intens\": \"41.58\", \"performance\": 10.0}, {\"Name\": \"MLP* FP16\", \"arith_intens\": \"1\", \"performance\": 10.0}, {\"Name\": \"GoogLeNetv1 100% FP32\", \"arith_intens\": \"130.87\", \"performance\": 10.0}, {\"Name\": \"MobileNetv1 100% FP32\", \"arith_intens\": \"67.22\", \"performance\": 10.0}, {\"Name\": \"ResNet-50 100% FP32\", \"arith_intens\": \"75.68\", \"performance\": 10.0}, {\"Name\": \"ResNet-50 80% FP32\", \"arith_intens\": \"67.91\", \"performance\": 10.0}, {\"Name\": \"ResNet-50 50% FP32\", \"arith_intens\": \"59.37\", \"performance\": 10.0}, {\"Name\": \"ResNet-50 30% FP32\", \"arith_intens\": \"60.64\", \"performance\": 10.0}, {\"Name\": \"EfficientNet-S 100% FP32\", \"arith_intens\": \"217.59\", \"performance\": 10.0}, {\"Name\": \"EfficientNet-M 100% FP32\", \"arith_intens\": \"268.12\", \"performance\": 10.0}, {\"Name\": \"EfficientNet-L 100% FP32\", \"arith_intens\": \"457.08\", \"performance\": 10.0}, {\"Name\": \"CNV 100% FP32\", \"arith_intens\": \"19.06\", \"performance\": 10.0}, {\"Name\": \"CNV 50% FP32\", \"arith_intens\": \"19.27\", \"performance\": 10.0}, {\"Name\": \"CNV 25% FP32\", \"arith_intens\": \"19.69\", \"performance\": 10.0}, {\"Name\": \"CNV 12.5% FP32\", \"arith_intens\": \"20.79\", \"performance\": 10.0}, {\"Name\": \"MLP* FP32\", \"arith_intens\": \"0.5\", \"performance\": 10.0}, {\"Name\": \"GoogLeNetv1 100% INT2\", \"arith_intens\": \"2093.97\", \"performance\": 0.1}, {\"Name\": \"MobileNetv1 100% INT2\", \"arith_intens\": \"1075.47\", \"performance\": 0.1}, {\"Name\": \"ResNet-50 100% INT2\", \"arith_intens\": \"1210.84\", \"performance\": 0.1}, {\"Name\": \"ResNet-50 80% INT2\", \"arith_intens\": \"1086.59\", \"performance\": 0.1}, {\"Name\": \"ResNet-50 50% INT2\", \"arith_intens\": \"949.85\", \"performance\": 0.1}, {\"Name\": \"ResNet-50 30% INT2\", \"arith_intens\": \"970.16\", \"performance\": 0.1}, {\"Name\": \"EfficientNet-S 100% INT2\", \"arith_intens\": \"3481.48\", \"performance\": 0.1}, {\"Name\": \"EfficientNet-M 100% INT2\", \"arith_intens\": \"4289.86\", \"performance\": 0.1}, {\"Name\": \"EfficientNet-L 100% INT2\", \"arith_intens\": \"7313.21\", \"performance\": 0.1}, {\"Name\": \"CNV 100% INT2\", \"arith_intens\": \"304.95\", \"performance\": 0.1}, {\"Name\": \"CNV 50% INT2\", \"arith_intens\": \"308.32\", \"performance\": 0.1}, {\"Name\": \"CNV 25% INT2\", \"arith_intens\": \"315.01\", \"performance\": 0.1}, {\"Name\": \"CNV 12.5% INT2\", \"arith_intens\": \"332.61\", \"performance\": 0.1}, {\"Name\": \"MLP* INT2\", \"arith_intens\": \"8\", \"performance\": 0.1}, {\"Name\": \"GoogLeNetv1 100% INT4\", \"arith_intens\": \"1046.99\", \"performance\": 0.1}, {\"Name\": \"MobileNetv1 100% INT4\", \"arith_intens\": \"537.74\", \"performance\": 0.1}, {\"Name\": \"ResNet-50 100% INT4\", \"arith_intens\": \"605.42\", \"performance\": 0.1}, {\"Name\": \"ResNet-50 80% INT4\", \"arith_intens\": \"543.3\", \"performance\": 0.1}, {\"Name\": \"ResNet-50 50% INT4\", \"arith_intens\": \"474.93\", \"performance\": 0.1}, {\"Name\": \"ResNet-50 30% INT4\", \"arith_intens\": \"485.08\", \"performance\": 0.1}, {\"Name\": \"EfficientNet-S 100% INT4\", \"arith_intens\": \"1740.74\", \"performance\": 0.1}, {\"Name\": \"EfficientNet-M 100% INT4\", \"arith_intens\": \"2144.93\", \"performance\": 0.1}, {\"Name\": \"EfficientNet-L 100% INT4\", \"arith_intens\": \"3656.6\", \"performance\": 0.1}, {\"Name\": \"CNV 100% INT4\", \"arith_intens\": \"152.48\", \"performance\": 0.1}, {\"Name\": \"CNV 50% INT4\", \"arith_intens\": \"154.16\", \"performance\": 0.1}, {\"Name\": \"CNV 25% INT4\", \"arith_intens\": \"157.51\", \"performance\": 0.1}, {\"Name\": \"CNV 12.5% INT4\", \"arith_intens\": \"166.3\", \"performance\": 0.1}, {\"Name\": \"MLP* INT4\", \"arith_intens\": \"4\", \"performance\": 0.1}, {\"Name\": \"GoogLeNetv1 100% INT8\", \"arith_intens\": \"523.49\", \"performance\": 0.1}, {\"Name\": \"MobileNetv1 100% INT8\", \"arith_intens\": \"268.87\", \"performance\": 0.1}, {\"Name\": \"ResNet-50 100% INT8\", \"arith_intens\": \"302.71\", \"performance\": 0.1}, {\"Name\": \"ResNet-50 80% INT8\", \"arith_intens\": \"271.65\", \"performance\": 0.1}, {\"Name\": \"ResNet-50 50% INT8\", \"arith_intens\": \"237.46\", \"performance\": 0.1}, {\"Name\": \"ResNet-50 30% INT8\", \"arith_intens\": \"242.54\", \"performance\": 0.1}, {\"Name\": \"EfficientNet-S 100% INT8\", \"arith_intens\": \"870.37\", \"performance\": 0.1}, {\"Name\": \"EfficientNet-M 100% INT8\", \"arith_intens\": \"1072.46\", \"performance\": 0.1}, {\"Name\": \"EfficientNet-L 100% INT8\", \"arith_intens\": \"1828.3\", \"performance\": 0.1}, {\"Name\": \"CNV 100% INT8\", \"arith_intens\": \"76.24\", \"performance\": 0.1}, {\"Name\": \"CNV 50% INT8\", \"arith_intens\": \"77.08\", \"performance\": 0.1}, {\"Name\": \"CNV 25% INT8\", \"arith_intens\": \"78.75\", \"performance\": 0.1}, {\"Name\": \"CNV 12.5% INT8\", \"arith_intens\": \"83.15\", \"performance\": 0.1}, {\"Name\": \"MLP* INT8\", \"arith_intens\": \"2\", \"performance\": 0.1}, {\"Name\": \"GoogLeNetv1 100% FP16\", \"arith_intens\": \"261.75\", \"performance\": 0.1}, {\"Name\": \"MobileNetv1 100% FP16\", \"arith_intens\": \"134.43\", \"performance\": 0.1}, {\"Name\": \"ResNet-50 100% FP16\", \"arith_intens\": \"151.36\", \"performance\": 0.1}, {\"Name\": \"ResNet-50 80% FP16\", \"arith_intens\": \"135.82\", \"performance\": 0.1}, {\"Name\": \"ResNet-50 50% FP16\", \"arith_intens\": \"118.73\", \"performance\": 0.1}, {\"Name\": \"ResNet-50 30% FP16\", \"arith_intens\": \"121.27\", \"performance\": 0.1}, {\"Name\": \"EfficientNet-S 100% FP16\", \"arith_intens\": \"435.18\", \"performance\": 0.1}, {\"Name\": \"EfficientNet-M 100% FP16\", \"arith_intens\": \"536.23\", \"performance\": 0.1}, {\"Name\": \"EfficientNet-L 100% FP16\", \"arith_intens\": \"914.15\", \"performance\": 0.1}, {\"Name\": \"CNV 100% FP16\", \"arith_intens\": \"38.12\", \"performance\": 0.1}, {\"Name\": \"CNV 50% FP16\", \"arith_intens\": \"38.54\", \"performance\": 0.1}, {\"Name\": \"CNV 25% FP16\", \"arith_intens\": \"39.38\", \"performance\": 0.1}, {\"Name\": \"CNV 12.5% FP16\", \"arith_intens\": \"41.58\", \"performance\": 0.1}, {\"Name\": \"MLP* FP16\", \"arith_intens\": \"1\", \"performance\": 0.1}, {\"Name\": \"GoogLeNetv1 100% FP32\", \"arith_intens\": \"130.87\", \"performance\": 0.1}, {\"Name\": \"MobileNetv1 100% FP32\", \"arith_intens\": \"67.22\", \"performance\": 0.1}, {\"Name\": \"ResNet-50 100% FP32\", \"arith_intens\": \"75.68\", \"performance\": 0.1}, {\"Name\": \"ResNet-50 80% FP32\", \"arith_intens\": \"67.91\", \"performance\": 0.1}, {\"Name\": \"ResNet-50 50% FP32\", \"arith_intens\": \"59.37\", \"performance\": 0.1}, {\"Name\": \"ResNet-50 30% FP32\", \"arith_intens\": \"60.64\", \"performance\": 0.1}, {\"Name\": \"EfficientNet-S 100% FP32\", \"arith_intens\": \"217.59\", \"performance\": 0.1}, {\"Name\": \"EfficientNet-M 100% FP32\", \"arith_intens\": \"268.12\", \"performance\": 0.1}, {\"Name\": \"EfficientNet-L 100% FP32\", \"arith_intens\": \"457.08\", \"performance\": 0.1}, {\"Name\": \"CNV 100% FP32\", \"arith_intens\": \"19.06\", \"performance\": 0.1}, {\"Name\": \"CNV 50% FP32\", \"arith_intens\": \"19.27\", \"performance\": 0.1}, {\"Name\": \"CNV 25% FP32\", \"arith_intens\": \"19.69\", \"performance\": 0.1}, {\"Name\": \"CNV 12.5% FP32\", \"arith_intens\": \"20.79\", \"performance\": 0.1}, {\"Name\": \"MLP* FP32\", \"arith_intens\": \"0.5\", \"performance\": 0.1}, {\"Name\": \"Ultra96 DPU INT8\", \"arith_intens\": 12.1, \"performance\": 0.051545999999999995}, {\"Name\": \"Ultra96 DPU INT8\", \"arith_intens\": 226.1, \"performance\": 0.96}, {\"Name\": \"Ultra96 DPU INT8\", \"arith_intens\": 160000, \"performance\": 0.96}, {\"Name\": \"ZCU104 INT8\", \"arith_intens\": 3.1, \"performance\": 0.059519999999999997}, {\"Name\": \"ZCU104 INT8\", \"arith_intens\": 240.1, \"performance\": 4.6}, {\"Name\": \"ZCU104 INT8\", \"arith_intens\": 160000, \"performance\": 4.6}, {\"Name\": \"ZCU102 INT8\", \"arith_intens\": 3.1, \"performance\": 0.059519999999999997}, {\"Name\": \"ZCU102 INT8\", \"arith_intens\": 350.1, \"performance\": 6.71}, {\"Name\": \"ZCU102 INT8\", \"arith_intens\": 160000, \"performance\": 6.71}, {\"Name\": \"ZCU104 FINN INT2\", \"arith_intens\": 3.1, \"performance\": 0.059519999999999997}, {\"Name\": \"ZCU104 FINN INT2\", \"arith_intens\": 1599.1, \"performance\": 30.7}, {\"Name\": \"ZCU104 FINN INT2\", \"arith_intens\": 160000, \"performance\": 30.7}, {\"Name\": \"ZCU104 FINN INT4\", \"arith_intens\": 3.1, \"performance\": 0.059519999999999997}, {\"Name\": \"ZCU104 FINN INT4\", \"arith_intens\": 459.1, \"performance\": 8.8}, {\"Name\": \"ZCU104 FINN INT4\", \"arith_intens\": 160000, \"performance\": 8.8}, {\"Name\": \"ZCU104 BISMO INT2\", \"arith_intens\": 3.1, \"performance\": 0.059519999999999997}, {\"Name\": \"ZCU104 BISMO INT2\", \"arith_intens\": 1599.1, \"performance\": 30.7}, {\"Name\": \"ZCU104 BISMO INT2\", \"arith_intens\": 160000, \"performance\": 30.7}, {\"Name\": \"ZCU104 BISMO INT4\", \"arith_intens\": 3.1, \"performance\": 0.059519999999999997}, {\"Name\": \"ZCU104 BISMO INT4\", \"arith_intens\": 459.1, \"performance\": 8.8}, {\"Name\": \"ZCU104 BISMO INT4\", \"arith_intens\": 160000, \"performance\": 8.8}, {\"Name\": \"TX2 maxn FP16\", \"arith_intens\": 1.1, \"performance\": 0.06567}, {\"Name\": \"TX2 maxn FP16\", \"arith_intens\": 23.1, \"performance\": 1.33}, {\"Name\": \"TX2 maxn FP16\", \"arith_intens\": 160000, \"performance\": 1.33}, {\"Name\": \"TX2 maxn FP32\", \"arith_intens\": 1.1, \"performance\": 0.06567}, {\"Name\": \"TX2 maxn FP32\", \"arith_intens\": 12.1, \"performance\": 0.67}, {\"Name\": \"TX2 maxn FP32\", \"arith_intens\": 160000, \"performance\": 0.67}, {\"Name\": \"TX2 maxp FP16\", \"arith_intens\": 1.1, \"performance\": 0.06567}, {\"Name\": \"TX2 maxp FP16\", \"arith_intens\": 20.1, \"performance\": 1.15}, {\"Name\": \"TX2 maxp FP16\", \"arith_intens\": 160000, \"performance\": 1.15}, {\"Name\": \"TX2 maxp FP32\", \"arith_intens\": 1.1, \"performance\": 0.06567}, {\"Name\": \"TX2 maxp FP32\", \"arith_intens\": 10.1, \"performance\": 0.57}, {\"Name\": \"TX2 maxp FP32\", \"arith_intens\": 160000, \"performance\": 0.57}, {\"Name\": \"TX2 maxq FP16\", \"arith_intens\": 1.1, \"performance\": 0.06567}, {\"Name\": \"TX2 maxq FP16\", \"arith_intens\": 15.1, \"performance\": 0.87}, {\"Name\": \"TX2 maxq FP16\", \"arith_intens\": 160000, \"performance\": 0.87}, {\"Name\": \"TX2 maxq FP32\", \"arith_intens\": 1.1, \"performance\": 0.06567}, {\"Name\": \"TX2 maxq FP32\", \"arith_intens\": 8.1, \"performance\": 0.44}, {\"Name\": \"TX2 maxq FP32\", \"arith_intens\": 160000, \"performance\": 0.44}, {\"Name\": \"EdgeTPU fast INT8\", \"arith_intens\": 2.1, \"performance\": 0.05376}, {\"Name\": \"EdgeTPU fast INT8\", \"arith_intens\": 157.1, \"performance\": 4.0}, {\"Name\": \"EdgeTPU fast INT8\", \"arith_intens\": 160000, \"performance\": 4.0}, {\"Name\": \"EdgeTPU slow INT8\", \"arith_intens\": 2.1, \"performance\": 0.05376}, {\"Name\": \"EdgeTPU slow INT8\", \"arith_intens\": 79.1, \"performance\": 2.0}, {\"Name\": \"EdgeTPU slow INT8\", \"arith_intens\": 160000, \"performance\": 2.0}, {\"Name\": \"NCS INT8\", \"arith_intens\": 4.1, \"performance\": 0.05248}, {\"Name\": \"NCS INT8\", \"arith_intens\": 79.1, \"performance\": 1.0}, {\"Name\": \"NCS INT8\", \"arith_intens\": 160000, \"performance\": 1.0}, {\"Name\": \"NCS FP16\", \"arith_intens\": 4.1, \"performance\": 0.05248}, {\"Name\": \"NCS FP16\", \"arith_intens\": 39.1, \"performance\": 0.5}, {\"Name\": \"NCS FP16\", \"arith_intens\": 160000, \"performance\": 0.5}], \"data-2cc4cd3382f02abe6bd26f5e1c5988f9\": [{\"Name\": \"GoogLeNetv1 100% INT2\", \"arith_intens\": \"2093.97\", \"performance\": 30.0}, {\"Name\": \"MobileNetv1 100% INT2\", \"arith_intens\": \"1075.47\", \"performance\": 30.0}, {\"Name\": \"ResNet-50 100% INT2\", \"arith_intens\": \"1210.84\", \"performance\": 30.0}, {\"Name\": \"ResNet-50 80% INT2\", \"arith_intens\": \"1086.59\", \"performance\": 30.0}, {\"Name\": \"ResNet-50 50% INT2\", \"arith_intens\": \"949.85\", \"performance\": 30.0}, {\"Name\": \"ResNet-50 30% INT2\", \"arith_intens\": \"970.16\", \"performance\": 30.0}, {\"Name\": \"EfficientNet-S 100% INT2\", \"arith_intens\": \"3481.48\", \"performance\": 30.0}, {\"Name\": \"EfficientNet-M 100% INT2\", \"arith_intens\": \"4289.86\", \"performance\": 30.0}, {\"Name\": \"EfficientNet-L 100% INT2\", \"arith_intens\": \"7313.21\", \"performance\": 30.0}, {\"Name\": \"CNV 100% INT2\", \"arith_intens\": \"304.95\", \"performance\": 30.0}, {\"Name\": \"CNV 50% INT2\", \"arith_intens\": \"308.32\", \"performance\": 30.0}, {\"Name\": \"CNV 25% INT2\", \"arith_intens\": \"315.01\", \"performance\": 30.0}, {\"Name\": \"CNV 12.5% INT2\", \"arith_intens\": \"332.61\", \"performance\": 30.0}, {\"Name\": \"MLP* INT2\", \"arith_intens\": \"8\", \"performance\": 30.0}, {\"Name\": \"GoogLeNetv1 100% INT2\", \"arith_intens\": \"2093.97\", \"performance\": 1.0}, {\"Name\": \"MobileNetv1 100% INT2\", \"arith_intens\": \"1075.47\", \"performance\": 1.0}, {\"Name\": \"ResNet-50 100% INT2\", \"arith_intens\": \"1210.84\", \"performance\": 1.0}, {\"Name\": \"ResNet-50 80% INT2\", \"arith_intens\": \"1086.59\", \"performance\": 1.0}, {\"Name\": \"ResNet-50 50% INT2\", \"arith_intens\": \"949.85\", \"performance\": 1.0}, {\"Name\": \"ResNet-50 30% INT2\", \"arith_intens\": \"970.16\", \"performance\": 1.0}, {\"Name\": \"EfficientNet-S 100% INT2\", \"arith_intens\": \"3481.48\", \"performance\": 1.0}, {\"Name\": \"EfficientNet-M 100% INT2\", \"arith_intens\": \"4289.86\", \"performance\": 1.0}, {\"Name\": \"EfficientNet-L 100% INT2\", \"arith_intens\": \"7313.21\", \"performance\": 1.0}, {\"Name\": \"CNV 100% INT2\", \"arith_intens\": \"304.95\", \"performance\": 1.0}, {\"Name\": \"CNV 50% INT2\", \"arith_intens\": \"308.32\", \"performance\": 1.0}, {\"Name\": \"CNV 25% INT2\", \"arith_intens\": \"315.01\", \"performance\": 1.0}, {\"Name\": \"CNV 12.5% INT2\", \"arith_intens\": \"332.61\", \"performance\": 1.0}, {\"Name\": \"MLP* INT2\", \"arith_intens\": \"8\", \"performance\": 1.0}, {\"Name\": \"GoogLeNetv1 100% INT2\", \"arith_intens\": \"2093.97\", \"performance\": 10.0}, {\"Name\": \"MobileNetv1 100% INT2\", \"arith_intens\": \"1075.47\", \"performance\": 10.0}, {\"Name\": \"ResNet-50 100% INT2\", \"arith_intens\": \"1210.84\", \"performance\": 10.0}, {\"Name\": \"ResNet-50 80% INT2\", \"arith_intens\": \"1086.59\", \"performance\": 10.0}, {\"Name\": \"ResNet-50 50% INT2\", \"arith_intens\": \"949.85\", \"performance\": 10.0}, {\"Name\": \"ResNet-50 30% INT2\", \"arith_intens\": \"970.16\", \"performance\": 10.0}, {\"Name\": \"EfficientNet-S 100% INT2\", \"arith_intens\": \"3481.48\", \"performance\": 10.0}, {\"Name\": \"EfficientNet-M 100% INT2\", \"arith_intens\": \"4289.86\", \"performance\": 10.0}, {\"Name\": \"EfficientNet-L 100% INT2\", \"arith_intens\": \"7313.21\", \"performance\": 10.0}, {\"Name\": \"CNV 100% INT2\", \"arith_intens\": \"304.95\", \"performance\": 10.0}, {\"Name\": \"CNV 50% INT2\", \"arith_intens\": \"308.32\", \"performance\": 10.0}, {\"Name\": \"CNV 25% INT2\", \"arith_intens\": \"315.01\", \"performance\": 10.0}, {\"Name\": \"CNV 12.5% INT2\", \"arith_intens\": \"332.61\", \"performance\": 10.0}, {\"Name\": \"MLP* INT2\", \"arith_intens\": \"8\", \"performance\": 10.0}, {\"Name\": \"GoogLeNetv1 100% INT2\", \"arith_intens\": \"2093.97\", \"performance\": 0.1}, {\"Name\": \"MobileNetv1 100% INT2\", \"arith_intens\": \"1075.47\", \"performance\": 0.1}, {\"Name\": \"ResNet-50 100% INT2\", \"arith_intens\": \"1210.84\", \"performance\": 0.1}, {\"Name\": \"ResNet-50 80% INT2\", \"arith_intens\": \"1086.59\", \"performance\": 0.1}, {\"Name\": \"ResNet-50 50% INT2\", \"arith_intens\": \"949.85\", \"performance\": 0.1}, {\"Name\": \"ResNet-50 30% INT2\", \"arith_intens\": \"970.16\", \"performance\": 0.1}, {\"Name\": \"EfficientNet-S 100% INT2\", \"arith_intens\": \"3481.48\", \"performance\": 0.1}, {\"Name\": \"EfficientNet-M 100% INT2\", \"arith_intens\": \"4289.86\", \"performance\": 0.1}, {\"Name\": \"EfficientNet-L 100% INT2\", \"arith_intens\": \"7313.21\", \"performance\": 0.1}, {\"Name\": \"CNV 100% INT2\", \"arith_intens\": \"304.95\", \"performance\": 0.1}, {\"Name\": \"CNV 50% INT2\", \"arith_intens\": \"308.32\", \"performance\": 0.1}, {\"Name\": \"CNV 25% INT2\", \"arith_intens\": \"315.01\", \"performance\": 0.1}, {\"Name\": \"CNV 12.5% INT2\", \"arith_intens\": \"332.61\", \"performance\": 0.1}, {\"Name\": \"MLP* INT2\", \"arith_intens\": \"8\", \"performance\": 0.1}], \"data-b586e7d76b707c0dd2e27212f4e3807a\": [{\"Name\": \"GoogLeNetv1 100% INT4\", \"arith_intens\": \"1046.99\", \"performance\": 30.0}, {\"Name\": \"MobileNetv1 100% INT4\", \"arith_intens\": \"537.74\", \"performance\": 30.0}, {\"Name\": \"ResNet-50 100% INT4\", \"arith_intens\": \"605.42\", \"performance\": 30.0}, {\"Name\": \"ResNet-50 80% INT4\", \"arith_intens\": \"543.3\", \"performance\": 30.0}, {\"Name\": \"ResNet-50 50% INT4\", \"arith_intens\": \"474.93\", \"performance\": 30.0}, {\"Name\": \"ResNet-50 30% INT4\", \"arith_intens\": \"485.08\", \"performance\": 30.0}, {\"Name\": \"EfficientNet-S 100% INT4\", \"arith_intens\": \"1740.74\", \"performance\": 30.0}, {\"Name\": \"EfficientNet-M 100% INT4\", \"arith_intens\": \"2144.93\", \"performance\": 30.0}, {\"Name\": \"EfficientNet-L 100% INT4\", \"arith_intens\": \"3656.6\", \"performance\": 30.0}, {\"Name\": \"CNV 100% INT4\", \"arith_intens\": \"152.48\", \"performance\": 30.0}, {\"Name\": \"CNV 50% INT4\", \"arith_intens\": \"154.16\", \"performance\": 30.0}, {\"Name\": \"CNV 25% INT4\", \"arith_intens\": \"157.51\", \"performance\": 30.0}, {\"Name\": \"CNV 12.5% INT4\", \"arith_intens\": \"166.3\", \"performance\": 30.0}, {\"Name\": \"MLP* INT4\", \"arith_intens\": \"4\", \"performance\": 30.0}, {\"Name\": \"GoogLeNetv1 100% INT4\", \"arith_intens\": \"1046.99\", \"performance\": 1.0}, {\"Name\": \"MobileNetv1 100% INT4\", \"arith_intens\": \"537.74\", \"performance\": 1.0}, {\"Name\": \"ResNet-50 100% INT4\", \"arith_intens\": \"605.42\", \"performance\": 1.0}, {\"Name\": \"ResNet-50 80% INT4\", \"arith_intens\": \"543.3\", \"performance\": 1.0}, {\"Name\": \"ResNet-50 50% INT4\", \"arith_intens\": \"474.93\", \"performance\": 1.0}, {\"Name\": \"ResNet-50 30% INT4\", \"arith_intens\": \"485.08\", \"performance\": 1.0}, {\"Name\": \"EfficientNet-S 100% INT4\", \"arith_intens\": \"1740.74\", \"performance\": 1.0}, {\"Name\": \"EfficientNet-M 100% INT4\", \"arith_intens\": \"2144.93\", \"performance\": 1.0}, {\"Name\": \"EfficientNet-L 100% INT4\", \"arith_intens\": \"3656.6\", \"performance\": 1.0}, {\"Name\": \"CNV 100% INT4\", \"arith_intens\": \"152.48\", \"performance\": 1.0}, {\"Name\": \"CNV 50% INT4\", \"arith_intens\": \"154.16\", \"performance\": 1.0}, {\"Name\": \"CNV 25% INT4\", \"arith_intens\": \"157.51\", \"performance\": 1.0}, {\"Name\": \"CNV 12.5% INT4\", \"arith_intens\": \"166.3\", \"performance\": 1.0}, {\"Name\": \"MLP* INT4\", \"arith_intens\": \"4\", \"performance\": 1.0}, {\"Name\": \"GoogLeNetv1 100% INT4\", \"arith_intens\": \"1046.99\", \"performance\": 10.0}, {\"Name\": \"MobileNetv1 100% INT4\", \"arith_intens\": \"537.74\", \"performance\": 10.0}, {\"Name\": \"ResNet-50 100% INT4\", \"arith_intens\": \"605.42\", \"performance\": 10.0}, {\"Name\": \"ResNet-50 80% INT4\", \"arith_intens\": \"543.3\", \"performance\": 10.0}, {\"Name\": \"ResNet-50 50% INT4\", \"arith_intens\": \"474.93\", \"performance\": 10.0}, {\"Name\": \"ResNet-50 30% INT4\", \"arith_intens\": \"485.08\", \"performance\": 10.0}, {\"Name\": \"EfficientNet-S 100% INT4\", \"arith_intens\": \"1740.74\", \"performance\": 10.0}, {\"Name\": \"EfficientNet-M 100% INT4\", \"arith_intens\": \"2144.93\", \"performance\": 10.0}, {\"Name\": \"EfficientNet-L 100% INT4\", \"arith_intens\": \"3656.6\", \"performance\": 10.0}, {\"Name\": \"CNV 100% INT4\", \"arith_intens\": \"152.48\", \"performance\": 10.0}, {\"Name\": \"CNV 50% INT4\", \"arith_intens\": \"154.16\", \"performance\": 10.0}, {\"Name\": \"CNV 25% INT4\", \"arith_intens\": \"157.51\", \"performance\": 10.0}, {\"Name\": \"CNV 12.5% INT4\", \"arith_intens\": \"166.3\", \"performance\": 10.0}, {\"Name\": \"MLP* INT4\", \"arith_intens\": \"4\", \"performance\": 10.0}, {\"Name\": \"GoogLeNetv1 100% INT4\", \"arith_intens\": \"1046.99\", \"performance\": 0.1}, {\"Name\": \"MobileNetv1 100% INT4\", \"arith_intens\": \"537.74\", \"performance\": 0.1}, {\"Name\": \"ResNet-50 100% INT4\", \"arith_intens\": \"605.42\", \"performance\": 0.1}, {\"Name\": \"ResNet-50 80% INT4\", \"arith_intens\": \"543.3\", \"performance\": 0.1}, {\"Name\": \"ResNet-50 50% INT4\", \"arith_intens\": \"474.93\", \"performance\": 0.1}, {\"Name\": \"ResNet-50 30% INT4\", \"arith_intens\": \"485.08\", \"performance\": 0.1}, {\"Name\": \"EfficientNet-S 100% INT4\", \"arith_intens\": \"1740.74\", \"performance\": 0.1}, {\"Name\": \"EfficientNet-M 100% INT4\", \"arith_intens\": \"2144.93\", \"performance\": 0.1}, {\"Name\": \"EfficientNet-L 100% INT4\", \"arith_intens\": \"3656.6\", \"performance\": 0.1}, {\"Name\": \"CNV 100% INT4\", \"arith_intens\": \"152.48\", \"performance\": 0.1}, {\"Name\": \"CNV 50% INT4\", \"arith_intens\": \"154.16\", \"performance\": 0.1}, {\"Name\": \"CNV 25% INT4\", \"arith_intens\": \"157.51\", \"performance\": 0.1}, {\"Name\": \"CNV 12.5% INT4\", \"arith_intens\": \"166.3\", \"performance\": 0.1}, {\"Name\": \"MLP* INT4\", \"arith_intens\": \"4\", \"performance\": 0.1}], \"data-6887972a2442b866ac20686974a9226b\": [{\"Name\": \"GoogLeNetv1 100% INT8\", \"arith_intens\": \"523.49\", \"performance\": 30.0}, {\"Name\": \"MobileNetv1 100% INT8\", \"arith_intens\": \"268.87\", \"performance\": 30.0}, {\"Name\": \"ResNet-50 100% INT8\", \"arith_intens\": \"302.71\", \"performance\": 30.0}, {\"Name\": \"ResNet-50 80% INT8\", \"arith_intens\": \"271.65\", \"performance\": 30.0}, {\"Name\": \"ResNet-50 50% INT8\", \"arith_intens\": \"237.46\", \"performance\": 30.0}, {\"Name\": \"ResNet-50 30% INT8\", \"arith_intens\": \"242.54\", \"performance\": 30.0}, {\"Name\": \"EfficientNet-S 100% INT8\", \"arith_intens\": \"870.37\", \"performance\": 30.0}, {\"Name\": \"EfficientNet-M 100% INT8\", \"arith_intens\": \"1072.46\", \"performance\": 30.0}, {\"Name\": \"EfficientNet-L 100% INT8\", \"arith_intens\": \"1828.3\", \"performance\": 30.0}, {\"Name\": \"CNV 100% INT8\", \"arith_intens\": \"76.24\", \"performance\": 30.0}, {\"Name\": \"CNV 50% INT8\", \"arith_intens\": \"77.08\", \"performance\": 30.0}, {\"Name\": \"CNV 25% INT8\", \"arith_intens\": \"78.75\", \"performance\": 30.0}, {\"Name\": \"CNV 12.5% INT8\", \"arith_intens\": \"83.15\", \"performance\": 30.0}, {\"Name\": \"MLP* INT8\", \"arith_intens\": \"2\", \"performance\": 30.0}, {\"Name\": \"GoogLeNetv1 100% INT8\", \"arith_intens\": \"523.49\", \"performance\": 1.0}, {\"Name\": \"MobileNetv1 100% INT8\", \"arith_intens\": \"268.87\", \"performance\": 1.0}, {\"Name\": \"ResNet-50 100% INT8\", \"arith_intens\": \"302.71\", \"performance\": 1.0}, {\"Name\": \"ResNet-50 80% INT8\", \"arith_intens\": \"271.65\", \"performance\": 1.0}, {\"Name\": \"ResNet-50 50% INT8\", \"arith_intens\": \"237.46\", \"performance\": 1.0}, {\"Name\": \"ResNet-50 30% INT8\", \"arith_intens\": \"242.54\", \"performance\": 1.0}, {\"Name\": \"EfficientNet-S 100% INT8\", \"arith_intens\": \"870.37\", \"performance\": 1.0}, {\"Name\": \"EfficientNet-M 100% INT8\", \"arith_intens\": \"1072.46\", \"performance\": 1.0}, {\"Name\": \"EfficientNet-L 100% INT8\", \"arith_intens\": \"1828.3\", \"performance\": 1.0}, {\"Name\": \"CNV 100% INT8\", \"arith_intens\": \"76.24\", \"performance\": 1.0}, {\"Name\": \"CNV 50% INT8\", \"arith_intens\": \"77.08\", \"performance\": 1.0}, {\"Name\": \"CNV 25% INT8\", \"arith_intens\": \"78.75\", \"performance\": 1.0}, {\"Name\": \"CNV 12.5% INT8\", \"arith_intens\": \"83.15\", \"performance\": 1.0}, {\"Name\": \"MLP* INT8\", \"arith_intens\": \"2\", \"performance\": 1.0}, {\"Name\": \"GoogLeNetv1 100% INT8\", \"arith_intens\": \"523.49\", \"performance\": 10.0}, {\"Name\": \"MobileNetv1 100% INT8\", \"arith_intens\": \"268.87\", \"performance\": 10.0}, {\"Name\": \"ResNet-50 100% INT8\", \"arith_intens\": \"302.71\", \"performance\": 10.0}, {\"Name\": \"ResNet-50 80% INT8\", \"arith_intens\": \"271.65\", \"performance\": 10.0}, {\"Name\": \"ResNet-50 50% INT8\", \"arith_intens\": \"237.46\", \"performance\": 10.0}, {\"Name\": \"ResNet-50 30% INT8\", \"arith_intens\": \"242.54\", \"performance\": 10.0}, {\"Name\": \"EfficientNet-S 100% INT8\", \"arith_intens\": \"870.37\", \"performance\": 10.0}, {\"Name\": \"EfficientNet-M 100% INT8\", \"arith_intens\": \"1072.46\", \"performance\": 10.0}, {\"Name\": \"EfficientNet-L 100% INT8\", \"arith_intens\": \"1828.3\", \"performance\": 10.0}, {\"Name\": \"CNV 100% INT8\", \"arith_intens\": \"76.24\", \"performance\": 10.0}, {\"Name\": \"CNV 50% INT8\", \"arith_intens\": \"77.08\", \"performance\": 10.0}, {\"Name\": \"CNV 25% INT8\", \"arith_intens\": \"78.75\", \"performance\": 10.0}, {\"Name\": \"CNV 12.5% INT8\", \"arith_intens\": \"83.15\", \"performance\": 10.0}, {\"Name\": \"MLP* INT8\", \"arith_intens\": \"2\", \"performance\": 10.0}, {\"Name\": \"GoogLeNetv1 100% INT8\", \"arith_intens\": \"523.49\", \"performance\": 0.1}, {\"Name\": \"MobileNetv1 100% INT8\", \"arith_intens\": \"268.87\", \"performance\": 0.1}, {\"Name\": \"ResNet-50 100% INT8\", \"arith_intens\": \"302.71\", \"performance\": 0.1}, {\"Name\": \"ResNet-50 80% INT8\", \"arith_intens\": \"271.65\", \"performance\": 0.1}, {\"Name\": \"ResNet-50 50% INT8\", \"arith_intens\": \"237.46\", \"performance\": 0.1}, {\"Name\": \"ResNet-50 30% INT8\", \"arith_intens\": \"242.54\", \"performance\": 0.1}, {\"Name\": \"EfficientNet-S 100% INT8\", \"arith_intens\": \"870.37\", \"performance\": 0.1}, {\"Name\": \"EfficientNet-M 100% INT8\", \"arith_intens\": \"1072.46\", \"performance\": 0.1}, {\"Name\": \"EfficientNet-L 100% INT8\", \"arith_intens\": \"1828.3\", \"performance\": 0.1}, {\"Name\": \"CNV 100% INT8\", \"arith_intens\": \"76.24\", \"performance\": 0.1}, {\"Name\": \"CNV 50% INT8\", \"arith_intens\": \"77.08\", \"performance\": 0.1}, {\"Name\": \"CNV 25% INT8\", \"arith_intens\": \"78.75\", \"performance\": 0.1}, {\"Name\": \"CNV 12.5% INT8\", \"arith_intens\": \"83.15\", \"performance\": 0.1}, {\"Name\": \"MLP* INT8\", \"arith_intens\": \"2\", \"performance\": 0.1}], \"data-443b558055de8f59ad7eb3fc52a03227\": [{\"Name\": \"GoogLeNetv1 100% FP16\", \"arith_intens\": \"261.75\", \"performance\": 30.0}, {\"Name\": \"MobileNetv1 100% FP16\", \"arith_intens\": \"134.43\", \"performance\": 30.0}, {\"Name\": \"ResNet-50 100% FP16\", \"arith_intens\": \"151.36\", \"performance\": 30.0}, {\"Name\": \"ResNet-50 80% FP16\", \"arith_intens\": \"135.82\", \"performance\": 30.0}, {\"Name\": \"ResNet-50 50% FP16\", \"arith_intens\": \"118.73\", \"performance\": 30.0}, {\"Name\": \"ResNet-50 30% FP16\", \"arith_intens\": \"121.27\", \"performance\": 30.0}, {\"Name\": \"EfficientNet-S 100% FP16\", \"arith_intens\": \"435.18\", \"performance\": 30.0}, {\"Name\": \"EfficientNet-M 100% FP16\", \"arith_intens\": \"536.23\", \"performance\": 30.0}, {\"Name\": \"EfficientNet-L 100% FP16\", \"arith_intens\": \"914.15\", \"performance\": 30.0}, {\"Name\": \"CNV 100% FP16\", \"arith_intens\": \"38.12\", \"performance\": 30.0}, {\"Name\": \"CNV 50% FP16\", \"arith_intens\": \"38.54\", \"performance\": 30.0}, {\"Name\": \"CNV 25% FP16\", \"arith_intens\": \"39.38\", \"performance\": 30.0}, {\"Name\": \"CNV 12.5% FP16\", \"arith_intens\": \"41.58\", \"performance\": 30.0}, {\"Name\": \"MLP* FP16\", \"arith_intens\": \"1\", \"performance\": 30.0}, {\"Name\": \"GoogLeNetv1 100% FP16\", \"arith_intens\": \"261.75\", \"performance\": 1.0}, {\"Name\": \"MobileNetv1 100% FP16\", \"arith_intens\": \"134.43\", \"performance\": 1.0}, {\"Name\": \"ResNet-50 100% FP16\", \"arith_intens\": \"151.36\", \"performance\": 1.0}, {\"Name\": \"ResNet-50 80% FP16\", \"arith_intens\": \"135.82\", \"performance\": 1.0}, {\"Name\": \"ResNet-50 50% FP16\", \"arith_intens\": \"118.73\", \"performance\": 1.0}, {\"Name\": \"ResNet-50 30% FP16\", \"arith_intens\": \"121.27\", \"performance\": 1.0}, {\"Name\": \"EfficientNet-S 100% FP16\", \"arith_intens\": \"435.18\", \"performance\": 1.0}, {\"Name\": \"EfficientNet-M 100% FP16\", \"arith_intens\": \"536.23\", \"performance\": 1.0}, {\"Name\": \"EfficientNet-L 100% FP16\", \"arith_intens\": \"914.15\", \"performance\": 1.0}, {\"Name\": \"CNV 100% FP16\", \"arith_intens\": \"38.12\", \"performance\": 1.0}, {\"Name\": \"CNV 50% FP16\", \"arith_intens\": \"38.54\", \"performance\": 1.0}, {\"Name\": \"CNV 25% FP16\", \"arith_intens\": \"39.38\", \"performance\": 1.0}, {\"Name\": \"CNV 12.5% FP16\", \"arith_intens\": \"41.58\", \"performance\": 1.0}, {\"Name\": \"MLP* FP16\", \"arith_intens\": \"1\", \"performance\": 1.0}, {\"Name\": \"GoogLeNetv1 100% FP16\", \"arith_intens\": \"261.75\", \"performance\": 10.0}, {\"Name\": \"MobileNetv1 100% FP16\", \"arith_intens\": \"134.43\", \"performance\": 10.0}, {\"Name\": \"ResNet-50 100% FP16\", \"arith_intens\": \"151.36\", \"performance\": 10.0}, {\"Name\": \"ResNet-50 80% FP16\", \"arith_intens\": \"135.82\", \"performance\": 10.0}, {\"Name\": \"ResNet-50 50% FP16\", \"arith_intens\": \"118.73\", \"performance\": 10.0}, {\"Name\": \"ResNet-50 30% FP16\", \"arith_intens\": \"121.27\", \"performance\": 10.0}, {\"Name\": \"EfficientNet-S 100% FP16\", \"arith_intens\": \"435.18\", \"performance\": 10.0}, {\"Name\": \"EfficientNet-M 100% FP16\", \"arith_intens\": \"536.23\", \"performance\": 10.0}, {\"Name\": \"EfficientNet-L 100% FP16\", \"arith_intens\": \"914.15\", \"performance\": 10.0}, {\"Name\": \"CNV 100% FP16\", \"arith_intens\": \"38.12\", \"performance\": 10.0}, {\"Name\": \"CNV 50% FP16\", \"arith_intens\": \"38.54\", \"performance\": 10.0}, {\"Name\": \"CNV 25% FP16\", \"arith_intens\": \"39.38\", \"performance\": 10.0}, {\"Name\": \"CNV 12.5% FP16\", \"arith_intens\": \"41.58\", \"performance\": 10.0}, {\"Name\": \"MLP* FP16\", \"arith_intens\": \"1\", \"performance\": 10.0}, {\"Name\": \"GoogLeNetv1 100% FP16\", \"arith_intens\": \"261.75\", \"performance\": 0.1}, {\"Name\": \"MobileNetv1 100% FP16\", \"arith_intens\": \"134.43\", \"performance\": 0.1}, {\"Name\": \"ResNet-50 100% FP16\", \"arith_intens\": \"151.36\", \"performance\": 0.1}, {\"Name\": \"ResNet-50 80% FP16\", \"arith_intens\": \"135.82\", \"performance\": 0.1}, {\"Name\": \"ResNet-50 50% FP16\", \"arith_intens\": \"118.73\", \"performance\": 0.1}, {\"Name\": \"ResNet-50 30% FP16\", \"arith_intens\": \"121.27\", \"performance\": 0.1}, {\"Name\": \"EfficientNet-S 100% FP16\", \"arith_intens\": \"435.18\", \"performance\": 0.1}, {\"Name\": \"EfficientNet-M 100% FP16\", \"arith_intens\": \"536.23\", \"performance\": 0.1}, {\"Name\": \"EfficientNet-L 100% FP16\", \"arith_intens\": \"914.15\", \"performance\": 0.1}, {\"Name\": \"CNV 100% FP16\", \"arith_intens\": \"38.12\", \"performance\": 0.1}, {\"Name\": \"CNV 50% FP16\", \"arith_intens\": \"38.54\", \"performance\": 0.1}, {\"Name\": \"CNV 25% FP16\", \"arith_intens\": \"39.38\", \"performance\": 0.1}, {\"Name\": \"CNV 12.5% FP16\", \"arith_intens\": \"41.58\", \"performance\": 0.1}, {\"Name\": \"MLP* FP16\", \"arith_intens\": \"1\", \"performance\": 0.1}], \"data-418374172fbb8cf21bf0f98b22dda29b\": [{\"Name\": \"GoogLeNetv1 100% FP32\", \"arith_intens\": \"130.87\", \"performance\": 30.0}, {\"Name\": \"MobileNetv1 100% FP32\", \"arith_intens\": \"67.22\", \"performance\": 30.0}, {\"Name\": \"ResNet-50 100% FP32\", \"arith_intens\": \"75.68\", \"performance\": 30.0}, {\"Name\": \"ResNet-50 80% FP32\", \"arith_intens\": \"67.91\", \"performance\": 30.0}, {\"Name\": \"ResNet-50 50% FP32\", \"arith_intens\": \"59.37\", \"performance\": 30.0}, {\"Name\": \"ResNet-50 30% FP32\", \"arith_intens\": \"60.64\", \"performance\": 30.0}, {\"Name\": \"EfficientNet-S 100% FP32\", \"arith_intens\": \"217.59\", \"performance\": 30.0}, {\"Name\": \"EfficientNet-M 100% FP32\", \"arith_intens\": \"268.12\", \"performance\": 30.0}, {\"Name\": \"EfficientNet-L 100% FP32\", \"arith_intens\": \"457.08\", \"performance\": 30.0}, {\"Name\": \"CNV 100% FP32\", \"arith_intens\": \"19.06\", \"performance\": 30.0}, {\"Name\": \"CNV 50% FP32\", \"arith_intens\": \"19.27\", \"performance\": 30.0}, {\"Name\": \"CNV 25% FP32\", \"arith_intens\": \"19.69\", \"performance\": 30.0}, {\"Name\": \"CNV 12.5% FP32\", \"arith_intens\": \"20.79\", \"performance\": 30.0}, {\"Name\": \"MLP* FP32\", \"arith_intens\": \"0.5\", \"performance\": 30.0}, {\"Name\": \"GoogLeNetv1 100% FP32\", \"arith_intens\": \"130.87\", \"performance\": 1.0}, {\"Name\": \"MobileNetv1 100% FP32\", \"arith_intens\": \"67.22\", \"performance\": 1.0}, {\"Name\": \"ResNet-50 100% FP32\", \"arith_intens\": \"75.68\", \"performance\": 1.0}, {\"Name\": \"ResNet-50 80% FP32\", \"arith_intens\": \"67.91\", \"performance\": 1.0}, {\"Name\": \"ResNet-50 50% FP32\", \"arith_intens\": \"59.37\", \"performance\": 1.0}, {\"Name\": \"ResNet-50 30% FP32\", \"arith_intens\": \"60.64\", \"performance\": 1.0}, {\"Name\": \"EfficientNet-S 100% FP32\", \"arith_intens\": \"217.59\", \"performance\": 1.0}, {\"Name\": \"EfficientNet-M 100% FP32\", \"arith_intens\": \"268.12\", \"performance\": 1.0}, {\"Name\": \"EfficientNet-L 100% FP32\", \"arith_intens\": \"457.08\", \"performance\": 1.0}, {\"Name\": \"CNV 100% FP32\", \"arith_intens\": \"19.06\", \"performance\": 1.0}, {\"Name\": \"CNV 50% FP32\", \"arith_intens\": \"19.27\", \"performance\": 1.0}, {\"Name\": \"CNV 25% FP32\", \"arith_intens\": \"19.69\", \"performance\": 1.0}, {\"Name\": \"CNV 12.5% FP32\", \"arith_intens\": \"20.79\", \"performance\": 1.0}, {\"Name\": \"MLP* FP32\", \"arith_intens\": \"0.5\", \"performance\": 1.0}, {\"Name\": \"GoogLeNetv1 100% FP32\", \"arith_intens\": \"130.87\", \"performance\": 10.0}, {\"Name\": \"MobileNetv1 100% FP32\", \"arith_intens\": \"67.22\", \"performance\": 10.0}, {\"Name\": \"ResNet-50 100% FP32\", \"arith_intens\": \"75.68\", \"performance\": 10.0}, {\"Name\": \"ResNet-50 80% FP32\", \"arith_intens\": \"67.91\", \"performance\": 10.0}, {\"Name\": \"ResNet-50 50% FP32\", \"arith_intens\": \"59.37\", \"performance\": 10.0}, {\"Name\": \"ResNet-50 30% FP32\", \"arith_intens\": \"60.64\", \"performance\": 10.0}, {\"Name\": \"EfficientNet-S 100% FP32\", \"arith_intens\": \"217.59\", \"performance\": 10.0}, {\"Name\": \"EfficientNet-M 100% FP32\", \"arith_intens\": \"268.12\", \"performance\": 10.0}, {\"Name\": \"EfficientNet-L 100% FP32\", \"arith_intens\": \"457.08\", \"performance\": 10.0}, {\"Name\": \"CNV 100% FP32\", \"arith_intens\": \"19.06\", \"performance\": 10.0}, {\"Name\": \"CNV 50% FP32\", \"arith_intens\": \"19.27\", \"performance\": 10.0}, {\"Name\": \"CNV 25% FP32\", \"arith_intens\": \"19.69\", \"performance\": 10.0}, {\"Name\": \"CNV 12.5% FP32\", \"arith_intens\": \"20.79\", \"performance\": 10.0}, {\"Name\": \"MLP* FP32\", \"arith_intens\": \"0.5\", \"performance\": 10.0}, {\"Name\": \"GoogLeNetv1 100% FP32\", \"arith_intens\": \"130.87\", \"performance\": 0.1}, {\"Name\": \"MobileNetv1 100% FP32\", \"arith_intens\": \"67.22\", \"performance\": 0.1}, {\"Name\": \"ResNet-50 100% FP32\", \"arith_intens\": \"75.68\", \"performance\": 0.1}, {\"Name\": \"ResNet-50 80% FP32\", \"arith_intens\": \"67.91\", \"performance\": 0.1}, {\"Name\": \"ResNet-50 50% FP32\", \"arith_intens\": \"59.37\", \"performance\": 0.1}, {\"Name\": \"ResNet-50 30% FP32\", \"arith_intens\": \"60.64\", \"performance\": 0.1}, {\"Name\": \"EfficientNet-S 100% FP32\", \"arith_intens\": \"217.59\", \"performance\": 0.1}, {\"Name\": \"EfficientNet-M 100% FP32\", \"arith_intens\": \"268.12\", \"performance\": 0.1}, {\"Name\": \"EfficientNet-L 100% FP32\", \"arith_intens\": \"457.08\", \"performance\": 0.1}, {\"Name\": \"CNV 100% FP32\", \"arith_intens\": \"19.06\", \"performance\": 0.1}, {\"Name\": \"CNV 50% FP32\", \"arith_intens\": \"19.27\", \"performance\": 0.1}, {\"Name\": \"CNV 25% FP32\", \"arith_intens\": \"19.69\", \"performance\": 0.1}, {\"Name\": \"CNV 12.5% FP32\", \"arith_intens\": \"20.79\", \"performance\": 0.1}, {\"Name\": \"MLP* FP32\", \"arith_intens\": \"0.5\", \"performance\": 0.1}], \"data-5552f4bc2ea0b8077236233d9362be7f\": [{\"Name\": \"Ultra96 DPU INT8\", \"arith_intens\": 12.1, \"performance\": 0.051545999999999995}, {\"Name\": \"Ultra96 DPU INT8\", \"arith_intens\": 226.1, \"performance\": 0.96}, {\"Name\": \"Ultra96 DPU INT8\", \"arith_intens\": 160000, \"performance\": 0.96}, {\"Name\": \"ZCU104 INT8\", \"arith_intens\": 3.1, \"performance\": 0.059519999999999997}, {\"Name\": \"ZCU104 INT8\", \"arith_intens\": 240.1, \"performance\": 4.6}, {\"Name\": \"ZCU104 INT8\", \"arith_intens\": 160000, \"performance\": 4.6}, {\"Name\": \"ZCU102 INT8\", \"arith_intens\": 3.1, \"performance\": 0.059519999999999997}, {\"Name\": \"ZCU102 INT8\", \"arith_intens\": 350.1, \"performance\": 6.71}, {\"Name\": \"ZCU102 INT8\", \"arith_intens\": 160000, \"performance\": 6.71}, {\"Name\": \"ZCU104 FINN INT2\", \"arith_intens\": 3.1, \"performance\": 0.059519999999999997}, {\"Name\": \"ZCU104 FINN INT2\", \"arith_intens\": 1599.1, \"performance\": 30.7}, {\"Name\": \"ZCU104 FINN INT2\", \"arith_intens\": 160000, \"performance\": 30.7}, {\"Name\": \"ZCU104 FINN INT4\", \"arith_intens\": 3.1, \"performance\": 0.059519999999999997}, {\"Name\": \"ZCU104 FINN INT4\", \"arith_intens\": 459.1, \"performance\": 8.8}, {\"Name\": \"ZCU104 FINN INT4\", \"arith_intens\": 160000, \"performance\": 8.8}, {\"Name\": \"ZCU104 BISMO INT2\", \"arith_intens\": 3.1, \"performance\": 0.059519999999999997}, {\"Name\": \"ZCU104 BISMO INT2\", \"arith_intens\": 1599.1, \"performance\": 30.7}, {\"Name\": \"ZCU104 BISMO INT2\", \"arith_intens\": 160000, \"performance\": 30.7}, {\"Name\": \"ZCU104 BISMO INT4\", \"arith_intens\": 3.1, \"performance\": 0.059519999999999997}, {\"Name\": \"ZCU104 BISMO INT4\", \"arith_intens\": 459.1, \"performance\": 8.8}, {\"Name\": \"ZCU104 BISMO INT4\", \"arith_intens\": 160000, \"performance\": 8.8}], \"data-59f79b70ac26650ee16fb33e419a4cdd\": [{\"Name\": \"TX2 maxn FP16\", \"arith_intens\": 1.1, \"performance\": 0.06567}, {\"Name\": \"TX2 maxn FP16\", \"arith_intens\": 23.1, \"performance\": 1.33}, {\"Name\": \"TX2 maxn FP16\", \"arith_intens\": 160000, \"performance\": 1.33}, {\"Name\": \"TX2 maxn FP32\", \"arith_intens\": 1.1, \"performance\": 0.06567}, {\"Name\": \"TX2 maxn FP32\", \"arith_intens\": 12.1, \"performance\": 0.67}, {\"Name\": \"TX2 maxn FP32\", \"arith_intens\": 160000, \"performance\": 0.67}, {\"Name\": \"TX2 maxp FP16\", \"arith_intens\": 1.1, \"performance\": 0.06567}, {\"Name\": \"TX2 maxp FP16\", \"arith_intens\": 20.1, \"performance\": 1.15}, {\"Name\": \"TX2 maxp FP16\", \"arith_intens\": 160000, \"performance\": 1.15}, {\"Name\": \"TX2 maxp FP32\", \"arith_intens\": 1.1, \"performance\": 0.06567}, {\"Name\": \"TX2 maxp FP32\", \"arith_intens\": 10.1, \"performance\": 0.57}, {\"Name\": \"TX2 maxp FP32\", \"arith_intens\": 160000, \"performance\": 0.57}, {\"Name\": \"TX2 maxq FP16\", \"arith_intens\": 1.1, \"performance\": 0.06567}, {\"Name\": \"TX2 maxq FP16\", \"arith_intens\": 15.1, \"performance\": 0.87}, {\"Name\": \"TX2 maxq FP16\", \"arith_intens\": 160000, \"performance\": 0.87}, {\"Name\": \"TX2 maxq FP32\", \"arith_intens\": 1.1, \"performance\": 0.06567}, {\"Name\": \"TX2 maxq FP32\", \"arith_intens\": 8.1, \"performance\": 0.44}, {\"Name\": \"TX2 maxq FP32\", \"arith_intens\": 160000, \"performance\": 0.44}], \"data-92df3446d2c065332553eb9ffb7dae17\": [{\"Name\": \"EdgeTPU fast INT8\", \"arith_intens\": 2.1, \"performance\": 0.05376}, {\"Name\": \"EdgeTPU fast INT8\", \"arith_intens\": 157.1, \"performance\": 4.0}, {\"Name\": \"EdgeTPU fast INT8\", \"arith_intens\": 160000, \"performance\": 4.0}, {\"Name\": \"EdgeTPU slow INT8\", \"arith_intens\": 2.1, \"performance\": 0.05376}, {\"Name\": \"EdgeTPU slow INT8\", \"arith_intens\": 79.1, \"performance\": 2.0}, {\"Name\": \"EdgeTPU slow INT8\", \"arith_intens\": 160000, \"performance\": 2.0}], \"data-3745a47dbf1f6c5f2af65983be61a8e2\": [{\"Name\": \"NCS INT8\", \"arith_intens\": 4.1, \"performance\": 0.05248}, {\"Name\": \"NCS INT8\", \"arith_intens\": 79.1, \"performance\": 1.0}, {\"Name\": \"NCS INT8\", \"arith_intens\": 160000, \"performance\": 1.0}, {\"Name\": \"NCS FP16\", \"arith_intens\": 4.1, \"performance\": 0.05248}, {\"Name\": \"NCS FP16\", \"arith_intens\": 39.1, \"performance\": 0.5}, {\"Name\": \"NCS FP16\", \"arith_intens\": 160000, \"performance\": 0.5}]}}, {\"mode\": \"vega-lite\"});\n",
       "</script>"
      ],
      "text/plain": [
       "alt.LayerChart(...)"
      ]
     },
     "execution_count": 10,
     "metadata": {},
     "output_type": "execute_result"
    }
   ],
   "source": [
    "#hide_input\n",
    "# Run the Rooflines script which processes the data and creates the chart\n",
    "%run scripts/altair_plots.py\n",
    "rooflines('imagenet|mnist|cifar')"
   ]
  },
  {
   "cell_type": "markdown",
   "metadata": {},
   "source": [
    "*Applies to the following pruning factors: 100%, 50%, 25% and 12,5% "
   ]
  },
  {
   "cell_type": "markdown",
   "metadata": {},
   "source": [
    "# Performance Prediction"
   ]
  },
  {
   "cell_type": "markdown",
   "metadata": {},
   "source": [
    "The following heatmaps show the theoretical performance for the listed hardware platforms across the various machine learning tasks: MNIST, ImageNet and CIFAR-10. The metric used for the theoretical performance is input/second."
   ]
  },
  {
   "cell_type": "code",
   "execution_count": 11,
   "metadata": {},
   "outputs": [],
   "source": [
    "#hide\n",
    "# First process the unfiltered csv and save it as a pretty csv ready to plotted as a heatmap\n",
    "#%run scripts/script_load_save_data.py\n",
    "#have to change clean_csv_performance_predictions to process the right csv the right way\n",
    "#clean_csv_performance_predictions('c:/Users/alinav/Documents/GitHub/QutibenchWeb/_notebooks/data/performance_predictions_imagenet_mnist_cifar.csv')"
   ]
  },
  {
   "cell_type": "markdown",
   "metadata": {},
   "source": [
    "### MNIST"
   ]
  },
  {
   "cell_type": "markdown",
   "metadata": {},
   "source": [
    "For MNIST, quantization combined with pruning deliver some of best performance results."
   ]
  },
  {
   "cell_type": "code",
   "execution_count": 19,
   "metadata": {},
   "outputs": [
    {
     "data": {
      "text/html": [
       "\n",
       "<div id=\"altair-viz-f9012f67148e4ecfbb53058eaa633bd5\"></div>\n",
       "<script type=\"text/javascript\">\n",
       "  (function(spec, embedOpt){\n",
       "    let outputDiv = document.currentScript.previousElementSibling;\n",
       "    if (outputDiv.id !== \"altair-viz-f9012f67148e4ecfbb53058eaa633bd5\") {\n",
       "      outputDiv = document.getElementById(\"altair-viz-f9012f67148e4ecfbb53058eaa633bd5\");\n",
       "    }\n",
       "    const paths = {\n",
       "      \"vega\": \"https://cdn.jsdelivr.net/npm//vega@5?noext\",\n",
       "      \"vega-lib\": \"https://cdn.jsdelivr.net/npm//vega-lib?noext\",\n",
       "      \"vega-lite\": \"https://cdn.jsdelivr.net/npm//vega-lite@4.8.1?noext\",\n",
       "      \"vega-embed\": \"https://cdn.jsdelivr.net/npm//vega-embed@6?noext\",\n",
       "    };\n",
       "\n",
       "    function loadScript(lib) {\n",
       "      return new Promise(function(resolve, reject) {\n",
       "        var s = document.createElement('script');\n",
       "        s.src = paths[lib];\n",
       "        s.async = true;\n",
       "        s.onload = () => resolve(paths[lib]);\n",
       "        s.onerror = () => reject(`Error loading script: ${paths[lib]}`);\n",
       "        document.getElementsByTagName(\"head\")[0].appendChild(s);\n",
       "      });\n",
       "    }\n",
       "\n",
       "    function showError(err) {\n",
       "      outputDiv.innerHTML = `<div class=\"error\" style=\"color:red;\">${err}</div>`;\n",
       "      throw err;\n",
       "    }\n",
       "\n",
       "    function displayChart(vegaEmbed) {\n",
       "      vegaEmbed(outputDiv, spec, embedOpt)\n",
       "        .catch(err => showError(`Javascript Error: ${err.message}<br>This usually means there's a typo in your chart specification. See the javascript console for the full traceback.`));\n",
       "    }\n",
       "\n",
       "    if(typeof define === \"function\" && define.amd) {\n",
       "      requirejs.config({paths});\n",
       "      require([\"vega-embed\"], displayChart, err => showError(`Error loading script: ${err.message}`));\n",
       "    } else if (typeof vegaEmbed === \"function\") {\n",
       "      displayChart(vegaEmbed);\n",
       "    } else {\n",
       "      loadScript(\"vega\")\n",
       "        .then(() => loadScript(\"vega-lite\"))\n",
       "        .then(() => loadScript(\"vega-embed\"))\n",
       "        .catch(showError)\n",
       "        .then(() => displayChart(vegaEmbed));\n",
       "    }\n",
       "  })({\"config\": {\"view\": {\"continuousWidth\": 400, \"continuousHeight\": 300}}, \"layer\": [{\"mark\": {\"type\": \"rect\", \"invalid\": null, \"stroke\": \"black\", \"strokeWidth\": 1}, \"encoding\": {\"color\": {\"type\": \"quantitative\", \"field\": \"values\", \"scale\": {\"scheme\": \"lightmulti\", \"type\": \"log\"}, \"title\": \"Input/second\"}, \"tooltip\": [{\"type\": \"quantitative\", \"field\": \"values\", \"title\": \"Input/sec\"}, {\"type\": \"nominal\", \"field\": \"x\", \"title\": \"Model\"}, {\"type\": \"nominal\", \"field\": \"y\", \"title\": \"Hardware Platform\"}], \"x\": {\"type\": \"ordinal\", \"field\": \"x\", \"title\": \"Models\"}, \"y\": {\"type\": \"ordinal\", \"field\": \"y\", \"title\": \"Hardware Platforms\"}}, \"height\": 350, \"selection\": {\"selector012\": {\"type\": \"single\", \"on\": \"mouseover\", \"nearest\": true}}, \"title\": \"Performance Prediction for MNIST\", \"width\": 700}, {\"mark\": {\"type\": \"text\", \"color\": \"white\"}, \"encoding\": {\"color\": {\"condition\": {\"value\": \"black\", \"test\": \"(datum.values > 1)\"}, \"value\": \"white\"}, \"text\": {\"type\": \"quantitative\", \"field\": \"values\", \"format\": \".0f\"}, \"tooltip\": [{\"type\": \"quantitative\", \"field\": \"values\", \"format\": \".0f\", \"title\": \"Input/sec\"}, {\"type\": \"nominal\", \"field\": \"x\", \"title\": \"Model\"}, {\"type\": \"nominal\", \"field\": \"y\", \"title\": \"Hardware Platform\"}], \"x\": {\"type\": \"ordinal\", \"field\": \"x\", \"title\": \"Models\"}, \"y\": {\"type\": \"ordinal\", \"field\": \"y\", \"title\": \"Hardware Platforms\"}}}], \"data\": {\"name\": \"data-0d7d7841818bfe1edc369a878c1bdc0b\"}, \"$schema\": \"https://vega.github.io/schema/vega-lite/v4.8.1.json\", \"datasets\": {\"data-0d7d7841818bfe1edc369a878c1bdc0b\": [{\"y\": \"Ultra96-DPU_INT8\", \"x\": \"MLP_100_INT2\", \"values\": null}, {\"y\": \"ZCU104-DPU_INT8\", \"x\": \"MLP_100_INT2\", \"values\": null}, {\"y\": \"ZCU102-DPU_INT8\", \"x\": \"MLP_100_INT2\", \"values\": null}, {\"y\": \"ZCU104-FINN_INT2\", \"x\": \"MLP_100_INT2\", \"values\": 7680.0}, {\"y\": \"ZCU104-FINN_INT4\", \"x\": \"MLP_100_INT2\", \"values\": null}, {\"y\": \"ZCU104-BISMO_INT2\", \"x\": \"MLP_100_INT2\", \"values\": 7680.0}, {\"y\": \"ZCU104-BISMO_INT4\", \"x\": \"MLP_100_INT2\", \"values\": null}, {\"y\": \"TX2-maxn_FP16\", \"x\": \"MLP_100_INT2\", \"values\": null}, {\"y\": \"TX2-maxn_FP32\", \"x\": \"MLP_100_INT2\", \"values\": null}, {\"y\": \"TX2-maxp_FP16\", \"x\": \"MLP_100_INT2\", \"values\": null}, {\"y\": \"TX2-maxp_FP32\", \"x\": \"MLP_100_INT2\", \"values\": null}, {\"y\": \"TX2-maxq_FP16\", \"x\": \"MLP_100_INT2\", \"values\": null}, {\"y\": \"TX2-maxq_FP32\", \"x\": \"MLP_100_INT2\", \"values\": null}, {\"y\": \"EdgeTPU-fast_INT8\", \"x\": \"MLP_100_INT2\", \"values\": null}, {\"y\": \"EdgeTPU-slow_INT8\", \"x\": \"MLP_100_INT2\", \"values\": null}, {\"y\": \"NCS_INT8\", \"x\": \"MLP_100_INT2\", \"values\": null}, {\"y\": \"NCS_FP16\", \"x\": \"MLP_100_INT2\", \"values\": null}, {\"y\": \"U96-Quadcore-A53_INT8\", \"x\": \"MLP_100_INT2\", \"values\": 1704.0}, {\"y\": \"Ultra96-DPU_INT8\", \"x\": \"MLP_100_INT4\", \"values\": null}, {\"y\": \"ZCU104-DPU_INT8\", \"x\": \"MLP_100_INT4\", \"values\": null}, {\"y\": \"ZCU102-DPU_INT8\", \"x\": \"MLP_100_INT4\", \"values\": null}, {\"y\": \"ZCU104-FINN_INT2\", \"x\": \"MLP_100_INT4\", \"values\": null}, {\"y\": \"ZCU104-FINN_INT4\", \"x\": \"MLP_100_INT4\", \"values\": 3840.0}, {\"y\": \"ZCU104-BISMO_INT2\", \"x\": \"MLP_100_INT4\", \"values\": null}, {\"y\": \"ZCU104-BISMO_INT4\", \"x\": \"MLP_100_INT4\", \"values\": 3840.0}, {\"y\": \"TX2-maxn_FP16\", \"x\": \"MLP_100_INT4\", \"values\": null}, {\"y\": \"TX2-maxn_FP32\", \"x\": \"MLP_100_INT4\", \"values\": null}, {\"y\": \"TX2-maxp_FP16\", \"x\": \"MLP_100_INT4\", \"values\": null}, {\"y\": \"TX2-maxp_FP32\", \"x\": \"MLP_100_INT4\", \"values\": null}, {\"y\": \"TX2-maxq_FP16\", \"x\": \"MLP_100_INT4\", \"values\": null}, {\"y\": \"TX2-maxq_FP32\", \"x\": \"MLP_100_INT4\", \"values\": null}, {\"y\": \"EdgeTPU-fast_INT8\", \"x\": \"MLP_100_INT4\", \"values\": null}, {\"y\": \"EdgeTPU-slow_INT8\", \"x\": \"MLP_100_INT4\", \"values\": null}, {\"y\": \"NCS_INT8\", \"x\": \"MLP_100_INT4\", \"values\": null}, {\"y\": \"NCS_FP16\", \"x\": \"MLP_100_INT4\", \"values\": null}, {\"y\": \"U96-Quadcore-A53_INT8\", \"x\": \"MLP_100_INT4\", \"values\": 852.0}, {\"y\": \"Ultra96-DPU_INT8\", \"x\": \"MLP_100_FP16\", \"values\": null}, {\"y\": \"ZCU104-DPU_INT8\", \"x\": \"MLP_100_FP16\", \"values\": null}, {\"y\": \"ZCU102-DPU_INT8\", \"x\": \"MLP_100_FP16\", \"values\": null}, {\"y\": \"ZCU104-FINN_INT2\", \"x\": \"MLP_100_FP16\", \"values\": null}, {\"y\": \"ZCU104-FINN_INT4\", \"x\": \"MLP_100_FP16\", \"values\": null}, {\"y\": \"ZCU104-BISMO_INT2\", \"x\": \"MLP_100_FP16\", \"values\": null}, {\"y\": \"ZCU104-BISMO_INT4\", \"x\": \"MLP_100_FP16\", \"values\": null}, {\"y\": \"TX2-maxn_FP16\", \"x\": \"MLP_100_FP16\", \"values\": 2985.0}, {\"y\": \"TX2-maxn_FP32\", \"x\": \"MLP_100_FP16\", \"values\": null}, {\"y\": \"TX2-maxp_FP16\", \"x\": \"MLP_100_FP16\", \"values\": 2985.0}, {\"y\": \"TX2-maxp_FP32\", \"x\": \"MLP_100_FP16\", \"values\": null}, {\"y\": \"TX2-maxq_FP16\", \"x\": \"MLP_100_FP16\", \"values\": 2985.0}, {\"y\": \"TX2-maxq_FP32\", \"x\": \"MLP_100_FP16\", \"values\": null}, {\"y\": \"EdgeTPU-fast_INT8\", \"x\": \"MLP_100_FP16\", \"values\": null}, {\"y\": \"EdgeTPU-slow_INT8\", \"x\": \"MLP_100_FP16\", \"values\": null}, {\"y\": \"NCS_INT8\", \"x\": \"MLP_100_FP16\", \"values\": null}, {\"y\": \"NCS_FP16\", \"x\": \"MLP_100_FP16\", \"values\": 640.0}, {\"y\": \"U96-Quadcore-A53_INT8\", \"x\": \"MLP_100_FP16\", \"values\": null}, {\"y\": \"Ultra96-DPU_INT8\", \"x\": \"MLP_100_FP32\", \"values\": null}, {\"y\": \"ZCU104-DPU_INT8\", \"x\": \"MLP_100_FP32\", \"values\": null}, {\"y\": \"ZCU102-DPU_INT8\", \"x\": \"MLP_100_FP32\", \"values\": null}, {\"y\": \"ZCU104-FINN_INT2\", \"x\": \"MLP_100_FP32\", \"values\": null}, {\"y\": \"ZCU104-FINN_INT4\", \"x\": \"MLP_100_FP32\", \"values\": null}, {\"y\": \"ZCU104-BISMO_INT2\", \"x\": \"MLP_100_FP32\", \"values\": null}, {\"y\": \"ZCU104-BISMO_INT4\", \"x\": \"MLP_100_FP32\", \"values\": null}, {\"y\": \"TX2-maxn_FP16\", \"x\": \"MLP_100_FP32\", \"values\": null}, {\"y\": \"TX2-maxn_FP32\", \"x\": \"MLP_100_FP32\", \"values\": 1492.5}, {\"y\": \"TX2-maxp_FP16\", \"x\": \"MLP_100_FP32\", \"values\": null}, {\"y\": \"TX2-maxp_FP32\", \"x\": \"MLP_100_FP32\", \"values\": 1492.5}, {\"y\": \"TX2-maxq_FP16\", \"x\": \"MLP_100_FP32\", \"values\": null}, {\"y\": \"TX2-maxq_FP32\", \"x\": \"MLP_100_FP32\", \"values\": 1492.5}, {\"y\": \"EdgeTPU-fast_INT8\", \"x\": \"MLP_100_FP32\", \"values\": null}, {\"y\": \"EdgeTPU-slow_INT8\", \"x\": \"MLP_100_FP32\", \"values\": null}, {\"y\": \"NCS_INT8\", \"x\": \"MLP_100_FP32\", \"values\": null}, {\"y\": \"NCS_FP16\", \"x\": \"MLP_100_FP32\", \"values\": null}, {\"y\": \"U96-Quadcore-A53_INT8\", \"x\": \"MLP_100_FP32\", \"values\": null}, {\"y\": \"Ultra96-DPU_INT8\", \"x\": \"MLP_50_INT2\", \"values\": null}, {\"y\": \"ZCU104-DPU_INT8\", \"x\": \"MLP_50_INT2\", \"values\": null}, {\"y\": \"ZCU102-DPU_INT8\", \"x\": \"MLP_50_INT2\", \"values\": null}, {\"y\": \"ZCU104-FINN_INT2\", \"x\": \"MLP_50_INT2\", \"values\": 25600.0}, {\"y\": \"ZCU104-FINN_INT4\", \"x\": \"MLP_50_INT2\", \"values\": null}, {\"y\": \"ZCU104-BISMO_INT2\", \"x\": \"MLP_50_INT2\", \"values\": 25600.0}, {\"y\": \"ZCU104-BISMO_INT4\", \"x\": \"MLP_50_INT2\", \"values\": null}, {\"y\": \"TX2-maxn_FP16\", \"x\": \"MLP_50_INT2\", \"values\": null}, {\"y\": \"TX2-maxn_FP32\", \"x\": \"MLP_50_INT2\", \"values\": null}, {\"y\": \"TX2-maxp_FP16\", \"x\": \"MLP_50_INT2\", \"values\": null}, {\"y\": \"TX2-maxp_FP32\", \"x\": \"MLP_50_INT2\", \"values\": null}, {\"y\": \"TX2-maxq_FP16\", \"x\": \"MLP_50_INT2\", \"values\": null}, {\"y\": \"TX2-maxq_FP32\", \"x\": \"MLP_50_INT2\", \"values\": null}, {\"y\": \"EdgeTPU-fast_INT8\", \"x\": \"MLP_50_INT2\", \"values\": null}, {\"y\": \"EdgeTPU-slow_INT8\", \"x\": \"MLP_50_INT2\", \"values\": null}, {\"y\": \"NCS_INT8\", \"x\": \"MLP_50_INT2\", \"values\": null}, {\"y\": \"NCS_FP16\", \"x\": \"MLP_50_INT2\", \"values\": null}, {\"y\": \"U96-Quadcore-A53_INT8\", \"x\": \"MLP_50_INT2\", \"values\": 5680.0}, {\"y\": \"Ultra96-DPU_INT8\", \"x\": \"MLP_50_INT4\", \"values\": null}, {\"y\": \"ZCU104-DPU_INT8\", \"x\": \"MLP_50_INT4\", \"values\": null}, {\"y\": \"ZCU102-DPU_INT8\", \"x\": \"MLP_50_INT4\", \"values\": null}, {\"y\": \"ZCU104-FINN_INT2\", \"x\": \"MLP_50_INT4\", \"values\": null}, {\"y\": \"ZCU104-FINN_INT4\", \"x\": \"MLP_50_INT4\", \"values\": 12800.0}, {\"y\": \"ZCU104-BISMO_INT2\", \"x\": \"MLP_50_INT4\", \"values\": null}, {\"y\": \"ZCU104-BISMO_INT4\", \"x\": \"MLP_50_INT4\", \"values\": 12800.0}, {\"y\": \"TX2-maxn_FP16\", \"x\": \"MLP_50_INT4\", \"values\": null}, {\"y\": \"TX2-maxn_FP32\", \"x\": \"MLP_50_INT4\", \"values\": null}, {\"y\": \"TX2-maxp_FP16\", \"x\": \"MLP_50_INT4\", \"values\": null}, {\"y\": \"TX2-maxp_FP32\", \"x\": \"MLP_50_INT4\", \"values\": null}, {\"y\": \"TX2-maxq_FP16\", \"x\": \"MLP_50_INT4\", \"values\": null}, {\"y\": \"TX2-maxq_FP32\", \"x\": \"MLP_50_INT4\", \"values\": null}, {\"y\": \"EdgeTPU-fast_INT8\", \"x\": \"MLP_50_INT4\", \"values\": null}, {\"y\": \"EdgeTPU-slow_INT8\", \"x\": \"MLP_50_INT4\", \"values\": null}, {\"y\": \"NCS_INT8\", \"x\": \"MLP_50_INT4\", \"values\": null}, {\"y\": \"NCS_FP16\", \"x\": \"MLP_50_INT4\", \"values\": null}, {\"y\": \"U96-Quadcore-A53_INT8\", \"x\": \"MLP_50_INT4\", \"values\": 2840.0}, {\"y\": \"Ultra96-DPU_INT8\", \"x\": \"MLP_50_FP16\", \"values\": null}, {\"y\": \"ZCU104-DPU_INT8\", \"x\": \"MLP_50_FP16\", \"values\": null}, {\"y\": \"ZCU102-DPU_INT8\", \"x\": \"MLP_50_FP16\", \"values\": null}, {\"y\": \"ZCU104-FINN_INT2\", \"x\": \"MLP_50_FP16\", \"values\": null}, {\"y\": \"ZCU104-FINN_INT4\", \"x\": \"MLP_50_FP16\", \"values\": null}, {\"y\": \"ZCU104-BISMO_INT2\", \"x\": \"MLP_50_FP16\", \"values\": null}, {\"y\": \"ZCU104-BISMO_INT4\", \"x\": \"MLP_50_FP16\", \"values\": null}, {\"y\": \"TX2-maxn_FP16\", \"x\": \"MLP_50_FP16\", \"values\": 9950.0}, {\"y\": \"TX2-maxn_FP32\", \"x\": \"MLP_50_FP16\", \"values\": null}, {\"y\": \"TX2-maxp_FP16\", \"x\": \"MLP_50_FP16\", \"values\": 9950.0}, {\"y\": \"TX2-maxp_FP32\", \"x\": \"MLP_50_FP16\", \"values\": null}, {\"y\": \"TX2-maxq_FP16\", \"x\": \"MLP_50_FP16\", \"values\": 9950.0}, {\"y\": \"TX2-maxq_FP32\", \"x\": \"MLP_50_FP16\", \"values\": null}, {\"y\": \"EdgeTPU-fast_INT8\", \"x\": \"MLP_50_FP16\", \"values\": null}, {\"y\": \"EdgeTPU-slow_INT8\", \"x\": \"MLP_50_FP16\", \"values\": null}, {\"y\": \"NCS_INT8\", \"x\": \"MLP_50_FP16\", \"values\": null}, {\"y\": \"NCS_FP16\", \"x\": \"MLP_50_FP16\", \"values\": 2133.333333}, {\"y\": \"U96-Quadcore-A53_INT8\", \"x\": \"MLP_50_FP16\", \"values\": null}, {\"y\": \"Ultra96-DPU_INT8\", \"x\": \"MLP_50_FP32\", \"values\": null}, {\"y\": \"ZCU104-DPU_INT8\", \"x\": \"MLP_50_FP32\", \"values\": null}, {\"y\": \"ZCU102-DPU_INT8\", \"x\": \"MLP_50_FP32\", \"values\": null}, {\"y\": \"ZCU104-FINN_INT2\", \"x\": \"MLP_50_FP32\", \"values\": null}, {\"y\": \"ZCU104-FINN_INT4\", \"x\": \"MLP_50_FP32\", \"values\": null}, {\"y\": \"ZCU104-BISMO_INT2\", \"x\": \"MLP_50_FP32\", \"values\": null}, {\"y\": \"ZCU104-BISMO_INT4\", \"x\": \"MLP_50_FP32\", \"values\": null}, {\"y\": \"TX2-maxn_FP16\", \"x\": \"MLP_50_FP32\", \"values\": null}, {\"y\": \"TX2-maxn_FP32\", \"x\": \"MLP_50_FP32\", \"values\": 4975.0}, {\"y\": \"TX2-maxp_FP16\", \"x\": \"MLP_50_FP32\", \"values\": null}, {\"y\": \"TX2-maxp_FP32\", \"x\": \"MLP_50_FP32\", \"values\": 4975.0}, {\"y\": \"TX2-maxq_FP16\", \"x\": \"MLP_50_FP32\", \"values\": null}, {\"y\": \"TX2-maxq_FP32\", \"x\": \"MLP_50_FP32\", \"values\": 4975.0}, {\"y\": \"EdgeTPU-fast_INT8\", \"x\": \"MLP_50_FP32\", \"values\": null}, {\"y\": \"EdgeTPU-slow_INT8\", \"x\": \"MLP_50_FP32\", \"values\": null}, {\"y\": \"NCS_INT8\", \"x\": \"MLP_50_FP32\", \"values\": null}, {\"y\": \"NCS_FP16\", \"x\": \"MLP_50_FP32\", \"values\": null}, {\"y\": \"U96-Quadcore-A53_INT8\", \"x\": \"MLP_50_FP32\", \"values\": null}, {\"y\": \"Ultra96-DPU_INT8\", \"x\": \"MLP_25_INT2\", \"values\": null}, {\"y\": \"ZCU104-DPU_INT8\", \"x\": \"MLP_25_INT2\", \"values\": null}, {\"y\": \"ZCU102-DPU_INT8\", \"x\": \"MLP_25_INT2\", \"values\": null}, {\"y\": \"ZCU104-FINN_INT2\", \"x\": \"MLP_25_INT2\", \"values\": 38400.0}, {\"y\": \"ZCU104-FINN_INT4\", \"x\": \"MLP_25_INT2\", \"values\": null}, {\"y\": \"ZCU104-BISMO_INT2\", \"x\": \"MLP_25_INT2\", \"values\": 76800.0}, {\"y\": \"ZCU104-BISMO_INT4\", \"x\": \"MLP_25_INT2\", \"values\": null}, {\"y\": \"TX2-maxn_FP16\", \"x\": \"MLP_25_INT2\", \"values\": null}, {\"y\": \"TX2-maxn_FP32\", \"x\": \"MLP_25_INT2\", \"values\": null}, {\"y\": \"TX2-maxp_FP16\", \"x\": \"MLP_25_INT2\", \"values\": null}, {\"y\": \"TX2-maxp_FP32\", \"x\": \"MLP_25_INT2\", \"values\": null}, {\"y\": \"TX2-maxq_FP16\", \"x\": \"MLP_25_INT2\", \"values\": null}, {\"y\": \"TX2-maxq_FP32\", \"x\": \"MLP_25_INT2\", \"values\": null}, {\"y\": \"EdgeTPU-fast_INT8\", \"x\": \"MLP_25_INT2\", \"values\": null}, {\"y\": \"EdgeTPU-slow_INT8\", \"x\": \"MLP_25_INT2\", \"values\": null}, {\"y\": \"NCS_INT8\", \"x\": \"MLP_25_INT2\", \"values\": null}, {\"y\": \"NCS_FP16\", \"x\": \"MLP_25_INT2\", \"values\": null}, {\"y\": \"U96-Quadcore-A53_INT8\", \"x\": \"MLP_25_INT2\", \"values\": 17040.0}, {\"y\": \"Ultra96-DPU_INT8\", \"x\": \"MLP_25_INT4\", \"values\": null}, {\"y\": \"ZCU104-DPU_INT8\", \"x\": \"MLP_25_INT4\", \"values\": null}, {\"y\": \"ZCU102-DPU_INT8\", \"x\": \"MLP_25_INT4\", \"values\": null}, {\"y\": \"ZCU104-FINN_INT2\", \"x\": \"MLP_25_INT4\", \"values\": null}, {\"y\": \"ZCU104-FINN_INT4\", \"x\": \"MLP_25_INT4\", \"values\": 38400.0}, {\"y\": \"ZCU104-BISMO_INT2\", \"x\": \"MLP_25_INT4\", \"values\": null}, {\"y\": \"ZCU104-BISMO_INT4\", \"x\": \"MLP_25_INT4\", \"values\": 38400.0}, {\"y\": \"TX2-maxn_FP16\", \"x\": \"MLP_25_INT4\", \"values\": null}, {\"y\": \"TX2-maxn_FP32\", \"x\": \"MLP_25_INT4\", \"values\": null}, {\"y\": \"TX2-maxp_FP16\", \"x\": \"MLP_25_INT4\", \"values\": null}, {\"y\": \"TX2-maxp_FP32\", \"x\": \"MLP_25_INT4\", \"values\": null}, {\"y\": \"TX2-maxq_FP16\", \"x\": \"MLP_25_INT4\", \"values\": null}, {\"y\": \"TX2-maxq_FP32\", \"x\": \"MLP_25_INT4\", \"values\": null}, {\"y\": \"EdgeTPU-fast_INT8\", \"x\": \"MLP_25_INT4\", \"values\": null}, {\"y\": \"EdgeTPU-slow_INT8\", \"x\": \"MLP_25_INT4\", \"values\": null}, {\"y\": \"NCS_INT8\", \"x\": \"MLP_25_INT4\", \"values\": null}, {\"y\": \"NCS_FP16\", \"x\": \"MLP_25_INT4\", \"values\": null}, {\"y\": \"U96-Quadcore-A53_INT8\", \"x\": \"MLP_25_INT4\", \"values\": 8520.0}, {\"y\": \"Ultra96-DPU_INT8\", \"x\": \"MLP_25_FP16\", \"values\": null}, {\"y\": \"ZCU104-DPU_INT8\", \"x\": \"MLP_25_FP16\", \"values\": null}, {\"y\": \"ZCU102-DPU_INT8\", \"x\": \"MLP_25_FP16\", \"values\": null}, {\"y\": \"ZCU104-FINN_INT2\", \"x\": \"MLP_25_FP16\", \"values\": null}, {\"y\": \"ZCU104-FINN_INT4\", \"x\": \"MLP_25_FP16\", \"values\": null}, {\"y\": \"ZCU104-BISMO_INT2\", \"x\": \"MLP_25_FP16\", \"values\": null}, {\"y\": \"ZCU104-BISMO_INT4\", \"x\": \"MLP_25_FP16\", \"values\": null}, {\"y\": \"TX2-maxn_FP16\", \"x\": \"MLP_25_FP16\", \"values\": 29850.0}, {\"y\": \"TX2-maxn_FP32\", \"x\": \"MLP_25_FP16\", \"values\": null}, {\"y\": \"TX2-maxp_FP16\", \"x\": \"MLP_25_FP16\", \"values\": 29850.0}, {\"y\": \"TX2-maxp_FP32\", \"x\": \"MLP_25_FP16\", \"values\": null}, {\"y\": \"TX2-maxq_FP16\", \"x\": \"MLP_25_FP16\", \"values\": 29850.0}, {\"y\": \"TX2-maxq_FP32\", \"x\": \"MLP_25_FP16\", \"values\": null}, {\"y\": \"EdgeTPU-fast_INT8\", \"x\": \"MLP_25_FP16\", \"values\": null}, {\"y\": \"EdgeTPU-slow_INT8\", \"x\": \"MLP_25_FP16\", \"values\": null}, {\"y\": \"NCS_INT8\", \"x\": \"MLP_25_FP16\", \"values\": null}, {\"y\": \"NCS_FP16\", \"x\": \"MLP_25_FP16\", \"values\": 6400.0}, {\"y\": \"U96-Quadcore-A53_INT8\", \"x\": \"MLP_25_FP16\", \"values\": null}, {\"y\": \"Ultra96-DPU_INT8\", \"x\": \"MLP_25_FP32\", \"values\": null}, {\"y\": \"ZCU104-DPU_INT8\", \"x\": \"MLP_25_FP32\", \"values\": null}, {\"y\": \"ZCU102-DPU_INT8\", \"x\": \"MLP_25_FP32\", \"values\": null}, {\"y\": \"ZCU104-FINN_INT2\", \"x\": \"MLP_25_FP32\", \"values\": null}, {\"y\": \"ZCU104-FINN_INT4\", \"x\": \"MLP_25_FP32\", \"values\": null}, {\"y\": \"ZCU104-BISMO_INT2\", \"x\": \"MLP_25_FP32\", \"values\": null}, {\"y\": \"ZCU104-BISMO_INT4\", \"x\": \"MLP_25_FP32\", \"values\": null}, {\"y\": \"TX2-maxn_FP16\", \"x\": \"MLP_25_FP32\", \"values\": null}, {\"y\": \"TX2-maxn_FP32\", \"x\": \"MLP_25_FP32\", \"values\": 14925.0}, {\"y\": \"TX2-maxp_FP16\", \"x\": \"MLP_25_FP32\", \"values\": null}, {\"y\": \"TX2-maxp_FP32\", \"x\": \"MLP_25_FP32\", \"values\": 14925.0}, {\"y\": \"TX2-maxq_FP16\", \"x\": \"MLP_25_FP32\", \"values\": null}, {\"y\": \"TX2-maxq_FP32\", \"x\": \"MLP_25_FP32\", \"values\": 14925.0}, {\"y\": \"EdgeTPU-fast_INT8\", \"x\": \"MLP_25_FP32\", \"values\": null}, {\"y\": \"EdgeTPU-slow_INT8\", \"x\": \"MLP_25_FP32\", \"values\": null}, {\"y\": \"NCS_INT8\", \"x\": \"MLP_25_FP32\", \"values\": null}, {\"y\": \"NCS_FP16\", \"x\": \"MLP_25_FP32\", \"values\": null}, {\"y\": \"U96-Quadcore-A53_INT8\", \"x\": \"MLP_25_FP32\", \"values\": null}, {\"y\": \"Ultra96-DPU_INT8\", \"x\": \"MLP_12.5_INT2\", \"values\": null}, {\"y\": \"ZCU104-DPU_INT8\", \"x\": \"MLP_12.5_INT2\", \"values\": null}, {\"y\": \"ZCU102-DPU_INT8\", \"x\": \"MLP_12.5_INT2\", \"values\": null}, {\"y\": \"ZCU104-FINN_INT2\", \"x\": \"MLP_12.5_INT2\", \"values\": 229709.0352}, {\"y\": \"ZCU104-FINN_INT4\", \"x\": \"MLP_12.5_INT2\", \"values\": null}, {\"y\": \"ZCU104-BISMO_INT2\", \"x\": \"MLP_12.5_INT2\", \"values\": 229709.0352}, {\"y\": \"ZCU104-BISMO_INT4\", \"x\": \"MLP_12.5_INT2\", \"values\": null}, {\"y\": \"TX2-maxn_FP16\", \"x\": \"MLP_12.5_INT2\", \"values\": null}, {\"y\": \"TX2-maxn_FP32\", \"x\": \"MLP_12.5_INT2\", \"values\": null}, {\"y\": \"TX2-maxp_FP16\", \"x\": \"MLP_12.5_INT2\", \"values\": null}, {\"y\": \"TX2-maxp_FP32\", \"x\": \"MLP_12.5_INT2\", \"values\": null}, {\"y\": \"TX2-maxq_FP16\", \"x\": \"MLP_12.5_INT2\", \"values\": null}, {\"y\": \"TX2-maxq_FP32\", \"x\": \"MLP_12.5_INT2\", \"values\": null}, {\"y\": \"EdgeTPU-fast_INT8\", \"x\": \"MLP_12.5_INT2\", \"values\": null}, {\"y\": \"EdgeTPU-slow_INT8\", \"x\": \"MLP_12.5_INT2\", \"values\": null}, {\"y\": \"NCS_INT8\", \"x\": \"MLP_12.5_INT2\", \"values\": null}, {\"y\": \"NCS_FP16\", \"x\": \"MLP_12.5_INT2\", \"values\": null}, {\"y\": \"U96-Quadcore-A53_INT8\", \"x\": \"MLP_12.5_INT2\", \"values\": 50966.692189999994}, {\"y\": \"Ultra96-DPU_INT8\", \"x\": \"MLP_12.5_INT4\", \"values\": null}, {\"y\": \"ZCU104-DPU_INT8\", \"x\": \"MLP_12.5_INT4\", \"values\": null}, {\"y\": \"ZCU102-DPU_INT8\", \"x\": \"MLP_12.5_INT4\", \"values\": null}, {\"y\": \"ZCU104-FINN_INT2\", \"x\": \"MLP_12.5_INT4\", \"values\": null}, {\"y\": \"ZCU104-FINN_INT4\", \"x\": \"MLP_12.5_INT4\", \"values\": 114854.5176}, {\"y\": \"ZCU104-BISMO_INT2\", \"x\": \"MLP_12.5_INT4\", \"values\": null}, {\"y\": \"ZCU104-BISMO_INT4\", \"x\": \"MLP_12.5_INT4\", \"values\": 114854.5176}, {\"y\": \"TX2-maxn_FP16\", \"x\": \"MLP_12.5_INT4\", \"values\": null}, {\"y\": \"TX2-maxn_FP32\", \"x\": \"MLP_12.5_INT4\", \"values\": null}, {\"y\": \"TX2-maxp_FP16\", \"x\": \"MLP_12.5_INT4\", \"values\": null}, {\"y\": \"TX2-maxp_FP32\", \"x\": \"MLP_12.5_INT4\", \"values\": null}, {\"y\": \"TX2-maxq_FP16\", \"x\": \"MLP_12.5_INT4\", \"values\": null}, {\"y\": \"TX2-maxq_FP32\", \"x\": \"MLP_12.5_INT4\", \"values\": null}, {\"y\": \"EdgeTPU-fast_INT8\", \"x\": \"MLP_12.5_INT4\", \"values\": null}, {\"y\": \"EdgeTPU-slow_INT8\", \"x\": \"MLP_12.5_INT4\", \"values\": null}, {\"y\": \"NCS_INT8\", \"x\": \"MLP_12.5_INT4\", \"values\": null}, {\"y\": \"NCS_FP16\", \"x\": \"MLP_12.5_INT4\", \"values\": null}, {\"y\": \"U96-Quadcore-A53_INT8\", \"x\": \"MLP_12.5_INT4\", \"values\": 25483.34609}, {\"y\": \"Ultra96-DPU_INT8\", \"x\": \"MLP_12.5_FP16\", \"values\": null}, {\"y\": \"ZCU104-DPU_INT8\", \"x\": \"MLP_12.5_FP16\", \"values\": null}, {\"y\": \"ZCU102-DPU_INT8\", \"x\": \"MLP_12.5_FP16\", \"values\": null}, {\"y\": \"ZCU104-FINN_INT2\", \"x\": \"MLP_12.5_FP16\", \"values\": null}, {\"y\": \"ZCU104-FINN_INT4\", \"x\": \"MLP_12.5_FP16\", \"values\": null}, {\"y\": \"ZCU104-BISMO_INT2\", \"x\": \"MLP_12.5_FP16\", \"values\": null}, {\"y\": \"ZCU104-BISMO_INT4\", \"x\": \"MLP_12.5_FP16\", \"values\": null}, {\"y\": \"TX2-maxn_FP16\", \"x\": \"MLP_12.5_FP16\", \"values\": 89281.44142}, {\"y\": \"TX2-maxn_FP32\", \"x\": \"MLP_12.5_FP16\", \"values\": null}, {\"y\": \"TX2-maxp_FP16\", \"x\": \"MLP_12.5_FP16\", \"values\": 89281.44142}, {\"y\": \"TX2-maxp_FP32\", \"x\": \"MLP_12.5_FP16\", \"values\": null}, {\"y\": \"TX2-maxq_FP16\", \"x\": \"MLP_12.5_FP16\", \"values\": 89281.44142}, {\"y\": \"TX2-maxq_FP32\", \"x\": \"MLP_12.5_FP16\", \"values\": null}, {\"y\": \"EdgeTPU-fast_INT8\", \"x\": \"MLP_12.5_FP16\", \"values\": null}, {\"y\": \"EdgeTPU-slow_INT8\", \"x\": \"MLP_12.5_FP16\", \"values\": null}, {\"y\": \"NCS_INT8\", \"x\": \"MLP_12.5_FP16\", \"values\": null}, {\"y\": \"NCS_FP16\", \"x\": \"MLP_12.5_FP16\", \"values\": 19142.4196}, {\"y\": \"U96-Quadcore-A53_INT8\", \"x\": \"MLP_12.5_FP16\", \"values\": null}, {\"y\": \"Ultra96-DPU_INT8\", \"x\": \"MLP_12.5_FP32\", \"values\": null}, {\"y\": \"ZCU104-DPU_INT8\", \"x\": \"MLP_12.5_FP32\", \"values\": null}, {\"y\": \"ZCU102-DPU_INT8\", \"x\": \"MLP_12.5_FP32\", \"values\": null}, {\"y\": \"ZCU104-FINN_INT2\", \"x\": \"MLP_12.5_FP32\", \"values\": null}, {\"y\": \"ZCU104-FINN_INT4\", \"x\": \"MLP_12.5_FP32\", \"values\": null}, {\"y\": \"ZCU104-BISMO_INT2\", \"x\": \"MLP_12.5_FP32\", \"values\": null}, {\"y\": \"ZCU104-BISMO_INT4\", \"x\": \"MLP_12.5_FP32\", \"values\": null}, {\"y\": \"TX2-maxn_FP16\", \"x\": \"MLP_12.5_FP32\", \"values\": null}, {\"y\": \"TX2-maxn_FP32\", \"x\": \"MLP_12.5_FP32\", \"values\": 44640.72071}, {\"y\": \"TX2-maxp_FP16\", \"x\": \"MLP_12.5_FP32\", \"values\": null}, {\"y\": \"TX2-maxp_FP32\", \"x\": \"MLP_12.5_FP32\", \"values\": 44640.72071}, {\"y\": \"TX2-maxq_FP16\", \"x\": \"MLP_12.5_FP32\", \"values\": null}, {\"y\": \"TX2-maxq_FP32\", \"x\": \"MLP_12.5_FP32\", \"values\": 44640.72071}, {\"y\": \"EdgeTPU-fast_INT8\", \"x\": \"MLP_12.5_FP32\", \"values\": null}, {\"y\": \"EdgeTPU-slow_INT8\", \"x\": \"MLP_12.5_FP32\", \"values\": null}, {\"y\": \"NCS_INT8\", \"x\": \"MLP_12.5_FP32\", \"values\": null}, {\"y\": \"NCS_FP16\", \"x\": \"MLP_12.5_FP32\", \"values\": null}, {\"y\": \"U96-Quadcore-A53_INT8\", \"x\": \"MLP_12.5_FP32\", \"values\": null}]}}, {\"mode\": \"vega-lite\"});\n",
       "</script>"
      ],
      "text/plain": [
       "alt.LayerChart(...)"
      ]
     },
     "execution_count": 19,
     "metadata": {},
     "output_type": "execute_result"
    }
   ],
   "source": [
    "#hide_input\n",
    "%run scripts/altair_plots.py\n",
    "#load mnist dataset and plot it\n",
    "#heatmap(pd.read_csv(\"data/cleaned_csv/performance_prediction_mnist.csv\"), 'red', 'Performance Prediction for MNIST')\n",
    "heatmap('data/performance_predictions_imagenet_mnist_cifar.csv', 'mnist', 'Performance Prediction for MNIST')"
   ]
  },
  {
   "cell_type": "markdown",
   "metadata": {},
   "source": [
    "### ImageNet"
   ]
  },
  {
   "cell_type": "markdown",
   "metadata": {},
   "source": [
    "For ImageNet, quantization combined with pruning also deliver some of best performance results."
   ]
  },
  {
   "cell_type": "code",
   "execution_count": 18,
   "metadata": {},
   "outputs": [
    {
     "data": {
      "text/html": [
       "\n",
       "<div id=\"altair-viz-12363ae92a504cc4950829e95bd71460\"></div>\n",
       "<script type=\"text/javascript\">\n",
       "  (function(spec, embedOpt){\n",
       "    let outputDiv = document.currentScript.previousElementSibling;\n",
       "    if (outputDiv.id !== \"altair-viz-12363ae92a504cc4950829e95bd71460\") {\n",
       "      outputDiv = document.getElementById(\"altair-viz-12363ae92a504cc4950829e95bd71460\");\n",
       "    }\n",
       "    const paths = {\n",
       "      \"vega\": \"https://cdn.jsdelivr.net/npm//vega@5?noext\",\n",
       "      \"vega-lib\": \"https://cdn.jsdelivr.net/npm//vega-lib?noext\",\n",
       "      \"vega-lite\": \"https://cdn.jsdelivr.net/npm//vega-lite@4.8.1?noext\",\n",
       "      \"vega-embed\": \"https://cdn.jsdelivr.net/npm//vega-embed@6?noext\",\n",
       "    };\n",
       "\n",
       "    function loadScript(lib) {\n",
       "      return new Promise(function(resolve, reject) {\n",
       "        var s = document.createElement('script');\n",
       "        s.src = paths[lib];\n",
       "        s.async = true;\n",
       "        s.onload = () => resolve(paths[lib]);\n",
       "        s.onerror = () => reject(`Error loading script: ${paths[lib]}`);\n",
       "        document.getElementsByTagName(\"head\")[0].appendChild(s);\n",
       "      });\n",
       "    }\n",
       "\n",
       "    function showError(err) {\n",
       "      outputDiv.innerHTML = `<div class=\"error\" style=\"color:red;\">${err}</div>`;\n",
       "      throw err;\n",
       "    }\n",
       "\n",
       "    function displayChart(vegaEmbed) {\n",
       "      vegaEmbed(outputDiv, spec, embedOpt)\n",
       "        .catch(err => showError(`Javascript Error: ${err.message}<br>This usually means there's a typo in your chart specification. See the javascript console for the full traceback.`));\n",
       "    }\n",
       "\n",
       "    if(typeof define === \"function\" && define.amd) {\n",
       "      requirejs.config({paths});\n",
       "      require([\"vega-embed\"], displayChart, err => showError(`Error loading script: ${err.message}`));\n",
       "    } else if (typeof vegaEmbed === \"function\") {\n",
       "      displayChart(vegaEmbed);\n",
       "    } else {\n",
       "      loadScript(\"vega\")\n",
       "        .then(() => loadScript(\"vega-lite\"))\n",
       "        .then(() => loadScript(\"vega-embed\"))\n",
       "        .catch(showError)\n",
       "        .then(() => displayChart(vegaEmbed));\n",
       "    }\n",
       "  })({\"config\": {\"view\": {\"continuousWidth\": 400, \"continuousHeight\": 300}}, \"layer\": [{\"mark\": {\"type\": \"rect\", \"invalid\": null, \"stroke\": \"black\", \"strokeWidth\": 1}, \"encoding\": {\"color\": {\"type\": \"quantitative\", \"field\": \"values\", \"scale\": {\"scheme\": \"lightmulti\", \"type\": \"log\"}, \"title\": \"Input/second\"}, \"tooltip\": [{\"type\": \"quantitative\", \"field\": \"values\", \"title\": \"Input/sec\"}, {\"type\": \"nominal\", \"field\": \"x\", \"title\": \"Model\"}, {\"type\": \"nominal\", \"field\": \"y\", \"title\": \"Hardware Platform\"}], \"x\": {\"type\": \"ordinal\", \"field\": \"x\", \"title\": \"Models\"}, \"y\": {\"type\": \"ordinal\", \"field\": \"y\", \"title\": \"Hardware Platforms\"}}, \"height\": 350, \"selection\": {\"selector011\": {\"type\": \"single\", \"on\": \"mouseover\", \"nearest\": true}}, \"title\": \"Performance Prediction for ImageNet\", \"width\": 700}, {\"mark\": {\"type\": \"text\", \"color\": \"white\"}, \"encoding\": {\"color\": {\"condition\": {\"value\": \"black\", \"test\": \"(datum.values > 1)\"}, \"value\": \"white\"}, \"text\": {\"type\": \"quantitative\", \"field\": \"values\", \"format\": \".0f\"}, \"tooltip\": [{\"type\": \"quantitative\", \"field\": \"values\", \"format\": \".0f\", \"title\": \"Input/sec\"}, {\"type\": \"nominal\", \"field\": \"x\", \"title\": \"Model\"}, {\"type\": \"nominal\", \"field\": \"y\", \"title\": \"Hardware Platform\"}], \"x\": {\"type\": \"ordinal\", \"field\": \"x\", \"title\": \"Models\"}, \"y\": {\"type\": \"ordinal\", \"field\": \"y\", \"title\": \"Hardware Platforms\"}}}], \"data\": {\"name\": \"data-94c9b60123e212c41d00483ffc1fe5df\"}, \"$schema\": \"https://vega.github.io/schema/vega-lite/v4.8.1.json\", \"datasets\": {\"data-94c9b60123e212c41d00483ffc1fe5df\": [{\"y\": \"Ultra96-DPU_INT8\", \"x\": \"GoogLeNetv1_100_INT8\", \"values\": 306.7092652}, {\"y\": \"ZCU104-DPU_INT8\", \"x\": \"GoogLeNetv1_100_INT8\", \"values\": 1469.6485619999999}, {\"y\": \"ZCU102-DPU_INT8\", \"x\": \"GoogLeNetv1_100_INT8\", \"values\": 2143.769968}, {\"y\": \"ZCU104-FINN_INT2\", \"x\": \"GoogLeNetv1_100_INT8\", \"values\": null}, {\"y\": \"ZCU104-FINN_INT4\", \"x\": \"GoogLeNetv1_100_INT8\", \"values\": null}, {\"y\": \"ZCU104-BISMO_INT2\", \"x\": \"GoogLeNetv1_100_INT8\", \"values\": null}, {\"y\": \"ZCU104-BISMO_INT4\", \"x\": \"GoogLeNetv1_100_INT8\", \"values\": null}, {\"y\": \"TX2-maxn_FP16\", \"x\": \"GoogLeNetv1_100_INT8\", \"values\": null}, {\"y\": \"TX2-maxn_FP32\", \"x\": \"GoogLeNetv1_100_INT8\", \"values\": null}, {\"y\": \"TX2-maxp_FP16\", \"x\": \"GoogLeNetv1_100_INT8\", \"values\": null}, {\"y\": \"TX2-maxp_FP32\", \"x\": \"GoogLeNetv1_100_INT8\", \"values\": null}, {\"y\": \"TX2-maxq_FP16\", \"x\": \"GoogLeNetv1_100_INT8\", \"values\": null}, {\"y\": \"TX2-maxq_FP32\", \"x\": \"GoogLeNetv1_100_INT8\", \"values\": null}, {\"y\": \"EdgeTPU-fast_INT8\", \"x\": \"GoogLeNetv1_100_INT8\", \"values\": 1277.9552720000002}, {\"y\": \"EdgeTPU-slow_INT8\", \"x\": \"GoogLeNetv1_100_INT8\", \"values\": 638.9776357999999}, {\"y\": \"NCS_INT8\", \"x\": \"GoogLeNetv1_100_INT8\", \"values\": 319.48881789999996}, {\"y\": \"NCS_FP16\", \"x\": \"GoogLeNetv1_100_INT8\", \"values\": null}, {\"y\": \"U96-Quadcore-A53_INT8\", \"x\": \"GoogLeNetv1_100_INT8\", \"values\": 61.34185304}, {\"y\": \"Ultra96-DPU_INT8\", \"x\": \"GoogLeNetv1_100_FP16\", \"values\": null}, {\"y\": \"ZCU104-DPU_INT8\", \"x\": \"GoogLeNetv1_100_FP16\", \"values\": null}, {\"y\": \"ZCU102-DPU_INT8\", \"x\": \"GoogLeNetv1_100_FP16\", \"values\": null}, {\"y\": \"ZCU104-FINN_INT2\", \"x\": \"GoogLeNetv1_100_FP16\", \"values\": null}, {\"y\": \"ZCU104-FINN_INT4\", \"x\": \"GoogLeNetv1_100_FP16\", \"values\": null}, {\"y\": \"ZCU104-BISMO_INT2\", \"x\": \"GoogLeNetv1_100_FP16\", \"values\": null}, {\"y\": \"ZCU104-BISMO_INT4\", \"x\": \"GoogLeNetv1_100_FP16\", \"values\": null}, {\"y\": \"TX2-maxn_FP16\", \"x\": \"GoogLeNetv1_100_FP16\", \"values\": 424.9201278}, {\"y\": \"TX2-maxn_FP32\", \"x\": \"GoogLeNetv1_100_FP16\", \"values\": null}, {\"y\": \"TX2-maxp_FP16\", \"x\": \"GoogLeNetv1_100_FP16\", \"values\": 367.41214060000004}, {\"y\": \"TX2-maxp_FP32\", \"x\": \"GoogLeNetv1_100_FP16\", \"values\": null}, {\"y\": \"TX2-maxq_FP16\", \"x\": \"GoogLeNetv1_100_FP16\", \"values\": 277.9552716}, {\"y\": \"TX2-maxq_FP32\", \"x\": \"GoogLeNetv1_100_FP16\", \"values\": null}, {\"y\": \"EdgeTPU-fast_INT8\", \"x\": \"GoogLeNetv1_100_FP16\", \"values\": null}, {\"y\": \"EdgeTPU-slow_INT8\", \"x\": \"GoogLeNetv1_100_FP16\", \"values\": null}, {\"y\": \"NCS_INT8\", \"x\": \"GoogLeNetv1_100_FP16\", \"values\": null}, {\"y\": \"NCS_FP16\", \"x\": \"GoogLeNetv1_100_FP16\", \"values\": 159.74440890000002}, {\"y\": \"U96-Quadcore-A53_INT8\", \"x\": \"GoogLeNetv1_100_FP16\", \"values\": null}, {\"y\": \"Ultra96-DPU_INT8\", \"x\": \"GoogLeNetv1_100_FP32\", \"values\": null}, {\"y\": \"ZCU104-DPU_INT8\", \"x\": \"GoogLeNetv1_100_FP32\", \"values\": null}, {\"y\": \"ZCU102-DPU_INT8\", \"x\": \"GoogLeNetv1_100_FP32\", \"values\": null}, {\"y\": \"ZCU104-FINN_INT2\", \"x\": \"GoogLeNetv1_100_FP32\", \"values\": null}, {\"y\": \"ZCU104-FINN_INT4\", \"x\": \"GoogLeNetv1_100_FP32\", \"values\": null}, {\"y\": \"ZCU104-BISMO_INT2\", \"x\": \"GoogLeNetv1_100_FP32\", \"values\": null}, {\"y\": \"ZCU104-BISMO_INT4\", \"x\": \"GoogLeNetv1_100_FP32\", \"values\": null}, {\"y\": \"TX2-maxn_FP16\", \"x\": \"GoogLeNetv1_100_FP32\", \"values\": null}, {\"y\": \"TX2-maxn_FP32\", \"x\": \"GoogLeNetv1_100_FP32\", \"values\": 214.057508}, {\"y\": \"TX2-maxp_FP16\", \"x\": \"GoogLeNetv1_100_FP32\", \"values\": null}, {\"y\": \"TX2-maxp_FP32\", \"x\": \"GoogLeNetv1_100_FP32\", \"values\": 182.10862619999997}, {\"y\": \"TX2-maxq_FP16\", \"x\": \"GoogLeNetv1_100_FP32\", \"values\": null}, {\"y\": \"TX2-maxq_FP32\", \"x\": \"GoogLeNetv1_100_FP32\", \"values\": 140.57507990000002}, {\"y\": \"EdgeTPU-fast_INT8\", \"x\": \"GoogLeNetv1_100_FP32\", \"values\": null}, {\"y\": \"EdgeTPU-slow_INT8\", \"x\": \"GoogLeNetv1_100_FP32\", \"values\": null}, {\"y\": \"NCS_INT8\", \"x\": \"GoogLeNetv1_100_FP32\", \"values\": null}, {\"y\": \"NCS_FP16\", \"x\": \"GoogLeNetv1_100_FP32\", \"values\": null}, {\"y\": \"U96-Quadcore-A53_INT8\", \"x\": \"GoogLeNetv1_100_FP32\", \"values\": null}, {\"y\": \"Ultra96-DPU_INT8\", \"x\": \"MobileNetv1_100_INT8\", \"values\": null}, {\"y\": \"ZCU104-DPU_INT8\", \"x\": \"MobileNetv1_100_INT8\", \"values\": 4035.0}, {\"y\": \"ZCU102-DPU_INT8\", \"x\": \"MobileNetv1_100_INT8\", \"values\": null}, {\"y\": \"ZCU104-FINN_INT2\", \"x\": \"MobileNetv1_100_INT8\", \"values\": null}, {\"y\": \"ZCU104-FINN_INT4\", \"x\": \"MobileNetv1_100_INT8\", \"values\": null}, {\"y\": \"ZCU104-BISMO_INT2\", \"x\": \"MobileNetv1_100_INT8\", \"values\": null}, {\"y\": \"ZCU104-BISMO_INT4\", \"x\": \"MobileNetv1_100_INT8\", \"values\": null}, {\"y\": \"TX2-maxn_FP16\", \"x\": \"MobileNetv1_100_INT8\", \"values\": null}, {\"y\": \"TX2-maxn_FP32\", \"x\": \"MobileNetv1_100_INT8\", \"values\": null}, {\"y\": \"TX2-maxp_FP16\", \"x\": \"MobileNetv1_100_INT8\", \"values\": null}, {\"y\": \"TX2-maxp_FP32\", \"x\": \"MobileNetv1_100_INT8\", \"values\": null}, {\"y\": \"TX2-maxq_FP16\", \"x\": \"MobileNetv1_100_INT8\", \"values\": null}, {\"y\": \"TX2-maxq_FP32\", \"x\": \"MobileNetv1_100_INT8\", \"values\": null}, {\"y\": \"EdgeTPU-fast_INT8\", \"x\": \"MobileNetv1_100_INT8\", \"values\": 3508.77193}, {\"y\": \"EdgeTPU-slow_INT8\", \"x\": \"MobileNetv1_100_INT8\", \"values\": 1754.385965}, {\"y\": \"NCS_INT8\", \"x\": \"MobileNetv1_100_INT8\", \"values\": null}, {\"y\": \"NCS_FP16\", \"x\": \"MobileNetv1_100_INT8\", \"values\": null}, {\"y\": \"U96-Quadcore-A53_INT8\", \"x\": \"MobileNetv1_100_INT8\", \"values\": 168.4210526}, {\"y\": \"Ultra96-DPU_INT8\", \"x\": \"ResNet-50_100_INT8\", \"values\": 124.35233159999999}, {\"y\": \"ZCU104-DPU_INT8\", \"x\": \"ResNet-50_100_INT8\", \"values\": 595.8549222999999}, {\"y\": \"ZCU102-DPU_INT8\", \"x\": \"ResNet-50_100_INT8\", \"values\": 752.853886}, {\"y\": \"ZCU104-FINN_INT2\", \"x\": \"ResNet-50_100_INT8\", \"values\": null}, {\"y\": \"ZCU104-FINN_INT4\", \"x\": \"ResNet-50_100_INT8\", \"values\": null}, {\"y\": \"ZCU104-BISMO_INT2\", \"x\": \"ResNet-50_100_INT8\", \"values\": null}, {\"y\": \"ZCU104-BISMO_INT4\", \"x\": \"ResNet-50_100_INT8\", \"values\": null}, {\"y\": \"TX2-maxn_FP16\", \"x\": \"ResNet-50_100_INT8\", \"values\": null}, {\"y\": \"TX2-maxn_FP32\", \"x\": \"ResNet-50_100_INT8\", \"values\": null}, {\"y\": \"TX2-maxp_FP16\", \"x\": \"ResNet-50_100_INT8\", \"values\": null}, {\"y\": \"TX2-maxp_FP32\", \"x\": \"ResNet-50_100_INT8\", \"values\": null}, {\"y\": \"TX2-maxq_FP16\", \"x\": \"ResNet-50_100_INT8\", \"values\": null}, {\"y\": \"TX2-maxq_FP32\", \"x\": \"ResNet-50_100_INT8\", \"values\": null}, {\"y\": \"EdgeTPU-fast_INT8\", \"x\": \"ResNet-50_100_INT8\", \"values\": 518.134715}, {\"y\": \"EdgeTPU-slow_INT8\", \"x\": \"ResNet-50_100_INT8\", \"values\": 259.0673575}, {\"y\": \"NCS_INT8\", \"x\": \"ResNet-50_100_INT8\", \"values\": null}, {\"y\": \"NCS_FP16\", \"x\": \"ResNet-50_100_INT8\", \"values\": null}, {\"y\": \"U96-Quadcore-A53_INT8\", \"x\": \"ResNet-50_100_INT8\", \"values\": 24.87046632}, {\"y\": \"Ultra96-DPU_INT8\", \"x\": \"ResNet-50_100_FP16\", \"values\": null}, {\"y\": \"ZCU104-DPU_INT8\", \"x\": \"ResNet-50_100_FP16\", \"values\": null}, {\"y\": \"ZCU102-DPU_INT8\", \"x\": \"ResNet-50_100_FP16\", \"values\": null}, {\"y\": \"ZCU104-FINN_INT2\", \"x\": \"ResNet-50_100_FP16\", \"values\": null}, {\"y\": \"ZCU104-FINN_INT4\", \"x\": \"ResNet-50_100_FP16\", \"values\": null}, {\"y\": \"ZCU104-BISMO_INT2\", \"x\": \"ResNet-50_100_FP16\", \"values\": null}, {\"y\": \"ZCU104-BISMO_INT4\", \"x\": \"ResNet-50_100_FP16\", \"values\": null}, {\"y\": \"TX2-maxn_FP16\", \"x\": \"ResNet-50_100_FP16\", \"values\": 172.2797927}, {\"y\": \"TX2-maxn_FP32\", \"x\": \"ResNet-50_100_FP16\", \"values\": null}, {\"y\": \"TX2-maxp_FP16\", \"x\": \"ResNet-50_100_FP16\", \"values\": 148.9637306}, {\"y\": \"TX2-maxp_FP32\", \"x\": \"ResNet-50_100_FP16\", \"values\": null}, {\"y\": \"TX2-maxq_FP16\", \"x\": \"ResNet-50_100_FP16\", \"values\": 112.69430049999998}, {\"y\": \"TX2-maxq_FP32\", \"x\": \"ResNet-50_100_FP16\", \"values\": null}, {\"y\": \"EdgeTPU-fast_INT8\", \"x\": \"ResNet-50_100_FP16\", \"values\": null}, {\"y\": \"EdgeTPU-slow_INT8\", \"x\": \"ResNet-50_100_FP16\", \"values\": null}, {\"y\": \"NCS_INT8\", \"x\": \"ResNet-50_100_FP16\", \"values\": null}, {\"y\": \"NCS_FP16\", \"x\": \"ResNet-50_100_FP16\", \"values\": 64.76683938}, {\"y\": \"U96-Quadcore-A53_INT8\", \"x\": \"ResNet-50_100_FP16\", \"values\": null}, {\"y\": \"Ultra96-DPU_INT8\", \"x\": \"ResNet-50_100_FP32\", \"values\": null}, {\"y\": \"ZCU104-DPU_INT8\", \"x\": \"ResNet-50_100_FP32\", \"values\": null}, {\"y\": \"ZCU102-DPU_INT8\", \"x\": \"ResNet-50_100_FP32\", \"values\": null}, {\"y\": \"ZCU104-FINN_INT2\", \"x\": \"ResNet-50_100_FP32\", \"values\": null}, {\"y\": \"ZCU104-FINN_INT4\", \"x\": \"ResNet-50_100_FP32\", \"values\": null}, {\"y\": \"ZCU104-BISMO_INT2\", \"x\": \"ResNet-50_100_FP32\", \"values\": null}, {\"y\": \"ZCU104-BISMO_INT4\", \"x\": \"ResNet-50_100_FP32\", \"values\": null}, {\"y\": \"TX2-maxn_FP16\", \"x\": \"ResNet-50_100_FP32\", \"values\": null}, {\"y\": \"TX2-maxn_FP32\", \"x\": \"ResNet-50_100_FP32\", \"values\": 86.78756477}, {\"y\": \"TX2-maxp_FP16\", \"x\": \"ResNet-50_100_FP32\", \"values\": null}, {\"y\": \"TX2-maxp_FP32\", \"x\": \"ResNet-50_100_FP32\", \"values\": 73.83419689}, {\"y\": \"TX2-maxq_FP16\", \"x\": \"ResNet-50_100_FP32\", \"values\": null}, {\"y\": \"TX2-maxq_FP32\", \"x\": \"ResNet-50_100_FP32\", \"values\": 56.99481865}, {\"y\": \"EdgeTPU-fast_INT8\", \"x\": \"ResNet-50_100_FP32\", \"values\": null}, {\"y\": \"EdgeTPU-slow_INT8\", \"x\": \"ResNet-50_100_FP32\", \"values\": null}, {\"y\": \"NCS_INT8\", \"x\": \"ResNet-50_100_FP32\", \"values\": null}, {\"y\": \"NCS_FP16\", \"x\": \"ResNet-50_100_FP32\", \"values\": null}, {\"y\": \"U96-Quadcore-A53_INT8\", \"x\": \"ResNet-50_100_FP32\", \"values\": null}, {\"y\": \"Ultra96-DPU_INT8\", \"x\": \"ResNet-50_80_INT8\", \"values\": 146.7889908}, {\"y\": \"ZCU104-DPU_INT8\", \"x\": \"ResNet-50_80_INT8\", \"values\": 703.3639143999999}, {\"y\": \"ZCU102-DPU_INT8\", \"x\": \"ResNet-50_80_INT8\", \"values\": 797.5045872000001}, {\"y\": \"ZCU104-FINN_INT2\", \"x\": \"ResNet-50_80_INT8\", \"values\": null}, {\"y\": \"ZCU104-FINN_INT4\", \"x\": \"ResNet-50_80_INT8\", \"values\": null}, {\"y\": \"ZCU104-BISMO_INT2\", \"x\": \"ResNet-50_80_INT8\", \"values\": null}, {\"y\": \"ZCU104-BISMO_INT4\", \"x\": \"ResNet-50_80_INT8\", \"values\": null}, {\"y\": \"TX2-maxn_FP16\", \"x\": \"ResNet-50_80_INT8\", \"values\": null}, {\"y\": \"TX2-maxn_FP32\", \"x\": \"ResNet-50_80_INT8\", \"values\": null}, {\"y\": \"TX2-maxp_FP16\", \"x\": \"ResNet-50_80_INT8\", \"values\": null}, {\"y\": \"TX2-maxp_FP32\", \"x\": \"ResNet-50_80_INT8\", \"values\": null}, {\"y\": \"TX2-maxq_FP16\", \"x\": \"ResNet-50_80_INT8\", \"values\": null}, {\"y\": \"TX2-maxq_FP32\", \"x\": \"ResNet-50_80_INT8\", \"values\": null}, {\"y\": \"EdgeTPU-fast_INT8\", \"x\": \"ResNet-50_80_INT8\", \"values\": null}, {\"y\": \"EdgeTPU-slow_INT8\", \"x\": \"ResNet-50_80_INT8\", \"values\": null}, {\"y\": \"NCS_INT8\", \"x\": \"ResNet-50_80_INT8\", \"values\": null}, {\"y\": \"NCS_FP16\", \"x\": \"ResNet-50_80_INT8\", \"values\": null}, {\"y\": \"U96-Quadcore-A53_INT8\", \"x\": \"ResNet-50_80_INT8\", \"values\": 29.35779817}, {\"y\": \"Ultra96-DPU_INT8\", \"x\": \"ResNet-50_50_INT8\", \"values\": 256.0}, {\"y\": \"ZCU104-DPU_INT8\", \"x\": \"ResNet-50_50_INT8\", \"values\": 1215.7952}, {\"y\": \"ZCU102-DPU_INT8\", \"x\": \"ResNet-50_50_INT8\", \"values\": 1215.7952}, {\"y\": \"ZCU104-FINN_INT2\", \"x\": \"ResNet-50_50_INT8\", \"values\": null}, {\"y\": \"ZCU104-FINN_INT4\", \"x\": \"ResNet-50_50_INT8\", \"values\": null}, {\"y\": \"ZCU104-BISMO_INT2\", \"x\": \"ResNet-50_50_INT8\", \"values\": null}, {\"y\": \"ZCU104-BISMO_INT4\", \"x\": \"ResNet-50_50_INT8\", \"values\": null}, {\"y\": \"TX2-maxn_FP16\", \"x\": \"ResNet-50_50_INT8\", \"values\": null}, {\"y\": \"TX2-maxn_FP32\", \"x\": \"ResNet-50_50_INT8\", \"values\": null}, {\"y\": \"TX2-maxp_FP16\", \"x\": \"ResNet-50_50_INT8\", \"values\": null}, {\"y\": \"TX2-maxp_FP32\", \"x\": \"ResNet-50_50_INT8\", \"values\": null}, {\"y\": \"TX2-maxq_FP16\", \"x\": \"ResNet-50_50_INT8\", \"values\": null}, {\"y\": \"TX2-maxq_FP32\", \"x\": \"ResNet-50_50_INT8\", \"values\": null}, {\"y\": \"EdgeTPU-fast_INT8\", \"x\": \"ResNet-50_50_INT8\", \"values\": null}, {\"y\": \"EdgeTPU-slow_INT8\", \"x\": \"ResNet-50_50_INT8\", \"values\": null}, {\"y\": \"NCS_INT8\", \"x\": \"ResNet-50_50_INT8\", \"values\": null}, {\"y\": \"NCS_FP16\", \"x\": \"ResNet-50_50_INT8\", \"values\": null}, {\"y\": \"U96-Quadcore-A53_INT8\", \"x\": \"ResNet-50_50_INT8\", \"values\": 51.2}, {\"y\": \"Ultra96-DPU_INT8\", \"x\": \"ResNet-50_30_INT8\", \"values\": 391.8367347}, {\"y\": \"ZCU104-DPU_INT8\", \"x\": \"ResNet-50_30_INT8\", \"values\": 1877.5510199999999}, {\"y\": \"ZCU102-DPU_INT8\", \"x\": \"ResNet-50_30_INT8\", \"values\": 1900.7216329999999}, {\"y\": \"ZCU104-FINN_INT2\", \"x\": \"ResNet-50_30_INT8\", \"values\": null}, {\"y\": \"ZCU104-FINN_INT4\", \"x\": \"ResNet-50_30_INT8\", \"values\": null}, {\"y\": \"ZCU104-BISMO_INT2\", \"x\": \"ResNet-50_30_INT8\", \"values\": null}, {\"y\": \"ZCU104-BISMO_INT4\", \"x\": \"ResNet-50_30_INT8\", \"values\": null}, {\"y\": \"TX2-maxn_FP16\", \"x\": \"ResNet-50_30_INT8\", \"values\": null}, {\"y\": \"TX2-maxn_FP32\", \"x\": \"ResNet-50_30_INT8\", \"values\": null}, {\"y\": \"TX2-maxp_FP16\", \"x\": \"ResNet-50_30_INT8\", \"values\": null}, {\"y\": \"TX2-maxp_FP32\", \"x\": \"ResNet-50_30_INT8\", \"values\": null}, {\"y\": \"TX2-maxq_FP16\", \"x\": \"ResNet-50_30_INT8\", \"values\": null}, {\"y\": \"TX2-maxq_FP32\", \"x\": \"ResNet-50_30_INT8\", \"values\": null}, {\"y\": \"EdgeTPU-fast_INT8\", \"x\": \"ResNet-50_30_INT8\", \"values\": null}, {\"y\": \"EdgeTPU-slow_INT8\", \"x\": \"ResNet-50_30_INT8\", \"values\": null}, {\"y\": \"NCS_INT8\", \"x\": \"ResNet-50_30_INT8\", \"values\": null}, {\"y\": \"NCS_FP16\", \"x\": \"ResNet-50_30_INT8\", \"values\": null}, {\"y\": \"U96-Quadcore-A53_INT8\", \"x\": \"ResNet-50_30_INT8\", \"values\": 78.36734694}, {\"y\": \"Ultra96-DPU_INT8\", \"x\": \"EfficientNet-S_100_INT8\", \"values\": 204.25531909999998}, {\"y\": \"ZCU104-DPU_INT8\", \"x\": \"EfficientNet-S_100_INT8\", \"values\": 978.7234043}, {\"y\": \"ZCU102-DPU_INT8\", \"x\": \"EfficientNet-S_100_INT8\", \"values\": 1427.659574}, {\"y\": \"ZCU104-FINN_INT2\", \"x\": \"EfficientNet-S_100_INT8\", \"values\": null}, {\"y\": \"ZCU104-FINN_INT4\", \"x\": \"EfficientNet-S_100_INT8\", \"values\": null}, {\"y\": \"ZCU104-BISMO_INT2\", \"x\": \"EfficientNet-S_100_INT8\", \"values\": null}, {\"y\": \"ZCU104-BISMO_INT4\", \"x\": \"EfficientNet-S_100_INT8\", \"values\": null}, {\"y\": \"TX2-maxn_FP16\", \"x\": \"EfficientNet-S_100_INT8\", \"values\": null}, {\"y\": \"TX2-maxn_FP32\", \"x\": \"EfficientNet-S_100_INT8\", \"values\": null}, {\"y\": \"TX2-maxp_FP16\", \"x\": \"EfficientNet-S_100_INT8\", \"values\": null}, {\"y\": \"TX2-maxp_FP32\", \"x\": \"EfficientNet-S_100_INT8\", \"values\": null}, {\"y\": \"TX2-maxq_FP16\", \"x\": \"EfficientNet-S_100_INT8\", \"values\": null}, {\"y\": \"TX2-maxq_FP32\", \"x\": \"EfficientNet-S_100_INT8\", \"values\": null}, {\"y\": \"EdgeTPU-fast_INT8\", \"x\": \"EfficientNet-S_100_INT8\", \"values\": 851.0638298}, {\"y\": \"EdgeTPU-slow_INT8\", \"x\": \"EfficientNet-S_100_INT8\", \"values\": 425.5319149}, {\"y\": \"NCS_INT8\", \"x\": \"EfficientNet-S_100_INT8\", \"values\": null}, {\"y\": \"NCS_FP16\", \"x\": \"EfficientNet-S_100_INT8\", \"values\": null}, {\"y\": \"U96-Quadcore-A53_INT8\", \"x\": \"EfficientNet-S_100_INT8\", \"values\": 40.85106383}, {\"y\": \"Ultra96-DPU_INT8\", \"x\": \"EfficientNet-M_100_INT8\", \"values\": 129.7297297}, {\"y\": \"ZCU104-DPU_INT8\", \"x\": \"EfficientNet-M_100_INT8\", \"values\": 621.6216216}, {\"y\": \"ZCU102-DPU_INT8\", \"x\": \"EfficientNet-M_100_INT8\", \"values\": 906.7567568}, {\"y\": \"ZCU104-FINN_INT2\", \"x\": \"EfficientNet-M_100_INT8\", \"values\": null}, {\"y\": \"ZCU104-FINN_INT4\", \"x\": \"EfficientNet-M_100_INT8\", \"values\": null}, {\"y\": \"ZCU104-BISMO_INT2\", \"x\": \"EfficientNet-M_100_INT8\", \"values\": null}, {\"y\": \"ZCU104-BISMO_INT4\", \"x\": \"EfficientNet-M_100_INT8\", \"values\": null}, {\"y\": \"TX2-maxn_FP16\", \"x\": \"EfficientNet-M_100_INT8\", \"values\": null}, {\"y\": \"TX2-maxn_FP32\", \"x\": \"EfficientNet-M_100_INT8\", \"values\": null}, {\"y\": \"TX2-maxp_FP16\", \"x\": \"EfficientNet-M_100_INT8\", \"values\": null}, {\"y\": \"TX2-maxp_FP32\", \"x\": \"EfficientNet-M_100_INT8\", \"values\": null}, {\"y\": \"TX2-maxq_FP16\", \"x\": \"EfficientNet-M_100_INT8\", \"values\": null}, {\"y\": \"TX2-maxq_FP32\", \"x\": \"EfficientNet-M_100_INT8\", \"values\": null}, {\"y\": \"EdgeTPU-fast_INT8\", \"x\": \"EfficientNet-M_100_INT8\", \"values\": 540.5405405}, {\"y\": \"EdgeTPU-slow_INT8\", \"x\": \"EfficientNet-M_100_INT8\", \"values\": 270.2702703}, {\"y\": \"NCS_INT8\", \"x\": \"EfficientNet-M_100_INT8\", \"values\": null}, {\"y\": \"NCS_FP16\", \"x\": \"EfficientNet-M_100_INT8\", \"values\": null}, {\"y\": \"U96-Quadcore-A53_INT8\", \"x\": \"EfficientNet-M_100_INT8\", \"values\": 25.94594595}, {\"y\": \"Ultra96-DPU_INT8\", \"x\": \"EfficientNet-L_100_INT8\", \"values\": 49.53560372}, {\"y\": \"ZCU104-DPU_INT8\", \"x\": \"EfficientNet-L_100_INT8\", \"values\": 237.3581011}, {\"y\": \"ZCU102-DPU_INT8\", \"x\": \"EfficientNet-L_100_INT8\", \"values\": 346.23323010000007}, {\"y\": \"ZCU104-FINN_INT2\", \"x\": \"EfficientNet-L_100_INT8\", \"values\": null}, {\"y\": \"ZCU104-FINN_INT4\", \"x\": \"EfficientNet-L_100_INT8\", \"values\": null}, {\"y\": \"ZCU104-BISMO_INT2\", \"x\": \"EfficientNet-L_100_INT8\", \"values\": null}, {\"y\": \"ZCU104-BISMO_INT4\", \"x\": \"EfficientNet-L_100_INT8\", \"values\": null}, {\"y\": \"TX2-maxn_FP16\", \"x\": \"EfficientNet-L_100_INT8\", \"values\": null}, {\"y\": \"TX2-maxn_FP32\", \"x\": \"EfficientNet-L_100_INT8\", \"values\": null}, {\"y\": \"TX2-maxp_FP16\", \"x\": \"EfficientNet-L_100_INT8\", \"values\": null}, {\"y\": \"TX2-maxp_FP32\", \"x\": \"EfficientNet-L_100_INT8\", \"values\": null}, {\"y\": \"TX2-maxq_FP16\", \"x\": \"EfficientNet-L_100_INT8\", \"values\": null}, {\"y\": \"TX2-maxq_FP32\", \"x\": \"EfficientNet-L_100_INT8\", \"values\": null}, {\"y\": \"EdgeTPU-fast_INT8\", \"x\": \"EfficientNet-L_100_INT8\", \"values\": 206.3983488}, {\"y\": \"EdgeTPU-slow_INT8\", \"x\": \"EfficientNet-L_100_INT8\", \"values\": 103.1991744}, {\"y\": \"NCS_INT8\", \"x\": \"EfficientNet-L_100_INT8\", \"values\": null}, {\"y\": \"NCS_FP16\", \"x\": \"EfficientNet-L_100_INT8\", \"values\": null}, {\"y\": \"U96-Quadcore-A53_INT8\", \"x\": \"EfficientNet-L_100_INT8\", \"values\": 9.907120743}]}}, {\"mode\": \"vega-lite\"});\n",
       "</script>"
      ],
      "text/plain": [
       "alt.LayerChart(...)"
      ]
     },
     "execution_count": 18,
     "metadata": {},
     "output_type": "execute_result"
    }
   ],
   "source": [
    "#hide_input\n",
    "%run scripts/altair_plots.py  #run the heatmaps script\n",
    "#load imagenet dataset and plot it\n",
    "#heatmap(pd.read_csv(\"data/cleaned_csv/performance_prediction_imagenet.csv\"), 'lightgrey','Performance Prediction for Imagenet')\n",
    "heatmap('data/performance_predictions_imagenet_mnist_cifar.csv', 'imagenet', 'Performance Prediction for ImageNet')"
   ]
  },
  {
   "cell_type": "markdown",
   "metadata": {},
   "source": [
    "### CIFAR-10"
   ]
  },
  {
   "cell_type": "markdown",
   "metadata": {},
   "source": [
    "Finally, for CIFAR-10, quantization combined with pruning deliver some of best performance results"
   ]
  },
  {
   "cell_type": "code",
   "execution_count": 20,
   "metadata": {},
   "outputs": [
    {
     "data": {
      "text/html": [
       "\n",
       "<div id=\"altair-viz-cf33228553e643368bba34734411ceb3\"></div>\n",
       "<script type=\"text/javascript\">\n",
       "  (function(spec, embedOpt){\n",
       "    let outputDiv = document.currentScript.previousElementSibling;\n",
       "    if (outputDiv.id !== \"altair-viz-cf33228553e643368bba34734411ceb3\") {\n",
       "      outputDiv = document.getElementById(\"altair-viz-cf33228553e643368bba34734411ceb3\");\n",
       "    }\n",
       "    const paths = {\n",
       "      \"vega\": \"https://cdn.jsdelivr.net/npm//vega@5?noext\",\n",
       "      \"vega-lib\": \"https://cdn.jsdelivr.net/npm//vega-lib?noext\",\n",
       "      \"vega-lite\": \"https://cdn.jsdelivr.net/npm//vega-lite@4.8.1?noext\",\n",
       "      \"vega-embed\": \"https://cdn.jsdelivr.net/npm//vega-embed@6?noext\",\n",
       "    };\n",
       "\n",
       "    function loadScript(lib) {\n",
       "      return new Promise(function(resolve, reject) {\n",
       "        var s = document.createElement('script');\n",
       "        s.src = paths[lib];\n",
       "        s.async = true;\n",
       "        s.onload = () => resolve(paths[lib]);\n",
       "        s.onerror = () => reject(`Error loading script: ${paths[lib]}`);\n",
       "        document.getElementsByTagName(\"head\")[0].appendChild(s);\n",
       "      });\n",
       "    }\n",
       "\n",
       "    function showError(err) {\n",
       "      outputDiv.innerHTML = `<div class=\"error\" style=\"color:red;\">${err}</div>`;\n",
       "      throw err;\n",
       "    }\n",
       "\n",
       "    function displayChart(vegaEmbed) {\n",
       "      vegaEmbed(outputDiv, spec, embedOpt)\n",
       "        .catch(err => showError(`Javascript Error: ${err.message}<br>This usually means there's a typo in your chart specification. See the javascript console for the full traceback.`));\n",
       "    }\n",
       "\n",
       "    if(typeof define === \"function\" && define.amd) {\n",
       "      requirejs.config({paths});\n",
       "      require([\"vega-embed\"], displayChart, err => showError(`Error loading script: ${err.message}`));\n",
       "    } else if (typeof vegaEmbed === \"function\") {\n",
       "      displayChart(vegaEmbed);\n",
       "    } else {\n",
       "      loadScript(\"vega\")\n",
       "        .then(() => loadScript(\"vega-lite\"))\n",
       "        .then(() => loadScript(\"vega-embed\"))\n",
       "        .catch(showError)\n",
       "        .then(() => displayChart(vegaEmbed));\n",
       "    }\n",
       "  })({\"config\": {\"view\": {\"continuousWidth\": 400, \"continuousHeight\": 300}}, \"layer\": [{\"mark\": {\"type\": \"rect\", \"invalid\": null, \"stroke\": \"black\", \"strokeWidth\": 1}, \"encoding\": {\"color\": {\"type\": \"quantitative\", \"field\": \"values\", \"scale\": {\"scheme\": \"lightmulti\", \"type\": \"log\"}, \"title\": \"Input/second\"}, \"tooltip\": [{\"type\": \"quantitative\", \"field\": \"values\", \"title\": \"Input/sec\"}, {\"type\": \"nominal\", \"field\": \"x\", \"title\": \"Model\"}, {\"type\": \"nominal\", \"field\": \"y\", \"title\": \"Hardware Platform\"}], \"x\": {\"type\": \"ordinal\", \"field\": \"x\", \"title\": \"Models\"}, \"y\": {\"type\": \"ordinal\", \"field\": \"y\", \"title\": \"Hardware Platforms\"}}, \"height\": 350, \"selection\": {\"selector013\": {\"type\": \"single\", \"on\": \"mouseover\", \"nearest\": true}}, \"title\": \"Performance Prediction for CIFAR-10\", \"width\": 700}, {\"mark\": {\"type\": \"text\", \"color\": \"white\"}, \"encoding\": {\"color\": {\"condition\": {\"value\": \"black\", \"test\": \"(datum.values > 1)\"}, \"value\": \"white\"}, \"text\": {\"type\": \"quantitative\", \"field\": \"values\", \"format\": \".0f\"}, \"tooltip\": [{\"type\": \"quantitative\", \"field\": \"values\", \"format\": \".0f\", \"title\": \"Input/sec\"}, {\"type\": \"nominal\", \"field\": \"x\", \"title\": \"Model\"}, {\"type\": \"nominal\", \"field\": \"y\", \"title\": \"Hardware Platform\"}], \"x\": {\"type\": \"ordinal\", \"field\": \"x\", \"title\": \"Models\"}, \"y\": {\"type\": \"ordinal\", \"field\": \"y\", \"title\": \"Hardware Platforms\"}}}], \"data\": {\"name\": \"data-2eb5822cf78edfbb4e1a413198add0bd\"}, \"$schema\": \"https://vega.github.io/schema/vega-lite/v4.8.1.json\", \"datasets\": {\"data-2eb5822cf78edfbb4e1a413198add0bd\": [{\"y\": \"Ultra96-DPU_INT8\", \"x\": \"CNV_100_INT2\", \"values\": null}, {\"y\": \"ZCU104-DPU_INT8\", \"x\": \"CNV_100_INT2\", \"values\": null}, {\"y\": \"ZCU102-DPU_INT8\", \"x\": \"CNV_100_INT2\", \"values\": null}, {\"y\": \"ZCU104-FINN_INT2\", \"x\": \"CNV_100_INT2\", \"values\": 12457.94043}, {\"y\": \"ZCU104-FINN_INT4\", \"x\": \"CNV_100_INT2\", \"values\": null}, {\"y\": \"ZCU104-BISMO_INT2\", \"x\": \"CNV_100_INT2\", \"values\": 12457.94043}, {\"y\": \"ZCU104-BISMO_INT4\", \"x\": \"CNV_100_INT2\", \"values\": null}, {\"y\": \"TX2-maxn_FP16\", \"x\": \"CNV_100_INT2\", \"values\": null}, {\"y\": \"TX2-maxn_FP32\", \"x\": \"CNV_100_INT2\", \"values\": null}, {\"y\": \"TX2-maxp_FP16\", \"x\": \"CNV_100_INT2\", \"values\": null}, {\"y\": \"TX2-maxp_FP32\", \"x\": \"CNV_100_INT2\", \"values\": null}, {\"y\": \"TX2-maxq_FP16\", \"x\": \"CNV_100_INT2\", \"values\": null}, {\"y\": \"TX2-maxq_FP32\", \"x\": \"CNV_100_INT2\", \"values\": null}, {\"y\": \"EdgeTPU-fast_INT8\", \"x\": \"CNV_100_INT2\", \"values\": null}, {\"y\": \"EdgeTPU-slow_INT8\", \"x\": \"CNV_100_INT2\", \"values\": null}, {\"y\": \"NCS_INT8\", \"x\": \"CNV_100_INT2\", \"values\": null}, {\"y\": \"NCS_FP16\", \"x\": \"CNV_100_INT2\", \"values\": null}, {\"y\": \"U96-Quadcore-A53_INT8\", \"x\": \"CNV_100_INT2\", \"values\": 408.5106383}, {\"y\": \"Ultra96-DPU_INT8\", \"x\": \"CNV_100_INT4\", \"values\": null}, {\"y\": \"ZCU104-DPU_INT8\", \"x\": \"CNV_100_INT4\", \"values\": null}, {\"y\": \"ZCU102-DPU_INT8\", \"x\": \"CNV_100_INT4\", \"values\": null}, {\"y\": \"ZCU104-FINN_INT2\", \"x\": \"CNV_100_INT4\", \"values\": null}, {\"y\": \"ZCU104-FINN_INT4\", \"x\": \"CNV_100_INT4\", \"values\": 6228.9702130000005}, {\"y\": \"ZCU104-BISMO_INT2\", \"x\": \"CNV_100_INT4\", \"values\": null}, {\"y\": \"ZCU104-BISMO_INT4\", \"x\": \"CNV_100_INT4\", \"values\": 6228.9702130000005}, {\"y\": \"TX2-maxn_FP16\", \"x\": \"CNV_100_INT4\", \"values\": null}, {\"y\": \"TX2-maxn_FP32\", \"x\": \"CNV_100_INT4\", \"values\": null}, {\"y\": \"TX2-maxp_FP16\", \"x\": \"CNV_100_INT4\", \"values\": null}, {\"y\": \"TX2-maxp_FP32\", \"x\": \"CNV_100_INT4\", \"values\": null}, {\"y\": \"TX2-maxq_FP16\", \"x\": \"CNV_100_INT4\", \"values\": null}, {\"y\": \"TX2-maxq_FP32\", \"x\": \"CNV_100_INT4\", \"values\": null}, {\"y\": \"EdgeTPU-fast_INT8\", \"x\": \"CNV_100_INT4\", \"values\": null}, {\"y\": \"EdgeTPU-slow_INT8\", \"x\": \"CNV_100_INT4\", \"values\": null}, {\"y\": \"NCS_INT8\", \"x\": \"CNV_100_INT4\", \"values\": null}, {\"y\": \"NCS_FP16\", \"x\": \"CNV_100_INT4\", \"values\": null}, {\"y\": \"U96-Quadcore-A53_INT8\", \"x\": \"CNV_100_INT4\", \"values\": 408.5106383}, {\"y\": \"Ultra96-DPU_INT8\", \"x\": \"CNV_100_FP16\", \"values\": null}, {\"y\": \"ZCU104-DPU_INT8\", \"x\": \"CNV_100_FP16\", \"values\": null}, {\"y\": \"ZCU102-DPU_INT8\", \"x\": \"CNV_100_FP16\", \"values\": null}, {\"y\": \"ZCU104-FINN_INT2\", \"x\": \"CNV_100_FP16\", \"values\": null}, {\"y\": \"ZCU104-FINN_INT4\", \"x\": \"CNV_100_FP16\", \"values\": null}, {\"y\": \"ZCU104-BISMO_INT2\", \"x\": \"CNV_100_FP16\", \"values\": null}, {\"y\": \"ZCU104-BISMO_INT4\", \"x\": \"CNV_100_FP16\", \"values\": null}, {\"y\": \"TX2-maxn_FP16\", \"x\": \"CNV_100_FP16\", \"values\": 2829.787234}, {\"y\": \"TX2-maxn_FP32\", \"x\": \"CNV_100_FP16\", \"values\": null}, {\"y\": \"TX2-maxp_FP16\", \"x\": \"CNV_100_FP16\", \"values\": 2446.8085109999997}, {\"y\": \"TX2-maxp_FP32\", \"x\": \"CNV_100_FP16\", \"values\": null}, {\"y\": \"TX2-maxq_FP16\", \"x\": \"CNV_100_FP16\", \"values\": 1851.06383}, {\"y\": \"TX2-maxq_FP32\", \"x\": \"CNV_100_FP16\", \"values\": null}, {\"y\": \"EdgeTPU-fast_INT8\", \"x\": \"CNV_100_FP16\", \"values\": null}, {\"y\": \"EdgeTPU-slow_INT8\", \"x\": \"CNV_100_FP16\", \"values\": null}, {\"y\": \"NCS_INT8\", \"x\": \"CNV_100_FP16\", \"values\": null}, {\"y\": \"NCS_FP16\", \"x\": \"CNV_100_FP16\", \"values\": 1038.1617019999999}, {\"y\": \"U96-Quadcore-A53_INT8\", \"x\": \"CNV_100_FP16\", \"values\": null}, {\"y\": \"Ultra96-DPU_INT8\", \"x\": \"CNV_100_FP32\", \"values\": null}, {\"y\": \"ZCU104-DPU_INT8\", \"x\": \"CNV_100_FP32\", \"values\": null}, {\"y\": \"ZCU102-DPU_INT8\", \"x\": \"CNV_100_FP32\", \"values\": null}, {\"y\": \"ZCU104-FINN_INT2\", \"x\": \"CNV_100_FP32\", \"values\": null}, {\"y\": \"ZCU104-FINN_INT4\", \"x\": \"CNV_100_FP32\", \"values\": null}, {\"y\": \"ZCU104-BISMO_INT2\", \"x\": \"CNV_100_FP32\", \"values\": null}, {\"y\": \"ZCU104-BISMO_INT4\", \"x\": \"CNV_100_FP32\", \"values\": null}, {\"y\": \"TX2-maxn_FP16\", \"x\": \"CNV_100_FP32\", \"values\": null}, {\"y\": \"TX2-maxn_FP32\", \"x\": \"CNV_100_FP32\", \"values\": 1425.531915}, {\"y\": \"TX2-maxp_FP16\", \"x\": \"CNV_100_FP32\", \"values\": null}, {\"y\": \"TX2-maxp_FP32\", \"x\": \"CNV_100_FP32\", \"values\": 1212.765957}, {\"y\": \"TX2-maxq_FP16\", \"x\": \"CNV_100_FP32\", \"values\": null}, {\"y\": \"TX2-maxq_FP32\", \"x\": \"CNV_100_FP32\", \"values\": 936.1702127999998}, {\"y\": \"EdgeTPU-fast_INT8\", \"x\": \"CNV_100_FP32\", \"values\": null}, {\"y\": \"EdgeTPU-slow_INT8\", \"x\": \"CNV_100_FP32\", \"values\": null}, {\"y\": \"NCS_INT8\", \"x\": \"CNV_100_FP32\", \"values\": null}, {\"y\": \"NCS_FP16\", \"x\": \"CNV_100_FP32\", \"values\": null}, {\"y\": \"U96-Quadcore-A53_INT8\", \"x\": \"CNV_100_FP32\", \"values\": null}, {\"y\": \"Ultra96-DPU_INT8\", \"x\": \"CNV_50_INT2\", \"values\": null}, {\"y\": \"ZCU104-DPU_INT8\", \"x\": \"CNV_50_INT2\", \"values\": null}, {\"y\": \"ZCU102-DPU_INT8\", \"x\": \"CNV_50_INT2\", \"values\": null}, {\"y\": \"ZCU104-FINN_INT2\", \"x\": \"CNV_50_INT2\", \"values\": 49331.2}, {\"y\": \"ZCU104-FINN_INT4\", \"x\": \"CNV_50_INT2\", \"values\": null}, {\"y\": \"ZCU104-BISMO_INT2\", \"x\": \"CNV_50_INT2\", \"values\": 49331.2}, {\"y\": \"ZCU104-BISMO_INT4\", \"x\": \"CNV_50_INT2\", \"values\": null}, {\"y\": \"TX2-maxn_FP16\", \"x\": \"CNV_50_INT2\", \"values\": null}, {\"y\": \"TX2-maxn_FP32\", \"x\": \"CNV_50_INT2\", \"values\": null}, {\"y\": \"TX2-maxp_FP16\", \"x\": \"CNV_50_INT2\", \"values\": null}, {\"y\": \"TX2-maxp_FP32\", \"x\": \"CNV_50_INT2\", \"values\": null}, {\"y\": \"TX2-maxq_FP16\", \"x\": \"CNV_50_INT2\", \"values\": null}, {\"y\": \"TX2-maxq_FP32\", \"x\": \"CNV_50_INT2\", \"values\": null}, {\"y\": \"EdgeTPU-fast_INT8\", \"x\": \"CNV_50_INT2\", \"values\": null}, {\"y\": \"EdgeTPU-slow_INT8\", \"x\": \"CNV_50_INT2\", \"values\": null}, {\"y\": \"NCS_INT8\", \"x\": \"CNV_50_INT2\", \"values\": null}, {\"y\": \"NCS_FP16\", \"x\": \"CNV_50_INT2\", \"values\": null}, {\"y\": \"U96-Quadcore-A53_INT8\", \"x\": \"CNV_50_INT2\", \"values\": 1600.0}, {\"y\": \"Ultra96-DPU_INT8\", \"x\": \"CNV_50_INT4\", \"values\": null}, {\"y\": \"ZCU104-DPU_INT8\", \"x\": \"CNV_50_INT4\", \"values\": null}, {\"y\": \"ZCU102-DPU_INT8\", \"x\": \"CNV_50_INT4\", \"values\": null}, {\"y\": \"ZCU104-FINN_INT2\", \"x\": \"CNV_50_INT4\", \"values\": null}, {\"y\": \"ZCU104-FINN_INT4\", \"x\": \"CNV_50_INT4\", \"values\": 24665.6}, {\"y\": \"ZCU104-BISMO_INT2\", \"x\": \"CNV_50_INT4\", \"values\": null}, {\"y\": \"ZCU104-BISMO_INT4\", \"x\": \"CNV_50_INT4\", \"values\": 24665.6}, {\"y\": \"TX2-maxn_FP16\", \"x\": \"CNV_50_INT4\", \"values\": null}, {\"y\": \"TX2-maxn_FP32\", \"x\": \"CNV_50_INT4\", \"values\": null}, {\"y\": \"TX2-maxp_FP16\", \"x\": \"CNV_50_INT4\", \"values\": null}, {\"y\": \"TX2-maxp_FP32\", \"x\": \"CNV_50_INT4\", \"values\": null}, {\"y\": \"TX2-maxq_FP16\", \"x\": \"CNV_50_INT4\", \"values\": null}, {\"y\": \"TX2-maxq_FP32\", \"x\": \"CNV_50_INT4\", \"values\": null}, {\"y\": \"EdgeTPU-fast_INT8\", \"x\": \"CNV_50_INT4\", \"values\": null}, {\"y\": \"EdgeTPU-slow_INT8\", \"x\": \"CNV_50_INT4\", \"values\": null}, {\"y\": \"NCS_INT8\", \"x\": \"CNV_50_INT4\", \"values\": null}, {\"y\": \"NCS_FP16\", \"x\": \"CNV_50_INT4\", \"values\": null}, {\"y\": \"U96-Quadcore-A53_INT8\", \"x\": \"CNV_50_INT4\", \"values\": 1600.0}, {\"y\": \"Ultra96-DPU_INT8\", \"x\": \"CNV_50_FP16\", \"values\": null}, {\"y\": \"ZCU104-DPU_INT8\", \"x\": \"CNV_50_FP16\", \"values\": null}, {\"y\": \"ZCU102-DPU_INT8\", \"x\": \"CNV_50_FP16\", \"values\": null}, {\"y\": \"ZCU104-FINN_INT2\", \"x\": \"CNV_50_FP16\", \"values\": null}, {\"y\": \"ZCU104-FINN_INT4\", \"x\": \"CNV_50_FP16\", \"values\": null}, {\"y\": \"ZCU104-BISMO_INT2\", \"x\": \"CNV_50_FP16\", \"values\": null}, {\"y\": \"ZCU104-BISMO_INT4\", \"x\": \"CNV_50_FP16\", \"values\": null}, {\"y\": \"TX2-maxn_FP16\", \"x\": \"CNV_50_FP16\", \"values\": 11083.33333}, {\"y\": \"TX2-maxn_FP32\", \"x\": \"CNV_50_FP16\", \"values\": null}, {\"y\": \"TX2-maxp_FP16\", \"x\": \"CNV_50_FP16\", \"values\": 9583.333333}, {\"y\": \"TX2-maxp_FP32\", \"x\": \"CNV_50_FP16\", \"values\": null}, {\"y\": \"TX2-maxq_FP16\", \"x\": \"CNV_50_FP16\", \"values\": 7250.0}, {\"y\": \"TX2-maxq_FP32\", \"x\": \"CNV_50_FP16\", \"values\": null}, {\"y\": \"EdgeTPU-fast_INT8\", \"x\": \"CNV_50_FP16\", \"values\": null}, {\"y\": \"EdgeTPU-slow_INT8\", \"x\": \"CNV_50_FP16\", \"values\": null}, {\"y\": \"NCS_INT8\", \"x\": \"CNV_50_FP16\", \"values\": null}, {\"y\": \"NCS_FP16\", \"x\": \"CNV_50_FP16\", \"values\": 4110.933333}, {\"y\": \"U96-Quadcore-A53_INT8\", \"x\": \"CNV_50_FP16\", \"values\": null}, {\"y\": \"Ultra96-DPU_INT8\", \"x\": \"CNV_50_FP32\", \"values\": null}, {\"y\": \"ZCU104-DPU_INT8\", \"x\": \"CNV_50_FP32\", \"values\": null}, {\"y\": \"ZCU102-DPU_INT8\", \"x\": \"CNV_50_FP32\", \"values\": null}, {\"y\": \"ZCU104-FINN_INT2\", \"x\": \"CNV_50_FP32\", \"values\": null}, {\"y\": \"ZCU104-FINN_INT4\", \"x\": \"CNV_50_FP32\", \"values\": null}, {\"y\": \"ZCU104-BISMO_INT2\", \"x\": \"CNV_50_FP32\", \"values\": null}, {\"y\": \"ZCU104-BISMO_INT4\", \"x\": \"CNV_50_FP32\", \"values\": null}, {\"y\": \"TX2-maxn_FP16\", \"x\": \"CNV_50_FP32\", \"values\": null}, {\"y\": \"TX2-maxn_FP32\", \"x\": \"CNV_50_FP32\", \"values\": 5583.333333}, {\"y\": \"TX2-maxp_FP16\", \"x\": \"CNV_50_FP32\", \"values\": null}, {\"y\": \"TX2-maxp_FP32\", \"x\": \"CNV_50_FP32\", \"values\": 4750.0}, {\"y\": \"TX2-maxq_FP16\", \"x\": \"CNV_50_FP32\", \"values\": null}, {\"y\": \"TX2-maxq_FP32\", \"x\": \"CNV_50_FP32\", \"values\": 3666.666667}, {\"y\": \"EdgeTPU-fast_INT8\", \"x\": \"CNV_50_FP32\", \"values\": null}, {\"y\": \"EdgeTPU-slow_INT8\", \"x\": \"CNV_50_FP32\", \"values\": null}, {\"y\": \"NCS_INT8\", \"x\": \"CNV_50_FP32\", \"values\": null}, {\"y\": \"NCS_FP16\", \"x\": \"CNV_50_FP32\", \"values\": null}, {\"y\": \"U96-Quadcore-A53_INT8\", \"x\": \"CNV_50_FP32\", \"values\": null}, {\"y\": \"Ultra96-DPU_INT8\", \"x\": \"CNV_25_INT2\", \"values\": null}, {\"y\": \"ZCU104-DPU_INT8\", \"x\": \"CNV_25_INT2\", \"values\": null}, {\"y\": \"ZCU102-DPU_INT8\", \"x\": \"CNV_25_INT2\", \"values\": null}, {\"y\": \"ZCU104-FINN_INT2\", \"x\": \"CNV_25_INT2\", \"values\": 201600.0}, {\"y\": \"ZCU104-FINN_INT4\", \"x\": \"CNV_25_INT2\", \"values\": null}, {\"y\": \"ZCU104-BISMO_INT2\", \"x\": \"CNV_25_INT2\", \"values\": 201600.0}, {\"y\": \"ZCU104-BISMO_INT4\", \"x\": \"CNV_25_INT2\", \"values\": null}, {\"y\": \"TX2-maxn_FP16\", \"x\": \"CNV_25_INT2\", \"values\": null}, {\"y\": \"TX2-maxn_FP32\", \"x\": \"CNV_25_INT2\", \"values\": null}, {\"y\": \"TX2-maxp_FP16\", \"x\": \"CNV_25_INT2\", \"values\": null}, {\"y\": \"TX2-maxp_FP32\", \"x\": \"CNV_25_INT2\", \"values\": null}, {\"y\": \"TX2-maxq_FP16\", \"x\": \"CNV_25_INT2\", \"values\": null}, {\"y\": \"TX2-maxq_FP32\", \"x\": \"CNV_25_INT2\", \"values\": null}, {\"y\": \"EdgeTPU-fast_INT8\", \"x\": \"CNV_25_INT2\", \"values\": null}, {\"y\": \"EdgeTPU-slow_INT8\", \"x\": \"CNV_25_INT2\", \"values\": null}, {\"y\": \"NCS_INT8\", \"x\": \"CNV_25_INT2\", \"values\": null}, {\"y\": \"NCS_FP16\", \"x\": \"CNV_25_INT2\", \"values\": null}, {\"y\": \"U96-Quadcore-A53_INT8\", \"x\": \"CNV_25_INT2\", \"values\": 6400.0}, {\"y\": \"Ultra96-DPU_INT8\", \"x\": \"CNV_25_INT4\", \"values\": null}, {\"y\": \"ZCU104-DPU_INT8\", \"x\": \"CNV_25_INT4\", \"values\": null}, {\"y\": \"ZCU102-DPU_INT8\", \"x\": \"CNV_25_INT4\", \"values\": null}, {\"y\": \"ZCU104-FINN_INT2\", \"x\": \"CNV_25_INT4\", \"values\": null}, {\"y\": \"ZCU104-FINN_INT4\", \"x\": \"CNV_25_INT4\", \"values\": 100800.0}, {\"y\": \"ZCU104-BISMO_INT2\", \"x\": \"CNV_25_INT4\", \"values\": null}, {\"y\": \"ZCU104-BISMO_INT4\", \"x\": \"CNV_25_INT4\", \"values\": 100800.0}, {\"y\": \"TX2-maxn_FP16\", \"x\": \"CNV_25_INT4\", \"values\": null}, {\"y\": \"TX2-maxn_FP32\", \"x\": \"CNV_25_INT4\", \"values\": null}, {\"y\": \"TX2-maxp_FP16\", \"x\": \"CNV_25_INT4\", \"values\": null}, {\"y\": \"TX2-maxp_FP32\", \"x\": \"CNV_25_INT4\", \"values\": null}, {\"y\": \"TX2-maxq_FP16\", \"x\": \"CNV_25_INT4\", \"values\": null}, {\"y\": \"TX2-maxq_FP32\", \"x\": \"CNV_25_INT4\", \"values\": null}, {\"y\": \"EdgeTPU-fast_INT8\", \"x\": \"CNV_25_INT4\", \"values\": null}, {\"y\": \"EdgeTPU-slow_INT8\", \"x\": \"CNV_25_INT4\", \"values\": null}, {\"y\": \"NCS_INT8\", \"x\": \"CNV_25_INT4\", \"values\": null}, {\"y\": \"NCS_FP16\", \"x\": \"CNV_25_INT4\", \"values\": null}, {\"y\": \"U96-Quadcore-A53_INT8\", \"x\": \"CNV_25_INT4\", \"values\": 6400.0}, {\"y\": \"Ultra96-DPU_INT8\", \"x\": \"CNV_25_FP16\", \"values\": null}, {\"y\": \"ZCU104-DPU_INT8\", \"x\": \"CNV_25_FP16\", \"values\": null}, {\"y\": \"ZCU102-DPU_INT8\", \"x\": \"CNV_25_FP16\", \"values\": null}, {\"y\": \"ZCU104-FINN_INT2\", \"x\": \"CNV_25_FP16\", \"values\": null}, {\"y\": \"ZCU104-FINN_INT4\", \"x\": \"CNV_25_FP16\", \"values\": null}, {\"y\": \"ZCU104-BISMO_INT2\", \"x\": \"CNV_25_FP16\", \"values\": null}, {\"y\": \"ZCU104-BISMO_INT4\", \"x\": \"CNV_25_FP16\", \"values\": null}, {\"y\": \"TX2-maxn_FP16\", \"x\": \"CNV_25_FP16\", \"values\": 44333.33333}, {\"y\": \"TX2-maxn_FP32\", \"x\": \"CNV_25_FP16\", \"values\": null}, {\"y\": \"TX2-maxp_FP16\", \"x\": \"CNV_25_FP16\", \"values\": 38333.33333}, {\"y\": \"TX2-maxp_FP32\", \"x\": \"CNV_25_FP16\", \"values\": null}, {\"y\": \"TX2-maxq_FP16\", \"x\": \"CNV_25_FP16\", \"values\": 29000.0}, {\"y\": \"TX2-maxq_FP32\", \"x\": \"CNV_25_FP16\", \"values\": null}, {\"y\": \"EdgeTPU-fast_INT8\", \"x\": \"CNV_25_FP16\", \"values\": null}, {\"y\": \"EdgeTPU-slow_INT8\", \"x\": \"CNV_25_FP16\", \"values\": null}, {\"y\": \"NCS_INT8\", \"x\": \"CNV_25_FP16\", \"values\": null}, {\"y\": \"NCS_FP16\", \"x\": \"CNV_25_FP16\", \"values\": 16666.66667}, {\"y\": \"U96-Quadcore-A53_INT8\", \"x\": \"CNV_25_FP16\", \"values\": null}, {\"y\": \"Ultra96-DPU_INT8\", \"x\": \"CNV_25_FP32\", \"values\": null}, {\"y\": \"ZCU104-DPU_INT8\", \"x\": \"CNV_25_FP32\", \"values\": null}, {\"y\": \"ZCU102-DPU_INT8\", \"x\": \"CNV_25_FP32\", \"values\": null}, {\"y\": \"ZCU104-FINN_INT2\", \"x\": \"CNV_25_FP32\", \"values\": null}, {\"y\": \"ZCU104-FINN_INT4\", \"x\": \"CNV_25_FP32\", \"values\": null}, {\"y\": \"ZCU104-BISMO_INT2\", \"x\": \"CNV_25_FP32\", \"values\": null}, {\"y\": \"ZCU104-BISMO_INT4\", \"x\": \"CNV_25_FP32\", \"values\": null}, {\"y\": \"TX2-maxn_FP16\", \"x\": \"CNV_25_FP32\", \"values\": null}, {\"y\": \"TX2-maxn_FP32\", \"x\": \"CNV_25_FP32\", \"values\": 22333.33333}, {\"y\": \"TX2-maxp_FP16\", \"x\": \"CNV_25_FP32\", \"values\": null}, {\"y\": \"TX2-maxp_FP32\", \"x\": \"CNV_25_FP32\", \"values\": 19000.0}, {\"y\": \"TX2-maxq_FP16\", \"x\": \"CNV_25_FP32\", \"values\": null}, {\"y\": \"TX2-maxq_FP32\", \"x\": \"CNV_25_FP32\", \"values\": 14666.666669999999}, {\"y\": \"EdgeTPU-fast_INT8\", \"x\": \"CNV_25_FP32\", \"values\": null}, {\"y\": \"EdgeTPU-slow_INT8\", \"x\": \"CNV_25_FP32\", \"values\": null}, {\"y\": \"NCS_INT8\", \"x\": \"CNV_25_FP32\", \"values\": null}, {\"y\": \"NCS_FP16\", \"x\": \"CNV_25_FP32\", \"values\": null}, {\"y\": \"U96-Quadcore-A53_INT8\", \"x\": \"CNV_25_FP32\", \"values\": null}, {\"y\": \"Ultra96-DPU_INT8\", \"x\": \"CNV_12.5_INT2\", \"values\": null}, {\"y\": \"ZCU104-DPU_INT8\", \"x\": \"CNV_12.5_INT2\", \"values\": null}, {\"y\": \"ZCU102-DPU_INT8\", \"x\": \"CNV_12.5_INT2\", \"values\": null}, {\"y\": \"ZCU104-FINN_INT2\", \"x\": \"CNV_12.5_INT2\", \"values\": 638592.0}, {\"y\": \"ZCU104-FINN_INT4\", \"x\": \"CNV_12.5_INT2\", \"values\": null}, {\"y\": \"ZCU104-BISMO_INT2\", \"x\": \"CNV_12.5_INT2\", \"values\": 638592.0}, {\"y\": \"ZCU104-BISMO_INT4\", \"x\": \"CNV_12.5_INT2\", \"values\": null}, {\"y\": \"TX2-maxn_FP16\", \"x\": \"CNV_12.5_INT2\", \"values\": null}, {\"y\": \"TX2-maxn_FP32\", \"x\": \"CNV_12.5_INT2\", \"values\": null}, {\"y\": \"TX2-maxp_FP16\", \"x\": \"CNV_12.5_INT2\", \"values\": null}, {\"y\": \"TX2-maxp_FP32\", \"x\": \"CNV_12.5_INT2\", \"values\": null}, {\"y\": \"TX2-maxq_FP16\", \"x\": \"CNV_12.5_INT2\", \"values\": null}, {\"y\": \"TX2-maxq_FP32\", \"x\": \"CNV_12.5_INT2\", \"values\": null}, {\"y\": \"EdgeTPU-fast_INT8\", \"x\": \"CNV_12.5_INT2\", \"values\": null}, {\"y\": \"EdgeTPU-slow_INT8\", \"x\": \"CNV_12.5_INT2\", \"values\": null}, {\"y\": \"NCS_INT8\", \"x\": \"CNV_12.5_INT2\", \"values\": null}, {\"y\": \"NCS_FP16\", \"x\": \"CNV_12.5_INT2\", \"values\": null}, {\"y\": \"U96-Quadcore-A53_INT8\", \"x\": \"CNV_12.5_INT2\", \"values\": 19200.0}, {\"y\": \"Ultra96-DPU_INT8\", \"x\": \"CNV_12.5_INT4\", \"values\": null}, {\"y\": \"ZCU104-DPU_INT8\", \"x\": \"CNV_12.5_INT4\", \"values\": null}, {\"y\": \"ZCU102-DPU_INT8\", \"x\": \"CNV_12.5_INT4\", \"values\": null}, {\"y\": \"ZCU104-FINN_INT2\", \"x\": \"CNV_12.5_INT4\", \"values\": null}, {\"y\": \"ZCU104-FINN_INT4\", \"x\": \"CNV_12.5_INT4\", \"values\": 319296.0}, {\"y\": \"ZCU104-BISMO_INT2\", \"x\": \"CNV_12.5_INT4\", \"values\": null}, {\"y\": \"ZCU104-BISMO_INT4\", \"x\": \"CNV_12.5_INT4\", \"values\": 319296.0}, {\"y\": \"TX2-maxn_FP16\", \"x\": \"CNV_12.5_INT4\", \"values\": null}, {\"y\": \"TX2-maxn_FP32\", \"x\": \"CNV_12.5_INT4\", \"values\": null}, {\"y\": \"TX2-maxp_FP16\", \"x\": \"CNV_12.5_INT4\", \"values\": null}, {\"y\": \"TX2-maxp_FP32\", \"x\": \"CNV_12.5_INT4\", \"values\": null}, {\"y\": \"TX2-maxq_FP16\", \"x\": \"CNV_12.5_INT4\", \"values\": null}, {\"y\": \"TX2-maxq_FP32\", \"x\": \"CNV_12.5_INT4\", \"values\": null}, {\"y\": \"EdgeTPU-fast_INT8\", \"x\": \"CNV_12.5_INT4\", \"values\": null}, {\"y\": \"EdgeTPU-slow_INT8\", \"x\": \"CNV_12.5_INT4\", \"values\": null}, {\"y\": \"NCS_INT8\", \"x\": \"CNV_12.5_INT4\", \"values\": null}, {\"y\": \"NCS_FP16\", \"x\": \"CNV_12.5_INT4\", \"values\": null}, {\"y\": \"U96-Quadcore-A53_INT8\", \"x\": \"CNV_12.5_INT4\", \"values\": 19200.0}, {\"y\": \"Ultra96-DPU_INT8\", \"x\": \"CNV_12.5_FP16\", \"values\": null}, {\"y\": \"ZCU104-DPU_INT8\", \"x\": \"CNV_12.5_FP16\", \"values\": null}, {\"y\": \"ZCU102-DPU_INT8\", \"x\": \"CNV_12.5_FP16\", \"values\": null}, {\"y\": \"ZCU104-FINN_INT2\", \"x\": \"CNV_12.5_FP16\", \"values\": null}, {\"y\": \"ZCU104-FINN_INT4\", \"x\": \"CNV_12.5_FP16\", \"values\": null}, {\"y\": \"ZCU104-BISMO_INT2\", \"x\": \"CNV_12.5_FP16\", \"values\": null}, {\"y\": \"ZCU104-BISMO_INT4\", \"x\": \"CNV_12.5_FP16\", \"values\": null}, {\"y\": \"TX2-maxn_FP16\", \"x\": \"CNV_12.5_FP16\", \"values\": 133000.0}, {\"y\": \"TX2-maxn_FP32\", \"x\": \"CNV_12.5_FP16\", \"values\": null}, {\"y\": \"TX2-maxp_FP16\", \"x\": \"CNV_12.5_FP16\", \"values\": 115000.0}, {\"y\": \"TX2-maxp_FP32\", \"x\": \"CNV_12.5_FP16\", \"values\": null}, {\"y\": \"TX2-maxq_FP16\", \"x\": \"CNV_12.5_FP16\", \"values\": 87000.0}, {\"y\": \"TX2-maxq_FP32\", \"x\": \"CNV_12.5_FP16\", \"values\": null}, {\"y\": \"EdgeTPU-fast_INT8\", \"x\": \"CNV_12.5_FP16\", \"values\": null}, {\"y\": \"EdgeTPU-slow_INT8\", \"x\": \"CNV_12.5_FP16\", \"values\": null}, {\"y\": \"NCS_INT8\", \"x\": \"CNV_12.5_FP16\", \"values\": null}, {\"y\": \"NCS_FP16\", \"x\": \"CNV_12.5_FP16\", \"values\": 50000.0}, {\"y\": \"U96-Quadcore-A53_INT8\", \"x\": \"CNV_12.5_FP16\", \"values\": null}, {\"y\": \"Ultra96-DPU_INT8\", \"x\": \"CNV_12.5_FP32\", \"values\": null}, {\"y\": \"ZCU104-DPU_INT8\", \"x\": \"CNV_12.5_FP32\", \"values\": null}, {\"y\": \"ZCU102-DPU_INT8\", \"x\": \"CNV_12.5_FP32\", \"values\": null}, {\"y\": \"ZCU104-FINN_INT2\", \"x\": \"CNV_12.5_FP32\", \"values\": null}, {\"y\": \"ZCU104-FINN_INT4\", \"x\": \"CNV_12.5_FP32\", \"values\": null}, {\"y\": \"ZCU104-BISMO_INT2\", \"x\": \"CNV_12.5_FP32\", \"values\": null}, {\"y\": \"ZCU104-BISMO_INT4\", \"x\": \"CNV_12.5_FP32\", \"values\": null}, {\"y\": \"TX2-maxn_FP16\", \"x\": \"CNV_12.5_FP32\", \"values\": null}, {\"y\": \"TX2-maxn_FP32\", \"x\": \"CNV_12.5_FP32\", \"values\": 67000.0}, {\"y\": \"TX2-maxp_FP16\", \"x\": \"CNV_12.5_FP32\", \"values\": null}, {\"y\": \"TX2-maxp_FP32\", \"x\": \"CNV_12.5_FP32\", \"values\": 57000.0}, {\"y\": \"TX2-maxq_FP16\", \"x\": \"CNV_12.5_FP32\", \"values\": null}, {\"y\": \"TX2-maxq_FP32\", \"x\": \"CNV_12.5_FP32\", \"values\": 44000.0}, {\"y\": \"EdgeTPU-fast_INT8\", \"x\": \"CNV_12.5_FP32\", \"values\": null}, {\"y\": \"EdgeTPU-slow_INT8\", \"x\": \"CNV_12.5_FP32\", \"values\": null}, {\"y\": \"NCS_INT8\", \"x\": \"CNV_12.5_FP32\", \"values\": null}, {\"y\": \"NCS_FP16\", \"x\": \"CNV_12.5_FP32\", \"values\": null}, {\"y\": \"U96-Quadcore-A53_INT8\", \"x\": \"CNV_12.5_FP32\", \"values\": null}]}}, {\"mode\": \"vega-lite\"});\n",
       "</script>"
      ],
      "text/plain": [
       "alt.LayerChart(...)"
      ]
     },
     "execution_count": 20,
     "metadata": {},
     "output_type": "execute_result"
    }
   ],
   "source": [
    "#hide_input\n",
    "%run scripts/altair_plots.py  #run the heatmaps script\n",
    "#load cifar10 dataset and plot it\n",
    "#heatmap(pd.read_csv(\"data/cleaned_csv/performance_prediction_cifar10.csv\"), 'pink','Performance Prediction for CIFAR-10')\n",
    "heatmap('data/performance_predictions_imagenet_mnist_cifar.csv', 'cifar', 'Performance Prediction for CIFAR-10')"
   ]
  },
  {
   "cell_type": "markdown",
   "metadata": {},
   "source": [
    "# Theoretical Pareto Curves"
   ]
  },
  {
   "cell_type": "markdown",
   "metadata": {},
   "source": [
    "In the following plots we present a theoretical pareto curve for each type of classification. "
   ]
  },
  {
   "cell_type": "markdown",
   "metadata": {},
   "source": [
    "### MNIST"
   ]
  },
  {
   "cell_type": "code",
   "execution_count": 15,
   "metadata": {
    "scrolled": false
   },
   "outputs": [
    {
     "data": {
      "text/html": [
       "\n",
       "<div id=\"altair-viz-ff2da99d8ef843248256856634a0ff5e\"></div>\n",
       "<script type=\"text/javascript\">\n",
       "  (function(spec, embedOpt){\n",
       "    let outputDiv = document.currentScript.previousElementSibling;\n",
       "    if (outputDiv.id !== \"altair-viz-ff2da99d8ef843248256856634a0ff5e\") {\n",
       "      outputDiv = document.getElementById(\"altair-viz-ff2da99d8ef843248256856634a0ff5e\");\n",
       "    }\n",
       "    const paths = {\n",
       "      \"vega\": \"https://cdn.jsdelivr.net/npm//vega@5?noext\",\n",
       "      \"vega-lib\": \"https://cdn.jsdelivr.net/npm//vega-lib?noext\",\n",
       "      \"vega-lite\": \"https://cdn.jsdelivr.net/npm//vega-lite@4.8.1?noext\",\n",
       "      \"vega-embed\": \"https://cdn.jsdelivr.net/npm//vega-embed@6?noext\",\n",
       "    };\n",
       "\n",
       "    function loadScript(lib) {\n",
       "      return new Promise(function(resolve, reject) {\n",
       "        var s = document.createElement('script');\n",
       "        s.src = paths[lib];\n",
       "        s.async = true;\n",
       "        s.onload = () => resolve(paths[lib]);\n",
       "        s.onerror = () => reject(`Error loading script: ${paths[lib]}`);\n",
       "        document.getElementsByTagName(\"head\")[0].appendChild(s);\n",
       "      });\n",
       "    }\n",
       "\n",
       "    function showError(err) {\n",
       "      outputDiv.innerHTML = `<div class=\"error\" style=\"color:red;\">${err}</div>`;\n",
       "      throw err;\n",
       "    }\n",
       "\n",
       "    function displayChart(vegaEmbed) {\n",
       "      vegaEmbed(outputDiv, spec, embedOpt)\n",
       "        .catch(err => showError(`Javascript Error: ${err.message}<br>This usually means there's a typo in your chart specification. See the javascript console for the full traceback.`));\n",
       "    }\n",
       "\n",
       "    if(typeof define === \"function\" && define.amd) {\n",
       "      requirejs.config({paths});\n",
       "      require([\"vega-embed\"], displayChart, err => showError(`Error loading script: ${err.message}`));\n",
       "    } else if (typeof vegaEmbed === \"function\") {\n",
       "      displayChart(vegaEmbed);\n",
       "    } else {\n",
       "      loadScript(\"vega\")\n",
       "        .then(() => loadScript(\"vega-lite\"))\n",
       "        .then(() => loadScript(\"vega-embed\"))\n",
       "        .catch(showError)\n",
       "        .then(() => displayChart(vegaEmbed));\n",
       "    }\n",
       "  })({\"config\": {\"view\": {\"continuousWidth\": 400, \"continuousHeight\": 300}}, \"layer\": [{\"mark\": {\"type\": \"point\", \"filled\": true}, \"encoding\": {\"color\": {\"type\": \"nominal\", \"field\": \"hardw_datatype_net_prun\"}, \"tooltip\": [{\"type\": \"nominal\", \"field\": \"hardw_datatype_net_prun\"}, {\"type\": \"quantitative\", \"field\": \"fps-comp\"}, {\"type\": \"nominal\", \"field\": \"top1\"}], \"x\": {\"type\": \"quantitative\", \"field\": \"fps-comp\", \"scale\": {\"type\": \"log\"}}, \"y\": {\"type\": \"quantitative\", \"field\": \"top1\", \"scale\": {\"zero\": false}}}, \"height\": 624.0, \"selection\": {\"selector006\": {\"type\": \"interval\", \"bind\": \"scales\", \"encodings\": [\"x\", \"y\"]}}, \"title\": \"Theoretical Pareto for MNIST\", \"width\": 600}, {\"mark\": {\"type\": \"text\", \"align\": \"left\", \"angle\": 325, \"baseline\": \"middle\", \"dx\": 7}, \"encoding\": {\"color\": {\"type\": \"nominal\", \"field\": \"hardw_datatype_net_prun\"}, \"text\": {\"type\": \"nominal\", \"field\": \"HWType\"}, \"tooltip\": [{\"type\": \"nominal\", \"field\": \"hardw_datatype_net_prun\"}, {\"type\": \"quantitative\", \"field\": \"fps-comp\"}, {\"type\": \"nominal\", \"field\": \"top1\"}], \"x\": {\"type\": \"quantitative\", \"field\": \"fps-comp\", \"scale\": {\"type\": \"log\"}}, \"y\": {\"type\": \"quantitative\", \"field\": \"top1\", \"scale\": {\"zero\": false}}}, \"height\": 624.0, \"title\": \"Theoretical Pareto for MNIST\", \"width\": 600}, {\"data\": {\"name\": \"data-cbc69d3c80f54c2420bfdac935848113\"}, \"mark\": {\"type\": \"line\", \"point\": true}, \"encoding\": {\"color\": {\"value\": \"#FFA500\"}, \"tooltip\": [{\"type\": \"nominal\", \"field\": \"group\"}, {\"type\": \"quantitative\", \"field\": \"x\"}, {\"type\": \"nominal\", \"field\": \"y\"}], \"x\": {\"type\": \"quantitative\", \"field\": \"x\", \"scale\": {\"type\": \"log\"}}, \"y\": {\"type\": \"quantitative\", \"field\": \"y\", \"scale\": {\"zero\": false}}}, \"selection\": {\"selector005\": {\"type\": \"interval\", \"bind\": \"scales\", \"encodings\": [\"x\", \"y\"]}}}], \"data\": {\"name\": \"data-8eb04078cf8399293e64c121b29619ed\"}, \"$schema\": \"https://vega.github.io/schema/vega-lite/v4.8.1.json\", \"datasets\": {\"data-8eb04078cf8399293e64c121b29619ed\": [{\"top1\": \"98.75\", \"fps-comp\": 7680.0, \"NN_Topology\": \"MLP\", \"type\": \"predicted\", \"HWType\": \"ZCU104-FINN\", \"hardw_datatype_net_prun\": \"ZCU104-FINN_INT2_MLP_100\"}, {\"top1\": \"98.75\", \"fps-comp\": 7680.0, \"NN_Topology\": \"MLP\", \"type\": \"predicted\", \"HWType\": \"ZCU104-BISMO\", \"hardw_datatype_net_prun\": \"ZCU104-BISMO_INT2_MLP_100\"}, {\"top1\": \"98.75\", \"fps-comp\": 1704.0, \"NN_Topology\": \"MLP\", \"type\": \"predicted\", \"HWType\": \"U96-Quadcore-A53\", \"hardw_datatype_net_prun\": \"U96-Quadcore-A53_INT2_MLP_100\"}, {\"top1\": \"98.49\", \"fps-comp\": 25600.0, \"NN_Topology\": \"MLP\", \"type\": \"predicted\", \"HWType\": \"ZCU104-FINN\", \"hardw_datatype_net_prun\": \"ZCU104-FINN_INT2_MLP_50\"}, {\"top1\": \"98.49\", \"fps-comp\": 25600.0, \"NN_Topology\": \"MLP\", \"type\": \"predicted\", \"HWType\": \"ZCU104-BISMO\", \"hardw_datatype_net_prun\": \"ZCU104-BISMO_INT2_MLP_50\"}, {\"top1\": \"98.49\", \"fps-comp\": 5680.0, \"NN_Topology\": \"MLP\", \"type\": \"predicted\", \"HWType\": \"U96-Quadcore-A53\", \"hardw_datatype_net_prun\": \"U96-Quadcore-A53_INT2_MLP_50\"}, {\"top1\": \"98.04\", \"fps-comp\": 38400.0, \"NN_Topology\": \"MLP\", \"type\": \"predicted\", \"HWType\": \"ZCU104-FINN\", \"hardw_datatype_net_prun\": \"ZCU104-FINN_INT2_MLP_25\"}, {\"top1\": \"98.04\", \"fps-comp\": 76800.0, \"NN_Topology\": \"MLP\", \"type\": \"predicted\", \"HWType\": \"ZCU104-BISMO\", \"hardw_datatype_net_prun\": \"ZCU104-BISMO_INT2_MLP_25\"}, {\"top1\": \"98.04\", \"fps-comp\": 17040.0, \"NN_Topology\": \"MLP\", \"type\": \"predicted\", \"HWType\": \"U96-Quadcore-A53\", \"hardw_datatype_net_prun\": \"U96-Quadcore-A53_INT2_MLP_25\"}, {\"top1\": \"96.85\", \"fps-comp\": 229709.0352, \"NN_Topology\": \"MLP\", \"type\": \"predicted\", \"HWType\": \"ZCU104-FINN\", \"hardw_datatype_net_prun\": \"ZCU104-FINN_INT2_MLP_12.5\"}, {\"top1\": \"96.85\", \"fps-comp\": 229709.0352, \"NN_Topology\": \"MLP\", \"type\": \"predicted\", \"HWType\": \"ZCU104-BISMO\", \"hardw_datatype_net_prun\": \"ZCU104-BISMO_INT2_MLP_12.5\"}, {\"top1\": \"96.85\", \"fps-comp\": 50966.692189999994, \"NN_Topology\": \"MLP\", \"type\": \"predicted\", \"HWType\": \"U96-Quadcore-A53\", \"hardw_datatype_net_prun\": \"U96-Quadcore-A53_INT2_MLP_12.5\"}, {\"top1\": \"98.77\", \"fps-comp\": 3840.0, \"NN_Topology\": \"MLP\", \"type\": \"predicted\", \"HWType\": \"ZCU104-FINN\", \"hardw_datatype_net_prun\": \"ZCU104-FINN_INT4_MLP_100\"}, {\"top1\": \"98.77\", \"fps-comp\": 3840.0, \"NN_Topology\": \"MLP\", \"type\": \"predicted\", \"HWType\": \"ZCU104-BISMO\", \"hardw_datatype_net_prun\": \"ZCU104-BISMO_INT4_MLP_100\"}, {\"top1\": \"98.77\", \"fps-comp\": 852.0, \"NN_Topology\": \"MLP\", \"type\": \"predicted\", \"HWType\": \"U96-Quadcore-A53\", \"hardw_datatype_net_prun\": \"U96-Quadcore-A53_INT4_MLP_100\"}, {\"top1\": \"98.62\", \"fps-comp\": 12800.0, \"NN_Topology\": \"MLP\", \"type\": \"predicted\", \"HWType\": \"ZCU104-FINN\", \"hardw_datatype_net_prun\": \"ZCU104-FINN_INT4_MLP_50\"}, {\"top1\": \"98.62\", \"fps-comp\": 12800.0, \"NN_Topology\": \"MLP\", \"type\": \"predicted\", \"HWType\": \"ZCU104-BISMO\", \"hardw_datatype_net_prun\": \"ZCU104-BISMO_INT4_MLP_50\"}, {\"top1\": \"98.62\", \"fps-comp\": 2840.0, \"NN_Topology\": \"MLP\", \"type\": \"predicted\", \"HWType\": \"U96-Quadcore-A53\", \"hardw_datatype_net_prun\": \"U96-Quadcore-A53_INT4_MLP_50\"}, {\"top1\": \"98.29\", \"fps-comp\": 38400.0, \"NN_Topology\": \"MLP\", \"type\": \"predicted\", \"HWType\": \"ZCU104-FINN\", \"hardw_datatype_net_prun\": \"ZCU104-FINN_INT4_MLP_25\"}, {\"top1\": \"98.29\", \"fps-comp\": 38400.0, \"NN_Topology\": \"MLP\", \"type\": \"predicted\", \"HWType\": \"ZCU104-BISMO\", \"hardw_datatype_net_prun\": \"ZCU104-BISMO_INT4_MLP_25\"}, {\"top1\": \"98.29\", \"fps-comp\": 8520.0, \"NN_Topology\": \"MLP\", \"type\": \"predicted\", \"HWType\": \"U96-Quadcore-A53\", \"hardw_datatype_net_prun\": \"U96-Quadcore-A53_INT4_MLP_25\"}, {\"top1\": \"97.54\", \"fps-comp\": 114854.5176, \"NN_Topology\": \"MLP\", \"type\": \"predicted\", \"HWType\": \"ZCU104-FINN\", \"hardw_datatype_net_prun\": \"ZCU104-FINN_INT4_MLP_12.5\"}, {\"top1\": \"97.54\", \"fps-comp\": 114854.5176, \"NN_Topology\": \"MLP\", \"type\": \"predicted\", \"HWType\": \"ZCU104-BISMO\", \"hardw_datatype_net_prun\": \"ZCU104-BISMO_INT4_MLP_12.5\"}, {\"top1\": \"97.54\", \"fps-comp\": 25483.34609, \"NN_Topology\": \"MLP\", \"type\": \"predicted\", \"HWType\": \"U96-Quadcore-A53\", \"hardw_datatype_net_prun\": \"U96-Quadcore-A53_INT4_MLP_12.5\"}, {\"top1\": \"97.3\", \"fps-comp\": 2985.0, \"NN_Topology\": \"MLP\", \"type\": \"predicted\", \"HWType\": \"TX2-maxn\", \"hardw_datatype_net_prun\": \"TX2-maxn_FP16_MLP_100\"}, {\"top1\": \"97.3\", \"fps-comp\": 2985.0, \"NN_Topology\": \"MLP\", \"type\": \"predicted\", \"HWType\": \"TX2-maxp\", \"hardw_datatype_net_prun\": \"TX2-maxp_FP16_MLP_100\"}, {\"top1\": \"97.3\", \"fps-comp\": 2985.0, \"NN_Topology\": \"MLP\", \"type\": \"predicted\", \"HWType\": \"TX2-maxq\", \"hardw_datatype_net_prun\": \"TX2-maxq_FP16_MLP_100\"}, {\"top1\": \"97.3\", \"fps-comp\": 640.0, \"NN_Topology\": \"MLP\", \"type\": \"predicted\", \"HWType\": \"NCS\", \"hardw_datatype_net_prun\": \"NCS_FP16_MLP_100\"}, {\"top1\": \"97.45\", \"fps-comp\": 9950.0, \"NN_Topology\": \"MLP\", \"type\": \"predicted\", \"HWType\": \"TX2-maxn\", \"hardw_datatype_net_prun\": \"TX2-maxn_FP16_MLP_50\"}, {\"top1\": \"97.45\", \"fps-comp\": 9950.0, \"NN_Topology\": \"MLP\", \"type\": \"predicted\", \"HWType\": \"TX2-maxp\", \"hardw_datatype_net_prun\": \"TX2-maxp_FP16_MLP_50\"}, {\"top1\": \"97.45\", \"fps-comp\": 9950.0, \"NN_Topology\": \"MLP\", \"type\": \"predicted\", \"HWType\": \"TX2-maxq\", \"hardw_datatype_net_prun\": \"TX2-maxq_FP16_MLP_50\"}, {\"top1\": \"97.45\", \"fps-comp\": 2133.333333, \"NN_Topology\": \"MLP\", \"type\": \"predicted\", \"HWType\": \"NCS\", \"hardw_datatype_net_prun\": \"NCS_FP16_MLP_50\"}, {\"top1\": \"97.49\", \"fps-comp\": 29850.0, \"NN_Topology\": \"MLP\", \"type\": \"predicted\", \"HWType\": \"TX2-maxn\", \"hardw_datatype_net_prun\": \"TX2-maxn_FP16_MLP_25\"}, {\"top1\": \"97.49\", \"fps-comp\": 29850.0, \"NN_Topology\": \"MLP\", \"type\": \"predicted\", \"HWType\": \"TX2-maxp\", \"hardw_datatype_net_prun\": \"TX2-maxp_FP16_MLP_25\"}, {\"top1\": \"97.49\", \"fps-comp\": 29850.0, \"NN_Topology\": \"MLP\", \"type\": \"predicted\", \"HWType\": \"TX2-maxq\", \"hardw_datatype_net_prun\": \"TX2-maxq_FP16_MLP_25\"}, {\"top1\": \"97.49\", \"fps-comp\": 6400.0, \"NN_Topology\": \"MLP\", \"type\": \"predicted\", \"HWType\": \"NCS\", \"hardw_datatype_net_prun\": \"NCS_FP16_MLP_25\"}, {\"top1\": \"97.95\", \"fps-comp\": 89281.44142, \"NN_Topology\": \"MLP\", \"type\": \"predicted\", \"HWType\": \"TX2-maxn\", \"hardw_datatype_net_prun\": \"TX2-maxn_FP16_MLP_12.5\"}, {\"top1\": \"97.95\", \"fps-comp\": 89281.44142, \"NN_Topology\": \"MLP\", \"type\": \"predicted\", \"HWType\": \"TX2-maxp\", \"hardw_datatype_net_prun\": \"TX2-maxp_FP16_MLP_12.5\"}, {\"top1\": \"97.95\", \"fps-comp\": 89281.44142, \"NN_Topology\": \"MLP\", \"type\": \"predicted\", \"HWType\": \"TX2-maxq\", \"hardw_datatype_net_prun\": \"TX2-maxq_FP16_MLP_12.5\"}, {\"top1\": \"97.95\", \"fps-comp\": 19142.4196, \"NN_Topology\": \"MLP\", \"type\": \"predicted\", \"HWType\": \"NCS\", \"hardw_datatype_net_prun\": \"NCS_FP16_MLP_12.5\"}, {\"top1\": \"97.31\", \"fps-comp\": 1492.5, \"NN_Topology\": \"MLP\", \"type\": \"predicted\", \"HWType\": \"TX2-maxn\", \"hardw_datatype_net_prun\": \"TX2-maxn_FP32_MLP_100\"}, {\"top1\": \"97.31\", \"fps-comp\": 1492.5, \"NN_Topology\": \"MLP\", \"type\": \"predicted\", \"HWType\": \"TX2-maxp\", \"hardw_datatype_net_prun\": \"TX2-maxp_FP32_MLP_100\"}, {\"top1\": \"97.31\", \"fps-comp\": 1492.5, \"NN_Topology\": \"MLP\", \"type\": \"predicted\", \"HWType\": \"TX2-maxq\", \"hardw_datatype_net_prun\": \"TX2-maxq_FP32_MLP_100\"}, {\"top1\": \"97.46\", \"fps-comp\": 4975.0, \"NN_Topology\": \"MLP\", \"type\": \"predicted\", \"HWType\": \"TX2-maxn\", \"hardw_datatype_net_prun\": \"TX2-maxn_FP32_MLP_50\"}, {\"top1\": \"97.46\", \"fps-comp\": 4975.0, \"NN_Topology\": \"MLP\", \"type\": \"predicted\", \"HWType\": \"TX2-maxp\", \"hardw_datatype_net_prun\": \"TX2-maxp_FP32_MLP_50\"}, {\"top1\": \"97.46\", \"fps-comp\": 4975.0, \"NN_Topology\": \"MLP\", \"type\": \"predicted\", \"HWType\": \"TX2-maxq\", \"hardw_datatype_net_prun\": \"TX2-maxq_FP32_MLP_50\"}, {\"top1\": \"97.44\", \"fps-comp\": 14925.0, \"NN_Topology\": \"MLP\", \"type\": \"predicted\", \"HWType\": \"TX2-maxn\", \"hardw_datatype_net_prun\": \"TX2-maxn_FP32_MLP_25\"}, {\"top1\": \"97.44\", \"fps-comp\": 14925.0, \"NN_Topology\": \"MLP\", \"type\": \"predicted\", \"HWType\": \"TX2-maxp\", \"hardw_datatype_net_prun\": \"TX2-maxp_FP32_MLP_25\"}, {\"top1\": \"97.44\", \"fps-comp\": 14925.0, \"NN_Topology\": \"MLP\", \"type\": \"predicted\", \"HWType\": \"TX2-maxq\", \"hardw_datatype_net_prun\": \"TX2-maxq_FP32_MLP_25\"}, {\"top1\": \"97.15\", \"fps-comp\": 44640.72071, \"NN_Topology\": \"MLP\", \"type\": \"predicted\", \"HWType\": \"TX2-maxn\", \"hardw_datatype_net_prun\": \"TX2-maxn_FP32_MLP_12.5\"}, {\"top1\": \"97.15\", \"fps-comp\": 44640.72071, \"NN_Topology\": \"MLP\", \"type\": \"predicted\", \"HWType\": \"TX2-maxp\", \"hardw_datatype_net_prun\": \"TX2-maxp_FP32_MLP_12.5\"}, {\"top1\": \"97.15\", \"fps-comp\": 44640.72071, \"NN_Topology\": \"MLP\", \"type\": \"predicted\", \"HWType\": \"TX2-maxq\", \"hardw_datatype_net_prun\": \"TX2-maxq_FP32_MLP_12.5\"}], \"data-cbc69d3c80f54c2420bfdac935848113\": [{\"x\": 3840.0, \"y\": \"98.77\", \"group\": \"ZCU104-FINN_INT4_MLP_100\"}, {\"x\": 7680.0, \"y\": \"98.75\", \"group\": \"ZCU104-BISMO_INT2_MLP_100\"}, {\"x\": 12800.0, \"y\": \"98.62\", \"group\": \"ZCU104-FINN_INT4_MLP_50\"}, {\"x\": 25600.0, \"y\": \"98.49\", \"group\": \"ZCU104-BISMO_INT2_MLP_50\"}, {\"x\": 38400.0, \"y\": \"98.29\", \"group\": \"ZCU104-BISMO_INT4_MLP_25\"}, {\"x\": 76800.0, \"y\": \"98.04\", \"group\": \"ZCU104-BISMO_INT2_MLP_25\"}, {\"x\": 89281.44142, \"y\": \"97.95\", \"group\": \"TX2-maxp_FP16_MLP_12.5\"}, {\"x\": 114854.5176, \"y\": \"97.54\", \"group\": \"ZCU104-FINN_INT4_MLP_12.5\"}, {\"x\": 229709.0352, \"y\": \"96.85\", \"group\": \"ZCU104-BISMO_INT2_MLP_12.5\"}]}}, {\"mode\": \"vega-lite\"});\n",
       "</script>"
      ],
      "text/plain": [
       "alt.LayerChart(...)"
      ]
     },
     "execution_count": 15,
     "metadata": {},
     "output_type": "execute_result"
    }
   ],
   "source": [
    "#hide_input\n",
    "%run scripts/overlapped_pareto.py\n",
    "theor_pareto(machine_learning_task='mnist', title= 'Theoretical Pareto for MNIST')"
   ]
  },
  {
   "cell_type": "markdown",
   "metadata": {},
   "source": [
    "### ImageNet"
   ]
  },
  {
   "cell_type": "code",
   "execution_count": 16,
   "metadata": {},
   "outputs": [
    {
     "data": {
      "text/html": [
       "\n",
       "<div id=\"altair-viz-401b724b98214ccc936c0639cad2c7ab\"></div>\n",
       "<script type=\"text/javascript\">\n",
       "  (function(spec, embedOpt){\n",
       "    let outputDiv = document.currentScript.previousElementSibling;\n",
       "    if (outputDiv.id !== \"altair-viz-401b724b98214ccc936c0639cad2c7ab\") {\n",
       "      outputDiv = document.getElementById(\"altair-viz-401b724b98214ccc936c0639cad2c7ab\");\n",
       "    }\n",
       "    const paths = {\n",
       "      \"vega\": \"https://cdn.jsdelivr.net/npm//vega@5?noext\",\n",
       "      \"vega-lib\": \"https://cdn.jsdelivr.net/npm//vega-lib?noext\",\n",
       "      \"vega-lite\": \"https://cdn.jsdelivr.net/npm//vega-lite@4.8.1?noext\",\n",
       "      \"vega-embed\": \"https://cdn.jsdelivr.net/npm//vega-embed@6?noext\",\n",
       "    };\n",
       "\n",
       "    function loadScript(lib) {\n",
       "      return new Promise(function(resolve, reject) {\n",
       "        var s = document.createElement('script');\n",
       "        s.src = paths[lib];\n",
       "        s.async = true;\n",
       "        s.onload = () => resolve(paths[lib]);\n",
       "        s.onerror = () => reject(`Error loading script: ${paths[lib]}`);\n",
       "        document.getElementsByTagName(\"head\")[0].appendChild(s);\n",
       "      });\n",
       "    }\n",
       "\n",
       "    function showError(err) {\n",
       "      outputDiv.innerHTML = `<div class=\"error\" style=\"color:red;\">${err}</div>`;\n",
       "      throw err;\n",
       "    }\n",
       "\n",
       "    function displayChart(vegaEmbed) {\n",
       "      vegaEmbed(outputDiv, spec, embedOpt)\n",
       "        .catch(err => showError(`Javascript Error: ${err.message}<br>This usually means there's a typo in your chart specification. See the javascript console for the full traceback.`));\n",
       "    }\n",
       "\n",
       "    if(typeof define === \"function\" && define.amd) {\n",
       "      requirejs.config({paths});\n",
       "      require([\"vega-embed\"], displayChart, err => showError(`Error loading script: ${err.message}`));\n",
       "    } else if (typeof vegaEmbed === \"function\") {\n",
       "      displayChart(vegaEmbed);\n",
       "    } else {\n",
       "      loadScript(\"vega\")\n",
       "        .then(() => loadScript(\"vega-lite\"))\n",
       "        .then(() => loadScript(\"vega-embed\"))\n",
       "        .catch(showError)\n",
       "        .then(() => displayChart(vegaEmbed));\n",
       "    }\n",
       "  })({\"config\": {\"view\": {\"continuousWidth\": 400, \"continuousHeight\": 300}}, \"layer\": [{\"mark\": {\"type\": \"point\", \"filled\": true}, \"encoding\": {\"color\": {\"type\": \"nominal\", \"field\": \"hardw_datatype_net_prun\"}, \"tooltip\": [{\"type\": \"nominal\", \"field\": \"hardw_datatype_net_prun\"}, {\"type\": \"quantitative\", \"field\": \"fps-comp\"}, {\"type\": \"nominal\", \"field\": \"top1\"}], \"x\": {\"type\": \"quantitative\", \"field\": \"fps-comp\", \"scale\": {\"type\": \"log\"}}, \"y\": {\"type\": \"quantitative\", \"field\": \"top1\", \"scale\": {\"zero\": false}}}, \"height\": 624.0, \"selection\": {\"selector008\": {\"type\": \"interval\", \"bind\": \"scales\", \"encodings\": [\"x\", \"y\"]}}, \"title\": \"Theoretical Pareto for ImageNet\", \"width\": 600}, {\"mark\": {\"type\": \"text\", \"align\": \"left\", \"angle\": 325, \"baseline\": \"middle\", \"dx\": 7}, \"encoding\": {\"color\": {\"type\": \"nominal\", \"field\": \"hardw_datatype_net_prun\"}, \"text\": {\"type\": \"nominal\", \"field\": \"HWType\"}, \"tooltip\": [{\"type\": \"nominal\", \"field\": \"hardw_datatype_net_prun\"}, {\"type\": \"quantitative\", \"field\": \"fps-comp\"}, {\"type\": \"nominal\", \"field\": \"top1\"}], \"x\": {\"type\": \"quantitative\", \"field\": \"fps-comp\", \"scale\": {\"type\": \"log\"}}, \"y\": {\"type\": \"quantitative\", \"field\": \"top1\", \"scale\": {\"zero\": false}}}, \"height\": 624.0, \"title\": \"Theoretical Pareto for ImageNet\", \"width\": 600}, {\"data\": {\"name\": \"data-ac907e4447a37832517356c119043058\"}, \"mark\": {\"type\": \"line\", \"point\": true}, \"encoding\": {\"color\": {\"value\": \"#FFA500\"}, \"tooltip\": [{\"type\": \"nominal\", \"field\": \"group\"}, {\"type\": \"quantitative\", \"field\": \"x\"}, {\"type\": \"nominal\", \"field\": \"y\"}], \"x\": {\"type\": \"quantitative\", \"field\": \"x\", \"scale\": {\"type\": \"log\"}}, \"y\": {\"type\": \"quantitative\", \"field\": \"y\", \"scale\": {\"zero\": false}}}, \"selection\": {\"selector007\": {\"type\": \"interval\", \"bind\": \"scales\", \"encodings\": [\"x\", \"y\"]}}}], \"data\": {\"name\": \"data-4a234c5f268bed473eaf89fe400d547a\"}, \"$schema\": \"https://vega.github.io/schema/vega-lite/v4.8.1.json\", \"datasets\": {\"data-4a234c5f268bed473eaf89fe400d547a\": [{\"top1\": \"69.24\", \"fps-comp\": 306.7092652, \"NN_Topology\": \"GoogLeNetv1\", \"type\": \"predicted\", \"HWType\": \"Ultra96-DPU\", \"hardw_datatype_net_prun\": \"Ultra96-DPU_INT8_GoogLeNetv1_100\"}, {\"top1\": \"69.24\", \"fps-comp\": 1469.6485619999999, \"NN_Topology\": \"GoogLeNetv1\", \"type\": \"predicted\", \"HWType\": \"ZCU104-DPU\", \"hardw_datatype_net_prun\": \"ZCU104-DPU_INT8_GoogLeNetv1_100\"}, {\"top1\": \"69.24\", \"fps-comp\": 2143.769968, \"NN_Topology\": \"GoogLeNetv1\", \"type\": \"predicted\", \"HWType\": \"ZCU102-DPU\", \"hardw_datatype_net_prun\": \"ZCU102-DPU_INT8_GoogLeNetv1_100\"}, {\"top1\": \"69.24\", \"fps-comp\": 1277.9552720000002, \"NN_Topology\": \"GoogLeNetv1\", \"type\": \"predicted\", \"HWType\": \"EdgeTPU-fast\", \"hardw_datatype_net_prun\": \"EdgeTPU-fast_INT8_GoogLeNetv1_100\"}, {\"top1\": \"69.24\", \"fps-comp\": 638.9776357999999, \"NN_Topology\": \"GoogLeNetv1\", \"type\": \"predicted\", \"HWType\": \"EdgeTPU-slow\", \"hardw_datatype_net_prun\": \"EdgeTPU-slow_INT8_GoogLeNetv1_100\"}, {\"top1\": \"69.24\", \"fps-comp\": 319.48881789999996, \"NN_Topology\": \"GoogLeNetv1\", \"type\": \"predicted\", \"HWType\": \"NCS\", \"hardw_datatype_net_prun\": \"NCS_INT8_GoogLeNetv1_100\"}, {\"top1\": \"69.24\", \"fps-comp\": 61.34185304, \"NN_Topology\": \"GoogLeNetv1\", \"type\": \"predicted\", \"HWType\": \"U96-Quadcore-A53\", \"hardw_datatype_net_prun\": \"U96-Quadcore-A53_INT8_GoogLeNetv1_100\"}, {\"top1\": \"69.57\", \"fps-comp\": 4035.0, \"NN_Topology\": \"MobileNetv1\", \"type\": \"predicted\", \"HWType\": \"ZCU104-DPU\", \"hardw_datatype_net_prun\": \"ZCU104-DPU_INT8_MobileNetv1_100\"}, {\"top1\": \"69.57\", \"fps-comp\": 3508.77193, \"NN_Topology\": \"MobileNetv1\", \"type\": \"predicted\", \"HWType\": \"EdgeTPU-fast\", \"hardw_datatype_net_prun\": \"EdgeTPU-fast_INT8_MobileNetv1_100\"}, {\"top1\": \"69.57\", \"fps-comp\": 1754.385965, \"NN_Topology\": \"MobileNetv1\", \"type\": \"predicted\", \"HWType\": \"EdgeTPU-slow\", \"hardw_datatype_net_prun\": \"EdgeTPU-slow_INT8_MobileNetv1_100\"}, {\"top1\": \"69.57\", \"fps-comp\": 168.4210526, \"NN_Topology\": \"MobileNetv1\", \"type\": \"predicted\", \"HWType\": \"U96-Quadcore-A53\", \"hardw_datatype_net_prun\": \"U96-Quadcore-A53_INT8_MobileNetv1_100\"}, {\"top1\": \"77\", \"fps-comp\": 204.25531909999998, \"NN_Topology\": \"EfficientNet-S\", \"type\": \"predicted\", \"HWType\": \"Ultra96-DPU\", \"hardw_datatype_net_prun\": \"Ultra96-DPU_INT8_EfficientNet-S_100\"}, {\"top1\": \"77\", \"fps-comp\": 978.7234043, \"NN_Topology\": \"EfficientNet-S\", \"type\": \"predicted\", \"HWType\": \"ZCU104-DPU\", \"hardw_datatype_net_prun\": \"ZCU104-DPU_INT8_EfficientNet-S_100\"}, {\"top1\": \"77\", \"fps-comp\": 1427.659574, \"NN_Topology\": \"EfficientNet-S\", \"type\": \"predicted\", \"HWType\": \"ZCU102-DPU\", \"hardw_datatype_net_prun\": \"ZCU102-DPU_INT8_EfficientNet-S_100\"}, {\"top1\": \"77\", \"fps-comp\": 851.0638298, \"NN_Topology\": \"EfficientNet-S\", \"type\": \"predicted\", \"HWType\": \"EdgeTPU-fast\", \"hardw_datatype_net_prun\": \"EdgeTPU-fast_INT8_EfficientNet-S_100\"}, {\"top1\": \"77\", \"fps-comp\": 425.5319149, \"NN_Topology\": \"EfficientNet-S\", \"type\": \"predicted\", \"HWType\": \"EdgeTPU-slow\", \"hardw_datatype_net_prun\": \"EdgeTPU-slow_INT8_EfficientNet-S_100\"}, {\"top1\": \"77\", \"fps-comp\": 40.85106383, \"NN_Topology\": \"EfficientNet-S\", \"type\": \"predicted\", \"HWType\": \"U96-Quadcore-A53\", \"hardw_datatype_net_prun\": \"U96-Quadcore-A53_INT8_EfficientNet-S_100\"}, {\"top1\": \"78.6\", \"fps-comp\": 129.7297297, \"NN_Topology\": \"EfficientNet-M\", \"type\": \"predicted\", \"HWType\": \"Ultra96-DPU\", \"hardw_datatype_net_prun\": \"Ultra96-DPU_INT8_EfficientNet-M_100\"}, {\"top1\": \"78.6\", \"fps-comp\": 621.6216216, \"NN_Topology\": \"EfficientNet-M\", \"type\": \"predicted\", \"HWType\": \"ZCU104-DPU\", \"hardw_datatype_net_prun\": \"ZCU104-DPU_INT8_EfficientNet-M_100\"}, {\"top1\": \"78.6\", \"fps-comp\": 906.7567568, \"NN_Topology\": \"EfficientNet-M\", \"type\": \"predicted\", \"HWType\": \"ZCU102-DPU\", \"hardw_datatype_net_prun\": \"ZCU102-DPU_INT8_EfficientNet-M_100\"}, {\"top1\": \"78.6\", \"fps-comp\": 540.5405405, \"NN_Topology\": \"EfficientNet-M\", \"type\": \"predicted\", \"HWType\": \"EdgeTPU-fast\", \"hardw_datatype_net_prun\": \"EdgeTPU-fast_INT8_EfficientNet-M_100\"}, {\"top1\": \"78.6\", \"fps-comp\": 270.2702703, \"NN_Topology\": \"EfficientNet-M\", \"type\": \"predicted\", \"HWType\": \"EdgeTPU-slow\", \"hardw_datatype_net_prun\": \"EdgeTPU-slow_INT8_EfficientNet-M_100\"}, {\"top1\": \"78.6\", \"fps-comp\": 25.94594595, \"NN_Topology\": \"EfficientNet-M\", \"type\": \"predicted\", \"HWType\": \"U96-Quadcore-A53\", \"hardw_datatype_net_prun\": \"U96-Quadcore-A53_INT8_EfficientNet-M_100\"}, {\"top1\": \"80.2\", \"fps-comp\": 49.53560372, \"NN_Topology\": \"EfficientNet-L\", \"type\": \"predicted\", \"HWType\": \"Ultra96-DPU\", \"hardw_datatype_net_prun\": \"Ultra96-DPU_INT8_EfficientNet-L_100\"}, {\"top1\": \"80.2\", \"fps-comp\": 237.3581011, \"NN_Topology\": \"EfficientNet-L\", \"type\": \"predicted\", \"HWType\": \"ZCU104-DPU\", \"hardw_datatype_net_prun\": \"ZCU104-DPU_INT8_EfficientNet-L_100\"}, {\"top1\": \"80.2\", \"fps-comp\": 346.23323010000007, \"NN_Topology\": \"EfficientNet-L\", \"type\": \"predicted\", \"HWType\": \"ZCU102-DPU\", \"hardw_datatype_net_prun\": \"ZCU102-DPU_INT8_EfficientNet-L_100\"}, {\"top1\": \"80.2\", \"fps-comp\": 206.3983488, \"NN_Topology\": \"EfficientNet-L\", \"type\": \"predicted\", \"HWType\": \"EdgeTPU-fast\", \"hardw_datatype_net_prun\": \"EdgeTPU-fast_INT8_EfficientNet-L_100\"}, {\"top1\": \"80.2\", \"fps-comp\": 103.1991744, \"NN_Topology\": \"EfficientNet-L\", \"type\": \"predicted\", \"HWType\": \"EdgeTPU-slow\", \"hardw_datatype_net_prun\": \"EdgeTPU-slow_INT8_EfficientNet-L_100\"}, {\"top1\": \"80.2\", \"fps-comp\": 9.907120743, \"NN_Topology\": \"EfficientNet-L\", \"type\": \"predicted\", \"HWType\": \"U96-Quadcore-A53\", \"hardw_datatype_net_prun\": \"U96-Quadcore-A53_INT8_EfficientNet-L_100\"}, {\"top1\": \"73.29\", \"fps-comp\": 124.35233159999999, \"NN_Topology\": \"ResNet-50\", \"type\": \"predicted\", \"HWType\": \"Ultra96-DPU\", \"hardw_datatype_net_prun\": \"Ultra96-DPU_INT8_ResNet-50_100\"}, {\"top1\": \"73.29\", \"fps-comp\": 595.8549222999999, \"NN_Topology\": \"ResNet-50\", \"type\": \"predicted\", \"HWType\": \"ZCU104-DPU\", \"hardw_datatype_net_prun\": \"ZCU104-DPU_INT8_ResNet-50_100\"}, {\"top1\": \"73.29\", \"fps-comp\": 752.853886, \"NN_Topology\": \"ResNet-50\", \"type\": \"predicted\", \"HWType\": \"ZCU102-DPU\", \"hardw_datatype_net_prun\": \"ZCU102-DPU_INT8_ResNet-50_100\"}, {\"top1\": \"73.29\", \"fps-comp\": 518.134715, \"NN_Topology\": \"ResNet-50\", \"type\": \"predicted\", \"HWType\": \"EdgeTPU-fast\", \"hardw_datatype_net_prun\": \"EdgeTPU-fast_INT8_ResNet-50_100\"}, {\"top1\": \"73.29\", \"fps-comp\": 259.0673575, \"NN_Topology\": \"ResNet-50\", \"type\": \"predicted\", \"HWType\": \"EdgeTPU-slow\", \"hardw_datatype_net_prun\": \"EdgeTPU-slow_INT8_ResNet-50_100\"}, {\"top1\": \"73.29\", \"fps-comp\": 24.87046632, \"NN_Topology\": \"ResNet-50\", \"type\": \"predicted\", \"HWType\": \"U96-Quadcore-A53\", \"hardw_datatype_net_prun\": \"U96-Quadcore-A53_INT8_ResNet-50_100\"}, {\"top1\": \"73.30\", \"fps-comp\": 146.7889908, \"NN_Topology\": \"ResNet-50\", \"type\": \"predicted\", \"HWType\": \"Ultra96-DPU\", \"hardw_datatype_net_prun\": \"Ultra96-DPU_INT8_ResNet-50_80\"}, {\"top1\": \"73.30\", \"fps-comp\": 703.3639143999999, \"NN_Topology\": \"ResNet-50\", \"type\": \"predicted\", \"HWType\": \"ZCU104-DPU\", \"hardw_datatype_net_prun\": \"ZCU104-DPU_INT8_ResNet-50_80\"}, {\"top1\": \"73.30\", \"fps-comp\": 797.5045872000001, \"NN_Topology\": \"ResNet-50\", \"type\": \"predicted\", \"HWType\": \"ZCU102-DPU\", \"hardw_datatype_net_prun\": \"ZCU102-DPU_INT8_ResNet-50_80\"}, {\"top1\": \"73.30\", \"fps-comp\": 29.35779817, \"NN_Topology\": \"ResNet-50\", \"type\": \"predicted\", \"HWType\": \"U96-Quadcore-A53\", \"hardw_datatype_net_prun\": \"U96-Quadcore-A53_INT8_ResNet-50_80\"}, {\"top1\": \"69.49\", \"fps-comp\": 256.0, \"NN_Topology\": \"ResNet-50\", \"type\": \"predicted\", \"HWType\": \"Ultra96-DPU\", \"hardw_datatype_net_prun\": \"Ultra96-DPU_INT8_ResNet-50_50\"}, {\"top1\": \"69.49\", \"fps-comp\": 1215.7952, \"NN_Topology\": \"ResNet-50\", \"type\": \"predicted\", \"HWType\": \"ZCU104-DPU\", \"hardw_datatype_net_prun\": \"ZCU104-DPU_INT8_ResNet-50_50\"}, {\"top1\": \"69.49\", \"fps-comp\": 1215.7952, \"NN_Topology\": \"ResNet-50\", \"type\": \"predicted\", \"HWType\": \"ZCU102-DPU\", \"hardw_datatype_net_prun\": \"ZCU102-DPU_INT8_ResNet-50_50\"}, {\"top1\": \"69.49\", \"fps-comp\": 51.2, \"NN_Topology\": \"ResNet-50\", \"type\": \"predicted\", \"HWType\": \"U96-Quadcore-A53\", \"hardw_datatype_net_prun\": \"U96-Quadcore-A53_INT8_ResNet-50_50\"}, {\"top1\": \"68.83\", \"fps-comp\": 391.8367347, \"NN_Topology\": \"ResNet-50\", \"type\": \"predicted\", \"HWType\": \"Ultra96-DPU\", \"hardw_datatype_net_prun\": \"Ultra96-DPU_INT8_ResNet-50_30\"}, {\"top1\": \"68.83\", \"fps-comp\": 1877.5510199999999, \"NN_Topology\": \"ResNet-50\", \"type\": \"predicted\", \"HWType\": \"ZCU104-DPU\", \"hardw_datatype_net_prun\": \"ZCU104-DPU_INT8_ResNet-50_30\"}, {\"top1\": \"68.83\", \"fps-comp\": 1900.7216329999999, \"NN_Topology\": \"ResNet-50\", \"type\": \"predicted\", \"HWType\": \"ZCU102-DPU\", \"hardw_datatype_net_prun\": \"ZCU102-DPU_INT8_ResNet-50_30\"}, {\"top1\": \"68.83\", \"fps-comp\": 78.36734694, \"NN_Topology\": \"ResNet-50\", \"type\": \"predicted\", \"HWType\": \"U96-Quadcore-A53\", \"hardw_datatype_net_prun\": \"U96-Quadcore-A53_INT8_ResNet-50_30\"}, {\"top1\": \"66.93\", \"fps-comp\": 424.9201278, \"NN_Topology\": \"GoogLeNetv1\", \"type\": \"predicted\", \"HWType\": \"TX2-maxn\", \"hardw_datatype_net_prun\": \"TX2-maxn_FP16_GoogLeNetv1_100\"}, {\"top1\": \"66.93\", \"fps-comp\": 367.41214060000004, \"NN_Topology\": \"GoogLeNetv1\", \"type\": \"predicted\", \"HWType\": \"TX2-maxp\", \"hardw_datatype_net_prun\": \"TX2-maxp_FP16_GoogLeNetv1_100\"}, {\"top1\": \"66.93\", \"fps-comp\": 277.9552716, \"NN_Topology\": \"GoogLeNetv1\", \"type\": \"predicted\", \"HWType\": \"TX2-maxq\", \"hardw_datatype_net_prun\": \"TX2-maxq_FP16_GoogLeNetv1_100\"}, {\"top1\": \"66.93\", \"fps-comp\": 159.74440890000002, \"NN_Topology\": \"GoogLeNetv1\", \"type\": \"predicted\", \"HWType\": \"NCS\", \"hardw_datatype_net_prun\": \"NCS_FP16_GoogLeNetv1_100\"}, {\"top1\": \"75.14\", \"fps-comp\": 172.2797927, \"NN_Topology\": \"ResNet-50\", \"type\": \"predicted\", \"HWType\": \"TX2-maxn\", \"hardw_datatype_net_prun\": \"TX2-maxn_FP16_ResNet-50_100\"}, {\"top1\": \"75.14\", \"fps-comp\": 148.9637306, \"NN_Topology\": \"ResNet-50\", \"type\": \"predicted\", \"HWType\": \"TX2-maxp\", \"hardw_datatype_net_prun\": \"TX2-maxp_FP16_ResNet-50_100\"}, {\"top1\": \"75.14\", \"fps-comp\": 112.69430049999998, \"NN_Topology\": \"ResNet-50\", \"type\": \"predicted\", \"HWType\": \"TX2-maxq\", \"hardw_datatype_net_prun\": \"TX2-maxq_FP16_ResNet-50_100\"}, {\"top1\": \"75.14\", \"fps-comp\": 64.76683938, \"NN_Topology\": \"ResNet-50\", \"type\": \"predicted\", \"HWType\": \"NCS\", \"hardw_datatype_net_prun\": \"NCS_FP16_ResNet-50_100\"}, {\"top1\": \"66.96\", \"fps-comp\": 214.057508, \"NN_Topology\": \"GoogLeNetv1\", \"type\": \"predicted\", \"HWType\": \"TX2-maxn\", \"hardw_datatype_net_prun\": \"TX2-maxn_FP32_GoogLeNetv1_100\"}, {\"top1\": \"66.96\", \"fps-comp\": 182.10862619999997, \"NN_Topology\": \"GoogLeNetv1\", \"type\": \"predicted\", \"HWType\": \"TX2-maxp\", \"hardw_datatype_net_prun\": \"TX2-maxp_FP32_GoogLeNetv1_100\"}, {\"top1\": \"66.96\", \"fps-comp\": 140.57507990000002, \"NN_Topology\": \"GoogLeNetv1\", \"type\": \"predicted\", \"HWType\": \"TX2-maxq\", \"hardw_datatype_net_prun\": \"TX2-maxq_FP32_GoogLeNetv1_100\"}, {\"top1\": \"75.15\", \"fps-comp\": 86.78756477, \"NN_Topology\": \"ResNet-50\", \"type\": \"predicted\", \"HWType\": \"TX2-maxn\", \"hardw_datatype_net_prun\": \"TX2-maxn_FP32_ResNet-50_100\"}, {\"top1\": \"75.15\", \"fps-comp\": 73.83419689, \"NN_Topology\": \"ResNet-50\", \"type\": \"predicted\", \"HWType\": \"TX2-maxp\", \"hardw_datatype_net_prun\": \"TX2-maxp_FP32_ResNet-50_100\"}, {\"top1\": \"75.15\", \"fps-comp\": 56.99481865, \"NN_Topology\": \"ResNet-50\", \"type\": \"predicted\", \"HWType\": \"TX2-maxq\", \"hardw_datatype_net_prun\": \"TX2-maxq_FP32_ResNet-50_100\"}], \"data-ac907e4447a37832517356c119043058\": [{\"x\": 206.3983488, \"y\": \"80.2\", \"group\": \"EdgeTPU-fast_INT8_EfficientNet-L_100\"}, {\"x\": 237.3581011, \"y\": \"80.2\", \"group\": \"ZCU104-DPU_INT8_EfficientNet-L_100\"}, {\"x\": 346.23323010000007, \"y\": \"80.2\", \"group\": \"ZCU102-DPU_INT8_EfficientNet-L_100\"}, {\"x\": 621.6216216, \"y\": \"78.6\", \"group\": \"ZCU104-DPU_INT8_EfficientNet-M_100\"}, {\"x\": 906.7567568, \"y\": \"78.6\", \"group\": \"ZCU102-DPU_INT8_EfficientNet-M_100\"}, {\"x\": 978.7234043, \"y\": \"77\", \"group\": \"ZCU104-DPU_INT8_EfficientNet-S_100\"}, {\"x\": 1427.659574, \"y\": \"77\", \"group\": \"ZCU102-DPU_INT8_EfficientNet-S_100\"}, {\"x\": 3508.77193, \"y\": \"69.57\", \"group\": \"EdgeTPU-fast_INT8_MobileNetv1_100\"}, {\"x\": 4035.0, \"y\": \"69.57\", \"group\": \"ZCU104-DPU_INT8_MobileNetv1_100\"}]}}, {\"mode\": \"vega-lite\"});\n",
       "</script>"
      ],
      "text/plain": [
       "alt.LayerChart(...)"
      ]
     },
     "execution_count": 16,
     "metadata": {},
     "output_type": "execute_result"
    }
   ],
   "source": [
    "#hide_input\n",
    "%run scripts/overlapped_pareto.py\n",
    "theor_pareto(machine_learning_task='imagenet', title= 'Theoretical Pareto for ImageNet')"
   ]
  },
  {
   "cell_type": "markdown",
   "metadata": {},
   "source": [
    "### CIFAR-10"
   ]
  },
  {
   "cell_type": "code",
   "execution_count": 17,
   "metadata": {},
   "outputs": [
    {
     "data": {
      "text/html": [
       "\n",
       "<div id=\"altair-viz-0b70648b61244b829912adaf773b4f41\"></div>\n",
       "<script type=\"text/javascript\">\n",
       "  (function(spec, embedOpt){\n",
       "    let outputDiv = document.currentScript.previousElementSibling;\n",
       "    if (outputDiv.id !== \"altair-viz-0b70648b61244b829912adaf773b4f41\") {\n",
       "      outputDiv = document.getElementById(\"altair-viz-0b70648b61244b829912adaf773b4f41\");\n",
       "    }\n",
       "    const paths = {\n",
       "      \"vega\": \"https://cdn.jsdelivr.net/npm//vega@5?noext\",\n",
       "      \"vega-lib\": \"https://cdn.jsdelivr.net/npm//vega-lib?noext\",\n",
       "      \"vega-lite\": \"https://cdn.jsdelivr.net/npm//vega-lite@4.8.1?noext\",\n",
       "      \"vega-embed\": \"https://cdn.jsdelivr.net/npm//vega-embed@6?noext\",\n",
       "    };\n",
       "\n",
       "    function loadScript(lib) {\n",
       "      return new Promise(function(resolve, reject) {\n",
       "        var s = document.createElement('script');\n",
       "        s.src = paths[lib];\n",
       "        s.async = true;\n",
       "        s.onload = () => resolve(paths[lib]);\n",
       "        s.onerror = () => reject(`Error loading script: ${paths[lib]}`);\n",
       "        document.getElementsByTagName(\"head\")[0].appendChild(s);\n",
       "      });\n",
       "    }\n",
       "\n",
       "    function showError(err) {\n",
       "      outputDiv.innerHTML = `<div class=\"error\" style=\"color:red;\">${err}</div>`;\n",
       "      throw err;\n",
       "    }\n",
       "\n",
       "    function displayChart(vegaEmbed) {\n",
       "      vegaEmbed(outputDiv, spec, embedOpt)\n",
       "        .catch(err => showError(`Javascript Error: ${err.message}<br>This usually means there's a typo in your chart specification. See the javascript console for the full traceback.`));\n",
       "    }\n",
       "\n",
       "    if(typeof define === \"function\" && define.amd) {\n",
       "      requirejs.config({paths});\n",
       "      require([\"vega-embed\"], displayChart, err => showError(`Error loading script: ${err.message}`));\n",
       "    } else if (typeof vegaEmbed === \"function\") {\n",
       "      displayChart(vegaEmbed);\n",
       "    } else {\n",
       "      loadScript(\"vega\")\n",
       "        .then(() => loadScript(\"vega-lite\"))\n",
       "        .then(() => loadScript(\"vega-embed\"))\n",
       "        .catch(showError)\n",
       "        .then(() => displayChart(vegaEmbed));\n",
       "    }\n",
       "  })({\"config\": {\"view\": {\"continuousWidth\": 400, \"continuousHeight\": 300}}, \"layer\": [{\"mark\": {\"type\": \"point\", \"filled\": true}, \"encoding\": {\"color\": {\"type\": \"nominal\", \"field\": \"hardw_datatype_net_prun\"}, \"tooltip\": [{\"type\": \"nominal\", \"field\": \"hardw_datatype_net_prun\"}, {\"type\": \"quantitative\", \"field\": \"fps-comp\"}, {\"type\": \"nominal\", \"field\": \"top1\"}], \"x\": {\"type\": \"quantitative\", \"field\": \"fps-comp\", \"scale\": {\"type\": \"log\"}}, \"y\": {\"type\": \"quantitative\", \"field\": \"top1\", \"scale\": {\"zero\": false}}}, \"height\": 624.0, \"selection\": {\"selector010\": {\"type\": \"interval\", \"bind\": \"scales\", \"encodings\": [\"x\", \"y\"]}}, \"title\": \"Theoretical Pareto for CIFAR-10\", \"width\": 600}, {\"mark\": {\"type\": \"text\", \"align\": \"left\", \"angle\": 325, \"baseline\": \"middle\", \"dx\": 7}, \"encoding\": {\"color\": {\"type\": \"nominal\", \"field\": \"hardw_datatype_net_prun\"}, \"text\": {\"type\": \"nominal\", \"field\": \"HWType\"}, \"tooltip\": [{\"type\": \"nominal\", \"field\": \"hardw_datatype_net_prun\"}, {\"type\": \"quantitative\", \"field\": \"fps-comp\"}, {\"type\": \"nominal\", \"field\": \"top1\"}], \"x\": {\"type\": \"quantitative\", \"field\": \"fps-comp\", \"scale\": {\"type\": \"log\"}}, \"y\": {\"type\": \"quantitative\", \"field\": \"top1\", \"scale\": {\"zero\": false}}}, \"height\": 624.0, \"title\": \"Theoretical Pareto for CIFAR-10\", \"width\": 600}, {\"data\": {\"name\": \"data-4715e1dfe6d06d5bda9ad7727cc54322\"}, \"mark\": {\"type\": \"line\", \"point\": true}, \"encoding\": {\"color\": {\"value\": \"#FFA500\"}, \"tooltip\": [{\"type\": \"nominal\", \"field\": \"group\"}, {\"type\": \"quantitative\", \"field\": \"x\"}, {\"type\": \"nominal\", \"field\": \"y\"}], \"x\": {\"type\": \"quantitative\", \"field\": \"x\", \"scale\": {\"type\": \"log\"}}, \"y\": {\"type\": \"quantitative\", \"field\": \"y\", \"scale\": {\"zero\": false}}}, \"selection\": {\"selector009\": {\"type\": \"interval\", \"bind\": \"scales\", \"encodings\": [\"x\", \"y\"]}}}], \"data\": {\"name\": \"data-c507d6d6232d3228ad9e4ba35e0f0696\"}, \"$schema\": \"https://vega.github.io/schema/vega-lite/v4.8.1.json\", \"datasets\": {\"data-c507d6d6232d3228ad9e4ba35e0f0696\": [{\"top1\": \"86.86\", \"fps-comp\": 12457.94043, \"NN_Topology\": \"CNV\", \"type\": \"predicted\", \"HWType\": \"ZCU104-FINN\", \"hardw_datatype_net_prun\": \"ZCU104-FINN_INT2_CNV_100\"}, {\"top1\": \"86.86\", \"fps-comp\": 12457.94043, \"NN_Topology\": \"CNV\", \"type\": \"predicted\", \"HWType\": \"ZCU104-BISMO\", \"hardw_datatype_net_prun\": \"ZCU104-BISMO_INT2_CNV_100\"}, {\"top1\": \"86.86\", \"fps-comp\": 408.5106383, \"NN_Topology\": \"CNV\", \"type\": \"predicted\", \"HWType\": \"U96-Quadcore-A53\", \"hardw_datatype_net_prun\": \"U96-Quadcore-A53_INT2_CNV_100\"}, {\"top1\": \"84.29\", \"fps-comp\": 49331.2, \"NN_Topology\": \"CNV\", \"type\": \"predicted\", \"HWType\": \"ZCU104-FINN\", \"hardw_datatype_net_prun\": \"ZCU104-FINN_INT2_CNV_50\"}, {\"top1\": \"84.29\", \"fps-comp\": 49331.2, \"NN_Topology\": \"CNV\", \"type\": \"predicted\", \"HWType\": \"ZCU104-BISMO\", \"hardw_datatype_net_prun\": \"ZCU104-BISMO_INT2_CNV_50\"}, {\"top1\": \"84.29\", \"fps-comp\": 1600.0, \"NN_Topology\": \"CNV\", \"type\": \"predicted\", \"HWType\": \"U96-Quadcore-A53\", \"hardw_datatype_net_prun\": \"U96-Quadcore-A53_INT2_CNV_50\"}, {\"top1\": \"79.89\", \"fps-comp\": 201600.0, \"NN_Topology\": \"CNV\", \"type\": \"predicted\", \"HWType\": \"ZCU104-FINN\", \"hardw_datatype_net_prun\": \"ZCU104-FINN_INT2_CNV_25\"}, {\"top1\": \"79.89\", \"fps-comp\": 201600.0, \"NN_Topology\": \"CNV\", \"type\": \"predicted\", \"HWType\": \"ZCU104-BISMO\", \"hardw_datatype_net_prun\": \"ZCU104-BISMO_INT2_CNV_25\"}, {\"top1\": \"79.89\", \"fps-comp\": 6400.0, \"NN_Topology\": \"CNV\", \"type\": \"predicted\", \"HWType\": \"U96-Quadcore-A53\", \"hardw_datatype_net_prun\": \"U96-Quadcore-A53_INT2_CNV_25\"}, {\"top1\": \"73.64\", \"fps-comp\": 638592.0, \"NN_Topology\": \"CNV\", \"type\": \"predicted\", \"HWType\": \"ZCU104-FINN\", \"hardw_datatype_net_prun\": \"ZCU104-FINN_INT2_CNV_12.5\"}, {\"top1\": \"73.64\", \"fps-comp\": 638592.0, \"NN_Topology\": \"CNV\", \"type\": \"predicted\", \"HWType\": \"ZCU104-BISMO\", \"hardw_datatype_net_prun\": \"ZCU104-BISMO_INT2_CNV_12.5\"}, {\"top1\": \"73.64\", \"fps-comp\": 19200.0, \"NN_Topology\": \"CNV\", \"type\": \"predicted\", \"HWType\": \"U96-Quadcore-A53\", \"hardw_datatype_net_prun\": \"U96-Quadcore-A53_INT2_CNV_12.5\"}, {\"top1\": \"87.4\", \"fps-comp\": 6228.9702130000005, \"NN_Topology\": \"CNV\", \"type\": \"predicted\", \"HWType\": \"ZCU104-FINN\", \"hardw_datatype_net_prun\": \"ZCU104-FINN_INT4_CNV_100\"}, {\"top1\": \"87.4\", \"fps-comp\": 6228.9702130000005, \"NN_Topology\": \"CNV\", \"type\": \"predicted\", \"HWType\": \"ZCU104-BISMO\", \"hardw_datatype_net_prun\": \"ZCU104-BISMO_INT4_CNV_100\"}, {\"top1\": \"87.4\", \"fps-comp\": 408.5106383, \"NN_Topology\": \"CNV\", \"type\": \"predicted\", \"HWType\": \"U96-Quadcore-A53\", \"hardw_datatype_net_prun\": \"U96-Quadcore-A53_INT4_CNV_100\"}, {\"top1\": \"84.88\", \"fps-comp\": 24665.6, \"NN_Topology\": \"CNV\", \"type\": \"predicted\", \"HWType\": \"ZCU104-FINN\", \"hardw_datatype_net_prun\": \"ZCU104-FINN_INT4_CNV_50\"}, {\"top1\": \"84.88\", \"fps-comp\": 24665.6, \"NN_Topology\": \"CNV\", \"type\": \"predicted\", \"HWType\": \"ZCU104-BISMO\", \"hardw_datatype_net_prun\": \"ZCU104-BISMO_INT4_CNV_50\"}, {\"top1\": \"84.88\", \"fps-comp\": 1600.0, \"NN_Topology\": \"CNV\", \"type\": \"predicted\", \"HWType\": \"U96-Quadcore-A53\", \"hardw_datatype_net_prun\": \"U96-Quadcore-A53_INT4_CNV_50\"}, {\"top1\": \"81.09\", \"fps-comp\": 100800.0, \"NN_Topology\": \"CNV\", \"type\": \"predicted\", \"HWType\": \"ZCU104-FINN\", \"hardw_datatype_net_prun\": \"ZCU104-FINN_INT4_CNV_25\"}, {\"top1\": \"81.09\", \"fps-comp\": 100800.0, \"NN_Topology\": \"CNV\", \"type\": \"predicted\", \"HWType\": \"ZCU104-BISMO\", \"hardw_datatype_net_prun\": \"ZCU104-BISMO_INT4_CNV_25\"}, {\"top1\": \"81.09\", \"fps-comp\": 6400.0, \"NN_Topology\": \"CNV\", \"type\": \"predicted\", \"HWType\": \"U96-Quadcore-A53\", \"hardw_datatype_net_prun\": \"U96-Quadcore-A53_INT4_CNV_25\"}, {\"top1\": \"75.85\", \"fps-comp\": 319296.0, \"NN_Topology\": \"CNV\", \"type\": \"predicted\", \"HWType\": \"ZCU104-FINN\", \"hardw_datatype_net_prun\": \"ZCU104-FINN_INT4_CNV_12.5\"}, {\"top1\": \"75.85\", \"fps-comp\": 319296.0, \"NN_Topology\": \"CNV\", \"type\": \"predicted\", \"HWType\": \"ZCU104-BISMO\", \"hardw_datatype_net_prun\": \"ZCU104-BISMO_INT4_CNV_12.5\"}, {\"top1\": \"75.85\", \"fps-comp\": 19200.0, \"NN_Topology\": \"CNV\", \"type\": \"predicted\", \"HWType\": \"U96-Quadcore-A53\", \"hardw_datatype_net_prun\": \"U96-Quadcore-A53_INT4_CNV_12.5\"}, {\"top1\": \"87.02\", \"fps-comp\": 2829.787234, \"NN_Topology\": \"CNV\", \"type\": \"predicted\", \"HWType\": \"TX2-maxn\", \"hardw_datatype_net_prun\": \"TX2-maxn_FP16_CNV_100\"}, {\"top1\": \"87.02\", \"fps-comp\": 2446.8085109999997, \"NN_Topology\": \"CNV\", \"type\": \"predicted\", \"HWType\": \"TX2-maxp\", \"hardw_datatype_net_prun\": \"TX2-maxp_FP16_CNV_100\"}, {\"top1\": \"87.02\", \"fps-comp\": 1851.06383, \"NN_Topology\": \"CNV\", \"type\": \"predicted\", \"HWType\": \"TX2-maxq\", \"hardw_datatype_net_prun\": \"TX2-maxq_FP16_CNV_100\"}, {\"top1\": \"87.02\", \"fps-comp\": 1038.1617019999999, \"NN_Topology\": \"CNV\", \"type\": \"predicted\", \"HWType\": \"NCS\", \"hardw_datatype_net_prun\": \"NCS_FP16_CNV_100\"}, {\"top1\": \"85.55\", \"fps-comp\": 11083.33333, \"NN_Topology\": \"CNV\", \"type\": \"predicted\", \"HWType\": \"TX2-maxn\", \"hardw_datatype_net_prun\": \"TX2-maxn_FP16_CNV_50\"}, {\"top1\": \"85.55\", \"fps-comp\": 9583.333333, \"NN_Topology\": \"CNV\", \"type\": \"predicted\", \"HWType\": \"TX2-maxp\", \"hardw_datatype_net_prun\": \"TX2-maxp_FP16_CNV_50\"}, {\"top1\": \"85.55\", \"fps-comp\": 7250.0, \"NN_Topology\": \"CNV\", \"type\": \"predicted\", \"HWType\": \"TX2-maxq\", \"hardw_datatype_net_prun\": \"TX2-maxq_FP16_CNV_50\"}, {\"top1\": \"85.55\", \"fps-comp\": 4110.933333, \"NN_Topology\": \"CNV\", \"type\": \"predicted\", \"HWType\": \"NCS\", \"hardw_datatype_net_prun\": \"NCS_FP16_CNV_50\"}, {\"top1\": \"83.28\", \"fps-comp\": 44333.33333, \"NN_Topology\": \"CNV\", \"type\": \"predicted\", \"HWType\": \"TX2-maxn\", \"hardw_datatype_net_prun\": \"TX2-maxn_FP16_CNV_25\"}, {\"top1\": \"83.28\", \"fps-comp\": 38333.33333, \"NN_Topology\": \"CNV\", \"type\": \"predicted\", \"HWType\": \"TX2-maxp\", \"hardw_datatype_net_prun\": \"TX2-maxp_FP16_CNV_25\"}, {\"top1\": \"83.28\", \"fps-comp\": 29000.0, \"NN_Topology\": \"CNV\", \"type\": \"predicted\", \"HWType\": \"TX2-maxq\", \"hardw_datatype_net_prun\": \"TX2-maxq_FP16_CNV_25\"}, {\"top1\": \"83.28\", \"fps-comp\": 16666.66667, \"NN_Topology\": \"CNV\", \"type\": \"predicted\", \"HWType\": \"NCS\", \"hardw_datatype_net_prun\": \"NCS_FP16_CNV_25\"}, {\"top1\": \"77.82\", \"fps-comp\": 133000.0, \"NN_Topology\": \"CNV\", \"type\": \"predicted\", \"HWType\": \"TX2-maxn\", \"hardw_datatype_net_prun\": \"TX2-maxn_FP16_CNV_12.5\"}, {\"top1\": \"77.82\", \"fps-comp\": 115000.0, \"NN_Topology\": \"CNV\", \"type\": \"predicted\", \"HWType\": \"TX2-maxp\", \"hardw_datatype_net_prun\": \"TX2-maxp_FP16_CNV_12.5\"}, {\"top1\": \"77.82\", \"fps-comp\": 87000.0, \"NN_Topology\": \"CNV\", \"type\": \"predicted\", \"HWType\": \"TX2-maxq\", \"hardw_datatype_net_prun\": \"TX2-maxq_FP16_CNV_12.5\"}, {\"top1\": \"77.82\", \"fps-comp\": 50000.0, \"NN_Topology\": \"CNV\", \"type\": \"predicted\", \"HWType\": \"NCS\", \"hardw_datatype_net_prun\": \"NCS_FP16_CNV_12.5\"}, {\"top1\": \"87.06\", \"fps-comp\": 1425.531915, \"NN_Topology\": \"CNV\", \"type\": \"predicted\", \"HWType\": \"TX2-maxn\", \"hardw_datatype_net_prun\": \"TX2-maxn_FP32_CNV_100\"}, {\"top1\": \"87.06\", \"fps-comp\": 1212.765957, \"NN_Topology\": \"CNV\", \"type\": \"predicted\", \"HWType\": \"TX2-maxp\", \"hardw_datatype_net_prun\": \"TX2-maxp_FP32_CNV_100\"}, {\"top1\": \"87.06\", \"fps-comp\": 936.1702127999998, \"NN_Topology\": \"CNV\", \"type\": \"predicted\", \"HWType\": \"TX2-maxq\", \"hardw_datatype_net_prun\": \"TX2-maxq_FP32_CNV_100\"}, {\"top1\": \"85.6\", \"fps-comp\": 5583.333333, \"NN_Topology\": \"CNV\", \"type\": \"predicted\", \"HWType\": \"TX2-maxn\", \"hardw_datatype_net_prun\": \"TX2-maxn_FP32_CNV_50\"}, {\"top1\": \"85.6\", \"fps-comp\": 4750.0, \"NN_Topology\": \"CNV\", \"type\": \"predicted\", \"HWType\": \"TX2-maxp\", \"hardw_datatype_net_prun\": \"TX2-maxp_FP32_CNV_50\"}, {\"top1\": \"85.6\", \"fps-comp\": 3666.666667, \"NN_Topology\": \"CNV\", \"type\": \"predicted\", \"HWType\": \"TX2-maxq\", \"hardw_datatype_net_prun\": \"TX2-maxq_FP32_CNV_50\"}, {\"top1\": \"83.25\", \"fps-comp\": 22333.33333, \"NN_Topology\": \"CNV\", \"type\": \"predicted\", \"HWType\": \"TX2-maxn\", \"hardw_datatype_net_prun\": \"TX2-maxn_FP32_CNV_25\"}, {\"top1\": \"83.25\", \"fps-comp\": 19000.0, \"NN_Topology\": \"CNV\", \"type\": \"predicted\", \"HWType\": \"TX2-maxp\", \"hardw_datatype_net_prun\": \"TX2-maxp_FP32_CNV_25\"}, {\"top1\": \"83.25\", \"fps-comp\": 14666.666669999999, \"NN_Topology\": \"CNV\", \"type\": \"predicted\", \"HWType\": \"TX2-maxq\", \"hardw_datatype_net_prun\": \"TX2-maxq_FP32_CNV_25\"}, {\"top1\": \"77.84\", \"fps-comp\": 67000.0, \"NN_Topology\": \"CNV\", \"type\": \"predicted\", \"HWType\": \"TX2-maxn\", \"hardw_datatype_net_prun\": \"TX2-maxn_FP32_CNV_12.5\"}, {\"top1\": \"77.84\", \"fps-comp\": 57000.0, \"NN_Topology\": \"CNV\", \"type\": \"predicted\", \"HWType\": \"TX2-maxp\", \"hardw_datatype_net_prun\": \"TX2-maxp_FP32_CNV_12.5\"}, {\"top1\": \"77.84\", \"fps-comp\": 44000.0, \"NN_Topology\": \"CNV\", \"type\": \"predicted\", \"HWType\": \"TX2-maxq\", \"hardw_datatype_net_prun\": \"TX2-maxq_FP32_CNV_12.5\"}], \"data-4715e1dfe6d06d5bda9ad7727cc54322\": [{\"x\": 6228.9702130000005, \"y\": \"87.4\", \"group\": \"ZCU104-FINN_INT4_CNV_100\"}, {\"x\": 12457.94043, \"y\": \"86.86\", \"group\": \"ZCU104-BISMO_INT2_CNV_100\"}, {\"x\": 24665.6, \"y\": \"84.88\", \"group\": \"ZCU104-BISMO_INT4_CNV_50\"}, {\"x\": 49331.2, \"y\": \"84.29\", \"group\": \"ZCU104-FINN_INT2_CNV_50\"}, {\"x\": 100800.0, \"y\": \"81.09\", \"group\": \"ZCU104-BISMO_INT4_CNV_25\"}, {\"x\": 201600.0, \"y\": \"79.89\", \"group\": \"ZCU104-BISMO_INT2_CNV_25\"}, {\"x\": 319296.0, \"y\": \"75.85\", \"group\": \"ZCU104-BISMO_INT4_CNV_12.5\"}, {\"x\": 638592.0, \"y\": \"73.64\", \"group\": \"ZCU104-FINN_INT2_CNV_12.5\"}]}}, {\"mode\": \"vega-lite\"});\n",
       "</script>"
      ],
      "text/plain": [
       "alt.LayerChart(...)"
      ]
     },
     "execution_count": 17,
     "metadata": {},
     "output_type": "execute_result"
    }
   ],
   "source": [
    "#hide_input\n",
    "%run scripts/overlapped_pareto.py\n",
    "theor_pareto(machine_learning_task='cifar', title= 'Theoretical Pareto for CIFAR-10')"
   ]
  },
  {
   "cell_type": "code",
   "execution_count": null,
   "metadata": {},
   "outputs": [],
   "source": []
  },
  {
   "cell_type": "code",
   "execution_count": null,
   "metadata": {},
   "outputs": [],
   "source": []
  }
 ],
 "metadata": {
  "celltoolbar": "Raw Cell Format",
  "kernelspec": {
   "display_name": "Python 3",
   "language": "python",
   "name": "python3"
  },
  "language_info": {
   "codemirror_mode": {
    "name": "ipython",
    "version": 3
   },
   "file_extension": ".py",
   "mimetype": "text/x-python",
   "name": "python",
   "nbconvert_exporter": "python",
   "pygments_lexer": "ipython3",
   "version": "3.8.3"
  }
 },
 "nbformat": 4,
 "nbformat_minor": 4
}
