{
 "cells": [
  {
   "cell_type": "markdown",
   "metadata": {},
   "source": [
    "# Notebook to process and clean csv's"
   ]
  },
  {
   "cell_type": "code",
   "execution_count": 2,
   "metadata": {},
   "outputs": [],
   "source": [
    "import pandas as pd\n",
    "import numpy as np\n",
    "import altair as alt"
   ]
  },
  {
   "cell_type": "markdown",
   "metadata": {},
   "source": [
    "# Performance Predictions for mnist, cifar10 and imagenet - Heatmaps\n",
    "## Read csv > process data > save to another csv"
   ]
  },
  {
   "cell_type": "code",
   "execution_count": 5,
   "metadata": {},
   "outputs": [],
   "source": [
    "#hide\n",
    "## Reading csv file and converting data to (Neural network, Platform, Value)\n",
    "df = pd.read_csv('data/performance_predictions_imagenet_mnist_cifar.csv')\n",
    "df.head()\n",
    "pd.set_option('display.max_rows', None)\n",
    "#----- Creating a dataframe with 3 columns x, y gop_frame\n",
    "cleanedList = [x for x in df.platform if x==x] # to take all the nans out\n",
    "x, y = np.meshgrid(df.model, cleanedList) \n",
    "gop_frame, _ = np.meshgrid(df.gop_frame, cleanedList)\n",
    "\n",
    "#to crate a 1D array from each variable, creating a dataframe with 3 columns\n",
    "source = pd.DataFrame({'x': x.ravel(),     \n",
    "                       'y': y.ravel(),\n",
    "                       'gop_frame':gop_frame.ravel()}) #auxilary column\n",
    "\n",
    "#---Adding a fourth column: top_second  ---- auxilary column\n",
    "tops_second= []    #creating a lsit which will contain all top_second columns from the dataframe\n",
    "columns = list(df) # creating a list of dataframe columns \n",
    "  \n",
    "for i in columns:   \n",
    "    if 'top_second' in i:\n",
    "        tops_second.append(df[i])\n",
    "        \n",
    "source['top_second'] = pd.concat(tops_second,ignore_index=True)\n",
    "\n",
    "#------Adding a fith column: values-----------\n",
    "source['values'] = source.top_second * 1000 / source.gop_frame\n",
    "\n",
    "#---Drop auxilary columns: gop_frame top_scond----\n",
    "source = source.drop(columns=['gop_frame','top_second'])\n",
    "source = source.round(0)\n",
    "source.head()\n",
    "\n",
    "#Separate dataframe into: IMAGENET, MNIST, CIFAR10 dataframes\n",
    "df_imagenet = source[source['x'].str.contains('GoogleNetv|MobileNetv1|ResNet50|EfficientNet')]\n",
    "df_cifar10 = source[source['x'].str.contains('CNV')]\n",
    "df_MNIST = source[source['x'].str.contains('MLP')]\n",
    "\n",
    "#Saving above dataframes to csv file\n",
    "df_imagenet.to_csv('data/processed_csv/performance_prediction_imagenet.csv', index = False)\n",
    "df_cifar10.to_csv('data/processed_csv/performance_prediction_cifar10.csv', index = False)\n",
    "df_MNIST.to_csv('data/processed_csv/performance_prediction_mnist.csv', index = False)\n",
    "source.to_csv('data/processed_csv/performance_prediction_imagenet_mnist_cifar10.csv', index = False)"
   ]
  },
  {
   "cell_type": "code",
   "execution_count": null,
   "metadata": {},
   "outputs": [],
   "source": []
  }
 ],
 "metadata": {
  "kernelspec": {
   "display_name": "Python 3",
   "language": "python",
   "name": "python3"
  },
  "language_info": {
   "codemirror_mode": {
    "name": "ipython",
    "version": 3
   },
   "file_extension": ".py",
   "mimetype": "text/x-python",
   "name": "python",
   "nbconvert_exporter": "python",
   "pygments_lexer": "ipython3",
   "version": "3.7.4"
  }
 },
 "nbformat": 4,
 "nbformat_minor": 4
}
