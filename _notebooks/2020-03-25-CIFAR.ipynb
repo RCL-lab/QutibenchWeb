{
 "cells": [
  {
   "cell_type": "markdown",
   "metadata": {},
   "source": [
    "# CIFAR Performance\n",
    "> Performance data for the CIFAR benchmark\n",
    "\n",
    "- toc: true \n",
    "- badges: true\n",
    "- comments: true\n",
    "- categories: [l3, performance, CIFAR]\n",
    "- image: images/cifar_logo.png"
   ]
  },
  {
   "cell_type": "code",
   "execution_count": 1,
   "metadata": {},
   "outputs": [],
   "source": [
    "csv_path = \"./data/cleaned_csv/backup.csv\""
   ]
  },
  {
   "cell_type": "markdown",
   "metadata": {},
   "source": [
    "# Theretical Analysis of CIFAR"
   ]
  },
  {
   "cell_type": "markdown",
   "metadata": {},
   "source": [
    "### Rooflines"
   ]
  },
  {
   "cell_type": "markdown",
   "metadata": {},
   "source": [
    "The plot below shows.. Lorem ipsum ..."
   ]
  },
  {
   "cell_type": "code",
   "execution_count": 6,
   "metadata": {
    "scrolled": true
   },
   "outputs": [
    {
     "data": {
      "text/html": [
       "\n",
       "<div id=\"altair-viz-07f6c776e5164c5fa5064d431eb38e7a\"></div>\n",
       "<script type=\"text/javascript\">\n",
       "  (function(spec, embedOpt){\n",
       "    const outputDiv = document.getElementById(\"altair-viz-07f6c776e5164c5fa5064d431eb38e7a\");\n",
       "    const paths = {\n",
       "      \"vega\": \"https://cdn.jsdelivr.net/npm//vega@5?noext\",\n",
       "      \"vega-lib\": \"https://cdn.jsdelivr.net/npm//vega-lib?noext\",\n",
       "      \"vega-lite\": \"https://cdn.jsdelivr.net/npm//vega-lite@4.0.2?noext\",\n",
       "      \"vega-embed\": \"https://cdn.jsdelivr.net/npm//vega-embed@6?noext\",\n",
       "    };\n",
       "\n",
       "    function loadScript(lib) {\n",
       "      return new Promise(function(resolve, reject) {\n",
       "        var s = document.createElement('script');\n",
       "        s.src = paths[lib];\n",
       "        s.async = true;\n",
       "        s.onload = () => resolve(paths[lib]);\n",
       "        s.onerror = () => reject(`Error loading script: ${paths[lib]}`);\n",
       "        document.getElementsByTagName(\"head\")[0].appendChild(s);\n",
       "      });\n",
       "    }\n",
       "\n",
       "    function showError(err) {\n",
       "      outputDiv.innerHTML = `<div class=\"error\" style=\"color:red;\">${err}</div>`;\n",
       "      throw err;\n",
       "    }\n",
       "\n",
       "    function displayChart(vegaEmbed) {\n",
       "      vegaEmbed(outputDiv, spec, embedOpt)\n",
       "        .catch(err => showError(`Javascript Error: ${err.message}<br>This usually means there's a typo in your chart specification. See the javascript console for the full traceback.`));\n",
       "    }\n",
       "\n",
       "    if(typeof define === \"function\" && define.amd) {\n",
       "      requirejs.config({paths});\n",
       "      require([\"vega-embed\"], displayChart, err => showError(`Error loading script: ${err.message}`));\n",
       "    } else if (typeof vegaEmbed === \"function\") {\n",
       "      displayChart(vegaEmbed);\n",
       "    } else {\n",
       "      loadScript(\"vega\")\n",
       "        .then(() => loadScript(\"vega-lite\"))\n",
       "        .then(() => loadScript(\"vega-embed\"))\n",
       "        .catch(showError)\n",
       "        .then(() => displayChart(vegaEmbed));\n",
       "    }\n",
       "  })({\"config\": {\"view\": {\"continuousWidth\": 400, \"continuousHeight\": 300}}, \"layer\": [{\"layer\": [{\"data\": {\"name\": \"data-60aa8a80b92e1167041b9a8b1fb99d0b\"}, \"mark\": {\"type\": \"line\", \"clip\": true}, \"encoding\": {\"color\": {\"condition\": {\"type\": \"nominal\", \"field\": \"Name\", \"selection\": \"CIFAR10  CNV  \"}, \"value\": \"lightgray\"}, \"x\": {\"type\": \"quantitative\", \"field\": \"arith_intens\", \"scale\": {\"domain\": [0.1, 160000], \"type\": \"log\"}, \"title\": \"ARITHMETIC INTENSITY (OPS/BYTE)\"}, \"y\": {\"type\": \"quantitative\", \"field\": \"performance\", \"scale\": {\"domain\": [0.2, 40], \"type\": \"log\"}, \"title\": \"PERFORMANCE (TOPS/S)\"}}, \"height\": 500, \"selection\": {\"CIFAR10  CNV  \": {\"type\": \"single\", \"fields\": [\"Hide\"], \"bind\": {\"input\": \"checkbox\"}}}, \"title\": \"Comparing Hardware Platforms Rooflines and Neural Networks Arithmetic Intensity\", \"width\": 700}, {\"data\": {\"name\": \"data-9118c837affc83f99762b72e52c7e347\"}, \"mark\": {\"type\": \"line\", \"clip\": true}, \"encoding\": {\"color\": {\"condition\": {\"type\": \"nominal\", \"field\": \"Name\", \"selection\": \"FPGAs  Ultra96  DPU  ZCU  \"}, \"value\": \"lightgray\"}, \"x\": {\"type\": \"quantitative\", \"field\": \"arith_intens\", \"scale\": {\"domain\": [0.1, 160000], \"type\": \"log\"}, \"title\": \"ARITHMETIC INTENSITY (OPS/BYTE)\"}, \"y\": {\"type\": \"quantitative\", \"field\": \"performance\", \"scale\": {\"domain\": [0.2, 40], \"type\": \"log\"}, \"title\": \"PERFORMANCE (TOPS/S)\"}}, \"height\": 500, \"selection\": {\"FPGAs  Ultra96  DPU  ZCU  \": {\"type\": \"single\", \"fields\": [\"Hide\"], \"bind\": {\"input\": \"checkbox\"}}}, \"title\": \"Comparing Hardware Platforms Rooflines and Neural Networks Arithmetic Intensity\", \"width\": 700}, {\"data\": {\"name\": \"data-bb124781430565257d56155f96d0b843\"}, \"mark\": {\"type\": \"line\", \"clip\": true}, \"encoding\": {\"color\": {\"condition\": {\"type\": \"nominal\", \"field\": \"Name\", \"selection\": \"INVIDIA  TX2  maxn, maxp, maxq  \"}, \"value\": \"lightgray\"}, \"x\": {\"type\": \"quantitative\", \"field\": \"arith_intens\", \"scale\": {\"domain\": [0.1, 160000], \"type\": \"log\"}, \"title\": \"ARITHMETIC INTENSITY (OPS/BYTE)\"}, \"y\": {\"type\": \"quantitative\", \"field\": \"performance\", \"scale\": {\"domain\": [0.2, 40], \"type\": \"log\"}, \"title\": \"PERFORMANCE (TOPS/S)\"}}, \"height\": 500, \"selection\": {\"INVIDIA  TX2  maxn, maxp, maxq  \": {\"type\": \"single\", \"fields\": [\"Hide\"], \"bind\": {\"input\": \"checkbox\"}}}, \"title\": \"Comparing Hardware Platforms Rooflines and Neural Networks Arithmetic Intensity\", \"width\": 700}, {\"data\": {\"name\": \"data-9a1ce48a3484680f845156782ba6ab5e\"}, \"mark\": {\"type\": \"line\", \"clip\": true}, \"encoding\": {\"color\": {\"condition\": {\"type\": \"nominal\", \"field\": \"Name\", \"selection\": \"GOOGLE  TPU, fast, slow  \"}, \"value\": \"lightgray\"}, \"x\": {\"type\": \"quantitative\", \"field\": \"arith_intens\", \"scale\": {\"domain\": [0.1, 160000], \"type\": \"log\"}, \"title\": \"ARITHMETIC INTENSITY (OPS/BYTE)\"}, \"y\": {\"type\": \"quantitative\", \"field\": \"performance\", \"scale\": {\"domain\": [0.2, 40], \"type\": \"log\"}, \"title\": \"PERFORMANCE (TOPS/S)\"}}, \"height\": 500, \"selection\": {\"GOOGLE  TPU, fast, slow  \": {\"type\": \"single\", \"fields\": [\"Hide\"], \"bind\": {\"input\": \"checkbox\"}}}, \"title\": \"Comparing Hardware Platforms Rooflines and Neural Networks Arithmetic Intensity\", \"width\": 700}, {\"data\": {\"name\": \"data-b9a4e6b9702b6d97b53c00d35908a722\"}, \"mark\": {\"type\": \"line\", \"clip\": true}, \"encoding\": {\"color\": {\"condition\": {\"type\": \"nominal\", \"field\": \"Name\", \"selection\": \"INTEL  NCS  \"}, \"value\": \"lightgray\"}, \"x\": {\"type\": \"quantitative\", \"field\": \"arith_intens\", \"scale\": {\"domain\": [0.1, 160000], \"type\": \"log\"}, \"title\": \"ARITHMETIC INTENSITY (OPS/BYTE)\"}, \"y\": {\"type\": \"quantitative\", \"field\": \"performance\", \"scale\": {\"domain\": [0.2, 40], \"type\": \"log\"}, \"title\": \"PERFORMANCE (TOPS/S)\"}}, \"height\": 500, \"selection\": {\"INTEL  NCS  \": {\"type\": \"single\", \"fields\": [\"Hide\"], \"bind\": {\"input\": \"checkbox\"}}}, \"title\": \"Comparing Hardware Platforms Rooflines and Neural Networks Arithmetic Intensity\", \"width\": 700}]}, {\"mark\": {\"type\": \"point\", \"clip\": true}, \"encoding\": {\"opacity\": {\"value\": 0}, \"x\": {\"type\": \"quantitative\", \"field\": \"arith_intens\"}, \"y\": {\"type\": \"quantitative\", \"field\": \"performance\"}}, \"selection\": {\"selector008\": {\"type\": \"single\", \"nearest\": true, \"on\": \"mouseover\", \"fields\": [\"arith_intens\"]}}}, {\"mark\": {\"type\": \"text\", \"align\": \"left\", \"clip\": true, \"dx\": 3, \"dy\": -3}, \"encoding\": {\"color\": {\"type\": \"nominal\", \"field\": \"Name\", \"legend\": {\"columns\": 2}}, \"text\": {\"condition\": {\"type\": \"nominal\", \"field\": \"Name\", \"selection\": \"selector008\"}, \"value\": \" \"}, \"x\": {\"type\": \"quantitative\", \"field\": \"arith_intens\"}, \"y\": {\"type\": \"quantitative\", \"field\": \"performance\"}}, \"selection\": {\"selector007\": {\"type\": \"interval\", \"bind\": \"scales\", \"encodings\": [\"x\", \"y\"]}}}], \"data\": {\"name\": \"data-80c58ae94794ed7fda68bcec41c4a34b\"}, \"height\": 500, \"width\": 700, \"$schema\": \"https://vega.github.io/schema/vega-lite/v4.0.2.json\", \"datasets\": {\"data-80c58ae94794ed7fda68bcec41c4a34b\": [{\"Name\": \"Ultra96 DPU INT8\", \"arith_intens\": 1.0, \"performance\": 0.00426}, {\"Name\": \"Ultra96 DPU INT8\", \"arith_intens\": 226.1, \"performance\": 0.96}, {\"Name\": \"Ultra96 DPU INT8\", \"arith_intens\": 160000.0, \"performance\": 0.96}, {\"Name\": \"ZCU104 INT8\", \"arith_intens\": 1.0, \"performance\": 0.0192}, {\"Name\": \"ZCU104 INT8\", \"arith_intens\": 240.1, \"performance\": 4.6}, {\"Name\": \"ZCU104 INT8\", \"arith_intens\": 160000.0, \"performance\": 4.6}, {\"Name\": \"ZCU102 INT8\", \"arith_intens\": 1.0, \"performance\": 0.0192}, {\"Name\": \"ZCU102 INT8\", \"arith_intens\": 350.1, \"performance\": 6.71}, {\"Name\": \"ZCU102 INT8\", \"arith_intens\": 160000.0, \"performance\": 6.71}, {\"Name\": \"ZCU104 FINN INT2\", \"arith_intens\": 1.0, \"performance\": 0.0192}, {\"Name\": \"ZCU104 FINN INT2\", \"arith_intens\": 1599.1, \"performance\": 30.7}, {\"Name\": \"ZCU104 FINN INT2\", \"arith_intens\": 160000.0, \"performance\": 30.7}, {\"Name\": \"ZCU104 FINN INT4\", \"arith_intens\": 1.0, \"performance\": 0.0192}, {\"Name\": \"ZCU104 FINN INT4\", \"arith_intens\": 459.1, \"performance\": 8.8}, {\"Name\": \"ZCU104 FINN INT4\", \"arith_intens\": 160000.0, \"performance\": 8.8}, {\"Name\": \"ZCU104 FINN INT8\", \"arith_intens\": 1.0, \"performance\": 0.0192}, {\"Name\": \"ZCU104 FINN INT8\", \"arith_intens\": 183.1, \"performance\": 3.5}, {\"Name\": \"ZCU104 FINN INT8\", \"arith_intens\": 160000.0, \"performance\": 3.5}, {\"Name\": \"ZCU104 FINN FP16\", \"arith_intens\": 1.0, \"performance\": 0.0192}, {\"Name\": \"ZCU104 FINN FP16\", \"arith_intens\": 91.1, \"performance\": 1.73}, {\"Name\": \"ZCU104 FINN FP16\", \"arith_intens\": 160000.0, \"performance\": 1.73}, {\"Name\": \"ZCU104 BISMO INT2\", \"arith_intens\": 1.0, \"performance\": 0.0192}, {\"Name\": \"ZCU104 BISMO INT2\", \"arith_intens\": 128.1, \"performance\": 2.45}, {\"Name\": \"ZCU104 BISMO INT2\", \"arith_intens\": 160000.0, \"performance\": 2.45}, {\"Name\": \"ZCU104 BISMO INT4\", \"arith_intens\": 1.0, \"performance\": 0.0192}, {\"Name\": \"ZCU104 BISMO INT4\", \"arith_intens\": 32.1, \"performance\": 0.61}, {\"Name\": \"ZCU104 BISMO INT4\", \"arith_intens\": 160000.0, \"performance\": 0.61}, {\"Name\": \"TX2 maxn FP16\", \"arith_intens\": 1.0, \"performance\": 0.0597}, {\"Name\": \"TX2 maxn FP16\", \"arith_intens\": 23.1, \"performance\": 1.33}, {\"Name\": \"TX2 maxn FP16\", \"arith_intens\": 160000.0, \"performance\": 1.33}, {\"Name\": \"TX2 maxn FP32\", \"arith_intens\": 1.0, \"performance\": 0.0597}, {\"Name\": \"TX2 maxn FP32\", \"arith_intens\": 12.1, \"performance\": 0.67}, {\"Name\": \"TX2 maxn FP32\", \"arith_intens\": 160000.0, \"performance\": 0.67}, {\"Name\": \"TX2 maxp FP16\", \"arith_intens\": 1.0, \"performance\": 0.0597}, {\"Name\": \"TX2 maxp FP16\", \"arith_intens\": 20.1, \"performance\": 1.15}, {\"Name\": \"TX2 maxp FP16\", \"arith_intens\": 160000.0, \"performance\": 1.15}, {\"Name\": \"TX2 maxp FP32\", \"arith_intens\": 1.0, \"performance\": 0.0597}, {\"Name\": \"TX2 maxp FP32\", \"arith_intens\": 10.1, \"performance\": 0.57}, {\"Name\": \"TX2 maxp FP32\", \"arith_intens\": 160000.0, \"performance\": 0.57}, {\"Name\": \"TX2 maxq FP16\", \"arith_intens\": 1.0, \"performance\": 0.0597}, {\"Name\": \"TX2 maxq FP16\", \"arith_intens\": 15.1, \"performance\": 0.87}, {\"Name\": \"TX2 maxq FP16\", \"arith_intens\": 160000.0, \"performance\": 0.87}, {\"Name\": \"TX2 maxq FP32\", \"arith_intens\": 1.0, \"performance\": 0.0597}, {\"Name\": \"TX2 maxq FP32\", \"arith_intens\": 8.1, \"performance\": 0.44}, {\"Name\": \"TX2 maxq FP32\", \"arith_intens\": 160000.0, \"performance\": 0.44}, {\"Name\": \"TPU fast INT8\", \"arith_intens\": 1.0, \"performance\": 0.0256}, {\"Name\": \"TPU fast INT8\", \"arith_intens\": 157.1, \"performance\": 4.0}, {\"Name\": \"TPU fast INT8\", \"arith_intens\": 160000.0, \"performance\": 4.0}, {\"Name\": \"TPU slow INT8\", \"arith_intens\": 1.0, \"performance\": 0.0256}, {\"Name\": \"TPU slow INT8\", \"arith_intens\": 79.1, \"performance\": 2.0}, {\"Name\": \"TPU slow INT8\", \"arith_intens\": 160000.0, \"performance\": 2.0}, {\"Name\": \"NCS INT8\", \"arith_intens\": 1.0, \"performance\": 0.0128}, {\"Name\": \"NCS INT8\", \"arith_intens\": 79.1, \"performance\": 1.0}, {\"Name\": \"NCS INT8\", \"arith_intens\": 160000.0, \"performance\": 1.0}, {\"Name\": \"NCS FP16\", \"arith_intens\": 1.0, \"performance\": 0.0128}, {\"Name\": \"NCS FP16\", \"arith_intens\": 39.1, \"performance\": 0.5}, {\"Name\": \"NCS FP16\", \"arith_intens\": 160000.0, \"performance\": 0.5}, {\"Name\": \"MobileNet V1\", \"arith_intens\": 23878.0, \"performance\": 100.0}, {\"Name\": \"AlexNet\", \"arith_intens\": 2995.0, \"performance\": 100.0}, {\"Name\": \"GoogLeNet V1\", \"arith_intens\": 29988.0, \"performance\": 100.0}, {\"Name\": \"ResNet-18\", \"arith_intens\": 39950.0, \"performance\": 100.0}, {\"Name\": \"ResNet-34\", \"arith_intens\": 43169.0, \"performance\": 100.0}, {\"Name\": \"VGG16_BN\", \"arith_intens\": 7183.0, \"performance\": 100.0}, {\"Name\": \"ResNet-101\", \"arith_intens\": 22671.0, \"performance\": 100.0}, {\"Name\": \"ResNet-34-SSD\", \"arith_intens\": 51070.0, \"performance\": 100.0}, {\"Name\": \"ResNet-50\", \"arith_intens\": 41475.0, \"performance\": 100.0}, {\"Name\": \"ResNet-152\", \"arith_intens\": 24587.0, \"performance\": 100.0}, {\"Name\": \"MaskRCNN\", \"arith_intens\": 145921.0, \"performance\": 100.0}, {\"Name\": \"GNMT\", \"arith_intens\": 6086.0, \"performance\": 100.0}, {\"Name\": \"ResNet-50\", \"arith_intens\": 82560.0, \"performance\": 100.0}, {\"Name\": \"MaskRCNN\", \"arith_intens\": 145921.0, \"performance\": 100.0}, {\"Name\": \"MobileNet V2\", \"arith_intens\": 12464.0, \"performance\": 100.0}, {\"Name\": \"GNMT\", \"arith_intens\": 9009.0, \"performance\": 100.0}, {\"Name\": \"MLP\", \"arith_intens\": 2.0, \"performance\": 100.0}, {\"Name\": \"CNV\", \"arith_intens\": 76.0, \"performance\": 100.0}, {\"Name\": \"CNV-50%\", \"arith_intens\": 77.0, \"performance\": 100.0}, {\"Name\": \"CNV-25%\", \"arith_intens\": 78.0, \"performance\": 100.0}, {\"Name\": \"CNV-12.5%\", \"arith_intens\": 83.0, \"performance\": 100.0}, {\"Name\": \"MLP-50%\", \"arith_intens\": 2.0, \"performance\": 100.0}, {\"Name\": \"MLP-25%\", \"arith_intens\": 2.0, \"performance\": 100.0}, {\"Name\": \"MobileNet V1\", \"arith_intens\": 23878.0, \"performance\": 25.0}, {\"Name\": \"AlexNet\", \"arith_intens\": 2995.0, \"performance\": 25.0}, {\"Name\": \"GoogLeNet V1\", \"arith_intens\": 29988.0, \"performance\": 25.0}, {\"Name\": \"ResNet-18\", \"arith_intens\": 39950.0, \"performance\": 25.0}, {\"Name\": \"ResNet-34\", \"arith_intens\": 43169.0, \"performance\": 25.0}, {\"Name\": \"VGG16_BN\", \"arith_intens\": 7183.0, \"performance\": 25.0}, {\"Name\": \"ResNet-101\", \"arith_intens\": 22671.0, \"performance\": 25.0}, {\"Name\": \"ResNet-34-SSD\", \"arith_intens\": 51070.0, \"performance\": 25.0}, {\"Name\": \"ResNet-50\", \"arith_intens\": 41475.0, \"performance\": 25.0}, {\"Name\": \"ResNet-152\", \"arith_intens\": 24587.0, \"performance\": 25.0}, {\"Name\": \"MaskRCNN\", \"arith_intens\": 145921.0, \"performance\": 25.0}, {\"Name\": \"GNMT\", \"arith_intens\": 6086.0, \"performance\": 25.0}, {\"Name\": \"ResNet-50\", \"arith_intens\": 82560.0, \"performance\": 25.0}, {\"Name\": \"MaskRCNN\", \"arith_intens\": 145921.0, \"performance\": 25.0}, {\"Name\": \"MobileNet V2\", \"arith_intens\": 12464.0, \"performance\": 25.0}, {\"Name\": \"GNMT\", \"arith_intens\": 9009.0, \"performance\": 25.0}, {\"Name\": \"MLP\", \"arith_intens\": 2.0, \"performance\": 25.0}, {\"Name\": \"CNV\", \"arith_intens\": 76.0, \"performance\": 25.0}, {\"Name\": \"CNV-50%\", \"arith_intens\": 77.0, \"performance\": 25.0}, {\"Name\": \"CNV-25%\", \"arith_intens\": 78.0, \"performance\": 25.0}, {\"Name\": \"CNV-12.5%\", \"arith_intens\": 83.0, \"performance\": 25.0}, {\"Name\": \"MLP-50%\", \"arith_intens\": 2.0, \"performance\": 25.0}, {\"Name\": \"MLP-25%\", \"arith_intens\": 2.0, \"performance\": 25.0}, {\"Name\": \"MobileNet V1\", \"arith_intens\": 23878.0, \"performance\": 75.0}, {\"Name\": \"AlexNet\", \"arith_intens\": 2995.0, \"performance\": 75.0}, {\"Name\": \"GoogLeNet V1\", \"arith_intens\": 29988.0, \"performance\": 75.0}, {\"Name\": \"ResNet-18\", \"arith_intens\": 39950.0, \"performance\": 75.0}, {\"Name\": \"ResNet-34\", \"arith_intens\": 43169.0, \"performance\": 75.0}, {\"Name\": \"VGG16_BN\", \"arith_intens\": 7183.0, \"performance\": 75.0}, {\"Name\": \"ResNet-101\", \"arith_intens\": 22671.0, \"performance\": 75.0}, {\"Name\": \"ResNet-34-SSD\", \"arith_intens\": 51070.0, \"performance\": 75.0}, {\"Name\": \"ResNet-50\", \"arith_intens\": 41475.0, \"performance\": 75.0}, {\"Name\": \"ResNet-152\", \"arith_intens\": 24587.0, \"performance\": 75.0}, {\"Name\": \"MaskRCNN\", \"arith_intens\": 145921.0, \"performance\": 75.0}, {\"Name\": \"GNMT\", \"arith_intens\": 6086.0, \"performance\": 75.0}, {\"Name\": \"ResNet-50\", \"arith_intens\": 82560.0, \"performance\": 75.0}, {\"Name\": \"MaskRCNN\", \"arith_intens\": 145921.0, \"performance\": 75.0}, {\"Name\": \"MobileNet V2\", \"arith_intens\": 12464.0, \"performance\": 75.0}, {\"Name\": \"GNMT\", \"arith_intens\": 9009.0, \"performance\": 75.0}, {\"Name\": \"MLP\", \"arith_intens\": 2.0, \"performance\": 75.0}, {\"Name\": \"CNV\", \"arith_intens\": 76.0, \"performance\": 75.0}, {\"Name\": \"CNV-50%\", \"arith_intens\": 77.0, \"performance\": 75.0}, {\"Name\": \"CNV-25%\", \"arith_intens\": 78.0, \"performance\": 75.0}, {\"Name\": \"CNV-12.5%\", \"arith_intens\": 83.0, \"performance\": 75.0}, {\"Name\": \"MLP-50%\", \"arith_intens\": 2.0, \"performance\": 75.0}, {\"Name\": \"MLP-25%\", \"arith_intens\": 2.0, \"performance\": 75.0}, {\"Name\": \"MobileNet V1\", \"arith_intens\": 23878.0, \"performance\": 1e-06}, {\"Name\": \"AlexNet\", \"arith_intens\": 2995.0, \"performance\": 1e-06}, {\"Name\": \"GoogLeNet V1\", \"arith_intens\": 29988.0, \"performance\": 1e-06}, {\"Name\": \"ResNet-18\", \"arith_intens\": 39950.0, \"performance\": 1e-06}, {\"Name\": \"ResNet-34\", \"arith_intens\": 43169.0, \"performance\": 1e-06}, {\"Name\": \"VGG16_BN\", \"arith_intens\": 7183.0, \"performance\": 1e-06}, {\"Name\": \"ResNet-101\", \"arith_intens\": 22671.0, \"performance\": 1e-06}, {\"Name\": \"ResNet-34-SSD\", \"arith_intens\": 51070.0, \"performance\": 1e-06}, {\"Name\": \"ResNet-50\", \"arith_intens\": 41475.0, \"performance\": 1e-06}, {\"Name\": \"ResNet-152\", \"arith_intens\": 24587.0, \"performance\": 1e-06}, {\"Name\": \"MaskRCNN\", \"arith_intens\": 145921.0, \"performance\": 1e-06}, {\"Name\": \"GNMT\", \"arith_intens\": 6086.0, \"performance\": 1e-06}, {\"Name\": \"ResNet-50\", \"arith_intens\": 82560.0, \"performance\": 1e-06}, {\"Name\": \"MaskRCNN\", \"arith_intens\": 145921.0, \"performance\": 1e-06}, {\"Name\": \"MobileNet V2\", \"arith_intens\": 12464.0, \"performance\": 1e-06}, {\"Name\": \"GNMT\", \"arith_intens\": 9009.0, \"performance\": 1e-06}, {\"Name\": \"MLP\", \"arith_intens\": 2.0, \"performance\": 1e-06}, {\"Name\": \"CNV\", \"arith_intens\": 76.0, \"performance\": 1e-06}, {\"Name\": \"CNV-50%\", \"arith_intens\": 77.0, \"performance\": 1e-06}, {\"Name\": \"CNV-25%\", \"arith_intens\": 78.0, \"performance\": 1e-06}, {\"Name\": \"CNV-12.5%\", \"arith_intens\": 83.0, \"performance\": 1e-06}, {\"Name\": \"MLP-50%\", \"arith_intens\": 2.0, \"performance\": 1e-06}, {\"Name\": \"MLP-25%\", \"arith_intens\": 2.0, \"performance\": 1e-06}], \"data-60aa8a80b92e1167041b9a8b1fb99d0b\": [{\"Name\": \"CNV\", \"arith_intens\": 76.0, \"performance\": 100.0}, {\"Name\": \"CNV-50%\", \"arith_intens\": 77.0, \"performance\": 100.0}, {\"Name\": \"CNV-25%\", \"arith_intens\": 78.0, \"performance\": 100.0}, {\"Name\": \"CNV-12.5%\", \"arith_intens\": 83.0, \"performance\": 100.0}, {\"Name\": \"CNV\", \"arith_intens\": 76.0, \"performance\": 25.0}, {\"Name\": \"CNV-50%\", \"arith_intens\": 77.0, \"performance\": 25.0}, {\"Name\": \"CNV-25%\", \"arith_intens\": 78.0, \"performance\": 25.0}, {\"Name\": \"CNV-12.5%\", \"arith_intens\": 83.0, \"performance\": 25.0}, {\"Name\": \"CNV\", \"arith_intens\": 76.0, \"performance\": 75.0}, {\"Name\": \"CNV-50%\", \"arith_intens\": 77.0, \"performance\": 75.0}, {\"Name\": \"CNV-25%\", \"arith_intens\": 78.0, \"performance\": 75.0}, {\"Name\": \"CNV-12.5%\", \"arith_intens\": 83.0, \"performance\": 75.0}, {\"Name\": \"CNV\", \"arith_intens\": 76.0, \"performance\": 1e-06}, {\"Name\": \"CNV-50%\", \"arith_intens\": 77.0, \"performance\": 1e-06}, {\"Name\": \"CNV-25%\", \"arith_intens\": 78.0, \"performance\": 1e-06}, {\"Name\": \"CNV-12.5%\", \"arith_intens\": 83.0, \"performance\": 1e-06}], \"data-9118c837affc83f99762b72e52c7e347\": [{\"Name\": \"Ultra96 DPU INT8\", \"arith_intens\": 1.0, \"performance\": 0.00426}, {\"Name\": \"Ultra96 DPU INT8\", \"arith_intens\": 226.1, \"performance\": 0.96}, {\"Name\": \"Ultra96 DPU INT8\", \"arith_intens\": 160000.0, \"performance\": 0.96}, {\"Name\": \"ZCU104 INT8\", \"arith_intens\": 1.0, \"performance\": 0.0192}, {\"Name\": \"ZCU104 INT8\", \"arith_intens\": 240.1, \"performance\": 4.6}, {\"Name\": \"ZCU104 INT8\", \"arith_intens\": 160000.0, \"performance\": 4.6}, {\"Name\": \"ZCU102 INT8\", \"arith_intens\": 1.0, \"performance\": 0.0192}, {\"Name\": \"ZCU102 INT8\", \"arith_intens\": 350.1, \"performance\": 6.71}, {\"Name\": \"ZCU102 INT8\", \"arith_intens\": 160000.0, \"performance\": 6.71}, {\"Name\": \"ZCU104 FINN INT2\", \"arith_intens\": 1.0, \"performance\": 0.0192}, {\"Name\": \"ZCU104 FINN INT2\", \"arith_intens\": 1599.1, \"performance\": 30.7}, {\"Name\": \"ZCU104 FINN INT2\", \"arith_intens\": 160000.0, \"performance\": 30.7}, {\"Name\": \"ZCU104 FINN INT4\", \"arith_intens\": 1.0, \"performance\": 0.0192}, {\"Name\": \"ZCU104 FINN INT4\", \"arith_intens\": 459.1, \"performance\": 8.8}, {\"Name\": \"ZCU104 FINN INT4\", \"arith_intens\": 160000.0, \"performance\": 8.8}, {\"Name\": \"ZCU104 FINN INT8\", \"arith_intens\": 1.0, \"performance\": 0.0192}, {\"Name\": \"ZCU104 FINN INT8\", \"arith_intens\": 183.1, \"performance\": 3.5}, {\"Name\": \"ZCU104 FINN INT8\", \"arith_intens\": 160000.0, \"performance\": 3.5}, {\"Name\": \"ZCU104 FINN FP16\", \"arith_intens\": 1.0, \"performance\": 0.0192}, {\"Name\": \"ZCU104 FINN FP16\", \"arith_intens\": 91.1, \"performance\": 1.73}, {\"Name\": \"ZCU104 FINN FP16\", \"arith_intens\": 160000.0, \"performance\": 1.73}, {\"Name\": \"ZCU104 BISMO INT2\", \"arith_intens\": 1.0, \"performance\": 0.0192}, {\"Name\": \"ZCU104 BISMO INT2\", \"arith_intens\": 128.1, \"performance\": 2.45}, {\"Name\": \"ZCU104 BISMO INT2\", \"arith_intens\": 160000.0, \"performance\": 2.45}, {\"Name\": \"ZCU104 BISMO INT4\", \"arith_intens\": 1.0, \"performance\": 0.0192}, {\"Name\": \"ZCU104 BISMO INT4\", \"arith_intens\": 32.1, \"performance\": 0.61}, {\"Name\": \"ZCU104 BISMO INT4\", \"arith_intens\": 160000.0, \"performance\": 0.61}], \"data-bb124781430565257d56155f96d0b843\": [{\"Name\": \"TX2 maxn FP16\", \"arith_intens\": 1.0, \"performance\": 0.0597}, {\"Name\": \"TX2 maxn FP16\", \"arith_intens\": 23.1, \"performance\": 1.33}, {\"Name\": \"TX2 maxn FP16\", \"arith_intens\": 160000.0, \"performance\": 1.33}, {\"Name\": \"TX2 maxn FP32\", \"arith_intens\": 1.0, \"performance\": 0.0597}, {\"Name\": \"TX2 maxn FP32\", \"arith_intens\": 12.1, \"performance\": 0.67}, {\"Name\": \"TX2 maxn FP32\", \"arith_intens\": 160000.0, \"performance\": 0.67}, {\"Name\": \"TX2 maxp FP16\", \"arith_intens\": 1.0, \"performance\": 0.0597}, {\"Name\": \"TX2 maxp FP16\", \"arith_intens\": 20.1, \"performance\": 1.15}, {\"Name\": \"TX2 maxp FP16\", \"arith_intens\": 160000.0, \"performance\": 1.15}, {\"Name\": \"TX2 maxp FP32\", \"arith_intens\": 1.0, \"performance\": 0.0597}, {\"Name\": \"TX2 maxp FP32\", \"arith_intens\": 10.1, \"performance\": 0.57}, {\"Name\": \"TX2 maxp FP32\", \"arith_intens\": 160000.0, \"performance\": 0.57}, {\"Name\": \"TX2 maxq FP16\", \"arith_intens\": 1.0, \"performance\": 0.0597}, {\"Name\": \"TX2 maxq FP16\", \"arith_intens\": 15.1, \"performance\": 0.87}, {\"Name\": \"TX2 maxq FP16\", \"arith_intens\": 160000.0, \"performance\": 0.87}, {\"Name\": \"TX2 maxq FP32\", \"arith_intens\": 1.0, \"performance\": 0.0597}, {\"Name\": \"TX2 maxq FP32\", \"arith_intens\": 8.1, \"performance\": 0.44}, {\"Name\": \"TX2 maxq FP32\", \"arith_intens\": 160000.0, \"performance\": 0.44}], \"data-9a1ce48a3484680f845156782ba6ab5e\": [{\"Name\": \"TPU fast INT8\", \"arith_intens\": 1.0, \"performance\": 0.0256}, {\"Name\": \"TPU fast INT8\", \"arith_intens\": 157.1, \"performance\": 4.0}, {\"Name\": \"TPU fast INT8\", \"arith_intens\": 160000.0, \"performance\": 4.0}, {\"Name\": \"TPU slow INT8\", \"arith_intens\": 1.0, \"performance\": 0.0256}, {\"Name\": \"TPU slow INT8\", \"arith_intens\": 79.1, \"performance\": 2.0}, {\"Name\": \"TPU slow INT8\", \"arith_intens\": 160000.0, \"performance\": 2.0}], \"data-b9a4e6b9702b6d97b53c00d35908a722\": [{\"Name\": \"NCS INT8\", \"arith_intens\": 1.0, \"performance\": 0.0128}, {\"Name\": \"NCS INT8\", \"arith_intens\": 79.1, \"performance\": 1.0}, {\"Name\": \"NCS INT8\", \"arith_intens\": 160000.0, \"performance\": 1.0}, {\"Name\": \"NCS FP16\", \"arith_intens\": 1.0, \"performance\": 0.0128}, {\"Name\": \"NCS FP16\", \"arith_intens\": 39.1, \"performance\": 0.5}, {\"Name\": \"NCS FP16\", \"arith_intens\": 160000.0, \"performance\": 0.5}]}}, {\"mode\": \"vega-lite\"});\n",
       "</script>"
      ],
      "text/plain": [
       "alt.LayerChart(...)"
      ]
     },
     "execution_count": 6,
     "metadata": {},
     "output_type": "execute_result"
    }
   ],
   "source": [
    "#hide_input\n",
    "%run scripts/altair_plots.py  #run the heatmaps script\n",
    "#load dataset and plot it\n",
    "rooflines(pd.read_csv(\"data/processed_csv/rooflines_hardware_neural_networks.csv\"), 'cifar')"
   ]
  },
  {
   "cell_type": "markdown",
   "metadata": {},
   "source": [
    "### Performance Prediction"
   ]
  },
  {
   "cell_type": "markdown",
   "metadata": {},
   "source": [
    "The plot below shows... Lorem ipsum ..."
   ]
  },
  {
   "cell_type": "code",
   "execution_count": 7,
   "metadata": {},
   "outputs": [
    {
     "data": {
      "text/html": [
       "\n",
       "<div id=\"altair-viz-aab73cb8496e47b38a35fd41cc1a7610\"></div>\n",
       "<script type=\"text/javascript\">\n",
       "  (function(spec, embedOpt){\n",
       "    const outputDiv = document.getElementById(\"altair-viz-aab73cb8496e47b38a35fd41cc1a7610\");\n",
       "    const paths = {\n",
       "      \"vega\": \"https://cdn.jsdelivr.net/npm//vega@5?noext\",\n",
       "      \"vega-lib\": \"https://cdn.jsdelivr.net/npm//vega-lib?noext\",\n",
       "      \"vega-lite\": \"https://cdn.jsdelivr.net/npm//vega-lite@4.0.2?noext\",\n",
       "      \"vega-embed\": \"https://cdn.jsdelivr.net/npm//vega-embed@6?noext\",\n",
       "    };\n",
       "\n",
       "    function loadScript(lib) {\n",
       "      return new Promise(function(resolve, reject) {\n",
       "        var s = document.createElement('script');\n",
       "        s.src = paths[lib];\n",
       "        s.async = true;\n",
       "        s.onload = () => resolve(paths[lib]);\n",
       "        s.onerror = () => reject(`Error loading script: ${paths[lib]}`);\n",
       "        document.getElementsByTagName(\"head\")[0].appendChild(s);\n",
       "      });\n",
       "    }\n",
       "\n",
       "    function showError(err) {\n",
       "      outputDiv.innerHTML = `<div class=\"error\" style=\"color:red;\">${err}</div>`;\n",
       "      throw err;\n",
       "    }\n",
       "\n",
       "    function displayChart(vegaEmbed) {\n",
       "      vegaEmbed(outputDiv, spec, embedOpt)\n",
       "        .catch(err => showError(`Javascript Error: ${err.message}<br>This usually means there's a typo in your chart specification. See the javascript console for the full traceback.`));\n",
       "    }\n",
       "\n",
       "    if(typeof define === \"function\" && define.amd) {\n",
       "      requirejs.config({paths});\n",
       "      require([\"vega-embed\"], displayChart, err => showError(`Error loading script: ${err.message}`));\n",
       "    } else if (typeof vegaEmbed === \"function\") {\n",
       "      displayChart(vegaEmbed);\n",
       "    } else {\n",
       "      loadScript(\"vega\")\n",
       "        .then(() => loadScript(\"vega-lite\"))\n",
       "        .then(() => loadScript(\"vega-embed\"))\n",
       "        .catch(showError)\n",
       "        .then(() => displayChart(vegaEmbed));\n",
       "    }\n",
       "  })({\"config\": {\"view\": {\"continuousWidth\": 400, \"continuousHeight\": 300}}, \"layer\": [{\"mark\": {\"type\": \"rect\", \"invalid\": null, \"stroke\": \"black\", \"strokeWidth\": 1}, \"encoding\": {\"color\": {\"type\": \"quantitative\", \"condition\": {\"value\": \"pink\", \"selection\": \"selector009\"}, \"field\": \"values\", \"scale\": {\"scheme\": \"lightmulti\", \"type\": \"log\"}, \"title\": \"Input/second\"}, \"tooltip\": [{\"type\": \"quantitative\", \"field\": \"values\", \"title\": \"Input/sec\"}, {\"type\": \"nominal\", \"field\": \"x\", \"title\": \"Model\"}, {\"type\": \"nominal\", \"field\": \"y\", \"title\": \"Hardware Platform\"}], \"x\": {\"type\": \"ordinal\", \"field\": \"x\", \"title\": \"Models\"}, \"y\": {\"type\": \"ordinal\", \"field\": \"y\", \"title\": \"Hardware Platforms\"}}, \"height\": 350, \"selection\": {\"selector009\": {\"type\": \"single\", \"on\": \"mouseover\", \"nearest\": true}}, \"title\": \"Performance prediction for CIFAR 10\", \"width\": 700}, {\"mark\": {\"type\": \"text\", \"color\": \"white\"}, \"encoding\": {\"color\": {\"condition\": {\"value\": \"black\", \"test\": \"(datum.values > 1)\"}, \"value\": \"white\"}, \"text\": {\"type\": \"quantitative\", \"field\": \"values\", \"format\": \".0f\"}, \"tooltip\": [{\"type\": \"quantitative\", \"field\": \"values\", \"format\": \".0f\", \"title\": \"Input/sec\"}, {\"type\": \"nominal\", \"field\": \"x\", \"title\": \"Model\"}, {\"type\": \"nominal\", \"field\": \"y\", \"title\": \"Hardware Platform\"}], \"x\": {\"type\": \"ordinal\", \"field\": \"x\", \"title\": \"Models\"}, \"y\": {\"type\": \"ordinal\", \"field\": \"y\", \"title\": \"Hardware Platforms\"}}}], \"data\": {\"name\": \"data-e171d6336f8066b9f2438759011bb7aa\"}, \"$schema\": \"https://vega.github.io/schema/vega-lite/v4.0.2.json\", \"datasets\": {\"data-e171d6336f8066b9f2438759011bb7aa\": [{\"x\": \"CNV 100%-INT2\", \"y\": \"Ultra96-INT8\", \"values\": 2043.0}, {\"x\": \"CNV 100%-INT4\", \"y\": \"Ultra96-INT8\", \"values\": 1382.0}, {\"x\": \"CNV 100%-FP16\", \"y\": \"Ultra96-INT8\", \"values\": null}, {\"x\": \"CNV 100%-FP32\", \"y\": \"Ultra96-INT8\", \"values\": null}, {\"x\": \"CNV 50%-INT2\", \"y\": \"Ultra96-INT8\", \"values\": null}, {\"x\": \"CNV 50%-INT4\", \"y\": \"Ultra96-INT8\", \"values\": null}, {\"x\": \"CNV 50%-FP16\", \"y\": \"Ultra96-INT8\", \"values\": null}, {\"x\": \"CNV 50%-FP32\", \"y\": \"Ultra96-INT8\", \"values\": null}, {\"x\": \"CNV 25%-INT2\", \"y\": \"Ultra96-INT8\", \"values\": null}, {\"x\": \"CNV 25%-INT4\", \"y\": \"Ultra96-INT8\", \"values\": null}, {\"x\": \"CNV 25%-FP16\", \"y\": \"Ultra96-INT8\", \"values\": null}, {\"x\": \"CNV 25%-FP32\", \"y\": \"Ultra96-INT8\", \"values\": null}, {\"x\": \"CNV 12.5%-INT2\", \"y\": \"Ultra96-INT8\", \"values\": null}, {\"x\": \"CNV 12.5%-INT4\", \"y\": \"Ultra96-INT8\", \"values\": null}, {\"x\": \"CNV 12.5%-FP16\", \"y\": \"Ultra96-INT8\", \"values\": null}, {\"x\": \"CNV 12.5%-FP32\", \"y\": \"Ultra96-INT8\", \"values\": null}, {\"x\": \"CNV 100%-INT2\", \"y\": \"ZCU104-DPU-INT8\", \"values\": null}, {\"x\": \"CNV 100%-INT4\", \"y\": \"ZCU104-DPU-INT8\", \"values\": null}, {\"x\": \"CNV 100%-FP16\", \"y\": \"ZCU104-DPU-INT8\", \"values\": null}, {\"x\": \"CNV 100%-FP32\", \"y\": \"ZCU104-DPU-INT8\", \"values\": null}, {\"x\": \"CNV 50%-INT2\", \"y\": \"ZCU104-DPU-INT8\", \"values\": null}, {\"x\": \"CNV 50%-INT4\", \"y\": \"ZCU104-DPU-INT8\", \"values\": null}, {\"x\": \"CNV 50%-FP16\", \"y\": \"ZCU104-DPU-INT8\", \"values\": null}, {\"x\": \"CNV 50%-FP32\", \"y\": \"ZCU104-DPU-INT8\", \"values\": null}, {\"x\": \"CNV 25%-INT2\", \"y\": \"ZCU104-DPU-INT8\", \"values\": null}, {\"x\": \"CNV 25%-INT4\", \"y\": \"ZCU104-DPU-INT8\", \"values\": null}, {\"x\": \"CNV 25%-FP16\", \"y\": \"ZCU104-DPU-INT8\", \"values\": null}, {\"x\": \"CNV 25%-FP32\", \"y\": \"ZCU104-DPU-INT8\", \"values\": null}, {\"x\": \"CNV 12.5%-INT2\", \"y\": \"ZCU104-DPU-INT8\", \"values\": null}, {\"x\": \"CNV 12.5%-INT4\", \"y\": \"ZCU104-DPU-INT8\", \"values\": null}, {\"x\": \"CNV 12.5%-FP16\", \"y\": \"ZCU104-DPU-INT8\", \"values\": null}, {\"x\": \"CNV 12.5%-FP32\", \"y\": \"ZCU104-DPU-INT8\", \"values\": null}, {\"x\": \"CNV 100%-INT2\", \"y\": \"ZCU102-DPU-INT8\", \"values\": null}, {\"x\": \"CNV 100%-INT4\", \"y\": \"ZCU102-DPU-INT8\", \"values\": null}, {\"x\": \"CNV 100%-FP16\", \"y\": \"ZCU102-DPU-INT8\", \"values\": null}, {\"x\": \"CNV 100%-FP32\", \"y\": \"ZCU102-DPU-INT8\", \"values\": null}, {\"x\": \"CNV 50%-INT2\", \"y\": \"ZCU102-DPU-INT8\", \"values\": null}, {\"x\": \"CNV 50%-INT4\", \"y\": \"ZCU102-DPU-INT8\", \"values\": null}, {\"x\": \"CNV 50%-FP16\", \"y\": \"ZCU102-DPU-INT8\", \"values\": null}, {\"x\": \"CNV 50%-FP32\", \"y\": \"ZCU102-DPU-INT8\", \"values\": null}, {\"x\": \"CNV 25%-INT2\", \"y\": \"ZCU102-DPU-INT8\", \"values\": null}, {\"x\": \"CNV 25%-INT4\", \"y\": \"ZCU102-DPU-INT8\", \"values\": null}, {\"x\": \"CNV 25%-FP16\", \"y\": \"ZCU102-DPU-INT8\", \"values\": null}, {\"x\": \"CNV 25%-FP32\", \"y\": \"ZCU102-DPU-INT8\", \"values\": null}, {\"x\": \"CNV 12.5%-INT2\", \"y\": \"ZCU102-DPU-INT8\", \"values\": null}, {\"x\": \"CNV 12.5%-INT4\", \"y\": \"ZCU102-DPU-INT8\", \"values\": null}, {\"x\": \"CNV 12.5%-FP16\", \"y\": \"ZCU102-DPU-INT8\", \"values\": null}, {\"x\": \"CNV 12.5%-FP32\", \"y\": \"ZCU102-DPU-INT8\", \"values\": null}, {\"x\": \"CNV 100%-INT2\", \"y\": \"ZCU104-FINN-INT2\", \"values\": 12458.0}, {\"x\": \"CNV 100%-INT4\", \"y\": \"ZCU104-FINN-INT2\", \"values\": 6229.0}, {\"x\": \"CNV 100%-FP16\", \"y\": \"ZCU104-FINN-INT2\", \"values\": null}, {\"x\": \"CNV 100%-FP32\", \"y\": \"ZCU104-FINN-INT2\", \"values\": null}, {\"x\": \"CNV 50%-INT2\", \"y\": \"ZCU104-FINN-INT2\", \"values\": 49331.0}, {\"x\": \"CNV 50%-INT4\", \"y\": \"ZCU104-FINN-INT2\", \"values\": 24666.0}, {\"x\": \"CNV 50%-FP16\", \"y\": \"ZCU104-FINN-INT2\", \"values\": null}, {\"x\": \"CNV 50%-FP32\", \"y\": \"ZCU104-FINN-INT2\", \"values\": null}, {\"x\": \"CNV 25%-INT2\", \"y\": \"ZCU104-FINN-INT2\", \"values\": 201600.0}, {\"x\": \"CNV 25%-INT4\", \"y\": \"ZCU104-FINN-INT2\", \"values\": 100800.0}, {\"x\": \"CNV 25%-FP16\", \"y\": \"ZCU104-FINN-INT2\", \"values\": null}, {\"x\": \"CNV 25%-FP32\", \"y\": \"ZCU104-FINN-INT2\", \"values\": null}, {\"x\": \"CNV 12.5%-INT2\", \"y\": \"ZCU104-FINN-INT2\", \"values\": 638592.0}, {\"x\": \"CNV 12.5%-INT4\", \"y\": \"ZCU104-FINN-INT2\", \"values\": 319296.0}, {\"x\": \"CNV 12.5%-FP16\", \"y\": \"ZCU104-FINN-INT2\", \"values\": null}, {\"x\": \"CNV 12.5%-FP32\", \"y\": \"ZCU104-FINN-INT2\", \"values\": null}, {\"x\": \"CNV 100%-INT2\", \"y\": \"ZCU104-FINN-INT4\", \"values\": 12458.0}, {\"x\": \"CNV 100%-INT4\", \"y\": \"ZCU104-FINN-INT4\", \"values\": 6229.0}, {\"x\": \"CNV 100%-FP16\", \"y\": \"ZCU104-FINN-INT4\", \"values\": null}, {\"x\": \"CNV 100%-FP32\", \"y\": \"ZCU104-FINN-INT4\", \"values\": null}, {\"x\": \"CNV 50%-INT2\", \"y\": \"ZCU104-FINN-INT4\", \"values\": 49331.0}, {\"x\": \"CNV 50%-INT4\", \"y\": \"ZCU104-FINN-INT4\", \"values\": 24666.0}, {\"x\": \"CNV 50%-FP16\", \"y\": \"ZCU104-FINN-INT4\", \"values\": null}, {\"x\": \"CNV 50%-FP32\", \"y\": \"ZCU104-FINN-INT4\", \"values\": null}, {\"x\": \"CNV 25%-INT2\", \"y\": \"ZCU104-FINN-INT4\", \"values\": 201600.0}, {\"x\": \"CNV 25%-INT4\", \"y\": \"ZCU104-FINN-INT4\", \"values\": 100800.0}, {\"x\": \"CNV 25%-FP16\", \"y\": \"ZCU104-FINN-INT4\", \"values\": null}, {\"x\": \"CNV 25%-FP32\", \"y\": \"ZCU104-FINN-INT4\", \"values\": null}, {\"x\": \"CNV 12.5%-INT2\", \"y\": \"ZCU104-FINN-INT4\", \"values\": 638592.0}, {\"x\": \"CNV 12.5%-INT4\", \"y\": \"ZCU104-FINN-INT4\", \"values\": 319296.0}, {\"x\": \"CNV 12.5%-FP16\", \"y\": \"ZCU104-FINN-INT4\", \"values\": null}, {\"x\": \"CNV 12.5%-FP32\", \"y\": \"ZCU104-FINN-INT4\", \"values\": null}, {\"x\": \"CNV 100%-INT2\", \"y\": \"ZCU104-BISMO-INT2\", \"values\": 12458.0}, {\"x\": \"CNV 100%-INT4\", \"y\": \"ZCU104-BISMO-INT2\", \"values\": 6229.0}, {\"x\": \"CNV 100%-FP16\", \"y\": \"ZCU104-BISMO-INT2\", \"values\": null}, {\"x\": \"CNV 100%-FP32\", \"y\": \"ZCU104-BISMO-INT2\", \"values\": null}, {\"x\": \"CNV 50%-INT2\", \"y\": \"ZCU104-BISMO-INT2\", \"values\": 49331.0}, {\"x\": \"CNV 50%-INT4\", \"y\": \"ZCU104-BISMO-INT2\", \"values\": 24666.0}, {\"x\": \"CNV 50%-FP16\", \"y\": \"ZCU104-BISMO-INT2\", \"values\": null}, {\"x\": \"CNV 50%-FP32\", \"y\": \"ZCU104-BISMO-INT2\", \"values\": null}, {\"x\": \"CNV 25%-INT2\", \"y\": \"ZCU104-BISMO-INT2\", \"values\": 201600.0}, {\"x\": \"CNV 25%-INT4\", \"y\": \"ZCU104-BISMO-INT2\", \"values\": 100800.0}, {\"x\": \"CNV 25%-FP16\", \"y\": \"ZCU104-BISMO-INT2\", \"values\": null}, {\"x\": \"CNV 25%-FP32\", \"y\": \"ZCU104-BISMO-INT2\", \"values\": null}, {\"x\": \"CNV 12.5%-INT2\", \"y\": \"ZCU104-BISMO-INT2\", \"values\": 638592.0}, {\"x\": \"CNV 12.5%-INT4\", \"y\": \"ZCU104-BISMO-INT2\", \"values\": 319296.0}, {\"x\": \"CNV 12.5%-FP16\", \"y\": \"ZCU104-BISMO-INT2\", \"values\": null}, {\"x\": \"CNV 12.5%-FP32\", \"y\": \"ZCU104-BISMO-INT2\", \"values\": null}, {\"x\": \"CNV 100%-INT2\", \"y\": \"ZCU104-BISMO-INT4\", \"values\": 12458.0}, {\"x\": \"CNV 100%-INT4\", \"y\": \"ZCU104-BISMO-INT4\", \"values\": 6229.0}, {\"x\": \"CNV 100%-FP16\", \"y\": \"ZCU104-BISMO-INT4\", \"values\": null}, {\"x\": \"CNV 100%-FP32\", \"y\": \"ZCU104-BISMO-INT4\", \"values\": null}, {\"x\": \"CNV 50%-INT2\", \"y\": \"ZCU104-BISMO-INT4\", \"values\": 49331.0}, {\"x\": \"CNV 50%-INT4\", \"y\": \"ZCU104-BISMO-INT4\", \"values\": 24666.0}, {\"x\": \"CNV 50%-FP16\", \"y\": \"ZCU104-BISMO-INT4\", \"values\": null}, {\"x\": \"CNV 50%-FP32\", \"y\": \"ZCU104-BISMO-INT4\", \"values\": null}, {\"x\": \"CNV 25%-INT2\", \"y\": \"ZCU104-BISMO-INT4\", \"values\": 201600.0}, {\"x\": \"CNV 25%-INT4\", \"y\": \"ZCU104-BISMO-INT4\", \"values\": 100800.0}, {\"x\": \"CNV 25%-FP16\", \"y\": \"ZCU104-BISMO-INT4\", \"values\": null}, {\"x\": \"CNV 25%-FP32\", \"y\": \"ZCU104-BISMO-INT4\", \"values\": null}, {\"x\": \"CNV 12.5%-INT2\", \"y\": \"ZCU104-BISMO-INT4\", \"values\": 638592.0}, {\"x\": \"CNV 12.5%-INT4\", \"y\": \"ZCU104-BISMO-INT4\", \"values\": 319296.0}, {\"x\": \"CNV 12.5%-FP16\", \"y\": \"ZCU104-BISMO-INT4\", \"values\": null}, {\"x\": \"CNV 12.5%-FP32\", \"y\": \"ZCU104-BISMO-INT4\", \"values\": null}, {\"x\": \"CNV 100%-INT2\", \"y\": \"TX2-maxn-FP16\", \"values\": null}, {\"x\": \"CNV 100%-INT4\", \"y\": \"TX2-maxn-FP16\", \"values\": null}, {\"x\": \"CNV 100%-FP16\", \"y\": \"TX2-maxn-FP16\", \"values\": 2830.0}, {\"x\": \"CNV 100%-FP32\", \"y\": \"TX2-maxn-FP16\", \"values\": null}, {\"x\": \"CNV 50%-INT2\", \"y\": \"TX2-maxn-FP16\", \"values\": null}, {\"x\": \"CNV 50%-INT4\", \"y\": \"TX2-maxn-FP16\", \"values\": null}, {\"x\": \"CNV 50%-FP16\", \"y\": \"TX2-maxn-FP16\", \"values\": 11083.0}, {\"x\": \"CNV 50%-FP32\", \"y\": \"TX2-maxn-FP16\", \"values\": null}, {\"x\": \"CNV 25%-INT2\", \"y\": \"TX2-maxn-FP16\", \"values\": null}, {\"x\": \"CNV 25%-INT4\", \"y\": \"TX2-maxn-FP16\", \"values\": null}, {\"x\": \"CNV 25%-FP16\", \"y\": \"TX2-maxn-FP16\", \"values\": 44333.0}, {\"x\": \"CNV 25%-FP32\", \"y\": \"TX2-maxn-FP16\", \"values\": null}, {\"x\": \"CNV 12.5%-INT2\", \"y\": \"TX2-maxn-FP16\", \"values\": null}, {\"x\": \"CNV 12.5%-INT4\", \"y\": \"TX2-maxn-FP16\", \"values\": null}, {\"x\": \"CNV 12.5%-FP16\", \"y\": \"TX2-maxn-FP16\", \"values\": 133000.0}, {\"x\": \"CNV 12.5%-FP32\", \"y\": \"TX2-maxn-FP16\", \"values\": null}, {\"x\": \"CNV 100%-INT2\", \"y\": \"TX2-maxn-FP32\", \"values\": null}, {\"x\": \"CNV 100%-INT4\", \"y\": \"TX2-maxn-FP32\", \"values\": null}, {\"x\": \"CNV 100%-FP16\", \"y\": \"TX2-maxn-FP32\", \"values\": null}, {\"x\": \"CNV 100%-FP32\", \"y\": \"TX2-maxn-FP32\", \"values\": 1426.0}, {\"x\": \"CNV 50%-INT2\", \"y\": \"TX2-maxn-FP32\", \"values\": null}, {\"x\": \"CNV 50%-INT4\", \"y\": \"TX2-maxn-FP32\", \"values\": null}, {\"x\": \"CNV 50%-FP16\", \"y\": \"TX2-maxn-FP32\", \"values\": null}, {\"x\": \"CNV 50%-FP32\", \"y\": \"TX2-maxn-FP32\", \"values\": 5583.0}, {\"x\": \"CNV 25%-INT2\", \"y\": \"TX2-maxn-FP32\", \"values\": null}, {\"x\": \"CNV 25%-INT4\", \"y\": \"TX2-maxn-FP32\", \"values\": null}, {\"x\": \"CNV 25%-FP16\", \"y\": \"TX2-maxn-FP32\", \"values\": null}, {\"x\": \"CNV 25%-FP32\", \"y\": \"TX2-maxn-FP32\", \"values\": 22333.0}, {\"x\": \"CNV 12.5%-INT2\", \"y\": \"TX2-maxn-FP32\", \"values\": null}, {\"x\": \"CNV 12.5%-INT4\", \"y\": \"TX2-maxn-FP32\", \"values\": null}, {\"x\": \"CNV 12.5%-FP16\", \"y\": \"TX2-maxn-FP32\", \"values\": null}, {\"x\": \"CNV 12.5%-FP32\", \"y\": \"TX2-maxn-FP32\", \"values\": 67000.0}, {\"x\": \"CNV 100%-INT2\", \"y\": \"TX2-maxp-FP16\", \"values\": null}, {\"x\": \"CNV 100%-INT4\", \"y\": \"TX2-maxp-FP16\", \"values\": null}, {\"x\": \"CNV 100%-FP16\", \"y\": \"TX2-maxp-FP16\", \"values\": 2447.0}, {\"x\": \"CNV 100%-FP32\", \"y\": \"TX2-maxp-FP16\", \"values\": null}, {\"x\": \"CNV 50%-INT2\", \"y\": \"TX2-maxp-FP16\", \"values\": null}, {\"x\": \"CNV 50%-INT4\", \"y\": \"TX2-maxp-FP16\", \"values\": null}, {\"x\": \"CNV 50%-FP16\", \"y\": \"TX2-maxp-FP16\", \"values\": 9583.0}, {\"x\": \"CNV 50%-FP32\", \"y\": \"TX2-maxp-FP16\", \"values\": null}, {\"x\": \"CNV 25%-INT2\", \"y\": \"TX2-maxp-FP16\", \"values\": null}, {\"x\": \"CNV 25%-INT4\", \"y\": \"TX2-maxp-FP16\", \"values\": null}, {\"x\": \"CNV 25%-FP16\", \"y\": \"TX2-maxp-FP16\", \"values\": 38333.0}, {\"x\": \"CNV 25%-FP32\", \"y\": \"TX2-maxp-FP16\", \"values\": null}, {\"x\": \"CNV 12.5%-INT2\", \"y\": \"TX2-maxp-FP16\", \"values\": null}, {\"x\": \"CNV 12.5%-INT4\", \"y\": \"TX2-maxp-FP16\", \"values\": null}, {\"x\": \"CNV 12.5%-FP16\", \"y\": \"TX2-maxp-FP16\", \"values\": 115000.0}, {\"x\": \"CNV 12.5%-FP32\", \"y\": \"TX2-maxp-FP16\", \"values\": null}, {\"x\": \"CNV 100%-INT2\", \"y\": \"TX2-maxp-FP32\", \"values\": null}, {\"x\": \"CNV 100%-INT4\", \"y\": \"TX2-maxp-FP32\", \"values\": null}, {\"x\": \"CNV 100%-FP16\", \"y\": \"TX2-maxp-FP32\", \"values\": null}, {\"x\": \"CNV 100%-FP32\", \"y\": \"TX2-maxp-FP32\", \"values\": 1213.0}, {\"x\": \"CNV 50%-INT2\", \"y\": \"TX2-maxp-FP32\", \"values\": null}, {\"x\": \"CNV 50%-INT4\", \"y\": \"TX2-maxp-FP32\", \"values\": null}, {\"x\": \"CNV 50%-FP16\", \"y\": \"TX2-maxp-FP32\", \"values\": null}, {\"x\": \"CNV 50%-FP32\", \"y\": \"TX2-maxp-FP32\", \"values\": 4750.0}, {\"x\": \"CNV 25%-INT2\", \"y\": \"TX2-maxp-FP32\", \"values\": null}, {\"x\": \"CNV 25%-INT4\", \"y\": \"TX2-maxp-FP32\", \"values\": null}, {\"x\": \"CNV 25%-FP16\", \"y\": \"TX2-maxp-FP32\", \"values\": null}, {\"x\": \"CNV 25%-FP32\", \"y\": \"TX2-maxp-FP32\", \"values\": 19000.0}, {\"x\": \"CNV 12.5%-INT2\", \"y\": \"TX2-maxp-FP32\", \"values\": null}, {\"x\": \"CNV 12.5%-INT4\", \"y\": \"TX2-maxp-FP32\", \"values\": null}, {\"x\": \"CNV 12.5%-FP16\", \"y\": \"TX2-maxp-FP32\", \"values\": null}, {\"x\": \"CNV 12.5%-FP32\", \"y\": \"TX2-maxp-FP32\", \"values\": 57000.0}, {\"x\": \"CNV 100%-INT2\", \"y\": \"TX2-maxq-FP16\", \"values\": null}, {\"x\": \"CNV 100%-INT4\", \"y\": \"TX2-maxq-FP16\", \"values\": null}, {\"x\": \"CNV 100%-FP16\", \"y\": \"TX2-maxq-FP16\", \"values\": 1851.0}, {\"x\": \"CNV 100%-FP32\", \"y\": \"TX2-maxq-FP16\", \"values\": null}, {\"x\": \"CNV 50%-INT2\", \"y\": \"TX2-maxq-FP16\", \"values\": null}, {\"x\": \"CNV 50%-INT4\", \"y\": \"TX2-maxq-FP16\", \"values\": null}, {\"x\": \"CNV 50%-FP16\", \"y\": \"TX2-maxq-FP16\", \"values\": 7250.0}, {\"x\": \"CNV 50%-FP32\", \"y\": \"TX2-maxq-FP16\", \"values\": null}, {\"x\": \"CNV 25%-INT2\", \"y\": \"TX2-maxq-FP16\", \"values\": null}, {\"x\": \"CNV 25%-INT4\", \"y\": \"TX2-maxq-FP16\", \"values\": null}, {\"x\": \"CNV 25%-FP16\", \"y\": \"TX2-maxq-FP16\", \"values\": 29000.0}, {\"x\": \"CNV 25%-FP32\", \"y\": \"TX2-maxq-FP16\", \"values\": null}, {\"x\": \"CNV 12.5%-INT2\", \"y\": \"TX2-maxq-FP16\", \"values\": null}, {\"x\": \"CNV 12.5%-INT4\", \"y\": \"TX2-maxq-FP16\", \"values\": null}, {\"x\": \"CNV 12.5%-FP16\", \"y\": \"TX2-maxq-FP16\", \"values\": 87000.0}, {\"x\": \"CNV 12.5%-FP32\", \"y\": \"TX2-maxq-FP16\", \"values\": null}, {\"x\": \"CNV 100%-INT2\", \"y\": \"TX2-maxq-FP32\", \"values\": null}, {\"x\": \"CNV 100%-INT4\", \"y\": \"TX2-maxq-FP32\", \"values\": null}, {\"x\": \"CNV 100%-FP16\", \"y\": \"TX2-maxq-FP32\", \"values\": null}, {\"x\": \"CNV 100%-FP32\", \"y\": \"TX2-maxq-FP32\", \"values\": 936.0}, {\"x\": \"CNV 50%-INT2\", \"y\": \"TX2-maxq-FP32\", \"values\": null}, {\"x\": \"CNV 50%-INT4\", \"y\": \"TX2-maxq-FP32\", \"values\": null}, {\"x\": \"CNV 50%-FP16\", \"y\": \"TX2-maxq-FP32\", \"values\": null}, {\"x\": \"CNV 50%-FP32\", \"y\": \"TX2-maxq-FP32\", \"values\": 3667.0}, {\"x\": \"CNV 25%-INT2\", \"y\": \"TX2-maxq-FP32\", \"values\": null}, {\"x\": \"CNV 25%-INT4\", \"y\": \"TX2-maxq-FP32\", \"values\": null}, {\"x\": \"CNV 25%-FP16\", \"y\": \"TX2-maxq-FP32\", \"values\": null}, {\"x\": \"CNV 25%-FP32\", \"y\": \"TX2-maxq-FP32\", \"values\": 14667.0}, {\"x\": \"CNV 12.5%-INT2\", \"y\": \"TX2-maxq-FP32\", \"values\": null}, {\"x\": \"CNV 12.5%-INT4\", \"y\": \"TX2-maxq-FP32\", \"values\": null}, {\"x\": \"CNV 12.5%-FP16\", \"y\": \"TX2-maxq-FP32\", \"values\": null}, {\"x\": \"CNV 12.5%-FP32\", \"y\": \"TX2-maxq-FP32\", \"values\": 44000.0}, {\"x\": \"CNV 100%-INT2\", \"y\": \"TPU-fast-INT8\", \"values\": null}, {\"x\": \"CNV 100%-INT4\", \"y\": \"TPU-fast-INT8\", \"values\": null}, {\"x\": \"CNV 100%-FP16\", \"y\": \"TPU-fast-INT8\", \"values\": null}, {\"x\": \"CNV 100%-FP32\", \"y\": \"TPU-fast-INT8\", \"values\": null}, {\"x\": \"CNV 50%-INT2\", \"y\": \"TPU-fast-INT8\", \"values\": null}, {\"x\": \"CNV 50%-INT4\", \"y\": \"TPU-fast-INT8\", \"values\": null}, {\"x\": \"CNV 50%-FP16\", \"y\": \"TPU-fast-INT8\", \"values\": null}, {\"x\": \"CNV 50%-FP32\", \"y\": \"TPU-fast-INT8\", \"values\": null}, {\"x\": \"CNV 25%-INT2\", \"y\": \"TPU-fast-INT8\", \"values\": null}, {\"x\": \"CNV 25%-INT4\", \"y\": \"TPU-fast-INT8\", \"values\": null}, {\"x\": \"CNV 25%-FP16\", \"y\": \"TPU-fast-INT8\", \"values\": null}, {\"x\": \"CNV 25%-FP32\", \"y\": \"TPU-fast-INT8\", \"values\": null}, {\"x\": \"CNV 12.5%-INT2\", \"y\": \"TPU-fast-INT8\", \"values\": null}, {\"x\": \"CNV 12.5%-INT4\", \"y\": \"TPU-fast-INT8\", \"values\": null}, {\"x\": \"CNV 12.5%-FP16\", \"y\": \"TPU-fast-INT8\", \"values\": null}, {\"x\": \"CNV 12.5%-FP32\", \"y\": \"TPU-fast-INT8\", \"values\": null}, {\"x\": \"CNV 100%-INT2\", \"y\": \"TPU-slow-INT8\", \"values\": null}, {\"x\": \"CNV 100%-INT4\", \"y\": \"TPU-slow-INT8\", \"values\": null}, {\"x\": \"CNV 100%-FP16\", \"y\": \"TPU-slow-INT8\", \"values\": null}, {\"x\": \"CNV 100%-FP32\", \"y\": \"TPU-slow-INT8\", \"values\": null}, {\"x\": \"CNV 50%-INT2\", \"y\": \"TPU-slow-INT8\", \"values\": null}, {\"x\": \"CNV 50%-INT4\", \"y\": \"TPU-slow-INT8\", \"values\": null}, {\"x\": \"CNV 50%-FP16\", \"y\": \"TPU-slow-INT8\", \"values\": null}, {\"x\": \"CNV 50%-FP32\", \"y\": \"TPU-slow-INT8\", \"values\": null}, {\"x\": \"CNV 25%-INT2\", \"y\": \"TPU-slow-INT8\", \"values\": null}, {\"x\": \"CNV 25%-INT4\", \"y\": \"TPU-slow-INT8\", \"values\": null}, {\"x\": \"CNV 25%-FP16\", \"y\": \"TPU-slow-INT8\", \"values\": null}, {\"x\": \"CNV 25%-FP32\", \"y\": \"TPU-slow-INT8\", \"values\": null}, {\"x\": \"CNV 12.5%-INT2\", \"y\": \"TPU-slow-INT8\", \"values\": null}, {\"x\": \"CNV 12.5%-INT4\", \"y\": \"TPU-slow-INT8\", \"values\": null}, {\"x\": \"CNV 12.5%-FP16\", \"y\": \"TPU-slow-INT8\", \"values\": null}, {\"x\": \"CNV 12.5%-FP32\", \"y\": \"TPU-slow-INT8\", \"values\": null}, {\"x\": \"CNV 100%-INT2\", \"y\": \"NCS-INT8\", \"values\": null}, {\"x\": \"CNV 100%-INT4\", \"y\": \"NCS-INT8\", \"values\": null}, {\"x\": \"CNV 100%-FP16\", \"y\": \"NCS-INT8\", \"values\": null}, {\"x\": \"CNV 100%-FP32\", \"y\": \"NCS-INT8\", \"values\": null}, {\"x\": \"CNV 50%-INT2\", \"y\": \"NCS-INT8\", \"values\": null}, {\"x\": \"CNV 50%-INT4\", \"y\": \"NCS-INT8\", \"values\": null}, {\"x\": \"CNV 50%-FP16\", \"y\": \"NCS-INT8\", \"values\": null}, {\"x\": \"CNV 50%-FP32\", \"y\": \"NCS-INT8\", \"values\": null}, {\"x\": \"CNV 25%-INT2\", \"y\": \"NCS-INT8\", \"values\": null}, {\"x\": \"CNV 25%-INT4\", \"y\": \"NCS-INT8\", \"values\": null}, {\"x\": \"CNV 25%-FP16\", \"y\": \"NCS-INT8\", \"values\": null}, {\"x\": \"CNV 25%-FP32\", \"y\": \"NCS-INT8\", \"values\": null}, {\"x\": \"CNV 12.5%-INT2\", \"y\": \"NCS-INT8\", \"values\": null}, {\"x\": \"CNV 12.5%-INT4\", \"y\": \"NCS-INT8\", \"values\": null}, {\"x\": \"CNV 12.5%-FP16\", \"y\": \"NCS-INT8\", \"values\": null}, {\"x\": \"CNV 12.5%-FP32\", \"y\": \"NCS-INT8\", \"values\": null}, {\"x\": \"CNV 100%-INT2\", \"y\": \"NCS-FP16\", \"values\": null}, {\"x\": \"CNV 100%-INT4\", \"y\": \"NCS-FP16\", \"values\": null}, {\"x\": \"CNV 100%-FP16\", \"y\": \"NCS-FP16\", \"values\": 1038.0}, {\"x\": \"CNV 100%-FP32\", \"y\": \"NCS-FP16\", \"values\": null}, {\"x\": \"CNV 50%-INT2\", \"y\": \"NCS-FP16\", \"values\": null}, {\"x\": \"CNV 50%-INT4\", \"y\": \"NCS-FP16\", \"values\": null}, {\"x\": \"CNV 50%-FP16\", \"y\": \"NCS-FP16\", \"values\": 4111.0}, {\"x\": \"CNV 50%-FP32\", \"y\": \"NCS-FP16\", \"values\": null}, {\"x\": \"CNV 25%-INT2\", \"y\": \"NCS-FP16\", \"values\": null}, {\"x\": \"CNV 25%-INT4\", \"y\": \"NCS-FP16\", \"values\": null}, {\"x\": \"CNV 25%-FP16\", \"y\": \"NCS-FP16\", \"values\": 16667.0}, {\"x\": \"CNV 25%-FP32\", \"y\": \"NCS-FP16\", \"values\": null}, {\"x\": \"CNV 12.5%-INT2\", \"y\": \"NCS-FP16\", \"values\": null}, {\"x\": \"CNV 12.5%-INT4\", \"y\": \"NCS-FP16\", \"values\": null}, {\"x\": \"CNV 12.5%-FP16\", \"y\": \"NCS-FP16\", \"values\": 50000.0}, {\"x\": \"CNV 12.5%-FP32\", \"y\": \"NCS-FP16\", \"values\": null}, {\"x\": \"CNV 100%-INT2\", \"y\": \"U96-Quadcore A53-INT8\", \"values\": 409.0}, {\"x\": \"CNV 100%-INT4\", \"y\": \"U96-Quadcore A53-INT8\", \"values\": 409.0}, {\"x\": \"CNV 100%-FP16\", \"y\": \"U96-Quadcore A53-INT8\", \"values\": 346.0}, {\"x\": \"CNV 100%-FP32\", \"y\": \"U96-Quadcore A53-INT8\", \"values\": 173.0}, {\"x\": \"CNV 50%-INT2\", \"y\": \"U96-Quadcore A53-INT8\", \"values\": 1600.0}, {\"x\": \"CNV 50%-INT4\", \"y\": \"U96-Quadcore A53-INT8\", \"values\": 1600.0}, {\"x\": \"CNV 50%-FP16\", \"y\": \"U96-Quadcore A53-INT8\", \"values\": 1368.0}, {\"x\": \"CNV 50%-FP32\", \"y\": \"U96-Quadcore A53-INT8\", \"values\": 684.0}, {\"x\": \"CNV 25%-INT2\", \"y\": \"U96-Quadcore A53-INT8\", \"values\": 6400.0}, {\"x\": \"CNV 25%-INT4\", \"y\": \"U96-Quadcore A53-INT8\", \"values\": 6400.0}, {\"x\": \"CNV 25%-FP16\", \"y\": \"U96-Quadcore A53-INT8\", \"values\": 5591.0}, {\"x\": \"CNV 25%-FP32\", \"y\": \"U96-Quadcore A53-INT8\", \"values\": 2796.0}, {\"x\": \"CNV 12.5%-INT2\", \"y\": \"U96-Quadcore A53-INT8\", \"values\": 19200.0}, {\"x\": \"CNV 12.5%-INT4\", \"y\": \"U96-Quadcore A53-INT8\", \"values\": 19200.0}, {\"x\": \"CNV 12.5%-FP16\", \"y\": \"U96-Quadcore A53-INT8\", \"values\": 17711.0}, {\"x\": \"CNV 12.5%-FP32\", \"y\": \"U96-Quadcore A53-INT8\", \"values\": 8855.0}]}}, {\"mode\": \"vega-lite\"});\n",
       "</script>"
      ],
      "text/plain": [
       "alt.LayerChart(...)"
      ]
     },
     "execution_count": 7,
     "metadata": {},
     "output_type": "execute_result"
    }
   ],
   "source": [
    "#hide_input\n",
    "%run scripts/altair_plots.py  #run the heatmaps script\n",
    "#load cifar10 dataset and plot it\n",
    "heatmap(pd.read_csv(\"data/processed_csv/performance_prediction_cifar10.csv\"), 'pink', 'Performance prediction for CIFAR 10')"
   ]
  },
  {
   "cell_type": "markdown",
   "metadata": {},
   "source": [
    "# Experimental Data Analysis"
   ]
  },
  {
   "cell_type": "markdown",
   "metadata": {},
   "source": [
    "### Overview of All Measurements for CIFAR"
   ]
  },
  {
   "cell_type": "code",
   "execution_count": 10,
   "metadata": {},
   "outputs": [
    {
     "data": {
      "text/html": [
       "<table border=\"1\" class=\"dataframe\">\n",
       "  <thead>\n",
       "    <tr>\n",
       "      <th colspan=\"2\" halign=\"left\"></th>\n",
       "      <th>CIFAR10 Classification</th>\n",
       "    </tr>\n",
       "    <tr>\n",
       "      <th>Hardware</th>\n",
       "      <th>Platform</th>\n",
       "      <th>CNV</th>\n",
       "    </tr>\n",
       "  </thead>\n",
       "  <tbody>\n",
       "    <tr>\n",
       "      <td>FPGA</td>\n",
       "      <td>ZCU102-DPU</td>\n",
       "      <td>na</td>\n",
       "    </tr>\n",
       "    <tr>\n",
       "      <td></td>\n",
       "      <td>ZCU104-DPU</td>\n",
       "      <td>na</td>\n",
       "    </tr>\n",
       "    <tr>\n",
       "      <td></td>\n",
       "      <td>Ultra96-DPU</td>\n",
       "      <td>na</td>\n",
       "    </tr>\n",
       "    <tr>\n",
       "      <td></td>\n",
       "      <td>ZCU104-FINN</td>\n",
       "      <td>[INT2,INT4]*[100%,50%,25%,12.5%]</td>\n",
       "    </tr>\n",
       "    <tr>\n",
       "      <td></td>\n",
       "      <td>ZCU104-BISMO</td>\n",
       "      <td>[INT2,INT4]*[100%,50%,25%,12.5%]</td>\n",
       "    </tr>\n",
       "    <tr>\n",
       "      <td>GPU</td>\n",
       "      <td>TX2-maxn</td>\n",
       "      <td>[FP16,FP32]*[100%,50%,25%,12.5%]</td>\n",
       "    </tr>\n",
       "    <tr>\n",
       "      <td></td>\n",
       "      <td>TX2-maxp</td>\n",
       "      <td>[FP16,FP32]*[100%,50%,25%,12.5%]</td>\n",
       "    </tr>\n",
       "    <tr>\n",
       "      <td></td>\n",
       "      <td>TX2-maxq</td>\n",
       "      <td>[FP16,FP32]*[100%,50%,25%,12.5%]</td>\n",
       "    </tr>\n",
       "    <tr>\n",
       "      <td>TPU</td>\n",
       "      <td>TPU-fast clk</td>\n",
       "      <td>na</td>\n",
       "    </tr>\n",
       "    <tr>\n",
       "      <td></td>\n",
       "      <td>TPU-slow clk</td>\n",
       "      <td>na</td>\n",
       "    </tr>\n",
       "    <tr>\n",
       "      <td>VLIW</td>\n",
       "      <td>NCS</td>\n",
       "      <td>[FP16]*[100%,50%,25%,12.5%]</td>\n",
       "    </tr>\n",
       "    <tr>\n",
       "      <td>CPU</td>\n",
       "      <td>U96-Quadcore A53</td>\n",
       "      <td>[INT2,INT4]*[100%,50%,25%,12.5%]</td>\n",
       "    </tr>\n",
       "  </tbody>\n",
       "</table>"
      ],
      "text/plain": [
       "<IPython.core.display.HTML object>"
      ]
     },
     "metadata": {},
     "output_type": "display_data"
    }
   ],
   "source": [
    "#hide_input\n",
    "%run scripts/altair_plots.py   #get table with the experiments overview\n",
    "tableOverviewExperiments(['data/overview_experiments_cifar10.csv'])"
   ]
  },
  {
   "cell_type": "code",
   "execution_count": null,
   "metadata": {},
   "outputs": [],
   "source": [
    "#hide\n",
    "import pandas as pd\n",
    "import numpy as np\n",
    "import altair as alt\n",
    "\n",
    "W = 600\n",
    "H = 480"
   ]
  },
  {
   "cell_type": "code",
   "execution_count": null,
   "metadata": {},
   "outputs": [],
   "source": [
    "#hide\n",
    "#%writefile scripts/utils.py\n",
    "def norm_by_group(df, column, group_col):\n",
    "    \"\"\" Normalizes pandas series by group \"\"\"\n",
    "    df[\"norm-\"+column] = df.groupby(group_col)[column].apply(lambda x: (x / x.max()))\n",
    "    return df\n",
    "\n",
    "def select_color(sel, column):\n",
    "    \"\"\" Easy way to set colors based on selection for altair plots\n",
    "    \"\"\"\n",
    "    return alt.condition(sel, \n",
    "                      alt.Color(column),\n",
    "                      alt.value('lightgray'))\n",
    "\n",
    "def get_pareto_df(df, groupcol, xcol, ycol):\n",
    "    pareto_line_df = df.groupby(groupcol)[xcol].max().to_frame(\"x\")\n",
    "    pareto_line_df['y'] = df.groupby(groupcol)[ycol].agg(lambda x: x.value_counts().index[0])\n",
    "    pareto_line_df.sort_values('y', ascending=False, inplace=True)\n",
    "    pareto_line_df['x'] = pareto_line_df.x.cummax()\n",
    "    pareto_line_df.drop_duplicates('x', keep='first', inplace=True)\n",
    "    pareto_line_df['group'] = pareto_line_df.index\n",
    "    return pareto_line_df\n",
    "\n",
    "def label_point(x, y, val, ax, rot=0):\n",
    "    \"\"\" from https://stackoverflow.com/questions/46027653/adding-labels-in-x-y-scatter-plot-with-seaborn\"\"\"\n",
    "    a = pd.concat({'x': x, 'y': y, 'val': val}, axis=1)\n",
    "    for i, point in a.iterrows():\n",
    "        ax.text(point['x']+.02, point['y'], str(point['val']), rotation=rot)"
   ]
  },
  {
   "cell_type": "code",
   "execution_count": null,
   "metadata": {},
   "outputs": [],
   "source": [
    "#hide\n",
    "master_df = pd.read_csv(csv_path)\n",
    "is_maxp = lambda row: row.HWType != \"GPU\" or row[\"Op mode\"].split(\",\")[0] == \"maxp\"\n",
    "maxp_df = master_df[master_df.apply(is_maxp, axis=1)]\n",
    "maxp_df[\"hw_quant_prun\"] = maxp_df.apply(lambda r: \"_\".join([r.HWType, r.Precision, r.PruningFactor]), axis=1)\n",
    "cnv_df = maxp_df[(maxp_df[\"NN_Topology\"] == \"CNV\") & maxp_df['lat-comp'].notna() & maxp_df[\"top1 [%]\"].notna()]\n",
    "cnv_df[\"hw_quant_prun\"] = cnv_df.apply(lambda r: \"_\".join([r.HWType, r.Precision, r.PruningFactor]), axis=1)\n",
    "cnv_df[\"PruningFactor\"] = cnv_df[\"PruningFactor\"].str.strip(\"%\").astype(float)\n",
    "norm_by_group(cnv_df, \"lat-comp\", \"NN_Topology\");\n",
    "cnv_df[\"quant_model\"] = cnv_df.Precision + '_' + cnv_df.HWType\n",
    "cnv_df.rename(columns={\"top1 [%]\": \"top1\"}, inplace=True)"
   ]
  },
  {
   "cell_type": "code",
   "execution_count": null,
   "metadata": {},
   "outputs": [],
   "source": [
    "#hide\n",
    "figa_df = cnv_df[(cnv_df[\"HWType\"].isin([\"NCS\", \"ZCU104-Bismo\", \"A53-gemmlowp\"]))]\n",
    "figb_df = cnv_df[(cnv_df[\"HWType\"].isin([\"GPU\", \"ZCU104-FINN\", \"A53-gemmlowp\"]))]"
   ]
  },
  {
   "cell_type": "markdown",
   "metadata": {},
   "source": [
    "### Line Plot"
   ]
  },
  {
   "cell_type": "code",
   "execution_count": null,
   "metadata": {},
   "outputs": [],
   "source": [
    "#hide_input\n",
    "fig25s = []\n",
    "fig25_dfs = [figa_df, figb_df]\n",
    "for df in fig25_dfs:\n",
    "    sel = alt.selection_multi(fields=[\"hw_quant_prun\"], bind=\"legend\")\n",
    "    fig25_dot = alt.Chart(df).mark_point().encode(\n",
    "        x='lat-comp',\n",
    "        y=alt.Y('fps-comp', scale=alt.Scale(type=\"log\")),\n",
    "        color=select_color(sel, 'hw_quant_prun:N'),\n",
    "        tooltip=['fps-comp', 'lat-comp', 'HWType', 'batch/thread/stream'],\n",
    "    )\n",
    "    fig25_line = alt.Chart(df).mark_line().encode(\n",
    "        x='lat-comp',\n",
    "        y='fps-comp',\n",
    "        color=select_color(sel, 'hw_quant_prun:N'),\n",
    "        tooltip=['fps-comp', 'lat-comp', 'HWType', 'batch/thread/stream'],\n",
    "    )\n",
    "\n",
    "    fig = (fig25_dot+fig25_line).properties(\n",
    "        title=\"Latency versus Performance for Pruned and Quantized CNV Variants\",\n",
    "        width=W/len(fig25_dfs),\n",
    "        height=H,\n",
    "    ).add_selection(sel).interactive()\n",
    "    \n",
    "    fig25s.append(fig)\n",
    "    \n",
    "alt.hconcat(*fig25s)"
   ]
  },
  {
   "cell_type": "markdown",
   "metadata": {},
   "source": [
    "### Boxplots"
   ]
  },
  {
   "cell_type": "code",
   "execution_count": null,
   "metadata": {},
   "outputs": [],
   "source": [
    "#hide_input\n",
    "box1 = alt.Chart(cnv_df).mark_boxplot().encode(\n",
    "    x='PruningFactor:O',\n",
    "    y=alt.Y(\"lat-comp\", scale=alt.Scale(type=\"log\")),\n",
    "    color='PruningFactor:O',\n",
    ").facet(column=\"quant_model\").properties(\n",
    "    title=\"Latency by Hardware/Framework and Pruning for CNV\"\n",
    ").interactive()\n",
    "box1"
   ]
  },
  {
   "cell_type": "code",
   "execution_count": null,
   "metadata": {},
   "outputs": [],
   "source": [
    "#hide_input\n",
    "box1 = alt.Chart(cnv_df).mark_boxplot().encode(\n",
    "    x='PruningFactor:O',\n",
    "    y=alt.Y(\"fps-comp\", scale=alt.Scale(type=\"log\")),\n",
    "    color='PruningFactor:O',\n",
    ").facet(column=\"quant_model\").properties(\n",
    "    title=\"Throughput by Hardware/Framework and Pruning for CNV\",\n",
    ").interactive()\n",
    "box1"
   ]
  },
  {
   "cell_type": "markdown",
   "metadata": {},
   "source": [
    "### Pareto Graphs"
   ]
  },
  {
   "cell_type": "code",
   "execution_count": null,
   "metadata": {
    "slideshow": {
     "slide_type": "slide"
    }
   },
   "outputs": [],
   "source": [
    "#hide_input\n",
    "cnv_pareto = get_pareto_df(cnv_df, 'hw_quant_prun', 'fps-comp', 'top1')\n",
    "\n",
    "cnv_lines = alt.Chart(cnv_df).mark_line(point=True).encode(\n",
    "    x=\"fps-comp\",\n",
    "    y=alt.Y(\"top1:Q\", scale=alt.Scale(zero=False)),\n",
    "    color=alt.Color(\"hw_quant_prun\", legend=alt.Legend(columns=1)),\n",
    "    tooltip=[\"HWType\", \"Precision\", \"PruningFactor\", \"batch/thread/stream\", \"top1\", \"fps-comp\"],\n",
    ")\n",
    "cnv_pareto_plot = alt.Chart(cnv_pareto).mark_line().encode(\n",
    "    x=\"x\",\n",
    "    y=alt.Y(\"y\", scale=alt.Scale(zero=False)),\n",
    ")\n",
    "(cnv_lines+cnv_pareto_plot).interactive().properties(\n",
    "    width=W,\n",
    "    height=H,\n",
    "    title=\"cnv Cassification Design Space: Accuracy versus Performance\"\n",
    ")"
   ]
  },
  {
   "cell_type": "markdown",
   "metadata": {},
   "source": [
    "# Measurements"
   ]
  },
  {
   "cell_type": "code",
   "execution_count": null,
   "metadata": {},
   "outputs": [],
   "source": [
    "#hide_input\n",
    "cnv_df.describe()"
   ]
  },
  {
   "cell_type": "code",
   "execution_count": null,
   "metadata": {},
   "outputs": [],
   "source": []
  }
 ],
 "metadata": {
  "kernelspec": {
   "display_name": "Python 3",
   "language": "python",
   "name": "python3"
  },
  "language_info": {
   "codemirror_mode": {
    "name": "ipython",
    "version": 3
   },
   "file_extension": ".py",
   "mimetype": "text/x-python",
   "name": "python",
   "nbconvert_exporter": "python",
   "pygments_lexer": "ipython3",
   "version": "3.7.4"
  },
  "widgets": {
   "application/vnd.jupyter.widget-state+json": {
    "state": {},
    "version_major": 2,
    "version_minor": 0
   }
  }
 },
 "nbformat": 4,
 "nbformat_minor": 4
}
