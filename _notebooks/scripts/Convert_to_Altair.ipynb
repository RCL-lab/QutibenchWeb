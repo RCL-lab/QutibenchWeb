{
 "cells": [
  {
   "cell_type": "markdown",
   "metadata": {
    "Collapsed": "false"
   },
   "source": [
    "# Initial Data Analysis\n",
    "> An exploration of initial data from the paper\n",
    "\n",
    "- toc: true \n",
    "- badges: true\n",
    "- comments: true\n",
    "- categories: [jupyter]\n",
    "- image: images/chart-preview.png"
   ]
  },
  {
   "cell_type": "code",
   "execution_count": null,
   "metadata": {
    "Collapsed": "false"
   },
   "outputs": [],
   "source": [
    "#hide\n",
    "import matplotlib.pyplot as plt\n",
    "from pathlib import Path\n",
    "from os import listdir\n",
    "import pandas as pd\n",
    "import chart_studio.plotly as py\n",
    "import pickledb\n",
    "from glob import glob\n",
    "import seaborn as sns\n",
    "import numpy as np\n",
    "import altair as alt\n",
    "\n",
    "plt.style.use('seaborn-whitegrid')\n",
    "plt.rcParams['figure.figsize'] = 12, 8\n",
    "plt.rc('text', usetex=False)\n",
    " \n",
    "W = 600\n",
    "H = 480"
   ]
  },
  {
   "cell_type": "markdown",
   "metadata": {
    "Collapsed": "false"
   },
   "source": [
    "## Organize"
   ]
  },
  {
   "cell_type": "code",
   "execution_count": null,
   "metadata": {
    "Collapsed": "false"
   },
   "outputs": [],
   "source": [
    "#hide\n",
    "master_df = pd.read_csv(\"../../data/cleaned_csv/backup.csv\")\n",
    "\n",
    "is_maxp = lambda row: row.HWType != \"GPU\" or row[\"Op mode\"].split(\",\")[0] == \"maxp\"\n",
    "\n",
    "maxp_df = master_df[master_df.apply(is_maxp, axis=1)]"
   ]
  },
  {
   "cell_type": "markdown",
   "metadata": {
    "Collapsed": "false"
   },
   "source": [
    "## Figure  25\n",
    "\n",
    "Note: Don't have data for left side and missing int4/int2 data for fpga\n",
    "Original:  \n",
    "\n",
    "![original](figs/fig25.png)"
   ]
  },
  {
   "cell_type": "code",
   "execution_count": null,
   "metadata": {
    "Collapsed": "false"
   },
   "outputs": [],
   "source": [
    "maxp_df[\"hw_quant_prun\"] = maxp_df.apply(lambda r: \"_\".join([r.HWType, r.Precision, r.PruningFactor]), axis=1)"
   ]
  },
  {
   "cell_type": "code",
   "execution_count": null,
   "metadata": {
    "Collapsed": "false"
   },
   "outputs": [],
   "source": [
    "mlp_df = maxp_df[(maxp_df[\"NN_Topology\"] == \"MLP\")]"
   ]
  },
  {
   "cell_type": "code",
   "execution_count": null,
   "metadata": {
    "Collapsed": "false"
   },
   "outputs": [],
   "source": [
    "mlp_df[\"hw_quant_prun\"] = mlp_df.apply(lambda r: \"_\".join([r.HWType, r.Precision, r.PruningFactor]), axis=1)"
   ]
  },
  {
   "cell_type": "code",
   "execution_count": null,
   "metadata": {
    "Collapsed": "false"
   },
   "outputs": [],
   "source": [
    "figa_df = mlp_df[(mlp_df[\"HWType\"].isin([\"NCS\", \"ZCU104-Bismo\", \"A53-gemmlowp\"]))]\n",
    "figb_df = mlp_df[(mlp_df[\"HWType\"].isin([\"GPU\", \"ZCU104-FINN\", \"A53-gemmlowp\"]))]"
   ]
  },
  {
   "cell_type": "code",
   "execution_count": null,
   "metadata": {
    "Collapsed": "false"
   },
   "outputs": [],
   "source": [
    "def select_color(sel, column):\n",
    "    return alt.condition(sel, \n",
    "                      alt.Color(column),\n",
    "                      alt.value('lightgray'))"
   ]
  },
  {
   "cell_type": "code",
   "execution_count": null,
   "metadata": {
    "Collapsed": "false"
   },
   "outputs": [],
   "source": [
    "fig25s = []\n",
    "fig25_dfs = [figa_df, figb_df]\n",
    "for df in fig25_dfs:\n",
    "    sel = alt.selection_multi(fields=[\"hw_quant_prun\"], bind=\"legend\")\n",
    "    fig25_dot = alt.Chart(df).mark_point().encode(\n",
    "        x='lat-comp',\n",
    "        y=alt.Y('fps-comp', scale=alt.Scale(type=\"log\")),\n",
    "        color=select_color(sel, 'hw_quant_prun:N'),\n",
    "        tooltip=['fps-comp', 'lat-comp', 'HWType', 'batch/thread/stream'],\n",
    "    )\n",
    "    fig25_line = alt.Chart(df).mark_line().encode(\n",
    "        x='lat-comp',\n",
    "        y='fps-comp',\n",
    "        color=select_color(sel, 'hw_quant_prun:N'),\n",
    "        tooltip=['fps-comp', 'lat-comp', 'HWType', 'batch/thread/stream'],\n",
    "    )\n",
    "\n",
    "    fig = (fig25_dot+fig25_line).properties(\n",
    "        title=\"Latency versus Performance for Pruned and Quantized MLP Variants\",\n",
    "        width=W/len(fig25_dfs),\n",
    "        height=H,\n",
    "    ).add_selection(sel).interactive()\n",
    "    \n",
    "    fig25s.append(fig)\n",
    "    \n",
    "alt.hconcat(*fig25s)"
   ]
  },
  {
   "cell_type": "code",
   "execution_count": null,
   "metadata": {
    "Collapsed": "false"
   },
   "outputs": [],
   "source": [
    "maxp_df[\"quant_model\"] = maxp_df.Precision + '_' + maxp_df.HWType"
   ]
  },
  {
   "cell_type": "code",
   "execution_count": null,
   "metadata": {
    "Collapsed": "false"
   },
   "outputs": [],
   "source": [
    "def norm_by_group(df, column, group_col):\n",
    "    df[\"norm-\"+column] = df.groupby(group_col)[column].apply(lambda x: (x / x.max()))\n",
    "    return df"
   ]
  },
  {
   "cell_type": "code",
   "execution_count": null,
   "metadata": {
    "Collapsed": "false"
   },
   "outputs": [],
   "source": [
    "norm_by_group(maxp_df, \"lat-comp\", \"NN_Topology\");"
   ]
  },
  {
   "cell_type": "code",
   "execution_count": null,
   "metadata": {
    "Collapsed": "false"
   },
   "outputs": [],
   "source": [
    "cnv_df = maxp_df[(maxp_df.NN_Topology == 'CNV') & maxp_df['norm-lat-comp'].notna()]\n",
    "fig = sns.boxplot(x=\"quant_model\", y=\"norm-lat-comp\", hue=\"PruningFactor\", data=cnv_df)\n",
    "fig.set_title(\"latency by chip and net pruning for CNV\")\n",
    "plt.yscale(\"log\")\n",
    "plt.xticks(rotation=45)"
   ]
  },
  {
   "cell_type": "markdown",
   "metadata": {
    "Collapsed": "false"
   },
   "source": [
    "> TODO: get log axis working for grouped bar"
   ]
  },
  {
   "cell_type": "code",
   "execution_count": null,
   "metadata": {
    "Collapsed": "false"
   },
   "outputs": [],
   "source": [
    "cnv_df[\"pf\"] = cnv_df.PruningFactor.str.strip('%').astype(float)"
   ]
  },
  {
   "cell_type": "code",
   "execution_count": null,
   "metadata": {
    "Collapsed": "false"
   },
   "outputs": [],
   "source": [
    "box1 = alt.Chart(cnv_df).mark_boxplot().encode(\n",
    "    x='pf:O',\n",
    "    y=alt.Y(\"norm-lat-comp\", scale=alt.Scale(type=\"log\")),\n",
    "    color='pf:O'\n",
    ").facet(column=\"quant_model\").properties(\n",
    "    title=\"Latency by Hardware/Framework and Pruning for CNV\"\n",
    ").interactive()\n",
    "box1"
   ]
  },
  {
   "cell_type": "code",
   "execution_count": null,
   "metadata": {
    "Collapsed": "false"
   },
   "outputs": [],
   "source": [
    "fig = sns.boxplot(x=\"quant_model\", y=\"fps-comp\", hue=\"PruningFactor\", data=maxp_df[(maxp_df.NN_Topology == 'CNV') & maxp_df[\"fps-comp\"].notna()])\n",
    "fig.set_title(\"fig 13: FPS by chip and net pruning (CNV)\")\n",
    "plt.yscale(\"log\")\n",
    "plt.xticks(rotation=45)"
   ]
  },
  {
   "cell_type": "markdown",
   "metadata": {
    "Collapsed": "false"
   },
   "source": [
    "# Paretos"
   ]
  },
  {
   "cell_type": "code",
   "execution_count": null,
   "metadata": {
    "Collapsed": "false"
   },
   "outputs": [],
   "source": [
    "mnist_df    = maxp_df[(maxp_df.NN_Topology == 'MLP') & maxp_df[\"top1 [%]\"].notna()]\n",
    "cifar_df    = maxp_df[(maxp_df.NN_Topology == 'CNV') & maxp_df[\"top1 [%]\"].notna()]\n",
    "imagenet_df = maxp_df[maxp_df.NN_Topology.isin(['GNv1','RN50','MNv1']) & maxp_df[\"top1 [%]\"].notna()]"
   ]
  },
  {
   "cell_type": "code",
   "execution_count": null,
   "metadata": {
    "Collapsed": "false"
   },
   "outputs": [],
   "source": [
    "bad_precisions = [\"FP\"+str(i) for i in range(17,24)]\n",
    "imagenet_df.Precision = imagenet_df.Precision.apply(lambda x: 'FP16' if x in bad_precisions else x)"
   ]
  },
  {
   "cell_type": "code",
   "execution_count": null,
   "metadata": {
    "Collapsed": "false"
   },
   "outputs": [],
   "source": [
    "%%writefile utils.py\n",
    "def get_pareto_df(df, groupcol, xcol, ycol):\n",
    "    pareto_line_df = df.groupby(groupcol)[xcol].max().to_frame(\"x\")\n",
    "    pareto_line_df['y'] = df.groupby(groupcol)[ycol].agg(lambda x: x.value_counts().index[0])\n",
    "    pareto_line_df.sort_values('y', ascending=False, inplace=True)\n",
    "    pareto_line_df['x'] = pareto_line_df.x.cummax()\n",
    "    pareto_line_df.drop_duplicates('x', keep='first', inplace=True)\n",
    "    pareto_line_df['group'] = pareto_line_df.index\n",
    "    return pareto_line_df\n",
    "\n",
    "def label_point(x, y, val, ax, rot=0):\n",
    "    \"\"\" from https://stackoverflow.com/questions/46027653/adding-labels-in-x-y-scatter-plot-with-seaborn\"\"\"\n",
    "    a = pd.concat({'x': x, 'y': y, 'val': val}, axis=1)\n",
    "    for i, point in a.iterrows():\n",
    "        ax.text(point['x']+.02, point['y'], str(point['val']), rotation=rot)"
   ]
  },
  {
   "cell_type": "markdown",
   "metadata": {
    "Collapsed": "false"
   },
   "source": [
    "### MNIST"
   ]
  },
  {
   "cell_type": "code",
   "execution_count": null,
   "metadata": {
    "Collapsed": "false"
   },
   "outputs": [],
   "source": [
    "sns.set(font_scale=0.8)\n",
    "mnist_pareto = get_pareto_df(mnist_df, 'hw_quant_prun', 'fps-comp', 'top1 [%]')\n",
    "fig, ax = plt.subplots()\n",
    "sns.lineplot(x='x', y='y', data=mnist_pareto, ax=ax, label=\"Pareto Frontier\")\n",
    "ax.lines[0].set_linestyle(\"--\")\n",
    "sns.lineplot(x='fps-comp', y='top1 [%]', hue='hw_quant_prun', data=mnist_df, ax=ax)\n",
    "sns.scatterplot(x='fps-comp', y='top1 [%]', hue='hw_quant_prun', data=mnist_df, ax=ax, legend=False)\n",
    "plt.title(\"MNIST Cassification Design Space: Accuracy versus Performance\")\n",
    "plt.xlabel('FPS [hz]')\n",
    "plt.ylabel('Top1 Accuracy [%]')\n",
    "plt.legend(loc=\"upper right\", ncol=4)\n",
    "plt.ylim([96, 102])\n",
    "plt.xlim([-100000, 4800000])\n",
    "label_point(mnist_pareto.x, mnist_pareto.y, mnist_pareto.group, plt.gca(), 35)"
   ]
  },
  {
   "cell_type": "code",
   "execution_count": null,
   "metadata": {
    "Collapsed": "false"
   },
   "outputs": [],
   "source": [
    "mnist_df.rename(columns={\"top1 [%]\": \"top1\"}, inplace=True)"
   ]
  },
  {
   "cell_type": "code",
   "execution_count": null,
   "metadata": {
    "Collapsed": "false"
   },
   "outputs": [],
   "source": [
    "mnist_lines = alt.Chart(mnist_df).mark_line(point=True).encode(\n",
    "    x=\"fps-comp\",\n",
    "    y=alt.Y(\"top1:Q\", scale=alt.Scale(zero=False)),\n",
    "    color=alt.Color(\"hw_quant_prun\", legend=alt.Legend(columns=2)),\n",
    "    tooltip=[\"HWType\", \"Precision\", \"PruningFactor\", \"batch/thread/stream\", \"top1\", \"fps-comp\"],\n",
    ")\n",
    "mnist_pareto_plot = alt.Chart(mnist_pareto).mark_line().encode(\n",
    "    x=\"x\",\n",
    "    y=alt.Y(\"y\", scale=alt.Scale(zero=False)),\n",
    ")\n",
    "(mnist_lines+mnist_pareto_plot).interactive().properties(\n",
    "    width=W,\n",
    "    height=H,\n",
    "    title=\"MNIST Cassification Design Space: Accuracy versus Performance\"\n",
    ")"
   ]
  },
  {
   "cell_type": "markdown",
   "metadata": {
    "Collapsed": "false"
   },
   "source": [
    "### CIFAR\n",
    "Original:  \n",
    "![example](figs/fig22.png)"
   ]
  },
  {
   "cell_type": "code",
   "execution_count": null,
   "metadata": {
    "Collapsed": "false"
   },
   "outputs": [],
   "source": [
    "cifar_pareto = get_pareto_df(cifar_df, 'hw_quant_prun', 'fps-comp', 'top1 [%]')\n",
    "fig, ax = plt.subplots()\n",
    "sns.lineplot(x='x', y='y', data=cifar_pareto, ax=ax, label=\"Pareto Frontier\")\n",
    "ax.lines[0].set_linestyle(\"--\")\n",
    "sns.lineplot(x='fps-comp', y='top1 [%]', hue='hw_quant_prun', data=cifar_df, ax=ax)\n",
    "sns.scatterplot(x='fps-comp', y='top1 [%]', hue='hw_quant_prun', data=cifar_df, ax=ax, legend=False)\n",
    "plt.title(\"CIFAR 10 Classification Design Space: Accuracy versus Performance\")\n",
    "plt.xlabel('FPS [hz]')\n",
    "plt.ylabel('Top1 Accuracy [%]')\n",
    "plt.ylim([73, 98])\n",
    "plt.xlim([0, 80000])\n",
    "plt.legend(loc=\"upper right\", ncol=3)\n",
    "label_point(cifar_pareto.x, cifar_pareto.y, cifar_pareto.group, plt.gca(), 30)"
   ]
  },
  {
   "cell_type": "code",
   "execution_count": null,
   "metadata": {
    "Collapsed": "false"
   },
   "outputs": [],
   "source": [
    "cifar_df.rename(columns={\"top1 [%]\": \"top1\"}, inplace=True)\n",
    "cifar_lines = alt.Chart(cifar_df).mark_line(point=True).encode(\n",
    "    x=\"fps-comp\",\n",
    "    y=alt.Y(\"top1:Q\", scale=alt.Scale(zero=False)),\n",
    "    color=alt.Color(\"hw_quant_prun\", legend=alt.Legend(columns=1)),\n",
    "    tooltip=[\"HWType\", \"Precision\", \"PruningFactor\", \"batch/thread/stream\", \"top1\", \"fps-comp\"],\n",
    ")\n",
    "cifar_pareto_plot = alt.Chart(cifar_pareto).mark_line().encode(\n",
    "    x=\"x\",\n",
    "    y=alt.Y(\"y\", scale=alt.Scale(zero=False)),\n",
    ")\n",
    "(cifar_lines+cifar_pareto_plot).interactive().properties(\n",
    "    width=W,\n",
    "    height=H,\n",
    "    title=\"CIFAR Cassification Design Space: Accuracy versus Performance\"\n",
    ")"
   ]
  },
  {
   "cell_type": "code",
   "execution_count": null,
   "metadata": {
    "Collapsed": "false"
   },
   "outputs": [],
   "source": [
    "imagenet_df[\"hw_precision_net_prun\"] = imagenet_df.apply(lambda r: \"_\".join([r.HWType, r.Precision, r.NN_Topology, r.PruningFactor]), axis=1)"
   ]
  },
  {
   "cell_type": "code",
   "execution_count": null,
   "metadata": {
    "Collapsed": "false"
   },
   "outputs": [],
   "source": [
    "imagenet_pareto = get_pareto_df(imagenet_df, 'hw_precision_net_prun', 'fps-comp', 'top1 [%]')\n",
    "fig, ax = plt.subplots()\n",
    "sns.lineplot(x='x', y='y', data=imagenet_pareto, ax=ax, label=\"Pareto Frontier\")\n",
    "ax.lines[0].set_linestyle(\"--\")\n",
    "sns.lineplot(x='fps-comp', y='top1 [%]', hue='hw_precision_net_prun', data=imagenet_df, ax=ax)\n",
    "sns.scatterplot(x='fps-comp', y='top1 [%]', hue='hw_precision_net_prun', data=imagenet_df, ax=ax, legend=False)\n",
    "plt.title(\"ImageNet Classification Design Space: Accuracy versus Performance\")\n",
    "plt.xlabel('FPS [hz]')\n",
    "plt.ylabel('Top1 Accuracy [%]')\n",
    "plt.ylim([66, 79])\n",
    "plt.xlim([0, 750])\n",
    "plt.legend(loc=\"upper right\", ncol=2)\n",
    "label_point(imagenet_pareto.x, imagenet_pareto.y, imagenet_pareto.group, plt.gca(), 15)"
   ]
  },
  {
   "cell_type": "code",
   "execution_count": null,
   "metadata": {
    "Collapsed": "false"
   },
   "outputs": [],
   "source": [
    "imagenet_df.rename(columns={\"top1 [%]\": \"top1\"}, inplace=True)\n",
    "imagenet_lines = alt.Chart(imagenet_df).mark_line(point=True).encode(\n",
    "    x=\"fps-comp\",\n",
    "    y=alt.Y(\"top1:Q\", scale=alt.Scale(zero=False)),\n",
    "    color=alt.Color(\"hw_precision_net_prun\", legend=alt.Legend(columns=1)),\n",
    "    tooltip=[\"HWType\", \"Precision\", \"PruningFactor\", \"batch/thread/stream\", \"top1\", \"fps-comp\"],\n",
    ")\n",
    "imagenet_pareto_plot = alt.Chart(imagenet_pareto).mark_line().encode(\n",
    "    x=\"x\",\n",
    "    y=alt.Y(\"y\", scale=alt.Scale(zero=False)),\n",
    ")\n",
    "(imagenet_lines+imagenet_pareto_plot).interactive().properties(\n",
    "    width=W,\n",
    "    height=H,\n",
    "    title=\"ImageNet Cassification Design Space: Accuracy versus Performance\"\n",
    ")"
   ]
  },
  {
   "cell_type": "code",
   "execution_count": null,
   "metadata": {
    "Collapsed": "false"
   },
   "outputs": [],
   "source": []
  }
 ],
 "metadata": {
  "kernelspec": {
   "display_name": "Python 3",
   "language": "python",
   "name": "python3"
  },
  "language_info": {
   "codemirror_mode": {
    "name": "ipython",
    "version": 3
   },
   "file_extension": ".py",
   "mimetype": "text/x-python",
   "name": "python",
   "nbconvert_exporter": "python",
   "pygments_lexer": "ipython3",
   "version": "3.7.4"
  },
  "widgets": {
   "application/vnd.jupyter.widget-state+json": {
    "state": {},
    "version_major": 2,
    "version_minor": 0
   }
  }
 },
 "nbformat": 4,
 "nbformat_minor": 4
}
