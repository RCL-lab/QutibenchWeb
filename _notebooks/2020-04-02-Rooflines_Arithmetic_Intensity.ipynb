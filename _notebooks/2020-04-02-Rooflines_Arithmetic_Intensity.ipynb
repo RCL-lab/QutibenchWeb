{
 "cells": [
  {
   "cell_type": "markdown",
   "metadata": {},
   "source": [
    "# Rooflines \n",
    "> Plotting rooflines with Altair\n",
    "\n",
    "- toc: true \n",
    "- badges: true\n",
    "- comments: true\n",
    "- categories: [jupyter]"
   ]
  },
  {
   "cell_type": "code",
   "execution_count": null,
   "metadata": {},
   "outputs": [],
   "source": [
    "#hide\n",
    "import numpy as np\n",
    "import pandas as pd\n",
    "\n",
    "import altair as alt"
   ]
  },
  {
   "cell_type": "code",
   "execution_count": null,
   "metadata": {},
   "outputs": [],
   "source": []
  },
  {
   "cell_type": "code",
   "execution_count": 1,
   "metadata": {},
   "outputs": [
    {
     "name": "stderr",
     "output_type": "stream",
     "text": [
      "C:\\Users\\alinav\\Documents\\GitHub\\Qutibench_Web\\_notebooks\\scripts\\altair_plots.py:276: FutureWarning: Passing a negative integer is deprecated in version 1.0 and will not be supported in future version. Instead, use None to not limit the column width.\n",
      "  pd.set_option('display.max_colwidth', -1)\n",
      "C:\\Users\\alinav\\Documents\\GitHub\\Qutibench_Web\\_notebooks\\scripts\\altair_plots.py:272: FutureWarning: Passing a negative integer is deprecated in version 1.0 and will not be supported in future version. Instead, use None to not limit the column width.\n",
      "  pd.set_option('display.max_colwidth', -1)\n"
     ]
    },
    {
     "data": {
      "text/html": [
       "<table border=\"1\" class=\"dataframe\">\n",
       "  <thead>\n",
       "    <tr>\n",
       "      <th colspan=\"2\" halign=\"left\"></th>\n",
       "      <th colspan=\"3\" halign=\"left\">ImageNet Classification</th>\n",
       "    </tr>\n",
       "    <tr>\n",
       "      <th>Hardware</th>\n",
       "      <th>Platform</th>\n",
       "      <th>ResNet50</th>\n",
       "      <th>GoogLeNetV1</th>\n",
       "      <th>MobileNet</th>\n",
       "    </tr>\n",
       "  </thead>\n",
       "  <tbody>\n",
       "    <tr>\n",
       "      <td>FPGA</td>\n",
       "      <td>ZCU102-DPU</td>\n",
       "      <td>[INT8]*[100%,80%,50%,30%]</td>\n",
       "      <td>INT8</td>\n",
       "      <td>na</td>\n",
       "    </tr>\n",
       "    <tr>\n",
       "      <td></td>\n",
       "      <td>ZCU104-DPU</td>\n",
       "      <td>INT8</td>\n",
       "      <td>INT8</td>\n",
       "      <td>na</td>\n",
       "    </tr>\n",
       "    <tr>\n",
       "      <td></td>\n",
       "      <td>Ultra96-DPU</td>\n",
       "      <td>[INT8]*[100%,80%,50%,30%]</td>\n",
       "      <td>INT8</td>\n",
       "      <td>INT8</td>\n",
       "    </tr>\n",
       "    <tr>\n",
       "      <td></td>\n",
       "      <td>ZCU104-FINN</td>\n",
       "      <td>na</td>\n",
       "      <td>na</td>\n",
       "      <td>na</td>\n",
       "    </tr>\n",
       "    <tr>\n",
       "      <td></td>\n",
       "      <td>ZCU104-BISMO</td>\n",
       "      <td>na</td>\n",
       "      <td>na</td>\n",
       "      <td>na</td>\n",
       "    </tr>\n",
       "    <tr>\n",
       "      <td>GPU</td>\n",
       "      <td>TX2-maxn</td>\n",
       "      <td>FP16,FP32</td>\n",
       "      <td>FP16,FP32</td>\n",
       "      <td>na</td>\n",
       "    </tr>\n",
       "    <tr>\n",
       "      <td></td>\n",
       "      <td>TX2-maxp</td>\n",
       "      <td>FP16,FP32</td>\n",
       "      <td>FP16,FP32</td>\n",
       "      <td>na</td>\n",
       "    </tr>\n",
       "    <tr>\n",
       "      <td></td>\n",
       "      <td>TX2-maxq</td>\n",
       "      <td>FP16,FP32</td>\n",
       "      <td>FP16,FP32</td>\n",
       "      <td>na</td>\n",
       "    </tr>\n",
       "    <tr>\n",
       "      <td>TPU</td>\n",
       "      <td>TPU-fast clk</td>\n",
       "      <td>na</td>\n",
       "      <td>INT8</td>\n",
       "      <td>INT8</td>\n",
       "    </tr>\n",
       "    <tr>\n",
       "      <td></td>\n",
       "      <td>TPU-slow clk</td>\n",
       "      <td>na</td>\n",
       "      <td>INT8</td>\n",
       "      <td>INT8</td>\n",
       "    </tr>\n",
       "    <tr>\n",
       "      <td>VLIW</td>\n",
       "      <td>NCS</td>\n",
       "      <td>FP16</td>\n",
       "      <td>na</td>\n",
       "      <td>na</td>\n",
       "    </tr>\n",
       "    <tr>\n",
       "      <td>CPU</td>\n",
       "      <td>U96-Quadcore A53</td>\n",
       "      <td>na</td>\n",
       "      <td>na</td>\n",
       "      <td>na</td>\n",
       "    </tr>\n",
       "  </tbody>\n",
       "</table>"
      ],
      "text/plain": [
       "<IPython.core.display.HTML object>"
      ]
     },
     "metadata": {},
     "output_type": "display_data"
    }
   ],
   "source": [
    "#hide_input\n",
    "%run scripts/altair_plots.py  #run the heatmaps script\n",
    "tableOverviewExperiments(['data/overview_experiments_imagenet.csv'])"
   ]
  },
  {
   "cell_type": "markdown",
   "metadata": {},
   "source": [
    "# Rooflines for all hardware platforms"
   ]
  },
  {
   "cell_type": "code",
   "execution_count": null,
   "metadata": {
    "scrolled": false
   },
   "outputs": [],
   "source": [
    "#hide_input\n",
    "%run scripts/altair_plots.py  #run the heatmaps script\n",
    "#load dataset and plot it\n",
    "rooflines(pd.read_csv(\"data/processed_csv/rooflines_hardware_neural_networks.csv\"), 'All')"
   ]
  },
  {
   "cell_type": "markdown",
   "metadata": {},
   "source": [
    "# Performance Predictions for IMAGENET, MNIST and CIFAR"
   ]
  },
  {
   "cell_type": "code",
   "execution_count": null,
   "metadata": {},
   "outputs": [],
   "source": [
    "#hide_input\n",
    "%run scripts/altair_plots.py  #run the heatmaps script\n",
    "#load dataset and plot it\n",
    "heatmap(pd.read_csv(\"data/processed_csv/performance_prediction_imagenet_mnist_cifar10.csv\"), \n",
    "        'red', \n",
    "        'Performance Predictions for IMAGENET, MNIST and CIFAR10')"
   ]
  },
  {
   "cell_type": "code",
   "execution_count": null,
   "metadata": {},
   "outputs": [],
   "source": []
  },
  {
   "cell_type": "code",
   "execution_count": null,
   "metadata": {},
   "outputs": [],
   "source": []
  }
 ],
 "metadata": {
  "kernelspec": {
   "display_name": "Python 3",
   "language": "python",
   "name": "python3"
  },
  "language_info": {
   "codemirror_mode": {
    "name": "ipython",
    "version": 3
   },
   "file_extension": ".py",
   "mimetype": "text/x-python",
   "name": "python",
   "nbconvert_exporter": "python",
   "pygments_lexer": "ipython3",
   "version": "3.7.4"
  }
 },
 "nbformat": 4,
 "nbformat_minor": 4
}
