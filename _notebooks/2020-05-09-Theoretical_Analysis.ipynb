{
 "cells": [
  {
   "cell_type": "markdown",
   "metadata": {},
   "source": [
    "# Theoretical Analysis\n",
    "> Theoretical Analysis (level 0) for all CNN topologies and hardware platforms\n",
    "\n",
    "- toc: true \n",
    "- badges: true\n",
    "- comments: true\n",
    "- categories: [Rooflines,MNIST,ImageNet,CIFAR-10]\n",
    "- image: images/roofline.png"
   ]
  },
  {
   "cell_type": "code",
   "execution_count": 1,
   "metadata": {},
   "outputs": [],
   "source": [
    "#hide\n",
    "import numpy as np\n",
    "import pandas as pd\n",
    "import random\n",
    "import re\n",
    "\n",
    "pd.options.display.max_rows = 10000 # this will set limit of columns to 500\n",
    "pd.options.display.float_format = '{:20,.4f}'.format\n",
    "import altair as alt\n",
    "W = 600\n",
    "H = 480"
   ]
  },
  {
   "cell_type": "code",
   "execution_count": 2,
   "metadata": {},
   "outputs": [],
   "source": [
    "#hide\n",
    "#notes\n",
    "#rn50_df = df[df.apply(lambda row: row['net_prun_datatype'].split('_')[0] == 'MobileNetv1|ResNet50', axis=1)]\n",
    "#rn50_df['net_prun_datatype'] = rn50_df['net_prun_datatype'].str.split('_').str[0] #comment this when I want to hide the topology\n",
    "#rn50_df['hardw'] = rn50_df['hardw'].str.replace(\"_INT8|_FP16|_FP32\", \"\")"
   ]
  },
  {
   "cell_type": "markdown",
   "metadata": {},
   "source": [
    "# Introduction"
   ]
  },
  {
   "cell_type": "markdown",
   "metadata": {},
   "source": [
    "This page presents a Theoretical Analysis of both hardware platforms as well as CNN topologies.\n",
    "In order to get a general overview of all CNNs and Hardware Platforms included in our experiments, we present the following 3 tables. "
   ]
  },
  {
   "cell_type": "markdown",
   "metadata": {},
   "source": [
    "# Tables"
   ]
  },
  {
   "cell_type": "markdown",
   "metadata": {},
   "source": [
    "### CNNs and Their Accuracy Over All Pruning and Quantization Variants"
   ]
  },
  {
   "cell_type": "markdown",
   "metadata": {},
   "source": [
    "Table below provides a complete overview of all CNNs that were included in the experimentation and their corresponding accuracy over all Pruning and Quantization Variants."
   ]
  },
  {
   "cell_type": "code",
   "execution_count": 3,
   "metadata": {
    "scrolled": false
   },
   "outputs": [
    {
     "data": {
      "text/html": [
       "<table border=\"1\" class=\"dataframe\">\n",
       "  <thead>\n",
       "    <tr>\n",
       "      <th></th>\n",
       "      <th>INT2</th>\n",
       "      <th>INT4</th>\n",
       "      <th>INT8</th>\n",
       "      <th>FP16</th>\n",
       "      <th>FP32</th>\n",
       "    </tr>\n",
       "    <tr>\n",
       "      <th></th>\n",
       "      <th>top1 (top5) [%]</th>\n",
       "      <th>top1 (top5) [%]</th>\n",
       "      <th>top1 (top5) [%]</th>\n",
       "      <th>top1 (top5) [%]</th>\n",
       "      <th>top1 (top5) [%]</th>\n",
       "    </tr>\n",
       "  </thead>\n",
       "  <tbody>\n",
       "    <tr>\n",
       "      <td>GoogLeNetv1</td>\n",
       "      <td>nm</td>\n",
       "      <td>nm</td>\n",
       "      <td>69.24 (88.45)</td>\n",
       "      <td>66.93 (87.83)</td>\n",
       "      <td>66.96 (87.84)</td>\n",
       "    </tr>\n",
       "    <tr>\n",
       "      <td>MobileNetv1</td>\n",
       "      <td>nm</td>\n",
       "      <td>nm</td>\n",
       "      <td>69.57 (87.71)</td>\n",
       "      <td>nm</td>\n",
       "      <td>nm</td>\n",
       "    </tr>\n",
       "    <tr>\n",
       "      <td>EfficientNet-S 100%</td>\n",
       "      <td>nm</td>\n",
       "      <td>nm</td>\n",
       "      <td>77</td>\n",
       "      <td>nm</td>\n",
       "      <td>nm</td>\n",
       "    </tr>\n",
       "    <tr>\n",
       "      <td>EfficientNet-M 100%</td>\n",
       "      <td>nm</td>\n",
       "      <td>nm</td>\n",
       "      <td>78.6</td>\n",
       "      <td>nm</td>\n",
       "      <td>nm</td>\n",
       "    </tr>\n",
       "    <tr>\n",
       "      <td>EfficientNet-L 100%</td>\n",
       "      <td>nm</td>\n",
       "      <td>nm</td>\n",
       "      <td>80.2</td>\n",
       "      <td>nm</td>\n",
       "      <td>nm</td>\n",
       "    </tr>\n",
       "    <tr>\n",
       "      <td>ResNet50 100%</td>\n",
       "      <td>nm</td>\n",
       "      <td>nm</td>\n",
       "      <td>73.29 (91.26)</td>\n",
       "      <td>75.14 (92.12)</td>\n",
       "      <td>75.15 (92.11)</td>\n",
       "    </tr>\n",
       "    <tr>\n",
       "      <td>ResNet50 80%</td>\n",
       "      <td>nm</td>\n",
       "      <td>nm</td>\n",
       "      <td>73.30 (91.40)</td>\n",
       "      <td>nm</td>\n",
       "      <td>nm</td>\n",
       "    </tr>\n",
       "    <tr>\n",
       "      <td>ResNet50 50%</td>\n",
       "      <td>nm</td>\n",
       "      <td>nm</td>\n",
       "      <td>69.49 (91.00)</td>\n",
       "      <td>nm</td>\n",
       "      <td>nm</td>\n",
       "    </tr>\n",
       "    <tr>\n",
       "      <td>ResNet50 30%</td>\n",
       "      <td>nm</td>\n",
       "      <td>nm</td>\n",
       "      <td>68.83 ( 90.16)</td>\n",
       "      <td>nm</td>\n",
       "      <td>nm</td>\n",
       "    </tr>\n",
       "    <tr>\n",
       "      <td>CNV 100%</td>\n",
       "      <td>86.86</td>\n",
       "      <td>87.4</td>\n",
       "      <td>nm</td>\n",
       "      <td>87.02</td>\n",
       "      <td>87.06</td>\n",
       "    </tr>\n",
       "    <tr>\n",
       "      <td>CNV 50%</td>\n",
       "      <td>84.29</td>\n",
       "      <td>84.88</td>\n",
       "      <td>nm</td>\n",
       "      <td>85.55</td>\n",
       "      <td>85.6</td>\n",
       "    </tr>\n",
       "    <tr>\n",
       "      <td>CNV 25%</td>\n",
       "      <td>79.89</td>\n",
       "      <td>81.09</td>\n",
       "      <td>nm</td>\n",
       "      <td>83.28</td>\n",
       "      <td>83.25</td>\n",
       "    </tr>\n",
       "    <tr>\n",
       "      <td>CNV 12.5%</td>\n",
       "      <td>73.64</td>\n",
       "      <td>75.85</td>\n",
       "      <td>nm</td>\n",
       "      <td>77.82</td>\n",
       "      <td>77.84</td>\n",
       "    </tr>\n",
       "    <tr>\n",
       "      <td>MLP 100%</td>\n",
       "      <td>98.75</td>\n",
       "      <td>98.77</td>\n",
       "      <td>nm</td>\n",
       "      <td>97.3</td>\n",
       "      <td>97.31</td>\n",
       "    </tr>\n",
       "    <tr>\n",
       "      <td>MLP 50%</td>\n",
       "      <td>98.49</td>\n",
       "      <td>98.62</td>\n",
       "      <td>nm</td>\n",
       "      <td>97.45</td>\n",
       "      <td>97.46</td>\n",
       "    </tr>\n",
       "    <tr>\n",
       "      <td>MLP 25%</td>\n",
       "      <td>98.04</td>\n",
       "      <td>98.29</td>\n",
       "      <td>nm</td>\n",
       "      <td>97.49</td>\n",
       "      <td>97.44</td>\n",
       "    </tr>\n",
       "    <tr>\n",
       "      <td>MLP 12.5%</td>\n",
       "      <td>96.85</td>\n",
       "      <td>97.54</td>\n",
       "      <td>nm</td>\n",
       "      <td>97.95</td>\n",
       "      <td>97.15</td>\n",
       "    </tr>\n",
       "  </tbody>\n",
       "</table>"
      ],
      "text/plain": [
       "<IPython.core.display.HTML object>"
      ]
     },
     "metadata": {},
     "output_type": "display_data"
    }
   ],
   "source": [
    "#hide_input\n",
    "%run scripts/script_tables.py  #run the tables script\n",
    "tableOverviewExperiments(['data/cnn_topologies_accuracy.csv'])"
   ]
  },
  {
   "cell_type": "markdown",
   "metadata": {},
   "source": [
    "### CNNs and Their Compute and Memory Requirements"
   ]
  },
  {
   "cell_type": "markdown",
   "metadata": {},
   "source": [
    "Next table shows Compute and Memory Requirements for all CNNs in number of operations ([GOPs]), Model Size ([ME]) and Operational Intensity ([OI]) in operations per byte read or written from memory."
   ]
  },
  {
   "cell_type": "code",
   "execution_count": 4,
   "metadata": {
    "scrolled": false
   },
   "outputs": [
    {
     "data": {
      "text/html": [
       "<table border=\"1\" class=\"dataframe\">\n",
       "  <thead>\n",
       "    <tr>\n",
       "      <th></th>\n",
       "      <th>Total OPs</th>\n",
       "      <th>Total Model Size</th>\n",
       "      <th>OI (INT2)</th>\n",
       "      <th>OI (INT4)</th>\n",
       "      <th>OI (INT8)</th>\n",
       "      <th>OI (FP16)</th>\n",
       "      <th>OI (FP32)</th>\n",
       "    </tr>\n",
       "    <tr>\n",
       "      <th></th>\n",
       "      <th>GOPs</th>\n",
       "      <th>[ME]</th>\n",
       "      <th>[Ops/Byte]</th>\n",
       "      <th>[Ops/Byte]</th>\n",
       "      <th>[Ops/Byte]</th>\n",
       "      <th>[Ops/Byte]</th>\n",
       "      <th>[Ops/Byte]</th>\n",
       "    </tr>\n",
       "  </thead>\n",
       "  <tbody>\n",
       "    <tr>\n",
       "      <td>GoogLeNetv1</td>\n",
       "      <td>3.1</td>\n",
       "      <td>6</td>\n",
       "      <td>2093.97</td>\n",
       "      <td>1046.99</td>\n",
       "      <td>523.49</td>\n",
       "      <td>261.75</td>\n",
       "      <td>130.87</td>\n",
       "    </tr>\n",
       "    <tr>\n",
       "      <td>MobileNetv1</td>\n",
       "      <td>1.1</td>\n",
       "      <td>4.2</td>\n",
       "      <td>1075.47</td>\n",
       "      <td>537.74</td>\n",
       "      <td>268.87</td>\n",
       "      <td>134.43</td>\n",
       "      <td>67.22</td>\n",
       "    </tr>\n",
       "    <tr>\n",
       "      <td>ResNet-50 100%</td>\n",
       "      <td>7.7</td>\n",
       "      <td>25.5</td>\n",
       "      <td>1210.84</td>\n",
       "      <td>605.42</td>\n",
       "      <td>302.71</td>\n",
       "      <td>151.36</td>\n",
       "      <td>75.68</td>\n",
       "    </tr>\n",
       "    <tr>\n",
       "      <td>ResNet-50 80%</td>\n",
       "      <td>6.5</td>\n",
       "      <td>23.7</td>\n",
       "      <td>1086.59</td>\n",
       "      <td>543.3</td>\n",
       "      <td>271.65</td>\n",
       "      <td>135.82</td>\n",
       "      <td>67.91</td>\n",
       "    </tr>\n",
       "    <tr>\n",
       "      <td>ResNet-50 50%</td>\n",
       "      <td>3.8</td>\n",
       "      <td>15.8</td>\n",
       "      <td>949.85</td>\n",
       "      <td>474.93</td>\n",
       "      <td>237.46</td>\n",
       "      <td>118.73</td>\n",
       "      <td>59.37</td>\n",
       "    </tr>\n",
       "    <tr>\n",
       "      <td>ResNet-50 30%</td>\n",
       "      <td>2.5</td>\n",
       "      <td>10.1</td>\n",
       "      <td>970.16</td>\n",
       "      <td>485.08</td>\n",
       "      <td>242.54</td>\n",
       "      <td>121.27</td>\n",
       "      <td>60.64</td>\n",
       "    </tr>\n",
       "    <tr>\n",
       "      <td>EfficientNet Edge S</td>\n",
       "      <td>4.7</td>\n",
       "      <td>5.4</td>\n",
       "      <td>3481.48</td>\n",
       "      <td>1740.74</td>\n",
       "      <td>870.37</td>\n",
       "      <td>435.18</td>\n",
       "      <td>217.59</td>\n",
       "    </tr>\n",
       "    <tr>\n",
       "      <td>EfficientNet Edge M</td>\n",
       "      <td>7.4</td>\n",
       "      <td>6.9</td>\n",
       "      <td>4289.86</td>\n",
       "      <td>2144.93</td>\n",
       "      <td>1072.46</td>\n",
       "      <td>536.23</td>\n",
       "      <td>268.12</td>\n",
       "    </tr>\n",
       "    <tr>\n",
       "      <td>EfficientNet Edge L</td>\n",
       "      <td>19.4</td>\n",
       "      <td>10.6</td>\n",
       "      <td>7313.21</td>\n",
       "      <td>3656.6</td>\n",
       "      <td>1828.3</td>\n",
       "      <td>914.15</td>\n",
       "      <td>457.08</td>\n",
       "    </tr>\n",
       "    <tr>\n",
       "      <td>CNV 100%</td>\n",
       "      <td>0.47</td>\n",
       "      <td>6.16</td>\n",
       "      <td>304.95</td>\n",
       "      <td>152.48</td>\n",
       "      <td>76.24</td>\n",
       "      <td>38.12</td>\n",
       "      <td>19.06</td>\n",
       "    </tr>\n",
       "    <tr>\n",
       "      <td>CNV 50%</td>\n",
       "      <td>0.12</td>\n",
       "      <td>1.54</td>\n",
       "      <td>308.32</td>\n",
       "      <td>154.16</td>\n",
       "      <td>77.08</td>\n",
       "      <td>38.54</td>\n",
       "      <td>19.27</td>\n",
       "    </tr>\n",
       "    <tr>\n",
       "      <td>CNV 25%</td>\n",
       "      <td>0.03</td>\n",
       "      <td>0.39</td>\n",
       "      <td>315.01</td>\n",
       "      <td>157.51</td>\n",
       "      <td>78.75</td>\n",
       "      <td>39.38</td>\n",
       "      <td>19.69</td>\n",
       "    </tr>\n",
       "    <tr>\n",
       "      <td>CNV 12.5%</td>\n",
       "      <td>0.01</td>\n",
       "      <td>0.1</td>\n",
       "      <td>332.61</td>\n",
       "      <td>166.3</td>\n",
       "      <td>83.15</td>\n",
       "      <td>41.58</td>\n",
       "      <td>20.79</td>\n",
       "    </tr>\n",
       "    <tr>\n",
       "      <td>MLP 100%</td>\n",
       "      <td>0.02</td>\n",
       "      <td>10.01</td>\n",
       "      <td>8</td>\n",
       "      <td>4</td>\n",
       "      <td>2</td>\n",
       "      <td>1</td>\n",
       "      <td>0.5</td>\n",
       "    </tr>\n",
       "    <tr>\n",
       "      <td>MLP 50%</td>\n",
       "      <td>0.00582</td>\n",
       "      <td>2.91</td>\n",
       "      <td>8</td>\n",
       "      <td>4</td>\n",
       "      <td>2</td>\n",
       "      <td>1</td>\n",
       "      <td>0.5</td>\n",
       "    </tr>\n",
       "    <tr>\n",
       "      <td>MLP 25%</td>\n",
       "      <td>0.0019</td>\n",
       "      <td>0.93</td>\n",
       "      <td>8</td>\n",
       "      <td>4</td>\n",
       "      <td>2</td>\n",
       "      <td>1</td>\n",
       "      <td>0.5</td>\n",
       "    </tr>\n",
       "    <tr>\n",
       "      <td>MLP 12.5%</td>\n",
       "      <td>0.0007</td>\n",
       "      <td>0.33</td>\n",
       "      <td>8</td>\n",
       "      <td>4</td>\n",
       "      <td>2</td>\n",
       "      <td>1</td>\n",
       "      <td>0.5</td>\n",
       "    </tr>\n",
       "  </tbody>\n",
       "</table>"
      ],
      "text/plain": [
       "<IPython.core.display.HTML object>"
      ]
     },
     "metadata": {},
     "output_type": "display_data"
    }
   ],
   "source": [
    "#hide_input\n",
    "#%run scripts/script_tables.py  #run the tables script if it hasn't been run\n",
    "tableOverviewExperiments(['data/cnn_topologies_compute_memory_requirements.csv'])"
   ]
  },
  {
   "cell_type": "markdown",
   "metadata": {},
   "source": [
    "We created bar charts to better illustrate compute and memory requirements for all CNNs from the previous table in an interactive and easy way. "
   ]
  },
  {
   "cell_type": "code",
   "execution_count": 5,
   "metadata": {
    "scrolled": false
   },
   "outputs": [
    {
     "data": {
      "text/html": [
       "\n",
       "<div id=\"altair-viz-f04c140622784bf7b3bad5f1d22615ae\"></div>\n",
       "<script type=\"text/javascript\">\n",
       "  (function(spec, embedOpt){\n",
       "    const outputDiv = document.getElementById(\"altair-viz-f04c140622784bf7b3bad5f1d22615ae\");\n",
       "    const paths = {\n",
       "      \"vega\": \"https://cdn.jsdelivr.net/npm//vega@5?noext\",\n",
       "      \"vega-lib\": \"https://cdn.jsdelivr.net/npm//vega-lib?noext\",\n",
       "      \"vega-lite\": \"https://cdn.jsdelivr.net/npm//vega-lite@4.0.2?noext\",\n",
       "      \"vega-embed\": \"https://cdn.jsdelivr.net/npm//vega-embed@6?noext\",\n",
       "    };\n",
       "\n",
       "    function loadScript(lib) {\n",
       "      return new Promise(function(resolve, reject) {\n",
       "        var s = document.createElement('script');\n",
       "        s.src = paths[lib];\n",
       "        s.async = true;\n",
       "        s.onload = () => resolve(paths[lib]);\n",
       "        s.onerror = () => reject(`Error loading script: ${paths[lib]}`);\n",
       "        document.getElementsByTagName(\"head\")[0].appendChild(s);\n",
       "      });\n",
       "    }\n",
       "\n",
       "    function showError(err) {\n",
       "      outputDiv.innerHTML = `<div class=\"error\" style=\"color:red;\">${err}</div>`;\n",
       "      throw err;\n",
       "    }\n",
       "\n",
       "    function displayChart(vegaEmbed) {\n",
       "      vegaEmbed(outputDiv, spec, embedOpt)\n",
       "        .catch(err => showError(`Javascript Error: ${err.message}<br>This usually means there's a typo in your chart specification. See the javascript console for the full traceback.`));\n",
       "    }\n",
       "\n",
       "    if(typeof define === \"function\" && define.amd) {\n",
       "      requirejs.config({paths});\n",
       "      require([\"vega-embed\"], displayChart, err => showError(`Error loading script: ${err.message}`));\n",
       "    } else if (typeof vegaEmbed === \"function\") {\n",
       "      displayChart(vegaEmbed);\n",
       "    } else {\n",
       "      loadScript(\"vega\")\n",
       "        .then(() => loadScript(\"vega-lite\"))\n",
       "        .then(() => loadScript(\"vega-embed\"))\n",
       "        .catch(showError)\n",
       "        .then(() => displayChart(vegaEmbed));\n",
       "    }\n",
       "  })({\"config\": {\"view\": {\"continuousWidth\": 400, \"continuousHeight\": 300}}, \"hconcat\": [{\"layer\": [{\"mark\": \"bar\", \"encoding\": {\"color\": {\"type\": \"nominal\", \"field\": \"network\"}, \"x\": {\"type\": \"nominal\", \"field\": \" \", \"title\": \"All convolutional neural networks\"}, \"y\": {\"type\": \"quantitative\", \"field\": \"Total OPs\", \"scale\": {\"type\": \"symlog\"}, \"title\": \"Number of Operations [GOPs]\"}}, \"selection\": {\"selector001\": {\"type\": \"interval\", \"bind\": \"scales\", \"encodings\": [\"x\", \"y\"]}}}, {\"mark\": {\"type\": \"text\", \"dy\": -5}, \"encoding\": {\"color\": {\"type\": \"nominal\", \"field\": \"network\"}, \"text\": {\"type\": \"quantitative\", \"field\": \"Total OPs\"}, \"x\": {\"type\": \"nominal\", \"field\": \" \", \"title\": \"All convolutional neural networks\"}, \"y\": {\"type\": \"quantitative\", \"field\": \"Total OPs\", \"scale\": {\"type\": \"symlog\"}, \"title\": \"Number of Operations [GOPs]\"}}}], \"height\": 350, \"title\": \"Compute and Memory Requirements for All CNNs in Number of Operations\", \"width\": 350}, {\"layer\": [{\"mark\": \"bar\", \"encoding\": {\"color\": {\"type\": \"nominal\", \"field\": \"network\"}, \"x\": {\"type\": \"nominal\", \"field\": \" \", \"title\": \"All convolutional neural networks\"}, \"y\": {\"type\": \"quantitative\", \"field\": \"Total Model Size\", \"scale\": {\"type\": \"symlog\"}, \"title\": \"Total Model Size in Millions of Elements [ME]\"}}, \"selection\": {\"selector002\": {\"type\": \"interval\", \"bind\": \"scales\", \"encodings\": [\"x\", \"y\"]}}}, {\"mark\": {\"type\": \"text\", \"dy\": -5}, \"encoding\": {\"color\": {\"type\": \"nominal\", \"field\": \"network\"}, \"text\": {\"type\": \"quantitative\", \"field\": \"Total Model Size\"}, \"x\": {\"type\": \"nominal\", \"field\": \" \", \"title\": \"All convolutional neural networks\"}, \"y\": {\"type\": \"quantitative\", \"field\": \"Total Model Size\", \"scale\": {\"type\": \"symlog\"}, \"title\": \"Total Model Size in Millions of Elements [ME]\"}}}], \"height\": 350, \"title\": \"Compute and Memory Requirements for All CNNs in Model Size\", \"width\": 350}], \"data\": {\"name\": \"data-38f32b45ebebcc44d6c6becf9d377948\"}, \"$schema\": \"https://vega.github.io/schema/vega-lite/v4.0.2.json\", \"datasets\": {\"data-38f32b45ebebcc44d6c6becf9d377948\": [{\" \": \"GoogLeNetv1\", \"Total OPs\": \"3.1\", \"Total Model Size\": \"6\", \"OI (INT2)\": \"2093.97\", \"OI (INT4)\": \"1046.99\", \"OI (INT8)\": \"523.49\", \"OI (FP16)\": \"261.75\", \"OI (FP32)\": \"130.87\", \"network\": \"GoogLeNetv1\"}, {\" \": \"MobileNetv1\", \"Total OPs\": \"1.1\", \"Total Model Size\": \"4.2\", \"OI (INT2)\": \"1075.47\", \"OI (INT4)\": \"537.74\", \"OI (INT8)\": \"268.87\", \"OI (FP16)\": \"134.43\", \"OI (FP32)\": \"67.22\", \"network\": \"MobileNetv1\"}, {\" \": \"ResNet-50 100%\", \"Total OPs\": \"7.7\", \"Total Model Size\": \"25.5\", \"OI (INT2)\": \"1210.84\", \"OI (INT4)\": \"605.42\", \"OI (INT8)\": \"302.71\", \"OI (FP16)\": \"151.36\", \"OI (FP32)\": \"75.68\", \"network\": \"ResNet-50\"}, {\" \": \"ResNet-50 80%\", \"Total OPs\": \"6.5\", \"Total Model Size\": \"23.7\", \"OI (INT2)\": \"1086.59\", \"OI (INT4)\": \"543.3\", \"OI (INT8)\": \"271.65\", \"OI (FP16)\": \"135.82\", \"OI (FP32)\": \"67.91\", \"network\": \"ResNet-50\"}, {\" \": \"ResNet-50 50%\", \"Total OPs\": \"3.8\", \"Total Model Size\": \"15.8\", \"OI (INT2)\": \"949.85\", \"OI (INT4)\": \"474.93\", \"OI (INT8)\": \"237.46\", \"OI (FP16)\": \"118.73\", \"OI (FP32)\": \"59.37\", \"network\": \"ResNet-50\"}, {\" \": \"ResNet-50 30%\", \"Total OPs\": \"2.5\", \"Total Model Size\": \"10.1\", \"OI (INT2)\": \"970.16\", \"OI (INT4)\": \"485.08\", \"OI (INT8)\": \"242.54\", \"OI (FP16)\": \"121.27\", \"OI (FP32)\": \"60.64\", \"network\": \"ResNet-50\"}, {\" \": \"EfficientNet Edge S\", \"Total OPs\": \"4.7\", \"Total Model Size\": \"5.4\", \"OI (INT2)\": \"3481.48\", \"OI (INT4)\": \"1740.74\", \"OI (INT8)\": \"870.37\", \"OI (FP16)\": \"435.18\", \"OI (FP32)\": \"217.59\", \"network\": \"EfficientNet\"}, {\" \": \"EfficientNet Edge M\", \"Total OPs\": \"7.4\", \"Total Model Size\": \"6.9\", \"OI (INT2)\": \"4289.86\", \"OI (INT4)\": \"2144.93\", \"OI (INT8)\": \"1072.46\", \"OI (FP16)\": \"536.23\", \"OI (FP32)\": \"268.12\", \"network\": \"EfficientNet\"}, {\" \": \"EfficientNet Edge L\", \"Total OPs\": \"19.4\", \"Total Model Size\": \"10.6\", \"OI (INT2)\": \"7313.21\", \"OI (INT4)\": \"3656.6\", \"OI (INT8)\": \"1828.3\", \"OI (FP16)\": \"914.15\", \"OI (FP32)\": \"457.08\", \"network\": \"EfficientNet\"}, {\" \": \"CNV 100%\", \"Total OPs\": \"0.47\", \"Total Model Size\": \"6.16\", \"OI (INT2)\": \"304.95\", \"OI (INT4)\": \"152.48\", \"OI (INT8)\": \"76.24\", \"OI (FP16)\": \"38.12\", \"OI (FP32)\": \"19.06\", \"network\": \"CNV\"}, {\" \": \"CNV 50%\", \"Total OPs\": \"0.12\", \"Total Model Size\": \"1.54\", \"OI (INT2)\": \"308.32\", \"OI (INT4)\": \"154.16\", \"OI (INT8)\": \"77.08\", \"OI (FP16)\": \"38.54\", \"OI (FP32)\": \"19.27\", \"network\": \"CNV\"}, {\" \": \"CNV 25%\", \"Total OPs\": \"0.03\", \"Total Model Size\": \"0.39\", \"OI (INT2)\": \"315.01\", \"OI (INT4)\": \"157.51\", \"OI (INT8)\": \"78.75\", \"OI (FP16)\": \"39.38\", \"OI (FP32)\": \"19.69\", \"network\": \"CNV\"}, {\" \": \"CNV 12.5%\", \"Total OPs\": \"0.01\", \"Total Model Size\": \"0.1\", \"OI (INT2)\": \"332.61\", \"OI (INT4)\": \"166.3\", \"OI (INT8)\": \"83.15\", \"OI (FP16)\": \"41.58\", \"OI (FP32)\": \"20.79\", \"network\": \"CNV\"}, {\" \": \"MLP 100%\", \"Total OPs\": \"0.02\", \"Total Model Size\": \"10.01\", \"OI (INT2)\": \"8\", \"OI (INT4)\": \"4\", \"OI (INT8)\": \"2\", \"OI (FP16)\": \"1\", \"OI (FP32)\": \"0.5\", \"network\": \"MLP\"}, {\" \": \"MLP 50%\", \"Total OPs\": \"0.00582\", \"Total Model Size\": \"2.91\", \"OI (INT2)\": \"8\", \"OI (INT4)\": \"4\", \"OI (INT8)\": \"2\", \"OI (FP16)\": \"1\", \"OI (FP32)\": \"0.5\", \"network\": \"MLP\"}, {\" \": \"MLP 25%\", \"Total OPs\": \"0.0019\", \"Total Model Size\": \"0.93\", \"OI (INT2)\": \"8\", \"OI (INT4)\": \"4\", \"OI (INT8)\": \"2\", \"OI (FP16)\": \"1\", \"OI (FP32)\": \"0.5\", \"network\": \"MLP\"}, {\" \": \"MLP 12.5%\", \"Total OPs\": \"0.0007\", \"Total Model Size\": \"0.33\", \"OI (INT2)\": \"8\", \"OI (INT4)\": \"4\", \"OI (INT8)\": \"2\", \"OI (FP16)\": \"1\", \"OI (FP32)\": \"0.5\", \"network\": \"MLP\"}]}}, {\"mode\": \"vega-lite\"});\n",
       "</script>"
      ],
      "text/plain": [
       "alt.HConcatChart(...)"
      ]
     },
     "execution_count": 5,
     "metadata": {},
     "output_type": "execute_result"
    }
   ],
   "source": [
    "#hide_input\n",
    "%run scripts/altair_plots # sun the script which has the function to create the bar charts - if it hasn't been run yet\n",
    "get_compute_memory_cnn_chart(csv_file= 'data/cnn_topologies_compute_memory_requirements.csv') "
   ]
  },
  {
   "cell_type": "markdown",
   "metadata": {},
   "source": [
    "## Hardware Platforms"
   ]
  },
  {
   "cell_type": "markdown",
   "metadata": {},
   "source": [
    "Table below summarizes all included hardware platforms, each with its corresponding peak performance for diferent datatypes (INTx, FPx), its Memory Bandwidth, Memory capacity as well as Thermal Design Power."
   ]
  },
  {
   "cell_type": "code",
   "execution_count": 6,
   "metadata": {},
   "outputs": [
    {
     "data": {
      "text/html": [
       "<table border=\"1\" class=\"dataframe\">\n",
       "  <thead>\n",
       "    <tr>\n",
       "      <th>Hardware Platforms</th>\n",
       "      <th>INT2</th>\n",
       "      <th>INT4</th>\n",
       "      <th>INT8</th>\n",
       "      <th>FP16</th>\n",
       "      <th>FP32</th>\n",
       "      <th>Memory Bandwidth</th>\n",
       "      <th>Memory Capacity</th>\n",
       "      <th>Power</th>\n",
       "    </tr>\n",
       "    <tr>\n",
       "      <th></th>\n",
       "      <th>[TOP/sec]</th>\n",
       "      <th>[TOP/sec]</th>\n",
       "      <th>[TOP/sec]</th>\n",
       "      <th>[TOP/sec]</th>\n",
       "      <th>[TOP/sec]</th>\n",
       "      <th>[GBps]</th>\n",
       "      <th>[GB]</th>\n",
       "      <th>[Watt]</th>\n",
       "    </tr>\n",
       "  </thead>\n",
       "  <tbody>\n",
       "    <tr>\n",
       "      <td>Ultra96-DPU</td>\n",
       "      <td>na</td>\n",
       "      <td>na</td>\n",
       "      <td>0.96</td>\n",
       "      <td>na</td>\n",
       "      <td>na</td>\n",
       "      <td>4.26</td>\n",
       "      <td>2</td>\n",
       "      <td>na</td>\n",
       "    </tr>\n",
       "    <tr>\n",
       "      <td>ZCU104-DPU</td>\n",
       "      <td>na</td>\n",
       "      <td>na</td>\n",
       "      <td>4.6</td>\n",
       "      <td>na</td>\n",
       "      <td>na</td>\n",
       "      <td>19.2</td>\n",
       "      <td>4</td>\n",
       "      <td>na</td>\n",
       "    </tr>\n",
       "    <tr>\n",
       "      <td>ZCU102-DPU</td>\n",
       "      <td>na</td>\n",
       "      <td>na</td>\n",
       "      <td>6.71</td>\n",
       "      <td>na</td>\n",
       "      <td>na</td>\n",
       "      <td>19.2</td>\n",
       "      <td>4</td>\n",
       "      <td>na</td>\n",
       "    </tr>\n",
       "    <tr>\n",
       "      <td>ZCU104-FINN</td>\n",
       "      <td>30.7</td>\n",
       "      <td>8.8</td>\n",
       "      <td>na</td>\n",
       "      <td>na</td>\n",
       "      <td>na</td>\n",
       "      <td>19.2</td>\n",
       "      <td>4</td>\n",
       "      <td>na</td>\n",
       "    </tr>\n",
       "    <tr>\n",
       "      <td>ZCU104-BISMO</td>\n",
       "      <td>30.7</td>\n",
       "      <td>8.8</td>\n",
       "      <td>na</td>\n",
       "      <td>na</td>\n",
       "      <td>na</td>\n",
       "      <td>19.2</td>\n",
       "      <td>4</td>\n",
       "      <td>na</td>\n",
       "    </tr>\n",
       "    <tr>\n",
       "      <td>TX2 - maxn</td>\n",
       "      <td>na</td>\n",
       "      <td>na</td>\n",
       "      <td>na</td>\n",
       "      <td>1.33</td>\n",
       "      <td>0.67</td>\n",
       "      <td>59.7</td>\n",
       "      <td>8</td>\n",
       "      <td>15</td>\n",
       "    </tr>\n",
       "    <tr>\n",
       "      <td>TX2 - maxp</td>\n",
       "      <td>na</td>\n",
       "      <td>na</td>\n",
       "      <td>na</td>\n",
       "      <td>1.15</td>\n",
       "      <td>0.57</td>\n",
       "      <td>59.7</td>\n",
       "      <td>8</td>\n",
       "      <td>15</td>\n",
       "    </tr>\n",
       "    <tr>\n",
       "      <td>TX2 - maxq</td>\n",
       "      <td>na</td>\n",
       "      <td>na</td>\n",
       "      <td>na</td>\n",
       "      <td>0.87</td>\n",
       "      <td>0.44</td>\n",
       "      <td>59.7</td>\n",
       "      <td>8</td>\n",
       "      <td>15</td>\n",
       "    </tr>\n",
       "    <tr>\n",
       "      <td>EdgeTPU-fast</td>\n",
       "      <td>na</td>\n",
       "      <td>na</td>\n",
       "      <td>4</td>\n",
       "      <td>na</td>\n",
       "      <td>na</td>\n",
       "      <td>25.6</td>\n",
       "      <td>1</td>\n",
       "      <td>2</td>\n",
       "    </tr>\n",
       "    <tr>\n",
       "      <td>EdgeTPU-slow</td>\n",
       "      <td>na</td>\n",
       "      <td>na</td>\n",
       "      <td>2</td>\n",
       "      <td>na</td>\n",
       "      <td>na</td>\n",
       "      <td>25.6</td>\n",
       "      <td>1</td>\n",
       "      <td>2</td>\n",
       "    </tr>\n",
       "    <tr>\n",
       "      <td>NCS (MyriadX)</td>\n",
       "      <td>na</td>\n",
       "      <td>na</td>\n",
       "      <td>1</td>\n",
       "      <td>0.5</td>\n",
       "      <td>na</td>\n",
       "      <td>12.8</td>\n",
       "      <td>2</td>\n",
       "      <td>1</td>\n",
       "    </tr>\n",
       "    <tr>\n",
       "      <td>U96-Quadcore A53-INT8</td>\n",
       "      <td>0.192</td>\n",
       "      <td>0.192</td>\n",
       "      <td>0.192</td>\n",
       "      <td>na</td>\n",
       "      <td>na</td>\n",
       "      <td>4.26</td>\n",
       "      <td>2</td>\n",
       "      <td>na</td>\n",
       "    </tr>\n",
       "  </tbody>\n",
       "</table>"
      ],
      "text/plain": [
       "<IPython.core.display.HTML object>"
      ]
     },
     "metadata": {},
     "output_type": "display_data"
    }
   ],
   "source": [
    "#hide_input\n",
    "%run scripts/altair_plots.py  #run the heatmaps script\n",
    "tableOverviewExperiments(['data/hardware_platforms.csv'])"
   ]
  },
  {
   "cell_type": "markdown",
   "metadata": {},
   "source": [
    "To better illustrate Hardware Platforms' Peak Performance and Memory Bandwidth, an interactive Bar chart can be found below.\n",
    "Please note, only performance for natively supported datatypes are shown."
   ]
  },
  {
   "cell_type": "code",
   "execution_count": 7,
   "metadata": {},
   "outputs": [
    {
     "data": {
      "text/html": [
       "\n",
       "<div id=\"altair-viz-7516ef3eca1849d589a8a8ea81c8f77a\"></div>\n",
       "<script type=\"text/javascript\">\n",
       "  (function(spec, embedOpt){\n",
       "    const outputDiv = document.getElementById(\"altair-viz-7516ef3eca1849d589a8a8ea81c8f77a\");\n",
       "    const paths = {\n",
       "      \"vega\": \"https://cdn.jsdelivr.net/npm//vega@5?noext\",\n",
       "      \"vega-lib\": \"https://cdn.jsdelivr.net/npm//vega-lib?noext\",\n",
       "      \"vega-lite\": \"https://cdn.jsdelivr.net/npm//vega-lite@4.0.2?noext\",\n",
       "      \"vega-embed\": \"https://cdn.jsdelivr.net/npm//vega-embed@6?noext\",\n",
       "    };\n",
       "\n",
       "    function loadScript(lib) {\n",
       "      return new Promise(function(resolve, reject) {\n",
       "        var s = document.createElement('script');\n",
       "        s.src = paths[lib];\n",
       "        s.async = true;\n",
       "        s.onload = () => resolve(paths[lib]);\n",
       "        s.onerror = () => reject(`Error loading script: ${paths[lib]}`);\n",
       "        document.getElementsByTagName(\"head\")[0].appendChild(s);\n",
       "      });\n",
       "    }\n",
       "\n",
       "    function showError(err) {\n",
       "      outputDiv.innerHTML = `<div class=\"error\" style=\"color:red;\">${err}</div>`;\n",
       "      throw err;\n",
       "    }\n",
       "\n",
       "    function displayChart(vegaEmbed) {\n",
       "      vegaEmbed(outputDiv, spec, embedOpt)\n",
       "        .catch(err => showError(`Javascript Error: ${err.message}<br>This usually means there's a typo in your chart specification. See the javascript console for the full traceback.`));\n",
       "    }\n",
       "\n",
       "    if(typeof define === \"function\" && define.amd) {\n",
       "      requirejs.config({paths});\n",
       "      require([\"vega-embed\"], displayChart, err => showError(`Error loading script: ${err.message}`));\n",
       "    } else if (typeof vegaEmbed === \"function\") {\n",
       "      displayChart(vegaEmbed);\n",
       "    } else {\n",
       "      loadScript(\"vega\")\n",
       "        .then(() => loadScript(\"vega-lite\"))\n",
       "        .then(() => loadScript(\"vega-embed\"))\n",
       "        .catch(showError)\n",
       "        .then(() => displayChart(vegaEmbed));\n",
       "    }\n",
       "  })({\"config\": {\"view\": {\"continuousWidth\": 400, \"continuousHeight\": 300}}, \"data\": {\"name\": \"data-0f9a818b651188e9e3622c711b0977a1\"}, \"facet\": {\"type\": \"nominal\", \"field\": \"Hardware Platforms\", \"title\": \"Hardware Platforms\"}, \"spec\": {\"layer\": [{\"mark\": \"bar\", \"encoding\": {\"color\": {\"type\": \"nominal\", \"field\": \"Datatypes and MB\"}, \"x\": {\"type\": \"ordinal\", \"field\": \"Datatypes and MB\", \"title\": \"\"}, \"y\": {\"type\": \"quantitative\", \"field\": \"value\", \"scale\": {\"type\": \"log\"}, \"title\": \"Peak Performance [TOP/sec] and MB [GBps]\"}}}, {\"mark\": {\"type\": \"text\", \"dy\": -5}, \"encoding\": {\"color\": {\"type\": \"nominal\", \"field\": \"Datatypes and MB\"}, \"text\": {\"type\": \"quantitative\", \"field\": \"value\"}, \"x\": {\"type\": \"ordinal\", \"field\": \"Datatypes and MB\", \"title\": \"\"}, \"y\": {\"type\": \"quantitative\", \"field\": \"value\", \"scale\": {\"type\": \"log\"}, \"title\": \"Peak Performance [TOP/sec] and MB [GBps]\"}}}]}, \"columns\": 5, \"title\": \"Peak Performance and Memory Bandwidth for All Hardware Platforms\", \"$schema\": \"https://vega.github.io/schema/vega-lite/v4.0.2.json\", \"datasets\": {\"data-0f9a818b651188e9e3622c711b0977a1\": [{\"Hardware Platforms\": \"Ultra96-DPU\", \"Datatypes and MB\": \"INT2\", \"value\": \"na\"}, {\"Hardware Platforms\": \"ZCU104-DPU\", \"Datatypes and MB\": \"INT2\", \"value\": \"na\"}, {\"Hardware Platforms\": \"ZCU102-DPU\", \"Datatypes and MB\": \"INT2\", \"value\": \"na\"}, {\"Hardware Platforms\": \"ZCU104-FINN\", \"Datatypes and MB\": \"INT2\", \"value\": \"30.7\"}, {\"Hardware Platforms\": \"ZCU104-BISMO\", \"Datatypes and MB\": \"INT2\", \"value\": \"30.7\"}, {\"Hardware Platforms\": \"TX2 - maxn\", \"Datatypes and MB\": \"INT2\", \"value\": \"na\"}, {\"Hardware Platforms\": \"TX2 - maxp\", \"Datatypes and MB\": \"INT2\", \"value\": \"na\"}, {\"Hardware Platforms\": \"TX2 - maxq\", \"Datatypes and MB\": \"INT2\", \"value\": \"na\"}, {\"Hardware Platforms\": \"EdgeTPU-fast\", \"Datatypes and MB\": \"INT2\", \"value\": \"na\"}, {\"Hardware Platforms\": \"EdgeTPU-slow\", \"Datatypes and MB\": \"INT2\", \"value\": \"na\"}, {\"Hardware Platforms\": \"NCS (MyriadX)\", \"Datatypes and MB\": \"INT2\", \"value\": \"na\"}, {\"Hardware Platforms\": \"U96-Quadcore A53-INT8\", \"Datatypes and MB\": \"INT2\", \"value\": \"0.192\"}, {\"Hardware Platforms\": \"Ultra96-DPU\", \"Datatypes and MB\": \"INT4\", \"value\": \"na\"}, {\"Hardware Platforms\": \"ZCU104-DPU\", \"Datatypes and MB\": \"INT4\", \"value\": \"na\"}, {\"Hardware Platforms\": \"ZCU102-DPU\", \"Datatypes and MB\": \"INT4\", \"value\": \"na\"}, {\"Hardware Platforms\": \"ZCU104-FINN\", \"Datatypes and MB\": \"INT4\", \"value\": \"8.8\"}, {\"Hardware Platforms\": \"ZCU104-BISMO\", \"Datatypes and MB\": \"INT4\", \"value\": \"8.8\"}, {\"Hardware Platforms\": \"TX2 - maxn\", \"Datatypes and MB\": \"INT4\", \"value\": \"na\"}, {\"Hardware Platforms\": \"TX2 - maxp\", \"Datatypes and MB\": \"INT4\", \"value\": \"na\"}, {\"Hardware Platforms\": \"TX2 - maxq\", \"Datatypes and MB\": \"INT4\", \"value\": \"na\"}, {\"Hardware Platforms\": \"EdgeTPU-fast\", \"Datatypes and MB\": \"INT4\", \"value\": \"na\"}, {\"Hardware Platforms\": \"EdgeTPU-slow\", \"Datatypes and MB\": \"INT4\", \"value\": \"na\"}, {\"Hardware Platforms\": \"NCS (MyriadX)\", \"Datatypes and MB\": \"INT4\", \"value\": \"na\"}, {\"Hardware Platforms\": \"U96-Quadcore A53-INT8\", \"Datatypes and MB\": \"INT4\", \"value\": \"0.192\"}, {\"Hardware Platforms\": \"Ultra96-DPU\", \"Datatypes and MB\": \"INT8\", \"value\": \"0.96\"}, {\"Hardware Platforms\": \"ZCU104-DPU\", \"Datatypes and MB\": \"INT8\", \"value\": \"4.6\"}, {\"Hardware Platforms\": \"ZCU102-DPU\", \"Datatypes and MB\": \"INT8\", \"value\": \"6.71\"}, {\"Hardware Platforms\": \"ZCU104-FINN\", \"Datatypes and MB\": \"INT8\", \"value\": \"na\"}, {\"Hardware Platforms\": \"ZCU104-BISMO\", \"Datatypes and MB\": \"INT8\", \"value\": \"na\"}, {\"Hardware Platforms\": \"TX2 - maxn\", \"Datatypes and MB\": \"INT8\", \"value\": \"na\"}, {\"Hardware Platforms\": \"TX2 - maxp\", \"Datatypes and MB\": \"INT8\", \"value\": \"na\"}, {\"Hardware Platforms\": \"TX2 - maxq\", \"Datatypes and MB\": \"INT8\", \"value\": \"na\"}, {\"Hardware Platforms\": \"EdgeTPU-fast\", \"Datatypes and MB\": \"INT8\", \"value\": \"4\"}, {\"Hardware Platforms\": \"EdgeTPU-slow\", \"Datatypes and MB\": \"INT8\", \"value\": \"2\"}, {\"Hardware Platforms\": \"NCS (MyriadX)\", \"Datatypes and MB\": \"INT8\", \"value\": \"1\"}, {\"Hardware Platforms\": \"U96-Quadcore A53-INT8\", \"Datatypes and MB\": \"INT8\", \"value\": \"0.192\"}, {\"Hardware Platforms\": \"Ultra96-DPU\", \"Datatypes and MB\": \"FP16\", \"value\": \"na\"}, {\"Hardware Platforms\": \"ZCU104-DPU\", \"Datatypes and MB\": \"FP16\", \"value\": \"na\"}, {\"Hardware Platforms\": \"ZCU102-DPU\", \"Datatypes and MB\": \"FP16\", \"value\": \"na\"}, {\"Hardware Platforms\": \"ZCU104-FINN\", \"Datatypes and MB\": \"FP16\", \"value\": \"na\"}, {\"Hardware Platforms\": \"ZCU104-BISMO\", \"Datatypes and MB\": \"FP16\", \"value\": \"na\"}, {\"Hardware Platforms\": \"TX2 - maxn\", \"Datatypes and MB\": \"FP16\", \"value\": \"1.33\"}, {\"Hardware Platforms\": \"TX2 - maxp\", \"Datatypes and MB\": \"FP16\", \"value\": \"1.15\"}, {\"Hardware Platforms\": \"TX2 - maxq\", \"Datatypes and MB\": \"FP16\", \"value\": \"0.87\"}, {\"Hardware Platforms\": \"EdgeTPU-fast\", \"Datatypes and MB\": \"FP16\", \"value\": \"na\"}, {\"Hardware Platforms\": \"EdgeTPU-slow\", \"Datatypes and MB\": \"FP16\", \"value\": \"na\"}, {\"Hardware Platforms\": \"NCS (MyriadX)\", \"Datatypes and MB\": \"FP16\", \"value\": \"0.5\"}, {\"Hardware Platforms\": \"U96-Quadcore A53-INT8\", \"Datatypes and MB\": \"FP16\", \"value\": \"na\"}, {\"Hardware Platforms\": \"Ultra96-DPU\", \"Datatypes and MB\": \"FP32\", \"value\": \"na\"}, {\"Hardware Platforms\": \"ZCU104-DPU\", \"Datatypes and MB\": \"FP32\", \"value\": \"na\"}, {\"Hardware Platforms\": \"ZCU102-DPU\", \"Datatypes and MB\": \"FP32\", \"value\": \"na\"}, {\"Hardware Platforms\": \"ZCU104-FINN\", \"Datatypes and MB\": \"FP32\", \"value\": \"na\"}, {\"Hardware Platforms\": \"ZCU104-BISMO\", \"Datatypes and MB\": \"FP32\", \"value\": \"na\"}, {\"Hardware Platforms\": \"TX2 - maxn\", \"Datatypes and MB\": \"FP32\", \"value\": \"0.67\"}, {\"Hardware Platforms\": \"TX2 - maxp\", \"Datatypes and MB\": \"FP32\", \"value\": \"0.57\"}, {\"Hardware Platforms\": \"TX2 - maxq\", \"Datatypes and MB\": \"FP32\", \"value\": \"0.44\"}, {\"Hardware Platforms\": \"EdgeTPU-fast\", \"Datatypes and MB\": \"FP32\", \"value\": \"na\"}, {\"Hardware Platforms\": \"EdgeTPU-slow\", \"Datatypes and MB\": \"FP32\", \"value\": \"na\"}, {\"Hardware Platforms\": \"NCS (MyriadX)\", \"Datatypes and MB\": \"FP32\", \"value\": \"na\"}, {\"Hardware Platforms\": \"U96-Quadcore A53-INT8\", \"Datatypes and MB\": \"FP32\", \"value\": \"na\"}, {\"Hardware Platforms\": \"Ultra96-DPU\", \"Datatypes and MB\": \"Memory Bandwidth\", \"value\": \"4.26\"}, {\"Hardware Platforms\": \"ZCU104-DPU\", \"Datatypes and MB\": \"Memory Bandwidth\", \"value\": \"19.2\"}, {\"Hardware Platforms\": \"ZCU102-DPU\", \"Datatypes and MB\": \"Memory Bandwidth\", \"value\": \"19.2\"}, {\"Hardware Platforms\": \"ZCU104-FINN\", \"Datatypes and MB\": \"Memory Bandwidth\", \"value\": \"19.2\"}, {\"Hardware Platforms\": \"ZCU104-BISMO\", \"Datatypes and MB\": \"Memory Bandwidth\", \"value\": \"19.2\"}, {\"Hardware Platforms\": \"TX2 - maxn\", \"Datatypes and MB\": \"Memory Bandwidth\", \"value\": \"59.7\"}, {\"Hardware Platforms\": \"TX2 - maxp\", \"Datatypes and MB\": \"Memory Bandwidth\", \"value\": \"59.7\"}, {\"Hardware Platforms\": \"TX2 - maxq\", \"Datatypes and MB\": \"Memory Bandwidth\", \"value\": \"59.7\"}, {\"Hardware Platforms\": \"EdgeTPU-fast\", \"Datatypes and MB\": \"Memory Bandwidth\", \"value\": \"25.6\"}, {\"Hardware Platforms\": \"EdgeTPU-slow\", \"Datatypes and MB\": \"Memory Bandwidth\", \"value\": \"25.6\"}, {\"Hardware Platforms\": \"NCS (MyriadX)\", \"Datatypes and MB\": \"Memory Bandwidth\", \"value\": \"12.8\"}, {\"Hardware Platforms\": \"U96-Quadcore A53-INT8\", \"Datatypes and MB\": \"Memory Bandwidth\", \"value\": \"4.26\"}]}}, {\"mode\": \"vega-lite\"});\n",
       "</script>"
      ],
      "text/plain": [
       "alt.FacetChart(...)"
      ]
     },
     "execution_count": 7,
     "metadata": {},
     "output_type": "execute_result"
    }
   ],
   "source": [
    "#hide_input\n",
    "%run scripts/altair_plots.py # run the script if it hasn't been run before\n",
    "get_peak_perf_bar_chart('data/hardware_platforms.csv')"
   ]
  },
  {
   "cell_type": "markdown",
   "metadata": {},
   "source": [
    "## Overview of Theoretical Evaluation"
   ]
  },
  {
   "cell_type": "markdown",
   "metadata": {},
   "source": [
    "link to: https://rcl-lab.github.io/Qutibench_Web/mnist/imagenet/cifar-10/2020/04/30/Overview_of_experiments.html"
   ]
  },
  {
   "cell_type": "markdown",
   "metadata": {},
   "source": [
    "# Rooflines for All Hardware Platforms and CNNs"
   ]
  },
  {
   "cell_type": "markdown",
   "metadata": {},
   "source": [
    "Combining application requirements with hardware platform characteristics can be leveraged for performance predictions using UCB’s roofline models. Using assumptions for where weights, activation tensors, and state of a neural network are stored, combined with the size of the datatypes used, allow us to derive the arithmetic intensity of a neural network during inference. Combined with the roofline for a given hardware platform, we can provide insight as to whether a neural network will be memory or compute bound and guidance for what is theoretically possible in regards to its throughput."
   ]
  },
  {
   "cell_type": "code",
   "execution_count": 8,
   "metadata": {
    "scrolled": false
   },
   "outputs": [
    {
     "data": {
      "text/html": [
       "\n",
       "<div id=\"altair-viz-eff218d02a2f4bb3bb58c2c3757d4344\"></div>\n",
       "<script type=\"text/javascript\">\n",
       "  (function(spec, embedOpt){\n",
       "    const outputDiv = document.getElementById(\"altair-viz-eff218d02a2f4bb3bb58c2c3757d4344\");\n",
       "    const paths = {\n",
       "      \"vega\": \"https://cdn.jsdelivr.net/npm//vega@5?noext\",\n",
       "      \"vega-lib\": \"https://cdn.jsdelivr.net/npm//vega-lib?noext\",\n",
       "      \"vega-lite\": \"https://cdn.jsdelivr.net/npm//vega-lite@4.0.2?noext\",\n",
       "      \"vega-embed\": \"https://cdn.jsdelivr.net/npm//vega-embed@6?noext\",\n",
       "    };\n",
       "\n",
       "    function loadScript(lib) {\n",
       "      return new Promise(function(resolve, reject) {\n",
       "        var s = document.createElement('script');\n",
       "        s.src = paths[lib];\n",
       "        s.async = true;\n",
       "        s.onload = () => resolve(paths[lib]);\n",
       "        s.onerror = () => reject(`Error loading script: ${paths[lib]}`);\n",
       "        document.getElementsByTagName(\"head\")[0].appendChild(s);\n",
       "      });\n",
       "    }\n",
       "\n",
       "    function showError(err) {\n",
       "      outputDiv.innerHTML = `<div class=\"error\" style=\"color:red;\">${err}</div>`;\n",
       "      throw err;\n",
       "    }\n",
       "\n",
       "    function displayChart(vegaEmbed) {\n",
       "      vegaEmbed(outputDiv, spec, embedOpt)\n",
       "        .catch(err => showError(`Javascript Error: ${err.message}<br>This usually means there's a typo in your chart specification. See the javascript console for the full traceback.`));\n",
       "    }\n",
       "\n",
       "    if(typeof define === \"function\" && define.amd) {\n",
       "      requirejs.config({paths});\n",
       "      require([\"vega-embed\"], displayChart, err => showError(`Error loading script: ${err.message}`));\n",
       "    } else if (typeof vegaEmbed === \"function\") {\n",
       "      displayChart(vegaEmbed);\n",
       "    } else {\n",
       "      loadScript(\"vega\")\n",
       "        .then(() => loadScript(\"vega-lite\"))\n",
       "        .then(() => loadScript(\"vega-embed\"))\n",
       "        .catch(showError)\n",
       "        .then(() => displayChart(vegaEmbed));\n",
       "    }\n",
       "  })({\"config\": {\"view\": {\"continuousWidth\": 400, \"continuousHeight\": 300}}, \"layer\": [{\"layer\": [{\"data\": {\"name\": \"data-af4769beeeee7fbd3b9dcf8e44483056\"}, \"mark\": {\"type\": \"line\", \"clip\": true}, \"encoding\": {\"color\": {\"condition\": {\"type\": \"nominal\", \"field\": \"Name\", \"selection\": \"INT2\"}, \"value\": \"lightgray\"}, \"order\": {\"type\": \"quantitative\", \"field\": \"arith_intens\"}, \"x\": {\"type\": \"quantitative\", \"field\": \"arith_intens\", \"scale\": {\"domain\": [0.1, 160000], \"type\": \"log\"}, \"title\": \"ARITHMETIC INTENSITY (OPS/BYTE)\"}, \"y\": {\"type\": \"quantitative\", \"field\": \"performance\", \"scale\": {\"domain\": [0.2, 40], \"type\": \"log\"}, \"title\": \"PERFORMANCE (TOPS/S)\"}}, \"height\": 500, \"selection\": {\"INT2\": {\"type\": \"single\", \"fields\": [\"Hide\"], \"bind\": {\"input\": \"checkbox\"}}}, \"title\": \"Comparing Hardware Platforms Rooflines and Neural Networks Arithmetic Intensity\", \"width\": 700}, {\"data\": {\"name\": \"data-c5795626d7ffc4d9c3951a9ed5512240\"}, \"mark\": {\"type\": \"line\", \"clip\": true}, \"encoding\": {\"color\": {\"condition\": {\"type\": \"nominal\", \"field\": \"Name\", \"selection\": \"INT4\"}, \"value\": \"lightgray\"}, \"order\": {\"type\": \"quantitative\", \"field\": \"arith_intens\"}, \"x\": {\"type\": \"quantitative\", \"field\": \"arith_intens\", \"scale\": {\"domain\": [0.1, 160000], \"type\": \"log\"}, \"title\": \"ARITHMETIC INTENSITY (OPS/BYTE)\"}, \"y\": {\"type\": \"quantitative\", \"field\": \"performance\", \"scale\": {\"domain\": [0.2, 40], \"type\": \"log\"}, \"title\": \"PERFORMANCE (TOPS/S)\"}}, \"height\": 500, \"selection\": {\"INT4\": {\"type\": \"single\", \"fields\": [\"Hide\"], \"bind\": {\"input\": \"checkbox\"}}}, \"title\": \"Comparing Hardware Platforms Rooflines and Neural Networks Arithmetic Intensity\", \"width\": 700}, {\"data\": {\"name\": \"data-6bb036f5743beba85cd1e0ad0f04b3fe\"}, \"mark\": {\"type\": \"line\", \"clip\": true}, \"encoding\": {\"color\": {\"condition\": {\"type\": \"nominal\", \"field\": \"Name\", \"selection\": \"INT8\"}, \"value\": \"lightgray\"}, \"order\": {\"type\": \"quantitative\", \"field\": \"arith_intens\"}, \"x\": {\"type\": \"quantitative\", \"field\": \"arith_intens\", \"scale\": {\"domain\": [0.1, 160000], \"type\": \"log\"}, \"title\": \"ARITHMETIC INTENSITY (OPS/BYTE)\"}, \"y\": {\"type\": \"quantitative\", \"field\": \"performance\", \"scale\": {\"domain\": [0.2, 40], \"type\": \"log\"}, \"title\": \"PERFORMANCE (TOPS/S)\"}}, \"height\": 500, \"selection\": {\"INT8\": {\"type\": \"single\", \"fields\": [\"Hide\"], \"bind\": {\"input\": \"checkbox\"}}}, \"title\": \"Comparing Hardware Platforms Rooflines and Neural Networks Arithmetic Intensity\", \"width\": 700}, {\"data\": {\"name\": \"data-02613aa67cca17af4af7d1b502d4b514\"}, \"mark\": {\"type\": \"line\", \"clip\": true}, \"encoding\": {\"color\": {\"condition\": {\"type\": \"nominal\", \"field\": \"Name\", \"selection\": \"FP16\"}, \"value\": \"lightgray\"}, \"order\": {\"type\": \"quantitative\", \"field\": \"arith_intens\"}, \"x\": {\"type\": \"quantitative\", \"field\": \"arith_intens\", \"scale\": {\"domain\": [0.1, 160000], \"type\": \"log\"}, \"title\": \"ARITHMETIC INTENSITY (OPS/BYTE)\"}, \"y\": {\"type\": \"quantitative\", \"field\": \"performance\", \"scale\": {\"domain\": [0.2, 40], \"type\": \"log\"}, \"title\": \"PERFORMANCE (TOPS/S)\"}}, \"height\": 500, \"selection\": {\"FP16\": {\"type\": \"single\", \"fields\": [\"Hide\"], \"bind\": {\"input\": \"checkbox\"}}}, \"title\": \"Comparing Hardware Platforms Rooflines and Neural Networks Arithmetic Intensity\", \"width\": 700}, {\"data\": {\"name\": \"data-12ec10a0813a34f2753263c5fb73bf4b\"}, \"mark\": {\"type\": \"line\", \"clip\": true}, \"encoding\": {\"color\": {\"condition\": {\"type\": \"nominal\", \"field\": \"Name\", \"selection\": \"FP32\"}, \"value\": \"lightgray\"}, \"order\": {\"type\": \"quantitative\", \"field\": \"arith_intens\"}, \"x\": {\"type\": \"quantitative\", \"field\": \"arith_intens\", \"scale\": {\"domain\": [0.1, 160000], \"type\": \"log\"}, \"title\": \"ARITHMETIC INTENSITY (OPS/BYTE)\"}, \"y\": {\"type\": \"quantitative\", \"field\": \"performance\", \"scale\": {\"domain\": [0.2, 40], \"type\": \"log\"}, \"title\": \"PERFORMANCE (TOPS/S)\"}}, \"height\": 500, \"selection\": {\"FP32\": {\"type\": \"single\", \"fields\": [\"Hide\"], \"bind\": {\"input\": \"checkbox\"}}}, \"title\": \"Comparing Hardware Platforms Rooflines and Neural Networks Arithmetic Intensity\", \"width\": 700}, {\"data\": {\"name\": \"data-5552f4bc2ea0b8077236233d9362be7f\"}, \"mark\": {\"type\": \"line\", \"clip\": true}, \"encoding\": {\"color\": {\"condition\": {\"type\": \"nominal\", \"field\": \"Name\", \"selection\": \"FPGAs  Ultra96  DPU  ZCU  \"}, \"value\": \"lightgray\"}, \"order\": {\"type\": \"quantitative\", \"field\": \"arith_intens\"}, \"x\": {\"type\": \"quantitative\", \"field\": \"arith_intens\", \"scale\": {\"domain\": [0.1, 160000], \"type\": \"log\"}, \"title\": \"ARITHMETIC INTENSITY (OPS/BYTE)\"}, \"y\": {\"type\": \"quantitative\", \"field\": \"performance\", \"scale\": {\"domain\": [0.2, 40], \"type\": \"log\"}, \"title\": \"PERFORMANCE (TOPS/S)\"}}, \"height\": 500, \"selection\": {\"FPGAs  Ultra96  DPU  ZCU  \": {\"type\": \"single\", \"fields\": [\"Hide\"], \"bind\": {\"input\": \"checkbox\"}}}, \"title\": \"Comparing Hardware Platforms Rooflines and Neural Networks Arithmetic Intensity\", \"width\": 700}, {\"data\": {\"name\": \"data-59f79b70ac26650ee16fb33e419a4cdd\"}, \"mark\": {\"type\": \"line\", \"clip\": true}, \"encoding\": {\"color\": {\"condition\": {\"type\": \"nominal\", \"field\": \"Name\", \"selection\": \"INVIDIA  TX2  maxn, maxp, maxq  \"}, \"value\": \"lightgray\"}, \"order\": {\"type\": \"quantitative\", \"field\": \"arith_intens\"}, \"x\": {\"type\": \"quantitative\", \"field\": \"arith_intens\", \"scale\": {\"domain\": [0.1, 160000], \"type\": \"log\"}, \"title\": \"ARITHMETIC INTENSITY (OPS/BYTE)\"}, \"y\": {\"type\": \"quantitative\", \"field\": \"performance\", \"scale\": {\"domain\": [0.2, 40], \"type\": \"log\"}, \"title\": \"PERFORMANCE (TOPS/S)\"}}, \"height\": 500, \"selection\": {\"INVIDIA  TX2  maxn, maxp, maxq  \": {\"type\": \"single\", \"fields\": [\"Hide\"], \"bind\": {\"input\": \"checkbox\"}}}, \"title\": \"Comparing Hardware Platforms Rooflines and Neural Networks Arithmetic Intensity\", \"width\": 700}, {\"data\": {\"name\": \"data-92df3446d2c065332553eb9ffb7dae17\"}, \"mark\": {\"type\": \"line\", \"clip\": true}, \"encoding\": {\"color\": {\"condition\": {\"type\": \"nominal\", \"field\": \"Name\", \"selection\": \"GOOGLE  EdgeTPU, fast, slow  \"}, \"value\": \"lightgray\"}, \"order\": {\"type\": \"quantitative\", \"field\": \"arith_intens\"}, \"x\": {\"type\": \"quantitative\", \"field\": \"arith_intens\", \"scale\": {\"domain\": [0.1, 160000], \"type\": \"log\"}, \"title\": \"ARITHMETIC INTENSITY (OPS/BYTE)\"}, \"y\": {\"type\": \"quantitative\", \"field\": \"performance\", \"scale\": {\"domain\": [0.2, 40], \"type\": \"log\"}, \"title\": \"PERFORMANCE (TOPS/S)\"}}, \"height\": 500, \"selection\": {\"GOOGLE  EdgeTPU, fast, slow  \": {\"type\": \"single\", \"fields\": [\"Hide\"], \"bind\": {\"input\": \"checkbox\"}}}, \"title\": \"Comparing Hardware Platforms Rooflines and Neural Networks Arithmetic Intensity\", \"width\": 700}, {\"data\": {\"name\": \"data-3745a47dbf1f6c5f2af65983be61a8e2\"}, \"mark\": {\"type\": \"line\", \"clip\": true}, \"encoding\": {\"color\": {\"condition\": {\"type\": \"nominal\", \"field\": \"Name\", \"selection\": \"INTEL  NCS  \"}, \"value\": \"lightgray\"}, \"order\": {\"type\": \"quantitative\", \"field\": \"arith_intens\"}, \"x\": {\"type\": \"quantitative\", \"field\": \"arith_intens\", \"scale\": {\"domain\": [0.1, 160000], \"type\": \"log\"}, \"title\": \"ARITHMETIC INTENSITY (OPS/BYTE)\"}, \"y\": {\"type\": \"quantitative\", \"field\": \"performance\", \"scale\": {\"domain\": [0.2, 40], \"type\": \"log\"}, \"title\": \"PERFORMANCE (TOPS/S)\"}}, \"height\": 500, \"selection\": {\"INTEL  NCS  \": {\"type\": \"single\", \"fields\": [\"Hide\"], \"bind\": {\"input\": \"checkbox\"}}}, \"title\": \"Comparing Hardware Platforms Rooflines and Neural Networks Arithmetic Intensity\", \"width\": 700}]}, {\"mark\": {\"type\": \"point\", \"clip\": true}, \"encoding\": {\"opacity\": {\"value\": 0}, \"x\": {\"type\": \"quantitative\", \"field\": \"arith_intens\"}, \"y\": {\"type\": \"quantitative\", \"field\": \"performance\"}}, \"selection\": {\"selector004\": {\"type\": \"single\", \"nearest\": true, \"on\": \"mouseover\", \"fields\": [\"arith_intens\"]}}}, {\"mark\": {\"type\": \"text\", \"align\": \"left\", \"clip\": true, \"dx\": 3, \"dy\": -3}, \"encoding\": {\"color\": {\"type\": \"nominal\", \"field\": \"Name\", \"legend\": {\"columns\": 2}}, \"text\": {\"condition\": {\"type\": \"nominal\", \"field\": \"Name\", \"selection\": \"selector004\"}, \"value\": \" \"}, \"x\": {\"type\": \"quantitative\", \"field\": \"arith_intens\"}, \"y\": {\"type\": \"quantitative\", \"field\": \"performance\"}}, \"selection\": {\"selector003\": {\"type\": \"interval\", \"bind\": \"scales\", \"encodings\": [\"x\", \"y\"]}}}], \"data\": {\"name\": \"data-9b5577c85c6dcc1f3ea6557afee93fbe\"}, \"height\": 500, \"width\": 700, \"$schema\": \"https://vega.github.io/schema/vega-lite/v4.0.2.json\", \"datasets\": {\"data-9b5577c85c6dcc1f3ea6557afee93fbe\": [{\"Name\": \"GoogLeNetv1 INT2\", \"arith_intens\": \"2093.97\", \"performance\": 30.0}, {\"Name\": \"MobileNetv1 INT2\", \"arith_intens\": \"1075.47\", \"performance\": 30.0}, {\"Name\": \"ResNet-50 100% INT2\", \"arith_intens\": \"1210.84\", \"performance\": 30.0}, {\"Name\": \"ResNet-50 80% INT2\", \"arith_intens\": \"1086.59\", \"performance\": 30.0}, {\"Name\": \"ResNet-50 50% INT2\", \"arith_intens\": \"949.85\", \"performance\": 30.0}, {\"Name\": \"ResNet-50 30% INT2\", \"arith_intens\": \"970.16\", \"performance\": 30.0}, {\"Name\": \"EfficientNet Edge S INT2\", \"arith_intens\": \"3481.48\", \"performance\": 30.0}, {\"Name\": \"EfficientNet Edge M INT2\", \"arith_intens\": \"4289.86\", \"performance\": 30.0}, {\"Name\": \"EfficientNet Edge L INT2\", \"arith_intens\": \"7313.21\", \"performance\": 30.0}, {\"Name\": \"CNV 100% INT2\", \"arith_intens\": \"304.95\", \"performance\": 30.0}, {\"Name\": \"CNV 50% INT2\", \"arith_intens\": \"308.32\", \"performance\": 30.0}, {\"Name\": \"CNV 25% INT2\", \"arith_intens\": \"315.01\", \"performance\": 30.0}, {\"Name\": \"CNV 12.5% INT2\", \"arith_intens\": \"332.61\", \"performance\": 30.0}, {\"Name\": \"MLP* INT2\", \"arith_intens\": \"8\", \"performance\": 30.0}, {\"Name\": \"GoogLeNetv1 INT4\", \"arith_intens\": \"1046.99\", \"performance\": 30.0}, {\"Name\": \"MobileNetv1 INT4\", \"arith_intens\": \"537.74\", \"performance\": 30.0}, {\"Name\": \"ResNet-50 100% INT4\", \"arith_intens\": \"605.42\", \"performance\": 30.0}, {\"Name\": \"ResNet-50 80% INT4\", \"arith_intens\": \"543.3\", \"performance\": 30.0}, {\"Name\": \"ResNet-50 50% INT4\", \"arith_intens\": \"474.93\", \"performance\": 30.0}, {\"Name\": \"ResNet-50 30% INT4\", \"arith_intens\": \"485.08\", \"performance\": 30.0}, {\"Name\": \"EfficientNet Edge S INT4\", \"arith_intens\": \"1740.74\", \"performance\": 30.0}, {\"Name\": \"EfficientNet Edge M INT4\", \"arith_intens\": \"2144.93\", \"performance\": 30.0}, {\"Name\": \"EfficientNet Edge L INT4\", \"arith_intens\": \"3656.6\", \"performance\": 30.0}, {\"Name\": \"CNV 100% INT4\", \"arith_intens\": \"152.48\", \"performance\": 30.0}, {\"Name\": \"CNV 50% INT4\", \"arith_intens\": \"154.16\", \"performance\": 30.0}, {\"Name\": \"CNV 25% INT4\", \"arith_intens\": \"157.51\", \"performance\": 30.0}, {\"Name\": \"CNV 12.5% INT4\", \"arith_intens\": \"166.3\", \"performance\": 30.0}, {\"Name\": \"MLP* INT4\", \"arith_intens\": \"4\", \"performance\": 30.0}, {\"Name\": \"GoogLeNetv1 INT8\", \"arith_intens\": \"523.49\", \"performance\": 30.0}, {\"Name\": \"MobileNetv1 INT8\", \"arith_intens\": \"268.87\", \"performance\": 30.0}, {\"Name\": \"ResNet-50 100% INT8\", \"arith_intens\": \"302.71\", \"performance\": 30.0}, {\"Name\": \"ResNet-50 80% INT8\", \"arith_intens\": \"271.65\", \"performance\": 30.0}, {\"Name\": \"ResNet-50 50% INT8\", \"arith_intens\": \"237.46\", \"performance\": 30.0}, {\"Name\": \"ResNet-50 30% INT8\", \"arith_intens\": \"242.54\", \"performance\": 30.0}, {\"Name\": \"EfficientNet Edge S INT8\", \"arith_intens\": \"870.37\", \"performance\": 30.0}, {\"Name\": \"EfficientNet Edge M INT8\", \"arith_intens\": \"1072.46\", \"performance\": 30.0}, {\"Name\": \"EfficientNet Edge L INT8\", \"arith_intens\": \"1828.3\", \"performance\": 30.0}, {\"Name\": \"CNV 100% INT8\", \"arith_intens\": \"76.24\", \"performance\": 30.0}, {\"Name\": \"CNV 50% INT8\", \"arith_intens\": \"77.08\", \"performance\": 30.0}, {\"Name\": \"CNV 25% INT8\", \"arith_intens\": \"78.75\", \"performance\": 30.0}, {\"Name\": \"CNV 12.5% INT8\", \"arith_intens\": \"83.15\", \"performance\": 30.0}, {\"Name\": \"MLP* INT8\", \"arith_intens\": \"2\", \"performance\": 30.0}, {\"Name\": \"GoogLeNetv1 FP16\", \"arith_intens\": \"261.75\", \"performance\": 30.0}, {\"Name\": \"MobileNetv1 FP16\", \"arith_intens\": \"134.43\", \"performance\": 30.0}, {\"Name\": \"ResNet-50 100% FP16\", \"arith_intens\": \"151.36\", \"performance\": 30.0}, {\"Name\": \"ResNet-50 80% FP16\", \"arith_intens\": \"135.82\", \"performance\": 30.0}, {\"Name\": \"ResNet-50 50% FP16\", \"arith_intens\": \"118.73\", \"performance\": 30.0}, {\"Name\": \"ResNet-50 30% FP16\", \"arith_intens\": \"121.27\", \"performance\": 30.0}, {\"Name\": \"EfficientNet Edge S FP16\", \"arith_intens\": \"435.18\", \"performance\": 30.0}, {\"Name\": \"EfficientNet Edge M FP16\", \"arith_intens\": \"536.23\", \"performance\": 30.0}, {\"Name\": \"EfficientNet Edge L FP16\", \"arith_intens\": \"914.15\", \"performance\": 30.0}, {\"Name\": \"CNV 100% FP16\", \"arith_intens\": \"38.12\", \"performance\": 30.0}, {\"Name\": \"CNV 50% FP16\", \"arith_intens\": \"38.54\", \"performance\": 30.0}, {\"Name\": \"CNV 25% FP16\", \"arith_intens\": \"39.38\", \"performance\": 30.0}, {\"Name\": \"CNV 12.5% FP16\", \"arith_intens\": \"41.58\", \"performance\": 30.0}, {\"Name\": \"MLP* FP16\", \"arith_intens\": \"1\", \"performance\": 30.0}, {\"Name\": \"GoogLeNetv1 FP32\", \"arith_intens\": \"130.87\", \"performance\": 30.0}, {\"Name\": \"MobileNetv1 FP32\", \"arith_intens\": \"67.22\", \"performance\": 30.0}, {\"Name\": \"ResNet-50 100% FP32\", \"arith_intens\": \"75.68\", \"performance\": 30.0}, {\"Name\": \"ResNet-50 80% FP32\", \"arith_intens\": \"67.91\", \"performance\": 30.0}, {\"Name\": \"ResNet-50 50% FP32\", \"arith_intens\": \"59.37\", \"performance\": 30.0}, {\"Name\": \"ResNet-50 30% FP32\", \"arith_intens\": \"60.64\", \"performance\": 30.0}, {\"Name\": \"EfficientNet Edge S FP32\", \"arith_intens\": \"217.59\", \"performance\": 30.0}, {\"Name\": \"EfficientNet Edge M FP32\", \"arith_intens\": \"268.12\", \"performance\": 30.0}, {\"Name\": \"EfficientNet Edge L FP32\", \"arith_intens\": \"457.08\", \"performance\": 30.0}, {\"Name\": \"CNV 100% FP32\", \"arith_intens\": \"19.06\", \"performance\": 30.0}, {\"Name\": \"CNV 50% FP32\", \"arith_intens\": \"19.27\", \"performance\": 30.0}, {\"Name\": \"CNV 25% FP32\", \"arith_intens\": \"19.69\", \"performance\": 30.0}, {\"Name\": \"CNV 12.5% FP32\", \"arith_intens\": \"20.79\", \"performance\": 30.0}, {\"Name\": \"MLP* FP32\", \"arith_intens\": \"0.5\", \"performance\": 30.0}, {\"Name\": \"GoogLeNetv1 INT2\", \"arith_intens\": \"2093.97\", \"performance\": 1.0}, {\"Name\": \"MobileNetv1 INT2\", \"arith_intens\": \"1075.47\", \"performance\": 1.0}, {\"Name\": \"ResNet-50 100% INT2\", \"arith_intens\": \"1210.84\", \"performance\": 1.0}, {\"Name\": \"ResNet-50 80% INT2\", \"arith_intens\": \"1086.59\", \"performance\": 1.0}, {\"Name\": \"ResNet-50 50% INT2\", \"arith_intens\": \"949.85\", \"performance\": 1.0}, {\"Name\": \"ResNet-50 30% INT2\", \"arith_intens\": \"970.16\", \"performance\": 1.0}, {\"Name\": \"EfficientNet Edge S INT2\", \"arith_intens\": \"3481.48\", \"performance\": 1.0}, {\"Name\": \"EfficientNet Edge M INT2\", \"arith_intens\": \"4289.86\", \"performance\": 1.0}, {\"Name\": \"EfficientNet Edge L INT2\", \"arith_intens\": \"7313.21\", \"performance\": 1.0}, {\"Name\": \"CNV 100% INT2\", \"arith_intens\": \"304.95\", \"performance\": 1.0}, {\"Name\": \"CNV 50% INT2\", \"arith_intens\": \"308.32\", \"performance\": 1.0}, {\"Name\": \"CNV 25% INT2\", \"arith_intens\": \"315.01\", \"performance\": 1.0}, {\"Name\": \"CNV 12.5% INT2\", \"arith_intens\": \"332.61\", \"performance\": 1.0}, {\"Name\": \"MLP* INT2\", \"arith_intens\": \"8\", \"performance\": 1.0}, {\"Name\": \"GoogLeNetv1 INT4\", \"arith_intens\": \"1046.99\", \"performance\": 1.0}, {\"Name\": \"MobileNetv1 INT4\", \"arith_intens\": \"537.74\", \"performance\": 1.0}, {\"Name\": \"ResNet-50 100% INT4\", \"arith_intens\": \"605.42\", \"performance\": 1.0}, {\"Name\": \"ResNet-50 80% INT4\", \"arith_intens\": \"543.3\", \"performance\": 1.0}, {\"Name\": \"ResNet-50 50% INT4\", \"arith_intens\": \"474.93\", \"performance\": 1.0}, {\"Name\": \"ResNet-50 30% INT4\", \"arith_intens\": \"485.08\", \"performance\": 1.0}, {\"Name\": \"EfficientNet Edge S INT4\", \"arith_intens\": \"1740.74\", \"performance\": 1.0}, {\"Name\": \"EfficientNet Edge M INT4\", \"arith_intens\": \"2144.93\", \"performance\": 1.0}, {\"Name\": \"EfficientNet Edge L INT4\", \"arith_intens\": \"3656.6\", \"performance\": 1.0}, {\"Name\": \"CNV 100% INT4\", \"arith_intens\": \"152.48\", \"performance\": 1.0}, {\"Name\": \"CNV 50% INT4\", \"arith_intens\": \"154.16\", \"performance\": 1.0}, {\"Name\": \"CNV 25% INT4\", \"arith_intens\": \"157.51\", \"performance\": 1.0}, {\"Name\": \"CNV 12.5% INT4\", \"arith_intens\": \"166.3\", \"performance\": 1.0}, {\"Name\": \"MLP* INT4\", \"arith_intens\": \"4\", \"performance\": 1.0}, {\"Name\": \"GoogLeNetv1 INT8\", \"arith_intens\": \"523.49\", \"performance\": 1.0}, {\"Name\": \"MobileNetv1 INT8\", \"arith_intens\": \"268.87\", \"performance\": 1.0}, {\"Name\": \"ResNet-50 100% INT8\", \"arith_intens\": \"302.71\", \"performance\": 1.0}, {\"Name\": \"ResNet-50 80% INT8\", \"arith_intens\": \"271.65\", \"performance\": 1.0}, {\"Name\": \"ResNet-50 50% INT8\", \"arith_intens\": \"237.46\", \"performance\": 1.0}, {\"Name\": \"ResNet-50 30% INT8\", \"arith_intens\": \"242.54\", \"performance\": 1.0}, {\"Name\": \"EfficientNet Edge S INT8\", \"arith_intens\": \"870.37\", \"performance\": 1.0}, {\"Name\": \"EfficientNet Edge M INT8\", \"arith_intens\": \"1072.46\", \"performance\": 1.0}, {\"Name\": \"EfficientNet Edge L INT8\", \"arith_intens\": \"1828.3\", \"performance\": 1.0}, {\"Name\": \"CNV 100% INT8\", \"arith_intens\": \"76.24\", \"performance\": 1.0}, {\"Name\": \"CNV 50% INT8\", \"arith_intens\": \"77.08\", \"performance\": 1.0}, {\"Name\": \"CNV 25% INT8\", \"arith_intens\": \"78.75\", \"performance\": 1.0}, {\"Name\": \"CNV 12.5% INT8\", \"arith_intens\": \"83.15\", \"performance\": 1.0}, {\"Name\": \"MLP* INT8\", \"arith_intens\": \"2\", \"performance\": 1.0}, {\"Name\": \"GoogLeNetv1 FP16\", \"arith_intens\": \"261.75\", \"performance\": 1.0}, {\"Name\": \"MobileNetv1 FP16\", \"arith_intens\": \"134.43\", \"performance\": 1.0}, {\"Name\": \"ResNet-50 100% FP16\", \"arith_intens\": \"151.36\", \"performance\": 1.0}, {\"Name\": \"ResNet-50 80% FP16\", \"arith_intens\": \"135.82\", \"performance\": 1.0}, {\"Name\": \"ResNet-50 50% FP16\", \"arith_intens\": \"118.73\", \"performance\": 1.0}, {\"Name\": \"ResNet-50 30% FP16\", \"arith_intens\": \"121.27\", \"performance\": 1.0}, {\"Name\": \"EfficientNet Edge S FP16\", \"arith_intens\": \"435.18\", \"performance\": 1.0}, {\"Name\": \"EfficientNet Edge M FP16\", \"arith_intens\": \"536.23\", \"performance\": 1.0}, {\"Name\": \"EfficientNet Edge L FP16\", \"arith_intens\": \"914.15\", \"performance\": 1.0}, {\"Name\": \"CNV 100% FP16\", \"arith_intens\": \"38.12\", \"performance\": 1.0}, {\"Name\": \"CNV 50% FP16\", \"arith_intens\": \"38.54\", \"performance\": 1.0}, {\"Name\": \"CNV 25% FP16\", \"arith_intens\": \"39.38\", \"performance\": 1.0}, {\"Name\": \"CNV 12.5% FP16\", \"arith_intens\": \"41.58\", \"performance\": 1.0}, {\"Name\": \"MLP* FP16\", \"arith_intens\": \"1\", \"performance\": 1.0}, {\"Name\": \"GoogLeNetv1 FP32\", \"arith_intens\": \"130.87\", \"performance\": 1.0}, {\"Name\": \"MobileNetv1 FP32\", \"arith_intens\": \"67.22\", \"performance\": 1.0}, {\"Name\": \"ResNet-50 100% FP32\", \"arith_intens\": \"75.68\", \"performance\": 1.0}, {\"Name\": \"ResNet-50 80% FP32\", \"arith_intens\": \"67.91\", \"performance\": 1.0}, {\"Name\": \"ResNet-50 50% FP32\", \"arith_intens\": \"59.37\", \"performance\": 1.0}, {\"Name\": \"ResNet-50 30% FP32\", \"arith_intens\": \"60.64\", \"performance\": 1.0}, {\"Name\": \"EfficientNet Edge S FP32\", \"arith_intens\": \"217.59\", \"performance\": 1.0}, {\"Name\": \"EfficientNet Edge M FP32\", \"arith_intens\": \"268.12\", \"performance\": 1.0}, {\"Name\": \"EfficientNet Edge L FP32\", \"arith_intens\": \"457.08\", \"performance\": 1.0}, {\"Name\": \"CNV 100% FP32\", \"arith_intens\": \"19.06\", \"performance\": 1.0}, {\"Name\": \"CNV 50% FP32\", \"arith_intens\": \"19.27\", \"performance\": 1.0}, {\"Name\": \"CNV 25% FP32\", \"arith_intens\": \"19.69\", \"performance\": 1.0}, {\"Name\": \"CNV 12.5% FP32\", \"arith_intens\": \"20.79\", \"performance\": 1.0}, {\"Name\": \"MLP* FP32\", \"arith_intens\": \"0.5\", \"performance\": 1.0}, {\"Name\": \"GoogLeNetv1 INT2\", \"arith_intens\": \"2093.97\", \"performance\": 10.0}, {\"Name\": \"MobileNetv1 INT2\", \"arith_intens\": \"1075.47\", \"performance\": 10.0}, {\"Name\": \"ResNet-50 100% INT2\", \"arith_intens\": \"1210.84\", \"performance\": 10.0}, {\"Name\": \"ResNet-50 80% INT2\", \"arith_intens\": \"1086.59\", \"performance\": 10.0}, {\"Name\": \"ResNet-50 50% INT2\", \"arith_intens\": \"949.85\", \"performance\": 10.0}, {\"Name\": \"ResNet-50 30% INT2\", \"arith_intens\": \"970.16\", \"performance\": 10.0}, {\"Name\": \"EfficientNet Edge S INT2\", \"arith_intens\": \"3481.48\", \"performance\": 10.0}, {\"Name\": \"EfficientNet Edge M INT2\", \"arith_intens\": \"4289.86\", \"performance\": 10.0}, {\"Name\": \"EfficientNet Edge L INT2\", \"arith_intens\": \"7313.21\", \"performance\": 10.0}, {\"Name\": \"CNV 100% INT2\", \"arith_intens\": \"304.95\", \"performance\": 10.0}, {\"Name\": \"CNV 50% INT2\", \"arith_intens\": \"308.32\", \"performance\": 10.0}, {\"Name\": \"CNV 25% INT2\", \"arith_intens\": \"315.01\", \"performance\": 10.0}, {\"Name\": \"CNV 12.5% INT2\", \"arith_intens\": \"332.61\", \"performance\": 10.0}, {\"Name\": \"MLP* INT2\", \"arith_intens\": \"8\", \"performance\": 10.0}, {\"Name\": \"GoogLeNetv1 INT4\", \"arith_intens\": \"1046.99\", \"performance\": 10.0}, {\"Name\": \"MobileNetv1 INT4\", \"arith_intens\": \"537.74\", \"performance\": 10.0}, {\"Name\": \"ResNet-50 100% INT4\", \"arith_intens\": \"605.42\", \"performance\": 10.0}, {\"Name\": \"ResNet-50 80% INT4\", \"arith_intens\": \"543.3\", \"performance\": 10.0}, {\"Name\": \"ResNet-50 50% INT4\", \"arith_intens\": \"474.93\", \"performance\": 10.0}, {\"Name\": \"ResNet-50 30% INT4\", \"arith_intens\": \"485.08\", \"performance\": 10.0}, {\"Name\": \"EfficientNet Edge S INT4\", \"arith_intens\": \"1740.74\", \"performance\": 10.0}, {\"Name\": \"EfficientNet Edge M INT4\", \"arith_intens\": \"2144.93\", \"performance\": 10.0}, {\"Name\": \"EfficientNet Edge L INT4\", \"arith_intens\": \"3656.6\", \"performance\": 10.0}, {\"Name\": \"CNV 100% INT4\", \"arith_intens\": \"152.48\", \"performance\": 10.0}, {\"Name\": \"CNV 50% INT4\", \"arith_intens\": \"154.16\", \"performance\": 10.0}, {\"Name\": \"CNV 25% INT4\", \"arith_intens\": \"157.51\", \"performance\": 10.0}, {\"Name\": \"CNV 12.5% INT4\", \"arith_intens\": \"166.3\", \"performance\": 10.0}, {\"Name\": \"MLP* INT4\", \"arith_intens\": \"4\", \"performance\": 10.0}, {\"Name\": \"GoogLeNetv1 INT8\", \"arith_intens\": \"523.49\", \"performance\": 10.0}, {\"Name\": \"MobileNetv1 INT8\", \"arith_intens\": \"268.87\", \"performance\": 10.0}, {\"Name\": \"ResNet-50 100% INT8\", \"arith_intens\": \"302.71\", \"performance\": 10.0}, {\"Name\": \"ResNet-50 80% INT8\", \"arith_intens\": \"271.65\", \"performance\": 10.0}, {\"Name\": \"ResNet-50 50% INT8\", \"arith_intens\": \"237.46\", \"performance\": 10.0}, {\"Name\": \"ResNet-50 30% INT8\", \"arith_intens\": \"242.54\", \"performance\": 10.0}, {\"Name\": \"EfficientNet Edge S INT8\", \"arith_intens\": \"870.37\", \"performance\": 10.0}, {\"Name\": \"EfficientNet Edge M INT8\", \"arith_intens\": \"1072.46\", \"performance\": 10.0}, {\"Name\": \"EfficientNet Edge L INT8\", \"arith_intens\": \"1828.3\", \"performance\": 10.0}, {\"Name\": \"CNV 100% INT8\", \"arith_intens\": \"76.24\", \"performance\": 10.0}, {\"Name\": \"CNV 50% INT8\", \"arith_intens\": \"77.08\", \"performance\": 10.0}, {\"Name\": \"CNV 25% INT8\", \"arith_intens\": \"78.75\", \"performance\": 10.0}, {\"Name\": \"CNV 12.5% INT8\", \"arith_intens\": \"83.15\", \"performance\": 10.0}, {\"Name\": \"MLP* INT8\", \"arith_intens\": \"2\", \"performance\": 10.0}, {\"Name\": \"GoogLeNetv1 FP16\", \"arith_intens\": \"261.75\", \"performance\": 10.0}, {\"Name\": \"MobileNetv1 FP16\", \"arith_intens\": \"134.43\", \"performance\": 10.0}, {\"Name\": \"ResNet-50 100% FP16\", \"arith_intens\": \"151.36\", \"performance\": 10.0}, {\"Name\": \"ResNet-50 80% FP16\", \"arith_intens\": \"135.82\", \"performance\": 10.0}, {\"Name\": \"ResNet-50 50% FP16\", \"arith_intens\": \"118.73\", \"performance\": 10.0}, {\"Name\": \"ResNet-50 30% FP16\", \"arith_intens\": \"121.27\", \"performance\": 10.0}, {\"Name\": \"EfficientNet Edge S FP16\", \"arith_intens\": \"435.18\", \"performance\": 10.0}, {\"Name\": \"EfficientNet Edge M FP16\", \"arith_intens\": \"536.23\", \"performance\": 10.0}, {\"Name\": \"EfficientNet Edge L FP16\", \"arith_intens\": \"914.15\", \"performance\": 10.0}, {\"Name\": \"CNV 100% FP16\", \"arith_intens\": \"38.12\", \"performance\": 10.0}, {\"Name\": \"CNV 50% FP16\", \"arith_intens\": \"38.54\", \"performance\": 10.0}, {\"Name\": \"CNV 25% FP16\", \"arith_intens\": \"39.38\", \"performance\": 10.0}, {\"Name\": \"CNV 12.5% FP16\", \"arith_intens\": \"41.58\", \"performance\": 10.0}, {\"Name\": \"MLP* FP16\", \"arith_intens\": \"1\", \"performance\": 10.0}, {\"Name\": \"GoogLeNetv1 FP32\", \"arith_intens\": \"130.87\", \"performance\": 10.0}, {\"Name\": \"MobileNetv1 FP32\", \"arith_intens\": \"67.22\", \"performance\": 10.0}, {\"Name\": \"ResNet-50 100% FP32\", \"arith_intens\": \"75.68\", \"performance\": 10.0}, {\"Name\": \"ResNet-50 80% FP32\", \"arith_intens\": \"67.91\", \"performance\": 10.0}, {\"Name\": \"ResNet-50 50% FP32\", \"arith_intens\": \"59.37\", \"performance\": 10.0}, {\"Name\": \"ResNet-50 30% FP32\", \"arith_intens\": \"60.64\", \"performance\": 10.0}, {\"Name\": \"EfficientNet Edge S FP32\", \"arith_intens\": \"217.59\", \"performance\": 10.0}, {\"Name\": \"EfficientNet Edge M FP32\", \"arith_intens\": \"268.12\", \"performance\": 10.0}, {\"Name\": \"EfficientNet Edge L FP32\", \"arith_intens\": \"457.08\", \"performance\": 10.0}, {\"Name\": \"CNV 100% FP32\", \"arith_intens\": \"19.06\", \"performance\": 10.0}, {\"Name\": \"CNV 50% FP32\", \"arith_intens\": \"19.27\", \"performance\": 10.0}, {\"Name\": \"CNV 25% FP32\", \"arith_intens\": \"19.69\", \"performance\": 10.0}, {\"Name\": \"CNV 12.5% FP32\", \"arith_intens\": \"20.79\", \"performance\": 10.0}, {\"Name\": \"MLP* FP32\", \"arith_intens\": \"0.5\", \"performance\": 10.0}, {\"Name\": \"GoogLeNetv1 INT2\", \"arith_intens\": \"2093.97\", \"performance\": 0.1}, {\"Name\": \"MobileNetv1 INT2\", \"arith_intens\": \"1075.47\", \"performance\": 0.1}, {\"Name\": \"ResNet-50 100% INT2\", \"arith_intens\": \"1210.84\", \"performance\": 0.1}, {\"Name\": \"ResNet-50 80% INT2\", \"arith_intens\": \"1086.59\", \"performance\": 0.1}, {\"Name\": \"ResNet-50 50% INT2\", \"arith_intens\": \"949.85\", \"performance\": 0.1}, {\"Name\": \"ResNet-50 30% INT2\", \"arith_intens\": \"970.16\", \"performance\": 0.1}, {\"Name\": \"EfficientNet Edge S INT2\", \"arith_intens\": \"3481.48\", \"performance\": 0.1}, {\"Name\": \"EfficientNet Edge M INT2\", \"arith_intens\": \"4289.86\", \"performance\": 0.1}, {\"Name\": \"EfficientNet Edge L INT2\", \"arith_intens\": \"7313.21\", \"performance\": 0.1}, {\"Name\": \"CNV 100% INT2\", \"arith_intens\": \"304.95\", \"performance\": 0.1}, {\"Name\": \"CNV 50% INT2\", \"arith_intens\": \"308.32\", \"performance\": 0.1}, {\"Name\": \"CNV 25% INT2\", \"arith_intens\": \"315.01\", \"performance\": 0.1}, {\"Name\": \"CNV 12.5% INT2\", \"arith_intens\": \"332.61\", \"performance\": 0.1}, {\"Name\": \"MLP* INT2\", \"arith_intens\": \"8\", \"performance\": 0.1}, {\"Name\": \"GoogLeNetv1 INT4\", \"arith_intens\": \"1046.99\", \"performance\": 0.1}, {\"Name\": \"MobileNetv1 INT4\", \"arith_intens\": \"537.74\", \"performance\": 0.1}, {\"Name\": \"ResNet-50 100% INT4\", \"arith_intens\": \"605.42\", \"performance\": 0.1}, {\"Name\": \"ResNet-50 80% INT4\", \"arith_intens\": \"543.3\", \"performance\": 0.1}, {\"Name\": \"ResNet-50 50% INT4\", \"arith_intens\": \"474.93\", \"performance\": 0.1}, {\"Name\": \"ResNet-50 30% INT4\", \"arith_intens\": \"485.08\", \"performance\": 0.1}, {\"Name\": \"EfficientNet Edge S INT4\", \"arith_intens\": \"1740.74\", \"performance\": 0.1}, {\"Name\": \"EfficientNet Edge M INT4\", \"arith_intens\": \"2144.93\", \"performance\": 0.1}, {\"Name\": \"EfficientNet Edge L INT4\", \"arith_intens\": \"3656.6\", \"performance\": 0.1}, {\"Name\": \"CNV 100% INT4\", \"arith_intens\": \"152.48\", \"performance\": 0.1}, {\"Name\": \"CNV 50% INT4\", \"arith_intens\": \"154.16\", \"performance\": 0.1}, {\"Name\": \"CNV 25% INT4\", \"arith_intens\": \"157.51\", \"performance\": 0.1}, {\"Name\": \"CNV 12.5% INT4\", \"arith_intens\": \"166.3\", \"performance\": 0.1}, {\"Name\": \"MLP* INT4\", \"arith_intens\": \"4\", \"performance\": 0.1}, {\"Name\": \"GoogLeNetv1 INT8\", \"arith_intens\": \"523.49\", \"performance\": 0.1}, {\"Name\": \"MobileNetv1 INT8\", \"arith_intens\": \"268.87\", \"performance\": 0.1}, {\"Name\": \"ResNet-50 100% INT8\", \"arith_intens\": \"302.71\", \"performance\": 0.1}, {\"Name\": \"ResNet-50 80% INT8\", \"arith_intens\": \"271.65\", \"performance\": 0.1}, {\"Name\": \"ResNet-50 50% INT8\", \"arith_intens\": \"237.46\", \"performance\": 0.1}, {\"Name\": \"ResNet-50 30% INT8\", \"arith_intens\": \"242.54\", \"performance\": 0.1}, {\"Name\": \"EfficientNet Edge S INT8\", \"arith_intens\": \"870.37\", \"performance\": 0.1}, {\"Name\": \"EfficientNet Edge M INT8\", \"arith_intens\": \"1072.46\", \"performance\": 0.1}, {\"Name\": \"EfficientNet Edge L INT8\", \"arith_intens\": \"1828.3\", \"performance\": 0.1}, {\"Name\": \"CNV 100% INT8\", \"arith_intens\": \"76.24\", \"performance\": 0.1}, {\"Name\": \"CNV 50% INT8\", \"arith_intens\": \"77.08\", \"performance\": 0.1}, {\"Name\": \"CNV 25% INT8\", \"arith_intens\": \"78.75\", \"performance\": 0.1}, {\"Name\": \"CNV 12.5% INT8\", \"arith_intens\": \"83.15\", \"performance\": 0.1}, {\"Name\": \"MLP* INT8\", \"arith_intens\": \"2\", \"performance\": 0.1}, {\"Name\": \"GoogLeNetv1 FP16\", \"arith_intens\": \"261.75\", \"performance\": 0.1}, {\"Name\": \"MobileNetv1 FP16\", \"arith_intens\": \"134.43\", \"performance\": 0.1}, {\"Name\": \"ResNet-50 100% FP16\", \"arith_intens\": \"151.36\", \"performance\": 0.1}, {\"Name\": \"ResNet-50 80% FP16\", \"arith_intens\": \"135.82\", \"performance\": 0.1}, {\"Name\": \"ResNet-50 50% FP16\", \"arith_intens\": \"118.73\", \"performance\": 0.1}, {\"Name\": \"ResNet-50 30% FP16\", \"arith_intens\": \"121.27\", \"performance\": 0.1}, {\"Name\": \"EfficientNet Edge S FP16\", \"arith_intens\": \"435.18\", \"performance\": 0.1}, {\"Name\": \"EfficientNet Edge M FP16\", \"arith_intens\": \"536.23\", \"performance\": 0.1}, {\"Name\": \"EfficientNet Edge L FP16\", \"arith_intens\": \"914.15\", \"performance\": 0.1}, {\"Name\": \"CNV 100% FP16\", \"arith_intens\": \"38.12\", \"performance\": 0.1}, {\"Name\": \"CNV 50% FP16\", \"arith_intens\": \"38.54\", \"performance\": 0.1}, {\"Name\": \"CNV 25% FP16\", \"arith_intens\": \"39.38\", \"performance\": 0.1}, {\"Name\": \"CNV 12.5% FP16\", \"arith_intens\": \"41.58\", \"performance\": 0.1}, {\"Name\": \"MLP* FP16\", \"arith_intens\": \"1\", \"performance\": 0.1}, {\"Name\": \"GoogLeNetv1 FP32\", \"arith_intens\": \"130.87\", \"performance\": 0.1}, {\"Name\": \"MobileNetv1 FP32\", \"arith_intens\": \"67.22\", \"performance\": 0.1}, {\"Name\": \"ResNet-50 100% FP32\", \"arith_intens\": \"75.68\", \"performance\": 0.1}, {\"Name\": \"ResNet-50 80% FP32\", \"arith_intens\": \"67.91\", \"performance\": 0.1}, {\"Name\": \"ResNet-50 50% FP32\", \"arith_intens\": \"59.37\", \"performance\": 0.1}, {\"Name\": \"ResNet-50 30% FP32\", \"arith_intens\": \"60.64\", \"performance\": 0.1}, {\"Name\": \"EfficientNet Edge S FP32\", \"arith_intens\": \"217.59\", \"performance\": 0.1}, {\"Name\": \"EfficientNet Edge M FP32\", \"arith_intens\": \"268.12\", \"performance\": 0.1}, {\"Name\": \"EfficientNet Edge L FP32\", \"arith_intens\": \"457.08\", \"performance\": 0.1}, {\"Name\": \"CNV 100% FP32\", \"arith_intens\": \"19.06\", \"performance\": 0.1}, {\"Name\": \"CNV 50% FP32\", \"arith_intens\": \"19.27\", \"performance\": 0.1}, {\"Name\": \"CNV 25% FP32\", \"arith_intens\": \"19.69\", \"performance\": 0.1}, {\"Name\": \"CNV 12.5% FP32\", \"arith_intens\": \"20.79\", \"performance\": 0.1}, {\"Name\": \"MLP* FP32\", \"arith_intens\": \"0.5\", \"performance\": 0.1}, {\"Name\": \"Ultra96 DPU INT8\", \"arith_intens\": 12.1, \"performance\": 0.051545999999999995}, {\"Name\": \"Ultra96 DPU INT8\", \"arith_intens\": 226.1, \"performance\": 0.96}, {\"Name\": \"Ultra96 DPU INT8\", \"arith_intens\": 160000, \"performance\": 0.96}, {\"Name\": \"ZCU104 INT8\", \"arith_intens\": 3.1, \"performance\": 0.059519999999999997}, {\"Name\": \"ZCU104 INT8\", \"arith_intens\": 240.1, \"performance\": 4.6}, {\"Name\": \"ZCU104 INT8\", \"arith_intens\": 160000, \"performance\": 4.6}, {\"Name\": \"ZCU102 INT8\", \"arith_intens\": 3.1, \"performance\": 0.059519999999999997}, {\"Name\": \"ZCU102 INT8\", \"arith_intens\": 350.1, \"performance\": 6.71}, {\"Name\": \"ZCU102 INT8\", \"arith_intens\": 160000, \"performance\": 6.71}, {\"Name\": \"ZCU104 FINN INT2\", \"arith_intens\": 3.1, \"performance\": 0.059519999999999997}, {\"Name\": \"ZCU104 FINN INT2\", \"arith_intens\": 1599.1, \"performance\": 30.7}, {\"Name\": \"ZCU104 FINN INT2\", \"arith_intens\": 160000, \"performance\": 30.7}, {\"Name\": \"ZCU104 FINN INT4\", \"arith_intens\": 3.1, \"performance\": 0.059519999999999997}, {\"Name\": \"ZCU104 FINN INT4\", \"arith_intens\": 459.1, \"performance\": 8.8}, {\"Name\": \"ZCU104 FINN INT4\", \"arith_intens\": 160000, \"performance\": 8.8}, {\"Name\": \"ZCU104 BISMO INT2\", \"arith_intens\": 3.1, \"performance\": 0.059519999999999997}, {\"Name\": \"ZCU104 BISMO INT2\", \"arith_intens\": 1599.1, \"performance\": 30.7}, {\"Name\": \"ZCU104 BISMO INT2\", \"arith_intens\": 160000, \"performance\": 30.7}, {\"Name\": \"ZCU104 BISMO INT4\", \"arith_intens\": 3.1, \"performance\": 0.059519999999999997}, {\"Name\": \"ZCU104 BISMO INT4\", \"arith_intens\": 459.1, \"performance\": 8.8}, {\"Name\": \"ZCU104 BISMO INT4\", \"arith_intens\": 160000, \"performance\": 8.8}, {\"Name\": \"TX2 maxn FP16\", \"arith_intens\": 1.1, \"performance\": 0.06567}, {\"Name\": \"TX2 maxn FP16\", \"arith_intens\": 23.1, \"performance\": 1.33}, {\"Name\": \"TX2 maxn FP16\", \"arith_intens\": 160000, \"performance\": 1.33}, {\"Name\": \"TX2 maxn FP32\", \"arith_intens\": 1.1, \"performance\": 0.06567}, {\"Name\": \"TX2 maxn FP32\", \"arith_intens\": 12.1, \"performance\": 0.67}, {\"Name\": \"TX2 maxn FP32\", \"arith_intens\": 160000, \"performance\": 0.67}, {\"Name\": \"TX2 maxp FP16\", \"arith_intens\": 1.1, \"performance\": 0.06567}, {\"Name\": \"TX2 maxp FP16\", \"arith_intens\": 20.1, \"performance\": 1.15}, {\"Name\": \"TX2 maxp FP16\", \"arith_intens\": 160000, \"performance\": 1.15}, {\"Name\": \"TX2 maxp FP32\", \"arith_intens\": 1.1, \"performance\": 0.06567}, {\"Name\": \"TX2 maxp FP32\", \"arith_intens\": 10.1, \"performance\": 0.57}, {\"Name\": \"TX2 maxp FP32\", \"arith_intens\": 160000, \"performance\": 0.57}, {\"Name\": \"TX2 maxq FP16\", \"arith_intens\": 1.1, \"performance\": 0.06567}, {\"Name\": \"TX2 maxq FP16\", \"arith_intens\": 15.1, \"performance\": 0.87}, {\"Name\": \"TX2 maxq FP16\", \"arith_intens\": 160000, \"performance\": 0.87}, {\"Name\": \"TX2 maxq FP32\", \"arith_intens\": 1.1, \"performance\": 0.06567}, {\"Name\": \"TX2 maxq FP32\", \"arith_intens\": 8.1, \"performance\": 0.44}, {\"Name\": \"TX2 maxq FP32\", \"arith_intens\": 160000, \"performance\": 0.44}, {\"Name\": \"EdgeTPU fast INT8\", \"arith_intens\": 2.1, \"performance\": 0.05376}, {\"Name\": \"EdgeTPU fast INT8\", \"arith_intens\": 157.1, \"performance\": 4.0}, {\"Name\": \"EdgeTPU fast INT8\", \"arith_intens\": 160000, \"performance\": 4.0}, {\"Name\": \"EdgeTPU slow INT8\", \"arith_intens\": 2.1, \"performance\": 0.05376}, {\"Name\": \"EdgeTPU slow INT8\", \"arith_intens\": 79.1, \"performance\": 2.0}, {\"Name\": \"EdgeTPU slow INT8\", \"arith_intens\": 160000, \"performance\": 2.0}, {\"Name\": \"NCS INT8\", \"arith_intens\": 4.1, \"performance\": 0.05248}, {\"Name\": \"NCS INT8\", \"arith_intens\": 79.1, \"performance\": 1.0}, {\"Name\": \"NCS INT8\", \"arith_intens\": 160000, \"performance\": 1.0}, {\"Name\": \"NCS FP16\", \"arith_intens\": 4.1, \"performance\": 0.05248}, {\"Name\": \"NCS FP16\", \"arith_intens\": 39.1, \"performance\": 0.5}, {\"Name\": \"NCS FP16\", \"arith_intens\": 160000, \"performance\": 0.5}], \"data-af4769beeeee7fbd3b9dcf8e44483056\": [{\"Name\": \"GoogLeNetv1 INT2\", \"arith_intens\": \"2093.97\", \"performance\": 30.0}, {\"Name\": \"MobileNetv1 INT2\", \"arith_intens\": \"1075.47\", \"performance\": 30.0}, {\"Name\": \"ResNet-50 100% INT2\", \"arith_intens\": \"1210.84\", \"performance\": 30.0}, {\"Name\": \"ResNet-50 80% INT2\", \"arith_intens\": \"1086.59\", \"performance\": 30.0}, {\"Name\": \"ResNet-50 50% INT2\", \"arith_intens\": \"949.85\", \"performance\": 30.0}, {\"Name\": \"ResNet-50 30% INT2\", \"arith_intens\": \"970.16\", \"performance\": 30.0}, {\"Name\": \"EfficientNet Edge S INT2\", \"arith_intens\": \"3481.48\", \"performance\": 30.0}, {\"Name\": \"EfficientNet Edge M INT2\", \"arith_intens\": \"4289.86\", \"performance\": 30.0}, {\"Name\": \"EfficientNet Edge L INT2\", \"arith_intens\": \"7313.21\", \"performance\": 30.0}, {\"Name\": \"CNV 100% INT2\", \"arith_intens\": \"304.95\", \"performance\": 30.0}, {\"Name\": \"CNV 50% INT2\", \"arith_intens\": \"308.32\", \"performance\": 30.0}, {\"Name\": \"CNV 25% INT2\", \"arith_intens\": \"315.01\", \"performance\": 30.0}, {\"Name\": \"CNV 12.5% INT2\", \"arith_intens\": \"332.61\", \"performance\": 30.0}, {\"Name\": \"MLP* INT2\", \"arith_intens\": \"8\", \"performance\": 30.0}, {\"Name\": \"GoogLeNetv1 INT2\", \"arith_intens\": \"2093.97\", \"performance\": 1.0}, {\"Name\": \"MobileNetv1 INT2\", \"arith_intens\": \"1075.47\", \"performance\": 1.0}, {\"Name\": \"ResNet-50 100% INT2\", \"arith_intens\": \"1210.84\", \"performance\": 1.0}, {\"Name\": \"ResNet-50 80% INT2\", \"arith_intens\": \"1086.59\", \"performance\": 1.0}, {\"Name\": \"ResNet-50 50% INT2\", \"arith_intens\": \"949.85\", \"performance\": 1.0}, {\"Name\": \"ResNet-50 30% INT2\", \"arith_intens\": \"970.16\", \"performance\": 1.0}, {\"Name\": \"EfficientNet Edge S INT2\", \"arith_intens\": \"3481.48\", \"performance\": 1.0}, {\"Name\": \"EfficientNet Edge M INT2\", \"arith_intens\": \"4289.86\", \"performance\": 1.0}, {\"Name\": \"EfficientNet Edge L INT2\", \"arith_intens\": \"7313.21\", \"performance\": 1.0}, {\"Name\": \"CNV 100% INT2\", \"arith_intens\": \"304.95\", \"performance\": 1.0}, {\"Name\": \"CNV 50% INT2\", \"arith_intens\": \"308.32\", \"performance\": 1.0}, {\"Name\": \"CNV 25% INT2\", \"arith_intens\": \"315.01\", \"performance\": 1.0}, {\"Name\": \"CNV 12.5% INT2\", \"arith_intens\": \"332.61\", \"performance\": 1.0}, {\"Name\": \"MLP* INT2\", \"arith_intens\": \"8\", \"performance\": 1.0}, {\"Name\": \"GoogLeNetv1 INT2\", \"arith_intens\": \"2093.97\", \"performance\": 10.0}, {\"Name\": \"MobileNetv1 INT2\", \"arith_intens\": \"1075.47\", \"performance\": 10.0}, {\"Name\": \"ResNet-50 100% INT2\", \"arith_intens\": \"1210.84\", \"performance\": 10.0}, {\"Name\": \"ResNet-50 80% INT2\", \"arith_intens\": \"1086.59\", \"performance\": 10.0}, {\"Name\": \"ResNet-50 50% INT2\", \"arith_intens\": \"949.85\", \"performance\": 10.0}, {\"Name\": \"ResNet-50 30% INT2\", \"arith_intens\": \"970.16\", \"performance\": 10.0}, {\"Name\": \"EfficientNet Edge S INT2\", \"arith_intens\": \"3481.48\", \"performance\": 10.0}, {\"Name\": \"EfficientNet Edge M INT2\", \"arith_intens\": \"4289.86\", \"performance\": 10.0}, {\"Name\": \"EfficientNet Edge L INT2\", \"arith_intens\": \"7313.21\", \"performance\": 10.0}, {\"Name\": \"CNV 100% INT2\", \"arith_intens\": \"304.95\", \"performance\": 10.0}, {\"Name\": \"CNV 50% INT2\", \"arith_intens\": \"308.32\", \"performance\": 10.0}, {\"Name\": \"CNV 25% INT2\", \"arith_intens\": \"315.01\", \"performance\": 10.0}, {\"Name\": \"CNV 12.5% INT2\", \"arith_intens\": \"332.61\", \"performance\": 10.0}, {\"Name\": \"MLP* INT2\", \"arith_intens\": \"8\", \"performance\": 10.0}, {\"Name\": \"GoogLeNetv1 INT2\", \"arith_intens\": \"2093.97\", \"performance\": 0.1}, {\"Name\": \"MobileNetv1 INT2\", \"arith_intens\": \"1075.47\", \"performance\": 0.1}, {\"Name\": \"ResNet-50 100% INT2\", \"arith_intens\": \"1210.84\", \"performance\": 0.1}, {\"Name\": \"ResNet-50 80% INT2\", \"arith_intens\": \"1086.59\", \"performance\": 0.1}, {\"Name\": \"ResNet-50 50% INT2\", \"arith_intens\": \"949.85\", \"performance\": 0.1}, {\"Name\": \"ResNet-50 30% INT2\", \"arith_intens\": \"970.16\", \"performance\": 0.1}, {\"Name\": \"EfficientNet Edge S INT2\", \"arith_intens\": \"3481.48\", \"performance\": 0.1}, {\"Name\": \"EfficientNet Edge M INT2\", \"arith_intens\": \"4289.86\", \"performance\": 0.1}, {\"Name\": \"EfficientNet Edge L INT2\", \"arith_intens\": \"7313.21\", \"performance\": 0.1}, {\"Name\": \"CNV 100% INT2\", \"arith_intens\": \"304.95\", \"performance\": 0.1}, {\"Name\": \"CNV 50% INT2\", \"arith_intens\": \"308.32\", \"performance\": 0.1}, {\"Name\": \"CNV 25% INT2\", \"arith_intens\": \"315.01\", \"performance\": 0.1}, {\"Name\": \"CNV 12.5% INT2\", \"arith_intens\": \"332.61\", \"performance\": 0.1}, {\"Name\": \"MLP* INT2\", \"arith_intens\": \"8\", \"performance\": 0.1}], \"data-c5795626d7ffc4d9c3951a9ed5512240\": [{\"Name\": \"GoogLeNetv1 INT4\", \"arith_intens\": \"1046.99\", \"performance\": 30.0}, {\"Name\": \"MobileNetv1 INT4\", \"arith_intens\": \"537.74\", \"performance\": 30.0}, {\"Name\": \"ResNet-50 100% INT4\", \"arith_intens\": \"605.42\", \"performance\": 30.0}, {\"Name\": \"ResNet-50 80% INT4\", \"arith_intens\": \"543.3\", \"performance\": 30.0}, {\"Name\": \"ResNet-50 50% INT4\", \"arith_intens\": \"474.93\", \"performance\": 30.0}, {\"Name\": \"ResNet-50 30% INT4\", \"arith_intens\": \"485.08\", \"performance\": 30.0}, {\"Name\": \"EfficientNet Edge S INT4\", \"arith_intens\": \"1740.74\", \"performance\": 30.0}, {\"Name\": \"EfficientNet Edge M INT4\", \"arith_intens\": \"2144.93\", \"performance\": 30.0}, {\"Name\": \"EfficientNet Edge L INT4\", \"arith_intens\": \"3656.6\", \"performance\": 30.0}, {\"Name\": \"CNV 100% INT4\", \"arith_intens\": \"152.48\", \"performance\": 30.0}, {\"Name\": \"CNV 50% INT4\", \"arith_intens\": \"154.16\", \"performance\": 30.0}, {\"Name\": \"CNV 25% INT4\", \"arith_intens\": \"157.51\", \"performance\": 30.0}, {\"Name\": \"CNV 12.5% INT4\", \"arith_intens\": \"166.3\", \"performance\": 30.0}, {\"Name\": \"MLP* INT4\", \"arith_intens\": \"4\", \"performance\": 30.0}, {\"Name\": \"GoogLeNetv1 INT4\", \"arith_intens\": \"1046.99\", \"performance\": 1.0}, {\"Name\": \"MobileNetv1 INT4\", \"arith_intens\": \"537.74\", \"performance\": 1.0}, {\"Name\": \"ResNet-50 100% INT4\", \"arith_intens\": \"605.42\", \"performance\": 1.0}, {\"Name\": \"ResNet-50 80% INT4\", \"arith_intens\": \"543.3\", \"performance\": 1.0}, {\"Name\": \"ResNet-50 50% INT4\", \"arith_intens\": \"474.93\", \"performance\": 1.0}, {\"Name\": \"ResNet-50 30% INT4\", \"arith_intens\": \"485.08\", \"performance\": 1.0}, {\"Name\": \"EfficientNet Edge S INT4\", \"arith_intens\": \"1740.74\", \"performance\": 1.0}, {\"Name\": \"EfficientNet Edge M INT4\", \"arith_intens\": \"2144.93\", \"performance\": 1.0}, {\"Name\": \"EfficientNet Edge L INT4\", \"arith_intens\": \"3656.6\", \"performance\": 1.0}, {\"Name\": \"CNV 100% INT4\", \"arith_intens\": \"152.48\", \"performance\": 1.0}, {\"Name\": \"CNV 50% INT4\", \"arith_intens\": \"154.16\", \"performance\": 1.0}, {\"Name\": \"CNV 25% INT4\", \"arith_intens\": \"157.51\", \"performance\": 1.0}, {\"Name\": \"CNV 12.5% INT4\", \"arith_intens\": \"166.3\", \"performance\": 1.0}, {\"Name\": \"MLP* INT4\", \"arith_intens\": \"4\", \"performance\": 1.0}, {\"Name\": \"GoogLeNetv1 INT4\", \"arith_intens\": \"1046.99\", \"performance\": 10.0}, {\"Name\": \"MobileNetv1 INT4\", \"arith_intens\": \"537.74\", \"performance\": 10.0}, {\"Name\": \"ResNet-50 100% INT4\", \"arith_intens\": \"605.42\", \"performance\": 10.0}, {\"Name\": \"ResNet-50 80% INT4\", \"arith_intens\": \"543.3\", \"performance\": 10.0}, {\"Name\": \"ResNet-50 50% INT4\", \"arith_intens\": \"474.93\", \"performance\": 10.0}, {\"Name\": \"ResNet-50 30% INT4\", \"arith_intens\": \"485.08\", \"performance\": 10.0}, {\"Name\": \"EfficientNet Edge S INT4\", \"arith_intens\": \"1740.74\", \"performance\": 10.0}, {\"Name\": \"EfficientNet Edge M INT4\", \"arith_intens\": \"2144.93\", \"performance\": 10.0}, {\"Name\": \"EfficientNet Edge L INT4\", \"arith_intens\": \"3656.6\", \"performance\": 10.0}, {\"Name\": \"CNV 100% INT4\", \"arith_intens\": \"152.48\", \"performance\": 10.0}, {\"Name\": \"CNV 50% INT4\", \"arith_intens\": \"154.16\", \"performance\": 10.0}, {\"Name\": \"CNV 25% INT4\", \"arith_intens\": \"157.51\", \"performance\": 10.0}, {\"Name\": \"CNV 12.5% INT4\", \"arith_intens\": \"166.3\", \"performance\": 10.0}, {\"Name\": \"MLP* INT4\", \"arith_intens\": \"4\", \"performance\": 10.0}, {\"Name\": \"GoogLeNetv1 INT4\", \"arith_intens\": \"1046.99\", \"performance\": 0.1}, {\"Name\": \"MobileNetv1 INT4\", \"arith_intens\": \"537.74\", \"performance\": 0.1}, {\"Name\": \"ResNet-50 100% INT4\", \"arith_intens\": \"605.42\", \"performance\": 0.1}, {\"Name\": \"ResNet-50 80% INT4\", \"arith_intens\": \"543.3\", \"performance\": 0.1}, {\"Name\": \"ResNet-50 50% INT4\", \"arith_intens\": \"474.93\", \"performance\": 0.1}, {\"Name\": \"ResNet-50 30% INT4\", \"arith_intens\": \"485.08\", \"performance\": 0.1}, {\"Name\": \"EfficientNet Edge S INT4\", \"arith_intens\": \"1740.74\", \"performance\": 0.1}, {\"Name\": \"EfficientNet Edge M INT4\", \"arith_intens\": \"2144.93\", \"performance\": 0.1}, {\"Name\": \"EfficientNet Edge L INT4\", \"arith_intens\": \"3656.6\", \"performance\": 0.1}, {\"Name\": \"CNV 100% INT4\", \"arith_intens\": \"152.48\", \"performance\": 0.1}, {\"Name\": \"CNV 50% INT4\", \"arith_intens\": \"154.16\", \"performance\": 0.1}, {\"Name\": \"CNV 25% INT4\", \"arith_intens\": \"157.51\", \"performance\": 0.1}, {\"Name\": \"CNV 12.5% INT4\", \"arith_intens\": \"166.3\", \"performance\": 0.1}, {\"Name\": \"MLP* INT4\", \"arith_intens\": \"4\", \"performance\": 0.1}], \"data-6bb036f5743beba85cd1e0ad0f04b3fe\": [{\"Name\": \"GoogLeNetv1 INT8\", \"arith_intens\": \"523.49\", \"performance\": 30.0}, {\"Name\": \"MobileNetv1 INT8\", \"arith_intens\": \"268.87\", \"performance\": 30.0}, {\"Name\": \"ResNet-50 100% INT8\", \"arith_intens\": \"302.71\", \"performance\": 30.0}, {\"Name\": \"ResNet-50 80% INT8\", \"arith_intens\": \"271.65\", \"performance\": 30.0}, {\"Name\": \"ResNet-50 50% INT8\", \"arith_intens\": \"237.46\", \"performance\": 30.0}, {\"Name\": \"ResNet-50 30% INT8\", \"arith_intens\": \"242.54\", \"performance\": 30.0}, {\"Name\": \"EfficientNet Edge S INT8\", \"arith_intens\": \"870.37\", \"performance\": 30.0}, {\"Name\": \"EfficientNet Edge M INT8\", \"arith_intens\": \"1072.46\", \"performance\": 30.0}, {\"Name\": \"EfficientNet Edge L INT8\", \"arith_intens\": \"1828.3\", \"performance\": 30.0}, {\"Name\": \"CNV 100% INT8\", \"arith_intens\": \"76.24\", \"performance\": 30.0}, {\"Name\": \"CNV 50% INT8\", \"arith_intens\": \"77.08\", \"performance\": 30.0}, {\"Name\": \"CNV 25% INT8\", \"arith_intens\": \"78.75\", \"performance\": 30.0}, {\"Name\": \"CNV 12.5% INT8\", \"arith_intens\": \"83.15\", \"performance\": 30.0}, {\"Name\": \"MLP* INT8\", \"arith_intens\": \"2\", \"performance\": 30.0}, {\"Name\": \"GoogLeNetv1 INT8\", \"arith_intens\": \"523.49\", \"performance\": 1.0}, {\"Name\": \"MobileNetv1 INT8\", \"arith_intens\": \"268.87\", \"performance\": 1.0}, {\"Name\": \"ResNet-50 100% INT8\", \"arith_intens\": \"302.71\", \"performance\": 1.0}, {\"Name\": \"ResNet-50 80% INT8\", \"arith_intens\": \"271.65\", \"performance\": 1.0}, {\"Name\": \"ResNet-50 50% INT8\", \"arith_intens\": \"237.46\", \"performance\": 1.0}, {\"Name\": \"ResNet-50 30% INT8\", \"arith_intens\": \"242.54\", \"performance\": 1.0}, {\"Name\": \"EfficientNet Edge S INT8\", \"arith_intens\": \"870.37\", \"performance\": 1.0}, {\"Name\": \"EfficientNet Edge M INT8\", \"arith_intens\": \"1072.46\", \"performance\": 1.0}, {\"Name\": \"EfficientNet Edge L INT8\", \"arith_intens\": \"1828.3\", \"performance\": 1.0}, {\"Name\": \"CNV 100% INT8\", \"arith_intens\": \"76.24\", \"performance\": 1.0}, {\"Name\": \"CNV 50% INT8\", \"arith_intens\": \"77.08\", \"performance\": 1.0}, {\"Name\": \"CNV 25% INT8\", \"arith_intens\": \"78.75\", \"performance\": 1.0}, {\"Name\": \"CNV 12.5% INT8\", \"arith_intens\": \"83.15\", \"performance\": 1.0}, {\"Name\": \"MLP* INT8\", \"arith_intens\": \"2\", \"performance\": 1.0}, {\"Name\": \"GoogLeNetv1 INT8\", \"arith_intens\": \"523.49\", \"performance\": 10.0}, {\"Name\": \"MobileNetv1 INT8\", \"arith_intens\": \"268.87\", \"performance\": 10.0}, {\"Name\": \"ResNet-50 100% INT8\", \"arith_intens\": \"302.71\", \"performance\": 10.0}, {\"Name\": \"ResNet-50 80% INT8\", \"arith_intens\": \"271.65\", \"performance\": 10.0}, {\"Name\": \"ResNet-50 50% INT8\", \"arith_intens\": \"237.46\", \"performance\": 10.0}, {\"Name\": \"ResNet-50 30% INT8\", \"arith_intens\": \"242.54\", \"performance\": 10.0}, {\"Name\": \"EfficientNet Edge S INT8\", \"arith_intens\": \"870.37\", \"performance\": 10.0}, {\"Name\": \"EfficientNet Edge M INT8\", \"arith_intens\": \"1072.46\", \"performance\": 10.0}, {\"Name\": \"EfficientNet Edge L INT8\", \"arith_intens\": \"1828.3\", \"performance\": 10.0}, {\"Name\": \"CNV 100% INT8\", \"arith_intens\": \"76.24\", \"performance\": 10.0}, {\"Name\": \"CNV 50% INT8\", \"arith_intens\": \"77.08\", \"performance\": 10.0}, {\"Name\": \"CNV 25% INT8\", \"arith_intens\": \"78.75\", \"performance\": 10.0}, {\"Name\": \"CNV 12.5% INT8\", \"arith_intens\": \"83.15\", \"performance\": 10.0}, {\"Name\": \"MLP* INT8\", \"arith_intens\": \"2\", \"performance\": 10.0}, {\"Name\": \"GoogLeNetv1 INT8\", \"arith_intens\": \"523.49\", \"performance\": 0.1}, {\"Name\": \"MobileNetv1 INT8\", \"arith_intens\": \"268.87\", \"performance\": 0.1}, {\"Name\": \"ResNet-50 100% INT8\", \"arith_intens\": \"302.71\", \"performance\": 0.1}, {\"Name\": \"ResNet-50 80% INT8\", \"arith_intens\": \"271.65\", \"performance\": 0.1}, {\"Name\": \"ResNet-50 50% INT8\", \"arith_intens\": \"237.46\", \"performance\": 0.1}, {\"Name\": \"ResNet-50 30% INT8\", \"arith_intens\": \"242.54\", \"performance\": 0.1}, {\"Name\": \"EfficientNet Edge S INT8\", \"arith_intens\": \"870.37\", \"performance\": 0.1}, {\"Name\": \"EfficientNet Edge M INT8\", \"arith_intens\": \"1072.46\", \"performance\": 0.1}, {\"Name\": \"EfficientNet Edge L INT8\", \"arith_intens\": \"1828.3\", \"performance\": 0.1}, {\"Name\": \"CNV 100% INT8\", \"arith_intens\": \"76.24\", \"performance\": 0.1}, {\"Name\": \"CNV 50% INT8\", \"arith_intens\": \"77.08\", \"performance\": 0.1}, {\"Name\": \"CNV 25% INT8\", \"arith_intens\": \"78.75\", \"performance\": 0.1}, {\"Name\": \"CNV 12.5% INT8\", \"arith_intens\": \"83.15\", \"performance\": 0.1}, {\"Name\": \"MLP* INT8\", \"arith_intens\": \"2\", \"performance\": 0.1}], \"data-02613aa67cca17af4af7d1b502d4b514\": [{\"Name\": \"GoogLeNetv1 FP16\", \"arith_intens\": \"261.75\", \"performance\": 30.0}, {\"Name\": \"MobileNetv1 FP16\", \"arith_intens\": \"134.43\", \"performance\": 30.0}, {\"Name\": \"ResNet-50 100% FP16\", \"arith_intens\": \"151.36\", \"performance\": 30.0}, {\"Name\": \"ResNet-50 80% FP16\", \"arith_intens\": \"135.82\", \"performance\": 30.0}, {\"Name\": \"ResNet-50 50% FP16\", \"arith_intens\": \"118.73\", \"performance\": 30.0}, {\"Name\": \"ResNet-50 30% FP16\", \"arith_intens\": \"121.27\", \"performance\": 30.0}, {\"Name\": \"EfficientNet Edge S FP16\", \"arith_intens\": \"435.18\", \"performance\": 30.0}, {\"Name\": \"EfficientNet Edge M FP16\", \"arith_intens\": \"536.23\", \"performance\": 30.0}, {\"Name\": \"EfficientNet Edge L FP16\", \"arith_intens\": \"914.15\", \"performance\": 30.0}, {\"Name\": \"CNV 100% FP16\", \"arith_intens\": \"38.12\", \"performance\": 30.0}, {\"Name\": \"CNV 50% FP16\", \"arith_intens\": \"38.54\", \"performance\": 30.0}, {\"Name\": \"CNV 25% FP16\", \"arith_intens\": \"39.38\", \"performance\": 30.0}, {\"Name\": \"CNV 12.5% FP16\", \"arith_intens\": \"41.58\", \"performance\": 30.0}, {\"Name\": \"MLP* FP16\", \"arith_intens\": \"1\", \"performance\": 30.0}, {\"Name\": \"GoogLeNetv1 FP16\", \"arith_intens\": \"261.75\", \"performance\": 1.0}, {\"Name\": \"MobileNetv1 FP16\", \"arith_intens\": \"134.43\", \"performance\": 1.0}, {\"Name\": \"ResNet-50 100% FP16\", \"arith_intens\": \"151.36\", \"performance\": 1.0}, {\"Name\": \"ResNet-50 80% FP16\", \"arith_intens\": \"135.82\", \"performance\": 1.0}, {\"Name\": \"ResNet-50 50% FP16\", \"arith_intens\": \"118.73\", \"performance\": 1.0}, {\"Name\": \"ResNet-50 30% FP16\", \"arith_intens\": \"121.27\", \"performance\": 1.0}, {\"Name\": \"EfficientNet Edge S FP16\", \"arith_intens\": \"435.18\", \"performance\": 1.0}, {\"Name\": \"EfficientNet Edge M FP16\", \"arith_intens\": \"536.23\", \"performance\": 1.0}, {\"Name\": \"EfficientNet Edge L FP16\", \"arith_intens\": \"914.15\", \"performance\": 1.0}, {\"Name\": \"CNV 100% FP16\", \"arith_intens\": \"38.12\", \"performance\": 1.0}, {\"Name\": \"CNV 50% FP16\", \"arith_intens\": \"38.54\", \"performance\": 1.0}, {\"Name\": \"CNV 25% FP16\", \"arith_intens\": \"39.38\", \"performance\": 1.0}, {\"Name\": \"CNV 12.5% FP16\", \"arith_intens\": \"41.58\", \"performance\": 1.0}, {\"Name\": \"MLP* FP16\", \"arith_intens\": \"1\", \"performance\": 1.0}, {\"Name\": \"GoogLeNetv1 FP16\", \"arith_intens\": \"261.75\", \"performance\": 10.0}, {\"Name\": \"MobileNetv1 FP16\", \"arith_intens\": \"134.43\", \"performance\": 10.0}, {\"Name\": \"ResNet-50 100% FP16\", \"arith_intens\": \"151.36\", \"performance\": 10.0}, {\"Name\": \"ResNet-50 80% FP16\", \"arith_intens\": \"135.82\", \"performance\": 10.0}, {\"Name\": \"ResNet-50 50% FP16\", \"arith_intens\": \"118.73\", \"performance\": 10.0}, {\"Name\": \"ResNet-50 30% FP16\", \"arith_intens\": \"121.27\", \"performance\": 10.0}, {\"Name\": \"EfficientNet Edge S FP16\", \"arith_intens\": \"435.18\", \"performance\": 10.0}, {\"Name\": \"EfficientNet Edge M FP16\", \"arith_intens\": \"536.23\", \"performance\": 10.0}, {\"Name\": \"EfficientNet Edge L FP16\", \"arith_intens\": \"914.15\", \"performance\": 10.0}, {\"Name\": \"CNV 100% FP16\", \"arith_intens\": \"38.12\", \"performance\": 10.0}, {\"Name\": \"CNV 50% FP16\", \"arith_intens\": \"38.54\", \"performance\": 10.0}, {\"Name\": \"CNV 25% FP16\", \"arith_intens\": \"39.38\", \"performance\": 10.0}, {\"Name\": \"CNV 12.5% FP16\", \"arith_intens\": \"41.58\", \"performance\": 10.0}, {\"Name\": \"MLP* FP16\", \"arith_intens\": \"1\", \"performance\": 10.0}, {\"Name\": \"GoogLeNetv1 FP16\", \"arith_intens\": \"261.75\", \"performance\": 0.1}, {\"Name\": \"MobileNetv1 FP16\", \"arith_intens\": \"134.43\", \"performance\": 0.1}, {\"Name\": \"ResNet-50 100% FP16\", \"arith_intens\": \"151.36\", \"performance\": 0.1}, {\"Name\": \"ResNet-50 80% FP16\", \"arith_intens\": \"135.82\", \"performance\": 0.1}, {\"Name\": \"ResNet-50 50% FP16\", \"arith_intens\": \"118.73\", \"performance\": 0.1}, {\"Name\": \"ResNet-50 30% FP16\", \"arith_intens\": \"121.27\", \"performance\": 0.1}, {\"Name\": \"EfficientNet Edge S FP16\", \"arith_intens\": \"435.18\", \"performance\": 0.1}, {\"Name\": \"EfficientNet Edge M FP16\", \"arith_intens\": \"536.23\", \"performance\": 0.1}, {\"Name\": \"EfficientNet Edge L FP16\", \"arith_intens\": \"914.15\", \"performance\": 0.1}, {\"Name\": \"CNV 100% FP16\", \"arith_intens\": \"38.12\", \"performance\": 0.1}, {\"Name\": \"CNV 50% FP16\", \"arith_intens\": \"38.54\", \"performance\": 0.1}, {\"Name\": \"CNV 25% FP16\", \"arith_intens\": \"39.38\", \"performance\": 0.1}, {\"Name\": \"CNV 12.5% FP16\", \"arith_intens\": \"41.58\", \"performance\": 0.1}, {\"Name\": \"MLP* FP16\", \"arith_intens\": \"1\", \"performance\": 0.1}], \"data-12ec10a0813a34f2753263c5fb73bf4b\": [{\"Name\": \"GoogLeNetv1 FP32\", \"arith_intens\": \"130.87\", \"performance\": 30.0}, {\"Name\": \"MobileNetv1 FP32\", \"arith_intens\": \"67.22\", \"performance\": 30.0}, {\"Name\": \"ResNet-50 100% FP32\", \"arith_intens\": \"75.68\", \"performance\": 30.0}, {\"Name\": \"ResNet-50 80% FP32\", \"arith_intens\": \"67.91\", \"performance\": 30.0}, {\"Name\": \"ResNet-50 50% FP32\", \"arith_intens\": \"59.37\", \"performance\": 30.0}, {\"Name\": \"ResNet-50 30% FP32\", \"arith_intens\": \"60.64\", \"performance\": 30.0}, {\"Name\": \"EfficientNet Edge S FP32\", \"arith_intens\": \"217.59\", \"performance\": 30.0}, {\"Name\": \"EfficientNet Edge M FP32\", \"arith_intens\": \"268.12\", \"performance\": 30.0}, {\"Name\": \"EfficientNet Edge L FP32\", \"arith_intens\": \"457.08\", \"performance\": 30.0}, {\"Name\": \"CNV 100% FP32\", \"arith_intens\": \"19.06\", \"performance\": 30.0}, {\"Name\": \"CNV 50% FP32\", \"arith_intens\": \"19.27\", \"performance\": 30.0}, {\"Name\": \"CNV 25% FP32\", \"arith_intens\": \"19.69\", \"performance\": 30.0}, {\"Name\": \"CNV 12.5% FP32\", \"arith_intens\": \"20.79\", \"performance\": 30.0}, {\"Name\": \"MLP* FP32\", \"arith_intens\": \"0.5\", \"performance\": 30.0}, {\"Name\": \"GoogLeNetv1 FP32\", \"arith_intens\": \"130.87\", \"performance\": 1.0}, {\"Name\": \"MobileNetv1 FP32\", \"arith_intens\": \"67.22\", \"performance\": 1.0}, {\"Name\": \"ResNet-50 100% FP32\", \"arith_intens\": \"75.68\", \"performance\": 1.0}, {\"Name\": \"ResNet-50 80% FP32\", \"arith_intens\": \"67.91\", \"performance\": 1.0}, {\"Name\": \"ResNet-50 50% FP32\", \"arith_intens\": \"59.37\", \"performance\": 1.0}, {\"Name\": \"ResNet-50 30% FP32\", \"arith_intens\": \"60.64\", \"performance\": 1.0}, {\"Name\": \"EfficientNet Edge S FP32\", \"arith_intens\": \"217.59\", \"performance\": 1.0}, {\"Name\": \"EfficientNet Edge M FP32\", \"arith_intens\": \"268.12\", \"performance\": 1.0}, {\"Name\": \"EfficientNet Edge L FP32\", \"arith_intens\": \"457.08\", \"performance\": 1.0}, {\"Name\": \"CNV 100% FP32\", \"arith_intens\": \"19.06\", \"performance\": 1.0}, {\"Name\": \"CNV 50% FP32\", \"arith_intens\": \"19.27\", \"performance\": 1.0}, {\"Name\": \"CNV 25% FP32\", \"arith_intens\": \"19.69\", \"performance\": 1.0}, {\"Name\": \"CNV 12.5% FP32\", \"arith_intens\": \"20.79\", \"performance\": 1.0}, {\"Name\": \"MLP* FP32\", \"arith_intens\": \"0.5\", \"performance\": 1.0}, {\"Name\": \"GoogLeNetv1 FP32\", \"arith_intens\": \"130.87\", \"performance\": 10.0}, {\"Name\": \"MobileNetv1 FP32\", \"arith_intens\": \"67.22\", \"performance\": 10.0}, {\"Name\": \"ResNet-50 100% FP32\", \"arith_intens\": \"75.68\", \"performance\": 10.0}, {\"Name\": \"ResNet-50 80% FP32\", \"arith_intens\": \"67.91\", \"performance\": 10.0}, {\"Name\": \"ResNet-50 50% FP32\", \"arith_intens\": \"59.37\", \"performance\": 10.0}, {\"Name\": \"ResNet-50 30% FP32\", \"arith_intens\": \"60.64\", \"performance\": 10.0}, {\"Name\": \"EfficientNet Edge S FP32\", \"arith_intens\": \"217.59\", \"performance\": 10.0}, {\"Name\": \"EfficientNet Edge M FP32\", \"arith_intens\": \"268.12\", \"performance\": 10.0}, {\"Name\": \"EfficientNet Edge L FP32\", \"arith_intens\": \"457.08\", \"performance\": 10.0}, {\"Name\": \"CNV 100% FP32\", \"arith_intens\": \"19.06\", \"performance\": 10.0}, {\"Name\": \"CNV 50% FP32\", \"arith_intens\": \"19.27\", \"performance\": 10.0}, {\"Name\": \"CNV 25% FP32\", \"arith_intens\": \"19.69\", \"performance\": 10.0}, {\"Name\": \"CNV 12.5% FP32\", \"arith_intens\": \"20.79\", \"performance\": 10.0}, {\"Name\": \"MLP* FP32\", \"arith_intens\": \"0.5\", \"performance\": 10.0}, {\"Name\": \"GoogLeNetv1 FP32\", \"arith_intens\": \"130.87\", \"performance\": 0.1}, {\"Name\": \"MobileNetv1 FP32\", \"arith_intens\": \"67.22\", \"performance\": 0.1}, {\"Name\": \"ResNet-50 100% FP32\", \"arith_intens\": \"75.68\", \"performance\": 0.1}, {\"Name\": \"ResNet-50 80% FP32\", \"arith_intens\": \"67.91\", \"performance\": 0.1}, {\"Name\": \"ResNet-50 50% FP32\", \"arith_intens\": \"59.37\", \"performance\": 0.1}, {\"Name\": \"ResNet-50 30% FP32\", \"arith_intens\": \"60.64\", \"performance\": 0.1}, {\"Name\": \"EfficientNet Edge S FP32\", \"arith_intens\": \"217.59\", \"performance\": 0.1}, {\"Name\": \"EfficientNet Edge M FP32\", \"arith_intens\": \"268.12\", \"performance\": 0.1}, {\"Name\": \"EfficientNet Edge L FP32\", \"arith_intens\": \"457.08\", \"performance\": 0.1}, {\"Name\": \"CNV 100% FP32\", \"arith_intens\": \"19.06\", \"performance\": 0.1}, {\"Name\": \"CNV 50% FP32\", \"arith_intens\": \"19.27\", \"performance\": 0.1}, {\"Name\": \"CNV 25% FP32\", \"arith_intens\": \"19.69\", \"performance\": 0.1}, {\"Name\": \"CNV 12.5% FP32\", \"arith_intens\": \"20.79\", \"performance\": 0.1}, {\"Name\": \"MLP* FP32\", \"arith_intens\": \"0.5\", \"performance\": 0.1}], \"data-5552f4bc2ea0b8077236233d9362be7f\": [{\"Name\": \"Ultra96 DPU INT8\", \"arith_intens\": 12.1, \"performance\": 0.051545999999999995}, {\"Name\": \"Ultra96 DPU INT8\", \"arith_intens\": 226.1, \"performance\": 0.96}, {\"Name\": \"Ultra96 DPU INT8\", \"arith_intens\": 160000, \"performance\": 0.96}, {\"Name\": \"ZCU104 INT8\", \"arith_intens\": 3.1, \"performance\": 0.059519999999999997}, {\"Name\": \"ZCU104 INT8\", \"arith_intens\": 240.1, \"performance\": 4.6}, {\"Name\": \"ZCU104 INT8\", \"arith_intens\": 160000, \"performance\": 4.6}, {\"Name\": \"ZCU102 INT8\", \"arith_intens\": 3.1, \"performance\": 0.059519999999999997}, {\"Name\": \"ZCU102 INT8\", \"arith_intens\": 350.1, \"performance\": 6.71}, {\"Name\": \"ZCU102 INT8\", \"arith_intens\": 160000, \"performance\": 6.71}, {\"Name\": \"ZCU104 FINN INT2\", \"arith_intens\": 3.1, \"performance\": 0.059519999999999997}, {\"Name\": \"ZCU104 FINN INT2\", \"arith_intens\": 1599.1, \"performance\": 30.7}, {\"Name\": \"ZCU104 FINN INT2\", \"arith_intens\": 160000, \"performance\": 30.7}, {\"Name\": \"ZCU104 FINN INT4\", \"arith_intens\": 3.1, \"performance\": 0.059519999999999997}, {\"Name\": \"ZCU104 FINN INT4\", \"arith_intens\": 459.1, \"performance\": 8.8}, {\"Name\": \"ZCU104 FINN INT4\", \"arith_intens\": 160000, \"performance\": 8.8}, {\"Name\": \"ZCU104 BISMO INT2\", \"arith_intens\": 3.1, \"performance\": 0.059519999999999997}, {\"Name\": \"ZCU104 BISMO INT2\", \"arith_intens\": 1599.1, \"performance\": 30.7}, {\"Name\": \"ZCU104 BISMO INT2\", \"arith_intens\": 160000, \"performance\": 30.7}, {\"Name\": \"ZCU104 BISMO INT4\", \"arith_intens\": 3.1, \"performance\": 0.059519999999999997}, {\"Name\": \"ZCU104 BISMO INT4\", \"arith_intens\": 459.1, \"performance\": 8.8}, {\"Name\": \"ZCU104 BISMO INT4\", \"arith_intens\": 160000, \"performance\": 8.8}], \"data-59f79b70ac26650ee16fb33e419a4cdd\": [{\"Name\": \"TX2 maxn FP16\", \"arith_intens\": 1.1, \"performance\": 0.06567}, {\"Name\": \"TX2 maxn FP16\", \"arith_intens\": 23.1, \"performance\": 1.33}, {\"Name\": \"TX2 maxn FP16\", \"arith_intens\": 160000, \"performance\": 1.33}, {\"Name\": \"TX2 maxn FP32\", \"arith_intens\": 1.1, \"performance\": 0.06567}, {\"Name\": \"TX2 maxn FP32\", \"arith_intens\": 12.1, \"performance\": 0.67}, {\"Name\": \"TX2 maxn FP32\", \"arith_intens\": 160000, \"performance\": 0.67}, {\"Name\": \"TX2 maxp FP16\", \"arith_intens\": 1.1, \"performance\": 0.06567}, {\"Name\": \"TX2 maxp FP16\", \"arith_intens\": 20.1, \"performance\": 1.15}, {\"Name\": \"TX2 maxp FP16\", \"arith_intens\": 160000, \"performance\": 1.15}, {\"Name\": \"TX2 maxp FP32\", \"arith_intens\": 1.1, \"performance\": 0.06567}, {\"Name\": \"TX2 maxp FP32\", \"arith_intens\": 10.1, \"performance\": 0.57}, {\"Name\": \"TX2 maxp FP32\", \"arith_intens\": 160000, \"performance\": 0.57}, {\"Name\": \"TX2 maxq FP16\", \"arith_intens\": 1.1, \"performance\": 0.06567}, {\"Name\": \"TX2 maxq FP16\", \"arith_intens\": 15.1, \"performance\": 0.87}, {\"Name\": \"TX2 maxq FP16\", \"arith_intens\": 160000, \"performance\": 0.87}, {\"Name\": \"TX2 maxq FP32\", \"arith_intens\": 1.1, \"performance\": 0.06567}, {\"Name\": \"TX2 maxq FP32\", \"arith_intens\": 8.1, \"performance\": 0.44}, {\"Name\": \"TX2 maxq FP32\", \"arith_intens\": 160000, \"performance\": 0.44}], \"data-92df3446d2c065332553eb9ffb7dae17\": [{\"Name\": \"EdgeTPU fast INT8\", \"arith_intens\": 2.1, \"performance\": 0.05376}, {\"Name\": \"EdgeTPU fast INT8\", \"arith_intens\": 157.1, \"performance\": 4.0}, {\"Name\": \"EdgeTPU fast INT8\", \"arith_intens\": 160000, \"performance\": 4.0}, {\"Name\": \"EdgeTPU slow INT8\", \"arith_intens\": 2.1, \"performance\": 0.05376}, {\"Name\": \"EdgeTPU slow INT8\", \"arith_intens\": 79.1, \"performance\": 2.0}, {\"Name\": \"EdgeTPU slow INT8\", \"arith_intens\": 160000, \"performance\": 2.0}], \"data-3745a47dbf1f6c5f2af65983be61a8e2\": [{\"Name\": \"NCS INT8\", \"arith_intens\": 4.1, \"performance\": 0.05248}, {\"Name\": \"NCS INT8\", \"arith_intens\": 79.1, \"performance\": 1.0}, {\"Name\": \"NCS INT8\", \"arith_intens\": 160000, \"performance\": 1.0}, {\"Name\": \"NCS FP16\", \"arith_intens\": 4.1, \"performance\": 0.05248}, {\"Name\": \"NCS FP16\", \"arith_intens\": 39.1, \"performance\": 0.5}, {\"Name\": \"NCS FP16\", \"arith_intens\": 160000, \"performance\": 0.5}]}}, {\"mode\": \"vega-lite\"});\n",
       "</script>"
      ],
      "text/plain": [
       "alt.LayerChart(...)"
      ]
     },
     "execution_count": 8,
     "metadata": {},
     "output_type": "execute_result"
    }
   ],
   "source": [
    "#hide_input\n",
    "# Run the Rooflines script which processes the data and creates the chart\n",
    "%run scripts/altair_plots.py\n",
    "rooflines(pd.read_csv(\"data/cleaned_csv/rooflines_hardware_neural_networks.csv\"), 'imagenet|mnist|cifar')"
   ]
  },
  {
   "cell_type": "markdown",
   "metadata": {},
   "source": [
    "*Applies to the following pruning factors: 100%, 50%, 25% and 12,5% "
   ]
  },
  {
   "cell_type": "markdown",
   "metadata": {},
   "source": [
    "# Performance Prediction"
   ]
  },
  {
   "cell_type": "markdown",
   "metadata": {},
   "source": [
    "The following heatmaps show the theoretical performance for the listed hardware platforms across the various machine learning tasks: MNIST, ImageNet and CIFAR-10. The metric used for the theoretical performance is input/second."
   ]
  },
  {
   "cell_type": "code",
   "execution_count": 9,
   "metadata": {},
   "outputs": [],
   "source": [
    "#hide\n",
    "# First process the unfiltered csv and save it as a pretty csv ready to plotted as a heatmap\n",
    "#%run scripts/script_load_save_data.py\n",
    "#have to change clean_csv_performance_predictions to process the right csv the right way\n",
    "#clean_csv_performance_predictions('c:/Users/alinav/Documents/GitHub/QutibenchWeb/_notebooks/data/performance_predictions_imagenet_mnist_cifar.csv')"
   ]
  },
  {
   "cell_type": "markdown",
   "metadata": {},
   "source": [
    "### MNIST"
   ]
  },
  {
   "cell_type": "markdown",
   "metadata": {},
   "source": [
    "For MNIST, quantization combined with pruning deliver some of best performance results."
   ]
  },
  {
   "cell_type": "code",
   "execution_count": 10,
   "metadata": {},
   "outputs": [
    {
     "data": {
      "text/html": [
       "\n",
       "<div id=\"altair-viz-6fcf80bd52824d0ea865fb977eb66263\"></div>\n",
       "<script type=\"text/javascript\">\n",
       "  (function(spec, embedOpt){\n",
       "    const outputDiv = document.getElementById(\"altair-viz-6fcf80bd52824d0ea865fb977eb66263\");\n",
       "    const paths = {\n",
       "      \"vega\": \"https://cdn.jsdelivr.net/npm//vega@5?noext\",\n",
       "      \"vega-lib\": \"https://cdn.jsdelivr.net/npm//vega-lib?noext\",\n",
       "      \"vega-lite\": \"https://cdn.jsdelivr.net/npm//vega-lite@4.0.2?noext\",\n",
       "      \"vega-embed\": \"https://cdn.jsdelivr.net/npm//vega-embed@6?noext\",\n",
       "    };\n",
       "\n",
       "    function loadScript(lib) {\n",
       "      return new Promise(function(resolve, reject) {\n",
       "        var s = document.createElement('script');\n",
       "        s.src = paths[lib];\n",
       "        s.async = true;\n",
       "        s.onload = () => resolve(paths[lib]);\n",
       "        s.onerror = () => reject(`Error loading script: ${paths[lib]}`);\n",
       "        document.getElementsByTagName(\"head\")[0].appendChild(s);\n",
       "      });\n",
       "    }\n",
       "\n",
       "    function showError(err) {\n",
       "      outputDiv.innerHTML = `<div class=\"error\" style=\"color:red;\">${err}</div>`;\n",
       "      throw err;\n",
       "    }\n",
       "\n",
       "    function displayChart(vegaEmbed) {\n",
       "      vegaEmbed(outputDiv, spec, embedOpt)\n",
       "        .catch(err => showError(`Javascript Error: ${err.message}<br>This usually means there's a typo in your chart specification. See the javascript console for the full traceback.`));\n",
       "    }\n",
       "\n",
       "    if(typeof define === \"function\" && define.amd) {\n",
       "      requirejs.config({paths});\n",
       "      require([\"vega-embed\"], displayChart, err => showError(`Error loading script: ${err.message}`));\n",
       "    } else if (typeof vegaEmbed === \"function\") {\n",
       "      displayChart(vegaEmbed);\n",
       "    } else {\n",
       "      loadScript(\"vega\")\n",
       "        .then(() => loadScript(\"vega-lite\"))\n",
       "        .then(() => loadScript(\"vega-embed\"))\n",
       "        .catch(showError)\n",
       "        .then(() => displayChart(vegaEmbed));\n",
       "    }\n",
       "  })({\"config\": {\"view\": {\"continuousWidth\": 400, \"continuousHeight\": 300}}, \"layer\": [{\"mark\": {\"type\": \"rect\", \"invalid\": null, \"stroke\": \"black\", \"strokeWidth\": 1}, \"encoding\": {\"color\": {\"type\": \"quantitative\", \"field\": \"values\", \"scale\": {\"scheme\": \"lightmulti\", \"type\": \"log\"}, \"title\": \"Input/second\"}, \"tooltip\": [{\"type\": \"quantitative\", \"field\": \"values\", \"title\": \"Input/sec\"}, {\"type\": \"nominal\", \"field\": \"x\", \"title\": \"Model\"}, {\"type\": \"nominal\", \"field\": \"y\", \"title\": \"Hardware Platform\"}], \"x\": {\"type\": \"ordinal\", \"field\": \"x\", \"title\": \"Models\"}, \"y\": {\"type\": \"ordinal\", \"field\": \"y\", \"title\": \"Hardware Platforms\"}}, \"height\": 350, \"selection\": {\"selector005\": {\"type\": \"single\", \"on\": \"mouseover\", \"nearest\": true}}, \"title\": \"Performance Prediction for MNIST\", \"width\": 700}, {\"mark\": {\"type\": \"text\", \"color\": \"white\"}, \"encoding\": {\"color\": {\"condition\": {\"value\": \"black\", \"test\": \"(datum.values > 1)\"}, \"value\": \"white\"}, \"text\": {\"type\": \"quantitative\", \"field\": \"values\", \"format\": \".0f\"}, \"tooltip\": [{\"type\": \"quantitative\", \"field\": \"values\", \"format\": \".0f\", \"title\": \"Input/sec\"}, {\"type\": \"nominal\", \"field\": \"x\", \"title\": \"Model\"}, {\"type\": \"nominal\", \"field\": \"y\", \"title\": \"Hardware Platform\"}], \"x\": {\"type\": \"ordinal\", \"field\": \"x\", \"title\": \"Models\"}, \"y\": {\"type\": \"ordinal\", \"field\": \"y\", \"title\": \"Hardware Platforms\"}}}], \"data\": {\"name\": \"data-174f917f9c3b5d412d450e8f5d2238a9\"}, \"$schema\": \"https://vega.github.io/schema/vega-lite/v4.0.2.json\", \"datasets\": {\"data-174f917f9c3b5d412d450e8f5d2238a9\": [{\"y\": \"Ultra96-DPU-INT8\", \"x\": \"MLP_100%_INT2\", \"values\": null}, {\"y\": \"ZCU104-DPU-INT8\", \"x\": \"MLP_100%_INT2\", \"values\": null}, {\"y\": \"ZCU102-DPU-INT8\", \"x\": \"MLP_100%_INT2\", \"values\": null}, {\"y\": \"ZCU104-FINN-INT2\", \"x\": \"MLP_100%_INT2\", \"values\": 7680.0}, {\"y\": \"ZCU104-FINN-INT4\", \"x\": \"MLP_100%_INT2\", \"values\": null}, {\"y\": \"ZCU104-BISMO-INT2\", \"x\": \"MLP_100%_INT2\", \"values\": 7680.0}, {\"y\": \"ZCU104-BISMO-INT4\", \"x\": \"MLP_100%_INT2\", \"values\": null}, {\"y\": \"TX2-maxn-FP16\", \"x\": \"MLP_100%_INT2\", \"values\": null}, {\"y\": \"TX2-maxn-FP32\", \"x\": \"MLP_100%_INT2\", \"values\": null}, {\"y\": \"TX2-maxp-FP16\", \"x\": \"MLP_100%_INT2\", \"values\": null}, {\"y\": \"TX2-maxp-FP32\", \"x\": \"MLP_100%_INT2\", \"values\": null}, {\"y\": \"TX2-maxq-FP16\", \"x\": \"MLP_100%_INT2\", \"values\": null}, {\"y\": \"TX2-maxq-FP32\", \"x\": \"MLP_100%_INT2\", \"values\": null}, {\"y\": \"TPU-fast-INT8\", \"x\": \"MLP_100%_INT2\", \"values\": null}, {\"y\": \"TPU-slow-INT8\", \"x\": \"MLP_100%_INT2\", \"values\": null}, {\"y\": \"NCS-INT8\", \"x\": \"MLP_100%_INT2\", \"values\": null}, {\"y\": \"NCS-FP16\", \"x\": \"MLP_100%_INT2\", \"values\": null}, {\"y\": \"U96-Quadcore A53-INT8\", \"x\": \"MLP_100%_INT2\", \"values\": 1704.0}, {\"y\": \"Ultra96-DPU-INT8\", \"x\": \"MLP_100%_INT4\", \"values\": null}, {\"y\": \"ZCU104-DPU-INT8\", \"x\": \"MLP_100%_INT4\", \"values\": null}, {\"y\": \"ZCU102-DPU-INT8\", \"x\": \"MLP_100%_INT4\", \"values\": null}, {\"y\": \"ZCU104-FINN-INT2\", \"x\": \"MLP_100%_INT4\", \"values\": null}, {\"y\": \"ZCU104-FINN-INT4\", \"x\": \"MLP_100%_INT4\", \"values\": 3840.0}, {\"y\": \"ZCU104-BISMO-INT2\", \"x\": \"MLP_100%_INT4\", \"values\": null}, {\"y\": \"ZCU104-BISMO-INT4\", \"x\": \"MLP_100%_INT4\", \"values\": 3840.0}, {\"y\": \"TX2-maxn-FP16\", \"x\": \"MLP_100%_INT4\", \"values\": null}, {\"y\": \"TX2-maxn-FP32\", \"x\": \"MLP_100%_INT4\", \"values\": null}, {\"y\": \"TX2-maxp-FP16\", \"x\": \"MLP_100%_INT4\", \"values\": null}, {\"y\": \"TX2-maxp-FP32\", \"x\": \"MLP_100%_INT4\", \"values\": null}, {\"y\": \"TX2-maxq-FP16\", \"x\": \"MLP_100%_INT4\", \"values\": null}, {\"y\": \"TX2-maxq-FP32\", \"x\": \"MLP_100%_INT4\", \"values\": null}, {\"y\": \"TPU-fast-INT8\", \"x\": \"MLP_100%_INT4\", \"values\": null}, {\"y\": \"TPU-slow-INT8\", \"x\": \"MLP_100%_INT4\", \"values\": null}, {\"y\": \"NCS-INT8\", \"x\": \"MLP_100%_INT4\", \"values\": null}, {\"y\": \"NCS-FP16\", \"x\": \"MLP_100%_INT4\", \"values\": null}, {\"y\": \"U96-Quadcore A53-INT8\", \"x\": \"MLP_100%_INT4\", \"values\": 852.0}, {\"y\": \"Ultra96-DPU-INT8\", \"x\": \"MLP_100%_FP16\", \"values\": null}, {\"y\": \"ZCU104-DPU-INT8\", \"x\": \"MLP_100%_FP16\", \"values\": null}, {\"y\": \"ZCU102-DPU-INT8\", \"x\": \"MLP_100%_FP16\", \"values\": null}, {\"y\": \"ZCU104-FINN-INT2\", \"x\": \"MLP_100%_FP16\", \"values\": null}, {\"y\": \"ZCU104-FINN-INT4\", \"x\": \"MLP_100%_FP16\", \"values\": null}, {\"y\": \"ZCU104-BISMO-INT2\", \"x\": \"MLP_100%_FP16\", \"values\": null}, {\"y\": \"ZCU104-BISMO-INT4\", \"x\": \"MLP_100%_FP16\", \"values\": null}, {\"y\": \"TX2-maxn-FP16\", \"x\": \"MLP_100%_FP16\", \"values\": 2985.0}, {\"y\": \"TX2-maxn-FP32\", \"x\": \"MLP_100%_FP16\", \"values\": null}, {\"y\": \"TX2-maxp-FP16\", \"x\": \"MLP_100%_FP16\", \"values\": 2985.0}, {\"y\": \"TX2-maxp-FP32\", \"x\": \"MLP_100%_FP16\", \"values\": null}, {\"y\": \"TX2-maxq-FP16\", \"x\": \"MLP_100%_FP16\", \"values\": 2985.0}, {\"y\": \"TX2-maxq-FP32\", \"x\": \"MLP_100%_FP16\", \"values\": null}, {\"y\": \"TPU-fast-INT8\", \"x\": \"MLP_100%_FP16\", \"values\": null}, {\"y\": \"TPU-slow-INT8\", \"x\": \"MLP_100%_FP16\", \"values\": null}, {\"y\": \"NCS-INT8\", \"x\": \"MLP_100%_FP16\", \"values\": null}, {\"y\": \"NCS-FP16\", \"x\": \"MLP_100%_FP16\", \"values\": 640.0}, {\"y\": \"U96-Quadcore A53-INT8\", \"x\": \"MLP_100%_FP16\", \"values\": null}, {\"y\": \"Ultra96-DPU-INT8\", \"x\": \"MLP_100%_FP32\", \"values\": null}, {\"y\": \"ZCU104-DPU-INT8\", \"x\": \"MLP_100%_FP32\", \"values\": null}, {\"y\": \"ZCU102-DPU-INT8\", \"x\": \"MLP_100%_FP32\", \"values\": null}, {\"y\": \"ZCU104-FINN-INT2\", \"x\": \"MLP_100%_FP32\", \"values\": null}, {\"y\": \"ZCU104-FINN-INT4\", \"x\": \"MLP_100%_FP32\", \"values\": null}, {\"y\": \"ZCU104-BISMO-INT2\", \"x\": \"MLP_100%_FP32\", \"values\": null}, {\"y\": \"ZCU104-BISMO-INT4\", \"x\": \"MLP_100%_FP32\", \"values\": null}, {\"y\": \"TX2-maxn-FP16\", \"x\": \"MLP_100%_FP32\", \"values\": null}, {\"y\": \"TX2-maxn-FP32\", \"x\": \"MLP_100%_FP32\", \"values\": 1492.5}, {\"y\": \"TX2-maxp-FP16\", \"x\": \"MLP_100%_FP32\", \"values\": null}, {\"y\": \"TX2-maxp-FP32\", \"x\": \"MLP_100%_FP32\", \"values\": 1492.5}, {\"y\": \"TX2-maxq-FP16\", \"x\": \"MLP_100%_FP32\", \"values\": null}, {\"y\": \"TX2-maxq-FP32\", \"x\": \"MLP_100%_FP32\", \"values\": 1492.5}, {\"y\": \"TPU-fast-INT8\", \"x\": \"MLP_100%_FP32\", \"values\": null}, {\"y\": \"TPU-slow-INT8\", \"x\": \"MLP_100%_FP32\", \"values\": null}, {\"y\": \"NCS-INT8\", \"x\": \"MLP_100%_FP32\", \"values\": null}, {\"y\": \"NCS-FP16\", \"x\": \"MLP_100%_FP32\", \"values\": null}, {\"y\": \"U96-Quadcore A53-INT8\", \"x\": \"MLP_100%_FP32\", \"values\": null}, {\"y\": \"Ultra96-DPU-INT8\", \"x\": \"MLP_50%_INT2\", \"values\": null}, {\"y\": \"ZCU104-DPU-INT8\", \"x\": \"MLP_50%_INT2\", \"values\": null}, {\"y\": \"ZCU102-DPU-INT8\", \"x\": \"MLP_50%_INT2\", \"values\": null}, {\"y\": \"ZCU104-FINN-INT2\", \"x\": \"MLP_50%_INT2\", \"values\": 25600.0}, {\"y\": \"ZCU104-FINN-INT4\", \"x\": \"MLP_50%_INT2\", \"values\": null}, {\"y\": \"ZCU104-BISMO-INT2\", \"x\": \"MLP_50%_INT2\", \"values\": 25600.0}, {\"y\": \"ZCU104-BISMO-INT4\", \"x\": \"MLP_50%_INT2\", \"values\": null}, {\"y\": \"TX2-maxn-FP16\", \"x\": \"MLP_50%_INT2\", \"values\": null}, {\"y\": \"TX2-maxn-FP32\", \"x\": \"MLP_50%_INT2\", \"values\": null}, {\"y\": \"TX2-maxp-FP16\", \"x\": \"MLP_50%_INT2\", \"values\": null}, {\"y\": \"TX2-maxp-FP32\", \"x\": \"MLP_50%_INT2\", \"values\": null}, {\"y\": \"TX2-maxq-FP16\", \"x\": \"MLP_50%_INT2\", \"values\": null}, {\"y\": \"TX2-maxq-FP32\", \"x\": \"MLP_50%_INT2\", \"values\": null}, {\"y\": \"TPU-fast-INT8\", \"x\": \"MLP_50%_INT2\", \"values\": null}, {\"y\": \"TPU-slow-INT8\", \"x\": \"MLP_50%_INT2\", \"values\": null}, {\"y\": \"NCS-INT8\", \"x\": \"MLP_50%_INT2\", \"values\": null}, {\"y\": \"NCS-FP16\", \"x\": \"MLP_50%_INT2\", \"values\": null}, {\"y\": \"U96-Quadcore A53-INT8\", \"x\": \"MLP_50%_INT2\", \"values\": 5680.0}, {\"y\": \"Ultra96-DPU-INT8\", \"x\": \"MLP_50%_INT4\", \"values\": null}, {\"y\": \"ZCU104-DPU-INT8\", \"x\": \"MLP_50%_INT4\", \"values\": null}, {\"y\": \"ZCU102-DPU-INT8\", \"x\": \"MLP_50%_INT4\", \"values\": null}, {\"y\": \"ZCU104-FINN-INT2\", \"x\": \"MLP_50%_INT4\", \"values\": null}, {\"y\": \"ZCU104-FINN-INT4\", \"x\": \"MLP_50%_INT4\", \"values\": 12800.0}, {\"y\": \"ZCU104-BISMO-INT2\", \"x\": \"MLP_50%_INT4\", \"values\": null}, {\"y\": \"ZCU104-BISMO-INT4\", \"x\": \"MLP_50%_INT4\", \"values\": 12800.0}, {\"y\": \"TX2-maxn-FP16\", \"x\": \"MLP_50%_INT4\", \"values\": null}, {\"y\": \"TX2-maxn-FP32\", \"x\": \"MLP_50%_INT4\", \"values\": null}, {\"y\": \"TX2-maxp-FP16\", \"x\": \"MLP_50%_INT4\", \"values\": null}, {\"y\": \"TX2-maxp-FP32\", \"x\": \"MLP_50%_INT4\", \"values\": null}, {\"y\": \"TX2-maxq-FP16\", \"x\": \"MLP_50%_INT4\", \"values\": null}, {\"y\": \"TX2-maxq-FP32\", \"x\": \"MLP_50%_INT4\", \"values\": null}, {\"y\": \"TPU-fast-INT8\", \"x\": \"MLP_50%_INT4\", \"values\": null}, {\"y\": \"TPU-slow-INT8\", \"x\": \"MLP_50%_INT4\", \"values\": null}, {\"y\": \"NCS-INT8\", \"x\": \"MLP_50%_INT4\", \"values\": null}, {\"y\": \"NCS-FP16\", \"x\": \"MLP_50%_INT4\", \"values\": null}, {\"y\": \"U96-Quadcore A53-INT8\", \"x\": \"MLP_50%_INT4\", \"values\": 2840.0}, {\"y\": \"Ultra96-DPU-INT8\", \"x\": \"MLP_50%_FP16\", \"values\": null}, {\"y\": \"ZCU104-DPU-INT8\", \"x\": \"MLP_50%_FP16\", \"values\": null}, {\"y\": \"ZCU102-DPU-INT8\", \"x\": \"MLP_50%_FP16\", \"values\": null}, {\"y\": \"ZCU104-FINN-INT2\", \"x\": \"MLP_50%_FP16\", \"values\": null}, {\"y\": \"ZCU104-FINN-INT4\", \"x\": \"MLP_50%_FP16\", \"values\": null}, {\"y\": \"ZCU104-BISMO-INT2\", \"x\": \"MLP_50%_FP16\", \"values\": null}, {\"y\": \"ZCU104-BISMO-INT4\", \"x\": \"MLP_50%_FP16\", \"values\": null}, {\"y\": \"TX2-maxn-FP16\", \"x\": \"MLP_50%_FP16\", \"values\": 9950.0}, {\"y\": \"TX2-maxn-FP32\", \"x\": \"MLP_50%_FP16\", \"values\": null}, {\"y\": \"TX2-maxp-FP16\", \"x\": \"MLP_50%_FP16\", \"values\": 9950.0}, {\"y\": \"TX2-maxp-FP32\", \"x\": \"MLP_50%_FP16\", \"values\": null}, {\"y\": \"TX2-maxq-FP16\", \"x\": \"MLP_50%_FP16\", \"values\": 9950.0}, {\"y\": \"TX2-maxq-FP32\", \"x\": \"MLP_50%_FP16\", \"values\": null}, {\"y\": \"TPU-fast-INT8\", \"x\": \"MLP_50%_FP16\", \"values\": null}, {\"y\": \"TPU-slow-INT8\", \"x\": \"MLP_50%_FP16\", \"values\": null}, {\"y\": \"NCS-INT8\", \"x\": \"MLP_50%_FP16\", \"values\": null}, {\"y\": \"NCS-FP16\", \"x\": \"MLP_50%_FP16\", \"values\": 2133.333333}, {\"y\": \"U96-Quadcore A53-INT8\", \"x\": \"MLP_50%_FP16\", \"values\": null}, {\"y\": \"Ultra96-DPU-INT8\", \"x\": \"MLP_50%_FP32\", \"values\": null}, {\"y\": \"ZCU104-DPU-INT8\", \"x\": \"MLP_50%_FP32\", \"values\": null}, {\"y\": \"ZCU102-DPU-INT8\", \"x\": \"MLP_50%_FP32\", \"values\": null}, {\"y\": \"ZCU104-FINN-INT2\", \"x\": \"MLP_50%_FP32\", \"values\": null}, {\"y\": \"ZCU104-FINN-INT4\", \"x\": \"MLP_50%_FP32\", \"values\": null}, {\"y\": \"ZCU104-BISMO-INT2\", \"x\": \"MLP_50%_FP32\", \"values\": null}, {\"y\": \"ZCU104-BISMO-INT4\", \"x\": \"MLP_50%_FP32\", \"values\": null}, {\"y\": \"TX2-maxn-FP16\", \"x\": \"MLP_50%_FP32\", \"values\": null}, {\"y\": \"TX2-maxn-FP32\", \"x\": \"MLP_50%_FP32\", \"values\": 4975.0}, {\"y\": \"TX2-maxp-FP16\", \"x\": \"MLP_50%_FP32\", \"values\": null}, {\"y\": \"TX2-maxp-FP32\", \"x\": \"MLP_50%_FP32\", \"values\": 4975.0}, {\"y\": \"TX2-maxq-FP16\", \"x\": \"MLP_50%_FP32\", \"values\": null}, {\"y\": \"TX2-maxq-FP32\", \"x\": \"MLP_50%_FP32\", \"values\": 4975.0}, {\"y\": \"TPU-fast-INT8\", \"x\": \"MLP_50%_FP32\", \"values\": null}, {\"y\": \"TPU-slow-INT8\", \"x\": \"MLP_50%_FP32\", \"values\": null}, {\"y\": \"NCS-INT8\", \"x\": \"MLP_50%_FP32\", \"values\": null}, {\"y\": \"NCS-FP16\", \"x\": \"MLP_50%_FP32\", \"values\": null}, {\"y\": \"U96-Quadcore A53-INT8\", \"x\": \"MLP_50%_FP32\", \"values\": null}, {\"y\": \"Ultra96-DPU-INT8\", \"x\": \"MLP_25%_INT2\", \"values\": null}, {\"y\": \"ZCU104-DPU-INT8\", \"x\": \"MLP_25%_INT2\", \"values\": null}, {\"y\": \"ZCU102-DPU-INT8\", \"x\": \"MLP_25%_INT2\", \"values\": null}, {\"y\": \"ZCU104-FINN-INT2\", \"x\": \"MLP_25%_INT2\", \"values\": 38400.0}, {\"y\": \"ZCU104-FINN-INT4\", \"x\": \"MLP_25%_INT2\", \"values\": null}, {\"y\": \"ZCU104-BISMO-INT2\", \"x\": \"MLP_25%_INT2\", \"values\": 76800.0}, {\"y\": \"ZCU104-BISMO-INT4\", \"x\": \"MLP_25%_INT2\", \"values\": null}, {\"y\": \"TX2-maxn-FP16\", \"x\": \"MLP_25%_INT2\", \"values\": null}, {\"y\": \"TX2-maxn-FP32\", \"x\": \"MLP_25%_INT2\", \"values\": null}, {\"y\": \"TX2-maxp-FP16\", \"x\": \"MLP_25%_INT2\", \"values\": null}, {\"y\": \"TX2-maxp-FP32\", \"x\": \"MLP_25%_INT2\", \"values\": null}, {\"y\": \"TX2-maxq-FP16\", \"x\": \"MLP_25%_INT2\", \"values\": null}, {\"y\": \"TX2-maxq-FP32\", \"x\": \"MLP_25%_INT2\", \"values\": null}, {\"y\": \"TPU-fast-INT8\", \"x\": \"MLP_25%_INT2\", \"values\": null}, {\"y\": \"TPU-slow-INT8\", \"x\": \"MLP_25%_INT2\", \"values\": null}, {\"y\": \"NCS-INT8\", \"x\": \"MLP_25%_INT2\", \"values\": null}, {\"y\": \"NCS-FP16\", \"x\": \"MLP_25%_INT2\", \"values\": null}, {\"y\": \"U96-Quadcore A53-INT8\", \"x\": \"MLP_25%_INT2\", \"values\": 17040.0}, {\"y\": \"Ultra96-DPU-INT8\", \"x\": \"MLP_25%_INT4\", \"values\": null}, {\"y\": \"ZCU104-DPU-INT8\", \"x\": \"MLP_25%_INT4\", \"values\": null}, {\"y\": \"ZCU102-DPU-INT8\", \"x\": \"MLP_25%_INT4\", \"values\": null}, {\"y\": \"ZCU104-FINN-INT2\", \"x\": \"MLP_25%_INT4\", \"values\": null}, {\"y\": \"ZCU104-FINN-INT4\", \"x\": \"MLP_25%_INT4\", \"values\": 38400.0}, {\"y\": \"ZCU104-BISMO-INT2\", \"x\": \"MLP_25%_INT4\", \"values\": null}, {\"y\": \"ZCU104-BISMO-INT4\", \"x\": \"MLP_25%_INT4\", \"values\": 38400.0}, {\"y\": \"TX2-maxn-FP16\", \"x\": \"MLP_25%_INT4\", \"values\": null}, {\"y\": \"TX2-maxn-FP32\", \"x\": \"MLP_25%_INT4\", \"values\": null}, {\"y\": \"TX2-maxp-FP16\", \"x\": \"MLP_25%_INT4\", \"values\": null}, {\"y\": \"TX2-maxp-FP32\", \"x\": \"MLP_25%_INT4\", \"values\": null}, {\"y\": \"TX2-maxq-FP16\", \"x\": \"MLP_25%_INT4\", \"values\": null}, {\"y\": \"TX2-maxq-FP32\", \"x\": \"MLP_25%_INT4\", \"values\": null}, {\"y\": \"TPU-fast-INT8\", \"x\": \"MLP_25%_INT4\", \"values\": null}, {\"y\": \"TPU-slow-INT8\", \"x\": \"MLP_25%_INT4\", \"values\": null}, {\"y\": \"NCS-INT8\", \"x\": \"MLP_25%_INT4\", \"values\": null}, {\"y\": \"NCS-FP16\", \"x\": \"MLP_25%_INT4\", \"values\": null}, {\"y\": \"U96-Quadcore A53-INT8\", \"x\": \"MLP_25%_INT4\", \"values\": 8520.0}, {\"y\": \"Ultra96-DPU-INT8\", \"x\": \"MLP_25%_FP16\", \"values\": null}, {\"y\": \"ZCU104-DPU-INT8\", \"x\": \"MLP_25%_FP16\", \"values\": null}, {\"y\": \"ZCU102-DPU-INT8\", \"x\": \"MLP_25%_FP16\", \"values\": null}, {\"y\": \"ZCU104-FINN-INT2\", \"x\": \"MLP_25%_FP16\", \"values\": null}, {\"y\": \"ZCU104-FINN-INT4\", \"x\": \"MLP_25%_FP16\", \"values\": null}, {\"y\": \"ZCU104-BISMO-INT2\", \"x\": \"MLP_25%_FP16\", \"values\": null}, {\"y\": \"ZCU104-BISMO-INT4\", \"x\": \"MLP_25%_FP16\", \"values\": null}, {\"y\": \"TX2-maxn-FP16\", \"x\": \"MLP_25%_FP16\", \"values\": 29850.0}, {\"y\": \"TX2-maxn-FP32\", \"x\": \"MLP_25%_FP16\", \"values\": null}, {\"y\": \"TX2-maxp-FP16\", \"x\": \"MLP_25%_FP16\", \"values\": 29850.0}, {\"y\": \"TX2-maxp-FP32\", \"x\": \"MLP_25%_FP16\", \"values\": null}, {\"y\": \"TX2-maxq-FP16\", \"x\": \"MLP_25%_FP16\", \"values\": 29850.0}, {\"y\": \"TX2-maxq-FP32\", \"x\": \"MLP_25%_FP16\", \"values\": null}, {\"y\": \"TPU-fast-INT8\", \"x\": \"MLP_25%_FP16\", \"values\": null}, {\"y\": \"TPU-slow-INT8\", \"x\": \"MLP_25%_FP16\", \"values\": null}, {\"y\": \"NCS-INT8\", \"x\": \"MLP_25%_FP16\", \"values\": null}, {\"y\": \"NCS-FP16\", \"x\": \"MLP_25%_FP16\", \"values\": 6400.0}, {\"y\": \"U96-Quadcore A53-INT8\", \"x\": \"MLP_25%_FP16\", \"values\": null}, {\"y\": \"Ultra96-DPU-INT8\", \"x\": \"MLP_25%_FP32\", \"values\": null}, {\"y\": \"ZCU104-DPU-INT8\", \"x\": \"MLP_25%_FP32\", \"values\": null}, {\"y\": \"ZCU102-DPU-INT8\", \"x\": \"MLP_25%_FP32\", \"values\": null}, {\"y\": \"ZCU104-FINN-INT2\", \"x\": \"MLP_25%_FP32\", \"values\": null}, {\"y\": \"ZCU104-FINN-INT4\", \"x\": \"MLP_25%_FP32\", \"values\": null}, {\"y\": \"ZCU104-BISMO-INT2\", \"x\": \"MLP_25%_FP32\", \"values\": null}, {\"y\": \"ZCU104-BISMO-INT4\", \"x\": \"MLP_25%_FP32\", \"values\": null}, {\"y\": \"TX2-maxn-FP16\", \"x\": \"MLP_25%_FP32\", \"values\": null}, {\"y\": \"TX2-maxn-FP32\", \"x\": \"MLP_25%_FP32\", \"values\": 14925.0}, {\"y\": \"TX2-maxp-FP16\", \"x\": \"MLP_25%_FP32\", \"values\": null}, {\"y\": \"TX2-maxp-FP32\", \"x\": \"MLP_25%_FP32\", \"values\": 14925.0}, {\"y\": \"TX2-maxq-FP16\", \"x\": \"MLP_25%_FP32\", \"values\": null}, {\"y\": \"TX2-maxq-FP32\", \"x\": \"MLP_25%_FP32\", \"values\": 14925.0}, {\"y\": \"TPU-fast-INT8\", \"x\": \"MLP_25%_FP32\", \"values\": null}, {\"y\": \"TPU-slow-INT8\", \"x\": \"MLP_25%_FP32\", \"values\": null}, {\"y\": \"NCS-INT8\", \"x\": \"MLP_25%_FP32\", \"values\": null}, {\"y\": \"NCS-FP16\", \"x\": \"MLP_25%_FP32\", \"values\": null}, {\"y\": \"U96-Quadcore A53-INT8\", \"x\": \"MLP_25%_FP32\", \"values\": null}, {\"y\": \"Ultra96-DPU-INT8\", \"x\": \"MLP_12.5%_INT2\", \"values\": null}, {\"y\": \"ZCU104-DPU-INT8\", \"x\": \"MLP_12.5%_INT2\", \"values\": null}, {\"y\": \"ZCU102-DPU-INT8\", \"x\": \"MLP_12.5%_INT2\", \"values\": null}, {\"y\": \"ZCU104-FINN-INT2\", \"x\": \"MLP_12.5%_INT2\", \"values\": 229709.0352}, {\"y\": \"ZCU104-FINN-INT4\", \"x\": \"MLP_12.5%_INT2\", \"values\": null}, {\"y\": \"ZCU104-BISMO-INT2\", \"x\": \"MLP_12.5%_INT2\", \"values\": 229709.0352}, {\"y\": \"ZCU104-BISMO-INT4\", \"x\": \"MLP_12.5%_INT2\", \"values\": null}, {\"y\": \"TX2-maxn-FP16\", \"x\": \"MLP_12.5%_INT2\", \"values\": null}, {\"y\": \"TX2-maxn-FP32\", \"x\": \"MLP_12.5%_INT2\", \"values\": null}, {\"y\": \"TX2-maxp-FP16\", \"x\": \"MLP_12.5%_INT2\", \"values\": null}, {\"y\": \"TX2-maxp-FP32\", \"x\": \"MLP_12.5%_INT2\", \"values\": null}, {\"y\": \"TX2-maxq-FP16\", \"x\": \"MLP_12.5%_INT2\", \"values\": null}, {\"y\": \"TX2-maxq-FP32\", \"x\": \"MLP_12.5%_INT2\", \"values\": null}, {\"y\": \"TPU-fast-INT8\", \"x\": \"MLP_12.5%_INT2\", \"values\": null}, {\"y\": \"TPU-slow-INT8\", \"x\": \"MLP_12.5%_INT2\", \"values\": null}, {\"y\": \"NCS-INT8\", \"x\": \"MLP_12.5%_INT2\", \"values\": null}, {\"y\": \"NCS-FP16\", \"x\": \"MLP_12.5%_INT2\", \"values\": null}, {\"y\": \"U96-Quadcore A53-INT8\", \"x\": \"MLP_12.5%_INT2\", \"values\": 50966.69219}, {\"y\": \"Ultra96-DPU-INT8\", \"x\": \"MLP_12.5%_INT4\", \"values\": null}, {\"y\": \"ZCU104-DPU-INT8\", \"x\": \"MLP_12.5%_INT4\", \"values\": null}, {\"y\": \"ZCU102-DPU-INT8\", \"x\": \"MLP_12.5%_INT4\", \"values\": null}, {\"y\": \"ZCU104-FINN-INT2\", \"x\": \"MLP_12.5%_INT4\", \"values\": null}, {\"y\": \"ZCU104-FINN-INT4\", \"x\": \"MLP_12.5%_INT4\", \"values\": 114854.5176}, {\"y\": \"ZCU104-BISMO-INT2\", \"x\": \"MLP_12.5%_INT4\", \"values\": null}, {\"y\": \"ZCU104-BISMO-INT4\", \"x\": \"MLP_12.5%_INT4\", \"values\": 114854.5176}, {\"y\": \"TX2-maxn-FP16\", \"x\": \"MLP_12.5%_INT4\", \"values\": null}, {\"y\": \"TX2-maxn-FP32\", \"x\": \"MLP_12.5%_INT4\", \"values\": null}, {\"y\": \"TX2-maxp-FP16\", \"x\": \"MLP_12.5%_INT4\", \"values\": null}, {\"y\": \"TX2-maxp-FP32\", \"x\": \"MLP_12.5%_INT4\", \"values\": null}, {\"y\": \"TX2-maxq-FP16\", \"x\": \"MLP_12.5%_INT4\", \"values\": null}, {\"y\": \"TX2-maxq-FP32\", \"x\": \"MLP_12.5%_INT4\", \"values\": null}, {\"y\": \"TPU-fast-INT8\", \"x\": \"MLP_12.5%_INT4\", \"values\": null}, {\"y\": \"TPU-slow-INT8\", \"x\": \"MLP_12.5%_INT4\", \"values\": null}, {\"y\": \"NCS-INT8\", \"x\": \"MLP_12.5%_INT4\", \"values\": null}, {\"y\": \"NCS-FP16\", \"x\": \"MLP_12.5%_INT4\", \"values\": null}, {\"y\": \"U96-Quadcore A53-INT8\", \"x\": \"MLP_12.5%_INT4\", \"values\": 25483.34609}, {\"y\": \"Ultra96-DPU-INT8\", \"x\": \"MLP_12.5%_FP16\", \"values\": null}, {\"y\": \"ZCU104-DPU-INT8\", \"x\": \"MLP_12.5%_FP16\", \"values\": null}, {\"y\": \"ZCU102-DPU-INT8\", \"x\": \"MLP_12.5%_FP16\", \"values\": null}, {\"y\": \"ZCU104-FINN-INT2\", \"x\": \"MLP_12.5%_FP16\", \"values\": null}, {\"y\": \"ZCU104-FINN-INT4\", \"x\": \"MLP_12.5%_FP16\", \"values\": null}, {\"y\": \"ZCU104-BISMO-INT2\", \"x\": \"MLP_12.5%_FP16\", \"values\": null}, {\"y\": \"ZCU104-BISMO-INT4\", \"x\": \"MLP_12.5%_FP16\", \"values\": null}, {\"y\": \"TX2-maxn-FP16\", \"x\": \"MLP_12.5%_FP16\", \"values\": 89281.44142}, {\"y\": \"TX2-maxn-FP32\", \"x\": \"MLP_12.5%_FP16\", \"values\": null}, {\"y\": \"TX2-maxp-FP16\", \"x\": \"MLP_12.5%_FP16\", \"values\": 89281.44142}, {\"y\": \"TX2-maxp-FP32\", \"x\": \"MLP_12.5%_FP16\", \"values\": null}, {\"y\": \"TX2-maxq-FP16\", \"x\": \"MLP_12.5%_FP16\", \"values\": 89281.44142}, {\"y\": \"TX2-maxq-FP32\", \"x\": \"MLP_12.5%_FP16\", \"values\": null}, {\"y\": \"TPU-fast-INT8\", \"x\": \"MLP_12.5%_FP16\", \"values\": null}, {\"y\": \"TPU-slow-INT8\", \"x\": \"MLP_12.5%_FP16\", \"values\": null}, {\"y\": \"NCS-INT8\", \"x\": \"MLP_12.5%_FP16\", \"values\": null}, {\"y\": \"NCS-FP16\", \"x\": \"MLP_12.5%_FP16\", \"values\": 19142.4196}, {\"y\": \"U96-Quadcore A53-INT8\", \"x\": \"MLP_12.5%_FP16\", \"values\": null}, {\"y\": \"Ultra96-DPU-INT8\", \"x\": \"MLP_12.5%_FP32\", \"values\": null}, {\"y\": \"ZCU104-DPU-INT8\", \"x\": \"MLP_12.5%_FP32\", \"values\": null}, {\"y\": \"ZCU102-DPU-INT8\", \"x\": \"MLP_12.5%_FP32\", \"values\": null}, {\"y\": \"ZCU104-FINN-INT2\", \"x\": \"MLP_12.5%_FP32\", \"values\": null}, {\"y\": \"ZCU104-FINN-INT4\", \"x\": \"MLP_12.5%_FP32\", \"values\": null}, {\"y\": \"ZCU104-BISMO-INT2\", \"x\": \"MLP_12.5%_FP32\", \"values\": null}, {\"y\": \"ZCU104-BISMO-INT4\", \"x\": \"MLP_12.5%_FP32\", \"values\": null}, {\"y\": \"TX2-maxn-FP16\", \"x\": \"MLP_12.5%_FP32\", \"values\": null}, {\"y\": \"TX2-maxn-FP32\", \"x\": \"MLP_12.5%_FP32\", \"values\": 44640.72071}, {\"y\": \"TX2-maxp-FP16\", \"x\": \"MLP_12.5%_FP32\", \"values\": null}, {\"y\": \"TX2-maxp-FP32\", \"x\": \"MLP_12.5%_FP32\", \"values\": 44640.72071}, {\"y\": \"TX2-maxq-FP16\", \"x\": \"MLP_12.5%_FP32\", \"values\": null}, {\"y\": \"TX2-maxq-FP32\", \"x\": \"MLP_12.5%_FP32\", \"values\": 44640.72071}, {\"y\": \"TPU-fast-INT8\", \"x\": \"MLP_12.5%_FP32\", \"values\": null}, {\"y\": \"TPU-slow-INT8\", \"x\": \"MLP_12.5%_FP32\", \"values\": null}, {\"y\": \"NCS-INT8\", \"x\": \"MLP_12.5%_FP32\", \"values\": null}, {\"y\": \"NCS-FP16\", \"x\": \"MLP_12.5%_FP32\", \"values\": null}, {\"y\": \"U96-Quadcore A53-INT8\", \"x\": \"MLP_12.5%_FP32\", \"values\": null}]}}, {\"mode\": \"vega-lite\"});\n",
       "</script>"
      ],
      "text/plain": [
       "alt.LayerChart(...)"
      ]
     },
     "execution_count": 10,
     "metadata": {},
     "output_type": "execute_result"
    }
   ],
   "source": [
    "#hide_input\n",
    "%run scripts/altair_plots.py\n",
    "#load mnist dataset and plot it\n",
    "heatmap(pd.read_csv(\"data/cleaned_csv/performance_prediction_mnist.csv\"), 'red', 'Performance Prediction for MNIST')"
   ]
  },
  {
   "cell_type": "markdown",
   "metadata": {},
   "source": [
    "### ImageNet"
   ]
  },
  {
   "cell_type": "markdown",
   "metadata": {},
   "source": [
    "For ImageNet, quantization combined with pruning also deliver some of best performance results."
   ]
  },
  {
   "cell_type": "code",
   "execution_count": 11,
   "metadata": {},
   "outputs": [
    {
     "data": {
      "text/html": [
       "\n",
       "<div id=\"altair-viz-305996beeefc4aa8af55d3387eb59057\"></div>\n",
       "<script type=\"text/javascript\">\n",
       "  (function(spec, embedOpt){\n",
       "    const outputDiv = document.getElementById(\"altair-viz-305996beeefc4aa8af55d3387eb59057\");\n",
       "    const paths = {\n",
       "      \"vega\": \"https://cdn.jsdelivr.net/npm//vega@5?noext\",\n",
       "      \"vega-lib\": \"https://cdn.jsdelivr.net/npm//vega-lib?noext\",\n",
       "      \"vega-lite\": \"https://cdn.jsdelivr.net/npm//vega-lite@4.0.2?noext\",\n",
       "      \"vega-embed\": \"https://cdn.jsdelivr.net/npm//vega-embed@6?noext\",\n",
       "    };\n",
       "\n",
       "    function loadScript(lib) {\n",
       "      return new Promise(function(resolve, reject) {\n",
       "        var s = document.createElement('script');\n",
       "        s.src = paths[lib];\n",
       "        s.async = true;\n",
       "        s.onload = () => resolve(paths[lib]);\n",
       "        s.onerror = () => reject(`Error loading script: ${paths[lib]}`);\n",
       "        document.getElementsByTagName(\"head\")[0].appendChild(s);\n",
       "      });\n",
       "    }\n",
       "\n",
       "    function showError(err) {\n",
       "      outputDiv.innerHTML = `<div class=\"error\" style=\"color:red;\">${err}</div>`;\n",
       "      throw err;\n",
       "    }\n",
       "\n",
       "    function displayChart(vegaEmbed) {\n",
       "      vegaEmbed(outputDiv, spec, embedOpt)\n",
       "        .catch(err => showError(`Javascript Error: ${err.message}<br>This usually means there's a typo in your chart specification. See the javascript console for the full traceback.`));\n",
       "    }\n",
       "\n",
       "    if(typeof define === \"function\" && define.amd) {\n",
       "      requirejs.config({paths});\n",
       "      require([\"vega-embed\"], displayChart, err => showError(`Error loading script: ${err.message}`));\n",
       "    } else if (typeof vegaEmbed === \"function\") {\n",
       "      displayChart(vegaEmbed);\n",
       "    } else {\n",
       "      loadScript(\"vega\")\n",
       "        .then(() => loadScript(\"vega-lite\"))\n",
       "        .then(() => loadScript(\"vega-embed\"))\n",
       "        .catch(showError)\n",
       "        .then(() => displayChart(vegaEmbed));\n",
       "    }\n",
       "  })({\"config\": {\"view\": {\"continuousWidth\": 400, \"continuousHeight\": 300}}, \"layer\": [{\"mark\": {\"type\": \"rect\", \"invalid\": null, \"stroke\": \"black\", \"strokeWidth\": 1}, \"encoding\": {\"color\": {\"type\": \"quantitative\", \"field\": \"values\", \"scale\": {\"scheme\": \"lightmulti\", \"type\": \"log\"}, \"title\": \"Input/second\"}, \"tooltip\": [{\"type\": \"quantitative\", \"field\": \"values\", \"title\": \"Input/sec\"}, {\"type\": \"nominal\", \"field\": \"x\", \"title\": \"Model\"}, {\"type\": \"nominal\", \"field\": \"y\", \"title\": \"Hardware Platform\"}], \"x\": {\"type\": \"ordinal\", \"field\": \"x\", \"title\": \"Models\"}, \"y\": {\"type\": \"ordinal\", \"field\": \"y\", \"title\": \"Hardware Platforms\"}}, \"height\": 350, \"selection\": {\"selector006\": {\"type\": \"single\", \"on\": \"mouseover\", \"nearest\": true}}, \"title\": \"Performance Prediction for Imagenet\", \"width\": 700}, {\"mark\": {\"type\": \"text\", \"color\": \"white\"}, \"encoding\": {\"color\": {\"condition\": {\"value\": \"black\", \"test\": \"(datum.values > 1)\"}, \"value\": \"white\"}, \"text\": {\"type\": \"quantitative\", \"field\": \"values\", \"format\": \".0f\"}, \"tooltip\": [{\"type\": \"quantitative\", \"field\": \"values\", \"format\": \".0f\", \"title\": \"Input/sec\"}, {\"type\": \"nominal\", \"field\": \"x\", \"title\": \"Model\"}, {\"type\": \"nominal\", \"field\": \"y\", \"title\": \"Hardware Platform\"}], \"x\": {\"type\": \"ordinal\", \"field\": \"x\", \"title\": \"Models\"}, \"y\": {\"type\": \"ordinal\", \"field\": \"y\", \"title\": \"Hardware Platforms\"}}}], \"data\": {\"name\": \"data-7dbf82fa16d35d2d0060bba2d19f9d1b\"}, \"$schema\": \"https://vega.github.io/schema/vega-lite/v4.0.2.json\", \"datasets\": {\"data-7dbf82fa16d35d2d0060bba2d19f9d1b\": [{\"y\": \"Ultra96-DPU-INT8\", \"x\": \"GoogleNetv1_INT8\", \"values\": 306.7092652}, {\"y\": \"ZCU104-DPU-INT8\", \"x\": \"GoogleNetv1_INT8\", \"values\": 1469.648562}, {\"y\": \"ZCU102-DPU-INT8\", \"x\": \"GoogleNetv1_INT8\", \"values\": 2143.769968}, {\"y\": \"ZCU104-FINN-INT2\", \"x\": \"GoogleNetv1_INT8\", \"values\": null}, {\"y\": \"ZCU104-FINN-INT4\", \"x\": \"GoogleNetv1_INT8\", \"values\": null}, {\"y\": \"ZCU104-BISMO-INT2\", \"x\": \"GoogleNetv1_INT8\", \"values\": null}, {\"y\": \"ZCU104-BISMO-INT4\", \"x\": \"GoogleNetv1_INT8\", \"values\": null}, {\"y\": \"TX2-maxn-FP16\", \"x\": \"GoogleNetv1_INT8\", \"values\": null}, {\"y\": \"TX2-maxn-FP32\", \"x\": \"GoogleNetv1_INT8\", \"values\": null}, {\"y\": \"TX2-maxp-FP16\", \"x\": \"GoogleNetv1_INT8\", \"values\": null}, {\"y\": \"TX2-maxp-FP32\", \"x\": \"GoogleNetv1_INT8\", \"values\": null}, {\"y\": \"TX2-maxq-FP16\", \"x\": \"GoogleNetv1_INT8\", \"values\": null}, {\"y\": \"TX2-maxq-FP32\", \"x\": \"GoogleNetv1_INT8\", \"values\": null}, {\"y\": \"TPU-fast-INT8\", \"x\": \"GoogleNetv1_INT8\", \"values\": 1277.9552720000004}, {\"y\": \"TPU-slow-INT8\", \"x\": \"GoogleNetv1_INT8\", \"values\": 638.9776357999998}, {\"y\": \"NCS-INT8\", \"x\": \"GoogleNetv1_INT8\", \"values\": 319.4888179}, {\"y\": \"NCS-FP16\", \"x\": \"GoogleNetv1_INT8\", \"values\": null}, {\"y\": \"U96-Quadcore A53-INT8\", \"x\": \"GoogleNetv1_INT8\", \"values\": null}, {\"y\": \"Ultra96-DPU-INT8\", \"x\": \"GoogleNetv1_FP16\", \"values\": null}, {\"y\": \"ZCU104-DPU-INT8\", \"x\": \"GoogleNetv1_FP16\", \"values\": null}, {\"y\": \"ZCU102-DPU-INT8\", \"x\": \"GoogleNetv1_FP16\", \"values\": null}, {\"y\": \"ZCU104-FINN-INT2\", \"x\": \"GoogleNetv1_FP16\", \"values\": null}, {\"y\": \"ZCU104-FINN-INT4\", \"x\": \"GoogleNetv1_FP16\", \"values\": null}, {\"y\": \"ZCU104-BISMO-INT2\", \"x\": \"GoogleNetv1_FP16\", \"values\": null}, {\"y\": \"ZCU104-BISMO-INT4\", \"x\": \"GoogleNetv1_FP16\", \"values\": null}, {\"y\": \"TX2-maxn-FP16\", \"x\": \"GoogleNetv1_FP16\", \"values\": 424.9201278}, {\"y\": \"TX2-maxn-FP32\", \"x\": \"GoogleNetv1_FP16\", \"values\": null}, {\"y\": \"TX2-maxp-FP16\", \"x\": \"GoogleNetv1_FP16\", \"values\": 367.4121406}, {\"y\": \"TX2-maxp-FP32\", \"x\": \"GoogleNetv1_FP16\", \"values\": null}, {\"y\": \"TX2-maxq-FP16\", \"x\": \"GoogleNetv1_FP16\", \"values\": 277.9552716}, {\"y\": \"TX2-maxq-FP32\", \"x\": \"GoogleNetv1_FP16\", \"values\": null}, {\"y\": \"TPU-fast-INT8\", \"x\": \"GoogleNetv1_FP16\", \"values\": null}, {\"y\": \"TPU-slow-INT8\", \"x\": \"GoogleNetv1_FP16\", \"values\": null}, {\"y\": \"NCS-INT8\", \"x\": \"GoogleNetv1_FP16\", \"values\": null}, {\"y\": \"NCS-FP16\", \"x\": \"GoogleNetv1_FP16\", \"values\": 159.74440890000002}, {\"y\": \"U96-Quadcore A53-INT8\", \"x\": \"GoogleNetv1_FP16\", \"values\": null}, {\"y\": \"Ultra96-DPU-INT8\", \"x\": \"GoogleNetv1_FP32\", \"values\": null}, {\"y\": \"ZCU104-DPU-INT8\", \"x\": \"GoogleNetv1_FP32\", \"values\": null}, {\"y\": \"ZCU102-DPU-INT8\", \"x\": \"GoogleNetv1_FP32\", \"values\": null}, {\"y\": \"ZCU104-FINN-INT2\", \"x\": \"GoogleNetv1_FP32\", \"values\": null}, {\"y\": \"ZCU104-FINN-INT4\", \"x\": \"GoogleNetv1_FP32\", \"values\": null}, {\"y\": \"ZCU104-BISMO-INT2\", \"x\": \"GoogleNetv1_FP32\", \"values\": null}, {\"y\": \"ZCU104-BISMO-INT4\", \"x\": \"GoogleNetv1_FP32\", \"values\": null}, {\"y\": \"TX2-maxn-FP16\", \"x\": \"GoogleNetv1_FP32\", \"values\": null}, {\"y\": \"TX2-maxn-FP32\", \"x\": \"GoogleNetv1_FP32\", \"values\": 214.057508}, {\"y\": \"TX2-maxp-FP16\", \"x\": \"GoogleNetv1_FP32\", \"values\": null}, {\"y\": \"TX2-maxp-FP32\", \"x\": \"GoogleNetv1_FP32\", \"values\": 182.1086262}, {\"y\": \"TX2-maxq-FP16\", \"x\": \"GoogleNetv1_FP32\", \"values\": null}, {\"y\": \"TX2-maxq-FP32\", \"x\": \"GoogleNetv1_FP32\", \"values\": 140.57507990000002}, {\"y\": \"TPU-fast-INT8\", \"x\": \"GoogleNetv1_FP32\", \"values\": null}, {\"y\": \"TPU-slow-INT8\", \"x\": \"GoogleNetv1_FP32\", \"values\": null}, {\"y\": \"NCS-INT8\", \"x\": \"GoogleNetv1_FP32\", \"values\": null}, {\"y\": \"NCS-FP16\", \"x\": \"GoogleNetv1_FP32\", \"values\": null}, {\"y\": \"U96-Quadcore A53-INT8\", \"x\": \"GoogleNetv1_FP32\", \"values\": null}, {\"y\": \"Ultra96-DPU-INT8\", \"x\": \"MobileNetv1_INT8\", \"values\": null}, {\"y\": \"ZCU104-DPU-INT8\", \"x\": \"MobileNetv1_INT8\", \"values\": null}, {\"y\": \"ZCU102-DPU-INT8\", \"x\": \"MobileNetv1_INT8\", \"values\": null}, {\"y\": \"ZCU104-FINN-INT2\", \"x\": \"MobileNetv1_INT8\", \"values\": null}, {\"y\": \"ZCU104-FINN-INT4\", \"x\": \"MobileNetv1_INT8\", \"values\": null}, {\"y\": \"ZCU104-BISMO-INT2\", \"x\": \"MobileNetv1_INT8\", \"values\": null}, {\"y\": \"ZCU104-BISMO-INT4\", \"x\": \"MobileNetv1_INT8\", \"values\": null}, {\"y\": \"TX2-maxn-FP16\", \"x\": \"MobileNetv1_INT8\", \"values\": null}, {\"y\": \"TX2-maxn-FP32\", \"x\": \"MobileNetv1_INT8\", \"values\": null}, {\"y\": \"TX2-maxp-FP16\", \"x\": \"MobileNetv1_INT8\", \"values\": null}, {\"y\": \"TX2-maxp-FP32\", \"x\": \"MobileNetv1_INT8\", \"values\": null}, {\"y\": \"TX2-maxq-FP16\", \"x\": \"MobileNetv1_INT8\", \"values\": null}, {\"y\": \"TX2-maxq-FP32\", \"x\": \"MobileNetv1_INT8\", \"values\": null}, {\"y\": \"TPU-fast-INT8\", \"x\": \"MobileNetv1_INT8\", \"values\": 3508.77193}, {\"y\": \"TPU-slow-INT8\", \"x\": \"MobileNetv1_INT8\", \"values\": 1754.385965}, {\"y\": \"NCS-INT8\", \"x\": \"MobileNetv1_INT8\", \"values\": null}, {\"y\": \"NCS-FP16\", \"x\": \"MobileNetv1_INT8\", \"values\": null}, {\"y\": \"U96-Quadcore A53-INT8\", \"x\": \"MobileNetv1_INT8\", \"values\": null}, {\"y\": \"Ultra96-DPU-INT8\", \"x\": \"ResNet50_100%_INT8\", \"values\": 124.3523316}, {\"y\": \"ZCU104-DPU-INT8\", \"x\": \"ResNet50_100%_INT8\", \"values\": 595.8549222999999}, {\"y\": \"ZCU102-DPU-INT8\", \"x\": \"ResNet50_100%_INT8\", \"values\": 752.853886}, {\"y\": \"ZCU104-FINN-INT2\", \"x\": \"ResNet50_100%_INT8\", \"values\": null}, {\"y\": \"ZCU104-FINN-INT4\", \"x\": \"ResNet50_100%_INT8\", \"values\": null}, {\"y\": \"ZCU104-BISMO-INT2\", \"x\": \"ResNet50_100%_INT8\", \"values\": null}, {\"y\": \"ZCU104-BISMO-INT4\", \"x\": \"ResNet50_100%_INT8\", \"values\": null}, {\"y\": \"TX2-maxn-FP16\", \"x\": \"ResNet50_100%_INT8\", \"values\": null}, {\"y\": \"TX2-maxn-FP32\", \"x\": \"ResNet50_100%_INT8\", \"values\": null}, {\"y\": \"TX2-maxp-FP16\", \"x\": \"ResNet50_100%_INT8\", \"values\": null}, {\"y\": \"TX2-maxp-FP32\", \"x\": \"ResNet50_100%_INT8\", \"values\": null}, {\"y\": \"TX2-maxq-FP16\", \"x\": \"ResNet50_100%_INT8\", \"values\": null}, {\"y\": \"TX2-maxq-FP32\", \"x\": \"ResNet50_100%_INT8\", \"values\": null}, {\"y\": \"TPU-fast-INT8\", \"x\": \"ResNet50_100%_INT8\", \"values\": 518.134715}, {\"y\": \"TPU-slow-INT8\", \"x\": \"ResNet50_100%_INT8\", \"values\": 259.0673575}, {\"y\": \"NCS-INT8\", \"x\": \"ResNet50_100%_INT8\", \"values\": null}, {\"y\": \"NCS-FP16\", \"x\": \"ResNet50_100%_INT8\", \"values\": null}, {\"y\": \"U96-Quadcore A53-INT8\", \"x\": \"ResNet50_100%_INT8\", \"values\": null}, {\"y\": \"Ultra96-DPU-INT8\", \"x\": \"ResNet50_100%_FP16\", \"values\": null}, {\"y\": \"ZCU104-DPU-INT8\", \"x\": \"ResNet50_100%_FP16\", \"values\": null}, {\"y\": \"ZCU102-DPU-INT8\", \"x\": \"ResNet50_100%_FP16\", \"values\": null}, {\"y\": \"ZCU104-FINN-INT2\", \"x\": \"ResNet50_100%_FP16\", \"values\": null}, {\"y\": \"ZCU104-FINN-INT4\", \"x\": \"ResNet50_100%_FP16\", \"values\": null}, {\"y\": \"ZCU104-BISMO-INT2\", \"x\": \"ResNet50_100%_FP16\", \"values\": null}, {\"y\": \"ZCU104-BISMO-INT4\", \"x\": \"ResNet50_100%_FP16\", \"values\": null}, {\"y\": \"TX2-maxn-FP16\", \"x\": \"ResNet50_100%_FP16\", \"values\": 172.2797927}, {\"y\": \"TX2-maxn-FP32\", \"x\": \"ResNet50_100%_FP16\", \"values\": null}, {\"y\": \"TX2-maxp-FP16\", \"x\": \"ResNet50_100%_FP16\", \"values\": 148.9637306}, {\"y\": \"TX2-maxp-FP32\", \"x\": \"ResNet50_100%_FP16\", \"values\": null}, {\"y\": \"TX2-maxq-FP16\", \"x\": \"ResNet50_100%_FP16\", \"values\": 112.69430049999998}, {\"y\": \"TX2-maxq-FP32\", \"x\": \"ResNet50_100%_FP16\", \"values\": null}, {\"y\": \"TPU-fast-INT8\", \"x\": \"ResNet50_100%_FP16\", \"values\": null}, {\"y\": \"TPU-slow-INT8\", \"x\": \"ResNet50_100%_FP16\", \"values\": null}, {\"y\": \"NCS-INT8\", \"x\": \"ResNet50_100%_FP16\", \"values\": null}, {\"y\": \"NCS-FP16\", \"x\": \"ResNet50_100%_FP16\", \"values\": 64.76683938}, {\"y\": \"U96-Quadcore A53-INT8\", \"x\": \"ResNet50_100%_FP16\", \"values\": null}, {\"y\": \"Ultra96-DPU-INT8\", \"x\": \"ResNet50_100%_FP32\", \"values\": null}, {\"y\": \"ZCU104-DPU-INT8\", \"x\": \"ResNet50_100%_FP32\", \"values\": null}, {\"y\": \"ZCU102-DPU-INT8\", \"x\": \"ResNet50_100%_FP32\", \"values\": null}, {\"y\": \"ZCU104-FINN-INT2\", \"x\": \"ResNet50_100%_FP32\", \"values\": null}, {\"y\": \"ZCU104-FINN-INT4\", \"x\": \"ResNet50_100%_FP32\", \"values\": null}, {\"y\": \"ZCU104-BISMO-INT2\", \"x\": \"ResNet50_100%_FP32\", \"values\": null}, {\"y\": \"ZCU104-BISMO-INT4\", \"x\": \"ResNet50_100%_FP32\", \"values\": null}, {\"y\": \"TX2-maxn-FP16\", \"x\": \"ResNet50_100%_FP32\", \"values\": null}, {\"y\": \"TX2-maxn-FP32\", \"x\": \"ResNet50_100%_FP32\", \"values\": 86.78756477}, {\"y\": \"TX2-maxp-FP16\", \"x\": \"ResNet50_100%_FP32\", \"values\": null}, {\"y\": \"TX2-maxp-FP32\", \"x\": \"ResNet50_100%_FP32\", \"values\": 73.83419689}, {\"y\": \"TX2-maxq-FP16\", \"x\": \"ResNet50_100%_FP32\", \"values\": null}, {\"y\": \"TX2-maxq-FP32\", \"x\": \"ResNet50_100%_FP32\", \"values\": 56.99481865}, {\"y\": \"TPU-fast-INT8\", \"x\": \"ResNet50_100%_FP32\", \"values\": null}, {\"y\": \"TPU-slow-INT8\", \"x\": \"ResNet50_100%_FP32\", \"values\": null}, {\"y\": \"NCS-INT8\", \"x\": \"ResNet50_100%_FP32\", \"values\": null}, {\"y\": \"NCS-FP16\", \"x\": \"ResNet50_100%_FP32\", \"values\": null}, {\"y\": \"U96-Quadcore A53-INT8\", \"x\": \"ResNet50_100%_FP32\", \"values\": null}, {\"y\": \"Ultra96-DPU-INT8\", \"x\": \"ResNet50_80%_INT8\", \"values\": 146.7889908}, {\"y\": \"ZCU104-DPU-INT8\", \"x\": \"ResNet50_80%_INT8\", \"values\": 703.3639143999999}, {\"y\": \"ZCU102-DPU-INT8\", \"x\": \"ResNet50_80%_INT8\", \"values\": 797.5045872000002}, {\"y\": \"ZCU104-FINN-INT2\", \"x\": \"ResNet50_80%_INT8\", \"values\": null}, {\"y\": \"ZCU104-FINN-INT4\", \"x\": \"ResNet50_80%_INT8\", \"values\": null}, {\"y\": \"ZCU104-BISMO-INT2\", \"x\": \"ResNet50_80%_INT8\", \"values\": null}, {\"y\": \"ZCU104-BISMO-INT4\", \"x\": \"ResNet50_80%_INT8\", \"values\": null}, {\"y\": \"TX2-maxn-FP16\", \"x\": \"ResNet50_80%_INT8\", \"values\": null}, {\"y\": \"TX2-maxn-FP32\", \"x\": \"ResNet50_80%_INT8\", \"values\": null}, {\"y\": \"TX2-maxp-FP16\", \"x\": \"ResNet50_80%_INT8\", \"values\": null}, {\"y\": \"TX2-maxp-FP32\", \"x\": \"ResNet50_80%_INT8\", \"values\": null}, {\"y\": \"TX2-maxq-FP16\", \"x\": \"ResNet50_80%_INT8\", \"values\": null}, {\"y\": \"TX2-maxq-FP32\", \"x\": \"ResNet50_80%_INT8\", \"values\": null}, {\"y\": \"TPU-fast-INT8\", \"x\": \"ResNet50_80%_INT8\", \"values\": null}, {\"y\": \"TPU-slow-INT8\", \"x\": \"ResNet50_80%_INT8\", \"values\": null}, {\"y\": \"NCS-INT8\", \"x\": \"ResNet50_80%_INT8\", \"values\": null}, {\"y\": \"NCS-FP16\", \"x\": \"ResNet50_80%_INT8\", \"values\": null}, {\"y\": \"U96-Quadcore A53-INT8\", \"x\": \"ResNet50_80%_INT8\", \"values\": null}, {\"y\": \"Ultra96-DPU-INT8\", \"x\": \"ResNet50_50%_INT8\", \"values\": 256.0}, {\"y\": \"ZCU104-DPU-INT8\", \"x\": \"ResNet50_50%_INT8\", \"values\": 1215.7952}, {\"y\": \"ZCU102-DPU-INT8\", \"x\": \"ResNet50_50%_INT8\", \"values\": 1215.7952}, {\"y\": \"ZCU104-FINN-INT2\", \"x\": \"ResNet50_50%_INT8\", \"values\": null}, {\"y\": \"ZCU104-FINN-INT4\", \"x\": \"ResNet50_50%_INT8\", \"values\": null}, {\"y\": \"ZCU104-BISMO-INT2\", \"x\": \"ResNet50_50%_INT8\", \"values\": null}, {\"y\": \"ZCU104-BISMO-INT4\", \"x\": \"ResNet50_50%_INT8\", \"values\": null}, {\"y\": \"TX2-maxn-FP16\", \"x\": \"ResNet50_50%_INT8\", \"values\": null}, {\"y\": \"TX2-maxn-FP32\", \"x\": \"ResNet50_50%_INT8\", \"values\": null}, {\"y\": \"TX2-maxp-FP16\", \"x\": \"ResNet50_50%_INT8\", \"values\": null}, {\"y\": \"TX2-maxp-FP32\", \"x\": \"ResNet50_50%_INT8\", \"values\": null}, {\"y\": \"TX2-maxq-FP16\", \"x\": \"ResNet50_50%_INT8\", \"values\": null}, {\"y\": \"TX2-maxq-FP32\", \"x\": \"ResNet50_50%_INT8\", \"values\": null}, {\"y\": \"TPU-fast-INT8\", \"x\": \"ResNet50_50%_INT8\", \"values\": null}, {\"y\": \"TPU-slow-INT8\", \"x\": \"ResNet50_50%_INT8\", \"values\": null}, {\"y\": \"NCS-INT8\", \"x\": \"ResNet50_50%_INT8\", \"values\": null}, {\"y\": \"NCS-FP16\", \"x\": \"ResNet50_50%_INT8\", \"values\": null}, {\"y\": \"U96-Quadcore A53-INT8\", \"x\": \"ResNet50_50%_INT8\", \"values\": null}, {\"y\": \"Ultra96-DPU-INT8\", \"x\": \"ResNet50_30%_INT8\", \"values\": 391.8367347}, {\"y\": \"ZCU104-DPU-INT8\", \"x\": \"ResNet50_30%_INT8\", \"values\": 1877.55102}, {\"y\": \"ZCU102-DPU-INT8\", \"x\": \"ResNet50_30%_INT8\", \"values\": 1900.721633}, {\"y\": \"ZCU104-FINN-INT2\", \"x\": \"ResNet50_30%_INT8\", \"values\": null}, {\"y\": \"ZCU104-FINN-INT4\", \"x\": \"ResNet50_30%_INT8\", \"values\": null}, {\"y\": \"ZCU104-BISMO-INT2\", \"x\": \"ResNet50_30%_INT8\", \"values\": null}, {\"y\": \"ZCU104-BISMO-INT4\", \"x\": \"ResNet50_30%_INT8\", \"values\": null}, {\"y\": \"TX2-maxn-FP16\", \"x\": \"ResNet50_30%_INT8\", \"values\": null}, {\"y\": \"TX2-maxn-FP32\", \"x\": \"ResNet50_30%_INT8\", \"values\": null}, {\"y\": \"TX2-maxp-FP16\", \"x\": \"ResNet50_30%_INT8\", \"values\": null}, {\"y\": \"TX2-maxp-FP32\", \"x\": \"ResNet50_30%_INT8\", \"values\": null}, {\"y\": \"TX2-maxq-FP16\", \"x\": \"ResNet50_30%_INT8\", \"values\": null}, {\"y\": \"TX2-maxq-FP32\", \"x\": \"ResNet50_30%_INT8\", \"values\": null}, {\"y\": \"TPU-fast-INT8\", \"x\": \"ResNet50_30%_INT8\", \"values\": null}, {\"y\": \"TPU-slow-INT8\", \"x\": \"ResNet50_30%_INT8\", \"values\": null}, {\"y\": \"NCS-INT8\", \"x\": \"ResNet50_30%_INT8\", \"values\": null}, {\"y\": \"NCS-FP16\", \"x\": \"ResNet50_30%_INT8\", \"values\": null}, {\"y\": \"U96-Quadcore A53-INT8\", \"x\": \"ResNet50_30%_INT8\", \"values\": null}, {\"y\": \"Ultra96-DPU-INT8\", \"x\": \"EfficientNet_S_INT8\", \"values\": 204.2553191}, {\"y\": \"ZCU104-DPU-INT8\", \"x\": \"EfficientNet_S_INT8\", \"values\": 978.7234043}, {\"y\": \"ZCU102-DPU-INT8\", \"x\": \"EfficientNet_S_INT8\", \"values\": 1427.659574}, {\"y\": \"ZCU104-FINN-INT2\", \"x\": \"EfficientNet_S_INT8\", \"values\": null}, {\"y\": \"ZCU104-FINN-INT4\", \"x\": \"EfficientNet_S_INT8\", \"values\": null}, {\"y\": \"ZCU104-BISMO-INT2\", \"x\": \"EfficientNet_S_INT8\", \"values\": null}, {\"y\": \"ZCU104-BISMO-INT4\", \"x\": \"EfficientNet_S_INT8\", \"values\": null}, {\"y\": \"TX2-maxn-FP16\", \"x\": \"EfficientNet_S_INT8\", \"values\": null}, {\"y\": \"TX2-maxn-FP32\", \"x\": \"EfficientNet_S_INT8\", \"values\": null}, {\"y\": \"TX2-maxp-FP16\", \"x\": \"EfficientNet_S_INT8\", \"values\": null}, {\"y\": \"TX2-maxp-FP32\", \"x\": \"EfficientNet_S_INT8\", \"values\": null}, {\"y\": \"TX2-maxq-FP16\", \"x\": \"EfficientNet_S_INT8\", \"values\": null}, {\"y\": \"TX2-maxq-FP32\", \"x\": \"EfficientNet_S_INT8\", \"values\": null}, {\"y\": \"TPU-fast-INT8\", \"x\": \"EfficientNet_S_INT8\", \"values\": 851.0638298}, {\"y\": \"TPU-slow-INT8\", \"x\": \"EfficientNet_S_INT8\", \"values\": 425.5319149}, {\"y\": \"NCS-INT8\", \"x\": \"EfficientNet_S_INT8\", \"values\": null}, {\"y\": \"NCS-FP16\", \"x\": \"EfficientNet_S_INT8\", \"values\": null}, {\"y\": \"U96-Quadcore A53-INT8\", \"x\": \"EfficientNet_S_INT8\", \"values\": null}, {\"y\": \"Ultra96-DPU-INT8\", \"x\": \"EfficientNet_M_INT8\", \"values\": 129.7297297}, {\"y\": \"ZCU104-DPU-INT8\", \"x\": \"EfficientNet_M_INT8\", \"values\": 621.6216216}, {\"y\": \"ZCU102-DPU-INT8\", \"x\": \"EfficientNet_M_INT8\", \"values\": 906.7567568}, {\"y\": \"ZCU104-FINN-INT2\", \"x\": \"EfficientNet_M_INT8\", \"values\": null}, {\"y\": \"ZCU104-FINN-INT4\", \"x\": \"EfficientNet_M_INT8\", \"values\": null}, {\"y\": \"ZCU104-BISMO-INT2\", \"x\": \"EfficientNet_M_INT8\", \"values\": null}, {\"y\": \"ZCU104-BISMO-INT4\", \"x\": \"EfficientNet_M_INT8\", \"values\": null}, {\"y\": \"TX2-maxn-FP16\", \"x\": \"EfficientNet_M_INT8\", \"values\": null}, {\"y\": \"TX2-maxn-FP32\", \"x\": \"EfficientNet_M_INT8\", \"values\": null}, {\"y\": \"TX2-maxp-FP16\", \"x\": \"EfficientNet_M_INT8\", \"values\": null}, {\"y\": \"TX2-maxp-FP32\", \"x\": \"EfficientNet_M_INT8\", \"values\": null}, {\"y\": \"TX2-maxq-FP16\", \"x\": \"EfficientNet_M_INT8\", \"values\": null}, {\"y\": \"TX2-maxq-FP32\", \"x\": \"EfficientNet_M_INT8\", \"values\": null}, {\"y\": \"TPU-fast-INT8\", \"x\": \"EfficientNet_M_INT8\", \"values\": 540.5405405}, {\"y\": \"TPU-slow-INT8\", \"x\": \"EfficientNet_M_INT8\", \"values\": 270.2702703}, {\"y\": \"NCS-INT8\", \"x\": \"EfficientNet_M_INT8\", \"values\": null}, {\"y\": \"NCS-FP16\", \"x\": \"EfficientNet_M_INT8\", \"values\": null}, {\"y\": \"U96-Quadcore A53-INT8\", \"x\": \"EfficientNet_M_INT8\", \"values\": null}, {\"y\": \"Ultra96-DPU-INT8\", \"x\": \"EfficientNet_L_INT8\", \"values\": 49.53560372}, {\"y\": \"ZCU104-DPU-INT8\", \"x\": \"EfficientNet_L_INT8\", \"values\": 237.3581011}, {\"y\": \"ZCU102-DPU-INT8\", \"x\": \"EfficientNet_L_INT8\", \"values\": 346.23323010000007}, {\"y\": \"ZCU104-FINN-INT2\", \"x\": \"EfficientNet_L_INT8\", \"values\": null}, {\"y\": \"ZCU104-FINN-INT4\", \"x\": \"EfficientNet_L_INT8\", \"values\": null}, {\"y\": \"ZCU104-BISMO-INT2\", \"x\": \"EfficientNet_L_INT8\", \"values\": null}, {\"y\": \"ZCU104-BISMO-INT4\", \"x\": \"EfficientNet_L_INT8\", \"values\": null}, {\"y\": \"TX2-maxn-FP16\", \"x\": \"EfficientNet_L_INT8\", \"values\": null}, {\"y\": \"TX2-maxn-FP32\", \"x\": \"EfficientNet_L_INT8\", \"values\": null}, {\"y\": \"TX2-maxp-FP16\", \"x\": \"EfficientNet_L_INT8\", \"values\": null}, {\"y\": \"TX2-maxp-FP32\", \"x\": \"EfficientNet_L_INT8\", \"values\": null}, {\"y\": \"TX2-maxq-FP16\", \"x\": \"EfficientNet_L_INT8\", \"values\": null}, {\"y\": \"TX2-maxq-FP32\", \"x\": \"EfficientNet_L_INT8\", \"values\": null}, {\"y\": \"TPU-fast-INT8\", \"x\": \"EfficientNet_L_INT8\", \"values\": 206.3983488}, {\"y\": \"TPU-slow-INT8\", \"x\": \"EfficientNet_L_INT8\", \"values\": 103.1991744}, {\"y\": \"NCS-INT8\", \"x\": \"EfficientNet_L_INT8\", \"values\": null}, {\"y\": \"NCS-FP16\", \"x\": \"EfficientNet_L_INT8\", \"values\": null}, {\"y\": \"U96-Quadcore A53-INT8\", \"x\": \"EfficientNet_L_INT8\", \"values\": null}]}}, {\"mode\": \"vega-lite\"});\n",
       "</script>"
      ],
      "text/plain": [
       "alt.LayerChart(...)"
      ]
     },
     "execution_count": 11,
     "metadata": {},
     "output_type": "execute_result"
    }
   ],
   "source": [
    "#hide_input\n",
    "%run scripts/altair_plots.py  #run the heatmaps script\n",
    "#load imagenet dataset and plot it\n",
    "heatmap(pd.read_csv(\"data/cleaned_csv/performance_prediction_imagenet.csv\"), 'lightgrey','Performance Prediction for Imagenet')"
   ]
  },
  {
   "cell_type": "markdown",
   "metadata": {},
   "source": [
    "### CIFAR-10"
   ]
  },
  {
   "cell_type": "markdown",
   "metadata": {},
   "source": [
    "Finally, for CIFAR-10, quantization combined with pruning deliver some of best performance results"
   ]
  },
  {
   "cell_type": "code",
   "execution_count": 12,
   "metadata": {},
   "outputs": [
    {
     "data": {
      "text/html": [
       "\n",
       "<div id=\"altair-viz-84b3673c594b489e880d7c8fb89a062d\"></div>\n",
       "<script type=\"text/javascript\">\n",
       "  (function(spec, embedOpt){\n",
       "    const outputDiv = document.getElementById(\"altair-viz-84b3673c594b489e880d7c8fb89a062d\");\n",
       "    const paths = {\n",
       "      \"vega\": \"https://cdn.jsdelivr.net/npm//vega@5?noext\",\n",
       "      \"vega-lib\": \"https://cdn.jsdelivr.net/npm//vega-lib?noext\",\n",
       "      \"vega-lite\": \"https://cdn.jsdelivr.net/npm//vega-lite@4.0.2?noext\",\n",
       "      \"vega-embed\": \"https://cdn.jsdelivr.net/npm//vega-embed@6?noext\",\n",
       "    };\n",
       "\n",
       "    function loadScript(lib) {\n",
       "      return new Promise(function(resolve, reject) {\n",
       "        var s = document.createElement('script');\n",
       "        s.src = paths[lib];\n",
       "        s.async = true;\n",
       "        s.onload = () => resolve(paths[lib]);\n",
       "        s.onerror = () => reject(`Error loading script: ${paths[lib]}`);\n",
       "        document.getElementsByTagName(\"head\")[0].appendChild(s);\n",
       "      });\n",
       "    }\n",
       "\n",
       "    function showError(err) {\n",
       "      outputDiv.innerHTML = `<div class=\"error\" style=\"color:red;\">${err}</div>`;\n",
       "      throw err;\n",
       "    }\n",
       "\n",
       "    function displayChart(vegaEmbed) {\n",
       "      vegaEmbed(outputDiv, spec, embedOpt)\n",
       "        .catch(err => showError(`Javascript Error: ${err.message}<br>This usually means there's a typo in your chart specification. See the javascript console for the full traceback.`));\n",
       "    }\n",
       "\n",
       "    if(typeof define === \"function\" && define.amd) {\n",
       "      requirejs.config({paths});\n",
       "      require([\"vega-embed\"], displayChart, err => showError(`Error loading script: ${err.message}`));\n",
       "    } else if (typeof vegaEmbed === \"function\") {\n",
       "      displayChart(vegaEmbed);\n",
       "    } else {\n",
       "      loadScript(\"vega\")\n",
       "        .then(() => loadScript(\"vega-lite\"))\n",
       "        .then(() => loadScript(\"vega-embed\"))\n",
       "        .catch(showError)\n",
       "        .then(() => displayChart(vegaEmbed));\n",
       "    }\n",
       "  })({\"config\": {\"view\": {\"continuousWidth\": 400, \"continuousHeight\": 300}}, \"layer\": [{\"mark\": {\"type\": \"rect\", \"invalid\": null, \"stroke\": \"black\", \"strokeWidth\": 1}, \"encoding\": {\"color\": {\"type\": \"quantitative\", \"field\": \"values\", \"scale\": {\"scheme\": \"lightmulti\", \"type\": \"log\"}, \"title\": \"Input/second\"}, \"tooltip\": [{\"type\": \"quantitative\", \"field\": \"values\", \"title\": \"Input/sec\"}, {\"type\": \"nominal\", \"field\": \"x\", \"title\": \"Model\"}, {\"type\": \"nominal\", \"field\": \"y\", \"title\": \"Hardware Platform\"}], \"x\": {\"type\": \"ordinal\", \"field\": \"x\", \"title\": \"Models\"}, \"y\": {\"type\": \"ordinal\", \"field\": \"y\", \"title\": \"Hardware Platforms\"}}, \"height\": 350, \"selection\": {\"selector007\": {\"type\": \"single\", \"on\": \"mouseover\", \"nearest\": true}}, \"title\": \"Performance Prediction for CIFAR-10\", \"width\": 700}, {\"mark\": {\"type\": \"text\", \"color\": \"white\"}, \"encoding\": {\"color\": {\"condition\": {\"value\": \"black\", \"test\": \"(datum.values > 1)\"}, \"value\": \"white\"}, \"text\": {\"type\": \"quantitative\", \"field\": \"values\", \"format\": \".0f\"}, \"tooltip\": [{\"type\": \"quantitative\", \"field\": \"values\", \"format\": \".0f\", \"title\": \"Input/sec\"}, {\"type\": \"nominal\", \"field\": \"x\", \"title\": \"Model\"}, {\"type\": \"nominal\", \"field\": \"y\", \"title\": \"Hardware Platform\"}], \"x\": {\"type\": \"ordinal\", \"field\": \"x\", \"title\": \"Models\"}, \"y\": {\"type\": \"ordinal\", \"field\": \"y\", \"title\": \"Hardware Platforms\"}}}], \"data\": {\"name\": \"data-9bfa7455f0c6f10fae66716dcf2478a2\"}, \"$schema\": \"https://vega.github.io/schema/vega-lite/v4.0.2.json\", \"datasets\": {\"data-9bfa7455f0c6f10fae66716dcf2478a2\": [{\"y\": \"Ultra96-DPU-INT8\", \"x\": \"CNV_100%_INT2\", \"values\": null}, {\"y\": \"ZCU104-DPU-INT8\", \"x\": \"CNV_100%_INT2\", \"values\": null}, {\"y\": \"ZCU102-DPU-INT8\", \"x\": \"CNV_100%_INT2\", \"values\": null}, {\"y\": \"ZCU104-FINN-INT2\", \"x\": \"CNV_100%_INT2\", \"values\": 12457.94043}, {\"y\": \"ZCU104-FINN-INT4\", \"x\": \"CNV_100%_INT2\", \"values\": null}, {\"y\": \"ZCU104-BISMO-INT2\", \"x\": \"CNV_100%_INT2\", \"values\": 12457.94043}, {\"y\": \"ZCU104-BISMO-INT4\", \"x\": \"CNV_100%_INT2\", \"values\": null}, {\"y\": \"TX2-maxn-FP16\", \"x\": \"CNV_100%_INT2\", \"values\": null}, {\"y\": \"TX2-maxn-FP32\", \"x\": \"CNV_100%_INT2\", \"values\": null}, {\"y\": \"TX2-maxp-FP16\", \"x\": \"CNV_100%_INT2\", \"values\": null}, {\"y\": \"TX2-maxp-FP32\", \"x\": \"CNV_100%_INT2\", \"values\": null}, {\"y\": \"TX2-maxq-FP16\", \"x\": \"CNV_100%_INT2\", \"values\": null}, {\"y\": \"TX2-maxq-FP32\", \"x\": \"CNV_100%_INT2\", \"values\": null}, {\"y\": \"TPU-fast-INT8\", \"x\": \"CNV_100%_INT2\", \"values\": null}, {\"y\": \"TPU-slow-INT8\", \"x\": \"CNV_100%_INT2\", \"values\": null}, {\"y\": \"NCS-INT8\", \"x\": \"CNV_100%_INT2\", \"values\": null}, {\"y\": \"NCS-FP16\", \"x\": \"CNV_100%_INT2\", \"values\": null}, {\"y\": \"U96-Quadcore A53-INT8\", \"x\": \"CNV_100%_INT2\", \"values\": 408.5106383}, {\"y\": \"Ultra96-DPU-INT8\", \"x\": \"CNV_100%_INT4\", \"values\": null}, {\"y\": \"ZCU104-DPU-INT8\", \"x\": \"CNV_100%_INT4\", \"values\": null}, {\"y\": \"ZCU102-DPU-INT8\", \"x\": \"CNV_100%_INT4\", \"values\": null}, {\"y\": \"ZCU104-FINN-INT2\", \"x\": \"CNV_100%_INT4\", \"values\": null}, {\"y\": \"ZCU104-FINN-INT4\", \"x\": \"CNV_100%_INT4\", \"values\": 6228.970213000001}, {\"y\": \"ZCU104-BISMO-INT2\", \"x\": \"CNV_100%_INT4\", \"values\": null}, {\"y\": \"ZCU104-BISMO-INT4\", \"x\": \"CNV_100%_INT4\", \"values\": 6228.970213000001}, {\"y\": \"TX2-maxn-FP16\", \"x\": \"CNV_100%_INT4\", \"values\": null}, {\"y\": \"TX2-maxn-FP32\", \"x\": \"CNV_100%_INT4\", \"values\": null}, {\"y\": \"TX2-maxp-FP16\", \"x\": \"CNV_100%_INT4\", \"values\": null}, {\"y\": \"TX2-maxp-FP32\", \"x\": \"CNV_100%_INT4\", \"values\": null}, {\"y\": \"TX2-maxq-FP16\", \"x\": \"CNV_100%_INT4\", \"values\": null}, {\"y\": \"TX2-maxq-FP32\", \"x\": \"CNV_100%_INT4\", \"values\": null}, {\"y\": \"TPU-fast-INT8\", \"x\": \"CNV_100%_INT4\", \"values\": null}, {\"y\": \"TPU-slow-INT8\", \"x\": \"CNV_100%_INT4\", \"values\": null}, {\"y\": \"NCS-INT8\", \"x\": \"CNV_100%_INT4\", \"values\": null}, {\"y\": \"NCS-FP16\", \"x\": \"CNV_100%_INT4\", \"values\": null}, {\"y\": \"U96-Quadcore A53-INT8\", \"x\": \"CNV_100%_INT4\", \"values\": 408.5106383}, {\"y\": \"Ultra96-DPU-INT8\", \"x\": \"CNV_100%_FP16\", \"values\": null}, {\"y\": \"ZCU104-DPU-INT8\", \"x\": \"CNV_100%_FP16\", \"values\": null}, {\"y\": \"ZCU102-DPU-INT8\", \"x\": \"CNV_100%_FP16\", \"values\": null}, {\"y\": \"ZCU104-FINN-INT2\", \"x\": \"CNV_100%_FP16\", \"values\": null}, {\"y\": \"ZCU104-FINN-INT4\", \"x\": \"CNV_100%_FP16\", \"values\": null}, {\"y\": \"ZCU104-BISMO-INT2\", \"x\": \"CNV_100%_FP16\", \"values\": null}, {\"y\": \"ZCU104-BISMO-INT4\", \"x\": \"CNV_100%_FP16\", \"values\": null}, {\"y\": \"TX2-maxn-FP16\", \"x\": \"CNV_100%_FP16\", \"values\": 2829.787234}, {\"y\": \"TX2-maxn-FP32\", \"x\": \"CNV_100%_FP16\", \"values\": null}, {\"y\": \"TX2-maxp-FP16\", \"x\": \"CNV_100%_FP16\", \"values\": 2446.808511}, {\"y\": \"TX2-maxp-FP32\", \"x\": \"CNV_100%_FP16\", \"values\": null}, {\"y\": \"TX2-maxq-FP16\", \"x\": \"CNV_100%_FP16\", \"values\": 1851.06383}, {\"y\": \"TX2-maxq-FP32\", \"x\": \"CNV_100%_FP16\", \"values\": null}, {\"y\": \"TPU-fast-INT8\", \"x\": \"CNV_100%_FP16\", \"values\": null}, {\"y\": \"TPU-slow-INT8\", \"x\": \"CNV_100%_FP16\", \"values\": null}, {\"y\": \"NCS-INT8\", \"x\": \"CNV_100%_FP16\", \"values\": null}, {\"y\": \"NCS-FP16\", \"x\": \"CNV_100%_FP16\", \"values\": 1038.161702}, {\"y\": \"U96-Quadcore A53-INT8\", \"x\": \"CNV_100%_FP16\", \"values\": 345.5131915}, {\"y\": \"Ultra96-DPU-INT8\", \"x\": \"CNV_100%_FP32\", \"values\": null}, {\"y\": \"ZCU104-DPU-INT8\", \"x\": \"CNV_100%_FP32\", \"values\": null}, {\"y\": \"ZCU102-DPU-INT8\", \"x\": \"CNV_100%_FP32\", \"values\": null}, {\"y\": \"ZCU104-FINN-INT2\", \"x\": \"CNV_100%_FP32\", \"values\": null}, {\"y\": \"ZCU104-FINN-INT4\", \"x\": \"CNV_100%_FP32\", \"values\": null}, {\"y\": \"ZCU104-BISMO-INT2\", \"x\": \"CNV_100%_FP32\", \"values\": null}, {\"y\": \"ZCU104-BISMO-INT4\", \"x\": \"CNV_100%_FP32\", \"values\": null}, {\"y\": \"TX2-maxn-FP16\", \"x\": \"CNV_100%_FP32\", \"values\": null}, {\"y\": \"TX2-maxn-FP32\", \"x\": \"CNV_100%_FP32\", \"values\": 1425.531915}, {\"y\": \"TX2-maxp-FP16\", \"x\": \"CNV_100%_FP32\", \"values\": null}, {\"y\": \"TX2-maxp-FP32\", \"x\": \"CNV_100%_FP32\", \"values\": 1212.765957}, {\"y\": \"TX2-maxq-FP16\", \"x\": \"CNV_100%_FP32\", \"values\": null}, {\"y\": \"TX2-maxq-FP32\", \"x\": \"CNV_100%_FP32\", \"values\": 936.1702127999997}, {\"y\": \"TPU-fast-INT8\", \"x\": \"CNV_100%_FP32\", \"values\": null}, {\"y\": \"TPU-slow-INT8\", \"x\": \"CNV_100%_FP32\", \"values\": null}, {\"y\": \"NCS-INT8\", \"x\": \"CNV_100%_FP32\", \"values\": null}, {\"y\": \"NCS-FP16\", \"x\": \"CNV_100%_FP32\", \"values\": null}, {\"y\": \"U96-Quadcore A53-INT8\", \"x\": \"CNV_100%_FP32\", \"values\": 172.7565957}, {\"y\": \"Ultra96-DPU-INT8\", \"x\": \"CNV_50%_INT2\", \"values\": null}, {\"y\": \"ZCU104-DPU-INT8\", \"x\": \"CNV_50%_INT2\", \"values\": null}, {\"y\": \"ZCU102-DPU-INT8\", \"x\": \"CNV_50%_INT2\", \"values\": null}, {\"y\": \"ZCU104-FINN-INT2\", \"x\": \"CNV_50%_INT2\", \"values\": 49331.2}, {\"y\": \"ZCU104-FINN-INT4\", \"x\": \"CNV_50%_INT2\", \"values\": null}, {\"y\": \"ZCU104-BISMO-INT2\", \"x\": \"CNV_50%_INT2\", \"values\": 49331.2}, {\"y\": \"ZCU104-BISMO-INT4\", \"x\": \"CNV_50%_INT2\", \"values\": null}, {\"y\": \"TX2-maxn-FP16\", \"x\": \"CNV_50%_INT2\", \"values\": null}, {\"y\": \"TX2-maxn-FP32\", \"x\": \"CNV_50%_INT2\", \"values\": null}, {\"y\": \"TX2-maxp-FP16\", \"x\": \"CNV_50%_INT2\", \"values\": null}, {\"y\": \"TX2-maxp-FP32\", \"x\": \"CNV_50%_INT2\", \"values\": null}, {\"y\": \"TX2-maxq-FP16\", \"x\": \"CNV_50%_INT2\", \"values\": null}, {\"y\": \"TX2-maxq-FP32\", \"x\": \"CNV_50%_INT2\", \"values\": null}, {\"y\": \"TPU-fast-INT8\", \"x\": \"CNV_50%_INT2\", \"values\": null}, {\"y\": \"TPU-slow-INT8\", \"x\": \"CNV_50%_INT2\", \"values\": null}, {\"y\": \"NCS-INT8\", \"x\": \"CNV_50%_INT2\", \"values\": null}, {\"y\": \"NCS-FP16\", \"x\": \"CNV_50%_INT2\", \"values\": null}, {\"y\": \"U96-Quadcore A53-INT8\", \"x\": \"CNV_50%_INT2\", \"values\": 1600.0}, {\"y\": \"Ultra96-DPU-INT8\", \"x\": \"CNV_50%_INT4\", \"values\": null}, {\"y\": \"ZCU104-DPU-INT8\", \"x\": \"CNV_50%_INT4\", \"values\": null}, {\"y\": \"ZCU102-DPU-INT8\", \"x\": \"CNV_50%_INT4\", \"values\": null}, {\"y\": \"ZCU104-FINN-INT2\", \"x\": \"CNV_50%_INT4\", \"values\": null}, {\"y\": \"ZCU104-FINN-INT4\", \"x\": \"CNV_50%_INT4\", \"values\": 24665.6}, {\"y\": \"ZCU104-BISMO-INT2\", \"x\": \"CNV_50%_INT4\", \"values\": null}, {\"y\": \"ZCU104-BISMO-INT4\", \"x\": \"CNV_50%_INT4\", \"values\": 24665.6}, {\"y\": \"TX2-maxn-FP16\", \"x\": \"CNV_50%_INT4\", \"values\": null}, {\"y\": \"TX2-maxn-FP32\", \"x\": \"CNV_50%_INT4\", \"values\": null}, {\"y\": \"TX2-maxp-FP16\", \"x\": \"CNV_50%_INT4\", \"values\": null}, {\"y\": \"TX2-maxp-FP32\", \"x\": \"CNV_50%_INT4\", \"values\": null}, {\"y\": \"TX2-maxq-FP16\", \"x\": \"CNV_50%_INT4\", \"values\": null}, {\"y\": \"TX2-maxq-FP32\", \"x\": \"CNV_50%_INT4\", \"values\": null}, {\"y\": \"TPU-fast-INT8\", \"x\": \"CNV_50%_INT4\", \"values\": null}, {\"y\": \"TPU-slow-INT8\", \"x\": \"CNV_50%_INT4\", \"values\": null}, {\"y\": \"NCS-INT8\", \"x\": \"CNV_50%_INT4\", \"values\": null}, {\"y\": \"NCS-FP16\", \"x\": \"CNV_50%_INT4\", \"values\": null}, {\"y\": \"U96-Quadcore A53-INT8\", \"x\": \"CNV_50%_INT4\", \"values\": 1600.0}, {\"y\": \"Ultra96-DPU-INT8\", \"x\": \"CNV_50%_FP16\", \"values\": null}, {\"y\": \"ZCU104-DPU-INT8\", \"x\": \"CNV_50%_FP16\", \"values\": null}, {\"y\": \"ZCU102-DPU-INT8\", \"x\": \"CNV_50%_FP16\", \"values\": null}, {\"y\": \"ZCU104-FINN-INT2\", \"x\": \"CNV_50%_FP16\", \"values\": null}, {\"y\": \"ZCU104-FINN-INT4\", \"x\": \"CNV_50%_FP16\", \"values\": null}, {\"y\": \"ZCU104-BISMO-INT2\", \"x\": \"CNV_50%_FP16\", \"values\": null}, {\"y\": \"ZCU104-BISMO-INT4\", \"x\": \"CNV_50%_FP16\", \"values\": null}, {\"y\": \"TX2-maxn-FP16\", \"x\": \"CNV_50%_FP16\", \"values\": 11083.33333}, {\"y\": \"TX2-maxn-FP32\", \"x\": \"CNV_50%_FP16\", \"values\": null}, {\"y\": \"TX2-maxp-FP16\", \"x\": \"CNV_50%_FP16\", \"values\": 9583.333333}, {\"y\": \"TX2-maxp-FP32\", \"x\": \"CNV_50%_FP16\", \"values\": null}, {\"y\": \"TX2-maxq-FP16\", \"x\": \"CNV_50%_FP16\", \"values\": 7250.0}, {\"y\": \"TX2-maxq-FP32\", \"x\": \"CNV_50%_FP16\", \"values\": null}, {\"y\": \"TPU-fast-INT8\", \"x\": \"CNV_50%_FP16\", \"values\": null}, {\"y\": \"TPU-slow-INT8\", \"x\": \"CNV_50%_FP16\", \"values\": null}, {\"y\": \"NCS-INT8\", \"x\": \"CNV_50%_FP16\", \"values\": null}, {\"y\": \"NCS-FP16\", \"x\": \"CNV_50%_FP16\", \"values\": 4110.933333}, {\"y\": \"U96-Quadcore A53-INT8\", \"x\": \"CNV_50%_FP16\", \"values\": 1368.17}, {\"y\": \"Ultra96-DPU-INT8\", \"x\": \"CNV_50%_FP32\", \"values\": null}, {\"y\": \"ZCU104-DPU-INT8\", \"x\": \"CNV_50%_FP32\", \"values\": null}, {\"y\": \"ZCU102-DPU-INT8\", \"x\": \"CNV_50%_FP32\", \"values\": null}, {\"y\": \"ZCU104-FINN-INT2\", \"x\": \"CNV_50%_FP32\", \"values\": null}, {\"y\": \"ZCU104-FINN-INT4\", \"x\": \"CNV_50%_FP32\", \"values\": null}, {\"y\": \"ZCU104-BISMO-INT2\", \"x\": \"CNV_50%_FP32\", \"values\": null}, {\"y\": \"ZCU104-BISMO-INT4\", \"x\": \"CNV_50%_FP32\", \"values\": null}, {\"y\": \"TX2-maxn-FP16\", \"x\": \"CNV_50%_FP32\", \"values\": null}, {\"y\": \"TX2-maxn-FP32\", \"x\": \"CNV_50%_FP32\", \"values\": 5583.333333}, {\"y\": \"TX2-maxp-FP16\", \"x\": \"CNV_50%_FP32\", \"values\": null}, {\"y\": \"TX2-maxp-FP32\", \"x\": \"CNV_50%_FP32\", \"values\": 4750.0}, {\"y\": \"TX2-maxq-FP16\", \"x\": \"CNV_50%_FP32\", \"values\": null}, {\"y\": \"TX2-maxq-FP32\", \"x\": \"CNV_50%_FP32\", \"values\": 3666.666667}, {\"y\": \"TPU-fast-INT8\", \"x\": \"CNV_50%_FP32\", \"values\": null}, {\"y\": \"TPU-slow-INT8\", \"x\": \"CNV_50%_FP32\", \"values\": null}, {\"y\": \"NCS-INT8\", \"x\": \"CNV_50%_FP32\", \"values\": null}, {\"y\": \"NCS-FP16\", \"x\": \"CNV_50%_FP32\", \"values\": null}, {\"y\": \"U96-Quadcore A53-INT8\", \"x\": \"CNV_50%_FP32\", \"values\": 684.085}, {\"y\": \"Ultra96-DPU-INT8\", \"x\": \"CNV_25%_INT2\", \"values\": null}, {\"y\": \"ZCU104-DPU-INT8\", \"x\": \"CNV_25%_INT2\", \"values\": null}, {\"y\": \"ZCU102-DPU-INT8\", \"x\": \"CNV_25%_INT2\", \"values\": null}, {\"y\": \"ZCU104-FINN-INT2\", \"x\": \"CNV_25%_INT2\", \"values\": 201600.0}, {\"y\": \"ZCU104-FINN-INT4\", \"x\": \"CNV_25%_INT2\", \"values\": null}, {\"y\": \"ZCU104-BISMO-INT2\", \"x\": \"CNV_25%_INT2\", \"values\": 201600.0}, {\"y\": \"ZCU104-BISMO-INT4\", \"x\": \"CNV_25%_INT2\", \"values\": null}, {\"y\": \"TX2-maxn-FP16\", \"x\": \"CNV_25%_INT2\", \"values\": null}, {\"y\": \"TX2-maxn-FP32\", \"x\": \"CNV_25%_INT2\", \"values\": null}, {\"y\": \"TX2-maxp-FP16\", \"x\": \"CNV_25%_INT2\", \"values\": null}, {\"y\": \"TX2-maxp-FP32\", \"x\": \"CNV_25%_INT2\", \"values\": null}, {\"y\": \"TX2-maxq-FP16\", \"x\": \"CNV_25%_INT2\", \"values\": null}, {\"y\": \"TX2-maxq-FP32\", \"x\": \"CNV_25%_INT2\", \"values\": null}, {\"y\": \"TPU-fast-INT8\", \"x\": \"CNV_25%_INT2\", \"values\": null}, {\"y\": \"TPU-slow-INT8\", \"x\": \"CNV_25%_INT2\", \"values\": null}, {\"y\": \"NCS-INT8\", \"x\": \"CNV_25%_INT2\", \"values\": null}, {\"y\": \"NCS-FP16\", \"x\": \"CNV_25%_INT2\", \"values\": null}, {\"y\": \"U96-Quadcore A53-INT8\", \"x\": \"CNV_25%_INT2\", \"values\": 6400.0}, {\"y\": \"Ultra96-DPU-INT8\", \"x\": \"CNV_25%_INT4\", \"values\": null}, {\"y\": \"ZCU104-DPU-INT8\", \"x\": \"CNV_25%_INT4\", \"values\": null}, {\"y\": \"ZCU102-DPU-INT8\", \"x\": \"CNV_25%_INT4\", \"values\": null}, {\"y\": \"ZCU104-FINN-INT2\", \"x\": \"CNV_25%_INT4\", \"values\": null}, {\"y\": \"ZCU104-FINN-INT4\", \"x\": \"CNV_25%_INT4\", \"values\": 100800.0}, {\"y\": \"ZCU104-BISMO-INT2\", \"x\": \"CNV_25%_INT4\", \"values\": null}, {\"y\": \"ZCU104-BISMO-INT4\", \"x\": \"CNV_25%_INT4\", \"values\": 100800.0}, {\"y\": \"TX2-maxn-FP16\", \"x\": \"CNV_25%_INT4\", \"values\": null}, {\"y\": \"TX2-maxn-FP32\", \"x\": \"CNV_25%_INT4\", \"values\": null}, {\"y\": \"TX2-maxp-FP16\", \"x\": \"CNV_25%_INT4\", \"values\": null}, {\"y\": \"TX2-maxp-FP32\", \"x\": \"CNV_25%_INT4\", \"values\": null}, {\"y\": \"TX2-maxq-FP16\", \"x\": \"CNV_25%_INT4\", \"values\": null}, {\"y\": \"TX2-maxq-FP32\", \"x\": \"CNV_25%_INT4\", \"values\": null}, {\"y\": \"TPU-fast-INT8\", \"x\": \"CNV_25%_INT4\", \"values\": null}, {\"y\": \"TPU-slow-INT8\", \"x\": \"CNV_25%_INT4\", \"values\": null}, {\"y\": \"NCS-INT8\", \"x\": \"CNV_25%_INT4\", \"values\": null}, {\"y\": \"NCS-FP16\", \"x\": \"CNV_25%_INT4\", \"values\": null}, {\"y\": \"U96-Quadcore A53-INT8\", \"x\": \"CNV_25%_INT4\", \"values\": 6400.0}, {\"y\": \"Ultra96-DPU-INT8\", \"x\": \"CNV_25%_FP16\", \"values\": null}, {\"y\": \"ZCU104-DPU-INT8\", \"x\": \"CNV_25%_FP16\", \"values\": null}, {\"y\": \"ZCU102-DPU-INT8\", \"x\": \"CNV_25%_FP16\", \"values\": null}, {\"y\": \"ZCU104-FINN-INT2\", \"x\": \"CNV_25%_FP16\", \"values\": null}, {\"y\": \"ZCU104-FINN-INT4\", \"x\": \"CNV_25%_FP16\", \"values\": null}, {\"y\": \"ZCU104-BISMO-INT2\", \"x\": \"CNV_25%_FP16\", \"values\": null}, {\"y\": \"ZCU104-BISMO-INT4\", \"x\": \"CNV_25%_FP16\", \"values\": null}, {\"y\": \"TX2-maxn-FP16\", \"x\": \"CNV_25%_FP16\", \"values\": 44333.33333}, {\"y\": \"TX2-maxn-FP32\", \"x\": \"CNV_25%_FP16\", \"values\": null}, {\"y\": \"TX2-maxp-FP16\", \"x\": \"CNV_25%_FP16\", \"values\": 38333.33333}, {\"y\": \"TX2-maxp-FP32\", \"x\": \"CNV_25%_FP16\", \"values\": null}, {\"y\": \"TX2-maxq-FP16\", \"x\": \"CNV_25%_FP16\", \"values\": 29000.0}, {\"y\": \"TX2-maxq-FP32\", \"x\": \"CNV_25%_FP16\", \"values\": null}, {\"y\": \"TPU-fast-INT8\", \"x\": \"CNV_25%_FP16\", \"values\": null}, {\"y\": \"TPU-slow-INT8\", \"x\": \"CNV_25%_FP16\", \"values\": null}, {\"y\": \"NCS-INT8\", \"x\": \"CNV_25%_FP16\", \"values\": null}, {\"y\": \"NCS-FP16\", \"x\": \"CNV_25%_FP16\", \"values\": 16666.66667}, {\"y\": \"U96-Quadcore A53-INT8\", \"x\": \"CNV_25%_FP16\", \"values\": 5591.25}, {\"y\": \"Ultra96-DPU-INT8\", \"x\": \"CNV_25%_FP32\", \"values\": null}, {\"y\": \"ZCU104-DPU-INT8\", \"x\": \"CNV_25%_FP32\", \"values\": null}, {\"y\": \"ZCU102-DPU-INT8\", \"x\": \"CNV_25%_FP32\", \"values\": null}, {\"y\": \"ZCU104-FINN-INT2\", \"x\": \"CNV_25%_FP32\", \"values\": null}, {\"y\": \"ZCU104-FINN-INT4\", \"x\": \"CNV_25%_FP32\", \"values\": null}, {\"y\": \"ZCU104-BISMO-INT2\", \"x\": \"CNV_25%_FP32\", \"values\": null}, {\"y\": \"ZCU104-BISMO-INT4\", \"x\": \"CNV_25%_FP32\", \"values\": null}, {\"y\": \"TX2-maxn-FP16\", \"x\": \"CNV_25%_FP32\", \"values\": null}, {\"y\": \"TX2-maxn-FP32\", \"x\": \"CNV_25%_FP32\", \"values\": 22333.33333}, {\"y\": \"TX2-maxp-FP16\", \"x\": \"CNV_25%_FP32\", \"values\": null}, {\"y\": \"TX2-maxp-FP32\", \"x\": \"CNV_25%_FP32\", \"values\": 19000.0}, {\"y\": \"TX2-maxq-FP16\", \"x\": \"CNV_25%_FP32\", \"values\": null}, {\"y\": \"TX2-maxq-FP32\", \"x\": \"CNV_25%_FP32\", \"values\": 14666.66667}, {\"y\": \"TPU-fast-INT8\", \"x\": \"CNV_25%_FP32\", \"values\": null}, {\"y\": \"TPU-slow-INT8\", \"x\": \"CNV_25%_FP32\", \"values\": null}, {\"y\": \"NCS-INT8\", \"x\": \"CNV_25%_FP32\", \"values\": null}, {\"y\": \"NCS-FP16\", \"x\": \"CNV_25%_FP32\", \"values\": null}, {\"y\": \"U96-Quadcore A53-INT8\", \"x\": \"CNV_25%_FP32\", \"values\": 2795.625}, {\"y\": \"Ultra96-DPU-INT8\", \"x\": \"CNV_12.5%_INT2\", \"values\": null}, {\"y\": \"ZCU104-DPU-INT8\", \"x\": \"CNV_12.5%_INT2\", \"values\": null}, {\"y\": \"ZCU102-DPU-INT8\", \"x\": \"CNV_12.5%_INT2\", \"values\": null}, {\"y\": \"ZCU104-FINN-INT2\", \"x\": \"CNV_12.5%_INT2\", \"values\": 638592.0}, {\"y\": \"ZCU104-FINN-INT4\", \"x\": \"CNV_12.5%_INT2\", \"values\": null}, {\"y\": \"ZCU104-BISMO-INT2\", \"x\": \"CNV_12.5%_INT2\", \"values\": 638592.0}, {\"y\": \"ZCU104-BISMO-INT4\", \"x\": \"CNV_12.5%_INT2\", \"values\": null}, {\"y\": \"TX2-maxn-FP16\", \"x\": \"CNV_12.5%_INT2\", \"values\": null}, {\"y\": \"TX2-maxn-FP32\", \"x\": \"CNV_12.5%_INT2\", \"values\": null}, {\"y\": \"TX2-maxp-FP16\", \"x\": \"CNV_12.5%_INT2\", \"values\": null}, {\"y\": \"TX2-maxp-FP32\", \"x\": \"CNV_12.5%_INT2\", \"values\": null}, {\"y\": \"TX2-maxq-FP16\", \"x\": \"CNV_12.5%_INT2\", \"values\": null}, {\"y\": \"TX2-maxq-FP32\", \"x\": \"CNV_12.5%_INT2\", \"values\": null}, {\"y\": \"TPU-fast-INT8\", \"x\": \"CNV_12.5%_INT2\", \"values\": null}, {\"y\": \"TPU-slow-INT8\", \"x\": \"CNV_12.5%_INT2\", \"values\": null}, {\"y\": \"NCS-INT8\", \"x\": \"CNV_12.5%_INT2\", \"values\": null}, {\"y\": \"NCS-FP16\", \"x\": \"CNV_12.5%_INT2\", \"values\": null}, {\"y\": \"U96-Quadcore A53-INT8\", \"x\": \"CNV_12.5%_INT2\", \"values\": 19200.0}, {\"y\": \"Ultra96-DPU-INT8\", \"x\": \"CNV_12.5%_INT4\", \"values\": null}, {\"y\": \"ZCU104-DPU-INT8\", \"x\": \"CNV_12.5%_INT4\", \"values\": null}, {\"y\": \"ZCU102-DPU-INT8\", \"x\": \"CNV_12.5%_INT4\", \"values\": null}, {\"y\": \"ZCU104-FINN-INT2\", \"x\": \"CNV_12.5%_INT4\", \"values\": null}, {\"y\": \"ZCU104-FINN-INT4\", \"x\": \"CNV_12.5%_INT4\", \"values\": 319296.0}, {\"y\": \"ZCU104-BISMO-INT2\", \"x\": \"CNV_12.5%_INT4\", \"values\": null}, {\"y\": \"ZCU104-BISMO-INT4\", \"x\": \"CNV_12.5%_INT4\", \"values\": 319296.0}, {\"y\": \"TX2-maxn-FP16\", \"x\": \"CNV_12.5%_INT4\", \"values\": null}, {\"y\": \"TX2-maxn-FP32\", \"x\": \"CNV_12.5%_INT4\", \"values\": null}, {\"y\": \"TX2-maxp-FP16\", \"x\": \"CNV_12.5%_INT4\", \"values\": null}, {\"y\": \"TX2-maxp-FP32\", \"x\": \"CNV_12.5%_INT4\", \"values\": null}, {\"y\": \"TX2-maxq-FP16\", \"x\": \"CNV_12.5%_INT4\", \"values\": null}, {\"y\": \"TX2-maxq-FP32\", \"x\": \"CNV_12.5%_INT4\", \"values\": null}, {\"y\": \"TPU-fast-INT8\", \"x\": \"CNV_12.5%_INT4\", \"values\": null}, {\"y\": \"TPU-slow-INT8\", \"x\": \"CNV_12.5%_INT4\", \"values\": null}, {\"y\": \"NCS-INT8\", \"x\": \"CNV_12.5%_INT4\", \"values\": null}, {\"y\": \"NCS-FP16\", \"x\": \"CNV_12.5%_INT4\", \"values\": null}, {\"y\": \"U96-Quadcore A53-INT8\", \"x\": \"CNV_12.5%_INT4\", \"values\": 19200.0}, {\"y\": \"Ultra96-DPU-INT8\", \"x\": \"CNV_12.5%_FP16\", \"values\": null}, {\"y\": \"ZCU104-DPU-INT8\", \"x\": \"CNV_12.5%_FP16\", \"values\": null}, {\"y\": \"ZCU102-DPU-INT8\", \"x\": \"CNV_12.5%_FP16\", \"values\": null}, {\"y\": \"ZCU104-FINN-INT2\", \"x\": \"CNV_12.5%_FP16\", \"values\": null}, {\"y\": \"ZCU104-FINN-INT4\", \"x\": \"CNV_12.5%_FP16\", \"values\": null}, {\"y\": \"ZCU104-BISMO-INT2\", \"x\": \"CNV_12.5%_FP16\", \"values\": null}, {\"y\": \"ZCU104-BISMO-INT4\", \"x\": \"CNV_12.5%_FP16\", \"values\": null}, {\"y\": \"TX2-maxn-FP16\", \"x\": \"CNV_12.5%_FP16\", \"values\": 133000.0}, {\"y\": \"TX2-maxn-FP32\", \"x\": \"CNV_12.5%_FP16\", \"values\": null}, {\"y\": \"TX2-maxp-FP16\", \"x\": \"CNV_12.5%_FP16\", \"values\": 115000.0}, {\"y\": \"TX2-maxp-FP32\", \"x\": \"CNV_12.5%_FP16\", \"values\": null}, {\"y\": \"TX2-maxq-FP16\", \"x\": \"CNV_12.5%_FP16\", \"values\": 87000.0}, {\"y\": \"TX2-maxq-FP32\", \"x\": \"CNV_12.5%_FP16\", \"values\": null}, {\"y\": \"TPU-fast-INT8\", \"x\": \"CNV_12.5%_FP16\", \"values\": null}, {\"y\": \"TPU-slow-INT8\", \"x\": \"CNV_12.5%_FP16\", \"values\": null}, {\"y\": \"NCS-INT8\", \"x\": \"CNV_12.5%_FP16\", \"values\": null}, {\"y\": \"NCS-FP16\", \"x\": \"CNV_12.5%_FP16\", \"values\": 50000.0}, {\"y\": \"U96-Quadcore A53-INT8\", \"x\": \"CNV_12.5%_FP16\", \"values\": 17710.95}, {\"y\": \"Ultra96-DPU-INT8\", \"x\": \"CNV_12.5%_FP32\", \"values\": null}, {\"y\": \"ZCU104-DPU-INT8\", \"x\": \"CNV_12.5%_FP32\", \"values\": null}, {\"y\": \"ZCU102-DPU-INT8\", \"x\": \"CNV_12.5%_FP32\", \"values\": null}, {\"y\": \"ZCU104-FINN-INT2\", \"x\": \"CNV_12.5%_FP32\", \"values\": null}, {\"y\": \"ZCU104-FINN-INT4\", \"x\": \"CNV_12.5%_FP32\", \"values\": null}, {\"y\": \"ZCU104-BISMO-INT2\", \"x\": \"CNV_12.5%_FP32\", \"values\": null}, {\"y\": \"ZCU104-BISMO-INT4\", \"x\": \"CNV_12.5%_FP32\", \"values\": null}, {\"y\": \"TX2-maxn-FP16\", \"x\": \"CNV_12.5%_FP32\", \"values\": null}, {\"y\": \"TX2-maxn-FP32\", \"x\": \"CNV_12.5%_FP32\", \"values\": 67000.0}, {\"y\": \"TX2-maxp-FP16\", \"x\": \"CNV_12.5%_FP32\", \"values\": null}, {\"y\": \"TX2-maxp-FP32\", \"x\": \"CNV_12.5%_FP32\", \"values\": 57000.0}, {\"y\": \"TX2-maxq-FP16\", \"x\": \"CNV_12.5%_FP32\", \"values\": null}, {\"y\": \"TX2-maxq-FP32\", \"x\": \"CNV_12.5%_FP32\", \"values\": 44000.0}, {\"y\": \"TPU-fast-INT8\", \"x\": \"CNV_12.5%_FP32\", \"values\": null}, {\"y\": \"TPU-slow-INT8\", \"x\": \"CNV_12.5%_FP32\", \"values\": null}, {\"y\": \"NCS-INT8\", \"x\": \"CNV_12.5%_FP32\", \"values\": null}, {\"y\": \"NCS-FP16\", \"x\": \"CNV_12.5%_FP32\", \"values\": null}, {\"y\": \"U96-Quadcore A53-INT8\", \"x\": \"CNV_12.5%_FP32\", \"values\": 8855.475}]}}, {\"mode\": \"vega-lite\"});\n",
       "</script>"
      ],
      "text/plain": [
       "alt.LayerChart(...)"
      ]
     },
     "execution_count": 12,
     "metadata": {},
     "output_type": "execute_result"
    }
   ],
   "source": [
    "#hide_input\n",
    "%run scripts/altair_plots.py  #run the heatmaps script\n",
    "#load cifar10 dataset and plot it\n",
    "heatmap(pd.read_csv(\"data/cleaned_csv/performance_prediction_cifar10.csv\"), 'pink','Performance Prediction for CIFAR-10')"
   ]
  },
  {
   "cell_type": "markdown",
   "metadata": {},
   "source": [
    "# Theoretical Pareto Curves"
   ]
  },
  {
   "cell_type": "markdown",
   "metadata": {},
   "source": [
    "In the following plots we present a theoretical pareto curve for each type of classification. "
   ]
  },
  {
   "cell_type": "markdown",
   "metadata": {},
   "source": [
    "### MNIST"
   ]
  },
  {
   "cell_type": "code",
   "execution_count": 13,
   "metadata": {
    "scrolled": false
   },
   "outputs": [
    {
     "data": {
      "text/html": [
       "\n",
       "<div id=\"altair-viz-4eccf213ba054135aba819222601ed2d\"></div>\n",
       "<script type=\"text/javascript\">\n",
       "  (function(spec, embedOpt){\n",
       "    const outputDiv = document.getElementById(\"altair-viz-4eccf213ba054135aba819222601ed2d\");\n",
       "    const paths = {\n",
       "      \"vega\": \"https://cdn.jsdelivr.net/npm//vega@5?noext\",\n",
       "      \"vega-lib\": \"https://cdn.jsdelivr.net/npm//vega-lib?noext\",\n",
       "      \"vega-lite\": \"https://cdn.jsdelivr.net/npm//vega-lite@4.0.2?noext\",\n",
       "      \"vega-embed\": \"https://cdn.jsdelivr.net/npm//vega-embed@6?noext\",\n",
       "    };\n",
       "\n",
       "    function loadScript(lib) {\n",
       "      return new Promise(function(resolve, reject) {\n",
       "        var s = document.createElement('script');\n",
       "        s.src = paths[lib];\n",
       "        s.async = true;\n",
       "        s.onload = () => resolve(paths[lib]);\n",
       "        s.onerror = () => reject(`Error loading script: ${paths[lib]}`);\n",
       "        document.getElementsByTagName(\"head\")[0].appendChild(s);\n",
       "      });\n",
       "    }\n",
       "\n",
       "    function showError(err) {\n",
       "      outputDiv.innerHTML = `<div class=\"error\" style=\"color:red;\">${err}</div>`;\n",
       "      throw err;\n",
       "    }\n",
       "\n",
       "    function displayChart(vegaEmbed) {\n",
       "      vegaEmbed(outputDiv, spec, embedOpt)\n",
       "        .catch(err => showError(`Javascript Error: ${err.message}<br>This usually means there's a typo in your chart specification. See the javascript console for the full traceback.`));\n",
       "    }\n",
       "\n",
       "    if(typeof define === \"function\" && define.amd) {\n",
       "      requirejs.config({paths});\n",
       "      require([\"vega-embed\"], displayChart, err => showError(`Error loading script: ${err.message}`));\n",
       "    } else if (typeof vegaEmbed === \"function\") {\n",
       "      displayChart(vegaEmbed);\n",
       "    } else {\n",
       "      loadScript(\"vega\")\n",
       "        .then(() => loadScript(\"vega-lite\"))\n",
       "        .then(() => loadScript(\"vega-embed\"))\n",
       "        .catch(showError)\n",
       "        .then(() => displayChart(vegaEmbed));\n",
       "    }\n",
       "  })({\"config\": {\"view\": {\"continuousWidth\": 400, \"continuousHeight\": 300}}, \"layer\": [{\"mark\": {\"type\": \"point\", \"filled\": true}, \"encoding\": {\"color\": {\"type\": \"nominal\", \"field\": \"hardw_datatype_net_prun\"}, \"tooltip\": [{\"type\": \"nominal\", \"field\": \"hardw_datatype_net_prun\"}, {\"type\": \"quantitative\", \"field\": \"fps-comp\"}, {\"type\": \"nominal\", \"field\": \"top1\"}], \"x\": {\"type\": \"quantitative\", \"field\": \"fps-comp\", \"scale\": {\"type\": \"log\"}}, \"y\": {\"type\": \"quantitative\", \"field\": \"top1\", \"scale\": {\"zero\": false}}}, \"height\": 624.0, \"selection\": {\"selector009\": {\"type\": \"interval\", \"bind\": \"scales\", \"encodings\": [\"x\", \"y\"]}}, \"title\": \"Theoretical Pareto for MNIST\", \"width\": 600}, {\"mark\": {\"type\": \"text\", \"align\": \"left\", \"angle\": 325, \"baseline\": \"middle\", \"dx\": 7}, \"encoding\": {\"color\": {\"type\": \"nominal\", \"field\": \"hardw_datatype_net_prun\"}, \"text\": {\"type\": \"nominal\", \"field\": \"hardw\"}, \"tooltip\": [{\"type\": \"nominal\", \"field\": \"hardw_datatype_net_prun\"}, {\"type\": \"quantitative\", \"field\": \"fps-comp\"}, {\"type\": \"nominal\", \"field\": \"top1\"}], \"x\": {\"type\": \"quantitative\", \"field\": \"fps-comp\", \"scale\": {\"type\": \"log\"}}, \"y\": {\"type\": \"quantitative\", \"field\": \"top1\", \"scale\": {\"zero\": false}}}, \"height\": 624.0, \"title\": \"Theoretical Pareto for MNIST\", \"width\": 600}, {\"data\": {\"name\": \"data-cbc69d3c80f54c2420bfdac935848113\"}, \"mark\": {\"type\": \"line\", \"point\": true}, \"encoding\": {\"color\": {\"value\": \"#FFA500\"}, \"tooltip\": [{\"type\": \"nominal\", \"field\": \"group\"}, {\"type\": \"quantitative\", \"field\": \"x\"}, {\"type\": \"nominal\", \"field\": \"y\"}], \"x\": {\"type\": \"quantitative\", \"field\": \"x\", \"scale\": {\"type\": \"log\"}}, \"y\": {\"type\": \"quantitative\", \"field\": \"y\", \"scale\": {\"zero\": false}}}, \"selection\": {\"selector008\": {\"type\": \"interval\", \"bind\": \"scales\", \"encodings\": [\"x\", \"y\"]}}}], \"data\": {\"name\": \"data-db9e0fb7a4df364b51ab599bc4bf39fa\"}, \"$schema\": \"https://vega.github.io/schema/vega-lite/v4.0.2.json\", \"datasets\": {\"data-db9e0fb7a4df364b51ab599bc4bf39fa\": [{\"hardw_datatype_net_prun\": \"ZCU104-FINN_INT2_MLP_100\", \"hardw\": \"ZCU104-FINN\", \"network\": \"MLP\", \"fps-comp\": 7680.0, \"top1\": \"98.75\", \"type\": \"predicted\"}, {\"hardw_datatype_net_prun\": \"ZCU104-BISMO_INT2_MLP_100\", \"hardw\": \"ZCU104-BISMO\", \"network\": \"MLP\", \"fps-comp\": 7680.0, \"top1\": \"98.75\", \"type\": \"predicted\"}, {\"hardw_datatype_net_prun\": \"U96-Quadcore A53_INT2_MLP_100\", \"hardw\": \"U96-Quadcore A53\", \"network\": \"MLP\", \"fps-comp\": 1704.0, \"top1\": \"98.75\", \"type\": \"predicted\"}, {\"hardw_datatype_net_prun\": \"ZCU104-FINN_INT2_MLP_50\", \"hardw\": \"ZCU104-FINN\", \"network\": \"MLP\", \"fps-comp\": 25600.0, \"top1\": \"98.49\", \"type\": \"predicted\"}, {\"hardw_datatype_net_prun\": \"ZCU104-BISMO_INT2_MLP_50\", \"hardw\": \"ZCU104-BISMO\", \"network\": \"MLP\", \"fps-comp\": 25600.0, \"top1\": \"98.49\", \"type\": \"predicted\"}, {\"hardw_datatype_net_prun\": \"U96-Quadcore A53_INT2_MLP_50\", \"hardw\": \"U96-Quadcore A53\", \"network\": \"MLP\", \"fps-comp\": 5680.0, \"top1\": \"98.49\", \"type\": \"predicted\"}, {\"hardw_datatype_net_prun\": \"ZCU104-FINN_INT2_MLP_25\", \"hardw\": \"ZCU104-FINN\", \"network\": \"MLP\", \"fps-comp\": 38400.0, \"top1\": \"98.04\", \"type\": \"predicted\"}, {\"hardw_datatype_net_prun\": \"ZCU104-BISMO_INT2_MLP_25\", \"hardw\": \"ZCU104-BISMO\", \"network\": \"MLP\", \"fps-comp\": 76800.0, \"top1\": \"98.04\", \"type\": \"predicted\"}, {\"hardw_datatype_net_prun\": \"U96-Quadcore A53_INT2_MLP_25\", \"hardw\": \"U96-Quadcore A53\", \"network\": \"MLP\", \"fps-comp\": 17040.0, \"top1\": \"98.04\", \"type\": \"predicted\"}, {\"hardw_datatype_net_prun\": \"ZCU104-FINN_INT2_MLP_12.5\", \"hardw\": \"ZCU104-FINN\", \"network\": \"MLP\", \"fps-comp\": 229709.0352, \"top1\": \"96.85\", \"type\": \"predicted\"}, {\"hardw_datatype_net_prun\": \"ZCU104-BISMO_INT2_MLP_12.5\", \"hardw\": \"ZCU104-BISMO\", \"network\": \"MLP\", \"fps-comp\": 229709.0352, \"top1\": \"96.85\", \"type\": \"predicted\"}, {\"hardw_datatype_net_prun\": \"U96-Quadcore A53_INT2_MLP_12.5\", \"hardw\": \"U96-Quadcore A53\", \"network\": \"MLP\", \"fps-comp\": 50966.69219, \"top1\": \"96.85\", \"type\": \"predicted\"}, {\"hardw_datatype_net_prun\": \"ZCU104-FINN_INT4_MLP_100\", \"hardw\": \"ZCU104-FINN\", \"network\": \"MLP\", \"fps-comp\": 3840.0, \"top1\": \"98.77\", \"type\": \"predicted\"}, {\"hardw_datatype_net_prun\": \"ZCU104-BISMO_INT4_MLP_100\", \"hardw\": \"ZCU104-BISMO\", \"network\": \"MLP\", \"fps-comp\": 3840.0, \"top1\": \"98.77\", \"type\": \"predicted\"}, {\"hardw_datatype_net_prun\": \"U96-Quadcore A53_INT4_MLP_100\", \"hardw\": \"U96-Quadcore A53\", \"network\": \"MLP\", \"fps-comp\": 852.0, \"top1\": \"98.77\", \"type\": \"predicted\"}, {\"hardw_datatype_net_prun\": \"ZCU104-FINN_INT4_MLP_50\", \"hardw\": \"ZCU104-FINN\", \"network\": \"MLP\", \"fps-comp\": 12800.0, \"top1\": \"98.62\", \"type\": \"predicted\"}, {\"hardw_datatype_net_prun\": \"ZCU104-BISMO_INT4_MLP_50\", \"hardw\": \"ZCU104-BISMO\", \"network\": \"MLP\", \"fps-comp\": 12800.0, \"top1\": \"98.62\", \"type\": \"predicted\"}, {\"hardw_datatype_net_prun\": \"U96-Quadcore A53_INT4_MLP_50\", \"hardw\": \"U96-Quadcore A53\", \"network\": \"MLP\", \"fps-comp\": 2840.0, \"top1\": \"98.62\", \"type\": \"predicted\"}, {\"hardw_datatype_net_prun\": \"ZCU104-FINN_INT4_MLP_25\", \"hardw\": \"ZCU104-FINN\", \"network\": \"MLP\", \"fps-comp\": 38400.0, \"top1\": \"98.29\", \"type\": \"predicted\"}, {\"hardw_datatype_net_prun\": \"ZCU104-BISMO_INT4_MLP_25\", \"hardw\": \"ZCU104-BISMO\", \"network\": \"MLP\", \"fps-comp\": 38400.0, \"top1\": \"98.29\", \"type\": \"predicted\"}, {\"hardw_datatype_net_prun\": \"U96-Quadcore A53_INT4_MLP_25\", \"hardw\": \"U96-Quadcore A53\", \"network\": \"MLP\", \"fps-comp\": 8520.0, \"top1\": \"98.29\", \"type\": \"predicted\"}, {\"hardw_datatype_net_prun\": \"ZCU104-FINN_INT4_MLP_12.5\", \"hardw\": \"ZCU104-FINN\", \"network\": \"MLP\", \"fps-comp\": 114854.5176, \"top1\": \"97.54\", \"type\": \"predicted\"}, {\"hardw_datatype_net_prun\": \"ZCU104-BISMO_INT4_MLP_12.5\", \"hardw\": \"ZCU104-BISMO\", \"network\": \"MLP\", \"fps-comp\": 114854.5176, \"top1\": \"97.54\", \"type\": \"predicted\"}, {\"hardw_datatype_net_prun\": \"U96-Quadcore A53_INT4_MLP_12.5\", \"hardw\": \"U96-Quadcore A53\", \"network\": \"MLP\", \"fps-comp\": 25483.34609, \"top1\": \"97.54\", \"type\": \"predicted\"}, {\"hardw_datatype_net_prun\": \"TX2-maxn_FP16_MLP_100\", \"hardw\": \"TX2-maxn\", \"network\": \"MLP\", \"fps-comp\": 2985.0, \"top1\": \"97.3\", \"type\": \"predicted\"}, {\"hardw_datatype_net_prun\": \"TX2-maxp_FP16_MLP_100\", \"hardw\": \"TX2-maxp\", \"network\": \"MLP\", \"fps-comp\": 2985.0, \"top1\": \"97.3\", \"type\": \"predicted\"}, {\"hardw_datatype_net_prun\": \"TX2-maxq_FP16_MLP_100\", \"hardw\": \"TX2-maxq\", \"network\": \"MLP\", \"fps-comp\": 2985.0, \"top1\": \"97.3\", \"type\": \"predicted\"}, {\"hardw_datatype_net_prun\": \"NCS_FP16_MLP_100\", \"hardw\": \"NCS\", \"network\": \"MLP\", \"fps-comp\": 640.0, \"top1\": \"97.3\", \"type\": \"predicted\"}, {\"hardw_datatype_net_prun\": \"TX2-maxn_FP16_MLP_50\", \"hardw\": \"TX2-maxn\", \"network\": \"MLP\", \"fps-comp\": 9950.0, \"top1\": \"97.45\", \"type\": \"predicted\"}, {\"hardw_datatype_net_prun\": \"TX2-maxp_FP16_MLP_50\", \"hardw\": \"TX2-maxp\", \"network\": \"MLP\", \"fps-comp\": 9950.0, \"top1\": \"97.45\", \"type\": \"predicted\"}, {\"hardw_datatype_net_prun\": \"TX2-maxq_FP16_MLP_50\", \"hardw\": \"TX2-maxq\", \"network\": \"MLP\", \"fps-comp\": 9950.0, \"top1\": \"97.45\", \"type\": \"predicted\"}, {\"hardw_datatype_net_prun\": \"NCS_FP16_MLP_50\", \"hardw\": \"NCS\", \"network\": \"MLP\", \"fps-comp\": 2133.333333, \"top1\": \"97.45\", \"type\": \"predicted\"}, {\"hardw_datatype_net_prun\": \"TX2-maxn_FP16_MLP_25\", \"hardw\": \"TX2-maxn\", \"network\": \"MLP\", \"fps-comp\": 29850.0, \"top1\": \"97.49\", \"type\": \"predicted\"}, {\"hardw_datatype_net_prun\": \"TX2-maxp_FP16_MLP_25\", \"hardw\": \"TX2-maxp\", \"network\": \"MLP\", \"fps-comp\": 29850.0, \"top1\": \"97.49\", \"type\": \"predicted\"}, {\"hardw_datatype_net_prun\": \"TX2-maxq_FP16_MLP_25\", \"hardw\": \"TX2-maxq\", \"network\": \"MLP\", \"fps-comp\": 29850.0, \"top1\": \"97.49\", \"type\": \"predicted\"}, {\"hardw_datatype_net_prun\": \"NCS_FP16_MLP_25\", \"hardw\": \"NCS\", \"network\": \"MLP\", \"fps-comp\": 6400.0, \"top1\": \"97.49\", \"type\": \"predicted\"}, {\"hardw_datatype_net_prun\": \"TX2-maxn_FP16_MLP_12.5\", \"hardw\": \"TX2-maxn\", \"network\": \"MLP\", \"fps-comp\": 89281.44142, \"top1\": \"97.95\", \"type\": \"predicted\"}, {\"hardw_datatype_net_prun\": \"TX2-maxp_FP16_MLP_12.5\", \"hardw\": \"TX2-maxp\", \"network\": \"MLP\", \"fps-comp\": 89281.44142, \"top1\": \"97.95\", \"type\": \"predicted\"}, {\"hardw_datatype_net_prun\": \"TX2-maxq_FP16_MLP_12.5\", \"hardw\": \"TX2-maxq\", \"network\": \"MLP\", \"fps-comp\": 89281.44142, \"top1\": \"97.95\", \"type\": \"predicted\"}, {\"hardw_datatype_net_prun\": \"NCS_FP16_MLP_12.5\", \"hardw\": \"NCS\", \"network\": \"MLP\", \"fps-comp\": 19142.4196, \"top1\": \"97.95\", \"type\": \"predicted\"}, {\"hardw_datatype_net_prun\": \"TX2-maxn_FP32_MLP_100\", \"hardw\": \"TX2-maxn\", \"network\": \"MLP\", \"fps-comp\": 1492.5, \"top1\": \"97.31\", \"type\": \"predicted\"}, {\"hardw_datatype_net_prun\": \"TX2-maxp_FP32_MLP_100\", \"hardw\": \"TX2-maxp\", \"network\": \"MLP\", \"fps-comp\": 1492.5, \"top1\": \"97.31\", \"type\": \"predicted\"}, {\"hardw_datatype_net_prun\": \"TX2-maxq_FP32_MLP_100\", \"hardw\": \"TX2-maxq\", \"network\": \"MLP\", \"fps-comp\": 1492.5, \"top1\": \"97.31\", \"type\": \"predicted\"}, {\"hardw_datatype_net_prun\": \"TX2-maxn_FP32_MLP_50\", \"hardw\": \"TX2-maxn\", \"network\": \"MLP\", \"fps-comp\": 4975.0, \"top1\": \"97.46\", \"type\": \"predicted\"}, {\"hardw_datatype_net_prun\": \"TX2-maxp_FP32_MLP_50\", \"hardw\": \"TX2-maxp\", \"network\": \"MLP\", \"fps-comp\": 4975.0, \"top1\": \"97.46\", \"type\": \"predicted\"}, {\"hardw_datatype_net_prun\": \"TX2-maxq_FP32_MLP_50\", \"hardw\": \"TX2-maxq\", \"network\": \"MLP\", \"fps-comp\": 4975.0, \"top1\": \"97.46\", \"type\": \"predicted\"}, {\"hardw_datatype_net_prun\": \"TX2-maxn_FP32_MLP_25\", \"hardw\": \"TX2-maxn\", \"network\": \"MLP\", \"fps-comp\": 14925.0, \"top1\": \"97.44\", \"type\": \"predicted\"}, {\"hardw_datatype_net_prun\": \"TX2-maxp_FP32_MLP_25\", \"hardw\": \"TX2-maxp\", \"network\": \"MLP\", \"fps-comp\": 14925.0, \"top1\": \"97.44\", \"type\": \"predicted\"}, {\"hardw_datatype_net_prun\": \"TX2-maxq_FP32_MLP_25\", \"hardw\": \"TX2-maxq\", \"network\": \"MLP\", \"fps-comp\": 14925.0, \"top1\": \"97.44\", \"type\": \"predicted\"}, {\"hardw_datatype_net_prun\": \"TX2-maxn_FP32_MLP_12.5\", \"hardw\": \"TX2-maxn\", \"network\": \"MLP\", \"fps-comp\": 44640.72071, \"top1\": \"97.15\", \"type\": \"predicted\"}, {\"hardw_datatype_net_prun\": \"TX2-maxp_FP32_MLP_12.5\", \"hardw\": \"TX2-maxp\", \"network\": \"MLP\", \"fps-comp\": 44640.72071, \"top1\": \"97.15\", \"type\": \"predicted\"}, {\"hardw_datatype_net_prun\": \"TX2-maxq_FP32_MLP_12.5\", \"hardw\": \"TX2-maxq\", \"network\": \"MLP\", \"fps-comp\": 44640.72071, \"top1\": \"97.15\", \"type\": \"predicted\"}], \"data-cbc69d3c80f54c2420bfdac935848113\": [{\"x\": 3840.0, \"y\": \"98.77\", \"group\": \"ZCU104-FINN_INT4_MLP_100\"}, {\"x\": 7680.0, \"y\": \"98.75\", \"group\": \"ZCU104-BISMO_INT2_MLP_100\"}, {\"x\": 12800.0, \"y\": \"98.62\", \"group\": \"ZCU104-FINN_INT4_MLP_50\"}, {\"x\": 25600.0, \"y\": \"98.49\", \"group\": \"ZCU104-BISMO_INT2_MLP_50\"}, {\"x\": 38400.0, \"y\": \"98.29\", \"group\": \"ZCU104-BISMO_INT4_MLP_25\"}, {\"x\": 76800.0, \"y\": \"98.04\", \"group\": \"ZCU104-BISMO_INT2_MLP_25\"}, {\"x\": 89281.44142, \"y\": \"97.95\", \"group\": \"TX2-maxp_FP16_MLP_12.5\"}, {\"x\": 114854.5176, \"y\": \"97.54\", \"group\": \"ZCU104-FINN_INT4_MLP_12.5\"}, {\"x\": 229709.0352, \"y\": \"96.85\", \"group\": \"ZCU104-BISMO_INT2_MLP_12.5\"}]}}, {\"mode\": \"vega-lite\"});\n",
       "</script>"
      ],
      "text/plain": [
       "alt.LayerChart(...)"
      ]
     },
     "execution_count": 13,
     "metadata": {},
     "output_type": "execute_result"
    }
   ],
   "source": [
    "#hide_input\n",
    "%run scripts/overlapped_pareto.py\n",
    "theor_pareto(net_keyword='mnist', title= 'Theoretical Pareto for MNIST')"
   ]
  },
  {
   "cell_type": "markdown",
   "metadata": {},
   "source": [
    "### ImageNet"
   ]
  },
  {
   "cell_type": "code",
   "execution_count": 14,
   "metadata": {},
   "outputs": [
    {
     "data": {
      "text/html": [
       "\n",
       "<div id=\"altair-viz-2f8f7e3077394904985fbd6fde20a772\"></div>\n",
       "<script type=\"text/javascript\">\n",
       "  (function(spec, embedOpt){\n",
       "    const outputDiv = document.getElementById(\"altair-viz-2f8f7e3077394904985fbd6fde20a772\");\n",
       "    const paths = {\n",
       "      \"vega\": \"https://cdn.jsdelivr.net/npm//vega@5?noext\",\n",
       "      \"vega-lib\": \"https://cdn.jsdelivr.net/npm//vega-lib?noext\",\n",
       "      \"vega-lite\": \"https://cdn.jsdelivr.net/npm//vega-lite@4.0.2?noext\",\n",
       "      \"vega-embed\": \"https://cdn.jsdelivr.net/npm//vega-embed@6?noext\",\n",
       "    };\n",
       "\n",
       "    function loadScript(lib) {\n",
       "      return new Promise(function(resolve, reject) {\n",
       "        var s = document.createElement('script');\n",
       "        s.src = paths[lib];\n",
       "        s.async = true;\n",
       "        s.onload = () => resolve(paths[lib]);\n",
       "        s.onerror = () => reject(`Error loading script: ${paths[lib]}`);\n",
       "        document.getElementsByTagName(\"head\")[0].appendChild(s);\n",
       "      });\n",
       "    }\n",
       "\n",
       "    function showError(err) {\n",
       "      outputDiv.innerHTML = `<div class=\"error\" style=\"color:red;\">${err}</div>`;\n",
       "      throw err;\n",
       "    }\n",
       "\n",
       "    function displayChart(vegaEmbed) {\n",
       "      vegaEmbed(outputDiv, spec, embedOpt)\n",
       "        .catch(err => showError(`Javascript Error: ${err.message}<br>This usually means there's a typo in your chart specification. See the javascript console for the full traceback.`));\n",
       "    }\n",
       "\n",
       "    if(typeof define === \"function\" && define.amd) {\n",
       "      requirejs.config({paths});\n",
       "      require([\"vega-embed\"], displayChart, err => showError(`Error loading script: ${err.message}`));\n",
       "    } else if (typeof vegaEmbed === \"function\") {\n",
       "      displayChart(vegaEmbed);\n",
       "    } else {\n",
       "      loadScript(\"vega\")\n",
       "        .then(() => loadScript(\"vega-lite\"))\n",
       "        .then(() => loadScript(\"vega-embed\"))\n",
       "        .catch(showError)\n",
       "        .then(() => displayChart(vegaEmbed));\n",
       "    }\n",
       "  })({\"config\": {\"view\": {\"continuousWidth\": 400, \"continuousHeight\": 300}}, \"layer\": [{\"mark\": {\"type\": \"point\", \"filled\": true}, \"encoding\": {\"color\": {\"type\": \"nominal\", \"field\": \"hardw_datatype_net_prun\"}, \"tooltip\": [{\"type\": \"nominal\", \"field\": \"hardw_datatype_net_prun\"}, {\"type\": \"quantitative\", \"field\": \"fps-comp\"}, {\"type\": \"nominal\", \"field\": \"top1\"}], \"x\": {\"type\": \"quantitative\", \"field\": \"fps-comp\", \"scale\": {\"type\": \"log\"}}, \"y\": {\"type\": \"quantitative\", \"field\": \"top1\", \"scale\": {\"zero\": false}}}, \"height\": 624.0, \"selection\": {\"selector011\": {\"type\": \"interval\", \"bind\": \"scales\", \"encodings\": [\"x\", \"y\"]}}, \"title\": \"Theoretical Pareto for ImageNet\", \"width\": 600}, {\"mark\": {\"type\": \"text\", \"align\": \"left\", \"angle\": 325, \"baseline\": \"middle\", \"dx\": 7}, \"encoding\": {\"color\": {\"type\": \"nominal\", \"field\": \"hardw_datatype_net_prun\"}, \"text\": {\"type\": \"nominal\", \"field\": \"hardw\"}, \"tooltip\": [{\"type\": \"nominal\", \"field\": \"hardw_datatype_net_prun\"}, {\"type\": \"quantitative\", \"field\": \"fps-comp\"}, {\"type\": \"nominal\", \"field\": \"top1\"}], \"x\": {\"type\": \"quantitative\", \"field\": \"fps-comp\", \"scale\": {\"type\": \"log\"}}, \"y\": {\"type\": \"quantitative\", \"field\": \"top1\", \"scale\": {\"zero\": false}}}, \"height\": 624.0, \"title\": \"Theoretical Pareto for ImageNet\", \"width\": 600}, {\"data\": {\"name\": \"data-51fb11200defad865cc5bc0c41393302\"}, \"mark\": {\"type\": \"line\", \"point\": true}, \"encoding\": {\"color\": {\"value\": \"#FFA500\"}, \"tooltip\": [{\"type\": \"nominal\", \"field\": \"group\"}, {\"type\": \"quantitative\", \"field\": \"x\"}, {\"type\": \"nominal\", \"field\": \"y\"}], \"x\": {\"type\": \"quantitative\", \"field\": \"x\", \"scale\": {\"type\": \"log\"}}, \"y\": {\"type\": \"quantitative\", \"field\": \"y\", \"scale\": {\"zero\": false}}}, \"selection\": {\"selector010\": {\"type\": \"interval\", \"bind\": \"scales\", \"encodings\": [\"x\", \"y\"]}}}], \"data\": {\"name\": \"data-f4cfe0d48995c04400a447a9b9533f5e\"}, \"$schema\": \"https://vega.github.io/schema/vega-lite/v4.0.2.json\", \"datasets\": {\"data-f4cfe0d48995c04400a447a9b9533f5e\": [{\"hardw_datatype_net_prun\": \"TPU-fast_INT8_MobileNetv1_100\", \"hardw\": \"TPU-fast\", \"network\": \"MobileNetv1\", \"fps-comp\": 3508.77193, \"top1\": \"69.57\", \"type\": \"predicted\"}, {\"hardw_datatype_net_prun\": \"TPU-slow_INT8_MobileNetv1_100\", \"hardw\": \"TPU-slow\", \"network\": \"MobileNetv1\", \"fps-comp\": 1754.385965, \"top1\": \"69.57\", \"type\": \"predicted\"}, {\"hardw_datatype_net_prun\": \"Ultra96-DPU_INT8_ResNet50_100\", \"hardw\": \"Ultra96-DPU\", \"network\": \"ResNet50\", \"fps-comp\": 124.3523316, \"top1\": \"73.29\", \"type\": \"predicted\"}, {\"hardw_datatype_net_prun\": \"ZCU104-DPU_INT8_ResNet50_100\", \"hardw\": \"ZCU104-DPU\", \"network\": \"ResNet50\", \"fps-comp\": 595.8549222999999, \"top1\": \"73.29\", \"type\": \"predicted\"}, {\"hardw_datatype_net_prun\": \"ZCU102-DPU_INT8_ResNet50_100\", \"hardw\": \"ZCU102-DPU\", \"network\": \"ResNet50\", \"fps-comp\": 752.853886, \"top1\": \"73.29\", \"type\": \"predicted\"}, {\"hardw_datatype_net_prun\": \"TPU-fast_INT8_ResNet50_100\", \"hardw\": \"TPU-fast\", \"network\": \"ResNet50\", \"fps-comp\": 518.134715, \"top1\": \"73.29\", \"type\": \"predicted\"}, {\"hardw_datatype_net_prun\": \"TPU-slow_INT8_ResNet50_100\", \"hardw\": \"TPU-slow\", \"network\": \"ResNet50\", \"fps-comp\": 259.0673575, \"top1\": \"73.29\", \"type\": \"predicted\"}, {\"hardw_datatype_net_prun\": \"Ultra96-DPU_INT8_ResNet50_80\", \"hardw\": \"Ultra96-DPU\", \"network\": \"ResNet50\", \"fps-comp\": 146.7889908, \"top1\": \"73.30\", \"type\": \"predicted\"}, {\"hardw_datatype_net_prun\": \"ZCU104-DPU_INT8_ResNet50_80\", \"hardw\": \"ZCU104-DPU\", \"network\": \"ResNet50\", \"fps-comp\": 703.3639143999999, \"top1\": \"73.30\", \"type\": \"predicted\"}, {\"hardw_datatype_net_prun\": \"ZCU102-DPU_INT8_ResNet50_80\", \"hardw\": \"ZCU102-DPU\", \"network\": \"ResNet50\", \"fps-comp\": 797.5045872000002, \"top1\": \"73.30\", \"type\": \"predicted\"}, {\"hardw_datatype_net_prun\": \"Ultra96-DPU_INT8_ResNet50_50\", \"hardw\": \"Ultra96-DPU\", \"network\": \"ResNet50\", \"fps-comp\": 256.0, \"top1\": \"69.49\", \"type\": \"predicted\"}, {\"hardw_datatype_net_prun\": \"ZCU104-DPU_INT8_ResNet50_50\", \"hardw\": \"ZCU104-DPU\", \"network\": \"ResNet50\", \"fps-comp\": 1215.7952, \"top1\": \"69.49\", \"type\": \"predicted\"}, {\"hardw_datatype_net_prun\": \"ZCU102-DPU_INT8_ResNet50_50\", \"hardw\": \"ZCU102-DPU\", \"network\": \"ResNet50\", \"fps-comp\": 1215.7952, \"top1\": \"69.49\", \"type\": \"predicted\"}, {\"hardw_datatype_net_prun\": \"Ultra96-DPU_INT8_ResNet50_30\", \"hardw\": \"Ultra96-DPU\", \"network\": \"ResNet50\", \"fps-comp\": 391.8367347, \"top1\": \"68.83\", \"type\": \"predicted\"}, {\"hardw_datatype_net_prun\": \"ZCU104-DPU_INT8_ResNet50_30\", \"hardw\": \"ZCU104-DPU\", \"network\": \"ResNet50\", \"fps-comp\": 1877.55102, \"top1\": \"68.83\", \"type\": \"predicted\"}, {\"hardw_datatype_net_prun\": \"ZCU102-DPU_INT8_ResNet50_30\", \"hardw\": \"ZCU102-DPU\", \"network\": \"ResNet50\", \"fps-comp\": 1900.721633, \"top1\": \"68.83\", \"type\": \"predicted\"}, {\"hardw_datatype_net_prun\": \"TX2-maxn_FP16_ResNet50_100\", \"hardw\": \"TX2-maxn\", \"network\": \"ResNet50\", \"fps-comp\": 172.2797927, \"top1\": \"75.14\", \"type\": \"predicted\"}, {\"hardw_datatype_net_prun\": \"TX2-maxp_FP16_ResNet50_100\", \"hardw\": \"TX2-maxp\", \"network\": \"ResNet50\", \"fps-comp\": 148.9637306, \"top1\": \"75.14\", \"type\": \"predicted\"}, {\"hardw_datatype_net_prun\": \"TX2-maxq_FP16_ResNet50_100\", \"hardw\": \"TX2-maxq\", \"network\": \"ResNet50\", \"fps-comp\": 112.69430049999998, \"top1\": \"75.14\", \"type\": \"predicted\"}, {\"hardw_datatype_net_prun\": \"NCS_FP16_ResNet50_100\", \"hardw\": \"NCS\", \"network\": \"ResNet50\", \"fps-comp\": 64.76683938, \"top1\": \"75.14\", \"type\": \"predicted\"}, {\"hardw_datatype_net_prun\": \"TX2-maxn_FP32_ResNet50_100\", \"hardw\": \"TX2-maxn\", \"network\": \"ResNet50\", \"fps-comp\": 86.78756477, \"top1\": \"75.15\", \"type\": \"predicted\"}, {\"hardw_datatype_net_prun\": \"TX2-maxp_FP32_ResNet50_100\", \"hardw\": \"TX2-maxp\", \"network\": \"ResNet50\", \"fps-comp\": 73.83419689, \"top1\": \"75.15\", \"type\": \"predicted\"}, {\"hardw_datatype_net_prun\": \"TX2-maxq_FP32_ResNet50_100\", \"hardw\": \"TX2-maxq\", \"network\": \"ResNet50\", \"fps-comp\": 56.99481865, \"top1\": \"75.15\", \"type\": \"predicted\"}], \"data-51fb11200defad865cc5bc0c41393302\": [{\"x\": 56.99481865, \"y\": \"75.15\", \"group\": \"TX2-maxq_FP32_ResNet50_100\"}, {\"x\": 86.78756477, \"y\": \"75.15\", \"group\": \"TX2-maxn_FP32_ResNet50_100\"}, {\"x\": 112.69430049999998, \"y\": \"75.14\", \"group\": \"TX2-maxq_FP16_ResNet50_100\"}, {\"x\": 172.2797927, \"y\": \"75.14\", \"group\": \"TX2-maxn_FP16_ResNet50_100\"}, {\"x\": 797.5045872000002, \"y\": \"73.30\", \"group\": \"ZCU102-DPU_INT8_ResNet50_80\"}, {\"x\": 3508.77193, \"y\": \"69.57\", \"group\": \"TPU-fast_INT8_MobileNetv1_100\"}]}}, {\"mode\": \"vega-lite\"});\n",
       "</script>"
      ],
      "text/plain": [
       "alt.LayerChart(...)"
      ]
     },
     "execution_count": 14,
     "metadata": {},
     "output_type": "execute_result"
    }
   ],
   "source": [
    "#hide_input\n",
    "%run scripts/overlapped_pareto.py\n",
    "theor_pareto(net_keyword='imagenet', title= 'Theoretical Pareto for ImageNet')"
   ]
  },
  {
   "cell_type": "markdown",
   "metadata": {},
   "source": [
    "### CIFAR-10"
   ]
  },
  {
   "cell_type": "code",
   "execution_count": 15,
   "metadata": {},
   "outputs": [
    {
     "data": {
      "text/html": [
       "\n",
       "<div id=\"altair-viz-360dac5e2c09454b8b1a4d17d39d53f7\"></div>\n",
       "<script type=\"text/javascript\">\n",
       "  (function(spec, embedOpt){\n",
       "    const outputDiv = document.getElementById(\"altair-viz-360dac5e2c09454b8b1a4d17d39d53f7\");\n",
       "    const paths = {\n",
       "      \"vega\": \"https://cdn.jsdelivr.net/npm//vega@5?noext\",\n",
       "      \"vega-lib\": \"https://cdn.jsdelivr.net/npm//vega-lib?noext\",\n",
       "      \"vega-lite\": \"https://cdn.jsdelivr.net/npm//vega-lite@4.0.2?noext\",\n",
       "      \"vega-embed\": \"https://cdn.jsdelivr.net/npm//vega-embed@6?noext\",\n",
       "    };\n",
       "\n",
       "    function loadScript(lib) {\n",
       "      return new Promise(function(resolve, reject) {\n",
       "        var s = document.createElement('script');\n",
       "        s.src = paths[lib];\n",
       "        s.async = true;\n",
       "        s.onload = () => resolve(paths[lib]);\n",
       "        s.onerror = () => reject(`Error loading script: ${paths[lib]}`);\n",
       "        document.getElementsByTagName(\"head\")[0].appendChild(s);\n",
       "      });\n",
       "    }\n",
       "\n",
       "    function showError(err) {\n",
       "      outputDiv.innerHTML = `<div class=\"error\" style=\"color:red;\">${err}</div>`;\n",
       "      throw err;\n",
       "    }\n",
       "\n",
       "    function displayChart(vegaEmbed) {\n",
       "      vegaEmbed(outputDiv, spec, embedOpt)\n",
       "        .catch(err => showError(`Javascript Error: ${err.message}<br>This usually means there's a typo in your chart specification. See the javascript console for the full traceback.`));\n",
       "    }\n",
       "\n",
       "    if(typeof define === \"function\" && define.amd) {\n",
       "      requirejs.config({paths});\n",
       "      require([\"vega-embed\"], displayChart, err => showError(`Error loading script: ${err.message}`));\n",
       "    } else if (typeof vegaEmbed === \"function\") {\n",
       "      displayChart(vegaEmbed);\n",
       "    } else {\n",
       "      loadScript(\"vega\")\n",
       "        .then(() => loadScript(\"vega-lite\"))\n",
       "        .then(() => loadScript(\"vega-embed\"))\n",
       "        .catch(showError)\n",
       "        .then(() => displayChart(vegaEmbed));\n",
       "    }\n",
       "  })({\"config\": {\"view\": {\"continuousWidth\": 400, \"continuousHeight\": 300}}, \"layer\": [{\"mark\": {\"type\": \"point\", \"filled\": true}, \"encoding\": {\"color\": {\"type\": \"nominal\", \"field\": \"hardw_datatype_net_prun\"}, \"tooltip\": [{\"type\": \"nominal\", \"field\": \"hardw_datatype_net_prun\"}, {\"type\": \"quantitative\", \"field\": \"fps-comp\"}, {\"type\": \"nominal\", \"field\": \"top1\"}], \"x\": {\"type\": \"quantitative\", \"field\": \"fps-comp\", \"scale\": {\"type\": \"log\"}}, \"y\": {\"type\": \"quantitative\", \"field\": \"top1\", \"scale\": {\"zero\": false}}}, \"height\": 624.0, \"selection\": {\"selector013\": {\"type\": \"interval\", \"bind\": \"scales\", \"encodings\": [\"x\", \"y\"]}}, \"title\": \"Theoretical Pareto for CIFAR-10\", \"width\": 600}, {\"mark\": {\"type\": \"text\", \"align\": \"left\", \"angle\": 325, \"baseline\": \"middle\", \"dx\": 7}, \"encoding\": {\"color\": {\"type\": \"nominal\", \"field\": \"hardw_datatype_net_prun\"}, \"text\": {\"type\": \"nominal\", \"field\": \"hardw\"}, \"tooltip\": [{\"type\": \"nominal\", \"field\": \"hardw_datatype_net_prun\"}, {\"type\": \"quantitative\", \"field\": \"fps-comp\"}, {\"type\": \"nominal\", \"field\": \"top1\"}], \"x\": {\"type\": \"quantitative\", \"field\": \"fps-comp\", \"scale\": {\"type\": \"log\"}}, \"y\": {\"type\": \"quantitative\", \"field\": \"top1\", \"scale\": {\"zero\": false}}}, \"height\": 624.0, \"title\": \"Theoretical Pareto for CIFAR-10\", \"width\": 600}, {\"data\": {\"name\": \"data-85249afbbbe4feaf5a5913b704fa56b0\"}, \"mark\": {\"type\": \"line\", \"point\": true}, \"encoding\": {\"color\": {\"value\": \"#FFA500\"}, \"tooltip\": [{\"type\": \"nominal\", \"field\": \"group\"}, {\"type\": \"quantitative\", \"field\": \"x\"}, {\"type\": \"nominal\", \"field\": \"y\"}], \"x\": {\"type\": \"quantitative\", \"field\": \"x\", \"scale\": {\"type\": \"log\"}}, \"y\": {\"type\": \"quantitative\", \"field\": \"y\", \"scale\": {\"zero\": false}}}, \"selection\": {\"selector012\": {\"type\": \"interval\", \"bind\": \"scales\", \"encodings\": [\"x\", \"y\"]}}}], \"data\": {\"name\": \"data-c228a20e898fd3076a243438f27881a5\"}, \"$schema\": \"https://vega.github.io/schema/vega-lite/v4.0.2.json\", \"datasets\": {\"data-c228a20e898fd3076a243438f27881a5\": [{\"hardw_datatype_net_prun\": \"ZCU104-FINN_INT2_CNV_100\", \"hardw\": \"ZCU104-FINN\", \"network\": \"CNV\", \"fps-comp\": 12457.94043, \"top1\": \"86.86\", \"type\": \"predicted\"}, {\"hardw_datatype_net_prun\": \"ZCU104-BISMO_INT2_CNV_100\", \"hardw\": \"ZCU104-BISMO\", \"network\": \"CNV\", \"fps-comp\": 12457.94043, \"top1\": \"86.86\", \"type\": \"predicted\"}, {\"hardw_datatype_net_prun\": \"U96-Quadcore A53_INT2_CNV_100\", \"hardw\": \"U96-Quadcore A53\", \"network\": \"CNV\", \"fps-comp\": 408.5106383, \"top1\": \"86.86\", \"type\": \"predicted\"}, {\"hardw_datatype_net_prun\": \"ZCU104-FINN_INT2_CNV_50\", \"hardw\": \"ZCU104-FINN\", \"network\": \"CNV\", \"fps-comp\": 49331.2, \"top1\": \"84.29\", \"type\": \"predicted\"}, {\"hardw_datatype_net_prun\": \"ZCU104-BISMO_INT2_CNV_50\", \"hardw\": \"ZCU104-BISMO\", \"network\": \"CNV\", \"fps-comp\": 49331.2, \"top1\": \"84.29\", \"type\": \"predicted\"}, {\"hardw_datatype_net_prun\": \"U96-Quadcore A53_INT2_CNV_50\", \"hardw\": \"U96-Quadcore A53\", \"network\": \"CNV\", \"fps-comp\": 1600.0, \"top1\": \"84.29\", \"type\": \"predicted\"}, {\"hardw_datatype_net_prun\": \"ZCU104-FINN_INT2_CNV_25\", \"hardw\": \"ZCU104-FINN\", \"network\": \"CNV\", \"fps-comp\": 201600.0, \"top1\": \"79.89\", \"type\": \"predicted\"}, {\"hardw_datatype_net_prun\": \"ZCU104-BISMO_INT2_CNV_25\", \"hardw\": \"ZCU104-BISMO\", \"network\": \"CNV\", \"fps-comp\": 201600.0, \"top1\": \"79.89\", \"type\": \"predicted\"}, {\"hardw_datatype_net_prun\": \"U96-Quadcore A53_INT2_CNV_25\", \"hardw\": \"U96-Quadcore A53\", \"network\": \"CNV\", \"fps-comp\": 6400.0, \"top1\": \"79.89\", \"type\": \"predicted\"}, {\"hardw_datatype_net_prun\": \"ZCU104-FINN_INT2_CNV_12.5\", \"hardw\": \"ZCU104-FINN\", \"network\": \"CNV\", \"fps-comp\": 638592.0, \"top1\": \"73.64\", \"type\": \"predicted\"}, {\"hardw_datatype_net_prun\": \"ZCU104-BISMO_INT2_CNV_12.5\", \"hardw\": \"ZCU104-BISMO\", \"network\": \"CNV\", \"fps-comp\": 638592.0, \"top1\": \"73.64\", \"type\": \"predicted\"}, {\"hardw_datatype_net_prun\": \"U96-Quadcore A53_INT2_CNV_12.5\", \"hardw\": \"U96-Quadcore A53\", \"network\": \"CNV\", \"fps-comp\": 19200.0, \"top1\": \"73.64\", \"type\": \"predicted\"}, {\"hardw_datatype_net_prun\": \"ZCU104-FINN_INT4_CNV_100\", \"hardw\": \"ZCU104-FINN\", \"network\": \"CNV\", \"fps-comp\": 6228.970213000001, \"top1\": \"87.4\", \"type\": \"predicted\"}, {\"hardw_datatype_net_prun\": \"ZCU104-BISMO_INT4_CNV_100\", \"hardw\": \"ZCU104-BISMO\", \"network\": \"CNV\", \"fps-comp\": 6228.970213000001, \"top1\": \"87.4\", \"type\": \"predicted\"}, {\"hardw_datatype_net_prun\": \"U96-Quadcore A53_INT4_CNV_100\", \"hardw\": \"U96-Quadcore A53\", \"network\": \"CNV\", \"fps-comp\": 408.5106383, \"top1\": \"87.4\", \"type\": \"predicted\"}, {\"hardw_datatype_net_prun\": \"ZCU104-FINN_INT4_CNV_50\", \"hardw\": \"ZCU104-FINN\", \"network\": \"CNV\", \"fps-comp\": 24665.6, \"top1\": \"84.88\", \"type\": \"predicted\"}, {\"hardw_datatype_net_prun\": \"ZCU104-BISMO_INT4_CNV_50\", \"hardw\": \"ZCU104-BISMO\", \"network\": \"CNV\", \"fps-comp\": 24665.6, \"top1\": \"84.88\", \"type\": \"predicted\"}, {\"hardw_datatype_net_prun\": \"U96-Quadcore A53_INT4_CNV_50\", \"hardw\": \"U96-Quadcore A53\", \"network\": \"CNV\", \"fps-comp\": 1600.0, \"top1\": \"84.88\", \"type\": \"predicted\"}, {\"hardw_datatype_net_prun\": \"ZCU104-FINN_INT4_CNV_25\", \"hardw\": \"ZCU104-FINN\", \"network\": \"CNV\", \"fps-comp\": 100800.0, \"top1\": \"81.09\", \"type\": \"predicted\"}, {\"hardw_datatype_net_prun\": \"ZCU104-BISMO_INT4_CNV_25\", \"hardw\": \"ZCU104-BISMO\", \"network\": \"CNV\", \"fps-comp\": 100800.0, \"top1\": \"81.09\", \"type\": \"predicted\"}, {\"hardw_datatype_net_prun\": \"U96-Quadcore A53_INT4_CNV_25\", \"hardw\": \"U96-Quadcore A53\", \"network\": \"CNV\", \"fps-comp\": 6400.0, \"top1\": \"81.09\", \"type\": \"predicted\"}, {\"hardw_datatype_net_prun\": \"ZCU104-FINN_INT4_CNV_12.5\", \"hardw\": \"ZCU104-FINN\", \"network\": \"CNV\", \"fps-comp\": 319296.0, \"top1\": \"75.85\", \"type\": \"predicted\"}, {\"hardw_datatype_net_prun\": \"ZCU104-BISMO_INT4_CNV_12.5\", \"hardw\": \"ZCU104-BISMO\", \"network\": \"CNV\", \"fps-comp\": 319296.0, \"top1\": \"75.85\", \"type\": \"predicted\"}, {\"hardw_datatype_net_prun\": \"U96-Quadcore A53_INT4_CNV_12.5\", \"hardw\": \"U96-Quadcore A53\", \"network\": \"CNV\", \"fps-comp\": 19200.0, \"top1\": \"75.85\", \"type\": \"predicted\"}, {\"hardw_datatype_net_prun\": \"TX2-maxn_FP16_CNV_100\", \"hardw\": \"TX2-maxn\", \"network\": \"CNV\", \"fps-comp\": 2829.787234, \"top1\": \"87.02\", \"type\": \"predicted\"}, {\"hardw_datatype_net_prun\": \"TX2-maxp_FP16_CNV_100\", \"hardw\": \"TX2-maxp\", \"network\": \"CNV\", \"fps-comp\": 2446.808511, \"top1\": \"87.02\", \"type\": \"predicted\"}, {\"hardw_datatype_net_prun\": \"TX2-maxq_FP16_CNV_100\", \"hardw\": \"TX2-maxq\", \"network\": \"CNV\", \"fps-comp\": 1851.06383, \"top1\": \"87.02\", \"type\": \"predicted\"}, {\"hardw_datatype_net_prun\": \"NCS_FP16_CNV_100\", \"hardw\": \"NCS\", \"network\": \"CNV\", \"fps-comp\": 1038.161702, \"top1\": \"87.02\", \"type\": \"predicted\"}, {\"hardw_datatype_net_prun\": \"U96-Quadcore A53_FP16_CNV_100\", \"hardw\": \"U96-Quadcore A53\", \"network\": \"CNV\", \"fps-comp\": 345.5131915, \"top1\": \"87.02\", \"type\": \"predicted\"}, {\"hardw_datatype_net_prun\": \"TX2-maxn_FP16_CNV_50\", \"hardw\": \"TX2-maxn\", \"network\": \"CNV\", \"fps-comp\": 11083.33333, \"top1\": \"85.55\", \"type\": \"predicted\"}, {\"hardw_datatype_net_prun\": \"TX2-maxp_FP16_CNV_50\", \"hardw\": \"TX2-maxp\", \"network\": \"CNV\", \"fps-comp\": 9583.333333, \"top1\": \"85.55\", \"type\": \"predicted\"}, {\"hardw_datatype_net_prun\": \"TX2-maxq_FP16_CNV_50\", \"hardw\": \"TX2-maxq\", \"network\": \"CNV\", \"fps-comp\": 7250.0, \"top1\": \"85.55\", \"type\": \"predicted\"}, {\"hardw_datatype_net_prun\": \"NCS_FP16_CNV_50\", \"hardw\": \"NCS\", \"network\": \"CNV\", \"fps-comp\": 4110.933333, \"top1\": \"85.55\", \"type\": \"predicted\"}, {\"hardw_datatype_net_prun\": \"U96-Quadcore A53_FP16_CNV_50\", \"hardw\": \"U96-Quadcore A53\", \"network\": \"CNV\", \"fps-comp\": 1368.17, \"top1\": \"85.55\", \"type\": \"predicted\"}, {\"hardw_datatype_net_prun\": \"TX2-maxn_FP16_CNV_25\", \"hardw\": \"TX2-maxn\", \"network\": \"CNV\", \"fps-comp\": 44333.33333, \"top1\": \"83.28\", \"type\": \"predicted\"}, {\"hardw_datatype_net_prun\": \"TX2-maxp_FP16_CNV_25\", \"hardw\": \"TX2-maxp\", \"network\": \"CNV\", \"fps-comp\": 38333.33333, \"top1\": \"83.28\", \"type\": \"predicted\"}, {\"hardw_datatype_net_prun\": \"TX2-maxq_FP16_CNV_25\", \"hardw\": \"TX2-maxq\", \"network\": \"CNV\", \"fps-comp\": 29000.0, \"top1\": \"83.28\", \"type\": \"predicted\"}, {\"hardw_datatype_net_prun\": \"NCS_FP16_CNV_25\", \"hardw\": \"NCS\", \"network\": \"CNV\", \"fps-comp\": 16666.66667, \"top1\": \"83.28\", \"type\": \"predicted\"}, {\"hardw_datatype_net_prun\": \"U96-Quadcore A53_FP16_CNV_25\", \"hardw\": \"U96-Quadcore A53\", \"network\": \"CNV\", \"fps-comp\": 5591.25, \"top1\": \"83.28\", \"type\": \"predicted\"}, {\"hardw_datatype_net_prun\": \"TX2-maxn_FP16_CNV_12.5\", \"hardw\": \"TX2-maxn\", \"network\": \"CNV\", \"fps-comp\": 133000.0, \"top1\": \"77.82\", \"type\": \"predicted\"}, {\"hardw_datatype_net_prun\": \"TX2-maxp_FP16_CNV_12.5\", \"hardw\": \"TX2-maxp\", \"network\": \"CNV\", \"fps-comp\": 115000.0, \"top1\": \"77.82\", \"type\": \"predicted\"}, {\"hardw_datatype_net_prun\": \"TX2-maxq_FP16_CNV_12.5\", \"hardw\": \"TX2-maxq\", \"network\": \"CNV\", \"fps-comp\": 87000.0, \"top1\": \"77.82\", \"type\": \"predicted\"}, {\"hardw_datatype_net_prun\": \"NCS_FP16_CNV_12.5\", \"hardw\": \"NCS\", \"network\": \"CNV\", \"fps-comp\": 50000.0, \"top1\": \"77.82\", \"type\": \"predicted\"}, {\"hardw_datatype_net_prun\": \"U96-Quadcore A53_FP16_CNV_12.5\", \"hardw\": \"U96-Quadcore A53\", \"network\": \"CNV\", \"fps-comp\": 17710.95, \"top1\": \"77.82\", \"type\": \"predicted\"}, {\"hardw_datatype_net_prun\": \"TX2-maxn_FP32_CNV_100\", \"hardw\": \"TX2-maxn\", \"network\": \"CNV\", \"fps-comp\": 1425.531915, \"top1\": \"87.06\", \"type\": \"predicted\"}, {\"hardw_datatype_net_prun\": \"TX2-maxp_FP32_CNV_100\", \"hardw\": \"TX2-maxp\", \"network\": \"CNV\", \"fps-comp\": 1212.765957, \"top1\": \"87.06\", \"type\": \"predicted\"}, {\"hardw_datatype_net_prun\": \"TX2-maxq_FP32_CNV_100\", \"hardw\": \"TX2-maxq\", \"network\": \"CNV\", \"fps-comp\": 936.1702127999997, \"top1\": \"87.06\", \"type\": \"predicted\"}, {\"hardw_datatype_net_prun\": \"U96-Quadcore A53_FP32_CNV_100\", \"hardw\": \"U96-Quadcore A53\", \"network\": \"CNV\", \"fps-comp\": 172.7565957, \"top1\": \"87.06\", \"type\": \"predicted\"}, {\"hardw_datatype_net_prun\": \"TX2-maxn_FP32_CNV_50\", \"hardw\": \"TX2-maxn\", \"network\": \"CNV\", \"fps-comp\": 5583.333333, \"top1\": \"85.6\", \"type\": \"predicted\"}, {\"hardw_datatype_net_prun\": \"TX2-maxp_FP32_CNV_50\", \"hardw\": \"TX2-maxp\", \"network\": \"CNV\", \"fps-comp\": 4750.0, \"top1\": \"85.6\", \"type\": \"predicted\"}, {\"hardw_datatype_net_prun\": \"TX2-maxq_FP32_CNV_50\", \"hardw\": \"TX2-maxq\", \"network\": \"CNV\", \"fps-comp\": 3666.666667, \"top1\": \"85.6\", \"type\": \"predicted\"}, {\"hardw_datatype_net_prun\": \"U96-Quadcore A53_FP32_CNV_50\", \"hardw\": \"U96-Quadcore A53\", \"network\": \"CNV\", \"fps-comp\": 684.085, \"top1\": \"85.6\", \"type\": \"predicted\"}, {\"hardw_datatype_net_prun\": \"TX2-maxn_FP32_CNV_25\", \"hardw\": \"TX2-maxn\", \"network\": \"CNV\", \"fps-comp\": 22333.33333, \"top1\": \"83.25\", \"type\": \"predicted\"}, {\"hardw_datatype_net_prun\": \"TX2-maxp_FP32_CNV_25\", \"hardw\": \"TX2-maxp\", \"network\": \"CNV\", \"fps-comp\": 19000.0, \"top1\": \"83.25\", \"type\": \"predicted\"}, {\"hardw_datatype_net_prun\": \"TX2-maxq_FP32_CNV_25\", \"hardw\": \"TX2-maxq\", \"network\": \"CNV\", \"fps-comp\": 14666.66667, \"top1\": \"83.25\", \"type\": \"predicted\"}, {\"hardw_datatype_net_prun\": \"U96-Quadcore A53_FP32_CNV_25\", \"hardw\": \"U96-Quadcore A53\", \"network\": \"CNV\", \"fps-comp\": 2795.625, \"top1\": \"83.25\", \"type\": \"predicted\"}, {\"hardw_datatype_net_prun\": \"TX2-maxn_FP32_CNV_12.5\", \"hardw\": \"TX2-maxn\", \"network\": \"CNV\", \"fps-comp\": 67000.0, \"top1\": \"77.84\", \"type\": \"predicted\"}, {\"hardw_datatype_net_prun\": \"TX2-maxp_FP32_CNV_12.5\", \"hardw\": \"TX2-maxp\", \"network\": \"CNV\", \"fps-comp\": 57000.0, \"top1\": \"77.84\", \"type\": \"predicted\"}, {\"hardw_datatype_net_prun\": \"TX2-maxq_FP32_CNV_12.5\", \"hardw\": \"TX2-maxq\", \"network\": \"CNV\", \"fps-comp\": 44000.0, \"top1\": \"77.84\", \"type\": \"predicted\"}, {\"hardw_datatype_net_prun\": \"U96-Quadcore A53_FP32_CNV_12.5\", \"hardw\": \"U96-Quadcore A53\", \"network\": \"CNV\", \"fps-comp\": 8855.475, \"top1\": \"77.84\", \"type\": \"predicted\"}], \"data-85249afbbbe4feaf5a5913b704fa56b0\": [{\"x\": 6228.970213000001, \"y\": \"87.4\", \"group\": \"ZCU104-FINN_INT4_CNV_100\"}, {\"x\": 12457.94043, \"y\": \"86.86\", \"group\": \"ZCU104-BISMO_INT2_CNV_100\"}, {\"x\": 24665.6, \"y\": \"84.88\", \"group\": \"ZCU104-BISMO_INT4_CNV_50\"}, {\"x\": 49331.2, \"y\": \"84.29\", \"group\": \"ZCU104-FINN_INT2_CNV_50\"}, {\"x\": 100800.0, \"y\": \"81.09\", \"group\": \"ZCU104-FINN_INT4_CNV_25\"}, {\"x\": 201600.0, \"y\": \"79.89\", \"group\": \"ZCU104-BISMO_INT2_CNV_25\"}, {\"x\": 319296.0, \"y\": \"75.85\", \"group\": \"ZCU104-BISMO_INT4_CNV_12.5\"}, {\"x\": 638592.0, \"y\": \"73.64\", \"group\": \"ZCU104-FINN_INT2_CNV_12.5\"}]}}, {\"mode\": \"vega-lite\"});\n",
       "</script>"
      ],
      "text/plain": [
       "alt.LayerChart(...)"
      ]
     },
     "execution_count": 15,
     "metadata": {},
     "output_type": "execute_result"
    }
   ],
   "source": [
    "#hide_input\n",
    "%run scripts/overlapped_pareto.py\n",
    "theor_pareto(net_keyword='cifar', title= 'Theoretical Pareto for CIFAR-10')"
   ]
  },
  {
   "cell_type": "code",
   "execution_count": null,
   "metadata": {},
   "outputs": [],
   "source": []
  },
  {
   "cell_type": "code",
   "execution_count": null,
   "metadata": {},
   "outputs": [],
   "source": []
  }
 ],
 "metadata": {
  "celltoolbar": "Raw Cell Format",
  "kernelspec": {
   "display_name": "Python 3",
   "language": "python",
   "name": "python3"
  },
  "language_info": {
   "codemirror_mode": {
    "name": "ipython",
    "version": 3
   },
   "file_extension": ".py",
   "mimetype": "text/x-python",
   "name": "python",
   "nbconvert_exporter": "python",
   "pygments_lexer": "ipython3",
   "version": "3.7.4"
  }
 },
 "nbformat": 4,
 "nbformat_minor": 4
}
